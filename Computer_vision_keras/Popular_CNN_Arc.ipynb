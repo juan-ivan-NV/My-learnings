{
  "nbformat": 4,
  "nbformat_minor": 0,
  "metadata": {
    "colab": {
      "name": "Popular_CNN_Arc.ipynb",
      "provenance": []
    },
    "kernelspec": {
      "name": "python3",
      "display_name": "Python 3"
    },
    "language_info": {
      "name": "python"
    }
  },
  "cells": [
    {
      "cell_type": "markdown",
      "source": [
        "# Popular CNN Architectures\n",
        "\n",
        "The ImageNet Large Scale Visual Recognition Challenge or ILSVRC for short is an annual competition helped between 2010 and 2017 in wich challenge tasks use subsets of the ImageNet dataset\n",
        "\n",
        "Goals:\n",
        "\n",
        "* Promote the development of better computer vision techniques.\n",
        "* To benchmark the state of the art."
      ],
      "metadata": {
        "id": "F4FQwcdinUPs"
      }
    },
    {
      "cell_type": "markdown",
      "source": [
        "## LeNet-5\n",
        "\n",
        "Most popular CNN architecture Created by LeCunn in 1998\n",
        "\n",
        "<center>\n",
        "<img src='https://raw.githubusercontent.com/blurred-machine/Data-Science/master/Deep%20Learning%20SOTA/img/arch.jpg' />\n",
        "<figcaption>Parameters</figcaption></center>\n",
        "\n",
        "<center>\n",
        "<img src='https://www.datasciencecentral.com/wp-content/uploads/2021/10/1lvvWF48t7cyRWqct13eU0w.jpeg' />\n",
        "<figcaption>Structure</figcaption></center>"
      ],
      "metadata": {
        "id": "xvA_DVfZncXb"
      }
    },
    {
      "cell_type": "markdown",
      "source": [
        "## VGG16\n",
        "\n",
        "<center>\n",
        "<img src='https://www.googleapis.com/download/storage/v1/b/kaggle-forum-message-attachments/o/inbox%2F5066898%2Fd56c89bbad2c59261b7c51c160e3d7b7%2FVGG16_Summary-Table.jpg?generation=1598797630439321&alt=media' />\n",
        "<figcaption>Parameters</figcaption></center>\n",
        "\n",
        "<center>\n",
        "<img src='https://www.researchgate.net/profile/Max-Ferguson/publication/322512435/figure/fig3/AS:697390994567179@1543282378794/Fig-A1-The-standard-VGG-16-network-architecture-as-proposed-in-32-Note-that-only.png' />\n",
        "<figcaption>Structure</figcaption></center>"
      ],
      "metadata": {
        "id": "g1VuBPRXoU6h"
      }
    },
    {
      "cell_type": "code",
      "execution_count": null,
      "metadata": {
        "id": "qdjQmjwHnTlZ"
      },
      "outputs": [],
      "source": [
        ""
      ]
    }
  ]
}