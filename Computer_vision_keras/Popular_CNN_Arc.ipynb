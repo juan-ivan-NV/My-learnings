{
  "nbformat": 4,
  "nbformat_minor": 0,
  "metadata": {
    "colab": {
      "name": "Popular_CNN_Arc.ipynb",
      "provenance": []
    },
    "kernelspec": {
      "name": "python3",
      "display_name": "Python 3"
    },
    "language_info": {
      "name": "python"
    }
  },
  "cells": [
    {
      "cell_type": "markdown",
      "source": [
        "# Popular CNN Architectures\n",
        "\n",
        "The ImageNet Large Scale Visual Recognition Challenge or ILSVRC for short is an annual competition helped between 2010 and 2017 in wich challenge tasks use subsets of the ImageNet dataset\n",
        "\n",
        "Goals:\n",
        "\n",
        "* Promote the development of better computer vision techniques.\n",
        "* To benchmark the state of the art."
      ],
      "metadata": {
        "id": "F4FQwcdinUPs"
      }
    },
    {
      "cell_type": "markdown",
      "source": [
        "## LeNet-5\n",
        "\n",
        "Most popular CNN architecture Created by LeCunn in 1998\n",
        "\n",
        "<center>\n",
        "<img src='https://raw.githubusercontent.com/blurred-machine/Data-Science/master/Deep%20Learning%20SOTA/img/arch.jpg' />\n",
        "<figcaption>Parameters</figcaption></center>\n",
        "\n",
        "<center>\n",
        "<img src='https://www.datasciencecentral.com/wp-content/uploads/2021/10/1lvvWF48t7cyRWqct13eU0w.jpeg' />\n",
        "<figcaption>Structure</figcaption></center>"
      ],
      "metadata": {
        "id": "xvA_DVfZncXb"
      }
    },
    {
      "cell_type": "code",
      "execution_count": null,
      "metadata": {
        "id": "qdjQmjwHnTlZ"
      },
      "outputs": [],
      "source": [
        ""
      ]
    }
  ]
}