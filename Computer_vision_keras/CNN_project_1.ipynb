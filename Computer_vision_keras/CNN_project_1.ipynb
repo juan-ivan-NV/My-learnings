{
  "nbformat": 4,
  "nbformat_minor": 0,
  "metadata": {
    "colab": {
      "name": "CNN_project_1.ipynb",
      "provenance": []
    },
    "kernelspec": {
      "name": "python3",
      "display_name": "Python 3"
    },
    "language_info": {
      "name": "python"
    }
  },
  "cells": [
    {
      "cell_type": "markdown",
      "source": [
        "# Cats and dogs clasificator\n",
        "\n",
        "Details\n",
        "\n",
        "* Binary Classification problem\n",
        "* Colored Images\n",
        "* No Standard Dimension\n",
        "* Kaggle Dataset > https://drive.google.com/open?id=16AlwTDOeyFaiP3RPxKOk5s80IycK80X4\n",
        "* We will use subset of this data \n",
        "\n"
      ],
      "metadata": {
        "id": "BStM1dXkiLQQ"
      }
    },
    {
      "cell_type": "markdown",
      "source": [
        "Data\n",
        "\n",
        "Train (2000 images)\n",
        "*   class_a (1000 images)\n",
        "*   class_b (1000 images)\n",
        "---\n",
        "Valid\n",
        "*   class_a (500 images)\n",
        "*   class_b (500 images)\n",
        "---\n",
        "Test\n",
        "*   Test_folder (1000 images)\n"
      ],
      "metadata": {
        "id": "Q1qAj5j9jPlc"
      }
    },
    {
      "cell_type": "code",
      "execution_count": null,
      "metadata": {
        "id": "berNuMDqiBcK"
      },
      "outputs": [],
      "source": [
        "# libraries\n",
        "import numpy as np\n",
        "import pandas as pd\n",
        "%matplotlib inline\n",
        "import matplotlib as mpl\n",
        "import matplotlib.pyplot as plt\n",
        "import tensorflow as tf\n",
        "from tensorflow import keras"
      ]
    }
  ]
}