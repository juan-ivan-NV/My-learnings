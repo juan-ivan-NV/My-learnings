{
  "nbformat": 4,
  "nbformat_minor": 0,
  "metadata": {
    "colab": {
      "name": "CNN_project_1.ipynb",
      "provenance": []
    },
    "kernelspec": {
      "name": "python3",
      "display_name": "Python 3"
    },
    "language_info": {
      "name": "python"
    }
  },
  "cells": [
    {
      "cell_type": "markdown",
      "source": [
        "# Cats and dogs clasificator\n",
        "\n",
        "Details\n",
        "\n",
        "* Binary Classification problem\n",
        "* Colored Images\n",
        "* No Standard Dimension\n",
        "* Kaggle Dataset > https://drive.google.com/open?id=16AlwTDOeyFaiP3RPxKOk5s80IycK80X4\n",
        "* We will use subset of this data \n",
        "\n"
      ],
      "metadata": {
        "id": "BStM1dXkiLQQ"
      }
    },
    {
      "cell_type": "markdown",
      "source": [
        "Data\n",
        "\n",
        "Train (2000 images)\n",
        "*   class_a (1000 images)\n",
        "*   class_b (1000 images)\n",
        "---\n",
        "Valid\n",
        "*   class_a (500 images)\n",
        "*   class_b (500 images)\n",
        "---\n",
        "Test\n",
        "*   Test_folder (1000 images)\n"
      ],
      "metadata": {
        "id": "Q1qAj5j9jPlc"
      }
    },
    {
      "cell_type": "code",
      "execution_count": 12,
      "metadata": {
        "id": "berNuMDqiBcK"
      },
      "outputs": [],
      "source": [
        "# libraries\n",
        "import numpy as np\n",
        "import pandas as pd\n",
        "%matplotlib inline\n",
        "import matplotlib as mpl\n",
        "import matplotlib.pyplot as plt\n",
        "import tensorflow as tf\n",
        "from tensorflow import keras"
      ]
    },
    {
      "cell_type": "code",
      "source": [
        "# training directories\n",
        "train_dir = \"/content/drive/MyDrive/Colab Notebooks/cats_and_dogs_small/train\"\n",
        "validation_dir = \"/content/drive/MyDrive/Colab Notebooks/cats_and_dogs_small/validation\"\n",
        "test_dir = \"/content/drive/MyDrive/Colab Notebooks/cats_and_dogs_small/test\""
      ],
      "metadata": {
        "id": "TEfAm6kZlwlO"
      },
      "execution_count": 13,
      "outputs": []
    },
    {
      "cell_type": "markdown",
      "source": [
        "** Data preprocessing **\n",
        "* Read the picture files.\n",
        "* Decode the JPEG content to RGB grids of pixels.\n",
        "* Convert these into floating point tensors.\n",
        "* Rescale the pixel vales (between 0 and 255) to the [0, 1] interval."
      ],
      "metadata": {
        "id": "ix7npObVoqD3"
      }
    },
    {
      "cell_type": "code",
      "source": [
        "from tensorflow.keras.preprocessing.image import ImageDataGenerator"
      ],
      "metadata": {
        "id": "gsJERDNrlwr1"
      },
      "execution_count": 14,
      "outputs": []
    },
    {
      "cell_type": "code",
      "source": [
        "#Link : https://keras.io/preprocessing/image/"
      ],
      "metadata": {
        "id": "Nol8kdRJlwx2"
      },
      "execution_count": 15,
      "outputs": []
    },
    {
      "cell_type": "code",
      "source": [
        "# Generating batches of tensor image data\n",
        "train_datagen = ImageDataGenerator(rescale = 1./255)\n",
        "test_datagen = ImageDataGenerator(rescale = 1./255)\n",
        "\n",
        "train_generator = train_datagen.flow_from_directory(\n",
        "    train_dir,\n",
        "    target_size=(150, 150),\n",
        "    batch_size=20,\n",
        "    class_mode='binary')\n",
        "\n",
        "validation_generator = test_datagen.flow_from_directory(\n",
        "    train_dir,\n",
        "    target_size=(150, 150),\n",
        "    batch_size=20,\n",
        "    class_mode='binary')\n"
      ],
      "metadata": {
        "colab": {
          "base_uri": "https://localhost:8080/"
        },
        "id": "eXPIwd5wlw37",
        "outputId": "764d1b94-ae2c-4025-8443-b9ff7942a5ce"
      },
      "execution_count": 16,
      "outputs": [
        {
          "output_type": "stream",
          "name": "stdout",
          "text": [
            "Found 2002 images belonging to 2 classes.\n",
            "Found 2002 images belonging to 2 classes.\n"
          ]
        }
      ]
    },
    {
      "cell_type": "code",
      "source": [
        "from tensorflow.keras import layers\n",
        "from tensorflow.keras import models"
      ],
      "metadata": {
        "id": "fdB8CTBZqpWB"
      },
      "execution_count": 17,
      "outputs": []
    },
    {
      "cell_type": "code",
      "source": [
        "model = models.Sequential()\n",
        "\n",
        "model.add(layers.Conv2D(32, (3, 3), activation='relu',\n",
        "                        input_shape=(150, 150, 3)))\n",
        "\n",
        "model.add(layers.MaxPooling2D((2 ,2))) # After this step we will have images of 75 x 75\n",
        "\n",
        "model.add(layers.Conv2D(64, (3, 3), activation='relu'))\n",
        "model.add(layers.MaxPooling2D(2, 2))\n",
        "\n",
        "model.add(layers.Conv2D(128, (3, 3), activation='relu'))\n",
        "model.add(layers.MaxPooling2D(2, 2))\n",
        "\n",
        "model.add(layers.Conv2D(128, (3, 3), activation='relu'))\n",
        "model.add(layers.MaxPooling2D(2, 2))\n",
        "\n",
        "model.add(layers.Flatten())\n",
        "\n",
        "model.add(layers.Dense(512, activation='relu'))\n",
        "\n",
        "model.add(layers.Dense(1, activation='sigmoid'))"
      ],
      "metadata": {
        "id": "qhuvZ2slrFj7"
      },
      "execution_count": 18,
      "outputs": []
    },
    {
      "cell_type": "code",
      "source": [
        "model.summary()"
      ],
      "metadata": {
        "colab": {
          "base_uri": "https://localhost:8080/"
        },
        "id": "XSCMZYEPrFqk",
        "outputId": "ad6d3a4c-03ba-42b4-8d45-1cd08beafb17"
      },
      "execution_count": 19,
      "outputs": [
        {
          "output_type": "stream",
          "name": "stdout",
          "text": [
            "Model: \"sequential_1\"\n",
            "_________________________________________________________________\n",
            " Layer (type)                Output Shape              Param #   \n",
            "=================================================================\n",
            " conv2d_1 (Conv2D)           (None, 148, 148, 32)      896       \n",
            "                                                                 \n",
            " max_pooling2d_1 (MaxPooling  (None, 74, 74, 32)       0         \n",
            " 2D)                                                             \n",
            "                                                                 \n",
            " conv2d_2 (Conv2D)           (None, 72, 72, 64)        18496     \n",
            "                                                                 \n",
            " max_pooling2d_2 (MaxPooling  (None, 36, 36, 64)       0         \n",
            " 2D)                                                             \n",
            "                                                                 \n",
            " conv2d_3 (Conv2D)           (None, 34, 34, 128)       73856     \n",
            "                                                                 \n",
            " max_pooling2d_3 (MaxPooling  (None, 17, 17, 128)      0         \n",
            " 2D)                                                             \n",
            "                                                                 \n",
            " conv2d_4 (Conv2D)           (None, 15, 15, 128)       147584    \n",
            "                                                                 \n",
            " max_pooling2d_4 (MaxPooling  (None, 7, 7, 128)        0         \n",
            " 2D)                                                             \n",
            "                                                                 \n",
            " flatten (Flatten)           (None, 6272)              0         \n",
            "                                                                 \n",
            " dense (Dense)               (None, 512)               3211776   \n",
            "                                                                 \n",
            " dense_1 (Dense)             (None, 1)                 513       \n",
            "                                                                 \n",
            "=================================================================\n",
            "Total params: 3,453,121\n",
            "Trainable params: 3,453,121\n",
            "Non-trainable params: 0\n",
            "_________________________________________________________________\n"
          ]
        }
      ]
    },
    {
      "cell_type": "code",
      "source": [
        "from tensorflow.keras import optimizers\n",
        "\n",
        "model.compile(loss='binary_crossentropy',\n",
        "              optimizer=optimizers.RMSprop(lr=1e-4),\n",
        "              metrics=['acc'])"
      ],
      "metadata": {
        "colab": {
          "base_uri": "https://localhost:8080/"
        },
        "id": "9owwKSCxCtNv",
        "outputId": "7bfcc9a8-306f-458a-cedf-9347d5a82fe9"
      },
      "execution_count": 20,
      "outputs": [
        {
          "output_type": "stream",
          "name": "stderr",
          "text": [
            "/usr/local/lib/python3.7/dist-packages/keras/optimizer_v2/rmsprop.py:130: UserWarning: The `lr` argument is deprecated, use `learning_rate` instead.\n",
            "  super(RMSprop, self).__init__(name, **kwargs)\n"
          ]
        }
      ]
    },
    {
      "cell_type": "code",
      "source": [
        "history = model.fit_generator(\n",
        "    train_generator,\n",
        "    steps_per_epoch=100,\n",
        "    epochs=20,\n",
        "    validation_data=validation_generator,\n",
        "    validation_steps=50\n",
        ")"
      ],
      "metadata": {
        "colab": {
          "base_uri": "https://localhost:8080/"
        },
        "id": "Km8UWUB0CtTi",
        "outputId": "4f030875-9e25-4584-cbe0-4f9479c0e376"
      },
      "execution_count": null,
      "outputs": [
        {
          "output_type": "stream",
          "name": "stderr",
          "text": [
            "/usr/local/lib/python3.7/dist-packages/ipykernel_launcher.py:6: UserWarning: `Model.fit_generator` is deprecated and will be removed in a future version. Please use `Model.fit`, which supports generators.\n",
            "  \n"
          ]
        },
        {
          "output_type": "stream",
          "name": "stdout",
          "text": [
            "Epoch 1/20\n",
            "100/100 [==============================] - 1111s 11s/step - loss: 0.6915 - acc: 0.5288 - val_loss: 0.6771 - val_acc: 0.5640\n",
            "Epoch 2/20\n",
            "100/100 [==============================] - 111s 1s/step - loss: 0.6598 - acc: 0.6044 - val_loss: 0.6934 - val_acc: 0.5420\n",
            "Epoch 3/20\n",
            "100/100 [==============================] - 111s 1s/step - loss: 0.6135 - acc: 0.6569 - val_loss: 0.5781 - val_acc: 0.6810\n",
            "Epoch 4/20\n",
            "100/100 [==============================] - 112s 1s/step - loss: 0.5662 - acc: 0.7069 - val_loss: 0.5371 - val_acc: 0.7300\n",
            "Epoch 5/20\n",
            "100/100 [==============================] - 111s 1s/step - loss: 0.5433 - acc: 0.7230 - val_loss: 0.5592 - val_acc: 0.6920\n",
            "Epoch 6/20\n",
            "100/100 [==============================] - 111s 1s/step - loss: 0.5163 - acc: 0.7316 - val_loss: 0.5045 - val_acc: 0.7400\n",
            "Epoch 7/20\n",
            "100/100 [==============================] - 111s 1s/step - loss: 0.4992 - acc: 0.7538 - val_loss: 0.4976 - val_acc: 0.7450\n",
            "Epoch 8/20\n",
            "100/100 [==============================] - 111s 1s/step - loss: 0.4674 - acc: 0.7760 - val_loss: 0.6763 - val_acc: 0.6380\n",
            "Epoch 9/20\n",
            "100/100 [==============================] - 111s 1s/step - loss: 0.4399 - acc: 0.7921 - val_loss: 0.5588 - val_acc: 0.7120\n",
            "Epoch 10/20\n",
            "100/100 [==============================] - 111s 1s/step - loss: 0.4275 - acc: 0.8017 - val_loss: 0.3663 - val_acc: 0.8410\n",
            "Epoch 11/20\n",
            "100/100 [==============================] - 110s 1s/step - loss: 0.4000 - acc: 0.8169 - val_loss: 0.3316 - val_acc: 0.8720\n",
            "Epoch 12/20\n",
            "100/100 [==============================] - 111s 1s/step - loss: 0.3811 - acc: 0.8310 - val_loss: 0.3416 - val_acc: 0.8490\n",
            "Epoch 13/20\n",
            "100/100 [==============================] - 111s 1s/step - loss: 0.3497 - acc: 0.8431 - val_loss: 0.2778 - val_acc: 0.9040\n",
            "Epoch 14/20\n",
            "100/100 [==============================] - 110s 1s/step - loss: 0.3330 - acc: 0.8527 - val_loss: 0.2813 - val_acc: 0.8960\n",
            "Epoch 15/20\n",
            "100/100 [==============================] - 111s 1s/step - loss: 0.3096 - acc: 0.8703 - val_loss: 0.2984 - val_acc: 0.8580\n",
            "Epoch 16/20\n",
            "100/100 [==============================] - 112s 1s/step - loss: 0.2875 - acc: 0.8774 - val_loss: 0.2358 - val_acc: 0.9220\n",
            "Epoch 17/20\n",
            "100/100 [==============================] - 111s 1s/step - loss: 0.2586 - acc: 0.8961 - val_loss: 0.2243 - val_acc: 0.9110\n",
            "Epoch 18/20\n",
            "100/100 [==============================] - ETA: 0s - loss: 0.2486 - acc: 0.9016"
          ]
        }
      ]
    },
    {
      "cell_type": "code",
      "source": [
        "pd.DataFrame(history.history).plot(figsize=(8,5))\n",
        "plt.grid(True)\n",
        "plt.gca().set_ylim(0, 1)\n",
        "plt.show()"
      ],
      "metadata": {
        "id": "0dp5R5hNCtaO"
      },
      "execution_count": null,
      "outputs": []
    },
    {
      "cell_type": "code",
      "source": [
        "model.save(\"model.h5\")"
      ],
      "metadata": {
        "id": "sKI5D8juFub2"
      },
      "execution_count": null,
      "outputs": []
    },
    {
      "cell_type": "code",
      "source": [
        "from tensorflow.keras import backend as k\n",
        "\n",
        "k.clear_session()\n",
        "del model"
      ],
      "metadata": {
        "id": "mLqA6Fa4FujB"
      },
      "execution_count": null,
      "outputs": []
    }
  ]
}