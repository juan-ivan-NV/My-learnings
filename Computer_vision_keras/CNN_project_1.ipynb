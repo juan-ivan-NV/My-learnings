{
  "nbformat": 4,
  "nbformat_minor": 0,
  "metadata": {
    "colab": {
      "name": "CNN_project_1.ipynb",
      "provenance": []
    },
    "kernelspec": {
      "name": "python3",
      "display_name": "Python 3"
    },
    "language_info": {
      "name": "python"
    },
    "accelerator": "GPU"
  },
  "cells": [
    {
      "cell_type": "markdown",
      "source": [
        "# Cats and dogs clasificator\n",
        "\n",
        "Details\n",
        "\n",
        "* Binary Classification problem\n",
        "* Colored Images\n",
        "* No Standard Dimension\n",
        "* Kaggle Dataset > https://drive.google.com/open?id=16AlwTDOeyFaiP3RPxKOk5s80IycK80X4\n",
        "* We will use subset of this data \n",
        "\n"
      ],
      "metadata": {
        "id": "BStM1dXkiLQQ"
      }
    },
    {
      "cell_type": "markdown",
      "source": [
        "Data\n",
        "\n",
        "Train (2000 images)\n",
        "*   class_a (1000 images)\n",
        "*   class_b (1000 images)\n",
        "---\n",
        "Valid\n",
        "*   class_a (500 images)\n",
        "*   class_b (500 images)\n",
        "---\n",
        "Test\n",
        "*   Test_folder (1000 images)\n"
      ],
      "metadata": {
        "id": "Q1qAj5j9jPlc"
      }
    },
    {
      "cell_type": "code",
      "execution_count": 8,
      "metadata": {
        "id": "berNuMDqiBcK"
      },
      "outputs": [],
      "source": [
        "# libraries\n",
        "import numpy as np\n",
        "import pandas as pd\n",
        "%matplotlib inline\n",
        "import matplotlib as mpl\n",
        "import matplotlib.pyplot as plt\n",
        "import tensorflow as tf\n",
        "from tensorflow import keras"
      ]
    },
    {
      "cell_type": "code",
      "source": [
        "# training directories\n",
        "train_dir = \"/content/drive/MyDrive/Colab Notebooks/cats_and_dogs_small/train\"\n",
        "validation_dir = \"/content/drive/MyDrive/Colab Notebooks/cats_and_dogs_small/validation\"\n",
        "test_dir = \"/content/drive/MyDrive/Colab Notebooks/cats_and_dogs_small/test\""
      ],
      "metadata": {
        "id": "TEfAm6kZlwlO"
      },
      "execution_count": 9,
      "outputs": []
    },
    {
      "cell_type": "markdown",
      "source": [
        "** Data preprocessing **\n",
        "* Read the picture files.\n",
        "* Decode the JPEG content to RGB grids of pixels.\n",
        "* Convert these into floating point tensors.\n",
        "* Rescale the pixel vales (between 0 and 255) to the [0, 1] interval."
      ],
      "metadata": {
        "id": "ix7npObVoqD3"
      }
    },
    {
      "cell_type": "code",
      "source": [
        "from tensorflow.keras.preprocessing.image import ImageDataGenerator"
      ],
      "metadata": {
        "id": "gsJERDNrlwr1"
      },
      "execution_count": 10,
      "outputs": []
    },
    {
      "cell_type": "code",
      "source": [
        "#Link : https://keras.io/preprocessing/image/"
      ],
      "metadata": {
        "id": "Nol8kdRJlwx2"
      },
      "execution_count": 11,
      "outputs": []
    },
    {
      "cell_type": "code",
      "source": [
        "# Generating batches of tensor image data\n",
        "# train_datagen = ImageDataGenerator(rescale = 1./255)\n",
        "train_datagen = ImageDataGenerator(\n",
        "    rescale=1./255,\n",
        "    rotation_range=40, # to rotate the image ramdomly from 0 to 40\n",
        "    width_shift_range=0.2, # shear the image form left or richt by 20 percent\n",
        "    height_shift_range=0.2,\n",
        "    shear_range=0.2,\n",
        "    zoom_range=0.2,\n",
        "    horizontal_flip=True,)\n",
        "\n",
        "test_datagen = ImageDataGenerator(rescale = 1./255)\n",
        "\n",
        "train_generator = train_datagen.flow_from_directory(\n",
        "    train_dir,\n",
        "    target_size=(150, 150),\n",
        "    batch_size=20,\n",
        "    class_mode='binary')\n",
        "\n",
        "validation_generator = test_datagen.flow_from_directory(\n",
        "    train_dir,\n",
        "    target_size=(150, 150),\n",
        "    batch_size=20,\n",
        "    class_mode='binary')\n"
      ],
      "metadata": {
        "colab": {
          "base_uri": "https://localhost:8080/"
        },
        "id": "eXPIwd5wlw37",
        "outputId": "83ac8e0c-85c9-4fb7-dc2e-33e537a6a785"
      },
      "execution_count": 12,
      "outputs": [
        {
          "output_type": "stream",
          "name": "stdout",
          "text": [
            "Found 2002 images belonging to 2 classes.\n",
            "Found 2002 images belonging to 2 classes.\n"
          ]
        }
      ]
    },
    {
      "cell_type": "code",
      "source": [
        "from tensorflow.keras import layers\n",
        "from tensorflow.keras import models"
      ],
      "metadata": {
        "id": "fdB8CTBZqpWB"
      },
      "execution_count": 13,
      "outputs": []
    },
    {
      "cell_type": "code",
      "source": [
        "model = models.Sequential()\n",
        "\n",
        "model.add(layers.Conv2D(32, (3, 3), activation='relu',\n",
        "                        input_shape=(150, 150, 3)))\n",
        "\n",
        "model.add(layers.MaxPooling2D((2 ,2))) # After this step we will have images of 75 x 75\n",
        "\n",
        "model.add(layers.Conv2D(64, (3, 3), activation='relu'))\n",
        "model.add(layers.MaxPooling2D(2, 2))\n",
        "\n",
        "model.add(layers.Conv2D(128, (3, 3), activation='relu'))\n",
        "model.add(layers.MaxPooling2D(2, 2))\n",
        "\n",
        "model.add(layers.Conv2D(128, (3, 3), activation='relu'))\n",
        "model.add(layers.MaxPooling2D(2, 2))\n",
        "\n",
        "model.add(layers.Flatten())\n",
        "\n",
        "model.add(layers.Dropout(0.5))\n",
        "\n",
        "model.add(layers.Dense(512, activation='relu'))\n",
        "\n",
        "model.add(layers.Dense(1, activation='sigmoid'))"
      ],
      "metadata": {
        "id": "qhuvZ2slrFj7"
      },
      "execution_count": 14,
      "outputs": []
    },
    {
      "cell_type": "code",
      "source": [
        "model.summary()"
      ],
      "metadata": {
        "colab": {
          "base_uri": "https://localhost:8080/"
        },
        "id": "XSCMZYEPrFqk",
        "outputId": "b83010f5-b6fb-4702-c731-87ebdb0b5105"
      },
      "execution_count": 15,
      "outputs": [
        {
          "output_type": "stream",
          "name": "stdout",
          "text": [
            "Model: \"sequential_1\"\n",
            "_________________________________________________________________\n",
            " Layer (type)                Output Shape              Param #   \n",
            "=================================================================\n",
            " conv2d_4 (Conv2D)           (None, 148, 148, 32)      896       \n",
            "                                                                 \n",
            " max_pooling2d_4 (MaxPooling  (None, 74, 74, 32)       0         \n",
            " 2D)                                                             \n",
            "                                                                 \n",
            " conv2d_5 (Conv2D)           (None, 72, 72, 64)        18496     \n",
            "                                                                 \n",
            " max_pooling2d_5 (MaxPooling  (None, 36, 36, 64)       0         \n",
            " 2D)                                                             \n",
            "                                                                 \n",
            " conv2d_6 (Conv2D)           (None, 34, 34, 128)       73856     \n",
            "                                                                 \n",
            " max_pooling2d_6 (MaxPooling  (None, 17, 17, 128)      0         \n",
            " 2D)                                                             \n",
            "                                                                 \n",
            " conv2d_7 (Conv2D)           (None, 15, 15, 128)       147584    \n",
            "                                                                 \n",
            " max_pooling2d_7 (MaxPooling  (None, 7, 7, 128)        0         \n",
            " 2D)                                                             \n",
            "                                                                 \n",
            " flatten_1 (Flatten)         (None, 6272)              0         \n",
            "                                                                 \n",
            " dropout (Dropout)           (None, 6272)              0         \n",
            "                                                                 \n",
            " dense (Dense)               (None, 512)               3211776   \n",
            "                                                                 \n",
            " dense_1 (Dense)             (None, 1)                 513       \n",
            "                                                                 \n",
            "=================================================================\n",
            "Total params: 3,453,121\n",
            "Trainable params: 3,453,121\n",
            "Non-trainable params: 0\n",
            "_________________________________________________________________\n"
          ]
        }
      ]
    },
    {
      "cell_type": "code",
      "source": [
        "from tensorflow.keras import optimizers\n",
        "\n",
        "model.compile(loss='binary_crossentropy',\n",
        "              optimizer=optimizers.RMSprop(lr=1e-4),\n",
        "              metrics=['acc'])"
      ],
      "metadata": {
        "colab": {
          "base_uri": "https://localhost:8080/"
        },
        "id": "9owwKSCxCtNv",
        "outputId": "1cf601ff-9ecf-4ced-e648-e4b20baf6915"
      },
      "execution_count": 16,
      "outputs": [
        {
          "output_type": "stream",
          "name": "stderr",
          "text": [
            "/usr/local/lib/python3.7/dist-packages/keras/optimizer_v2/rmsprop.py:130: UserWarning: The `lr` argument is deprecated, use `learning_rate` instead.\n",
            "  super(RMSprop, self).__init__(name, **kwargs)\n"
          ]
        }
      ]
    },
    {
      "cell_type": "code",
      "source": [
        "history = model.fit_generator(\n",
        "    train_generator,\n",
        "    steps_per_epoch=100,\n",
        "    epochs=50,\n",
        "    validation_data=validation_generator,\n",
        "    validation_steps=50\n",
        ")"
      ],
      "metadata": {
        "colab": {
          "base_uri": "https://localhost:8080/"
        },
        "id": "Km8UWUB0CtTi",
        "outputId": "73041f0a-3169-4a39-fca9-1ba92349f171"
      },
      "execution_count": 17,
      "outputs": [
        {
          "output_type": "stream",
          "name": "stderr",
          "text": [
            "/usr/local/lib/python3.7/dist-packages/ipykernel_launcher.py:6: UserWarning: `Model.fit_generator` is deprecated and will be removed in a future version. Please use `Model.fit`, which supports generators.\n",
            "  \n"
          ]
        },
        {
          "output_type": "stream",
          "name": "stdout",
          "text": [
            "Epoch 1/50\n",
            "100/100 [==============================] - 220s 2s/step - loss: 0.6921 - acc: 0.5086 - val_loss: 0.6773 - val_acc: 0.5900\n",
            "Epoch 2/50\n",
            "100/100 [==============================] - 21s 210ms/step - loss: 0.6762 - acc: 0.5575 - val_loss: 0.6603 - val_acc: 0.5930\n",
            "Epoch 3/50\n",
            "100/100 [==============================] - 21s 209ms/step - loss: 0.6663 - acc: 0.5787 - val_loss: 0.6408 - val_acc: 0.6230\n",
            "Epoch 4/50\n",
            "100/100 [==============================] - 21s 208ms/step - loss: 0.6539 - acc: 0.5928 - val_loss: 0.7107 - val_acc: 0.5480\n",
            "Epoch 5/50\n",
            "100/100 [==============================] - 21s 208ms/step - loss: 0.6407 - acc: 0.6115 - val_loss: 0.6459 - val_acc: 0.5590\n",
            "Epoch 6/50\n",
            "100/100 [==============================] - 21s 209ms/step - loss: 0.6293 - acc: 0.6463 - val_loss: 0.5998 - val_acc: 0.6590\n",
            "Epoch 7/50\n",
            "100/100 [==============================] - 21s 208ms/step - loss: 0.6276 - acc: 0.6418 - val_loss: 0.5765 - val_acc: 0.7130\n",
            "Epoch 8/50\n",
            "100/100 [==============================] - 21s 210ms/step - loss: 0.6217 - acc: 0.6509 - val_loss: 0.5724 - val_acc: 0.7020\n",
            "Epoch 9/50\n",
            "100/100 [==============================] - 21s 212ms/step - loss: 0.6057 - acc: 0.6594 - val_loss: 0.5691 - val_acc: 0.6910\n",
            "Epoch 10/50\n",
            "100/100 [==============================] - 22s 218ms/step - loss: 0.5963 - acc: 0.6746 - val_loss: 0.5853 - val_acc: 0.6690\n",
            "Epoch 11/50\n",
            "100/100 [==============================] - 21s 209ms/step - loss: 0.5921 - acc: 0.6801 - val_loss: 0.5560 - val_acc: 0.7290\n",
            "Epoch 12/50\n",
            "100/100 [==============================] - 21s 210ms/step - loss: 0.5841 - acc: 0.6942 - val_loss: 0.5853 - val_acc: 0.6870\n",
            "Epoch 13/50\n",
            "100/100 [==============================] - 21s 208ms/step - loss: 0.5844 - acc: 0.6937 - val_loss: 0.5373 - val_acc: 0.7260\n",
            "Epoch 14/50\n",
            "100/100 [==============================] - 21s 211ms/step - loss: 0.5676 - acc: 0.7008 - val_loss: 0.5176 - val_acc: 0.7450\n",
            "Epoch 15/50\n",
            "100/100 [==============================] - 21s 209ms/step - loss: 0.5656 - acc: 0.7094 - val_loss: 0.5103 - val_acc: 0.7540\n",
            "Epoch 16/50\n",
            "100/100 [==============================] - 22s 216ms/step - loss: 0.5671 - acc: 0.7059 - val_loss: 0.6198 - val_acc: 0.6630\n",
            "Epoch 17/50\n",
            "100/100 [==============================] - 21s 210ms/step - loss: 0.5563 - acc: 0.7104 - val_loss: 0.5506 - val_acc: 0.7140\n",
            "Epoch 18/50\n",
            "100/100 [==============================] - 21s 210ms/step - loss: 0.5576 - acc: 0.7124 - val_loss: 0.4922 - val_acc: 0.7550\n",
            "Epoch 19/50\n",
            "100/100 [==============================] - 21s 212ms/step - loss: 0.5606 - acc: 0.6993 - val_loss: 0.4966 - val_acc: 0.7610\n",
            "Epoch 20/50\n",
            "100/100 [==============================] - 21s 210ms/step - loss: 0.5481 - acc: 0.7180 - val_loss: 0.4786 - val_acc: 0.7900\n",
            "Epoch 21/50\n",
            "100/100 [==============================] - 21s 211ms/step - loss: 0.5465 - acc: 0.7180 - val_loss: 0.4490 - val_acc: 0.7980\n",
            "Epoch 22/50\n",
            "100/100 [==============================] - 21s 212ms/step - loss: 0.5356 - acc: 0.7301 - val_loss: 0.4656 - val_acc: 0.7810\n",
            "Epoch 23/50\n",
            "100/100 [==============================] - 21s 212ms/step - loss: 0.5287 - acc: 0.7407 - val_loss: 0.4666 - val_acc: 0.7810\n",
            "Epoch 24/50\n",
            "100/100 [==============================] - 21s 212ms/step - loss: 0.5384 - acc: 0.7311 - val_loss: 0.4617 - val_acc: 0.7870\n",
            "Epoch 25/50\n",
            "100/100 [==============================] - 21s 214ms/step - loss: 0.5411 - acc: 0.7265 - val_loss: 0.4595 - val_acc: 0.7800\n",
            "Epoch 26/50\n",
            "100/100 [==============================] - 22s 216ms/step - loss: 0.5387 - acc: 0.7250 - val_loss: 0.4709 - val_acc: 0.7720\n",
            "Epoch 27/50\n",
            "100/100 [==============================] - 21s 213ms/step - loss: 0.5256 - acc: 0.7376 - val_loss: 0.4322 - val_acc: 0.7970\n",
            "Epoch 28/50\n",
            "100/100 [==============================] - 21s 214ms/step - loss: 0.5214 - acc: 0.7397 - val_loss: 0.4421 - val_acc: 0.7860\n",
            "Epoch 29/50\n",
            "100/100 [==============================] - 22s 215ms/step - loss: 0.5193 - acc: 0.7410 - val_loss: 0.4250 - val_acc: 0.8090\n",
            "Epoch 30/50\n",
            "100/100 [==============================] - 21s 214ms/step - loss: 0.5147 - acc: 0.7467 - val_loss: 0.5253 - val_acc: 0.7250\n",
            "Epoch 31/50\n",
            "100/100 [==============================] - 21s 214ms/step - loss: 0.5132 - acc: 0.7462 - val_loss: 0.4085 - val_acc: 0.8180\n",
            "Epoch 32/50\n",
            "100/100 [==============================] - 21s 213ms/step - loss: 0.5090 - acc: 0.7528 - val_loss: 0.4436 - val_acc: 0.8040\n",
            "Epoch 33/50\n",
            "100/100 [==============================] - 21s 214ms/step - loss: 0.5110 - acc: 0.7583 - val_loss: 0.4537 - val_acc: 0.7840\n",
            "Epoch 34/50\n",
            "100/100 [==============================] - 21s 214ms/step - loss: 0.4972 - acc: 0.7593 - val_loss: 0.4218 - val_acc: 0.8030\n",
            "Epoch 35/50\n",
            "100/100 [==============================] - 21s 214ms/step - loss: 0.4854 - acc: 0.7714 - val_loss: 0.4165 - val_acc: 0.8070\n",
            "Epoch 36/50\n",
            "100/100 [==============================] - 21s 214ms/step - loss: 0.5002 - acc: 0.7508 - val_loss: 0.4689 - val_acc: 0.7750\n",
            "Epoch 37/50\n",
            "100/100 [==============================] - 21s 215ms/step - loss: 0.4972 - acc: 0.7563 - val_loss: 0.3976 - val_acc: 0.8200\n",
            "Epoch 38/50\n",
            "100/100 [==============================] - 21s 210ms/step - loss: 0.4913 - acc: 0.7649 - val_loss: 0.4524 - val_acc: 0.7920\n",
            "Epoch 39/50\n",
            "100/100 [==============================] - 21s 210ms/step - loss: 0.4859 - acc: 0.7598 - val_loss: 0.5831 - val_acc: 0.7090\n",
            "Epoch 40/50\n",
            "100/100 [==============================] - 21s 212ms/step - loss: 0.4916 - acc: 0.7558 - val_loss: 0.4129 - val_acc: 0.8270\n",
            "Epoch 41/50\n",
            "100/100 [==============================] - 21s 209ms/step - loss: 0.4704 - acc: 0.7704 - val_loss: 0.4255 - val_acc: 0.7980\n",
            "Epoch 42/50\n",
            "100/100 [==============================] - 21s 213ms/step - loss: 0.4828 - acc: 0.7664 - val_loss: 0.4008 - val_acc: 0.8070\n",
            "Epoch 43/50\n",
            "100/100 [==============================] - 21s 215ms/step - loss: 0.4746 - acc: 0.7745 - val_loss: 0.4806 - val_acc: 0.7710\n",
            "Epoch 44/50\n",
            "100/100 [==============================] - 21s 215ms/step - loss: 0.4884 - acc: 0.7714 - val_loss: 0.4047 - val_acc: 0.8250\n",
            "Epoch 45/50\n",
            "100/100 [==============================] - 21s 213ms/step - loss: 0.4845 - acc: 0.7704 - val_loss: 0.3797 - val_acc: 0.8230\n",
            "Epoch 46/50\n",
            "100/100 [==============================] - 21s 215ms/step - loss: 0.4641 - acc: 0.7745 - val_loss: 0.4011 - val_acc: 0.8220\n",
            "Epoch 47/50\n",
            "100/100 [==============================] - 21s 215ms/step - loss: 0.4887 - acc: 0.7487 - val_loss: 0.3787 - val_acc: 0.8350\n",
            "Epoch 48/50\n",
            "100/100 [==============================] - 22s 216ms/step - loss: 0.4865 - acc: 0.7619 - val_loss: 0.4017 - val_acc: 0.8200\n",
            "Epoch 49/50\n",
            "100/100 [==============================] - 21s 212ms/step - loss: 0.4787 - acc: 0.7654 - val_loss: 0.3896 - val_acc: 0.8210\n",
            "Epoch 50/50\n",
            "100/100 [==============================] - 21s 212ms/step - loss: 0.4563 - acc: 0.7830 - val_loss: 0.3756 - val_acc: 0.8360\n"
          ]
        }
      ]
    },
    {
      "cell_type": "code",
      "source": [
        "pd.DataFrame(history.history).plot(figsize=(8,5))\n",
        "plt.grid(True)\n",
        "plt.gca().set_ylim(0, 1)\n",
        "plt.show()"
      ],
      "metadata": {
        "colab": {
          "base_uri": "https://localhost:8080/",
          "height": 324
        },
        "id": "0dp5R5hNCtaO",
        "outputId": "a513d54d-2fca-4a2c-9904-58b1575520be"
      },
      "execution_count": 18,
      "outputs": [
        {
          "output_type": "display_data",
          "data": {
            "image/png": "[encoded data removed]",
            "text/plain": [
              "<Figure size 576x360 with 1 Axes>"
            ]
          },
          "metadata": {
            "needs_background": "light"
          }
        }
      ]
    },
    {
      "cell_type": "code",
      "source": [
        "model.save(\"project_cnn.h5\")"
      ],
      "metadata": {
        "id": "sKI5D8juFub2"
      },
      "execution_count": 19,
      "outputs": []
    },
    {
      "cell_type": "code",
      "source": [
        "from tensorflow.keras import backend as k\n",
        "\n",
        "k.clear_session()\n",
        "del model"
      ],
      "metadata": {
        "id": "mLqA6Fa4FujB"
      },
      "execution_count": 20,
      "outputs": []
    }
  ]
}