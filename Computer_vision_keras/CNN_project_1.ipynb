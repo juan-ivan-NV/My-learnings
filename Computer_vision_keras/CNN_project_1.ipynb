{
  "nbformat": 4,
  "nbformat_minor": 0,
  "metadata": {
    "colab": {
      "name": "CNN_project_1.ipynb",
      "provenance": []
    },
    "kernelspec": {
      "name": "python3",
      "display_name": "Python 3"
    },
    "language_info": {
      "name": "python"
    }
  },
  "cells": [
    {
      "cell_type": "markdown",
      "source": [
        "# Cats and dogs clasificator\n",
        "\n",
        "Details\n",
        "\n",
        "* Binary Classification problem\n",
        "* Colored Images\n",
        "* No Standard Dimension\n",
        "* Kaggle Dataset > https://drive.google.com/open?id=16AlwTDOeyFaiP3RPxKOk5s80IycK80X4\n",
        "* We will use subset of this data \n",
        "\n"
      ],
      "metadata": {
        "id": "BStM1dXkiLQQ"
      }
    },
    {
      "cell_type": "markdown",
      "source": [
        "Data\n",
        "\n",
        "Train (2000 images)\n",
        "*   class_a (1000 images)\n",
        "*   class_b (1000 images)\n",
        "---\n",
        "Valid\n",
        "*   class_a (500 images)\n",
        "*   class_b (500 images)\n",
        "---\n",
        "Test\n",
        "*   Test_folder (1000 images)\n"
      ],
      "metadata": {
        "id": "Q1qAj5j9jPlc"
      }
    },
    {
      "cell_type": "code",
      "execution_count": null,
      "metadata": {
        "id": "berNuMDqiBcK"
      },
      "outputs": [],
      "source": [
        "# libraries\n",
        "import numpy as np\n",
        "import pandas as pd\n",
        "%matplotlib inline\n",
        "import matplotlib as mpl\n",
        "import matplotlib.pyplot as plt\n",
        "import tensorflow as tf\n",
        "from tensorflow import keras"
      ]
    },
    {
      "cell_type": "code",
      "source": [
        "# training directories\n",
        "train_dir = \"/content/drive/MyDrive/Colab Notebooks/cats_and_dogs_small/train\"\n",
        "validation_dir = \"/content/drive/MyDrive/Colab Notebooks/cats_and_dogs_small/validation\"\n",
        "test_dir = \"/content/drive/MyDrive/Colab Notebooks/cats_and_dogs_small/test\""
      ],
      "metadata": {
        "id": "TEfAm6kZlwlO"
      },
      "execution_count": null,
      "outputs": []
    },
    {
      "cell_type": "markdown",
      "source": [
        "** Data preprocessing **\n",
        "* Read the picture files.\n",
        "* Decode the JPEG content to RGB grids of pixels.\n",
        "* Convert these into floating point tensors.\n",
        "* Rescale the pixel vales (between 0 and 255) to the [0, 1] interval."
      ],
      "metadata": {
        "id": "ix7npObVoqD3"
      }
    },
    {
      "cell_type": "code",
      "source": [
        "from tensorflow.keras.preprocessing.image import ImageDataGenerator"
      ],
      "metadata": {
        "id": "gsJERDNrlwr1"
      },
      "execution_count": null,
      "outputs": []
    },
    {
      "cell_type": "code",
      "source": [
        "Link : https://keras.io/preprocessing/image/"
      ],
      "metadata": {
        "id": "Nol8kdRJlwx2"
      },
      "execution_count": null,
      "outputs": []
    },
    {
      "cell_type": "code",
      "source": [
        "# Generating batches of tensor image data\n",
        "train_datagen = ImageDataGenerator(rescale = 1./255)\n",
        "test_datagen = ImageDataGenerator(rescale = 1./255)\n",
        "\n",
        "train_generator = train_datagen.flow_from_directory(\n",
        "    train_dir,\n",
        "    target_size=(150, 150),\n",
        "    batch_size=20,\n",
        "    class_mode='binary')\n",
        "\n",
        "validation_generator = test_datagen.flow_from_directory(\n",
        "    train_dir,\n",
        "    target_size=(150, 150),\n",
        "    batch_size=20,\n",
        "    class_mode='binary')\n"
      ],
      "metadata": {
        "id": "eXPIwd5wlw37"
      },
      "execution_count": null,
      "outputs": []
    },
    {
      "cell_type": "code",
      "source": [
        "from tensorflow.keras import layers\n",
        "from tensorflow.keras import models"
      ],
      "metadata": {
        "id": "fdB8CTBZqpWB"
      },
      "execution_count": null,
      "outputs": []
    },
    {
      "cell_type": "code",
      "source": [
        "model = models.Sequential()\n",
        "\n",
        "model.add(layers.Conv2D(32, (3, 3), activation='relu',\n",
        "                        input_shape=(150, 150, 3)))\n",
        "\n",
        "model.add(layers.MaxPooling2D((2 ,2))) # After this step we will have images of 75 x 75\n",
        "\n",
        "model.add(layers.MaxPooling2D(64, (3, 3), activation='relu'))\n",
        "model.add(layers.MaxPooling2D(2, 2))\n",
        "\n",
        "model.add(layers.MaxPooling2D(128, (3, 3), activation='relu'))\n",
        "model.add(layers.MaxPooling2D(2, 2))\n",
        "\n",
        "model.add(layers.MaxPooling2D(128, (3, 3), activation='relu'))\n",
        "model.add(layers.MaxPooling2D(2, 2))\n",
        "\n",
        "model.add(layers.Flatten())\n",
        "\n",
        "model.add(layers.Dense(512, activation='relu'))\n",
        "\n",
        "model.add(layers.Dense(1, activation='sigmoid'))"
      ],
      "metadata": {
        "id": "qhuvZ2slrFj7"
      },
      "execution_count": null,
      "outputs": []
    },
    {
      "cell_type": "code",
      "source": [
        "model.summary()"
      ],
      "metadata": {
        "id": "XSCMZYEPrFqk"
      },
      "execution_count": null,
      "outputs": []
    },
    {
      "cell_type": "code",
      "source": [
        "from tensorflow.keras import optimizers\n",
        "\n",
        "model.compile(loss='binary_crossentropy',\n",
        "              optimizer=optimizers.RMSprop(lr=1e-4),\n",
        "              metrics=['acc'])"
      ],
      "metadata": {
        "id": "9owwKSCxCtNv"
      },
      "execution_count": null,
      "outputs": []
    },
    {
      "cell_type": "code",
      "source": [
        "history = model.fit_generator(\n",
        "    train_generator,\n",
        "    steps_per_epoch=100,\n",
        "    epochs=20,\n",
        "    validation_data=validation_generator,\n",
        "    validation_steps=50\n",
        ")"
      ],
      "metadata": {
        "id": "Km8UWUB0CtTi"
      },
      "execution_count": null,
      "outputs": []
    },
    {
      "cell_type": "code",
      "source": [
        "pd.DataFrame(history.history).plot(figsize=(8,5))\n",
        "plt.grid(True)\n",
        "plt.gca().set_ylim(0, 1)\n",
        "plt.show()"
      ],
      "metadata": {
        "id": "0dp5R5hNCtaO"
      },
      "execution_count": null,
      "outputs": []
    },
    {
      "cell_type": "code",
      "source": [
        "model.save(\"model.h5\")"
      ],
      "metadata": {
        "id": "sKI5D8juFub2"
      },
      "execution_count": null,
      "outputs": []
    },
    {
      "cell_type": "code",
      "source": [
        "from tensorflow.keras import backend as k\n",
        "\n",
        "k.clear_session()\n",
        "del model"
      ],
      "metadata": {
        "id": "mLqA6Fa4FujB"
      },
      "execution_count": null,
      "outputs": []
    }
  ]
}