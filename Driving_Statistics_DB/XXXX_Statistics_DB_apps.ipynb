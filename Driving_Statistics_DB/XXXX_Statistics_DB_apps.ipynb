{
  "nbformat": 4,
  "nbformat_minor": 0,
  "metadata": {
    "colab": {
      "name": "XXXX_Statistics_DB_apps.ipynb",
      "provenance": []
    },
    "kernelspec": {
      "name": "python3",
      "display_name": "Python 3"
    }
  },
  "cells": [
    {
      "cell_type": "markdown",
      "metadata": {
        "id": "ceQ1Y53nfup9"
      },
      "source": [
        "# XXXX Driving Statistics DB "
      ]
    },
    {
      "cell_type": "markdown",
      "metadata": {
        "id": "vTFn_9jBvgJD"
      },
      "source": [
        "## A database to store real time data from the vehicles and get insights to get XXXX vehicles in advantage against another brands.\n",
        "\n",
        "* Crime data:\n",
        "  - Stolen Vehicles.\n",
        "  - Auto-parts theft.\n",
        "  - Violence or harm.\n",
        "\n",
        "* Wether data:\n",
        "  - Floods.\n",
        "  - Fires.\n",
        "  - Frozen roads (snow).\n",
        "\n",
        "* Road conditions:\n",
        "  - Potholes.\n",
        "  - Obstacles.\n",
        "\n",
        "* Accidents:\n",
        "\n"
      ]
    },
    {
      "cell_type": "code",
      "metadata": {
        "id": "2oBaEB5ssVbv"
      },
      "source": [
        ""
      ],
      "execution_count": null,
      "outputs": []
    },
    {
      "cell_type": "code",
      "metadata": {
        "id": "En8z2Tvn5Cen"
      },
      "source": [
        ""
      ],
      "execution_count": null,
      "outputs": []
    },
    {
      "cell_type": "code",
      "metadata": {
        "id": "hwPUOfHJ5OSo"
      },
      "source": [
        ""
      ],
      "execution_count": null,
      "outputs": []
    },
    {
      "cell_type": "code",
      "metadata": {
        "id": "P28uU227B6aj"
      },
      "source": [
        "# https://datos.cdmx.gob.mx/dataset/incidentes-viales-c5"
      ],
      "execution_count": null,
      "outputs": []
    },
    {
      "cell_type": "markdown",
      "metadata": {
        "id": "itLVdA7Zc6Ka"
      },
      "source": [
        "## Crime"
      ]
    },
    {
      "cell_type": "code",
      "metadata": {
        "id": "W2L14DgaCDm7"
      },
      "source": [
        "import pandas as pd\n",
        "import numpy as np\n",
        "import seaborn as sns\n",
        "import matplotlib.pyplot as plt\n",
        "import plotly.express as px\n",
        "import plotly.figure_factory as ff"
      ],
      "execution_count": 23,
      "outputs": []
    },
    {
      "cell_type": "code",
      "metadata": {
        "colab": {
          "base_uri": "https://localhost:8080/",
          "height": 479
        },
        "id": "IqfrzIUFDHAG",
        "outputId": "7ca0184d-a432-470a-943c-620aea87f4a7"
      },
      "source": [
        "df = pd.read_csv('drive/MyDrive/carpetas-de-investigacion-pgj-cdmx.csv')\n",
        "df.head()"
      ],
      "execution_count": 6,
      "outputs": [
        {
          "output_type": "execute_result",
          "data": {
            "text/html": [
              "<div>\n",
              "<style scoped>\n",
              "    .dataframe tbody tr th:only-of-type {\n",
              "        vertical-align: middle;\n",
              "    }\n",
              "\n",
              "    .dataframe tbody tr th {\n",
              "        vertical-align: top;\n",
              "    }\n",
              "\n",
              "    .dataframe thead th {\n",
              "        text-align: right;\n",
              "    }\n",
              "</style>\n",
              "<table border=\"1\" class=\"dataframe\">\n",
              "  <thead>\n",
              "    <tr style=\"text-align: right;\">\n",
              "      <th></th>\n",
              "      <th>año_hechos</th>\n",
              "      <th>mes_hechos</th>\n",
              "      <th>fecha_hechos</th>\n",
              "      <th>delito</th>\n",
              "      <th>categoria_delito</th>\n",
              "      <th>fiscalía</th>\n",
              "      <th>agencia</th>\n",
              "      <th>unidad_investigacion</th>\n",
              "      <th>colonia_hechos</th>\n",
              "      <th>alcaldia_hechos</th>\n",
              "      <th>fecha_inicio</th>\n",
              "      <th>mes_inicio</th>\n",
              "      <th>ao_inicio</th>\n",
              "      <th>calle_hechos</th>\n",
              "      <th>calle_hechos2</th>\n",
              "      <th>longitud</th>\n",
              "      <th>latitud</th>\n",
              "      <th>Geopoint</th>\n",
              "    </tr>\n",
              "  </thead>\n",
              "  <tbody>\n",
              "    <tr>\n",
              "      <th>0</th>\n",
              "      <td>2016.0</td>\n",
              "      <td>Enero</td>\n",
              "      <td>2016-01-05 17:00:00</td>\n",
              "      <td>LESIONES CULPOSAS</td>\n",
              "      <td>DELITO DE BAJO IMPACTO</td>\n",
              "      <td>INVESTIGACIÓN EN GUSTAVO A. MADERO</td>\n",
              "      <td>GAM-6</td>\n",
              "      <td>UI-1CD</td>\n",
              "      <td>GRANJAS MODERNAS</td>\n",
              "      <td>GUSTAVO A MADERO</td>\n",
              "      <td>2016-01-05 18:35:37</td>\n",
              "      <td>Enero</td>\n",
              "      <td>2016</td>\n",
              "      <td>SAN JUAN DE ARAGON</td>\n",
              "      <td>CALLE ANZAR</td>\n",
              "      <td>-99.103527</td>\n",
              "      <td>19.481076</td>\n",
              "      <td>19.4810759998,-99.103527</td>\n",
              "    </tr>\n",
              "    <tr>\n",
              "      <th>1</th>\n",
              "      <td>2017.0</td>\n",
              "      <td>Noviembre</td>\n",
              "      <td>2017-11-01 14:00:00</td>\n",
              "      <td>ROBO DE VEHICULO DE SERVICIO PARTICULAR SIN VI...</td>\n",
              "      <td>ROBO DE VEHÍCULO CON Y SIN VIOLENCIA</td>\n",
              "      <td>INVESTIGACIÓN EN AZCAPOTZALCO</td>\n",
              "      <td>AZ-1</td>\n",
              "      <td>UI-1SD</td>\n",
              "      <td>NaN</td>\n",
              "      <td>TLALNEPANTLA DE BAZ</td>\n",
              "      <td>2017-11-01 16:45:20</td>\n",
              "      <td>Noviembre</td>\n",
              "      <td>2017</td>\n",
              "      <td>BENITO JUAREZ</td>\n",
              "      <td>MUNICIPIO DE TLALNEPANTLA, ESTADO DE MEXICO</td>\n",
              "      <td>NaN</td>\n",
              "      <td>NaN</td>\n",
              "      <td>NaN</td>\n",
              "    </tr>\n",
              "    <tr>\n",
              "      <th>2</th>\n",
              "      <td>2017.0</td>\n",
              "      <td>Noviembre</td>\n",
              "      <td>2017-11-01 16:40:00</td>\n",
              "      <td>ROBO A TRANSEUNTE EN VIA PUBLICA CON VIOLENCIA</td>\n",
              "      <td>ROBO A TRANSEUNTE EN VÍA PÚBLICA CON Y SIN VIO...</td>\n",
              "      <td>INVESTIGACIÓN EN IZTACALCO</td>\n",
              "      <td>IZC-2</td>\n",
              "      <td>UI-1SD</td>\n",
              "      <td>GABRIEL RAMOS MILLÁN SECCIÓN TLACOTAL</td>\n",
              "      <td>IZTACALCO</td>\n",
              "      <td>2017-11-01 16:56:04</td>\n",
              "      <td>Noviembre</td>\n",
              "      <td>2017</td>\n",
              "      <td>SUR 117</td>\n",
              "      <td>ORIENTE 100A</td>\n",
              "      <td>-99.106072</td>\n",
              "      <td>19.395398</td>\n",
              "      <td>19.3953976727,-99.1060723829</td>\n",
              "    </tr>\n",
              "    <tr>\n",
              "      <th>3</th>\n",
              "      <td>2015.0</td>\n",
              "      <td>Diciembre</td>\n",
              "      <td>2015-12-30 20:00:00</td>\n",
              "      <td>FRAUDE</td>\n",
              "      <td>DELITO DE BAJO IMPACTO</td>\n",
              "      <td>INVESTIGACIÓN EN IZTAPALAPA</td>\n",
              "      <td>IZP-8</td>\n",
              "      <td>UI-1CD</td>\n",
              "      <td>CONSEJO AGRARISTA MEXICANO</td>\n",
              "      <td>IZTAPALAPA</td>\n",
              "      <td>2016-01-05 21:12:42</td>\n",
              "      <td>Enero</td>\n",
              "      <td>2016</td>\n",
              "      <td>CUARTA CERRADA DE FRESNO</td>\n",
              "      <td>ENCINO (SIN REGISTRO DEL SAP)</td>\n",
              "      <td>-99.055887</td>\n",
              "      <td>19.322458</td>\n",
              "      <td>19.3224579998,-99.055887</td>\n",
              "    </tr>\n",
              "    <tr>\n",
              "      <th>4</th>\n",
              "      <td>2018.0</td>\n",
              "      <td>Mayo</td>\n",
              "      <td>2018-05-16 16:00:00</td>\n",
              "      <td>ROBO A REPARTIDOR CON VIOLENCIA</td>\n",
              "      <td>ROBO A REPARTIDOR CON Y SIN VIOLENCIA</td>\n",
              "      <td>INVESTIGACIÓN EN IZTAPALAPA</td>\n",
              "      <td>IZP-9</td>\n",
              "      <td>UI-2SD</td>\n",
              "      <td>DESARROLLO URBANO QUETZALCOATL</td>\n",
              "      <td>IZTAPALAPA</td>\n",
              "      <td>2018-05-22 10:44:45</td>\n",
              "      <td>Mayo</td>\n",
              "      <td>2018</td>\n",
              "      <td>TARASCO</td>\n",
              "      <td>ZAPOTECO</td>\n",
              "      <td>-99.042786</td>\n",
              "      <td>19.319141</td>\n",
              "      <td>19.3191405147,-99.0427862526</td>\n",
              "    </tr>\n",
              "  </tbody>\n",
              "</table>\n",
              "</div>"
            ],
            "text/plain": [
              "   año_hechos mes_hechos  ...    latitud                      Geopoint\n",
              "0      2016.0      Enero  ...  19.481076      19.4810759998,-99.103527\n",
              "1      2017.0  Noviembre  ...        NaN                           NaN\n",
              "2      2017.0  Noviembre  ...  19.395398  19.3953976727,-99.1060723829\n",
              "3      2015.0  Diciembre  ...  19.322458      19.3224579998,-99.055887\n",
              "4      2018.0       Mayo  ...  19.319141  19.3191405147,-99.0427862526\n",
              "\n",
              "[5 rows x 18 columns]"
            ]
          },
          "metadata": {},
          "execution_count": 6
        }
      ]
    },
    {
      "cell_type": "code",
      "metadata": {
        "id": "bp2PjeHHpWEf"
      },
      "source": [
        "df2 = df[df['delito'].str.contains(\"VEHICULO\")]"
      ],
      "execution_count": 9,
      "outputs": []
    },
    {
      "cell_type": "code",
      "metadata": {
        "colab": {
          "base_uri": "https://localhost:8080/"
        },
        "id": "Wob7med-pWUj",
        "outputId": "7590136c-6d4d-4a52-b703-ca78bbe58208"
      },
      "source": [
        "df2 = df2[df2['Geopoint'].notna()]\n",
        "df2.count()"
      ],
      "execution_count": 13,
      "outputs": [
        {
          "output_type": "execute_result",
          "data": {
            "text/plain": [
              "año_hechos              74069\n",
              "mes_hechos              74069\n",
              "fecha_hechos            74069\n",
              "delito                  74092\n",
              "categoria_delito        74092\n",
              "fiscalía                74092\n",
              "agencia                 74092\n",
              "unidad_investigacion    74092\n",
              "colonia_hechos          74042\n",
              "alcaldia_hechos         74092\n",
              "fecha_inicio            74092\n",
              "mes_inicio              74092\n",
              "ao_inicio               74092\n",
              "calle_hechos            73983\n",
              "calle_hechos2           39649\n",
              "longitud                74092\n",
              "latitud                 74092\n",
              "Geopoint                74092\n",
              "dtype: int64"
            ]
          },
          "metadata": {},
          "execution_count": 13
        }
      ]
    },
    {
      "cell_type": "code",
      "metadata": {
        "colab": {
          "base_uri": "https://localhost:8080/",
          "height": 649
        },
        "id": "MOpuKuc-pWZx",
        "outputId": "a65fa78b-a76a-41df-f475-39d0a0d55d3f"
      },
      "source": [
        "df2.head()"
      ],
      "execution_count": 14,
      "outputs": [
        {
          "output_type": "execute_result",
          "data": {
            "text/html": [
              "<div>\n",
              "<style scoped>\n",
              "    .dataframe tbody tr th:only-of-type {\n",
              "        vertical-align: middle;\n",
              "    }\n",
              "\n",
              "    .dataframe tbody tr th {\n",
              "        vertical-align: top;\n",
              "    }\n",
              "\n",
              "    .dataframe thead th {\n",
              "        text-align: right;\n",
              "    }\n",
              "</style>\n",
              "<table border=\"1\" class=\"dataframe\">\n",
              "  <thead>\n",
              "    <tr style=\"text-align: right;\">\n",
              "      <th></th>\n",
              "      <th>año_hechos</th>\n",
              "      <th>mes_hechos</th>\n",
              "      <th>fecha_hechos</th>\n",
              "      <th>delito</th>\n",
              "      <th>categoria_delito</th>\n",
              "      <th>fiscalía</th>\n",
              "      <th>agencia</th>\n",
              "      <th>unidad_investigacion</th>\n",
              "      <th>colonia_hechos</th>\n",
              "      <th>alcaldia_hechos</th>\n",
              "      <th>fecha_inicio</th>\n",
              "      <th>mes_inicio</th>\n",
              "      <th>ao_inicio</th>\n",
              "      <th>calle_hechos</th>\n",
              "      <th>calle_hechos2</th>\n",
              "      <th>longitud</th>\n",
              "      <th>latitud</th>\n",
              "      <th>Geopoint</th>\n",
              "    </tr>\n",
              "  </thead>\n",
              "  <tbody>\n",
              "    <tr>\n",
              "      <th>12</th>\n",
              "      <td>2017.0</td>\n",
              "      <td>Noviembre</td>\n",
              "      <td>2017-11-01 14:30:00</td>\n",
              "      <td>ROBO DE VEHICULO DE SERVICIO PÚBLICO SIN VIOLE...</td>\n",
              "      <td>ROBO DE VEHÍCULO CON Y SIN VIOLENCIA</td>\n",
              "      <td>INVESTIGACIÓN EN MAGDALENA CONTRERAS</td>\n",
              "      <td>MC-2</td>\n",
              "      <td>UI-1CD</td>\n",
              "      <td>LA MAGDALENA</td>\n",
              "      <td>LA MAGDALENA CONTRERAS</td>\n",
              "      <td>2017-11-01 20:16:40</td>\n",
              "      <td>Noviembre</td>\n",
              "      <td>2017</td>\n",
              "      <td>HEROES</td>\n",
              "      <td>JOSE MORENO SALCIDO</td>\n",
              "      <td>-99.242737</td>\n",
              "      <td>19.305001</td>\n",
              "      <td>19.3050005272,-99.2427371381</td>\n",
              "    </tr>\n",
              "    <tr>\n",
              "      <th>27</th>\n",
              "      <td>2017.0</td>\n",
              "      <td>Octubre</td>\n",
              "      <td>2017-10-31 22:30:00</td>\n",
              "      <td>ROBO DE VEHICULO DE SERVICIO PARTICULAR CON VI...</td>\n",
              "      <td>ROBO DE VEHÍCULO CON Y SIN VIOLENCIA</td>\n",
              "      <td>INVESTIGACIÓN EN AZCAPOTZALCO</td>\n",
              "      <td>AZ-1</td>\n",
              "      <td>UI-2SD</td>\n",
              "      <td>COLTONGO</td>\n",
              "      <td>AZCAPOTZALCO</td>\n",
              "      <td>2017-11-02 10:42:54</td>\n",
              "      <td>Noviembre</td>\n",
              "      <td>2017</td>\n",
              "      <td>COLTONGO</td>\n",
              "      <td>PONIENTE 116</td>\n",
              "      <td>-99.154019</td>\n",
              "      <td>19.483137</td>\n",
              "      <td>19.4831367138,-99.154018967</td>\n",
              "    </tr>\n",
              "    <tr>\n",
              "      <th>65</th>\n",
              "      <td>2018.0</td>\n",
              "      <td>Mayo</td>\n",
              "      <td>2018-05-14 12:00:00</td>\n",
              "      <td>ROBO DE VEHICULO DE SERVICIO PARTICULAR SIN VI...</td>\n",
              "      <td>ROBO DE VEHÍCULO CON Y SIN VIOLENCIA</td>\n",
              "      <td>INVESTIGACIÓN EN TLALPAN</td>\n",
              "      <td>TLP-1</td>\n",
              "      <td>UI-2CD</td>\n",
              "      <td>HÉROES DE PADIERNA</td>\n",
              "      <td>TLALPAN</td>\n",
              "      <td>2018-05-19 13:03:37</td>\n",
              "      <td>Mayo</td>\n",
              "      <td>2018</td>\n",
              "      <td>OPELCHEN</td>\n",
              "      <td>NaN</td>\n",
              "      <td>-99.223490</td>\n",
              "      <td>19.288815</td>\n",
              "      <td>19.2888152946,-99.2234896865</td>\n",
              "    </tr>\n",
              "    <tr>\n",
              "      <th>98</th>\n",
              "      <td>2016.0</td>\n",
              "      <td>Enero</td>\n",
              "      <td>2016-01-09 09:00:00</td>\n",
              "      <td>ROBO DE VEHICULO DE SERVICIO PARTICULAR SIN VI...</td>\n",
              "      <td>ROBO DE VEHÍCULO CON Y SIN VIOLENCIA</td>\n",
              "      <td>INVESTIGACIÓN EN CUAUHTEMOC</td>\n",
              "      <td>CUH-7</td>\n",
              "      <td>UI-3SD</td>\n",
              "      <td>HIPÓDROMO CONDESA</td>\n",
              "      <td>CUAUHTEMOC</td>\n",
              "      <td>2016-01-16 16:39:32</td>\n",
              "      <td>Enero</td>\n",
              "      <td>2016</td>\n",
              "      <td>CAMPECHE</td>\n",
              "      <td>ESQUINA AMATLAN</td>\n",
              "      <td>-99.176247</td>\n",
              "      <td>19.410522</td>\n",
              "      <td>19.4105216428,-99.1762465337</td>\n",
              "    </tr>\n",
              "    <tr>\n",
              "      <th>110</th>\n",
              "      <td>2016.0</td>\n",
              "      <td>Enero</td>\n",
              "      <td>2016-01-15 06:35:00</td>\n",
              "      <td>ROBO DE VEHICULO DE SERVICIO PÚBLICO SIN VIOLE...</td>\n",
              "      <td>ROBO DE VEHÍCULO CON Y SIN VIOLENCIA</td>\n",
              "      <td>INVESTIGACIÓN EN VENUSTIANO CARRANZA</td>\n",
              "      <td>VC-1</td>\n",
              "      <td>UI-2SD</td>\n",
              "      <td>NICOLÁS BRAVO</td>\n",
              "      <td>VENUSTIANO CARRANZA</td>\n",
              "      <td>2016-01-15 11:36:01</td>\n",
              "      <td>Enero</td>\n",
              "      <td>2016</td>\n",
              "      <td>ALUMINIO</td>\n",
              "      <td>CANANEA</td>\n",
              "      <td>-99.123262</td>\n",
              "      <td>19.453092</td>\n",
              "      <td>19.4530919998,-99.123262</td>\n",
              "    </tr>\n",
              "  </tbody>\n",
              "</table>\n",
              "</div>"
            ],
            "text/plain": [
              "     año_hechos mes_hechos  ...    latitud                      Geopoint\n",
              "12       2017.0  Noviembre  ...  19.305001  19.3050005272,-99.2427371381\n",
              "27       2017.0    Octubre  ...  19.483137   19.4831367138,-99.154018967\n",
              "65       2018.0       Mayo  ...  19.288815  19.2888152946,-99.2234896865\n",
              "98       2016.0      Enero  ...  19.410522  19.4105216428,-99.1762465337\n",
              "110      2016.0      Enero  ...  19.453092      19.4530919998,-99.123262\n",
              "\n",
              "[5 rows x 18 columns]"
            ]
          },
          "metadata": {},
          "execution_count": 14
        }
      ]
    },
    {
      "cell_type": "code",
      "metadata": {
        "id": "uAciS69BpWed"
      },
      "source": [
        "categories = df2.categoria_delito.value_counts()"
      ],
      "execution_count": 35,
      "outputs": []
    },
    {
      "cell_type": "code",
      "metadata": {
        "id": "JNdy-z_3xmlN"
      },
      "source": [
        "alcaldia = df2.alcaldia_hechos.value_counts()"
      ],
      "execution_count": 22,
      "outputs": []
    },
    {
      "cell_type": "code",
      "metadata": {
        "colab": {
          "base_uri": "https://localhost:8080/",
          "height": 366
        },
        "id": "3YbuFwMDpWiP",
        "outputId": "6e0fdfad-519a-4101-c3a6-d58e0d9fc3c2"
      },
      "source": [
        "df2[df2['categoria_delito'].str.contains(\"VIOLACIÓN\")]"
      ],
      "execution_count": 20,
      "outputs": [
        {
          "output_type": "execute_result",
          "data": {
            "text/html": [
              "<div>\n",
              "<style scoped>\n",
              "    .dataframe tbody tr th:only-of-type {\n",
              "        vertical-align: middle;\n",
              "    }\n",
              "\n",
              "    .dataframe tbody tr th {\n",
              "        vertical-align: top;\n",
              "    }\n",
              "\n",
              "    .dataframe thead th {\n",
              "        text-align: right;\n",
              "    }\n",
              "</style>\n",
              "<table border=\"1\" class=\"dataframe\">\n",
              "  <thead>\n",
              "    <tr style=\"text-align: right;\">\n",
              "      <th></th>\n",
              "      <th>año_hechos</th>\n",
              "      <th>mes_hechos</th>\n",
              "      <th>fecha_hechos</th>\n",
              "      <th>delito</th>\n",
              "      <th>categoria_delito</th>\n",
              "      <th>fiscalía</th>\n",
              "      <th>agencia</th>\n",
              "      <th>unidad_investigacion</th>\n",
              "      <th>colonia_hechos</th>\n",
              "      <th>alcaldia_hechos</th>\n",
              "      <th>fecha_inicio</th>\n",
              "      <th>mes_inicio</th>\n",
              "      <th>ao_inicio</th>\n",
              "      <th>calle_hechos</th>\n",
              "      <th>calle_hechos2</th>\n",
              "      <th>longitud</th>\n",
              "      <th>latitud</th>\n",
              "      <th>Geopoint</th>\n",
              "    </tr>\n",
              "  </thead>\n",
              "  <tbody>\n",
              "    <tr>\n",
              "      <th>339508</th>\n",
              "      <td>2017.0</td>\n",
              "      <td>Abril</td>\n",
              "      <td>2017-04-07 03:30:00</td>\n",
              "      <td>VIOLACION EQUIPARADA Y ROBO DE VEHICULO</td>\n",
              "      <td>VIOLACIÓN</td>\n",
              "      <td>INVESTIGACIÓN PARA LA ATENCIÓN DE DELITOS SEXU...</td>\n",
              "      <td>FDS-6</td>\n",
              "      <td>FDS-6-03</td>\n",
              "      <td>PUEBLO DE SANTA URSULA COAPA</td>\n",
              "      <td>COYOACAN</td>\n",
              "      <td>2017-04-07 21:24:45</td>\n",
              "      <td>Abril</td>\n",
              "      <td>2017</td>\n",
              "      <td>CALZ. DE TLALPAN</td>\n",
              "      <td>CERCA DEL HOTEL BOSTON EN VIA PUBLICA</td>\n",
              "      <td>-99.144911</td>\n",
              "      <td>19.305368</td>\n",
              "      <td>19.3053679175,-99.1449105502</td>\n",
              "    </tr>\n",
              "    <tr>\n",
              "      <th>553329</th>\n",
              "      <td>2019.0</td>\n",
              "      <td>Mayo</td>\n",
              "      <td>2019-05-07 22:30:00</td>\n",
              "      <td>VIOLACION EQUIPARADA Y ROBO DE VEHICULO</td>\n",
              "      <td>VIOLACIÓN</td>\n",
              "      <td>INVESTIGACIÓN PARA LA ATENCIÓN DE DELITOS SEXU...</td>\n",
              "      <td>FDS-2</td>\n",
              "      <td>FDS-2-02</td>\n",
              "      <td>SAN LUCAS ORIENTE</td>\n",
              "      <td>XOCHIMILCO</td>\n",
              "      <td>2019-05-08 11:26:07</td>\n",
              "      <td>Mayo</td>\n",
              "      <td>2019</td>\n",
              "      <td>CALLE 16 DE SEPTIEMBRE</td>\n",
              "      <td>FLORICULTOR</td>\n",
              "      <td>-99.036945</td>\n",
              "      <td>19.260364</td>\n",
              "      <td>19.2603637351,-99.0369450562</td>\n",
              "    </tr>\n",
              "    <tr>\n",
              "      <th>739966</th>\n",
              "      <td>2016.0</td>\n",
              "      <td>Agosto</td>\n",
              "      <td>2016-08-02 20:40:00</td>\n",
              "      <td>VIOLACION Y ROBO DE VEHICULO</td>\n",
              "      <td>VIOLACIÓN</td>\n",
              "      <td>INVESTIGACIÓN PARA LA ATENCIÓN DE DELITOS SEXU...</td>\n",
              "      <td>FDS-2</td>\n",
              "      <td>FDS-2-01</td>\n",
              "      <td>SAN BARTOLO AMEYALCO</td>\n",
              "      <td>ALVARO OBREGON</td>\n",
              "      <td>2016-08-03 00:59:12</td>\n",
              "      <td>Agosto</td>\n",
              "      <td>2016</td>\n",
              "      <td>CALLE DEL PUENTE</td>\n",
              "      <td>AMARET (SIN REGISTRO DELS AP)</td>\n",
              "      <td>-99.264115</td>\n",
              "      <td>19.330862</td>\n",
              "      <td>19.3308622998,-99.2641154</td>\n",
              "    </tr>\n",
              "  </tbody>\n",
              "</table>\n",
              "</div>"
            ],
            "text/plain": [
              "        año_hechos mes_hechos  ...    latitud                      Geopoint\n",
              "339508      2017.0      Abril  ...  19.305368  19.3053679175,-99.1449105502\n",
              "553329      2019.0       Mayo  ...  19.260364  19.2603637351,-99.0369450562\n",
              "739966      2016.0     Agosto  ...  19.330862     19.3308622998,-99.2641154\n",
              "\n",
              "[3 rows x 18 columns]"
            ]
          },
          "metadata": {},
          "execution_count": 20
        }
      ]
    },
    {
      "cell_type": "code",
      "metadata": {
        "id": "TvT2BjPv0WNg"
      },
      "source": [
        "alcaldia = pd.DataFrame(alcaldia)\n",
        "alcaldia.columns = ['count']"
      ],
      "execution_count": 32,
      "outputs": []
    },
    {
      "cell_type": "code",
      "metadata": {
        "id": "5p5d9ivntyaH"
      },
      "source": [
        "categories = pd.DataFrame(categories)\n",
        "categories.columns = ['count']"
      ],
      "execution_count": 36,
      "outputs": []
    },
    {
      "cell_type": "code",
      "metadata": {
        "colab": {
          "base_uri": "https://localhost:8080/",
          "height": 542
        },
        "id": "d9FD-ghstygf",
        "outputId": "1e1e0930-ce7c-42a8-f1ae-98cbd18241be"
      },
      "source": [
        "fig = px.pie(alcaldia, values='count', names=alcaldia.index, title='reports_x alcaldía')\n",
        "fig.show()"
      ],
      "execution_count": 33,
      "outputs": [
        {
          "output_type": "display_data",
          "data": {
            "text/html": [
              "<html>\n",
              "<head><meta charset=\"utf-8\" /></head>\n",
              "<body>\n",
              "    <div>\n",
              "            <script src=\"https://cdnjs.cloudflare.com/ajax/libs/mathjax/2.7.5/MathJax.js?config=TeX-AMS-MML_SVG\"></script><script type=\"text/javascript\">if (window.MathJax) {MathJax.Hub.Config({SVG: {font: \"STIX-Web\"}});}</script>\n",
              "                <script type=\"text/javascript\">window.PlotlyConfig = {MathJaxConfig: 'local'};</script>\n",
              "        <script src=\"https://cdn.plot.ly/plotly-latest.min.js\"></script>    \n",
              "            <div id=\"3194fa63-3009-4eb6-8002-6b54e12bccc4\" class=\"plotly-graph-div\" style=\"height:525px; width:100%;\"></div>\n",
              "            <script type=\"text/javascript\">\n",
              "                \n",
              "                    window.PLOTLYENV=window.PLOTLYENV || {};\n",
              "                    \n",
              "                if (document.getElementById(\"3194fa63-3009-4eb6-8002-6b54e12bccc4\")) {\n",
              "                    Plotly.newPlot(\n",
              "                        '3194fa63-3009-4eb6-8002-6b54e12bccc4',\n",
              "                        [{\"domain\": {\"x\": [0.0, 1.0], \"y\": [0.0, 1.0]}, \"hoverlabel\": {\"namelength\": 0}, \"hovertemplate\": \"label=%{label}<br>count=%{value}\", \"labels\": [\"IZTAPALAPA\", \"GUSTAVO A MADERO\", \"CUAUHTEMOC\", \"ALVARO OBREGON\", \"BENITO JUAREZ\", \"MIGUEL HIDALGO\", \"COYOACAN\", \"AZCAPOTZALCO\", \"TLALPAN\", \"IZTACALCO\", \"VENUSTIANO CARRANZA\", \"XOCHIMILCO\", \"TLAHUAC\", \"LA MAGDALENA CONTRERAS\", \"CUAJIMALPA DE MORELOS\", \"MILPA ALTA\", \"ACOLMAN\"], \"legendgroup\": \"\", \"name\": \"\", \"showlegend\": true, \"type\": \"pie\", \"values\": [11497, 8168, 7074, 6531, 6500, 6407, 5796, 4737, 4461, 3672, 3383, 2519, 1404, 827, 788, 327, 1]}],\n",
              "                        {\"legend\": {\"tracegroupgap\": 0}, \"template\": {\"data\": {\"bar\": [{\"error_x\": {\"color\": \"#2a3f5f\"}, \"error_y\": {\"color\": \"#2a3f5f\"}, \"marker\": {\"line\": {\"color\": \"#E5ECF6\", \"width\": 0.5}}, \"type\": \"bar\"}], \"barpolar\": [{\"marker\": {\"line\": {\"color\": \"#E5ECF6\", \"width\": 0.5}}, \"type\": \"barpolar\"}], \"carpet\": [{\"aaxis\": {\"endlinecolor\": \"#2a3f5f\", \"gridcolor\": \"white\", \"linecolor\": \"white\", \"minorgridcolor\": \"white\", \"startlinecolor\": \"#2a3f5f\"}, \"baxis\": {\"endlinecolor\": \"#2a3f5f\", \"gridcolor\": \"white\", \"linecolor\": \"white\", \"minorgridcolor\": \"white\", \"startlinecolor\": \"#2a3f5f\"}, \"type\": \"carpet\"}], \"choropleth\": [{\"colorbar\": {\"outlinewidth\": 0, \"ticks\": \"\"}, \"type\": \"choropleth\"}], \"contour\": [{\"colorbar\": {\"outlinewidth\": 0, \"ticks\": \"\"}, \"colorscale\": [[0.0, \"#0d0887\"], [0.1111111111111111, \"#46039f\"], [0.2222222222222222, \"#7201a8\"], [0.3333333333333333, \"#9c179e\"], [0.4444444444444444, \"#bd3786\"], [0.5555555555555556, \"#d8576b\"], [0.6666666666666666, \"#ed7953\"], [0.7777777777777778, \"#fb9f3a\"], [0.8888888888888888, \"#fdca26\"], [1.0, \"#f0f921\"]], \"type\": \"contour\"}], \"contourcarpet\": [{\"colorbar\": {\"outlinewidth\": 0, \"ticks\": \"\"}, \"type\": \"contourcarpet\"}], \"heatmap\": [{\"colorbar\": {\"outlinewidth\": 0, \"ticks\": \"\"}, \"colorscale\": [[0.0, \"#0d0887\"], [0.1111111111111111, \"#46039f\"], [0.2222222222222222, \"#7201a8\"], [0.3333333333333333, \"#9c179e\"], [0.4444444444444444, \"#bd3786\"], [0.5555555555555556, \"#d8576b\"], [0.6666666666666666, \"#ed7953\"], [0.7777777777777778, \"#fb9f3a\"], [0.8888888888888888, \"#fdca26\"], [1.0, \"#f0f921\"]], \"type\": \"heatmap\"}], \"heatmapgl\": [{\"colorbar\": {\"outlinewidth\": 0, \"ticks\": \"\"}, \"colorscale\": [[0.0, \"#0d0887\"], [0.1111111111111111, \"#46039f\"], [0.2222222222222222, \"#7201a8\"], [0.3333333333333333, \"#9c179e\"], [0.4444444444444444, \"#bd3786\"], [0.5555555555555556, \"#d8576b\"], [0.6666666666666666, \"#ed7953\"], [0.7777777777777778, \"#fb9f3a\"], [0.8888888888888888, \"#fdca26\"], [1.0, \"#f0f921\"]], \"type\": \"heatmapgl\"}], \"histogram\": [{\"marker\": {\"colorbar\": {\"outlinewidth\": 0, \"ticks\": \"\"}}, \"type\": \"histogram\"}], \"histogram2d\": [{\"colorbar\": {\"outlinewidth\": 0, \"ticks\": \"\"}, \"colorscale\": [[0.0, \"#0d0887\"], [0.1111111111111111, \"#46039f\"], [0.2222222222222222, \"#7201a8\"], [0.3333333333333333, \"#9c179e\"], [0.4444444444444444, \"#bd3786\"], [0.5555555555555556, \"#d8576b\"], [0.6666666666666666, \"#ed7953\"], [0.7777777777777778, \"#fb9f3a\"], [0.8888888888888888, \"#fdca26\"], [1.0, \"#f0f921\"]], \"type\": \"histogram2d\"}], \"histogram2dcontour\": [{\"colorbar\": {\"outlinewidth\": 0, \"ticks\": \"\"}, \"colorscale\": [[0.0, \"#0d0887\"], [0.1111111111111111, \"#46039f\"], [0.2222222222222222, \"#7201a8\"], [0.3333333333333333, \"#9c179e\"], [0.4444444444444444, \"#bd3786\"], [0.5555555555555556, \"#d8576b\"], [0.6666666666666666, \"#ed7953\"], [0.7777777777777778, \"#fb9f3a\"], [0.8888888888888888, \"#fdca26\"], [1.0, \"#f0f921\"]], \"type\": \"histogram2dcontour\"}], \"mesh3d\": [{\"colorbar\": {\"outlinewidth\": 0, \"ticks\": \"\"}, \"type\": \"mesh3d\"}], \"parcoords\": [{\"line\": {\"colorbar\": {\"outlinewidth\": 0, \"ticks\": \"\"}}, \"type\": \"parcoords\"}], \"pie\": [{\"automargin\": true, \"type\": \"pie\"}], \"scatter\": [{\"marker\": {\"colorbar\": {\"outlinewidth\": 0, \"ticks\": \"\"}}, \"type\": \"scatter\"}], \"scatter3d\": [{\"line\": {\"colorbar\": {\"outlinewidth\": 0, \"ticks\": \"\"}}, \"marker\": {\"colorbar\": {\"outlinewidth\": 0, \"ticks\": \"\"}}, \"type\": \"scatter3d\"}], \"scattercarpet\": [{\"marker\": {\"colorbar\": {\"outlinewidth\": 0, \"ticks\": \"\"}}, \"type\": \"scattercarpet\"}], \"scattergeo\": [{\"marker\": {\"colorbar\": {\"outlinewidth\": 0, \"ticks\": \"\"}}, \"type\": \"scattergeo\"}], \"scattergl\": [{\"marker\": {\"colorbar\": {\"outlinewidth\": 0, \"ticks\": \"\"}}, \"type\": \"scattergl\"}], \"scattermapbox\": [{\"marker\": {\"colorbar\": {\"outlinewidth\": 0, \"ticks\": \"\"}}, \"type\": \"scattermapbox\"}], \"scatterpolar\": [{\"marker\": {\"colorbar\": {\"outlinewidth\": 0, \"ticks\": \"\"}}, \"type\": \"scatterpolar\"}], \"scatterpolargl\": [{\"marker\": {\"colorbar\": {\"outlinewidth\": 0, \"ticks\": \"\"}}, \"type\": \"scatterpolargl\"}], \"scatterternary\": [{\"marker\": {\"colorbar\": {\"outlinewidth\": 0, \"ticks\": \"\"}}, \"type\": \"scatterternary\"}], \"surface\": [{\"colorbar\": {\"outlinewidth\": 0, \"ticks\": \"\"}, \"colorscale\": [[0.0, \"#0d0887\"], [0.1111111111111111, \"#46039f\"], [0.2222222222222222, \"#7201a8\"], [0.3333333333333333, \"#9c179e\"], [0.4444444444444444, \"#bd3786\"], [0.5555555555555556, \"#d8576b\"], [0.6666666666666666, \"#ed7953\"], [0.7777777777777778, \"#fb9f3a\"], [0.8888888888888888, \"#fdca26\"], [1.0, \"#f0f921\"]], \"type\": \"surface\"}], \"table\": [{\"cells\": {\"fill\": {\"color\": \"#EBF0F8\"}, \"line\": {\"color\": \"white\"}}, \"header\": {\"fill\": {\"color\": \"#C8D4E3\"}, \"line\": {\"color\": \"white\"}}, \"type\": \"table\"}]}, \"layout\": {\"annotationdefaults\": {\"arrowcolor\": \"#2a3f5f\", \"arrowhead\": 0, \"arrowwidth\": 1}, \"coloraxis\": {\"colorbar\": {\"outlinewidth\": 0, \"ticks\": \"\"}}, \"colorscale\": {\"diverging\": [[0, \"#8e0152\"], [0.1, \"#c51b7d\"], [0.2, \"#de77ae\"], [0.3, \"#f1b6da\"], [0.4, \"#fde0ef\"], [0.5, \"#f7f7f7\"], [0.6, \"#e6f5d0\"], [0.7, \"#b8e186\"], [0.8, \"#7fbc41\"], [0.9, \"#4d9221\"], [1, \"#276419\"]], \"sequential\": [[0.0, \"#0d0887\"], [0.1111111111111111, \"#46039f\"], [0.2222222222222222, \"#7201a8\"], [0.3333333333333333, \"#9c179e\"], [0.4444444444444444, \"#bd3786\"], [0.5555555555555556, \"#d8576b\"], [0.6666666666666666, \"#ed7953\"], [0.7777777777777778, \"#fb9f3a\"], [0.8888888888888888, \"#fdca26\"], [1.0, \"#f0f921\"]], \"sequentialminus\": [[0.0, \"#0d0887\"], [0.1111111111111111, \"#46039f\"], [0.2222222222222222, \"#7201a8\"], [0.3333333333333333, \"#9c179e\"], [0.4444444444444444, \"#bd3786\"], [0.5555555555555556, \"#d8576b\"], [0.6666666666666666, \"#ed7953\"], [0.7777777777777778, \"#fb9f3a\"], [0.8888888888888888, \"#fdca26\"], [1.0, \"#f0f921\"]]}, \"colorway\": [\"#636efa\", \"#EF553B\", \"#00cc96\", \"#ab63fa\", \"#FFA15A\", \"#19d3f3\", \"#FF6692\", \"#B6E880\", \"#FF97FF\", \"#FECB52\"], \"font\": {\"color\": \"#2a3f5f\"}, \"geo\": {\"bgcolor\": \"white\", \"lakecolor\": \"white\", \"landcolor\": \"#E5ECF6\", \"showlakes\": true, \"showland\": true, \"subunitcolor\": \"white\"}, \"hoverlabel\": {\"align\": \"left\"}, \"hovermode\": \"closest\", \"mapbox\": {\"style\": \"light\"}, \"paper_bgcolor\": \"white\", \"plot_bgcolor\": \"#E5ECF6\", \"polar\": {\"angularaxis\": {\"gridcolor\": \"white\", \"linecolor\": \"white\", \"ticks\": \"\"}, \"bgcolor\": \"#E5ECF6\", \"radialaxis\": {\"gridcolor\": \"white\", \"linecolor\": \"white\", \"ticks\": \"\"}}, \"scene\": {\"xaxis\": {\"backgroundcolor\": \"#E5ECF6\", \"gridcolor\": \"white\", \"gridwidth\": 2, \"linecolor\": \"white\", \"showbackground\": true, \"ticks\": \"\", \"zerolinecolor\": \"white\"}, \"yaxis\": {\"backgroundcolor\": \"#E5ECF6\", \"gridcolor\": \"white\", \"gridwidth\": 2, \"linecolor\": \"white\", \"showbackground\": true, \"ticks\": \"\", \"zerolinecolor\": \"white\"}, \"zaxis\": {\"backgroundcolor\": \"#E5ECF6\", \"gridcolor\": \"white\", \"gridwidth\": 2, \"linecolor\": \"white\", \"showbackground\": true, \"ticks\": \"\", \"zerolinecolor\": \"white\"}}, \"shapedefaults\": {\"line\": {\"color\": \"#2a3f5f\"}}, \"ternary\": {\"aaxis\": {\"gridcolor\": \"white\", \"linecolor\": \"white\", \"ticks\": \"\"}, \"baxis\": {\"gridcolor\": \"white\", \"linecolor\": \"white\", \"ticks\": \"\"}, \"bgcolor\": \"#E5ECF6\", \"caxis\": {\"gridcolor\": \"white\", \"linecolor\": \"white\", \"ticks\": \"\"}}, \"title\": {\"x\": 0.05}, \"xaxis\": {\"automargin\": true, \"gridcolor\": \"white\", \"linecolor\": \"white\", \"ticks\": \"\", \"title\": {\"standoff\": 15}, \"zerolinecolor\": \"white\", \"zerolinewidth\": 2}, \"yaxis\": {\"automargin\": true, \"gridcolor\": \"white\", \"linecolor\": \"white\", \"ticks\": \"\", \"title\": {\"standoff\": 15}, \"zerolinecolor\": \"white\", \"zerolinewidth\": 2}}}, \"title\": {\"text\": \"reports_x alcald\\u00eda\"}},\n",
              "                        {\"responsive\": true}\n",
              "                    ).then(function(){\n",
              "                            \n",
              "var gd = document.getElementById('3194fa63-3009-4eb6-8002-6b54e12bccc4');\n",
              "var x = new MutationObserver(function (mutations, observer) {{\n",
              "        var display = window.getComputedStyle(gd).display;\n",
              "        if (!display || display === 'none') {{\n",
              "            console.log([gd, 'removed!']);\n",
              "            Plotly.purge(gd);\n",
              "            observer.disconnect();\n",
              "        }}\n",
              "}});\n",
              "\n",
              "// Listen for the removal of the full notebook cells\n",
              "var notebookContainer = gd.closest('#notebook-container');\n",
              "if (notebookContainer) {{\n",
              "    x.observe(notebookContainer, {childList: true});\n",
              "}}\n",
              "\n",
              "// Listen for the clearing of the current output cell\n",
              "var outputEl = gd.closest('.output');\n",
              "if (outputEl) {{\n",
              "    x.observe(outputEl, {childList: true});\n",
              "}}\n",
              "\n",
              "                        })\n",
              "                };\n",
              "                \n",
              "            </script>\n",
              "        </div>\n",
              "</body>\n",
              "</html>"
            ]
          },
          "metadata": {}
        }
      ]
    },
    {
      "cell_type": "code",
      "metadata": {
        "colab": {
          "base_uri": "https://localhost:8080/",
          "height": 542
        },
        "id": "i2LfHmYHtyl-",
        "outputId": "74bfce3c-f6e6-428d-c6ac-08ad2a03ca3b"
      },
      "source": [
        "fig = px.pie(categories, values='count', names=categories.index, title='report_category')\n",
        "fig.show()"
      ],
      "execution_count": 37,
      "outputs": [
        {
          "output_type": "display_data",
          "data": {
            "text/html": [
              "<html>\n",
              "<head><meta charset=\"utf-8\" /></head>\n",
              "<body>\n",
              "    <div>\n",
              "            <script src=\"https://cdnjs.cloudflare.com/ajax/libs/mathjax/2.7.5/MathJax.js?config=TeX-AMS-MML_SVG\"></script><script type=\"text/javascript\">if (window.MathJax) {MathJax.Hub.Config({SVG: {font: \"STIX-Web\"}});}</script>\n",
              "                <script type=\"text/javascript\">window.PlotlyConfig = {MathJaxConfig: 'local'};</script>\n",
              "        <script src=\"https://cdn.plot.ly/plotly-latest.min.js\"></script>    \n",
              "            <div id=\"b68026c3-bd24-43c6-b245-2350d7434ff4\" class=\"plotly-graph-div\" style=\"height:525px; width:100%;\"></div>\n",
              "            <script type=\"text/javascript\">\n",
              "                \n",
              "                    window.PLOTLYENV=window.PLOTLYENV || {};\n",
              "                    \n",
              "                if (document.getElementById(\"b68026c3-bd24-43c6-b245-2350d7434ff4\")) {\n",
              "                    Plotly.newPlot(\n",
              "                        'b68026c3-bd24-43c6-b245-2350d7434ff4',\n",
              "                        [{\"domain\": {\"x\": [0.0, 1.0], \"y\": [0.0, 1.0]}, \"hoverlabel\": {\"namelength\": 0}, \"hovertemplate\": \"label=%{label}<br>count=%{value}\", \"labels\": [\"DELITO DE BAJO IMPACTO\", \"ROBO DE VEH\\u00cdCULO CON Y SIN VIOLENCIA\", \"ROBO A REPARTIDOR CON Y SIN VIOLENCIA\", \"ROBO A TRANSPORTISTA CON Y SIN VIOLENCIA\", \"ROBO A CASA HABITACI\\u00d3N CON VIOLENCIA\", \"ROBO A NEGOCIO CON VIOLENCIA\", \"VIOLACI\\u00d3N\"], \"legendgroup\": \"\", \"name\": \"\", \"showlegend\": true, \"type\": \"pie\", \"values\": [39177, 33671, 550, 410, 183, 98, 3]}],\n",
              "                        {\"legend\": {\"tracegroupgap\": 0}, \"template\": {\"data\": {\"bar\": [{\"error_x\": {\"color\": \"#2a3f5f\"}, \"error_y\": {\"color\": \"#2a3f5f\"}, \"marker\": {\"line\": {\"color\": \"#E5ECF6\", \"width\": 0.5}}, \"type\": \"bar\"}], \"barpolar\": [{\"marker\": {\"line\": {\"color\": \"#E5ECF6\", \"width\": 0.5}}, \"type\": \"barpolar\"}], \"carpet\": [{\"aaxis\": {\"endlinecolor\": \"#2a3f5f\", \"gridcolor\": \"white\", \"linecolor\": \"white\", \"minorgridcolor\": \"white\", \"startlinecolor\": \"#2a3f5f\"}, \"baxis\": {\"endlinecolor\": \"#2a3f5f\", \"gridcolor\": \"white\", \"linecolor\": \"white\", \"minorgridcolor\": \"white\", \"startlinecolor\": \"#2a3f5f\"}, \"type\": \"carpet\"}], \"choropleth\": [{\"colorbar\": {\"outlinewidth\": 0, \"ticks\": \"\"}, \"type\": \"choropleth\"}], \"contour\": [{\"colorbar\": {\"outlinewidth\": 0, \"ticks\": \"\"}, \"colorscale\": [[0.0, \"#0d0887\"], [0.1111111111111111, \"#46039f\"], [0.2222222222222222, \"#7201a8\"], [0.3333333333333333, \"#9c179e\"], [0.4444444444444444, \"#bd3786\"], [0.5555555555555556, \"#d8576b\"], [0.6666666666666666, \"#ed7953\"], [0.7777777777777778, \"#fb9f3a\"], [0.8888888888888888, \"#fdca26\"], [1.0, \"#f0f921\"]], \"type\": \"contour\"}], \"contourcarpet\": [{\"colorbar\": {\"outlinewidth\": 0, \"ticks\": \"\"}, \"type\": \"contourcarpet\"}], \"heatmap\": [{\"colorbar\": {\"outlinewidth\": 0, \"ticks\": \"\"}, \"colorscale\": [[0.0, \"#0d0887\"], [0.1111111111111111, \"#46039f\"], [0.2222222222222222, \"#7201a8\"], [0.3333333333333333, \"#9c179e\"], [0.4444444444444444, \"#bd3786\"], [0.5555555555555556, \"#d8576b\"], [0.6666666666666666, \"#ed7953\"], [0.7777777777777778, \"#fb9f3a\"], [0.8888888888888888, \"#fdca26\"], [1.0, \"#f0f921\"]], \"type\": \"heatmap\"}], \"heatmapgl\": [{\"colorbar\": {\"outlinewidth\": 0, \"ticks\": \"\"}, \"colorscale\": [[0.0, \"#0d0887\"], [0.1111111111111111, \"#46039f\"], [0.2222222222222222, \"#7201a8\"], [0.3333333333333333, \"#9c179e\"], [0.4444444444444444, \"#bd3786\"], [0.5555555555555556, \"#d8576b\"], [0.6666666666666666, \"#ed7953\"], [0.7777777777777778, \"#fb9f3a\"], [0.8888888888888888, \"#fdca26\"], [1.0, \"#f0f921\"]], \"type\": \"heatmapgl\"}], \"histogram\": [{\"marker\": {\"colorbar\": {\"outlinewidth\": 0, \"ticks\": \"\"}}, \"type\": \"histogram\"}], \"histogram2d\": [{\"colorbar\": {\"outlinewidth\": 0, \"ticks\": \"\"}, \"colorscale\": [[0.0, \"#0d0887\"], [0.1111111111111111, \"#46039f\"], [0.2222222222222222, \"#7201a8\"], [0.3333333333333333, \"#9c179e\"], [0.4444444444444444, \"#bd3786\"], [0.5555555555555556, \"#d8576b\"], [0.6666666666666666, \"#ed7953\"], [0.7777777777777778, \"#fb9f3a\"], [0.8888888888888888, \"#fdca26\"], [1.0, \"#f0f921\"]], \"type\": \"histogram2d\"}], \"histogram2dcontour\": [{\"colorbar\": {\"outlinewidth\": 0, \"ticks\": \"\"}, \"colorscale\": [[0.0, \"#0d0887\"], [0.1111111111111111, \"#46039f\"], [0.2222222222222222, \"#7201a8\"], [0.3333333333333333, \"#9c179e\"], [0.4444444444444444, \"#bd3786\"], [0.5555555555555556, \"#d8576b\"], [0.6666666666666666, \"#ed7953\"], [0.7777777777777778, \"#fb9f3a\"], [0.8888888888888888, \"#fdca26\"], [1.0, \"#f0f921\"]], \"type\": \"histogram2dcontour\"}], \"mesh3d\": [{\"colorbar\": {\"outlinewidth\": 0, \"ticks\": \"\"}, \"type\": \"mesh3d\"}], \"parcoords\": [{\"line\": {\"colorbar\": {\"outlinewidth\": 0, \"ticks\": \"\"}}, \"type\": \"parcoords\"}], \"pie\": [{\"automargin\": true, \"type\": \"pie\"}], \"scatter\": [{\"marker\": {\"colorbar\": {\"outlinewidth\": 0, \"ticks\": \"\"}}, \"type\": \"scatter\"}], \"scatter3d\": [{\"line\": {\"colorbar\": {\"outlinewidth\": 0, \"ticks\": \"\"}}, \"marker\": {\"colorbar\": {\"outlinewidth\": 0, \"ticks\": \"\"}}, \"type\": \"scatter3d\"}], \"scattercarpet\": [{\"marker\": {\"colorbar\": {\"outlinewidth\": 0, \"ticks\": \"\"}}, \"type\": \"scattercarpet\"}], \"scattergeo\": [{\"marker\": {\"colorbar\": {\"outlinewidth\": 0, \"ticks\": \"\"}}, \"type\": \"scattergeo\"}], \"scattergl\": [{\"marker\": {\"colorbar\": {\"outlinewidth\": 0, \"ticks\": \"\"}}, \"type\": \"scattergl\"}], \"scattermapbox\": [{\"marker\": {\"colorbar\": {\"outlinewidth\": 0, \"ticks\": \"\"}}, \"type\": \"scattermapbox\"}], \"scatterpolar\": [{\"marker\": {\"colorbar\": {\"outlinewidth\": 0, \"ticks\": \"\"}}, \"type\": \"scatterpolar\"}], \"scatterpolargl\": [{\"marker\": {\"colorbar\": {\"outlinewidth\": 0, \"ticks\": \"\"}}, \"type\": \"scatterpolargl\"}], \"scatterternary\": [{\"marker\": {\"colorbar\": {\"outlinewidth\": 0, \"ticks\": \"\"}}, \"type\": \"scatterternary\"}], \"surface\": [{\"colorbar\": {\"outlinewidth\": 0, \"ticks\": \"\"}, \"colorscale\": [[0.0, \"#0d0887\"], [0.1111111111111111, \"#46039f\"], [0.2222222222222222, \"#7201a8\"], [0.3333333333333333, \"#9c179e\"], [0.4444444444444444, \"#bd3786\"], [0.5555555555555556, \"#d8576b\"], [0.6666666666666666, \"#ed7953\"], [0.7777777777777778, \"#fb9f3a\"], [0.8888888888888888, \"#fdca26\"], [1.0, \"#f0f921\"]], \"type\": \"surface\"}], \"table\": [{\"cells\": {\"fill\": {\"color\": \"#EBF0F8\"}, \"line\": {\"color\": \"white\"}}, \"header\": {\"fill\": {\"color\": \"#C8D4E3\"}, \"line\": {\"color\": \"white\"}}, \"type\": \"table\"}]}, \"layout\": {\"annotationdefaults\": {\"arrowcolor\": \"#2a3f5f\", \"arrowhead\": 0, \"arrowwidth\": 1}, \"coloraxis\": {\"colorbar\": {\"outlinewidth\": 0, \"ticks\": \"\"}}, \"colorscale\": {\"diverging\": [[0, \"#8e0152\"], [0.1, \"#c51b7d\"], [0.2, \"#de77ae\"], [0.3, \"#f1b6da\"], [0.4, \"#fde0ef\"], [0.5, \"#f7f7f7\"], [0.6, \"#e6f5d0\"], [0.7, \"#b8e186\"], [0.8, \"#7fbc41\"], [0.9, \"#4d9221\"], [1, \"#276419\"]], \"sequential\": [[0.0, \"#0d0887\"], [0.1111111111111111, \"#46039f\"], [0.2222222222222222, \"#7201a8\"], [0.3333333333333333, \"#9c179e\"], [0.4444444444444444, \"#bd3786\"], [0.5555555555555556, \"#d8576b\"], [0.6666666666666666, \"#ed7953\"], [0.7777777777777778, \"#fb9f3a\"], [0.8888888888888888, \"#fdca26\"], [1.0, \"#f0f921\"]], \"sequentialminus\": [[0.0, \"#0d0887\"], [0.1111111111111111, \"#46039f\"], [0.2222222222222222, \"#7201a8\"], [0.3333333333333333, \"#9c179e\"], [0.4444444444444444, \"#bd3786\"], [0.5555555555555556, \"#d8576b\"], [0.6666666666666666, \"#ed7953\"], [0.7777777777777778, \"#fb9f3a\"], [0.8888888888888888, \"#fdca26\"], [1.0, \"#f0f921\"]]}, \"colorway\": [\"#636efa\", \"#EF553B\", \"#00cc96\", \"#ab63fa\", \"#FFA15A\", \"#19d3f3\", \"#FF6692\", \"#B6E880\", \"#FF97FF\", \"#FECB52\"], \"font\": {\"color\": \"#2a3f5f\"}, \"geo\": {\"bgcolor\": \"white\", \"lakecolor\": \"white\", \"landcolor\": \"#E5ECF6\", \"showlakes\": true, \"showland\": true, \"subunitcolor\": \"white\"}, \"hoverlabel\": {\"align\": \"left\"}, \"hovermode\": \"closest\", \"mapbox\": {\"style\": \"light\"}, \"paper_bgcolor\": \"white\", \"plot_bgcolor\": \"#E5ECF6\", \"polar\": {\"angularaxis\": {\"gridcolor\": \"white\", \"linecolor\": \"white\", \"ticks\": \"\"}, \"bgcolor\": \"#E5ECF6\", \"radialaxis\": {\"gridcolor\": \"white\", \"linecolor\": \"white\", \"ticks\": \"\"}}, \"scene\": {\"xaxis\": {\"backgroundcolor\": \"#E5ECF6\", \"gridcolor\": \"white\", \"gridwidth\": 2, \"linecolor\": \"white\", \"showbackground\": true, \"ticks\": \"\", \"zerolinecolor\": \"white\"}, \"yaxis\": {\"backgroundcolor\": \"#E5ECF6\", \"gridcolor\": \"white\", \"gridwidth\": 2, \"linecolor\": \"white\", \"showbackground\": true, \"ticks\": \"\", \"zerolinecolor\": \"white\"}, \"zaxis\": {\"backgroundcolor\": \"#E5ECF6\", \"gridcolor\": \"white\", \"gridwidth\": 2, \"linecolor\": \"white\", \"showbackground\": true, \"ticks\": \"\", \"zerolinecolor\": \"white\"}}, \"shapedefaults\": {\"line\": {\"color\": \"#2a3f5f\"}}, \"ternary\": {\"aaxis\": {\"gridcolor\": \"white\", \"linecolor\": \"white\", \"ticks\": \"\"}, \"baxis\": {\"gridcolor\": \"white\", \"linecolor\": \"white\", \"ticks\": \"\"}, \"bgcolor\": \"#E5ECF6\", \"caxis\": {\"gridcolor\": \"white\", \"linecolor\": \"white\", \"ticks\": \"\"}}, \"title\": {\"x\": 0.05}, \"xaxis\": {\"automargin\": true, \"gridcolor\": \"white\", \"linecolor\": \"white\", \"ticks\": \"\", \"title\": {\"standoff\": 15}, \"zerolinecolor\": \"white\", \"zerolinewidth\": 2}, \"yaxis\": {\"automargin\": true, \"gridcolor\": \"white\", \"linecolor\": \"white\", \"ticks\": \"\", \"title\": {\"standoff\": 15}, \"zerolinecolor\": \"white\", \"zerolinewidth\": 2}}}, \"title\": {\"text\": \"report_category\"}},\n",
              "                        {\"responsive\": true}\n",
              "                    ).then(function(){\n",
              "                            \n",
              "var gd = document.getElementById('b68026c3-bd24-43c6-b245-2350d7434ff4');\n",
              "var x = new MutationObserver(function (mutations, observer) {{\n",
              "        var display = window.getComputedStyle(gd).display;\n",
              "        if (!display || display === 'none') {{\n",
              "            console.log([gd, 'removed!']);\n",
              "            Plotly.purge(gd);\n",
              "            observer.disconnect();\n",
              "        }}\n",
              "}});\n",
              "\n",
              "// Listen for the removal of the full notebook cells\n",
              "var notebookContainer = gd.closest('#notebook-container');\n",
              "if (notebookContainer) {{\n",
              "    x.observe(notebookContainer, {childList: true});\n",
              "}}\n",
              "\n",
              "// Listen for the clearing of the current output cell\n",
              "var outputEl = gd.closest('.output');\n",
              "if (outputEl) {{\n",
              "    x.observe(outputEl, {childList: true});\n",
              "}}\n",
              "\n",
              "                        })\n",
              "                };\n",
              "                \n",
              "            </script>\n",
              "        </div>\n",
              "</body>\n",
              "</html>"
            ]
          },
          "metadata": {}
        }
      ]
    },
    {
      "cell_type": "code",
      "metadata": {
        "id": "0fV6t7cttyqq"
      },
      "source": [
        ""
      ],
      "execution_count": null,
      "outputs": []
    },
    {
      "cell_type": "code",
      "metadata": {
        "id": "Tr_8lb-rtyvY"
      },
      "source": [
        ""
      ],
      "execution_count": null,
      "outputs": []
    },
    {
      "cell_type": "code",
      "metadata": {
        "id": "p7EjW7DKtyza"
      },
      "source": [
        ""
      ],
      "execution_count": null,
      "outputs": []
    }
  ]
}