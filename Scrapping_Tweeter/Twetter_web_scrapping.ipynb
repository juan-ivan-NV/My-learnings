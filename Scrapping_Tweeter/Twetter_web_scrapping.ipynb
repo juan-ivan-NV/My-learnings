{
  "nbformat": 4,
  "nbformat_minor": 0,
  "metadata": {
    "colab": {
      "name": "Twetter_web_scrapping",
      "provenance": [],
      "collapsed_sections": []
    },
    "kernelspec": {
      "name": "python3",
      "display_name": "Python 3"
    }
  },
  "cells": [
    {
      "cell_type": "markdown",
      "metadata": {
        "id": "QpYHfsNqfLOn"
      },
      "source": [
        "# One:\r\n",
        "Register an app to get needed credentials ► https://developer.twitter.com/en/portal/petition/verification\r\n",
        "\r\n",
        "Go to your App and generate an access token"
      ]
    },
    {
      "cell_type": "code",
      "metadata": {
        "id": "CmnJLg0IfB78"
      },
      "source": [
        "import tweepy\r\n",
        "import json"
      ],
      "execution_count": 1,
      "outputs": []
    },
    {
      "cell_type": "code",
      "metadata": {
        "id": "Xd0YSNTExI5b"
      },
      "source": [
        "consumer_Key = ''\r\n",
        "consumer_secret = '' \r\n",
        "access_token = ''\r\n",
        "access_token_secret = '' "
      ],
      "execution_count": 2,
      "outputs": []
    },
    {
      "cell_type": "code",
      "metadata": {
        "id": "aZ2yDQLPzNsv"
      },
      "source": [
        "auth = tweepy.OAuthHandler(consumer_key,consumer_secret)\r\n",
        "auth.set_access_token(access_token, access_token_secret)"
      ],
      "execution_count": null,
      "outputs": []
    },
    {
      "cell_type": "code",
      "metadata": {
        "id": "y3l6_Lw3zoVd"
      },
      "source": [
        "tweepy.API(auth)"
      ],
      "execution_count": null,
      "outputs": []
    }
  ]
}