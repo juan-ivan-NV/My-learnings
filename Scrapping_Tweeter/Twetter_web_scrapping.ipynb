{
  "nbformat": 4,
  "nbformat_minor": 0,
  "metadata": {
    "colab": {
      "name": "Twetter_web_scrapping",
      "provenance": []
    },
    "kernelspec": {
      "name": "python3",
      "display_name": "Python 3"
    }
  },
  "cells": [
    {
      "cell_type": "markdown",
      "metadata": {
        "id": "QpYHfsNqfLOn"
      },
      "source": [
        "# One:\r\n",
        "Register an app to get needed credentials ► https://developer.twitter.com/en/portal/petition/verification"
      ]
    },
    {
      "cell_type": "code",
      "metadata": {
        "id": "CmnJLg0IfB78"
      },
      "source": [
        ""
      ],
      "execution_count": null,
      "outputs": []
    }
  ]
}