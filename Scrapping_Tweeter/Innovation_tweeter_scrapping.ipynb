{
  "nbformat": 4,
  "nbformat_minor": 0,
  "metadata": {
    "colab": {
      "name": "Innovation_tweeter_scrapping.ipynb",
      "provenance": [],
      "collapsed_sections": []
    },
    "kernelspec": {
      "name": "python3",
      "display_name": "Python 3"
    },
    "language_info": {
      "name": "python"
    }
  },
  "cells": [
    {
      "cell_type": "code",
      "execution_count": 8,
      "metadata": {
        "id": "zmT-jy3L3lRx"
      },
      "outputs": [],
      "source": [
        "# Libraries\n",
        "import tweepy\n",
        "import json\n",
        "import pandas as pd\n",
        "from pandas.io.json import json_normalize \n",
        "import datetime"
      ]
    },
    {
      "cell_type": "code",
      "source": [
        ""
      ],
      "metadata": {
        "id": "sIFUW_c730Yz"
      },
      "execution_count": 2,
      "outputs": []
    },
    {
      "cell_type": "code",
      "source": [
        "auth = tweepy.OAuthHandler(consumer_key,consumer_secret)\n",
        "auth.set_access_token(access_token, access_token_secret)"
      ],
      "metadata": {
        "id": "wOW25Vgo30bu"
      },
      "execution_count": 3,
      "outputs": []
    },
    {
      "cell_type": "code",
      "source": [
        "api = tweepy.API(auth, wait_on_rate_limit = True, wait_on_rate_limit_notify = True)"
      ],
      "metadata": {
        "id": "IFzycR3a30ev"
      },
      "execution_count": 4,
      "outputs": []
    },
    {
      "cell_type": "code",
      "source": [
        "data = api.me()"
      ],
      "metadata": {
        "id": "P0QhTCv_30hs"
      },
      "execution_count": 5,
      "outputs": []
    },
    {
      "cell_type": "code",
      "source": [
        "# function to convert _json to JSON\n",
        "def jsonify_tweepy(tweepy_object):\n",
        "    json_str = json.dumps(tweepy_object._json)\n",
        "    return json.loads(json_str)\n",
        "\n",
        "# function to get extended retweets\n",
        "def jsonify_tweepy_2(tweet_info):\n",
        "\n",
        "    if \"retweeted_status\" in dir(tweet_info):\n",
        "      return tweet_info.retweeted_status.full_text\n",
        "    else:\n",
        "      return tweet_info.full_text\n",
        "\n",
        "# df.iloc[row][col]"
      ],
      "metadata": {
        "id": "lA6mLDKY30lf"
      },
      "execution_count": 6,
      "outputs": []
    },
    {
      "cell_type": "markdown",
      "source": [
        "Accounts or keywords\n",
        "Keywords\n",
        "* \"car innovation ideas\"\n",
        "Pages"
      ],
      "metadata": {
        "id": "cwS7IuQXCbKV"
      }
    },
    {
      "cell_type": "code",
      "source": [
        "startDate = datetime.datetime(2021, 7, 4, 0, 0, 0)\n",
        "endDate =   datetime.datetime(2022, 7, 4, 0, 0, 0)"
      ],
      "metadata": {
        "id": "1PNAJqmlOrvj"
      },
      "execution_count": 9,
      "outputs": []
    },
    {
      "cell_type": "code",
      "source": [
        "# searching by keywords\n",
        "#truck_issues_req = list(tweepy.Cursor(api.search, q=\"truck issues\", tweet_mode=\"extended\").items(1500))\n",
        "#ford_issues_req = list(tweepy.Cursor(api.search, q=\"ford car issues\", tweet_mode=\"extended\").items(1500))\n",
        "ford_issues_req = list(tweepy.Cursor(api.search, q=\"ford vehicle issues\", tweet_mode=\"extended\").items(1500))\n",
        "\n",
        "#ford_issues_req = list(tweepy.Cursor(api.search, q=\"ford vehicle issues\", since=startDate,\n",
        "#                   until=endDate, tweet_mode=\"extended\").items(1500))"
      ],
      "metadata": {
        "id": "njBE7cWb30ol"
      },
      "execution_count": 15,
      "outputs": []
    },
    {
      "cell_type": "code",
      "source": [
        "#truck_issues = json_normalize([jsonify_tweepy(tweet) for tweet in truck_issues_req])\n",
        "ford_issues = json_normalize([jsonify_tweepy(tweet) for tweet in ford_issues_req])"
      ],
      "metadata": {
        "colab": {
          "base_uri": "https://localhost:8080/"
        },
        "id": "OGuB0dB130q7",
        "outputId": "b5122fb2-0588-4988-aa83-1fc8398c7fd8"
      },
      "execution_count": 16,
      "outputs": [
        {
          "output_type": "stream",
          "name": "stderr",
          "text": [
            "/usr/local/lib/python3.7/dist-packages/ipykernel_launcher.py:2: FutureWarning: pandas.io.json.json_normalize is deprecated, use pandas.json_normalize instead\n",
            "  \n"
          ]
        }
      ]
    },
    {
      "cell_type": "code",
      "source": [
        "ford_issues.full_text = pd.DataFrame([jsonify_tweepy_2(tweet) for tweet in ford_issues_req])"
      ],
      "metadata": {
        "id": "P2YAU2mqS6fB"
      },
      "execution_count": 18,
      "outputs": []
    },
    {
      "cell_type": "code",
      "source": [
        "ford_issues.head()"
      ],
      "metadata": {
        "colab": {
          "base_uri": "https://localhost:8080/",
          "height": 490
        },
        "id": "IEUHkVcj-wNB",
        "outputId": "72fdd30f-80f0-486f-9001-66c043aebb69"
      },
      "execution_count": 19,
      "outputs": [
        {
          "output_type": "execute_result",
          "data": {
            "text/plain": [
              "                       created_at                   id               id_str  \\\n",
              "0  Thu Apr 07 20:27:29 +0000 2022  1512165186693701648  1512165186693701648   \n",
              "1  Thu Apr 07 11:32:58 +0000 2022  1512030669580476418  1512030669580476418   \n",
              "2  Wed Apr 06 14:55:20 +0000 2022  1511719207934779392  1511719207934779392   \n",
              "3  Tue Apr 05 18:36:05 +0000 2022  1511412376834244609  1511412376834244609   \n",
              "4  Sat Apr 02 14:30:09 +0000 2022  1510263321123041281  1510263321123041281   \n",
              "\n",
              "                                           full_text  truncated  \\\n",
              "0  Went to the Ford dealership today to let them ...      False   \n",
              "1  @MustangGirlS550 👇Got no issues w/EVs, but For...      False   \n",
              "2  Credit Issues and looking for a new vehicle? \\...      False   \n",
              "3  @POTUS @Ford @NHTSAgov @Tesla \\nI call for an ...      False   \n",
              "4  The company has recalled several vehicle model...      False   \n",
              "\n",
              "  display_text_range                                             source  \\\n",
              "0           [0, 230]  <a href=\"https://mobile.twitter.com\" rel=\"nofo...   \n",
              "1          [17, 293]  <a href=\"http://twitter.com/download/android\" ...   \n",
              "2           [0, 255]  <a href=\"https://app.sendible.com\" rel=\"nofoll...   \n",
              "3           [0, 277]  <a href=\"https://mobile.twitter.com\" rel=\"nofo...   \n",
              "4           [0, 157]  <a href=\"http://www.socialnewsdesk.com\" rel=\"n...   \n",
              "\n",
              "   in_reply_to_status_id in_reply_to_status_id_str  in_reply_to_user_id  ...  \\\n",
              "0                    NaN                      None                  NaN  ...   \n",
              "1           1.511669e+18       1511669432950657028         2.790898e+09  ...   \n",
              "2                    NaN                      None                  NaN  ...   \n",
              "3                    NaN                      None         1.349149e+18  ...   \n",
              "4                    NaN                      None                  NaN  ...   \n",
              "\n",
              "  user.default_profile_image user.following user.follow_request_sent  \\\n",
              "0                      False          False                    False   \n",
              "1                      False          False                    False   \n",
              "2                      False          False                    False   \n",
              "3                      False          False                    False   \n",
              "4                      False          False                    False   \n",
              "\n",
              "  user.notifications user.translator_type user.withheld_in_countries  \\\n",
              "0              False                 none                         []   \n",
              "1              False                 none                         []   \n",
              "2              False                 none                         []   \n",
              "3              False                 none                         []   \n",
              "4              False                 none                         []   \n",
              "\n",
              "   possibly_sensitive                             user.entities.url.urls  \\\n",
              "0                 NaN                                                NaN   \n",
              "1                 NaN                                                NaN   \n",
              "2               False  [{'url': 'https://t.co/7Zv2xLPb4h', 'expanded_...   \n",
              "3               False                                                NaN   \n",
              "4               False  [{'url': 'https://t.co/QUf1yFRDE1', 'expanded_...   \n",
              "\n",
              "                                      entities.media  \\\n",
              "0                                                NaN   \n",
              "1                                                NaN   \n",
              "2                                                NaN   \n",
              "3  [{'id': 1511411912579317760, 'id_str': '151141...   \n",
              "4                                                NaN   \n",
              "\n",
              "                             extended_entities.media  \n",
              "0                                                NaN  \n",
              "1                                                NaN  \n",
              "2                                                NaN  \n",
              "3  [{'id': 1511411912579317760, 'id_str': '151141...  \n",
              "4                                                NaN  \n",
              "\n",
              "[5 rows x 75 columns]"
            ],
            "text/html": [
              "\n",
              "  <div id=\"df-4f5a958e-1ebf-44ed-b3d0-5422275a942f\">\n",
              "    <div class=\"colab-df-container\">\n",
              "      <div>\n",
              "<style scoped>\n",
              "    .dataframe tbody tr th:only-of-type {\n",
              "        vertical-align: middle;\n",
              "    }\n",
              "\n",
              "    .dataframe tbody tr th {\n",
              "        vertical-align: top;\n",
              "    }\n",
              "\n",
              "    .dataframe thead th {\n",
              "        text-align: right;\n",
              "    }\n",
              "</style>\n",
              "<table border=\"1\" class=\"dataframe\">\n",
              "  <thead>\n",
              "    <tr style=\"text-align: right;\">\n",
              "      <th></th>\n",
              "      <th>created_at</th>\n",
              "      <th>id</th>\n",
              "      <th>id_str</th>\n",
              "      <th>full_text</th>\n",
              "      <th>truncated</th>\n",
              "      <th>display_text_range</th>\n",
              "      <th>source</th>\n",
              "      <th>in_reply_to_status_id</th>\n",
              "      <th>in_reply_to_status_id_str</th>\n",
              "      <th>in_reply_to_user_id</th>\n",
              "      <th>...</th>\n",
              "      <th>user.default_profile_image</th>\n",
              "      <th>user.following</th>\n",
              "      <th>user.follow_request_sent</th>\n",
              "      <th>user.notifications</th>\n",
              "      <th>user.translator_type</th>\n",
              "      <th>user.withheld_in_countries</th>\n",
              "      <th>possibly_sensitive</th>\n",
              "      <th>user.entities.url.urls</th>\n",
              "      <th>entities.media</th>\n",
              "      <th>extended_entities.media</th>\n",
              "    </tr>\n",
              "  </thead>\n",
              "  <tbody>\n",
              "    <tr>\n",
              "      <th>0</th>\n",
              "      <td>Thu Apr 07 20:27:29 +0000 2022</td>\n",
              "      <td>1512165186693701648</td>\n",
              "      <td>1512165186693701648</td>\n",
              "      <td>Went to the Ford dealership today to let them ...</td>\n",
              "      <td>False</td>\n",
              "      <td>[0, 230]</td>\n",
              "      <td>&lt;a href=\"https://mobile.twitter.com\" rel=\"nofo...</td>\n",
              "      <td>NaN</td>\n",
              "      <td>None</td>\n",
              "      <td>NaN</td>\n",
              "      <td>...</td>\n",
              "      <td>False</td>\n",
              "      <td>False</td>\n",
              "      <td>False</td>\n",
              "      <td>False</td>\n",
              "      <td>none</td>\n",
              "      <td>[]</td>\n",
              "      <td>NaN</td>\n",
              "      <td>NaN</td>\n",
              "      <td>NaN</td>\n",
              "      <td>NaN</td>\n",
              "    </tr>\n",
              "    <tr>\n",
              "      <th>1</th>\n",
              "      <td>Thu Apr 07 11:32:58 +0000 2022</td>\n",
              "      <td>1512030669580476418</td>\n",
              "      <td>1512030669580476418</td>\n",
              "      <td>@MustangGirlS550 👇Got no issues w/EVs, but For...</td>\n",
              "      <td>False</td>\n",
              "      <td>[17, 293]</td>\n",
              "      <td>&lt;a href=\"http://twitter.com/download/android\" ...</td>\n",
              "      <td>1.511669e+18</td>\n",
              "      <td>1511669432950657028</td>\n",
              "      <td>2.790898e+09</td>\n",
              "      <td>...</td>\n",
              "      <td>False</td>\n",
              "      <td>False</td>\n",
              "      <td>False</td>\n",
              "      <td>False</td>\n",
              "      <td>none</td>\n",
              "      <td>[]</td>\n",
              "      <td>NaN</td>\n",
              "      <td>NaN</td>\n",
              "      <td>NaN</td>\n",
              "      <td>NaN</td>\n",
              "    </tr>\n",
              "    <tr>\n",
              "      <th>2</th>\n",
              "      <td>Wed Apr 06 14:55:20 +0000 2022</td>\n",
              "      <td>1511719207934779392</td>\n",
              "      <td>1511719207934779392</td>\n",
              "      <td>Credit Issues and looking for a new vehicle? \\...</td>\n",
              "      <td>False</td>\n",
              "      <td>[0, 255]</td>\n",
              "      <td>&lt;a href=\"https://app.sendible.com\" rel=\"nofoll...</td>\n",
              "      <td>NaN</td>\n",
              "      <td>None</td>\n",
              "      <td>NaN</td>\n",
              "      <td>...</td>\n",
              "      <td>False</td>\n",
              "      <td>False</td>\n",
              "      <td>False</td>\n",
              "      <td>False</td>\n",
              "      <td>none</td>\n",
              "      <td>[]</td>\n",
              "      <td>False</td>\n",
              "      <td>[{'url': 'https://t.co/7Zv2xLPb4h', 'expanded_...</td>\n",
              "      <td>NaN</td>\n",
              "      <td>NaN</td>\n",
              "    </tr>\n",
              "    <tr>\n",
              "      <th>3</th>\n",
              "      <td>Tue Apr 05 18:36:05 +0000 2022</td>\n",
              "      <td>1511412376834244609</td>\n",
              "      <td>1511412376834244609</td>\n",
              "      <td>@POTUS @Ford @NHTSAgov @Tesla \\nI call for an ...</td>\n",
              "      <td>False</td>\n",
              "      <td>[0, 277]</td>\n",
              "      <td>&lt;a href=\"https://mobile.twitter.com\" rel=\"nofo...</td>\n",
              "      <td>NaN</td>\n",
              "      <td>None</td>\n",
              "      <td>1.349149e+18</td>\n",
              "      <td>...</td>\n",
              "      <td>False</td>\n",
              "      <td>False</td>\n",
              "      <td>False</td>\n",
              "      <td>False</td>\n",
              "      <td>none</td>\n",
              "      <td>[]</td>\n",
              "      <td>False</td>\n",
              "      <td>NaN</td>\n",
              "      <td>[{'id': 1511411912579317760, 'id_str': '151141...</td>\n",
              "      <td>[{'id': 1511411912579317760, 'id_str': '151141...</td>\n",
              "    </tr>\n",
              "    <tr>\n",
              "      <th>4</th>\n",
              "      <td>Sat Apr 02 14:30:09 +0000 2022</td>\n",
              "      <td>1510263321123041281</td>\n",
              "      <td>1510263321123041281</td>\n",
              "      <td>The company has recalled several vehicle model...</td>\n",
              "      <td>False</td>\n",
              "      <td>[0, 157]</td>\n",
              "      <td>&lt;a href=\"http://www.socialnewsdesk.com\" rel=\"n...</td>\n",
              "      <td>NaN</td>\n",
              "      <td>None</td>\n",
              "      <td>NaN</td>\n",
              "      <td>...</td>\n",
              "      <td>False</td>\n",
              "      <td>False</td>\n",
              "      <td>False</td>\n",
              "      <td>False</td>\n",
              "      <td>none</td>\n",
              "      <td>[]</td>\n",
              "      <td>False</td>\n",
              "      <td>[{'url': 'https://t.co/QUf1yFRDE1', 'expanded_...</td>\n",
              "      <td>NaN</td>\n",
              "      <td>NaN</td>\n",
              "    </tr>\n",
              "  </tbody>\n",
              "</table>\n",
              "<p>5 rows × 75 columns</p>\n",
              "</div>\n",
              "      <button class=\"colab-df-convert\" onclick=\"convertToInteractive('df-4f5a958e-1ebf-44ed-b3d0-5422275a942f')\"\n",
              "              title=\"Convert this dataframe to an interactive table.\"\n",
              "              style=\"display:none;\">\n",
              "        \n",
              "  <svg xmlns=\"http://www.w3.org/2000/svg\" height=\"24px\"viewBox=\"0 0 24 24\"\n",
              "       width=\"24px\">\n",
              "    <path d=\"M0 0h24v24H0V0z\" fill=\"none\"/>\n",
              "    <path d=\"M18.56 5.44l.94 2.06.94-2.06 2.06-.94-2.06-.94-.94-2.06-.94 2.06-2.06.94zm-11 1L8.5 8.5l.94-2.06 2.06-.94-2.06-.94L8.5 2.5l-.94 2.06-2.06.94zm10 10l.94 2.06.94-2.06 2.06-.94-2.06-.94-.94-2.06-.94 2.06-2.06.94z\"/><path d=\"M17.41 7.96l-1.37-1.37c-.4-.4-.92-.59-1.43-.59-.52 0-1.04.2-1.43.59L10.3 9.45l-7.72 7.72c-.78.78-.78 2.05 0 2.83L4 21.41c.39.39.9.59 1.41.59.51 0 1.02-.2 1.41-.59l7.78-7.78 2.81-2.81c.8-.78.8-2.07 0-2.86zM5.41 20L4 18.59l7.72-7.72 1.47 1.35L5.41 20z\"/>\n",
              "  </svg>\n",
              "      </button>\n",
              "      \n",
              "  <style>\n",
              "    .colab-df-container {\n",
              "      display:flex;\n",
              "      flex-wrap:wrap;\n",
              "      gap: 12px;\n",
              "    }\n",
              "\n",
              "    .colab-df-convert {\n",
              "      background-color: #E8F0FE;\n",
              "      border: none;\n",
              "      border-radius: 50%;\n",
              "      cursor: pointer;\n",
              "      display: none;\n",
              "      fill: #1967D2;\n",
              "      height: 32px;\n",
              "      padding: 0 0 0 0;\n",
              "      width: 32px;\n",
              "    }\n",
              "\n",
              "    .colab-df-convert:hover {\n",
              "      background-color: #E2EBFA;\n",
              "      box-shadow: 0px 1px 2px rgba(60, 64, 67, 0.3), 0px 1px 3px 1px rgba(60, 64, 67, 0.15);\n",
              "      fill: #174EA6;\n",
              "    }\n",
              "\n",
              "    [theme=dark] .colab-df-convert {\n",
              "      background-color: #3B4455;\n",
              "      fill: #D2E3FC;\n",
              "    }\n",
              "\n",
              "    [theme=dark] .colab-df-convert:hover {\n",
              "      background-color: #434B5C;\n",
              "      box-shadow: 0px 1px 3px 1px rgba(0, 0, 0, 0.15);\n",
              "      filter: drop-shadow(0px 1px 2px rgba(0, 0, 0, 0.3));\n",
              "      fill: #FFFFFF;\n",
              "    }\n",
              "  </style>\n",
              "\n",
              "      <script>\n",
              "        const buttonEl =\n",
              "          document.querySelector('#df-4f5a958e-1ebf-44ed-b3d0-5422275a942f button.colab-df-convert');\n",
              "        buttonEl.style.display =\n",
              "          google.colab.kernel.accessAllowed ? 'block' : 'none';\n",
              "\n",
              "        async function convertToInteractive(key) {\n",
              "          const element = document.querySelector('#df-4f5a958e-1ebf-44ed-b3d0-5422275a942f');\n",
              "          const dataTable =\n",
              "            await google.colab.kernel.invokeFunction('convertToInteractive',\n",
              "                                                     [key], {});\n",
              "          if (!dataTable) return;\n",
              "\n",
              "          const docLinkHtml = 'Like what you see? Visit the ' +\n",
              "            '<a target=\"_blank\" href=https://colab.research.google.com/notebooks/data_table.ipynb>data table notebook</a>'\n",
              "            + ' to learn more about interactive tables.';\n",
              "          element.innerHTML = '';\n",
              "          dataTable['output_type'] = 'display_data';\n",
              "          await google.colab.output.renderOutput(dataTable, element);\n",
              "          const docLink = document.createElement('div');\n",
              "          docLink.innerHTML = docLinkHtml;\n",
              "          element.appendChild(docLink);\n",
              "        }\n",
              "      </script>\n",
              "    </div>\n",
              "  </div>\n",
              "  "
            ]
          },
          "metadata": {},
          "execution_count": 19
        }
      ]
    },
    {
      "cell_type": "code",
      "source": [
        "#print(truck_issues.columns[150:200])"
      ],
      "metadata": {
        "id": "k52AwrzBLbDL"
      },
      "execution_count": 20,
      "outputs": []
    },
    {
      "cell_type": "code",
      "source": [
        ""
      ],
      "metadata": {
        "id": "q_REYOSFT3E5"
      },
      "execution_count": null,
      "outputs": []
    },
    {
      "cell_type": "code",
      "source": [
        ""
      ],
      "metadata": {
        "id": "H3AMvDMGT3Bf"
      },
      "execution_count": null,
      "outputs": []
    },
    {
      "cell_type": "code",
      "source": [
        ""
      ],
      "metadata": {
        "id": "raTFPWTVT24g"
      },
      "execution_count": null,
      "outputs": []
    },
    {
      "cell_type": "code",
      "source": [
        ""
      ],
      "metadata": {
        "id": "mhN42QgFT21p"
      },
      "execution_count": null,
      "outputs": []
    },
    {
      "cell_type": "code",
      "source": [
        ""
      ],
      "metadata": {
        "id": "7rz8BEUtT2yT"
      },
      "execution_count": null,
      "outputs": []
    }
  ]
}