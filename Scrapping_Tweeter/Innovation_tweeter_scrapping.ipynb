{
  "nbformat": 4,
  "nbformat_minor": 0,
  "metadata": {
    "colab": {
      "name": "Innovation_tweeter_scrapping.ipynb",
      "provenance": [],
      "collapsed_sections": []
    },
    "kernelspec": {
      "name": "python3",
      "display_name": "Python 3"
    },
    "language_info": {
      "name": "python"
    }
  },
  "cells": [
    {
      "cell_type": "code",
      "execution_count": 1,
      "metadata": {
        "id": "zmT-jy3L3lRx"
      },
      "outputs": [],
      "source": [
        "# Libraries\n",
        "import tweepy\n",
        "import json\n",
        "import pandas as pd\n",
        "from pandas.io.json import json_normalize \n",
        "import datetime"
      ]
    },
    {
      "cell_type": "code",
      "source": [
        "# Keys\n"
      ],
      "metadata": {
        "id": "sIFUW_c730Yz"
      },
      "execution_count": 2,
      "outputs": []
    },
    {
      "cell_type": "code",
      "source": [
        "auth = tweepy.OAuthHandler(consumer_key,consumer_secret)\n",
        "auth.set_access_token(access_token, access_token_secret)"
      ],
      "metadata": {
        "id": "wOW25Vgo30bu"
      },
      "execution_count": 3,
      "outputs": []
    },
    {
      "cell_type": "code",
      "source": [
        "api = tweepy.API(auth, wait_on_rate_limit = True, wait_on_rate_limit_notify = True)"
      ],
      "metadata": {
        "id": "IFzycR3a30ev"
      },
      "execution_count": 4,
      "outputs": []
    },
    {
      "cell_type": "code",
      "source": [
        "data = api.me()"
      ],
      "metadata": {
        "id": "P0QhTCv_30hs"
      },
      "execution_count": 5,
      "outputs": []
    },
    {
      "cell_type": "code",
      "source": [
        "# function to convert _json to JSON\n",
        "def jsonify_tweepy(tweepy_object):\n",
        "    json_str = json.dumps(tweepy_object._json)\n",
        "    return json.loads(json_str)\n",
        "\n",
        "# function to get extended retweets\n",
        "def jsonify_tweepy_2(tweet_info):\n",
        "\n",
        "    if \"retweeted_status\" in dir(tweet_info):\n",
        "      return tweet_info.retweeted_status.full_text\n",
        "    else:\n",
        "      return tweet_info.full_text\n",
        "\n",
        "# df.iloc[row][col]"
      ],
      "metadata": {
        "id": "lA6mLDKY30lf"
      },
      "execution_count": 6,
      "outputs": []
    },
    {
      "cell_type": "markdown",
      "source": [
        "Accounts or keywords\n",
        "Keywords\n",
        "* \"car innovation ideas\"\n",
        "* \"\"\n",
        "* \"mustang mach e\"\n",
        "* \"ford vehicle issues\"\n",
        "* \"ford car issues\"\n",
        "* \"truck issues\"\n",
        "\n",
        "Pages"
      ],
      "metadata": {
        "id": "cwS7IuQXCbKV"
      }
    },
    {
      "cell_type": "code",
      "source": [
        "startDate = datetime.datetime(2021, 7, 4, 0, 0, 0)\n",
        "endDate =   datetime.datetime(2022, 7, 4, 0, 0, 0)"
      ],
      "metadata": {
        "id": "1PNAJqmlOrvj"
      },
      "execution_count": 7,
      "outputs": []
    },
    {
      "cell_type": "code",
      "source": [
        "# searching by keywords\n",
        "keyword_res = list(tweepy.Cursor(api.search, q=\"mustang mach e\", tweet_mode=\"extended\").items(3000))"
      ],
      "metadata": {
        "id": "njBE7cWb30ol"
      },
      "execution_count": 8,
      "outputs": []
    },
    {
      "cell_type": "code",
      "source": [
        "#truck_issues = json_normalize([jsonify_tweepy(tweet) for tweet in truck_issues_req])\n",
        "keyword_df = json_normalize([jsonify_tweepy(tweet) for tweet in keyword_res])"
      ],
      "metadata": {
        "colab": {
          "base_uri": "https://localhost:8080/"
        },
        "id": "OGuB0dB130q7",
        "outputId": "c9830bcf-08a9-48cb-896a-bd521dc37333"
      },
      "execution_count": 9,
      "outputs": [
        {
          "output_type": "stream",
          "name": "stderr",
          "text": [
            "/usr/local/lib/python3.7/dist-packages/ipykernel_launcher.py:2: FutureWarning: pandas.io.json.json_normalize is deprecated, use pandas.json_normalize instead\n",
            "  \n"
          ]
        }
      ]
    },
    {
      "cell_type": "code",
      "source": [
        "keyword_df.full_text = pd.DataFrame([jsonify_tweepy_2(tweet) for tweet in keyword_res ])"
      ],
      "metadata": {
        "id": "P2YAU2mqS6fB"
      },
      "execution_count": 10,
      "outputs": []
    },
    {
      "cell_type": "code",
      "source": [
        "keyword_df.head()"
      ],
      "metadata": {
        "colab": {
          "base_uri": "https://localhost:8080/",
          "height": 525
        },
        "id": "IEUHkVcj-wNB",
        "outputId": "42e3800a-5397-4dcd-f9b7-340314eb4e7a"
      },
      "execution_count": 11,
      "outputs": [
        {
          "output_type": "execute_result",
          "data": {
            "text/plain": [
              "                       created_at                   id               id_str  \\\n",
              "0  Mon Apr 11 00:30:35 +0000 2022  1513313526324113420  1513313526324113420   \n",
              "1  Mon Apr 11 00:09:32 +0000 2022  1513308228691578885  1513308228691578885   \n",
              "2  Sun Apr 10 23:33:35 +0000 2022  1513299182869745670  1513299182869745670   \n",
              "3  Sun Apr 10 23:32:22 +0000 2022  1513298874550657027  1513298874550657027   \n",
              "4  Sun Apr 10 20:03:15 +0000 2022  1513246248517570561  1513246248517570561   \n",
              "\n",
              "                                           full_text  truncated  \\\n",
              "0                     @Jaswht Tesla? Mustang mach e?      False   \n",
              "1  Ford Mustang Mach E 1400 🔥\\n#ForzaHorizon5 @Fo...      False   \n",
              "2  Ford Mustang Mach E 1400 🔥\\n#ForzaHorizon5 @Fo...      False   \n",
              "3  Ford Mustang Mach E 1400 🔥\\n#ForzaHorizon5 @Fo...      False   \n",
              "4                            https://t.co/F80hQJ46M8      False   \n",
              "\n",
              "  display_text_range                                             source  \\\n",
              "0            [8, 30]  <a href=\"http://twitter.com/download/android\" ...   \n",
              "1           [0, 100]  <a href=\"https://mobile.twitter.com\" rel=\"nofo...   \n",
              "2           [0, 100]  <a href=\"http://twitter.com/download/iphone\" r...   \n",
              "3            [0, 55]  <a href=\"http://twitter.com/download/android\" ...   \n",
              "4            [0, 23]  <a href=\"http://twitter.com/download/iphone\" r...   \n",
              "\n",
              "   in_reply_to_status_id in_reply_to_status_id_str  in_reply_to_user_id  ...  \\\n",
              "0           1.513313e+18       1513313243430678530          344434288.0  ...   \n",
              "1                    NaN                      None                  NaN  ...   \n",
              "2                    NaN                      None                  NaN  ...   \n",
              "3                    NaN                      None                  NaN  ...   \n",
              "4                    NaN                      None                  NaN  ...   \n",
              "\n",
              "  quoted_status.place quoted_status.contributors  \\\n",
              "0                 NaN                        NaN   \n",
              "1                 NaN                        NaN   \n",
              "2                 NaN                        NaN   \n",
              "3                 NaN                        NaN   \n",
              "4                 NaN                        NaN   \n",
              "\n",
              "  quoted_status.is_quote_status quoted_status.retweet_count  \\\n",
              "0                           NaN                         NaN   \n",
              "1                           NaN                         NaN   \n",
              "2                           NaN                         NaN   \n",
              "3                           NaN                         NaN   \n",
              "4                           NaN                         NaN   \n",
              "\n",
              "   quoted_status.favorite_count quoted_status.favorited  \\\n",
              "0                           NaN                     NaN   \n",
              "1                           NaN                     NaN   \n",
              "2                           NaN                     NaN   \n",
              "3                           NaN                     NaN   \n",
              "4                           NaN                     NaN   \n",
              "\n",
              "   quoted_status.retweeted  quoted_status.possibly_sensitive  \\\n",
              "0                      NaN                               NaN   \n",
              "1                      NaN                               NaN   \n",
              "2                      NaN                               NaN   \n",
              "3                      NaN                               NaN   \n",
              "4                      NaN                               NaN   \n",
              "\n",
              "   quoted_status.lang  quoted_status.user.entities.url.urls  \n",
              "0                 NaN                                   NaN  \n",
              "1                 NaN                                   NaN  \n",
              "2                 NaN                                   NaN  \n",
              "3                 NaN                                   NaN  \n",
              "4                 NaN                                   NaN  \n",
              "\n",
              "[5 rows x 313 columns]"
            ],
            "text/html": [
              "\n",
              "  <div id=\"df-b2aabd78-d87e-4a66-9e55-d44fb2710fb5\">\n",
              "    <div class=\"colab-df-container\">\n",
              "      <div>\n",
              "<style scoped>\n",
              "    .dataframe tbody tr th:only-of-type {\n",
              "        vertical-align: middle;\n",
              "    }\n",
              "\n",
              "    .dataframe tbody tr th {\n",
              "        vertical-align: top;\n",
              "    }\n",
              "\n",
              "    .dataframe thead th {\n",
              "        text-align: right;\n",
              "    }\n",
              "</style>\n",
              "<table border=\"1\" class=\"dataframe\">\n",
              "  <thead>\n",
              "    <tr style=\"text-align: right;\">\n",
              "      <th></th>\n",
              "      <th>created_at</th>\n",
              "      <th>id</th>\n",
              "      <th>id_str</th>\n",
              "      <th>full_text</th>\n",
              "      <th>truncated</th>\n",
              "      <th>display_text_range</th>\n",
              "      <th>source</th>\n",
              "      <th>in_reply_to_status_id</th>\n",
              "      <th>in_reply_to_status_id_str</th>\n",
              "      <th>in_reply_to_user_id</th>\n",
              "      <th>...</th>\n",
              "      <th>quoted_status.place</th>\n",
              "      <th>quoted_status.contributors</th>\n",
              "      <th>quoted_status.is_quote_status</th>\n",
              "      <th>quoted_status.retweet_count</th>\n",
              "      <th>quoted_status.favorite_count</th>\n",
              "      <th>quoted_status.favorited</th>\n",
              "      <th>quoted_status.retweeted</th>\n",
              "      <th>quoted_status.possibly_sensitive</th>\n",
              "      <th>quoted_status.lang</th>\n",
              "      <th>quoted_status.user.entities.url.urls</th>\n",
              "    </tr>\n",
              "  </thead>\n",
              "  <tbody>\n",
              "    <tr>\n",
              "      <th>0</th>\n",
              "      <td>Mon Apr 11 00:30:35 +0000 2022</td>\n",
              "      <td>1513313526324113420</td>\n",
              "      <td>1513313526324113420</td>\n",
              "      <td>@Jaswht Tesla? Mustang mach e?</td>\n",
              "      <td>False</td>\n",
              "      <td>[8, 30]</td>\n",
              "      <td>&lt;a href=\"http://twitter.com/download/android\" ...</td>\n",
              "      <td>1.513313e+18</td>\n",
              "      <td>1513313243430678530</td>\n",
              "      <td>344434288.0</td>\n",
              "      <td>...</td>\n",
              "      <td>NaN</td>\n",
              "      <td>NaN</td>\n",
              "      <td>NaN</td>\n",
              "      <td>NaN</td>\n",
              "      <td>NaN</td>\n",
              "      <td>NaN</td>\n",
              "      <td>NaN</td>\n",
              "      <td>NaN</td>\n",
              "      <td>NaN</td>\n",
              "      <td>NaN</td>\n",
              "    </tr>\n",
              "    <tr>\n",
              "      <th>1</th>\n",
              "      <td>Mon Apr 11 00:09:32 +0000 2022</td>\n",
              "      <td>1513308228691578885</td>\n",
              "      <td>1513308228691578885</td>\n",
              "      <td>Ford Mustang Mach E 1400 🔥\\n#ForzaHorizon5 @Fo...</td>\n",
              "      <td>False</td>\n",
              "      <td>[0, 100]</td>\n",
              "      <td>&lt;a href=\"https://mobile.twitter.com\" rel=\"nofo...</td>\n",
              "      <td>NaN</td>\n",
              "      <td>None</td>\n",
              "      <td>NaN</td>\n",
              "      <td>...</td>\n",
              "      <td>NaN</td>\n",
              "      <td>NaN</td>\n",
              "      <td>NaN</td>\n",
              "      <td>NaN</td>\n",
              "      <td>NaN</td>\n",
              "      <td>NaN</td>\n",
              "      <td>NaN</td>\n",
              "      <td>NaN</td>\n",
              "      <td>NaN</td>\n",
              "      <td>NaN</td>\n",
              "    </tr>\n",
              "    <tr>\n",
              "      <th>2</th>\n",
              "      <td>Sun Apr 10 23:33:35 +0000 2022</td>\n",
              "      <td>1513299182869745670</td>\n",
              "      <td>1513299182869745670</td>\n",
              "      <td>Ford Mustang Mach E 1400 🔥\\n#ForzaHorizon5 @Fo...</td>\n",
              "      <td>False</td>\n",
              "      <td>[0, 100]</td>\n",
              "      <td>&lt;a href=\"http://twitter.com/download/iphone\" r...</td>\n",
              "      <td>NaN</td>\n",
              "      <td>None</td>\n",
              "      <td>NaN</td>\n",
              "      <td>...</td>\n",
              "      <td>NaN</td>\n",
              "      <td>NaN</td>\n",
              "      <td>NaN</td>\n",
              "      <td>NaN</td>\n",
              "      <td>NaN</td>\n",
              "      <td>NaN</td>\n",
              "      <td>NaN</td>\n",
              "      <td>NaN</td>\n",
              "      <td>NaN</td>\n",
              "      <td>NaN</td>\n",
              "    </tr>\n",
              "    <tr>\n",
              "      <th>3</th>\n",
              "      <td>Sun Apr 10 23:32:22 +0000 2022</td>\n",
              "      <td>1513298874550657027</td>\n",
              "      <td>1513298874550657027</td>\n",
              "      <td>Ford Mustang Mach E 1400 🔥\\n#ForzaHorizon5 @Fo...</td>\n",
              "      <td>False</td>\n",
              "      <td>[0, 55]</td>\n",
              "      <td>&lt;a href=\"http://twitter.com/download/android\" ...</td>\n",
              "      <td>NaN</td>\n",
              "      <td>None</td>\n",
              "      <td>NaN</td>\n",
              "      <td>...</td>\n",
              "      <td>NaN</td>\n",
              "      <td>NaN</td>\n",
              "      <td>NaN</td>\n",
              "      <td>NaN</td>\n",
              "      <td>NaN</td>\n",
              "      <td>NaN</td>\n",
              "      <td>NaN</td>\n",
              "      <td>NaN</td>\n",
              "      <td>NaN</td>\n",
              "      <td>NaN</td>\n",
              "    </tr>\n",
              "    <tr>\n",
              "      <th>4</th>\n",
              "      <td>Sun Apr 10 20:03:15 +0000 2022</td>\n",
              "      <td>1513246248517570561</td>\n",
              "      <td>1513246248517570561</td>\n",
              "      <td>https://t.co/F80hQJ46M8</td>\n",
              "      <td>False</td>\n",
              "      <td>[0, 23]</td>\n",
              "      <td>&lt;a href=\"http://twitter.com/download/iphone\" r...</td>\n",
              "      <td>NaN</td>\n",
              "      <td>None</td>\n",
              "      <td>NaN</td>\n",
              "      <td>...</td>\n",
              "      <td>NaN</td>\n",
              "      <td>NaN</td>\n",
              "      <td>NaN</td>\n",
              "      <td>NaN</td>\n",
              "      <td>NaN</td>\n",
              "      <td>NaN</td>\n",
              "      <td>NaN</td>\n",
              "      <td>NaN</td>\n",
              "      <td>NaN</td>\n",
              "      <td>NaN</td>\n",
              "    </tr>\n",
              "  </tbody>\n",
              "</table>\n",
              "<p>5 rows × 313 columns</p>\n",
              "</div>\n",
              "      <button class=\"colab-df-convert\" onclick=\"convertToInteractive('df-b2aabd78-d87e-4a66-9e55-d44fb2710fb5')\"\n",
              "              title=\"Convert this dataframe to an interactive table.\"\n",
              "              style=\"display:none;\">\n",
              "        \n",
              "  <svg xmlns=\"http://www.w3.org/2000/svg\" height=\"24px\"viewBox=\"0 0 24 24\"\n",
              "       width=\"24px\">\n",
              "    <path d=\"M0 0h24v24H0V0z\" fill=\"none\"/>\n",
              "    <path d=\"M18.56 5.44l.94 2.06.94-2.06 2.06-.94-2.06-.94-.94-2.06-.94 2.06-2.06.94zm-11 1L8.5 8.5l.94-2.06 2.06-.94-2.06-.94L8.5 2.5l-.94 2.06-2.06.94zm10 10l.94 2.06.94-2.06 2.06-.94-2.06-.94-.94-2.06-.94 2.06-2.06.94z\"/><path d=\"M17.41 7.96l-1.37-1.37c-.4-.4-.92-.59-1.43-.59-.52 0-1.04.2-1.43.59L10.3 9.45l-7.72 7.72c-.78.78-.78 2.05 0 2.83L4 21.41c.39.39.9.59 1.41.59.51 0 1.02-.2 1.41-.59l7.78-7.78 2.81-2.81c.8-.78.8-2.07 0-2.86zM5.41 20L4 18.59l7.72-7.72 1.47 1.35L5.41 20z\"/>\n",
              "  </svg>\n",
              "      </button>\n",
              "      \n",
              "  <style>\n",
              "    .colab-df-container {\n",
              "      display:flex;\n",
              "      flex-wrap:wrap;\n",
              "      gap: 12px;\n",
              "    }\n",
              "\n",
              "    .colab-df-convert {\n",
              "      background-color: #E8F0FE;\n",
              "      border: none;\n",
              "      border-radius: 50%;\n",
              "      cursor: pointer;\n",
              "      display: none;\n",
              "      fill: #1967D2;\n",
              "      height: 32px;\n",
              "      padding: 0 0 0 0;\n",
              "      width: 32px;\n",
              "    }\n",
              "\n",
              "    .colab-df-convert:hover {\n",
              "      background-color: #E2EBFA;\n",
              "      box-shadow: 0px 1px 2px rgba(60, 64, 67, 0.3), 0px 1px 3px 1px rgba(60, 64, 67, 0.15);\n",
              "      fill: #174EA6;\n",
              "    }\n",
              "\n",
              "    [theme=dark] .colab-df-convert {\n",
              "      background-color: #3B4455;\n",
              "      fill: #D2E3FC;\n",
              "    }\n",
              "\n",
              "    [theme=dark] .colab-df-convert:hover {\n",
              "      background-color: #434B5C;\n",
              "      box-shadow: 0px 1px 3px 1px rgba(0, 0, 0, 0.15);\n",
              "      filter: drop-shadow(0px 1px 2px rgba(0, 0, 0, 0.3));\n",
              "      fill: #FFFFFF;\n",
              "    }\n",
              "  </style>\n",
              "\n",
              "      <script>\n",
              "        const buttonEl =\n",
              "          document.querySelector('#df-b2aabd78-d87e-4a66-9e55-d44fb2710fb5 button.colab-df-convert');\n",
              "        buttonEl.style.display =\n",
              "          google.colab.kernel.accessAllowed ? 'block' : 'none';\n",
              "\n",
              "        async function convertToInteractive(key) {\n",
              "          const element = document.querySelector('#df-b2aabd78-d87e-4a66-9e55-d44fb2710fb5');\n",
              "          const dataTable =\n",
              "            await google.colab.kernel.invokeFunction('convertToInteractive',\n",
              "                                                     [key], {});\n",
              "          if (!dataTable) return;\n",
              "\n",
              "          const docLinkHtml = 'Like what you see? Visit the ' +\n",
              "            '<a target=\"_blank\" href=https://colab.research.google.com/notebooks/data_table.ipynb>data table notebook</a>'\n",
              "            + ' to learn more about interactive tables.';\n",
              "          element.innerHTML = '';\n",
              "          dataTable['output_type'] = 'display_data';\n",
              "          await google.colab.output.renderOutput(dataTable, element);\n",
              "          const docLink = document.createElement('div');\n",
              "          docLink.innerHTML = docLinkHtml;\n",
              "          element.appendChild(docLink);\n",
              "        }\n",
              "      </script>\n",
              "    </div>\n",
              "  </div>\n",
              "  "
            ]
          },
          "metadata": {},
          "execution_count": 11
        }
      ]
    },
    {
      "cell_type": "code",
      "source": [
        "#print(keyword_df.columns[150:200])"
      ],
      "metadata": {
        "id": "k52AwrzBLbDL"
      },
      "execution_count": null,
      "outputs": []
    },
    {
      "cell_type": "code",
      "source": [
        "len(keyword_df)"
      ],
      "metadata": {
        "id": "vh0q-xeupXMj",
        "colab": {
          "base_uri": "https://localhost:8080/"
        },
        "outputId": "46abcaa3-62ea-45c7-920c-91f9cf85cf80"
      },
      "execution_count": 12,
      "outputs": [
        {
          "output_type": "execute_result",
          "data": {
            "text/plain": [
              "338"
            ]
          },
          "metadata": {},
          "execution_count": 12
        }
      ]
    },
    {
      "cell_type": "code",
      "source": [
        "keyword_df.to_excel(\"mustang_mach_e041022.xlsx\")"
      ],
      "metadata": {
        "id": "-8OVR-sVY_5-"
      },
      "execution_count": 14,
      "outputs": []
    },
    {
      "cell_type": "markdown",
      "source": [
        "## Executing sentiment analisis"
      ],
      "metadata": {
        "id": "j2FofJlQoXpg"
      }
    },
    {
      "cell_type": "code",
      "source": [
        "!pip install langdetect "
      ],
      "metadata": {
        "colab": {
          "base_uri": "https://localhost:8080/"
        },
        "id": "5AzK3qtJa2k_",
        "outputId": "08ff7746-d932-45d0-9207-364a3b0a9cfa"
      },
      "execution_count": 17,
      "outputs": [
        {
          "output_type": "stream",
          "name": "stdout",
          "text": [
            "Collecting langdetect\n",
            "  Downloading langdetect-1.0.9.tar.gz (981 kB)\n",
            "\u001b[K     |████████████████████████████████| 981 kB 4.1 MB/s \n",
            "\u001b[?25hRequirement already satisfied: six in /usr/local/lib/python3.7/dist-packages (from langdetect) (1.15.0)\n",
            "Building wheels for collected packages: langdetect\n",
            "  Building wheel for langdetect (setup.py) ... \u001b[?25l\u001b[?25hdone\n",
            "  Created wheel for langdetect: filename=langdetect-1.0.9-py3-none-any.whl size=993242 sha256=3475aa6c3aec1caa88c95865e9efb472b903b864654432e64b8abeb269e8c017\n",
            "  Stored in directory: /root/.cache/pip/wheels/c5/96/8a/f90c59ed25d75e50a8c10a1b1c2d4c402e4dacfa87f3aff36a\n",
            "Successfully built langdetect\n",
            "Installing collected packages: langdetect\n",
            "Successfully installed langdetect-1.0.9\n"
          ]
        }
      ]
    },
    {
      "cell_type": "code",
      "source": [
        "import matplotlib.pyplot as plt\n",
        "from textblob import TextBlob\n",
        "import re\n",
        "import numpy as np\n",
        "import string\n",
        "\n",
        "from wordcloud import WordCloud, STOPWORDS\n",
        "from PIL import Image\n",
        "from nltk.sentiment.vader import SentimentIntensityAnalyzer\n",
        "from langdetect import detect\n",
        "from nltk.stem import SnowballStemmer\n",
        "from nltk.sentiment.vader import SentimentIntensityAnalyzer\n",
        "from sklearn.feature_extraction.text import CountVectorizer\n"
      ],
      "metadata": {
        "id": "q_REYOSFT3E5"
      },
      "execution_count": 18,
      "outputs": []
    },
    {
      "cell_type": "code",
      "source": [
        "import nltk\n",
        "nltk.download('vader_lexicon')\n",
        "nltk.download('stopwords')"
      ],
      "metadata": {
        "id": "H3AMvDMGT3Bf",
        "colab": {
          "base_uri": "https://localhost:8080/"
        },
        "outputId": "268d5eef-b9c3-41b4-c82b-ee7ffd95a85f"
      },
      "execution_count": 19,
      "outputs": [
        {
          "output_type": "stream",
          "name": "stdout",
          "text": [
            "[nltk_data] Downloading package vader_lexicon to /root/nltk_data...\n",
            "[nltk_data] Downloading package stopwords to /root/nltk_data...\n",
            "[nltk_data]   Unzipping corpora/stopwords.zip.\n"
          ]
        },
        {
          "output_type": "execute_result",
          "data": {
            "text/plain": [
              "True"
            ]
          },
          "metadata": {},
          "execution_count": 19
        }
      ]
    },
    {
      "cell_type": "code",
      "source": [
        "# New dataframe columns\n",
        "positive  = 0\n",
        "negative = 0\n",
        "neutral = 0\n",
        "polarity = 0\n",
        "tweet_list = []\n",
        "neutral_list = []\n",
        "negative_list = []\n",
        "positive_list = []"
      ],
      "metadata": {
        "id": "raTFPWTVT24g"
      },
      "execution_count": 20,
      "outputs": []
    },
    {
      "cell_type": "code",
      "source": [
        "def percentage(part,whole):\n",
        "    return 100 * float(part)/float(whole)"
      ],
      "metadata": {
        "id": "mhN42QgFT21p"
      },
      "execution_count": 21,
      "outputs": []
    },
    {
      "cell_type": "code",
      "source": [
        "#keyword_df = pd.read_csv(\"potholes_df1.csv\")\n",
        "tweets = keyword_df.full_text"
      ],
      "metadata": {
        "id": "xBQTjmhpfkdT"
      },
      "execution_count": 23,
      "outputs": []
    },
    {
      "cell_type": "code",
      "source": [
        "noOfTweet = len(keyword_df)\n",
        "\n",
        "for tweet in tweets:\n",
        "    \n",
        "    #print(tweet.text)\n",
        "    tweet_list.append(tweet)\n",
        "    analysis = TextBlob(tweet)\n",
        "    score = SentimentIntensityAnalyzer().polarity_scores(tweet)\n",
        "    neg = score['neg']\n",
        "    neu = score['neu']\n",
        "    pos = score['pos']\n",
        "    comp = score['compound']\n",
        "    polarity += analysis.sentiment.polarity\n",
        "    \n",
        "    if neg > pos:\n",
        "        negative_list.append(tweet)\n",
        "        negative += 1\n",
        "\n",
        "    elif pos > neg:\n",
        "        positive_list.append(tweet)\n",
        "        positive += 1\n",
        "    \n",
        "    elif pos == neg:\n",
        "        neutral_list.append(tweet)\n",
        "        neutral += 1\n",
        "\n",
        "positive = percentage(positive, noOfTweet)\n",
        "negative = percentage(negative, noOfTweet)\n",
        "neutral = percentage(neutral, noOfTweet)\n",
        "polarity = percentage(polarity, noOfTweet)\n",
        "positive = format(positive, '.1f')\n",
        "negative = format(negative, '.1f')\n",
        "neutral = format(neutral, '.1f')"
      ],
      "metadata": {
        "id": "7rz8BEUtT2yT"
      },
      "execution_count": 24,
      "outputs": []
    },
    {
      "cell_type": "code",
      "source": [
        "tweet_list = pd.DataFrame(tweet_list)\n",
        "neutral_list = pd.DataFrame(neutral_list)\n",
        "negative_list = pd.DataFrame(negative_list)\n",
        "positive_list = pd.DataFrame(positive_list)\n",
        "print(\"total number: \",len(tweet_list))\n",
        "print(\"positive number: \",len(positive_list))\n",
        "print(\"negative number: \", len(negative_list))\n",
        "print(\"neutral number: \",len(neutral_list))"
      ],
      "metadata": {
        "colab": {
          "base_uri": "https://localhost:8080/"
        },
        "id": "HBVuYCeEg4oQ",
        "outputId": "00708d5a-833d-40c5-b292-1f6774989084"
      },
      "execution_count": 25,
      "outputs": [
        {
          "output_type": "stream",
          "name": "stdout",
          "text": [
            "total number:  338\n",
            "positive number:  151\n",
            "negative number:  52\n",
            "neutral number:  135\n"
          ]
        }
      ]
    },
    {
      "cell_type": "code",
      "source": [
        "labels = ['Positive ['+str(positive)+'%]' , 'Neutral ['+str(neutral)+'%]','Negative ['+str(negative)+'%]']\n",
        "sizes = [positive, neutral, negative]\n",
        "colors = ['yellowgreen', 'blue','red']\n",
        "patches, texts = plt.pie(sizes,colors=colors, startangle=90)\n",
        "plt.style.use('default')\n",
        "plt.legend(labels)\n",
        "plt.title(\"Sentiment Analysis Result for account= mrpotholeuk\" )\n",
        "plt.axis('equal')\n",
        "plt.show()"
      ],
      "metadata": {
        "colab": {
          "base_uri": "https://localhost:8080/",
          "height": 264
        },
        "id": "nsm1RAmqg4l1",
        "outputId": "3be0f128-4d7d-48bc-81be-5c6f3338a881"
      },
      "execution_count": 26,
      "outputs": [
        {
          "output_type": "display_data",
          "data": {
            "text/plain": [
              "<Figure size 432x288 with 1 Axes>"
            ],
            "image/png": "[encoded data removed]"
          },
          "metadata": {}
        }
      ]
    },
    {
      "cell_type": "code",
      "source": [
        ""
      ],
      "metadata": {
        "id": "EK_4Du7bg4i9"
      },
      "execution_count": null,
      "outputs": []
    },
    {
      "cell_type": "code",
      "source": [
        ""
      ],
      "metadata": {
        "id": "35yWNSiLg4fx"
      },
      "execution_count": null,
      "outputs": []
    },
    {
      "cell_type": "code",
      "source": [
        ""
      ],
      "metadata": {
        "id": "MBURIPTFg4cF"
      },
      "execution_count": null,
      "outputs": []
    },
    {
      "cell_type": "code",
      "source": [
        ""
      ],
      "metadata": {
        "id": "rxUCoCssg4WQ"
      },
      "execution_count": null,
      "outputs": []
    }
  ]
}