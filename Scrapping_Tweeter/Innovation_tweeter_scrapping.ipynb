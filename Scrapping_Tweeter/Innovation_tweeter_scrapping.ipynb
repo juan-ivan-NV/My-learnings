{
  "cells": [
    {
      "cell_type": "code",
      "execution_count": null,
      "metadata": {
        "id": "zmT-jy3L3lRx"
      },
      "outputs": [],
      "source": [
        "import tweepy\n",
        "import json\n",
        "import pandas as pd\n",
        "from pandas.io.json import json_normalize "
      ]
    },
    {
      "cell_type": "code",
      "execution_count": null,
      "metadata": {
        "id": "sIFUW_c730Yz"
      },
      "outputs": [],
      "source": []
    },
    {
      "cell_type": "code",
      "execution_count": null,
      "metadata": {
        "id": "wOW25Vgo30bu"
      },
      "outputs": [],
      "source": [
        "auth = tweepy.OAuthHandler(consumer_key,consumer_secret)\n",
        "auth.set_access_token(access_token, access_token_secret)"
      ]
    },
    {
      "cell_type": "code",
      "execution_count": null,
      "metadata": {
        "id": "IFzycR3a30ev"
      },
      "outputs": [],
      "source": [
        "api = tweepy.API(auth, wait_on_rate_limit = True, wait_on_rate_limit_notify = True)"
      ]
    },
    {
      "cell_type": "code",
      "execution_count": null,
      "metadata": {
        "id": "P0QhTCv_30hs"
      },
      "outputs": [],
      "source": [
        "data = api.me()"
      ]
    },
    {
      "cell_type": "code",
      "execution_count": null,
      "metadata": {
        "id": "lA6mLDKY30lf"
      },
      "outputs": [],
      "source": [
        "# function to convert _json to JSON\n",
        "def jsonify_tweepy(tweepy_object):\n",
        "    json_str = json.dumps(tweepy_object._json)\n",
        "    return json.loads(json_str)\n",
        "\n",
        "# function to get extended retweets\n",
        "def jsonify_tweepy_2(tweet_info):\n",
        "\n",
        "    if \"retweeted_status\" in dir(tweet_info):\n",
        "      return tweet_info.retweeted_status.full_text\n",
        "    else:\n",
        "      return tweet_info.full_text\n",
        "\n",
        "# df.iloc[row][col]"
      ]
    },
    {
      "cell_type": "markdown",
      "metadata": {
        "id": "cwS7IuQXCbKV"
      },
      "source": [
        "Accounts or keywords\n",
        "Keywords\n",
        "* \"car innovation ideas\"\n",
        "Pages"
      ]
    },
    {
      "cell_type": "code",
      "execution_count": null,
      "metadata": {
        "id": "njBE7cWb30ol"
      },
      "outputs": [],
      "source": [
        "#\n",
        "truck_issues = list(tweepy.Cursor(api.search, q=\"truck issues\", tweet_mode=\"extended\").items(1500))"
      ]
    },
    {
      "cell_type": "code",
      "execution_count": null,
      "metadata": {
        "id": "OGuB0dB130q7"
      },
      "outputs": [],
      "source": []
    }
  ],
  "metadata": {
    "colab": {
      "name": "Innovation_tweeter_scrapping.ipynb",
      "provenance": []
    },
    "kernelspec": {
      "display_name": "Python 3",
      "name": "python3"
    },
    "language_info": {
      "name": "python"
    }
  },
  "nbformat": 4,
  "nbformat_minor": 0
}
