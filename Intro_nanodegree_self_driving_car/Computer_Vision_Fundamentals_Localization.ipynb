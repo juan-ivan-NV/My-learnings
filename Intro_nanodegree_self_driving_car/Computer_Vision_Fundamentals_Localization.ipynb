{
  "nbformat": 4,
  "nbformat_minor": 0,
  "metadata": {
    "colab": {
      "name": "Computer_Vision_Fundamentals_Localization.ipynb",
      "provenance": []
    },
    "kernelspec": {
      "name": "python3",
      "display_name": "Python 3"
    },
    "language_info": {
      "name": "python"
    }
  },
  "cells": [
    {
      "cell_type": "markdown",
      "source": [
        "## Localization\n",
        "\"Where is our car in a given map with an accuracy of 10cm or less?\"\n",
        "\n",
        "\"Onboard sensors are used to estimate transformation between measurements and a given map.\""
      ],
      "metadata": {
        "id": "miIFXtsTw0EC"
      }
    },
    {
      "cell_type": "code",
      "execution_count": null,
      "metadata": {
        "id": "mrtqb-8MqZjf",
        "colab": {
          "base_uri": "https://localhost:8080/"
        },
        "outputId": "f9b796b6-a78e-4369-fde9-0bdb105a302d"
      },
      "outputs": [
        {
          "output_type": "execute_result",
          "data": {
            "text/plain": [
              "0.36"
            ]
          },
          "metadata": {},
          "execution_count": 3
        }
      ],
      "source": [
        "0.04 + 0.12 + 0.12 + 0.04 + 0.04"
      ]
    },
    {
      "cell_type": "code",
      "source": [
        "(0.12/0.36)"
      ],
      "metadata": {
        "colab": {
          "base_uri": "https://localhost:8080/"
        },
        "id": "TLJeJGmTLIxN",
        "outputId": "499b1a5d-b487-4b46-dcbe-88fdf063691d"
      },
      "execution_count": null,
      "outputs": [
        {
          "output_type": "execute_result",
          "data": {
            "text/plain": [
              "0.3333333333333333"
            ]
          },
          "metadata": {},
          "execution_count": 7
        }
      ]
    },
    {
      "cell_type": "code",
      "source": [
        "(0.04/0.36) + (0.12/0.36) + (0.12/0.36) + (0.04/0.36) + (0.04/0.36)"
      ],
      "metadata": {
        "colab": {
          "base_uri": "https://localhost:8080/"
        },
        "id": "jgdvoAbbKOgX",
        "outputId": "ac9a16d2-715d-4b03-b478-8908c4979e03"
      },
      "execution_count": null,
      "outputs": [
        {
          "output_type": "execute_result",
          "data": {
            "text/plain": [
              "1.0"
            ]
          },
          "metadata": {},
          "execution_count": 5
        }
      ]
    },
    {
      "cell_type": "markdown",
      "source": [
        "## pHit and pMiss"
      ],
      "metadata": {
        "id": "20BjszjENcWQ"
      }
    },
    {
      "cell_type": "code",
      "source": [
        "#Write code that outputs p after multiplying each entry \n",
        "#by pHit or pMiss at the appropriate places. Remember that\n",
        "#the red cells 1 and 2 are hits and the other green cells\n",
        "#are misses.\n",
        "\n",
        "\n",
        "p=[0.2,0.2,0.2,0.2,0.2]\n",
        "pHit = 0.6\n",
        "pMiss = 0.2\n",
        "\n",
        "#Enter code here\n",
        "p[0] = p[0]*pMiss\n",
        "p[1] = p[1]*pHit\n",
        "p[2] = p[2]*pHit\n",
        "p[3] = p[3]*pMiss\n",
        "p[4] = p[4]*pMiss\n",
        "print(p)\n"
      ],
      "metadata": {
        "colab": {
          "base_uri": "https://localhost:8080/"
        },
        "id": "MIFOWrt9MvoS",
        "outputId": "6e7bf2ec-6b33-4edd-ebbc-c4b6c8a8b388"
      },
      "execution_count": null,
      "outputs": [
        {
          "output_type": "stream",
          "name": "stdout",
          "text": [
            "[0.04000000000000001, 0.12, 0.12, 0.04000000000000001, 0.04000000000000001]\n"
          ]
        }
      ]
    },
    {
      "cell_type": "markdown",
      "source": [
        "## Sum of Probabilities"
      ],
      "metadata": {
        "id": "ssb7UHTGNhON"
      }
    },
    {
      "cell_type": "code",
      "source": [
        "#Modify the program to find and print the sum of all \n",
        "#the entries in the list p.\n",
        "\n",
        "p=[0.2, 0.2, 0.2, 0.2, 0.2]\n",
        "pHit = 0.6\n",
        "pMiss = 0.2\n",
        "\n",
        "p[0]=p[0]*pMiss\n",
        "p[1]=p[1]*pHit\n",
        "p[2]=p[2]*pHit\n",
        "p[3]=p[3]*pMiss\n",
        "p[4]=p[4]*pMiss\n",
        "\n",
        "# Enter your code below\n",
        "Sum = sum(p)\n",
        "print(Sum)"
      ],
      "metadata": {
        "colab": {
          "base_uri": "https://localhost:8080/"
        },
        "id": "tyuG7XTxNQ-1",
        "outputId": "7b45a798-c6c1-4ac9-976a-04585b34aa1a"
      },
      "execution_count": null,
      "outputs": [
        {
          "output_type": "stream",
          "name": "stdout",
          "text": [
            "0.3600000000000001\n"
          ]
        }
      ]
    },
    {
      "cell_type": "markdown",
      "source": [
        "## Sense function"
      ],
      "metadata": {
        "id": "2RMauTuRPAy8"
      }
    },
    {
      "cell_type": "code",
      "source": [
        "#Modify the code below so that the function sense, which \n",
        "#takes p and Z as inputs, will output the NON-normalized \n",
        "#probability distribution, q, after multiplying the entries \n",
        "#in p by pHit or pMiss according to the color in the \n",
        "#corresponding cell in world.\n",
        "\n",
        "\n",
        "p=[0.2, 0.2, 0.2, 0.2, 0.2]\n",
        "world=['green', 'red', 'red', 'green', 'green']\n",
        "Z = 'red'\n",
        "pHit = 0.6\n",
        "pMiss = 0.2\n",
        "\n",
        "def sense(p, Z):\n",
        "    #\n",
        "    #ADD \n",
        "    q = [p[i]*pHit if world[i] == Z else p[i]*pMiss for i in range(len(world))]\n",
        "    #\n",
        "    return q\n",
        "\n",
        "print(sense(p,Z))"
      ],
      "metadata": {
        "colab": {
          "base_uri": "https://localhost:8080/"
        },
        "id": "Jsnc7eNePDhh",
        "outputId": "005bbd9c-4e5a-4527-d09b-495a00f80b88"
      },
      "execution_count": null,
      "outputs": [
        {
          "output_type": "stream",
          "name": "stdout",
          "text": [
            "[0.04000000000000001, 0.12, 0.12, 0.04000000000000001, 0.04000000000000001]\n"
          ]
        }
      ]
    },
    {
      "cell_type": "markdown",
      "source": [
        "## Normalized Sense Funciton"
      ],
      "metadata": {
        "id": "DrLEjlSlR7H9"
      }
    },
    {
      "cell_type": "code",
      "source": [
        "#Modify your code so that it normalizes the output for \n",
        "#the function sense. This means that the entries in q \n",
        "#should sum to one.\n",
        "\n",
        "\n",
        "p=[0.2, 0.2, 0.2, 0.2, 0.2]\n",
        "world=['green', 'red', 'red', 'green', 'green']\n",
        "Z = 'red'\n",
        "pHit = 0.6\n",
        "pMiss = 0.2\n",
        "\n",
        "def sense(p, Z):\n",
        "    q = [p[i]*pHit if world[i] == Z else p[i]*pMiss for i in range(len(world))]\n",
        "    q = [i/sum(q) for i in q]\n",
        "    return q\n",
        "print(sense(p,Z))"
      ],
      "metadata": {
        "colab": {
          "base_uri": "https://localhost:8080/"
        },
        "id": "4SsTsfl2Q9ra",
        "outputId": "d1d701fd-9a91-44be-f0c8-11f39b2afdda"
      },
      "execution_count": null,
      "outputs": [
        {
          "output_type": "stream",
          "name": "stdout",
          "text": [
            "[0.1111111111111111, 0.3333333333333332, 0.3333333333333332, 0.1111111111111111, 0.1111111111111111]\n"
          ]
        }
      ]
    },
    {
      "cell_type": "markdown",
      "source": [
        "## Multiple measurements"
      ],
      "metadata": {
        "id": "Zz_iu7KyWRTU"
      }
    },
    {
      "cell_type": "code",
      "source": [
        "#Modify the code so that it updates the probability twice\n",
        "#and gives the posterior distribution after both \n",
        "#measurements are incorporated. Make sure that your code \n",
        "#allows for any sequence of measurement of any length.\n",
        "\n",
        "p=[0.2, 0.2, 0.2, 0.2, 0.2]\n",
        "world=['green', 'red', 'red', 'green', 'green']\n",
        "measurements = ['red', 'green']\n",
        "pHit = 0.6\n",
        "pMiss = 0.2\n",
        "Z = 'red'\n",
        "\n",
        "def sense(p, Z):\n",
        "    q = [p[i]*pHit if world[i] == Z else p[i]*pMiss for i in range(len(world))]\n",
        "    q = [i/sum(q) for i in q]\n",
        "    return q\n",
        "#\n",
        "#ADD YOUR CODE HERE\n",
        "#\n",
        "def sense2(p, world, Z, measurements):\n",
        "  world = world + measurements\n",
        "  p = [1/len(world) for i in world]\n",
        "  q = [p[i]*pHit if world[i] == Z else p[i]*pMiss for i in range(len(world))]\n",
        "  q = [i/sum(q) for i in q]\n",
        "  return q\n",
        "  \n",
        "print(sense2(p, world, Z, measurements))"
      ],
      "metadata": {
        "colab": {
          "base_uri": "https://localhost:8080/"
        },
        "id": "nSiShhszWQfT",
        "outputId": "42447745-66f8-4ef4-f18a-b4447963c17b"
      },
      "execution_count": null,
      "outputs": [
        {
          "output_type": "stream",
          "name": "stdout",
          "text": [
            "[0.07692307692307693, 0.23076923076923075, 0.23076923076923075, 0.07692307692307693, 0.07692307692307693, 0.23076923076923075, 0.07692307692307693]\n"
          ]
        }
      ]
    },
    {
      "cell_type": "markdown",
      "source": [
        "## Move function"
      ],
      "metadata": {
        "id": "jbmXCkFLoUw5"
      }
    },
    {
      "cell_type": "code",
      "source": [
        "#Program a function that returns a new distribution \n",
        "#q, shifted to the right by U units. If U=0, q should \n",
        "#be the same as p.\n",
        "\n",
        "p=[0, 1, 0, 0, 0]\n",
        "world=['green', 'red', 'red', 'green', 'green']\n",
        "measurements = ['red', 'green']\n",
        "pHit = 0.6\n",
        "pMiss = 0.2\n",
        "\n",
        "def sense(p, Z):\n",
        "    q=[]\n",
        "    for i in range(len(p)):\n",
        "        hit = (Z == world[i])\n",
        "        q.append(p[i] * (hit * pHit + (1-hit) * pMiss))\n",
        "    s = sum(q)\n",
        "    for i in range(len(q)):\n",
        "        q[i] = q[i] / s\n",
        "    return q\n",
        "\n",
        "def move(p, U):\n",
        "    #\n",
        "    #ADD CODE HERE\n",
        "    #\n",
        "    return p[-U:] + p[:-U]\n",
        "\n",
        "print(move(p, 1))"
      ],
      "metadata": {
        "colab": {
          "base_uri": "https://localhost:8080/"
        },
        "id": "2SnW_XDvVapR",
        "outputId": "e1d3767f-a76d-477a-a741-a9b87edf1f6b"
      },
      "execution_count": null,
      "outputs": [
        {
          "output_type": "stream",
          "name": "stdout",
          "text": [
            "[0, 0, 1, 0, 0]\n"
          ]
        }
      ]
    },
    {
      "cell_type": "markdown",
      "source": [
        "## Inexact Move Function"
      ],
      "metadata": {
        "id": "KXZTUjQErrpZ"
      }
    },
    {
      "cell_type": "code",
      "source": [
        "#Modify the move function to accommodate the added \n",
        "#probabilities of overshooting or undershooting \n",
        "#the intended destination.\n",
        "\n",
        "p=[0, 1, 0, 0, 0]\n",
        "world=['green', 'red', 'red', 'green', 'green']\n",
        "measurements = ['red', 'green']\n",
        "pHit = 0.6\n",
        "pMiss = 0.2\n",
        "pExact = 0.8\n",
        "pOvershoot = 0.1\n",
        "pUndershoot = 0.1\n",
        "\n",
        "def sense(p, Z):\n",
        "    q=[]\n",
        "    for i in range(len(p)):\n",
        "        hit = (Z == world[i])\n",
        "        q.append(p[i] * (hit * pHit + (1-hit) * pMiss))\n",
        "    s = sum(q)\n",
        "    for i in range(len(q)):\n",
        "        q[i] = q[i] / s\n",
        "    return q\n",
        "\n",
        "def move(p, U):\n",
        "    q = []\n",
        "    for i in range(len(p)):\n",
        "        q.append(p[(i-U)%len(p)])\n",
        "    return q\n",
        "    \n",
        "\n",
        "print(move(p, 2))\n"
      ],
      "metadata": {
        "id": "EAfKZwE4rvyq",
        "colab": {
          "base_uri": "https://localhost:8080/"
        },
        "outputId": "2beacb51-0d02-43e7-83e3-d20094545384"
      },
      "execution_count": null,
      "outputs": [
        {
          "output_type": "stream",
          "name": "stdout",
          "text": [
            "[0, 0, 0, 1, 0]\n"
          ]
        }
      ]
    },
    {
      "cell_type": "markdown",
      "source": [
        "## Move Twice"
      ],
      "metadata": {
        "id": "Wnhv4O35KwF2"
      }
    },
    {
      "cell_type": "code",
      "source": [
        "# Write code that makes the robot move twice and then prints \n",
        "# out the resulting distribution, starting with the initial \n",
        "# distribution p = [0, 1, 0, 0, 0]\n",
        "\n",
        "p=[0, 1, 0, 0, 0]\n",
        "world=['green', 'red', 'red', 'green', 'green']\n",
        "measurements = ['red', 'green']\n",
        "pHit = 0.6\n",
        "pMiss = 0.2\n",
        "pExact = 0.8\n",
        "pOvershoot = 0.1\n",
        "pUndershoot = 0.1\n",
        "\n",
        "def sense(p, Z):\n",
        "    q=[]\n",
        "    for i in range(len(p)):\n",
        "        hit = (Z == world[i])\n",
        "        q.append(p[i] * (hit * pHit + (1-hit) * pMiss))\n",
        "    s = sum(q)\n",
        "    for i in range(len(q)):\n",
        "        q[i] = q[i] / s\n",
        "    return q\n",
        "\n",
        "'''def move(p, U):\n",
        "    q = []\n",
        "    for i in range(len(p)):\n",
        "        s = pExact * p[(i-U) % len(p)]\n",
        "        s = s + pOvershoot * p[(i-U-1) % len(p)]\n",
        "        s = s + pUndershoot * p[(i-U+1) % len(p)]\n",
        "        q.append(s)\n",
        "    return q'''\n",
        "#\n",
        "# ADD CODE HERE\n",
        "#\n",
        "\n",
        "# Make sure to print out p!\n",
        "def move(p, U):\n",
        "    q = []\n",
        "    for i in range(len(p)):\n",
        "        q.append(p[(i-U)%len(p)])\n",
        "    return q\n",
        "\n",
        "print(move(p,2))"
      ],
      "metadata": {
        "colab": {
          "base_uri": "https://localhost:8080/"
        },
        "id": "EnEW7bl9KvWa",
        "outputId": "a566190f-33cd-4c59-c14f-1dc8b257a01a"
      },
      "execution_count": null,
      "outputs": [
        {
          "output_type": "stream",
          "name": "stdout",
          "text": [
            "[0.0, 0.0, 0.1, 0.8, 0.1]\n"
          ]
        }
      ]
    },
    {
      "cell_type": "markdown",
      "source": [
        "## Move 1000"
      ],
      "metadata": {
        "id": "J-5osu39XtME"
      }
    },
    {
      "cell_type": "code",
      "source": [
        "#write code that moves 1000 times and then prints the \n",
        "#resulting probability distribution.\n",
        "\n",
        "p=[0, 1, 0, 0, 0]\n",
        "world=['green', 'red', 'red', 'green', 'green']\n",
        "measurements = ['red', 'green']\n",
        "pHit = 0.6\n",
        "pMiss = 0.2\n",
        "pExact = 0.8\n",
        "pOvershoot = 0.1\n",
        "pUndershoot = 0.1\n",
        "\n",
        "def sense(p, Z):\n",
        "    q=[]\n",
        "    for i in range(len(p)):\n",
        "        hit = (Z == world[i])\n",
        "        q.append(p[i] * (hit * pHit + (1-hit) * pMiss))\n",
        "    s = sum(q)\n",
        "    for i in range(len(q)):\n",
        "        q[i] = q[i] / s\n",
        "    return q\n",
        "\n",
        "def move(p, U):\n",
        "    q = []\n",
        "    for i in range(len(p)):\n",
        "        s = pExact * p[(i-U) % len(p)]\n",
        "        s = s + pOvershoot * p[(i-U-1) % len(p)]\n",
        "        s = s + pUndershoot * p[(i-U+1) % len(p)]\n",
        "        q.append(s)\n",
        "    return q\n",
        "#\n",
        "# ADD CODE HERE\n",
        "#\n",
        "print(move(p,1000))\n"
      ],
      "metadata": {
        "colab": {
          "base_uri": "https://localhost:8080/"
        },
        "id": "MhtHVO9nX1Zr",
        "outputId": "06bd8afd-46f5-42e6-dfe0-068c19d6c1f9"
      },
      "execution_count": null,
      "outputs": [
        {
          "output_type": "stream",
          "name": "stdout",
          "text": [
            "[0.1, 0.8, 0.1, 0.0, 0.0]\n"
          ]
        }
      ]
    },
    {
      "cell_type": "markdown",
      "source": [
        "## Sense and move"
      ],
      "metadata": {
        "id": "iedQZcYRTA5l"
      }
    },
    {
      "cell_type": "code",
      "source": [
        "#Given the list motions=[1,1] which means the robot \n",
        "#moves right and then right again, compute the posterior \n",
        "#distribution if the robot first senses red, then moves \n",
        "#right one, then senses green, then moves right again, \n",
        "#starting with a uniform prior distribution.\n",
        "\n",
        "p=[0.2, 0.2, 0.2, 0.2, 0.2]\n",
        "world=['green', 'red', 'red', 'green', 'green']\n",
        "measurements = ['red', 'green']\n",
        "motions = [1,1]\n",
        "pHit = 0.6\n",
        "pMiss = 0.2\n",
        "pExact = 0.8\n",
        "pOvershoot = 0.1\n",
        "pUndershoot = 0.1\n",
        "\n",
        "def sense(p, Z):\n",
        "    q = [p[i]*pHit if world[i] == Z else p[i]*pMiss for i in range(len(world))]\n",
        "    q = [i/sum(q) for i in q]\n",
        "    return q\n",
        "\n",
        "def move(p, U):\n",
        "    q = []\n",
        "    for i in range(len(p)):\n",
        "        s = pExact * p[(i-U) % len(p)]\n",
        "        s = s + pOvershoot * p[(i-U-1) % len(p)]\n",
        "        s = s + pUndershoot * p[(i-U+1) % len(p)]\n",
        "        q.append(s)\n",
        "    return q\n",
        "#\n",
        "# ADD CODE HERE\n",
        "for k in range(len(motions)):\n",
        "    p = sense(p, measurements[k])\n",
        "    p = move(p, motions[k])\n",
        "    \n",
        "#\n",
        "print(p)"
      ],
      "metadata": {
        "colab": {
          "base_uri": "https://localhost:8080/"
        },
        "id": "bD5dzDKXTC2s",
        "outputId": "ca54b2e3-c4a8-4e5e-af18-860be7cb4c3a"
      },
      "execution_count": 8,
      "outputs": [
        {
          "output_type": "stream",
          "name": "stdout",
          "text": [
            "[0.21157894736842103, 0.1515789473684211, 0.08105263157894739, 0.16842105263157897, 0.3873684210526316]\n"
          ]
        }
      ]
    },
    {
      "cell_type": "markdown",
      "source": [
        "## Sense and move 2"
      ],
      "metadata": {
        "id": "ASoldJqPeugx"
      }
    },
    {
      "cell_type": "code",
      "source": [
        "#Modify the previous code so that the robot senses red twice.\n",
        "\n",
        "p=[0.2, 0.2, 0.2, 0.2, 0.2]\n",
        "world=['green', 'red', 'red', 'green', 'green']\n",
        "measurements = ['red', 'red']\n",
        "motions = [1,1]\n",
        "pHit = 0.6\n",
        "pMiss = 0.2\n",
        "pExact = 0.8\n",
        "pOvershoot = 0.1\n",
        "pUndershoot = 0.1\n",
        "\n",
        "def sense(p, Z):\n",
        "    q=[]\n",
        "    for i in range(len(p)):\n",
        "        hit = (Z == world[i])\n",
        "        q.append(p[i] * (hit * pHit + (1-hit) * pMiss))\n",
        "    s = sum(q)\n",
        "    for i in range(len(q)):\n",
        "        q[i] = q[i] / s\n",
        "    return q\n",
        "\n",
        "def move(p, U):\n",
        "    q = []\n",
        "    for i in range(len(p)):\n",
        "        s = pExact * p[(i-U) % len(p)]\n",
        "        s = s + pOvershoot * p[(i-U-1) % len(p)]\n",
        "        s = s + pUndershoot * p[(i-U+1) % len(p)]\n",
        "        q.append(s)\n",
        "    return q\n",
        "\n",
        "for k in range(len(measurements)):\n",
        "    p = sense(p, measurements[k])\n",
        "    p = move(p, motions[k])\n",
        "    \n",
        "print(p)"
      ],
      "metadata": {
        "colab": {
          "base_uri": "https://localhost:8080/"
        },
        "id": "T9LXRBZnexNs",
        "outputId": "3843d064-a0e0-4bc3-eace-f3cd1aac91d2"
      },
      "execution_count": 9,
      "outputs": [
        {
          "output_type": "stream",
          "name": "stdout",
          "text": [
            "[0.07882352941176471, 0.07529411764705884, 0.22470588235294123, 0.4329411764705882, 0.18823529411764706]\n"
          ]
        }
      ]
    }
  ]
}