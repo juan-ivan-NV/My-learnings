{
  "nbformat": 4,
  "nbformat_minor": 0,
  "metadata": {
    "colab": {
      "name": "Computer_Vision_Fundamentals_Localization.ipynb",
      "provenance": []
    },
    "kernelspec": {
      "name": "python3",
      "display_name": "Python 3"
    },
    "language_info": {
      "name": "python"
    }
  },
  "cells": [
    {
      "cell_type": "markdown",
      "source": [
        "## Localization\n",
        "\"Where is our car in a given map with an accuracy of 10cm or less?\"\n",
        "\n",
        "\"Onboard sensors are used to estimate transformation between measurements and a given map.\""
      ],
      "metadata": {
        "id": "miIFXtsTw0EC"
      }
    },
    {
      "cell_type": "code",
      "execution_count": null,
      "metadata": {
        "id": "mrtqb-8MqZjf"
      },
      "outputs": [],
      "source": [
        ""
      ]
    }
  ]
}