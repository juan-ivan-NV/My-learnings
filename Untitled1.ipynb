{
  "nbformat": 4,
  "nbformat_minor": 0,
  "metadata": {
    "colab": {
      "name": "Untitled1.ipynb",
      "provenance": [],
      "authorship_tag": "ABX9TyM5Bw+j75GYHz0CYv4liw5R",
      "include_colab_link": true
    },
    "kernelspec": {
      "name": "python3",
      "display_name": "Python 3"
    },
    "language_info": {
      "name": "python"
    }
  },
  "cells": [
    {
      "cell_type": "markdown",
      "metadata": {
        "id": "view-in-github",
        "colab_type": "text"
      },
      "source": [
        "<a href=\"https://colab.research.google.com/github/juan-ivan-NV/My-learnings/blob/main/Untitled1.ipynb\" target=\"_parent\"><img src=\"https://colab.research.google.com/assets/colab-badge.svg\" alt=\"Open In Colab\"/></a>"
      ]
    },
    {
      "cell_type": "code",
      "metadata": {
        "id": "FKuCA7lXeStE"
      },
      "source": [
        "import pandas as pd\n",
        "import seaborn as sn\n",
        "import matplotlib.pyplot as plt"
      ],
      "execution_count": 28,
      "outputs": []
    },
    {
      "cell_type": "code",
      "metadata": {
        "id": "WToDyl42ef_Y"
      },
      "source": [
        "df = pd.read_excel('Data_Analyst_ activity 5.2.xlsx')\n"
      ],
      "execution_count": 2,
      "outputs": []
    },
    {
      "cell_type": "code",
      "metadata": {
        "colab": {
          "base_uri": "https://localhost:8080/",
          "height": 244
        },
        "id": "uzGxxirmGqCy",
        "outputId": "3a48c338-ec75-4fb1-a937-b6a466df94b2"
      },
      "source": [
        "df.head()"
      ],
      "execution_count": 3,
      "outputs": [
        {
          "output_type": "execute_result",
          "data": {
            "text/html": [
              "<div>\n",
              "<style scoped>\n",
              "    .dataframe tbody tr th:only-of-type {\n",
              "        vertical-align: middle;\n",
              "    }\n",
              "\n",
              "    .dataframe tbody tr th {\n",
              "        vertical-align: top;\n",
              "    }\n",
              "\n",
              "    .dataframe thead th {\n",
              "        text-align: right;\n",
              "    }\n",
              "</style>\n",
              "<table border=\"1\" class=\"dataframe\">\n",
              "  <thead>\n",
              "    <tr style=\"text-align: right;\">\n",
              "      <th></th>\n",
              "      <th>City</th>\n",
              "      <th>State</th>\n",
              "      <th>Latitude</th>\n",
              "      <th>Longitude</th>\n",
              "      <th>Industry A</th>\n",
              "      <th>Industry B</th>\n",
              "      <th>Industry C</th>\n",
              "      <th>Industry D</th>\n",
              "      <th>Industry E</th>\n",
              "      <th>Property A</th>\n",
              "      <th>Property B</th>\n",
              "      <th>Property C</th>\n",
              "    </tr>\n",
              "  </thead>\n",
              "  <tbody>\n",
              "    <tr>\n",
              "      <th>0</th>\n",
              "      <td>Abilene</td>\n",
              "      <td>TX</td>\n",
              "      <td>32.448736</td>\n",
              "      <td>-99.733144</td>\n",
              "      <td>1.0</td>\n",
              "      <td>1.0</td>\n",
              "      <td>NaN</td>\n",
              "      <td>1.0</td>\n",
              "      <td>3.0</td>\n",
              "      <td>1494</td>\n",
              "      <td>3978</td>\n",
              "      <td>642114</td>\n",
              "    </tr>\n",
              "    <tr>\n",
              "      <th>1</th>\n",
              "      <td>Akron</td>\n",
              "      <td>OH</td>\n",
              "      <td>41.081445</td>\n",
              "      <td>-81.519005</td>\n",
              "      <td>14.0</td>\n",
              "      <td>32.0</td>\n",
              "      <td>17.0</td>\n",
              "      <td>25.0</td>\n",
              "      <td>50.0</td>\n",
              "      <td>41814</td>\n",
              "      <td>126132</td>\n",
              "      <td>50655384</td>\n",
              "    </tr>\n",
              "    <tr>\n",
              "      <th>2</th>\n",
              "      <td>Albuquerque</td>\n",
              "      <td>NM</td>\n",
              "      <td>35.084366</td>\n",
              "      <td>-106.651111</td>\n",
              "      <td>9.0</td>\n",
              "      <td>13.0</td>\n",
              "      <td>14.0</td>\n",
              "      <td>15.0</td>\n",
              "      <td>20.0</td>\n",
              "      <td>89176</td>\n",
              "      <td>142994</td>\n",
              "      <td>35147343</td>\n",
              "    </tr>\n",
              "    <tr>\n",
              "      <th>3</th>\n",
              "      <td>Alhambra</td>\n",
              "      <td>CA</td>\n",
              "      <td>34.095287</td>\n",
              "      <td>-118.127014</td>\n",
              "      <td>NaN</td>\n",
              "      <td>1.0</td>\n",
              "      <td>NaN</td>\n",
              "      <td>NaN</td>\n",
              "      <td>1.0</td>\n",
              "      <td>184</td>\n",
              "      <td>0</td>\n",
              "      <td>0</td>\n",
              "    </tr>\n",
              "    <tr>\n",
              "      <th>4</th>\n",
              "      <td>Allentown</td>\n",
              "      <td>PA</td>\n",
              "      <td>40.608430</td>\n",
              "      <td>-75.490183</td>\n",
              "      <td>6.0</td>\n",
              "      <td>5.0</td>\n",
              "      <td>8.0</td>\n",
              "      <td>11.0</td>\n",
              "      <td>11.0</td>\n",
              "      <td>14022</td>\n",
              "      <td>69208</td>\n",
              "      <td>12598234</td>\n",
              "    </tr>\n",
              "  </tbody>\n",
              "</table>\n",
              "</div>"
            ],
            "text/plain": [
              "          City State   Latitude  ...  Property A  Property B  Property C\n",
              "0      Abilene    TX  32.448736  ...        1494        3978      642114\n",
              "1        Akron    OH  41.081445  ...       41814      126132    50655384\n",
              "2  Albuquerque    NM  35.084366  ...       89176      142994    35147343\n",
              "3     Alhambra    CA  34.095287  ...         184           0           0\n",
              "4    Allentown    PA  40.608430  ...       14022       69208    12598234\n",
              "\n",
              "[5 rows x 12 columns]"
            ]
          },
          "metadata": {},
          "execution_count": 3
        }
      ]
    },
    {
      "cell_type": "code",
      "metadata": {
        "colab": {
          "base_uri": "https://localhost:8080/"
        },
        "id": "8vtzz7HtGqJi",
        "outputId": "07aaaeb6-35c7-41c6-ae4d-cd91cdbb8da8"
      },
      "source": [
        "# Data frame 12 columns and 257 rows\n",
        "df.info()"
      ],
      "execution_count": 10,
      "outputs": [
        {
          "output_type": "stream",
          "name": "stdout",
          "text": [
            "<class 'pandas.core.frame.DataFrame'>\n",
            "RangeIndex: 257 entries, 0 to 256\n",
            "Data columns (total 12 columns):\n",
            " #   Column       Non-Null Count  Dtype  \n",
            "---  ------       --------------  -----  \n",
            " 0   City         257 non-null    object \n",
            " 1   State        257 non-null    object \n",
            " 2   Latitude     256 non-null    float64\n",
            " 3   Longitude    256 non-null    float64\n",
            " 4   Industry A   195 non-null    float64\n",
            " 5   Industry B   231 non-null    float64\n",
            " 6   Industry C   204 non-null    float64\n",
            " 7   Industry D   203 non-null    float64\n",
            " 8   Industry E   238 non-null    float64\n",
            " 9   Property A   257 non-null    int64  \n",
            " 10  Property B   257 non-null    int64  \n",
            " 11  Property C   257 non-null    int64  \n",
            "dtypes: float64(7), int64(3), object(2)\n",
            "memory usage: 24.2+ KB\n"
          ]
        }
      ]
    },
    {
      "cell_type": "code",
      "metadata": {
        "colab": {
          "base_uri": "https://localhost:8080/"
        },
        "id": "6AsXJ8ymGqPf",
        "outputId": "2ab05114-20dc-4554-e6f6-f9579eb6183a"
      },
      "source": [
        "# 44 states\n",
        "print(df.State.unique())\n",
        "print(len(df.State.unique()))"
      ],
      "execution_count": 14,
      "outputs": [
        {
          "output_type": "stream",
          "name": "stdout",
          "text": [
            "['TX' 'OH' 'NM' 'CA' 'PA' 'AK' 'MI' 'CO' 'GA' 'IL' 'MD' 'LA' 'WA' 'MT'\n",
            " 'AL' 'ID' 'MA' 'FL' 'CT' 'OK' 'NY' 'NC' 'IA' 'AZ' 'SC' 'TN' 'VA' 'ND'\n",
            " 'IN' 'WI' 'NV' 'HI' 'MS' 'NJ' 'KS' 'MO' 'KY' 'NH' 'MN' 'NE' 'OR' 'RI'\n",
            " 'UT' 'SD']\n",
            "44\n"
          ]
        }
      ]
    },
    {
      "cell_type": "code",
      "metadata": {
        "colab": {
          "base_uri": "https://localhost:8080/"
        },
        "id": "6f2hV9s2K_0u",
        "outputId": "6ae87281-6b8a-444e-a23b-5a338ffd7314"
      },
      "source": [
        "# 251 cities\n",
        "print(len(df.City.unique()))"
      ],
      "execution_count": 13,
      "outputs": [
        {
          "output_type": "stream",
          "name": "stdout",
          "text": [
            "251\n"
          ]
        }
      ]
    },
    {
      "cell_type": "code",
      "metadata": {
        "id": "ejJxGkAYLu-2"
      },
      "source": [
        ""
      ],
      "execution_count": null,
      "outputs": []
    },
    {
      "cell_type": "code",
      "metadata": {
        "colab": {
          "base_uri": "https://localhost:8080/",
          "height": 244
        },
        "id": "KQKQwYCtLvEI",
        "outputId": "7ca91496-968a-4684-ea94-2a6f767e3e61"
      },
      "source": [
        "# replacing nan with 0\n",
        "df = df.fillna(0)\n",
        "df.head()"
      ],
      "execution_count": 17,
      "outputs": [
        {
          "output_type": "execute_result",
          "data": {
            "text/html": [
              "<div>\n",
              "<style scoped>\n",
              "    .dataframe tbody tr th:only-of-type {\n",
              "        vertical-align: middle;\n",
              "    }\n",
              "\n",
              "    .dataframe tbody tr th {\n",
              "        vertical-align: top;\n",
              "    }\n",
              "\n",
              "    .dataframe thead th {\n",
              "        text-align: right;\n",
              "    }\n",
              "</style>\n",
              "<table border=\"1\" class=\"dataframe\">\n",
              "  <thead>\n",
              "    <tr style=\"text-align: right;\">\n",
              "      <th></th>\n",
              "      <th>City</th>\n",
              "      <th>State</th>\n",
              "      <th>Latitude</th>\n",
              "      <th>Longitude</th>\n",
              "      <th>Industry A</th>\n",
              "      <th>Industry B</th>\n",
              "      <th>Industry C</th>\n",
              "      <th>Industry D</th>\n",
              "      <th>Industry E</th>\n",
              "      <th>Property A</th>\n",
              "      <th>Property B</th>\n",
              "      <th>Property C</th>\n",
              "    </tr>\n",
              "  </thead>\n",
              "  <tbody>\n",
              "    <tr>\n",
              "      <th>0</th>\n",
              "      <td>Abilene</td>\n",
              "      <td>TX</td>\n",
              "      <td>32.448736</td>\n",
              "      <td>-99.733144</td>\n",
              "      <td>1.0</td>\n",
              "      <td>1.0</td>\n",
              "      <td>0.0</td>\n",
              "      <td>1.0</td>\n",
              "      <td>3.0</td>\n",
              "      <td>1494</td>\n",
              "      <td>3978</td>\n",
              "      <td>642114</td>\n",
              "    </tr>\n",
              "    <tr>\n",
              "      <th>1</th>\n",
              "      <td>Akron</td>\n",
              "      <td>OH</td>\n",
              "      <td>41.081445</td>\n",
              "      <td>-81.519005</td>\n",
              "      <td>14.0</td>\n",
              "      <td>32.0</td>\n",
              "      <td>17.0</td>\n",
              "      <td>25.0</td>\n",
              "      <td>50.0</td>\n",
              "      <td>41814</td>\n",
              "      <td>126132</td>\n",
              "      <td>50655384</td>\n",
              "    </tr>\n",
              "    <tr>\n",
              "      <th>2</th>\n",
              "      <td>Albuquerque</td>\n",
              "      <td>NM</td>\n",
              "      <td>35.084366</td>\n",
              "      <td>-106.651111</td>\n",
              "      <td>9.0</td>\n",
              "      <td>13.0</td>\n",
              "      <td>14.0</td>\n",
              "      <td>15.0</td>\n",
              "      <td>20.0</td>\n",
              "      <td>89176</td>\n",
              "      <td>142994</td>\n",
              "      <td>35147343</td>\n",
              "    </tr>\n",
              "    <tr>\n",
              "      <th>3</th>\n",
              "      <td>Alhambra</td>\n",
              "      <td>CA</td>\n",
              "      <td>34.095287</td>\n",
              "      <td>-118.127014</td>\n",
              "      <td>0.0</td>\n",
              "      <td>1.0</td>\n",
              "      <td>0.0</td>\n",
              "      <td>0.0</td>\n",
              "      <td>1.0</td>\n",
              "      <td>184</td>\n",
              "      <td>0</td>\n",
              "      <td>0</td>\n",
              "    </tr>\n",
              "    <tr>\n",
              "      <th>4</th>\n",
              "      <td>Allentown</td>\n",
              "      <td>PA</td>\n",
              "      <td>40.608430</td>\n",
              "      <td>-75.490183</td>\n",
              "      <td>6.0</td>\n",
              "      <td>5.0</td>\n",
              "      <td>8.0</td>\n",
              "      <td>11.0</td>\n",
              "      <td>11.0</td>\n",
              "      <td>14022</td>\n",
              "      <td>69208</td>\n",
              "      <td>12598234</td>\n",
              "    </tr>\n",
              "  </tbody>\n",
              "</table>\n",
              "</div>"
            ],
            "text/plain": [
              "          City State   Latitude  ...  Property A  Property B  Property C\n",
              "0      Abilene    TX  32.448736  ...        1494        3978      642114\n",
              "1        Akron    OH  41.081445  ...       41814      126132    50655384\n",
              "2  Albuquerque    NM  35.084366  ...       89176      142994    35147343\n",
              "3     Alhambra    CA  34.095287  ...         184           0           0\n",
              "4    Allentown    PA  40.608430  ...       14022       69208    12598234\n",
              "\n",
              "[5 rows x 12 columns]"
            ]
          },
          "metadata": {},
          "execution_count": 17
        }
      ]
    },
    {
      "cell_type": "code",
      "metadata": {
        "colab": {
          "base_uri": "https://localhost:8080/",
          "height": 338
        },
        "id": "1dvkcxscLvJ6",
        "outputId": "a1820866-8fe9-463a-82bd-d14b5ba9995a"
      },
      "source": [
        "# some statistics\n",
        "df_desc = df.iloc[:, 4:]\n",
        "df_desc.describe()"
      ],
      "execution_count": 26,
      "outputs": [
        {
          "output_type": "execute_result",
          "data": {
            "text/html": [
              "<div>\n",
              "<style scoped>\n",
              "    .dataframe tbody tr th:only-of-type {\n",
              "        vertical-align: middle;\n",
              "    }\n",
              "\n",
              "    .dataframe tbody tr th {\n",
              "        vertical-align: top;\n",
              "    }\n",
              "\n",
              "    .dataframe thead th {\n",
              "        text-align: right;\n",
              "    }\n",
              "</style>\n",
              "<table border=\"1\" class=\"dataframe\">\n",
              "  <thead>\n",
              "    <tr style=\"text-align: right;\">\n",
              "      <th></th>\n",
              "      <th>Industry A</th>\n",
              "      <th>Industry B</th>\n",
              "      <th>Industry C</th>\n",
              "      <th>Industry D</th>\n",
              "      <th>Industry E</th>\n",
              "      <th>Property A</th>\n",
              "      <th>Property B</th>\n",
              "      <th>Property C</th>\n",
              "    </tr>\n",
              "  </thead>\n",
              "  <tbody>\n",
              "    <tr>\n",
              "      <th>count</th>\n",
              "      <td>257.000000</td>\n",
              "      <td>257.000000</td>\n",
              "      <td>257.000000</td>\n",
              "      <td>257.000000</td>\n",
              "      <td>257.000000</td>\n",
              "      <td>2.570000e+02</td>\n",
              "      <td>2.570000e+02</td>\n",
              "      <td>2.570000e+02</td>\n",
              "    </tr>\n",
              "    <tr>\n",
              "      <th>mean</th>\n",
              "      <td>8.529183</td>\n",
              "      <td>13.529183</td>\n",
              "      <td>8.167315</td>\n",
              "      <td>9.357977</td>\n",
              "      <td>18.221790</td>\n",
              "      <td>1.038972e+05</td>\n",
              "      <td>9.453573e+05</td>\n",
              "      <td>1.835379e+08</td>\n",
              "    </tr>\n",
              "    <tr>\n",
              "      <th>std</th>\n",
              "      <td>15.163694</td>\n",
              "      <td>23.402393</td>\n",
              "      <td>13.924995</td>\n",
              "      <td>17.224060</td>\n",
              "      <td>32.592918</td>\n",
              "      <td>3.704911e+05</td>\n",
              "      <td>3.277856e+06</td>\n",
              "      <td>5.502985e+08</td>\n",
              "    </tr>\n",
              "    <tr>\n",
              "      <th>min</th>\n",
              "      <td>0.000000</td>\n",
              "      <td>0.000000</td>\n",
              "      <td>0.000000</td>\n",
              "      <td>0.000000</td>\n",
              "      <td>0.000000</td>\n",
              "      <td>0.000000e+00</td>\n",
              "      <td>0.000000e+00</td>\n",
              "      <td>0.000000e+00</td>\n",
              "    </tr>\n",
              "    <tr>\n",
              "      <th>25%</th>\n",
              "      <td>1.000000</td>\n",
              "      <td>2.000000</td>\n",
              "      <td>1.000000</td>\n",
              "      <td>1.000000</td>\n",
              "      <td>2.000000</td>\n",
              "      <td>1.560000e+03</td>\n",
              "      <td>0.000000e+00</td>\n",
              "      <td>0.000000e+00</td>\n",
              "    </tr>\n",
              "    <tr>\n",
              "      <th>50%</th>\n",
              "      <td>2.000000</td>\n",
              "      <td>5.000000</td>\n",
              "      <td>3.000000</td>\n",
              "      <td>3.000000</td>\n",
              "      <td>7.000000</td>\n",
              "      <td>5.769000e+03</td>\n",
              "      <td>3.805000e+04</td>\n",
              "      <td>6.510070e+06</td>\n",
              "    </tr>\n",
              "    <tr>\n",
              "      <th>75%</th>\n",
              "      <td>10.000000</td>\n",
              "      <td>16.000000</td>\n",
              "      <td>9.000000</td>\n",
              "      <td>11.000000</td>\n",
              "      <td>22.000000</td>\n",
              "      <td>4.263200e+04</td>\n",
              "      <td>4.214210e+05</td>\n",
              "      <td>1.054924e+08</td>\n",
              "    </tr>\n",
              "    <tr>\n",
              "      <th>max</th>\n",
              "      <td>93.000000</td>\n",
              "      <td>187.000000</td>\n",
              "      <td>96.000000</td>\n",
              "      <td>155.000000</td>\n",
              "      <td>309.000000</td>\n",
              "      <td>4.071897e+06</td>\n",
              "      <td>3.279133e+07</td>\n",
              "      <td>4.631292e+09</td>\n",
              "    </tr>\n",
              "  </tbody>\n",
              "</table>\n",
              "</div>"
            ],
            "text/plain": [
              "       Industry A   Industry B  ...    Property B    Property C\n",
              "count   257.000000  257.000000  ...  2.570000e+02  2.570000e+02\n",
              "mean      8.529183   13.529183  ...  9.453573e+05  1.835379e+08\n",
              "std      15.163694   23.402393  ...  3.277856e+06  5.502985e+08\n",
              "min       0.000000    0.000000  ...  0.000000e+00  0.000000e+00\n",
              "25%       1.000000    2.000000  ...  0.000000e+00  0.000000e+00\n",
              "50%       2.000000    5.000000  ...  3.805000e+04  6.510070e+06\n",
              "75%      10.000000   16.000000  ...  4.214210e+05  1.054924e+08\n",
              "max      93.000000  187.000000  ...  3.279133e+07  4.631292e+09\n",
              "\n",
              "[8 rows x 8 columns]"
            ]
          },
          "metadata": {},
          "execution_count": 26
        }
      ]
    },
    {
      "cell_type": "code",
      "metadata": {
        "colab": {
          "base_uri": "https://localhost:8080/"
        },
        "id": "hWjX6pt_LvOl",
        "outputId": "e72ebbb6-426d-48cf-ca96-0f35c0abb8bb"
      },
      "source": [
        "# sum of each column\n",
        "sum_column = df_desc.sum(axis=0)\n",
        "print(sum_column)"
      ],
      "execution_count": 27,
      "outputs": [
        {
          "output_type": "stream",
          "name": "stdout",
          "text": [
            "Industry A     2.192000e+03\n",
            "Industry B     3.477000e+03\n",
            "Industry C     2.099000e+03\n",
            "Industry D     2.405000e+03\n",
            "Industry E     4.683000e+03\n",
            "Property A     2.670159e+07\n",
            "Property B     2.429568e+08\n",
            "Property C     4.716925e+10\n",
            "dtype: float64\n"
          ]
        }
      ]
    },
    {
      "cell_type": "code",
      "metadata": {
        "colab": {
          "base_uri": "https://localhost:8080/",
          "height": 314
        },
        "id": "Du4wby5mRqFc",
        "outputId": "1473910c-6d43-4c33-9c4e-4ed8acf2fca1"
      },
      "source": [
        "\n",
        "corrMatrix = df_desc.corr()\n",
        "sn.heatmap(corrMatrix, annot=True)\n",
        "plt.show()"
      ],
      "execution_count": 30,
      "outputs": [
        {
          "output_type": "display_data",
          "data": {
            "image/png": "[encoded data removed]",
            "text/plain": [
              "<Figure size 432x288 with 2 Axes>"
            ]
          },
          "metadata": {
            "needs_background": "light"
          }
        }
      ]
    },
    {
      "cell_type": "markdown",
      "metadata": {
        "id": "bpGEl0xlTH4N"
      },
      "source": [
        "Columns for Property C is highly related to Property B, also industry B and industry E"
      ]
    },
    {
      "cell_type": "code",
      "metadata": {
        "colab": {
          "base_uri": "https://localhost:8080/",
          "height": 224
        },
        "id": "GkvEWotETGi4",
        "outputId": "1bb69fda-a12a-46e3-b541-e116d05a4496"
      },
      "source": [
        "# Grouping by state\n",
        "df_state = df[['State','Industry A ','Industry B','Industry C','Industry D','Industry E','Property A','Property B','Property C']].groupby(['State'], as_index=False).sum()\n",
        "df_state.head()"
      ],
      "execution_count": 40,
      "outputs": [
        {
          "output_type": "execute_result",
          "data": {
            "text/html": [
              "<div>\n",
              "<style scoped>\n",
              "    .dataframe tbody tr th:only-of-type {\n",
              "        vertical-align: middle;\n",
              "    }\n",
              "\n",
              "    .dataframe tbody tr th {\n",
              "        vertical-align: top;\n",
              "    }\n",
              "\n",
              "    .dataframe thead th {\n",
              "        text-align: right;\n",
              "    }\n",
              "</style>\n",
              "<table border=\"1\" class=\"dataframe\">\n",
              "  <thead>\n",
              "    <tr style=\"text-align: right;\">\n",
              "      <th></th>\n",
              "      <th>State</th>\n",
              "      <th>Industry A</th>\n",
              "      <th>Industry B</th>\n",
              "      <th>Industry C</th>\n",
              "      <th>Industry D</th>\n",
              "      <th>Industry E</th>\n",
              "      <th>Property A</th>\n",
              "      <th>Property B</th>\n",
              "      <th>Property C</th>\n",
              "    </tr>\n",
              "  </thead>\n",
              "  <tbody>\n",
              "    <tr>\n",
              "      <th>0</th>\n",
              "      <td>AK</td>\n",
              "      <td>2.0</td>\n",
              "      <td>4.0</td>\n",
              "      <td>8.0</td>\n",
              "      <td>3.0</td>\n",
              "      <td>3.0</td>\n",
              "      <td>4975</td>\n",
              "      <td>22651</td>\n",
              "      <td>5951118</td>\n",
              "    </tr>\n",
              "    <tr>\n",
              "      <th>1</th>\n",
              "      <td>AL</td>\n",
              "      <td>106.0</td>\n",
              "      <td>45.0</td>\n",
              "      <td>25.0</td>\n",
              "      <td>48.0</td>\n",
              "      <td>49.0</td>\n",
              "      <td>225286</td>\n",
              "      <td>822987</td>\n",
              "      <td>189810603</td>\n",
              "    </tr>\n",
              "    <tr>\n",
              "      <th>2</th>\n",
              "      <td>AZ</td>\n",
              "      <td>28.0</td>\n",
              "      <td>50.0</td>\n",
              "      <td>27.0</td>\n",
              "      <td>43.0</td>\n",
              "      <td>77.0</td>\n",
              "      <td>257937</td>\n",
              "      <td>6691650</td>\n",
              "      <td>1508602901</td>\n",
              "    </tr>\n",
              "    <tr>\n",
              "      <th>3</th>\n",
              "      <td>CA</td>\n",
              "      <td>203.0</td>\n",
              "      <td>568.0</td>\n",
              "      <td>203.0</td>\n",
              "      <td>297.0</td>\n",
              "      <td>578.0</td>\n",
              "      <td>1806805</td>\n",
              "      <td>17960012</td>\n",
              "      <td>4256381508</td>\n",
              "    </tr>\n",
              "    <tr>\n",
              "      <th>4</th>\n",
              "      <td>CO</td>\n",
              "      <td>14.0</td>\n",
              "      <td>35.0</td>\n",
              "      <td>35.0</td>\n",
              "      <td>40.0</td>\n",
              "      <td>77.0</td>\n",
              "      <td>306270</td>\n",
              "      <td>3493672</td>\n",
              "      <td>802646786</td>\n",
              "    </tr>\n",
              "  </tbody>\n",
              "</table>\n",
              "</div>"
            ],
            "text/plain": [
              "  State  Industry A   Industry B  ...  Property A  Property B  Property C\n",
              "0    AK          2.0         4.0  ...        4975       22651     5951118\n",
              "1    AL        106.0        45.0  ...      225286      822987   189810603\n",
              "2    AZ         28.0        50.0  ...      257937     6691650  1508602901\n",
              "3    CA        203.0       568.0  ...     1806805    17960012  4256381508\n",
              "4    CO         14.0        35.0  ...      306270     3493672   802646786\n",
              "\n",
              "[5 rows x 9 columns]"
            ]
          },
          "metadata": {},
          "execution_count": 40
        }
      ]
    },
    {
      "cell_type": "code",
      "metadata": {
        "colab": {
          "base_uri": "https://localhost:8080/"
        },
        "id": "Ivul4CFHUijv",
        "outputId": "2d1473e0-b228-499c-e68e-4c95b1f445f0"
      },
      "source": [
        "# 'FL' is the state with more 'Industry A ' \n",
        "df_state.loc[df_state['Industry A '].idxmax()]"
      ],
      "execution_count": 41,
      "outputs": [
        {
          "output_type": "execute_result",
          "data": {
            "text/plain": [
              "State                  FL\n",
              "Industry A            234\n",
              "Industry B            169\n",
              "Industry C             85\n",
              "Industry D            120\n",
              "Industry E            195\n",
              "Property A        1303511\n",
              "Property B       12464613\n",
              "Property C     2849309260\n",
              "Name: 6, dtype: object"
            ]
          },
          "metadata": {},
          "execution_count": 41
        }
      ]
    },
    {
      "cell_type": "code",
      "metadata": {
        "colab": {
          "base_uri": "https://localhost:8080/"
        },
        "id": "xzCS2ZyPUiqn",
        "outputId": "55b5ed41-7d9d-42ff-93a0-95adf94caaf0"
      },
      "source": [
        "# 'CA' is the state with more 'Industry B' \n",
        "df_state.loc[df_state['Industry B'].idxmax()]"
      ],
      "execution_count": 42,
      "outputs": [
        {
          "output_type": "execute_result",
          "data": {
            "text/plain": [
              "State                  CA\n",
              "Industry A            203\n",
              "Industry B            568\n",
              "Industry C            203\n",
              "Industry D            297\n",
              "Industry E            578\n",
              "Property A        1806805\n",
              "Property B       17960012\n",
              "Property C     4256381508\n",
              "Name: 3, dtype: object"
            ]
          },
          "metadata": {},
          "execution_count": 42
        }
      ]
    },
    {
      "cell_type": "code",
      "metadata": {
        "colab": {
          "base_uri": "https://localhost:8080/"
        },
        "id": "dhVo_uf8Uiwd",
        "outputId": "3006e891-b7f3-45e0-fe1b-64218321c534"
      },
      "source": [
        "# 'CA' is also the state with more 'Industry C' \n",
        "df_state.loc[df_state['Industry C'].idxmax()]"
      ],
      "execution_count": 43,
      "outputs": [
        {
          "output_type": "execute_result",
          "data": {
            "text/plain": [
              "State                  CA\n",
              "Industry A            203\n",
              "Industry B            568\n",
              "Industry C            203\n",
              "Industry D            297\n",
              "Industry E            578\n",
              "Property A        1806805\n",
              "Property B       17960012\n",
              "Property C     4256381508\n",
              "Name: 3, dtype: object"
            ]
          },
          "metadata": {},
          "execution_count": 43
        }
      ]
    },
    {
      "cell_type": "code",
      "metadata": {
        "colab": {
          "base_uri": "https://localhost:8080/"
        },
        "id": "cD3fIzDiUi1_",
        "outputId": "f0b82c5c-cda6-484b-a18a-5dc53da0ca46"
      },
      "source": [
        "# 'CA' is also the state with more 'Industry D' \n",
        "df_state.loc[df_state['Industry D'].idxmax()]"
      ],
      "execution_count": 44,
      "outputs": [
        {
          "output_type": "execute_result",
          "data": {
            "text/plain": [
              "State                  CA\n",
              "Industry A            203\n",
              "Industry B            568\n",
              "Industry C            203\n",
              "Industry D            297\n",
              "Industry E            578\n",
              "Property A        1806805\n",
              "Property B       17960012\n",
              "Property C     4256381508\n",
              "Name: 3, dtype: object"
            ]
          },
          "metadata": {},
          "execution_count": 44
        }
      ]
    },
    {
      "cell_type": "code",
      "metadata": {
        "colab": {
          "base_uri": "https://localhost:8080/"
        },
        "id": "cEXbnkgYUi7V",
        "outputId": "cc13e49f-0dc6-4b5e-da2b-47a7f848ca09"
      },
      "source": [
        "# 'CA' is also the state with more 'Industry E' \n",
        "df_state.loc[df_state['Industry E'].idxmax()]"
      ],
      "execution_count": 45,
      "outputs": [
        {
          "output_type": "execute_result",
          "data": {
            "text/plain": [
              "State                  CA\n",
              "Industry A            203\n",
              "Industry B            568\n",
              "Industry C            203\n",
              "Industry D            297\n",
              "Industry E            578\n",
              "Property A        1806805\n",
              "Property B       17960012\n",
              "Property C     4256381508\n",
              "Name: 3, dtype: object"
            ]
          },
          "metadata": {},
          "execution_count": 45
        }
      ]
    },
    {
      "cell_type": "code",
      "metadata": {
        "colab": {
          "base_uri": "https://localhost:8080/"
        },
        "id": "6dphHhL6Ui_6",
        "outputId": "3a073a94-1cde-45d4-f823-e8fefd23adeb"
      },
      "source": [
        "# 'IL' is the state with more 'Property A' \n",
        "df_state.loc[df_state['Property A'].idxmax()]"
      ],
      "execution_count": 46,
      "outputs": [
        {
          "output_type": "execute_result",
          "data": {
            "text/plain": [
              "State                  IL\n",
              "Industry A             84\n",
              "Industry B            208\n",
              "Industry C            110\n",
              "Industry D             78\n",
              "Industry E            346\n",
              "Property A        4090304\n",
              "Property B       11627653\n",
              "Property C     2484945100\n",
              "Name: 11, dtype: object"
            ]
          },
          "metadata": {},
          "execution_count": 46
        }
      ]
    },
    {
      "cell_type": "code",
      "metadata": {
        "colab": {
          "base_uri": "https://localhost:8080/"
        },
        "id": "o22IuPrxYr7d",
        "outputId": "84dfe0c1-ca9e-430e-8797-8e2907bbcd20"
      },
      "source": [
        "# 'TX' is the state with more 'Property B' \n",
        "df_state.loc[df_state['Property B'].idxmax()]"
      ],
      "execution_count": 47,
      "outputs": [
        {
          "output_type": "execute_result",
          "data": {
            "text/plain": [
              "State                  TX\n",
              "Industry A            127\n",
              "Industry B            254\n",
              "Industry C            173\n",
              "Industry D            137\n",
              "Industry E            347\n",
              "Property A        3019756\n",
              "Property B       40238532\n",
              "Property C     7679457105\n",
              "Name: 39, dtype: object"
            ]
          },
          "metadata": {},
          "execution_count": 47
        }
      ]
    },
    {
      "cell_type": "code",
      "metadata": {
        "colab": {
          "base_uri": "https://localhost:8080/"
        },
        "id": "SuVNenBOYyMC",
        "outputId": "d8703778-7779-4de8-ad68-c5e890e57ade"
      },
      "source": [
        "# 'TX' is also the state with more 'Property C' \n",
        "df_state.loc[df_state['Property C'].idxmax()]"
      ],
      "execution_count": 48,
      "outputs": [
        {
          "output_type": "execute_result",
          "data": {
            "text/plain": [
              "State                  TX\n",
              "Industry A            127\n",
              "Industry B            254\n",
              "Industry C            173\n",
              "Industry D            137\n",
              "Industry E            347\n",
              "Property A        3019756\n",
              "Property B       40238532\n",
              "Property C     7679457105\n",
              "Name: 39, dtype: object"
            ]
          },
          "metadata": {},
          "execution_count": 48
        }
      ]
    }
  ]
}