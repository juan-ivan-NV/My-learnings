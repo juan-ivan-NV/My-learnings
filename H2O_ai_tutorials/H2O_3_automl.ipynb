{
  "nbformat": 4,
  "nbformat_minor": 0,
  "metadata": {
    "colab": {
      "name": "1C. Introduction to Machine Learning with H2O-3-automl.ipynb",
      "provenance": []
    },
    "kernelspec": {
      "name": "python3",
      "display_name": "Python 3"
    },
    "language_info": {
      "name": "python"
    }
  },
  "cells": [
    {
      "cell_type": "markdown",
      "metadata": {
        "id": "F_TLKQQAMB4b"
      },
      "source": [
        "![img](https://miro.medium.com/max/802/1*u7swL7CrX0UW_lIScu1eDQ.png)\n",
        "# 1C. Introduction to Machine Learning with H2O-3-automl"
      ]
    },
    {
      "cell_type": "markdown",
      "metadata": {
        "id": "eOeJdDH0Mgoh"
      },
      "source": [
        "In this tutorial, we will use the subset of the loan-level dataset from Fannie Mae and Freddie Mac. Firstly, we will solve a binary classification problem (predicting if a loan is delinquent or not). Then, we will explore a regression use-case (predicting interest rates on the same dataset). We will try to do both use-cases using Automatic Machine Learning (AutoML), and we will do so using H2O-3 in Python."
      ]
    },
    {
      "cell_type": "markdown",
      "metadata": {
        "id": "ZYNJv8oVNkQI"
      },
      "source": [
        "### Requierements"
      ]
    },
    {
      "cell_type": "code",
      "metadata": {
        "colab": {
          "base_uri": "https://localhost:8080/"
        },
        "id": "abWP18F68ZHQ",
        "outputId": "60465c1e-6e5b-4e13-9635-06340a19e17c"
      },
      "source": [
        "# installing java\n",
        "! apt-get install default-jre\n",
        "! java -version\n",
        "# install h2o\n",
        "! pip install h2o\n"
      ],
      "execution_count": 1,
      "outputs": [
        {
          "output_type": "stream",
          "text": [
            "Reading package lists... Done\n",
            "Building dependency tree       \n",
            "Reading state information... Done\n",
            "default-jre is already the newest version (2:1.11-68ubuntu1~18.04.1).\n",
            "default-jre set to manually installed.\n",
            "The following package was automatically installed and is no longer required:\n",
            "  libnvidia-common-460\n",
            "Use 'apt autoremove' to remove it.\n",
            "0 upgraded, 0 newly installed, 0 to remove and 34 not upgraded.\n",
            "openjdk version \"11.0.10\" 2021-01-19\n",
            "OpenJDK Runtime Environment (build 11.0.10+9-Ubuntu-0ubuntu1.18.04)\n",
            "OpenJDK 64-Bit Server VM (build 11.0.10+9-Ubuntu-0ubuntu1.18.04, mixed mode, sharing)\n",
            "Collecting h2o\n",
            "\u001b[?25l  Downloading https://files.pythonhosted.org/packages/95/b8/f8839b152e5b783b453a957432402e13350ca93b54741f0f848eee22bb08/h2o-3.32.1.2.tar.gz (164.8MB)\n",
            "\u001b[K     |████████████████████████████████| 164.8MB 52kB/s \n",
            "\u001b[?25hRequirement already satisfied: requests in /usr/local/lib/python3.7/dist-packages (from h2o) (2.23.0)\n",
            "Requirement already satisfied: tabulate in /usr/local/lib/python3.7/dist-packages (from h2o) (0.8.9)\n",
            "Requirement already satisfied: future in /usr/local/lib/python3.7/dist-packages (from h2o) (0.16.0)\n",
            "Collecting colorama>=0.3.8\n",
            "  Downloading https://files.pythonhosted.org/packages/44/98/5b86278fbbf250d239ae0ecb724f8572af1c91f4a11edf4d36a206189440/colorama-0.4.4-py2.py3-none-any.whl\n",
            "Requirement already satisfied: certifi>=2017.4.17 in /usr/local/lib/python3.7/dist-packages (from requests->h2o) (2020.12.5)\n",
            "Requirement already satisfied: idna<3,>=2.5 in /usr/local/lib/python3.7/dist-packages (from requests->h2o) (2.10)\n",
            "Requirement already satisfied: chardet<4,>=3.0.2 in /usr/local/lib/python3.7/dist-packages (from requests->h2o) (3.0.4)\n",
            "Requirement already satisfied: urllib3!=1.25.0,!=1.25.1,<1.26,>=1.21.1 in /usr/local/lib/python3.7/dist-packages (from requests->h2o) (1.24.3)\n",
            "Building wheels for collected packages: h2o\n",
            "  Building wheel for h2o (setup.py) ... \u001b[?25l\u001b[?25hdone\n",
            "  Created wheel for h2o: filename=h2o-3.32.1.2-py2.py3-none-any.whl size=164848811 sha256=e6bf715d66c9047a09efdb1f3fd9f50852bbef84a03b187d6dcd3a7bbc225f59\n",
            "  Stored in directory: /root/.cache/pip/wheels/37/b6/c7/c1cfdcd471d476b2b5129f4d27a0fd89043858ee74eda7ee7a\n",
            "Successfully built h2o\n",
            "Installing collected packages: colorama, h2o\n",
            "Successfully installed colorama-0.4.4 h2o-3.32.1.2\n"
          ],
          "name": "stdout"
        }
      ]
    },
    {
      "cell_type": "markdown",
      "metadata": {
        "id": "CyJBkWt8N8kp"
      },
      "source": [
        "### Task 1: Initial Setup"
      ]
    },
    {
      "cell_type": "markdown",
      "metadata": {
        "id": "dEiq8v-aOJin"
      },
      "source": [
        "We will use H2O AutoML to make the same predictions as in the previous two tutorials:\n",
        "\n",
        "*  Predict whether a mortgage loan will be delinquent or not\n",
        "*  Predict the interest rate for each loan"
      ]
    },
    {
      "cell_type": "code",
      "metadata": {
        "id": "rWDD33jrNqu0"
      },
      "source": [
        "# Libraries\n",
        "import h2o\n",
        "from h2o.automl import *\n",
        "%matplotlib inline"
      ],
      "execution_count": 2,
      "outputs": []
    },
    {
      "cell_type": "code",
      "metadata": {
        "id": "HJAJoKJvOTYF"
      },
      "source": [
        "# Initialize H2O instance\n",
        "import os\n",
        "\n",
        "startup  = '/home/h2o/bin/aquarium_startup'\n",
        "shutdown = '/home/h2o/bin/aquarium_stop'\n",
        "\n",
        "if os.path.exists(startup):\n",
        "    os.system(startup)\n",
        "    local_url = 'http://localhost:54321/h2o'\n",
        "    aquarium = True\n",
        "else:\n",
        "    local_url = 'http://localhost:54321'\n",
        "    aquarium = False"
      ],
      "execution_count": 3,
      "outputs": []
    },
    {
      "cell_type": "code",
      "metadata": {
        "colab": {
          "base_uri": "https://localhost:8080/",
          "height": 526
        },
        "id": "MoXtqT47OYqr",
        "outputId": "d2efb17d-a799-4b8d-a277-c19bdfbb01f5"
      },
      "source": [
        "h2o.init(url = local_url)"
      ],
      "execution_count": 4,
      "outputs": [
        {
          "output_type": "stream",
          "text": [
            "Checking whether there is an H2O instance running at http://localhost:54321 ..... not found.\n",
            "Attempting to start a local H2O server...\n",
            "  Java Version: openjdk version \"11.0.10\" 2021-01-19; OpenJDK Runtime Environment (build 11.0.10+9-Ubuntu-0ubuntu1.18.04); OpenJDK 64-Bit Server VM (build 11.0.10+9-Ubuntu-0ubuntu1.18.04, mixed mode, sharing)\n",
            "  Starting server from /usr/local/lib/python3.7/dist-packages/h2o/backend/bin/h2o.jar\n",
            "  Ice root: /tmp/tmpivv_79e4\n",
            "  JVM stdout: /tmp/tmpivv_79e4/h2o_unknownUser_started_from_python.out\n",
            "  JVM stderr: /tmp/tmpivv_79e4/h2o_unknownUser_started_from_python.err\n",
            "  Server is running at http://127.0.0.1:54321\n",
            "Connecting to H2O server at http://127.0.0.1:54321 ... successful.\n"
          ],
          "name": "stdout"
        },
        {
          "output_type": "display_data",
          "data": {
            "text/html": [
              "<div style=\"overflow:auto\"><table style=\"width:50%\"><tr><td>H2O_cluster_uptime:</td>\n",
              "<td>03 secs</td></tr>\n",
              "<tr><td>H2O_cluster_timezone:</td>\n",
              "<td>Etc/UTC</td></tr>\n",
              "<tr><td>H2O_data_parsing_timezone:</td>\n",
              "<td>UTC</td></tr>\n",
              "<tr><td>H2O_cluster_version:</td>\n",
              "<td>3.32.1.2</td></tr>\n",
              "<tr><td>H2O_cluster_version_age:</td>\n",
              "<td>5 days </td></tr>\n",
              "<tr><td>H2O_cluster_name:</td>\n",
              "<td>H2O_from_python_unknownUser_rxkxwq</td></tr>\n",
              "<tr><td>H2O_cluster_total_nodes:</td>\n",
              "<td>1</td></tr>\n",
              "<tr><td>H2O_cluster_free_memory:</td>\n",
              "<td>3.180 Gb</td></tr>\n",
              "<tr><td>H2O_cluster_total_cores:</td>\n",
              "<td>2</td></tr>\n",
              "<tr><td>H2O_cluster_allowed_cores:</td>\n",
              "<td>2</td></tr>\n",
              "<tr><td>H2O_cluster_status:</td>\n",
              "<td>accepting new members, healthy</td></tr>\n",
              "<tr><td>H2O_connection_url:</td>\n",
              "<td>http://127.0.0.1:54321</td></tr>\n",
              "<tr><td>H2O_connection_proxy:</td>\n",
              "<td>{\"http\": null, \"https\": null}</td></tr>\n",
              "<tr><td>H2O_internal_security:</td>\n",
              "<td>False</td></tr>\n",
              "<tr><td>H2O_API_Extensions:</td>\n",
              "<td>Amazon S3, XGBoost, Algos, AutoML, Core V3, TargetEncoder, Core V4</td></tr>\n",
              "<tr><td>Python_version:</td>\n",
              "<td>3.7.10 final</td></tr></table></div>"
            ],
            "text/plain": [
              "--------------------------  ------------------------------------------------------------------\n",
              "H2O_cluster_uptime:         03 secs\n",
              "H2O_cluster_timezone:       Etc/UTC\n",
              "H2O_data_parsing_timezone:  UTC\n",
              "H2O_cluster_version:        3.32.1.2\n",
              "H2O_cluster_version_age:    5 days\n",
              "H2O_cluster_name:           H2O_from_python_unknownUser_rxkxwq\n",
              "H2O_cluster_total_nodes:    1\n",
              "H2O_cluster_free_memory:    3.180 Gb\n",
              "H2O_cluster_total_cores:    2\n",
              "H2O_cluster_allowed_cores:  2\n",
              "H2O_cluster_status:         accepting new members, healthy\n",
              "H2O_connection_url:         http://127.0.0.1:54321\n",
              "H2O_connection_proxy:       {\"http\": null, \"https\": null}\n",
              "H2O_internal_security:      False\n",
              "H2O_API_Extensions:         Amazon S3, XGBoost, Algos, AutoML, Core V3, TargetEncoder, Core V4\n",
              "Python_version:             3.7.10 final\n",
              "--------------------------  ------------------------------------------------------------------"
            ]
          },
          "metadata": {
            "tags": []
          }
        }
      ]
    },
    {
      "cell_type": "code",
      "metadata": {
        "colab": {
          "base_uri": "https://localhost:8080/"
        },
        "id": "QiTdWn7RO2im",
        "outputId": "f5a640e4-9235-4de4-c1b1-6567817cacaa"
      },
      "source": [
        "# Dataset from AWS S3 instance and we are using a subset with 50k rows.\n",
        "loan_level = h2o.import_file(\"https://s3.amazonaws.com/data.h2o.ai/H2O-3-Tutorials/loan_level_50k.csv\")"
      ],
      "execution_count": 5,
      "outputs": [
        {
          "output_type": "stream",
          "text": [
            "Parse progress: |█████████████████████████████████████████████████████████| 100%\n"
          ],
          "name": "stdout"
        }
      ]
    },
    {
      "cell_type": "markdown",
      "metadata": {
        "id": "0MpsTxEyPKB_"
      },
      "source": [
        "### Task 2: AutoML Concepts"
      ]
    },
    {
      "cell_type": "markdown",
      "metadata": {
        "id": "0taPTSbiPOBR"
      },
      "source": [
        "AutoML ► Choosing the best machine learning models and tuning them can be time consuming and exhaustive. Often, it requires levels of expertise to know what parameters to tune. The field of AutoML focuses on solving this issue. AutoML is useful both for experts, by automating the process of choosing and tuning a model; and for non-experts as well, by helping them to create high performing models in a short time frame. Some of the aspects of machine learning that can be automated include data preparation, which can include imputation, one-hot encoding, feature selection/extraction, and also feature engineering. Another aspect that can be automated is the model generation, which includes training a model and tuning it with cartesian or random grid search. Lastly, a third aspect that could be using ensembles, as they usually outperform individual models.\n",
        "\n",
        "The current version of AutoML trains and cross-validates the following model: GLMs, a Random Forest, an Extremely-Randomized Forest, a random grid of Gradient Boosting Machines (GBMs), XGBoosts, a random grid of Deep Neural Nets, and a Stacked Ensemble of all the models.\n",
        "\n",
        "Stacked Ensembles ► Ensemble machine learning methods use multiple learning algorithms to obtain better predictive performance than the ones that could be obtained from any of the constituent learning algorithms. Many of the popular modern machine learning algorithms are actually ensembles. For example, Random Forest and Gradient Boosting Machine (GBM) are both ensemble learners. Both bagging (e.g., Random Forest) and boosting (e.g., GBM) are methods for ensembling that take a collection of weak learners (e.g., decision tree) and form a single, strong learner.\n"
      ]
    },
    {
      "cell_type": "markdown",
      "metadata": {
        "id": "8TUZec2hekD4"
      },
      "source": [
        "### Task 3: Start Experiment"
      ]
    },
    {
      "cell_type": "code",
      "metadata": {
        "colab": {
          "base_uri": "https://localhost:8080/",
          "height": 0
        },
        "id": "fdEsmA2LeZ2N",
        "outputId": "74726f37-1715-40f9-e165-aa1cb0367ad9"
      },
      "source": [
        "# Dataset head\n",
        "loan_level.head()"
      ],
      "execution_count": 6,
      "outputs": [
        {
          "output_type": "display_data",
          "data": {
            "text/html": [
              "<table>\n",
              "<thead>\n",
              "<tr><th style=\"text-align: right;\">  CREDIT_SCORE</th><th style=\"text-align: right;\">  FIRST_PAYMENT_DATE</th><th>FIRST_TIME_HOMEBUYER_FLAG  </th><th style=\"text-align: right;\">  MATURITY_DATE</th><th style=\"text-align: right;\">  METROPOLITAN_STATISTICAL_AREA</th><th style=\"text-align: right;\">  MORTGAGE_INSURANCE_PERCENTAGE</th><th style=\"text-align: right;\">  NUMBER_OF_UNITS</th><th>OCCUPANCY_STATUS  </th><th style=\"text-align: right;\">  ORIGINAL_COMBINED_LOAN_TO_VALUE</th><th style=\"text-align: right;\">  ORIGINAL_DEBT_TO_INCOME_RATIO</th><th style=\"text-align: right;\">  ORIGINAL_UPB</th><th style=\"text-align: right;\">  ORIGINAL_LOAN_TO_VALUE</th><th style=\"text-align: right;\">  ORIGINAL_INTEREST_RATE</th><th>CHANNEL  </th><th>PREPAYMENT_PENALTY_MORTGAGE_FLAG  </th><th>PRODUCT_TYPE  </th><th>PROPERTY_STATE  </th><th>PROPERTY_TYPE  </th><th style=\"text-align: right;\">  POSTAL_CODE</th><th>LOAN_SEQUENCE_NUMBER  </th><th>LOAN_PURPOSE  </th><th style=\"text-align: right;\">  ORIGINAL_LOAN_TERM</th><th style=\"text-align: right;\">  NUMBER_OF_BORROWERS</th><th>SELLER_NAME         </th><th>SERVICER_NAME       </th><th>PREPAID  </th><th>DELINQUENT  </th></tr>\n",
              "</thead>\n",
              "<tbody>\n",
              "<tr><td style=\"text-align: right;\">           707</td><td style=\"text-align: right;\">              200211</td><td>N                          </td><td style=\"text-align: right;\">         202903</td><td style=\"text-align: right;\">                          33340</td><td style=\"text-align: right;\">                              0</td><td style=\"text-align: right;\">                1</td><td>O                 </td><td style=\"text-align: right;\">                               60</td><td style=\"text-align: right;\">                             57</td><td style=\"text-align: right;\">        136000</td><td style=\"text-align: right;\">                      60</td><td style=\"text-align: right;\">                   6.25 </td><td>R        </td><td>N                                 </td><td>FRM           </td><td>WI              </td><td>SF             </td><td style=\"text-align: right;\">        53000</td><td>F199Q1000018          </td><td>C             </td><td style=\"text-align: right;\">                 317</td><td style=\"text-align: right;\">                    2</td><td>Other sellers       </td><td>Other servicers     </td><td>TRUE     </td><td>FALSE       </td></tr>\n",
              "<tr><td style=\"text-align: right;\">           691</td><td style=\"text-align: right;\">              200302</td><td>N                          </td><td style=\"text-align: right;\">         202901</td><td style=\"text-align: right;\">                          15940</td><td style=\"text-align: right;\">                              0</td><td style=\"text-align: right;\">                1</td><td>O                 </td><td style=\"text-align: right;\">                               65</td><td style=\"text-align: right;\">                             25</td><td style=\"text-align: right;\">        130000</td><td style=\"text-align: right;\">                      65</td><td style=\"text-align: right;\">                   5.875</td><td>R        </td><td>N                                 </td><td>FRM           </td><td>OH              </td><td>SF             </td><td style=\"text-align: right;\">        44700</td><td>F199Q1000023          </td><td>P             </td><td style=\"text-align: right;\">                 312</td><td style=\"text-align: right;\">                    2</td><td>Other sellers       </td><td>Other servicers     </td><td>TRUE     </td><td>FALSE       </td></tr>\n",
              "<tr><td style=\"text-align: right;\">           730</td><td style=\"text-align: right;\">              199903</td><td>N                          </td><td style=\"text-align: right;\">         202902</td><td style=\"text-align: right;\">                          16620</td><td style=\"text-align: right;\">                             30</td><td style=\"text-align: right;\">                1</td><td>O                 </td><td style=\"text-align: right;\">                               94</td><td style=\"text-align: right;\">                             29</td><td style=\"text-align: right;\">        138000</td><td style=\"text-align: right;\">                      94</td><td style=\"text-align: right;\">                   7    </td><td>T        </td><td>N                                 </td><td>FRM           </td><td>WV              </td><td>SF             </td><td style=\"text-align: right;\">        25300</td><td>F199Q1000037          </td><td>P             </td><td style=\"text-align: right;\">                 360</td><td style=\"text-align: right;\">                    2</td><td>Other sellers       </td><td>Other servicers     </td><td>TRUE     </td><td>FALSE       </td></tr>\n",
              "<tr><td style=\"text-align: right;\">           638</td><td style=\"text-align: right;\">              199905</td><td>N                          </td><td style=\"text-align: right;\">         202904</td><td style=\"text-align: right;\">                          42020</td><td style=\"text-align: right;\">                            nan</td><td style=\"text-align: right;\">                1</td><td>O                 </td><td style=\"text-align: right;\">                               67</td><td style=\"text-align: right;\">                             28</td><td style=\"text-align: right;\">        160000</td><td style=\"text-align: right;\">                      67</td><td style=\"text-align: right;\">                   7.375</td><td>T        </td><td>N                                 </td><td>FRM           </td><td>CA              </td><td>SF             </td><td style=\"text-align: right;\">        93400</td><td>F199Q1000067          </td><td>N             </td><td style=\"text-align: right;\">                 360</td><td style=\"text-align: right;\">                    2</td><td>CROSSLAND MORTGAGE C</td><td>CHASEMTGECO         </td><td>TRUE     </td><td>FALSE       </td></tr>\n",
              "<tr><td style=\"text-align: right;\">           577</td><td style=\"text-align: right;\">              199903</td><td>N                          </td><td style=\"text-align: right;\">         202902</td><td style=\"text-align: right;\">                          12580</td><td style=\"text-align: right;\">                             12</td><td style=\"text-align: right;\">                1</td><td>O                 </td><td style=\"text-align: right;\">                               80</td><td style=\"text-align: right;\">                             53</td><td style=\"text-align: right;\">         43000</td><td style=\"text-align: right;\">                      80</td><td style=\"text-align: right;\">                   7.25 </td><td>T        </td><td>N                                 </td><td>FRM           </td><td>MD              </td><td>SF             </td><td style=\"text-align: right;\">        21200</td><td>F199Q1000086          </td><td>N             </td><td style=\"text-align: right;\">                 360</td><td style=\"text-align: right;\">                    1</td><td>ACCUBANC MORTGAGE CO</td><td>GMACMTGECORP        </td><td>FALSE    </td><td>TRUE        </td></tr>\n",
              "<tr><td style=\"text-align: right;\">           693</td><td style=\"text-align: right;\">              199905</td><td>N                          </td><td style=\"text-align: right;\">         202904</td><td style=\"text-align: right;\">                            nan</td><td style=\"text-align: right;\">                            nan</td><td style=\"text-align: right;\">                1</td><td>O                 </td><td style=\"text-align: right;\">                               80</td><td style=\"text-align: right;\">                             43</td><td style=\"text-align: right;\">         93000</td><td style=\"text-align: right;\">                      80</td><td style=\"text-align: right;\">                   7.125</td><td>R        </td><td>N                                 </td><td>FRM           </td><td>SD              </td><td>SF             </td><td style=\"text-align: right;\">        57500</td><td>F199Q1000104          </td><td>P             </td><td style=\"text-align: right;\">                 360</td><td style=\"text-align: right;\">                    1</td><td>NORWEST MORTGAGE, IN</td><td>WELLSFARGOHOMEMORTGA</td><td>TRUE     </td><td>FALSE       </td></tr>\n",
              "<tr><td style=\"text-align: right;\">           739</td><td style=\"text-align: right;\">              199905</td><td>                           </td><td style=\"text-align: right;\">         202904</td><td style=\"text-align: right;\">                          16700</td><td style=\"text-align: right;\">                            nan</td><td style=\"text-align: right;\">                1</td><td>S                 </td><td style=\"text-align: right;\">                               80</td><td style=\"text-align: right;\">                             25</td><td style=\"text-align: right;\">        200000</td><td style=\"text-align: right;\">                      80</td><td style=\"text-align: right;\">                   6.875</td><td>R        </td><td>N                                 </td><td>FRM           </td><td>SC              </td><td>CO             </td><td style=\"text-align: right;\">        29400</td><td>F199Q1000107          </td><td>P             </td><td style=\"text-align: right;\">                 360</td><td style=\"text-align: right;\">                    2</td><td>NORWEST MORTGAGE, IN</td><td>WELLSFARGOHOMEMORTGA</td><td>TRUE     </td><td>FALSE       </td></tr>\n",
              "<tr><td style=\"text-align: right;\">           695</td><td style=\"text-align: right;\">              199905</td><td>                           </td><td style=\"text-align: right;\">         202904</td><td style=\"text-align: right;\">                          42044</td><td style=\"text-align: right;\">                              0</td><td style=\"text-align: right;\">                1</td><td>O                 </td><td style=\"text-align: right;\">                               40</td><td style=\"text-align: right;\">                              6</td><td style=\"text-align: right;\">        135000</td><td style=\"text-align: right;\">                      40</td><td style=\"text-align: right;\">                   6.875</td><td>R        </td><td>N                                 </td><td>FRM           </td><td>CA              </td><td>SF             </td><td style=\"text-align: right;\">        92800</td><td>F199Q1000121          </td><td>C             </td><td style=\"text-align: right;\">                 360</td><td style=\"text-align: right;\">                    2</td><td>NATIONSBANC MORTGAGE</td><td>BAMORTGAGE,LLC      </td><td>TRUE     </td><td>FALSE       </td></tr>\n",
              "<tr><td style=\"text-align: right;\">           753</td><td style=\"text-align: right;\">              199905</td><td>N                          </td><td style=\"text-align: right;\">         202904</td><td style=\"text-align: right;\">                          41740</td><td style=\"text-align: right;\">                              0</td><td style=\"text-align: right;\">                1</td><td>O                 </td><td style=\"text-align: right;\">                               80</td><td style=\"text-align: right;\">                             17</td><td style=\"text-align: right;\">         59000</td><td style=\"text-align: right;\">                      80</td><td style=\"text-align: right;\">                   7    </td><td>R        </td><td>N                                 </td><td>FRM           </td><td>CA              </td><td>CO             </td><td style=\"text-align: right;\">        92000</td><td>F199Q1000122          </td><td>P             </td><td style=\"text-align: right;\">                 360</td><td style=\"text-align: right;\">                    1</td><td>NATIONSBANC MORTGAGE</td><td>BAMORTGAGE,LLC      </td><td>TRUE     </td><td>FALSE       </td></tr>\n",
              "<tr><td style=\"text-align: right;\">           712</td><td style=\"text-align: right;\">              199905</td><td>                           </td><td style=\"text-align: right;\">         202904</td><td style=\"text-align: right;\">                            nan</td><td style=\"text-align: right;\">                            nan</td><td style=\"text-align: right;\">                1</td><td>O                 </td><td style=\"text-align: right;\">                               80</td><td style=\"text-align: right;\">                             28</td><td style=\"text-align: right;\">        126000</td><td style=\"text-align: right;\">                      80</td><td style=\"text-align: right;\">                   7.125</td><td>R        </td><td>N                                 </td><td>FRM           </td><td>MI              </td><td>SF             </td><td style=\"text-align: right;\">        48800</td><td>F199Q1000123          </td><td>N             </td><td style=\"text-align: right;\">                 360</td><td style=\"text-align: right;\">                    2</td><td>Other sellers       </td><td>Other servicers     </td><td>TRUE     </td><td>FALSE       </td></tr>\n",
              "</tbody>\n",
              "</table>"
            ]
          },
          "metadata": {
            "tags": []
          }
        },
        {
          "output_type": "execute_result",
          "data": {
            "text/plain": [
              ""
            ]
          },
          "metadata": {
            "tags": []
          },
          "execution_count": 6
        }
      ]
    },
    {
      "cell_type": "code",
      "metadata": {
        "colab": {
          "base_uri": "https://localhost:8080/",
          "height": 0
        },
        "id": "GzS84jjGetXj",
        "outputId": "1d86a38e-2333-4364-baea-4afbe3ec6478"
      },
      "source": [
        "# Descriptive statistics\n",
        "loan_level.describe()"
      ],
      "execution_count": 7,
      "outputs": [
        {
          "output_type": "stream",
          "text": [
            "Rows:49930\n",
            "Cols:27\n",
            "\n",
            "\n"
          ],
          "name": "stdout"
        },
        {
          "output_type": "display_data",
          "data": {
            "text/html": [
              "<table>\n",
              "<thead>\n",
              "<tr><th>       </th><th>CREDIT_SCORE     </th><th>FIRST_PAYMENT_DATE  </th><th>FIRST_TIME_HOMEBUYER_FLAG  </th><th>MATURITY_DATE     </th><th>METROPOLITAN_STATISTICAL_AREA  </th><th>MORTGAGE_INSURANCE_PERCENTAGE  </th><th>NUMBER_OF_UNITS    </th><th>OCCUPANCY_STATUS  </th><th>ORIGINAL_COMBINED_LOAN_TO_VALUE  </th><th>ORIGINAL_DEBT_TO_INCOME_RATIO  </th><th>ORIGINAL_UPB     </th><th>ORIGINAL_LOAN_TO_VALUE  </th><th>ORIGINAL_INTEREST_RATE  </th><th>CHANNEL  </th><th>PREPAYMENT_PENALTY_MORTGAGE_FLAG  </th><th>PRODUCT_TYPE  </th><th>PROPERTY_STATE  </th><th>PROPERTY_TYPE  </th><th>POSTAL_CODE       </th><th>LOAN_SEQUENCE_NUMBER  </th><th>LOAN_PURPOSE  </th><th>ORIGINAL_LOAN_TERM  </th><th>NUMBER_OF_BORROWERS  </th><th>SELLER_NAME         </th><th>SERVICER_NAME       </th><th>PREPAID  </th><th>DELINQUENT  </th></tr>\n",
              "</thead>\n",
              "<tbody>\n",
              "<tr><td>type   </td><td>int              </td><td>int                 </td><td>enum                       </td><td>int               </td><td>int                            </td><td>int                            </td><td>int                </td><td>enum              </td><td>int                              </td><td>int                            </td><td>int              </td><td>int                     </td><td>real                    </td><td>enum     </td><td>enum                              </td><td>enum          </td><td>enum            </td><td>enum           </td><td>int               </td><td>string                </td><td>enum          </td><td>int                 </td><td>int                  </td><td>enum                </td><td>enum                </td><td>enum     </td><td>enum        </td></tr>\n",
              "<tr><td>mins   </td><td>300.0            </td><td>199902.0            </td><td>                           </td><td>202404.0          </td><td>10180.0                        </td><td>0.0                            </td><td>1.0                </td><td>                  </td><td>6.0                              </td><td>1.0                            </td><td>10000.0          </td><td>6.0                     </td><td>5.0                     </td><td>         </td><td>                                  </td><td>              </td><td>                </td><td>               </td><td>600.0             </td><td>NaN                   </td><td>              </td><td>301.0               </td><td>1.0                  </td><td>                    </td><td>                    </td><td>         </td><td>            </td></tr>\n",
              "<tr><td>mean   </td><td>712.3066000684777</td><td>200025.6742239134   </td><td>                           </td><td>203023.3970759064 </td><td>30705.258665299156             </td><td>7.719609503855924              </td><td>1.0281994792709799 </td><td>                  </td><td>76.08864765261984                </td><td>32.83933763635985              </td><td>136369.6775485679</td><td>75.7452382382984        </td><td>7.185977708792308       </td><td>         </td><td>                                  </td><td>              </td><td>                </td><td>               </td><td>55401.434122501334</td><td>NaN                   </td><td>              </td><td>359.85083116362875  </td><td>1.6294507784479122   </td><td>                    </td><td>                    </td><td>         </td><td>            </td></tr>\n",
              "<tr><td>maxs   </td><td>830.0            </td><td>200403.0            </td><td>                           </td><td>203312.0          </td><td>49740.0                        </td><td>50.0                           </td><td>4.0                </td><td>                  </td><td>160.0                            </td><td>65.0                           </td><td>529000.0         </td><td>100.0                   </td><td>10.625                  </td><td>         </td><td>                                  </td><td>              </td><td>                </td><td>               </td><td>99900.0           </td><td>NaN                   </td><td>              </td><td>361.0               </td><td>2.0                  </td><td>                    </td><td>                    </td><td>         </td><td>            </td></tr>\n",
              "<tr><td>sigma  </td><td>54.97355321804355</td><td>109.77460105158103  </td><td>                           </td><td>110.47953133322676</td><td>11363.12482267641              </td><td>12.042273590466618             </td><td>0.21962330364819396</td><td>                  </td><td>15.062080123474091               </td><td>11.16538336497283              </td><td>60632.74328123587</td><td>14.867228331350553      </td><td>0.5835949914330252      </td><td>         </td><td>                                  </td><td>              </td><td>                </td><td>               </td><td>29512.32285922538 </td><td>NaN                   </td><td>              </td><td>1.9974697613404884  </td><td>0.48295669536262226  </td><td>                    </td><td>                    </td><td>         </td><td>            </td></tr>\n",
              "<tr><td>zeros  </td><td>0                </td><td>0                   </td><td>                           </td><td>0                 </td><td>0                              </td><td>31023                          </td><td>0                  </td><td>                  </td><td>0                                </td><td>0                              </td><td>0                </td><td>0                       </td><td>0                       </td><td>         </td><td>                                  </td><td>              </td><td>                </td><td>               </td><td>0                 </td><td>0                     </td><td>              </td><td>0                   </td><td>0                    </td><td>                    </td><td>                    </td><td>         </td><td>            </td></tr>\n",
              "<tr><td>missing</td><td>279              </td><td>0                   </td><td>13067                      </td><td>0                 </td><td>7029                           </td><td>5064                           </td><td>0                  </td><td>0                 </td><td>2                                </td><td>1437                           </td><td>0                </td><td>1                       </td><td>0                       </td><td>0        </td><td>504                               </td><td>0             </td><td>0               </td><td>13             </td><td>4                 </td><td>0                     </td><td>0             </td><td>0                   </td><td>23                   </td><td>0                   </td><td>0                   </td><td>0        </td><td>0           </td></tr>\n",
              "<tr><td>0      </td><td>707.0            </td><td>200211.0            </td><td>N                          </td><td>202903.0          </td><td>33340.0                        </td><td>0.0                            </td><td>1.0                </td><td>O                 </td><td>60.0                             </td><td>57.0                           </td><td>136000.0         </td><td>60.0                    </td><td>6.25                    </td><td>R        </td><td>N                                 </td><td>FRM           </td><td>WI              </td><td>SF             </td><td>53000.0           </td><td>F199Q1000018          </td><td>C             </td><td>317.0               </td><td>2.0                  </td><td>Other sellers       </td><td>Other servicers     </td><td>TRUE     </td><td>FALSE       </td></tr>\n",
              "<tr><td>1      </td><td>691.0            </td><td>200302.0            </td><td>N                          </td><td>202901.0          </td><td>15940.0                        </td><td>0.0                            </td><td>1.0                </td><td>O                 </td><td>65.0                             </td><td>25.0                           </td><td>130000.0         </td><td>65.0                    </td><td>5.875                   </td><td>R        </td><td>N                                 </td><td>FRM           </td><td>OH              </td><td>SF             </td><td>44700.0           </td><td>F199Q1000023          </td><td>P             </td><td>312.0               </td><td>2.0                  </td><td>Other sellers       </td><td>Other servicers     </td><td>TRUE     </td><td>FALSE       </td></tr>\n",
              "<tr><td>2      </td><td>730.0            </td><td>199903.0            </td><td>N                          </td><td>202902.0          </td><td>16620.0                        </td><td>30.0                           </td><td>1.0                </td><td>O                 </td><td>94.0                             </td><td>29.0                           </td><td>138000.0         </td><td>94.0                    </td><td>7.0                     </td><td>T        </td><td>N                                 </td><td>FRM           </td><td>WV              </td><td>SF             </td><td>25300.0           </td><td>F199Q1000037          </td><td>P             </td><td>360.0               </td><td>2.0                  </td><td>Other sellers       </td><td>Other servicers     </td><td>TRUE     </td><td>FALSE       </td></tr>\n",
              "<tr><td>3      </td><td>638.0            </td><td>199905.0            </td><td>N                          </td><td>202904.0          </td><td>42020.0                        </td><td>nan                            </td><td>1.0                </td><td>O                 </td><td>67.0                             </td><td>28.0                           </td><td>160000.0         </td><td>67.0                    </td><td>7.375                   </td><td>T        </td><td>N                                 </td><td>FRM           </td><td>CA              </td><td>SF             </td><td>93400.0           </td><td>F199Q1000067          </td><td>N             </td><td>360.0               </td><td>2.0                  </td><td>CROSSLAND MORTGAGE C</td><td>CHASEMTGECO         </td><td>TRUE     </td><td>FALSE       </td></tr>\n",
              "<tr><td>4      </td><td>577.0            </td><td>199903.0            </td><td>N                          </td><td>202902.0          </td><td>12580.0                        </td><td>12.0                           </td><td>1.0                </td><td>O                 </td><td>80.0                             </td><td>53.0                           </td><td>43000.0          </td><td>80.0                    </td><td>7.25                    </td><td>T        </td><td>N                                 </td><td>FRM           </td><td>MD              </td><td>SF             </td><td>21200.0           </td><td>F199Q1000086          </td><td>N             </td><td>360.0               </td><td>1.0                  </td><td>ACCUBANC MORTGAGE CO</td><td>GMACMTGECORP        </td><td>FALSE    </td><td>TRUE        </td></tr>\n",
              "<tr><td>5      </td><td>693.0            </td><td>199905.0            </td><td>N                          </td><td>202904.0          </td><td>nan                            </td><td>nan                            </td><td>1.0                </td><td>O                 </td><td>80.0                             </td><td>43.0                           </td><td>93000.0          </td><td>80.0                    </td><td>7.125                   </td><td>R        </td><td>N                                 </td><td>FRM           </td><td>SD              </td><td>SF             </td><td>57500.0           </td><td>F199Q1000104          </td><td>P             </td><td>360.0               </td><td>1.0                  </td><td>NORWEST MORTGAGE, IN</td><td>WELLSFARGOHOMEMORTGA</td><td>TRUE     </td><td>FALSE       </td></tr>\n",
              "<tr><td>6      </td><td>739.0            </td><td>199905.0            </td><td>                           </td><td>202904.0          </td><td>16700.0                        </td><td>nan                            </td><td>1.0                </td><td>S                 </td><td>80.0                             </td><td>25.0                           </td><td>200000.0         </td><td>80.0                    </td><td>6.875                   </td><td>R        </td><td>N                                 </td><td>FRM           </td><td>SC              </td><td>CO             </td><td>29400.0           </td><td>F199Q1000107          </td><td>P             </td><td>360.0               </td><td>2.0                  </td><td>NORWEST MORTGAGE, IN</td><td>WELLSFARGOHOMEMORTGA</td><td>TRUE     </td><td>FALSE       </td></tr>\n",
              "<tr><td>7      </td><td>695.0            </td><td>199905.0            </td><td>                           </td><td>202904.0          </td><td>42044.0                        </td><td>0.0                            </td><td>1.0                </td><td>O                 </td><td>40.0                             </td><td>6.0                            </td><td>135000.0         </td><td>40.0                    </td><td>6.875                   </td><td>R        </td><td>N                                 </td><td>FRM           </td><td>CA              </td><td>SF             </td><td>92800.0           </td><td>F199Q1000121          </td><td>C             </td><td>360.0               </td><td>2.0                  </td><td>NATIONSBANC MORTGAGE</td><td>BAMORTGAGE,LLC      </td><td>TRUE     </td><td>FALSE       </td></tr>\n",
              "<tr><td>8      </td><td>753.0            </td><td>199905.0            </td><td>N                          </td><td>202904.0          </td><td>41740.0                        </td><td>0.0                            </td><td>1.0                </td><td>O                 </td><td>80.0                             </td><td>17.0                           </td><td>59000.0          </td><td>80.0                    </td><td>7.0                     </td><td>R        </td><td>N                                 </td><td>FRM           </td><td>CA              </td><td>CO             </td><td>92000.0           </td><td>F199Q1000122          </td><td>P             </td><td>360.0               </td><td>1.0                  </td><td>NATIONSBANC MORTGAGE</td><td>BAMORTGAGE,LLC      </td><td>TRUE     </td><td>FALSE       </td></tr>\n",
              "<tr><td>9      </td><td>712.0            </td><td>199905.0            </td><td>                           </td><td>202904.0          </td><td>nan                            </td><td>nan                            </td><td>1.0                </td><td>O                 </td><td>80.0                             </td><td>28.0                           </td><td>126000.0         </td><td>80.0                    </td><td>7.125                   </td><td>R        </td><td>N                                 </td><td>FRM           </td><td>MI              </td><td>SF             </td><td>48800.0           </td><td>F199Q1000123          </td><td>N             </td><td>360.0               </td><td>2.0                  </td><td>Other sellers       </td><td>Other servicers     </td><td>TRUE     </td><td>FALSE       </td></tr>\n",
              "</tbody>\n",
              "</table>"
            ]
          },
          "metadata": {
            "tags": []
          }
        }
      ]
    },
    {
      "cell_type": "code",
      "metadata": {
        "colab": {
          "base_uri": "https://localhost:8080/",
          "height": 0
        },
        "id": "nPfBpac6exc0",
        "outputId": "71a02949-417d-4556-b69e-494534c0e0c4"
      },
      "source": [
        "# Looking at the DELINQUENT col wich is the response for our classification problem.\n",
        "loan_level[\"DELINQUENT\"].table()"
      ],
      "execution_count": 8,
      "outputs": [
        {
          "output_type": "display_data",
          "data": {
            "text/html": [
              "<table>\n",
              "<thead>\n",
              "<tr><th>DELINQUENT  </th><th style=\"text-align: right;\">  Count</th></tr>\n",
              "</thead>\n",
              "<tbody>\n",
              "<tr><td>FALSE       </td><td style=\"text-align: right;\">  48118</td></tr>\n",
              "<tr><td>TRUE        </td><td style=\"text-align: right;\">   1812</td></tr>\n",
              "</tbody>\n",
              "</table>"
            ]
          },
          "metadata": {
            "tags": []
          }
        },
        {
          "output_type": "execute_result",
          "data": {
            "text/plain": [
              ""
            ]
          },
          "metadata": {
            "tags": []
          },
          "execution_count": 8
        }
      ]
    },
    {
      "cell_type": "code",
      "metadata": {
        "colab": {
          "base_uri": "https://localhost:8080/",
          "height": 0
        },
        "id": "nQILsfBOfZRm",
        "outputId": "6c0dca6d-0fc2-497f-9ef4-ba949f1b5524"
      },
      "source": [
        "# let's take a quick look at the response for our regression use-case.\n",
        "loan_level[\"ORIGINAL_INTEREST_RATE\"].hist()"
      ],
      "execution_count": 9,
      "outputs": [
        {
          "output_type": "display_data",
          "data": {
            "image/png": "[encoded data removed]",
            "text/plain": [
              "<Figure size 432x288 with 1 Axes>"
            ]
          },
          "metadata": {
            "tags": [],
            "needs_background": "light"
          }
        }
      ]
    },
    {
      "cell_type": "markdown",
      "metadata": {
        "id": "SDFPY7d3f-zh"
      },
      "source": [
        "the average interest rate ranges from 7% to 8%"
      ]
    },
    {
      "cell_type": "code",
      "metadata": {
        "id": "CFNjukUYf25Q"
      },
      "source": [
        "# Splitting data in two sets train and test\n",
        "train, test = loan_level.split_frame([0.8], seed=42)"
      ],
      "execution_count": 10,
      "outputs": []
    },
    {
      "cell_type": "code",
      "metadata": {
        "colab": {
          "base_uri": "https://localhost:8080/"
        },
        "id": "ucokwRJSgRUQ",
        "outputId": "320784ed-407e-4d7f-c6e9-c67577bd5a74"
      },
      "source": [
        "# Let's check the number of rows\n",
        "print(\"train:%d test:%d\" % (train.nrows, test.nrows))"
      ],
      "execution_count": 11,
      "outputs": [
        {
          "output_type": "stream",
          "text": [
            "train:39984 test:9946\n"
          ],
          "name": "stdout"
        }
      ]
    },
    {
      "cell_type": "markdown",
      "metadata": {
        "id": "LvJKxtKPgf_z"
      },
      "source": [
        "### Task 4: H2O AutoML Classification"
      ]
    },
    {
      "cell_type": "code",
      "metadata": {
        "id": "HjLF6fEzgeQQ"
      },
      "source": [
        "# Definnig target and useless cols\n",
        "y = \"DELINQUENT\"\n",
        "ignore = [\"DELINQUENT\", \n",
        "          \"PREPAID\", \n",
        "          \"PREPAYMENT_PENALTY_MORTGAGE_FLAG\", \n",
        "          \"PRODUCT_TYPE\"] \n",
        "x = list(set(train.names) - set(ignore))"
      ],
      "execution_count": 12,
      "outputs": []
    },
    {
      "cell_type": "code",
      "metadata": {
        "colab": {
          "base_uri": "https://localhost:8080/"
        },
        "id": "LHRV-P6Ige2_",
        "outputId": "937523ad-8a82-48e8-e0e2-70340a393aee"
      },
      "source": [
        "# Ready to run AutoML\n",
        "H2OAutoML(nfolds=5, max_runtime_secs=3600, max_models=None, stopping_metric='AUTO', stopping_tolerance=None, stopping_rounds=3, seed=None, project_name=None)"
      ],
      "execution_count": 13,
      "outputs": [
        {
          "output_type": "execute_result",
          "data": {
            "text/plain": [
              "<h2o.automl.autoh2o.H2OAutoML at 0x7f41902d5ad0>"
            ]
          },
          "metadata": {
            "tags": []
          },
          "execution_count": 13
        }
      ]
    },
    {
      "cell_type": "code",
      "metadata": {
        "colab": {
          "base_uri": "https://localhost:8080/"
        },
        "id": "0GSZ14ZkhKlU",
        "outputId": "5e514324-5598-47db-df9a-1c5f96e0b85e"
      },
      "source": [
        "# Setting the limits to 25 models that will take 15 minutes\n",
        "aml = H2OAutoML(max_runtime_secs = 900, \n",
        "                max_models = 25,  \n",
        "                seed = 42, \n",
        "                project_name='classification',\n",
        "                sort_metric = \"AUC\")\n",
        "\n",
        "%time aml.train(x = x, y = y, training_frame = train)"
      ],
      "execution_count": 14,
      "outputs": [
        {
          "output_type": "stream",
          "text": [
            "AutoML progress: |████████████████████████████████████████████████████████| 100%\n",
            "CPU times: user 56.9 s, sys: 2.14 s, total: 59.1 s\n",
            "Wall time: 14min 2s\n"
          ],
          "name": "stdout"
        }
      ]
    },
    {
      "cell_type": "markdown",
      "metadata": {
        "id": "pm49nXWUhfeW"
      },
      "source": [
        "The only required parameters for H2O's AutoML are, y training_frame, and max_runtime_secs, which let us train AutoML for ‘x' amount of seconds and/or max_models, which would train a maximum number of models. Please note that max_runtime_secs has a default value, while max_models does not. The seed is the usual parameter that we set for reproducibility purposes. We also need a project name because we will do both classification and regression with AutoML. Lastly, we are using the default number of folds for cross-validation."
      ]
    },
    {
      "cell_type": "code",
      "metadata": {
        "colab": {
          "base_uri": "https://localhost:8080/",
          "height": 578
        },
        "id": "B81Su5XxhZNH",
        "outputId": "d29028bd-8448-4f72-f123-fb04cc5c1ca5"
      },
      "source": [
        "# Checking the leaderboard\n",
        "lb = aml.leaderboard\n",
        "lb.head(rows = lb.nrows)"
      ],
      "execution_count": 15,
      "outputs": [
        {
          "output_type": "display_data",
          "data": {
            "text/html": [
              "<table>\n",
              "<thead>\n",
              "<tr><th>model_id                                           </th><th style=\"text-align: right;\">     auc</th><th style=\"text-align: right;\">  logloss</th><th style=\"text-align: right;\">   aucpr</th><th style=\"text-align: right;\">  mean_per_class_error</th><th style=\"text-align: right;\">    rmse</th><th style=\"text-align: right;\">      mse</th></tr>\n",
              "</thead>\n",
              "<tbody>\n",
              "<tr><td>StackedEnsemble_AllModels_AutoML_20210505_024310   </td><td style=\"text-align: right;\">0.859952</td><td style=\"text-align: right;\"> 0.118266</td><td style=\"text-align: right;\">0.232781</td><td style=\"text-align: right;\">              0.314899</td><td style=\"text-align: right;\">0.173837</td><td style=\"text-align: right;\">0.0302192</td></tr>\n",
              "<tr><td>StackedEnsemble_BestOfFamily_AutoML_20210505_024310</td><td style=\"text-align: right;\">0.858978</td><td style=\"text-align: right;\"> 0.118501</td><td style=\"text-align: right;\">0.23096 </td><td style=\"text-align: right;\">              0.320765</td><td style=\"text-align: right;\">0.173965</td><td style=\"text-align: right;\">0.0302639</td></tr>\n",
              "<tr><td>GLM_1_AutoML_20210505_024310                       </td><td style=\"text-align: right;\">0.853877</td><td style=\"text-align: right;\"> 0.120899</td><td style=\"text-align: right;\">0.205956</td><td style=\"text-align: right;\">              0.336445</td><td style=\"text-align: right;\">0.175755</td><td style=\"text-align: right;\">0.0308898</td></tr>\n",
              "<tr><td>XGBoost_3_AutoML_20210505_024310                   </td><td style=\"text-align: right;\">0.849281</td><td style=\"text-align: right;\"> 0.121242</td><td style=\"text-align: right;\">0.216121</td><td style=\"text-align: right;\">              0.35151 </td><td style=\"text-align: right;\">0.175255</td><td style=\"text-align: right;\">0.0307143</td></tr>\n",
              "<tr><td>GBM_grid__1_AutoML_20210505_024310_model_3         </td><td style=\"text-align: right;\">0.843161</td><td style=\"text-align: right;\"> 0.122835</td><td style=\"text-align: right;\">0.208295</td><td style=\"text-align: right;\">              0.362702</td><td style=\"text-align: right;\">0.175839</td><td style=\"text-align: right;\">0.0309194</td></tr>\n",
              "<tr><td>GBM_grid__1_AutoML_20210505_024310_model_2         </td><td style=\"text-align: right;\">0.840551</td><td style=\"text-align: right;\"> 0.124513</td><td style=\"text-align: right;\">0.202748</td><td style=\"text-align: right;\">              0.327625</td><td style=\"text-align: right;\">0.176784</td><td style=\"text-align: right;\">0.0312525</td></tr>\n",
              "<tr><td>GBM_1_AutoML_20210505_024310                       </td><td style=\"text-align: right;\">0.840535</td><td style=\"text-align: right;\"> 0.126248</td><td style=\"text-align: right;\">0.188024</td><td style=\"text-align: right;\">              0.320055</td><td style=\"text-align: right;\">0.178511</td><td style=\"text-align: right;\">0.0318662</td></tr>\n",
              "<tr><td>XGBoost_2_AutoML_20210505_024310                   </td><td style=\"text-align: right;\">0.839416</td><td style=\"text-align: right;\"> 0.1247  </td><td style=\"text-align: right;\">0.197794</td><td style=\"text-align: right;\">              0.330836</td><td style=\"text-align: right;\">0.177566</td><td style=\"text-align: right;\">0.0315297</td></tr>\n",
              "<tr><td>XGBoost_grid__1_AutoML_20210505_024310_model_6     </td><td style=\"text-align: right;\">0.835447</td><td style=\"text-align: right;\"> 0.125231</td><td style=\"text-align: right;\">0.202592</td><td style=\"text-align: right;\">              0.362008</td><td style=\"text-align: right;\">0.17693 </td><td style=\"text-align: right;\">0.0313041</td></tr>\n",
              "<tr><td>GBM_2_AutoML_20210505_024310                       </td><td style=\"text-align: right;\">0.835396</td><td style=\"text-align: right;\"> 0.127104</td><td style=\"text-align: right;\">0.186971</td><td style=\"text-align: right;\">              0.361486</td><td style=\"text-align: right;\">0.17828 </td><td style=\"text-align: right;\">0.0317838</td></tr>\n",
              "<tr><td>XGBoost_grid__1_AutoML_20210505_024310_model_4     </td><td style=\"text-align: right;\">0.834553</td><td style=\"text-align: right;\"> 0.12701 </td><td style=\"text-align: right;\">0.193984</td><td style=\"text-align: right;\">              0.319614</td><td style=\"text-align: right;\">0.177602</td><td style=\"text-align: right;\">0.0315426</td></tr>\n",
              "<tr><td>GBM_5_AutoML_20210505_024310                       </td><td style=\"text-align: right;\">0.834457</td><td style=\"text-align: right;\"> 0.12542 </td><td style=\"text-align: right;\">0.193386</td><td style=\"text-align: right;\">              0.343697</td><td style=\"text-align: right;\">0.177002</td><td style=\"text-align: right;\">0.0313297</td></tr>\n",
              "<tr><td>XGBoost_grid__1_AutoML_20210505_024310_model_1     </td><td style=\"text-align: right;\">0.834412</td><td style=\"text-align: right;\"> 0.127042</td><td style=\"text-align: right;\">0.191635</td><td style=\"text-align: right;\">              0.326186</td><td style=\"text-align: right;\">0.177922</td><td style=\"text-align: right;\">0.0316562</td></tr>\n",
              "<tr><td>GBM_grid__1_AutoML_20210505_024310_model_1         </td><td style=\"text-align: right;\">0.830048</td><td style=\"text-align: right;\"> 0.133585</td><td style=\"text-align: right;\">0.18207 </td><td style=\"text-align: right;\">              0.332559</td><td style=\"text-align: right;\">0.179754</td><td style=\"text-align: right;\">0.0323114</td></tr>\n",
              "<tr><td>GBM_3_AutoML_20210505_024310                       </td><td style=\"text-align: right;\">0.830025</td><td style=\"text-align: right;\"> 0.129083</td><td style=\"text-align: right;\">0.187055</td><td style=\"text-align: right;\">              0.349746</td><td style=\"text-align: right;\">0.178594</td><td style=\"text-align: right;\">0.0318958</td></tr>\n",
              "<tr><td>XGBoost_grid__1_AutoML_20210505_024310_model_3     </td><td style=\"text-align: right;\">0.829555</td><td style=\"text-align: right;\"> 0.128676</td><td style=\"text-align: right;\">0.186062</td><td style=\"text-align: right;\">              0.366974</td><td style=\"text-align: right;\">0.178804</td><td style=\"text-align: right;\">0.0319707</td></tr>\n",
              "<tr><td>DeepLearning_1_AutoML_20210505_024310              </td><td style=\"text-align: right;\">0.828009</td><td style=\"text-align: right;\"> 0.128596</td><td style=\"text-align: right;\">0.17998 </td><td style=\"text-align: right;\">              0.35007 </td><td style=\"text-align: right;\">0.177333</td><td style=\"text-align: right;\">0.031447 </td></tr>\n",
              "<tr><td>XGBoost_grid__1_AutoML_20210505_024310_model_5     </td><td style=\"text-align: right;\">0.826578</td><td style=\"text-align: right;\"> 0.133698</td><td style=\"text-align: right;\">0.188191</td><td style=\"text-align: right;\">              0.343449</td><td style=\"text-align: right;\">0.178883</td><td style=\"text-align: right;\">0.0319992</td></tr>\n",
              "<tr><td>DeepLearning_grid__1_AutoML_20210505_024310_model_1</td><td style=\"text-align: right;\">0.821204</td><td style=\"text-align: right;\"> 0.145476</td><td style=\"text-align: right;\">0.179399</td><td style=\"text-align: right;\">              0.343953</td><td style=\"text-align: right;\">0.179658</td><td style=\"text-align: right;\">0.032277 </td></tr>\n",
              "<tr><td>DeepLearning_grid__2_AutoML_20210505_024310_model_1</td><td style=\"text-align: right;\">0.820842</td><td style=\"text-align: right;\"> 0.198242</td><td style=\"text-align: right;\">0.153095</td><td style=\"text-align: right;\">              0.357956</td><td style=\"text-align: right;\">0.185665</td><td style=\"text-align: right;\">0.0344714</td></tr>\n",
              "<tr><td>GBM_4_AutoML_20210505_024310                       </td><td style=\"text-align: right;\">0.81831 </td><td style=\"text-align: right;\"> 0.13298 </td><td style=\"text-align: right;\">0.180429</td><td style=\"text-align: right;\">              0.33849 </td><td style=\"text-align: right;\">0.179448</td><td style=\"text-align: right;\">0.0322014</td></tr>\n",
              "<tr><td>XGBoost_1_AutoML_20210505_024310                   </td><td style=\"text-align: right;\">0.812443</td><td style=\"text-align: right;\"> 0.128375</td><td style=\"text-align: right;\">0.185174</td><td style=\"text-align: right;\">              0.324962</td><td style=\"text-align: right;\">0.177682</td><td style=\"text-align: right;\">0.0315709</td></tr>\n",
              "<tr><td>XGBoost_grid__1_AutoML_20210505_024310_model_2     </td><td style=\"text-align: right;\">0.811914</td><td style=\"text-align: right;\"> 0.138586</td><td style=\"text-align: right;\">0.174311</td><td style=\"text-align: right;\">              0.357617</td><td style=\"text-align: right;\">0.181362</td><td style=\"text-align: right;\">0.0328923</td></tr>\n",
              "<tr><td>GBM_grid__1_AutoML_20210505_024310_model_4         </td><td style=\"text-align: right;\">0.808161</td><td style=\"text-align: right;\"> 0.144255</td><td style=\"text-align: right;\">0.167369</td><td style=\"text-align: right;\">              0.369393</td><td style=\"text-align: right;\">0.182611</td><td style=\"text-align: right;\">0.0333467</td></tr>\n",
              "<tr><td>XRT_1_AutoML_20210505_024310                       </td><td style=\"text-align: right;\">0.773542</td><td style=\"text-align: right;\"> 0.167756</td><td style=\"text-align: right;\">0.145557</td><td style=\"text-align: right;\">              0.384153</td><td style=\"text-align: right;\">0.180065</td><td style=\"text-align: right;\">0.0324235</td></tr>\n",
              "<tr><td>DeepLearning_grid__3_AutoML_20210505_024310_model_1</td><td style=\"text-align: right;\">0.770884</td><td style=\"text-align: right;\"> 0.194909</td><td style=\"text-align: right;\">0.102966</td><td style=\"text-align: right;\">              0.384019</td><td style=\"text-align: right;\">0.186094</td><td style=\"text-align: right;\">0.0346311</td></tr>\n",
              "<tr><td>DRF_1_AutoML_20210505_024310                       </td><td style=\"text-align: right;\">0.76743 </td><td style=\"text-align: right;\"> 0.320875</td><td style=\"text-align: right;\">0.173377</td><td style=\"text-align: right;\">              0.367192</td><td style=\"text-align: right;\">0.179159</td><td style=\"text-align: right;\">0.0320979</td></tr>\n",
              "</tbody>\n",
              "</table>"
            ]
          },
          "metadata": {
            "tags": []
          }
        },
        {
          "output_type": "execute_result",
          "data": {
            "text/plain": [
              ""
            ]
          },
          "metadata": {
            "tags": []
          },
          "execution_count": 15
        }
      ]
    },
    {
      "cell_type": "code",
      "metadata": {
        "colab": {
          "base_uri": "https://localhost:8080/",
          "height": 598
        },
        "id": "cpYP2xBmhtNI",
        "outputId": "83c74f7f-cc49-4317-cd86-2ff4a3d1d030"
      },
      "source": [
        "# two more columns for the leaderboars \"training time, and prediction time per row\"\n",
        "lb2 = get_leaderboard(aml, extra_columns = 'ALL')\n",
        "lb2.head(rows = lb2.nrows)"
      ],
      "execution_count": 16,
      "outputs": [
        {
          "output_type": "display_data",
          "data": {
            "text/html": [
              "<table>\n",
              "<thead>\n",
              "<tr><th>model_id                                           </th><th style=\"text-align: right;\">     auc</th><th style=\"text-align: right;\">  logloss</th><th style=\"text-align: right;\">   aucpr</th><th style=\"text-align: right;\">  mean_per_class_error</th><th style=\"text-align: right;\">    rmse</th><th style=\"text-align: right;\">      mse</th><th style=\"text-align: right;\">  training_time_ms</th><th style=\"text-align: right;\">  predict_time_per_row_ms</th><th>algo           </th></tr>\n",
              "</thead>\n",
              "<tbody>\n",
              "<tr><td>StackedEnsemble_AllModels_AutoML_20210505_024310   </td><td style=\"text-align: right;\">0.859952</td><td style=\"text-align: right;\"> 0.118266</td><td style=\"text-align: right;\">0.232781</td><td style=\"text-align: right;\">              0.314899</td><td style=\"text-align: right;\">0.173837</td><td style=\"text-align: right;\">0.0302192</td><td style=\"text-align: right;\">             11039</td><td style=\"text-align: right;\">                 0.227257</td><td>StackedEnsemble</td></tr>\n",
              "<tr><td>StackedEnsemble_BestOfFamily_AutoML_20210505_024310</td><td style=\"text-align: right;\">0.858978</td><td style=\"text-align: right;\"> 0.118501</td><td style=\"text-align: right;\">0.23096 </td><td style=\"text-align: right;\">              0.320765</td><td style=\"text-align: right;\">0.173965</td><td style=\"text-align: right;\">0.0302639</td><td style=\"text-align: right;\">              6387</td><td style=\"text-align: right;\">                 0.051126</td><td>StackedEnsemble</td></tr>\n",
              "<tr><td>GLM_1_AutoML_20210505_024310                       </td><td style=\"text-align: right;\">0.853877</td><td style=\"text-align: right;\"> 0.120899</td><td style=\"text-align: right;\">0.205956</td><td style=\"text-align: right;\">              0.336445</td><td style=\"text-align: right;\">0.175755</td><td style=\"text-align: right;\">0.0308898</td><td style=\"text-align: right;\">             12237</td><td style=\"text-align: right;\">                 0.001951</td><td>GLM            </td></tr>\n",
              "<tr><td>XGBoost_3_AutoML_20210505_024310                   </td><td style=\"text-align: right;\">0.849281</td><td style=\"text-align: right;\"> 0.121242</td><td style=\"text-align: right;\">0.216121</td><td style=\"text-align: right;\">              0.35151 </td><td style=\"text-align: right;\">0.175255</td><td style=\"text-align: right;\">0.0307143</td><td style=\"text-align: right;\">              2833</td><td style=\"text-align: right;\">                 0.003123</td><td>XGBoost        </td></tr>\n",
              "<tr><td>GBM_grid__1_AutoML_20210505_024310_model_3         </td><td style=\"text-align: right;\">0.843161</td><td style=\"text-align: right;\"> 0.122835</td><td style=\"text-align: right;\">0.208295</td><td style=\"text-align: right;\">              0.362702</td><td style=\"text-align: right;\">0.175839</td><td style=\"text-align: right;\">0.0309194</td><td style=\"text-align: right;\">              4602</td><td style=\"text-align: right;\">                 0.022199</td><td>GBM            </td></tr>\n",
              "<tr><td>GBM_grid__1_AutoML_20210505_024310_model_2         </td><td style=\"text-align: right;\">0.840551</td><td style=\"text-align: right;\"> 0.124513</td><td style=\"text-align: right;\">0.202748</td><td style=\"text-align: right;\">              0.327625</td><td style=\"text-align: right;\">0.176784</td><td style=\"text-align: right;\">0.0312525</td><td style=\"text-align: right;\">              5940</td><td style=\"text-align: right;\">                 0.02834 </td><td>GBM            </td></tr>\n",
              "<tr><td>GBM_1_AutoML_20210505_024310                       </td><td style=\"text-align: right;\">0.840535</td><td style=\"text-align: right;\"> 0.126248</td><td style=\"text-align: right;\">0.188024</td><td style=\"text-align: right;\">              0.320055</td><td style=\"text-align: right;\">0.178511</td><td style=\"text-align: right;\">0.0318662</td><td style=\"text-align: right;\">              2573</td><td style=\"text-align: right;\">                 0.018777</td><td>GBM            </td></tr>\n",
              "<tr><td>XGBoost_2_AutoML_20210505_024310                   </td><td style=\"text-align: right;\">0.839416</td><td style=\"text-align: right;\"> 0.1247  </td><td style=\"text-align: right;\">0.197794</td><td style=\"text-align: right;\">              0.330836</td><td style=\"text-align: right;\">0.177566</td><td style=\"text-align: right;\">0.0315297</td><td style=\"text-align: right;\">              3806</td><td style=\"text-align: right;\">                 0.007097</td><td>XGBoost        </td></tr>\n",
              "<tr><td>XGBoost_grid__1_AutoML_20210505_024310_model_6     </td><td style=\"text-align: right;\">0.835447</td><td style=\"text-align: right;\"> 0.125231</td><td style=\"text-align: right;\">0.202592</td><td style=\"text-align: right;\">              0.362008</td><td style=\"text-align: right;\">0.17693 </td><td style=\"text-align: right;\">0.0313041</td><td style=\"text-align: right;\">              4401</td><td style=\"text-align: right;\">                 0.009896</td><td>XGBoost        </td></tr>\n",
              "<tr><td>GBM_2_AutoML_20210505_024310                       </td><td style=\"text-align: right;\">0.835396</td><td style=\"text-align: right;\"> 0.127104</td><td style=\"text-align: right;\">0.186971</td><td style=\"text-align: right;\">              0.361486</td><td style=\"text-align: right;\">0.17828 </td><td style=\"text-align: right;\">0.0317838</td><td style=\"text-align: right;\">              2790</td><td style=\"text-align: right;\">                 0.021906</td><td>GBM            </td></tr>\n",
              "<tr><td>XGBoost_grid__1_AutoML_20210505_024310_model_4     </td><td style=\"text-align: right;\">0.834553</td><td style=\"text-align: right;\"> 0.12701 </td><td style=\"text-align: right;\">0.193984</td><td style=\"text-align: right;\">              0.319614</td><td style=\"text-align: right;\">0.177602</td><td style=\"text-align: right;\">0.0315426</td><td style=\"text-align: right;\">              4161</td><td style=\"text-align: right;\">                 0.008434</td><td>XGBoost        </td></tr>\n",
              "<tr><td>GBM_5_AutoML_20210505_024310                       </td><td style=\"text-align: right;\">0.834457</td><td style=\"text-align: right;\"> 0.12542 </td><td style=\"text-align: right;\">0.193386</td><td style=\"text-align: right;\">              0.343697</td><td style=\"text-align: right;\">0.177002</td><td style=\"text-align: right;\">0.0313297</td><td style=\"text-align: right;\">              3574</td><td style=\"text-align: right;\">                 0.012022</td><td>GBM            </td></tr>\n",
              "<tr><td>XGBoost_grid__1_AutoML_20210505_024310_model_1     </td><td style=\"text-align: right;\">0.834412</td><td style=\"text-align: right;\"> 0.127042</td><td style=\"text-align: right;\">0.191635</td><td style=\"text-align: right;\">              0.326186</td><td style=\"text-align: right;\">0.177922</td><td style=\"text-align: right;\">0.0316562</td><td style=\"text-align: right;\">              4025</td><td style=\"text-align: right;\">                 0.004956</td><td>XGBoost        </td></tr>\n",
              "<tr><td>GBM_grid__1_AutoML_20210505_024310_model_1         </td><td style=\"text-align: right;\">0.830048</td><td style=\"text-align: right;\"> 0.133585</td><td style=\"text-align: right;\">0.18207 </td><td style=\"text-align: right;\">              0.332559</td><td style=\"text-align: right;\">0.179754</td><td style=\"text-align: right;\">0.0323114</td><td style=\"text-align: right;\">              3240</td><td style=\"text-align: right;\">                 0.014562</td><td>GBM            </td></tr>\n",
              "<tr><td>GBM_3_AutoML_20210505_024310                       </td><td style=\"text-align: right;\">0.830025</td><td style=\"text-align: right;\"> 0.129083</td><td style=\"text-align: right;\">0.187055</td><td style=\"text-align: right;\">              0.349746</td><td style=\"text-align: right;\">0.178594</td><td style=\"text-align: right;\">0.0318958</td><td style=\"text-align: right;\">              3175</td><td style=\"text-align: right;\">                 0.012526</td><td>GBM            </td></tr>\n",
              "<tr><td>XGBoost_grid__1_AutoML_20210505_024310_model_3     </td><td style=\"text-align: right;\">0.829555</td><td style=\"text-align: right;\"> 0.128676</td><td style=\"text-align: right;\">0.186062</td><td style=\"text-align: right;\">              0.366974</td><td style=\"text-align: right;\">0.178804</td><td style=\"text-align: right;\">0.0319707</td><td style=\"text-align: right;\">              7780</td><td style=\"text-align: right;\">                 0.005564</td><td>XGBoost        </td></tr>\n",
              "<tr><td>DeepLearning_1_AutoML_20210505_024310              </td><td style=\"text-align: right;\">0.828009</td><td style=\"text-align: right;\"> 0.128596</td><td style=\"text-align: right;\">0.17998 </td><td style=\"text-align: right;\">              0.35007 </td><td style=\"text-align: right;\">0.177333</td><td style=\"text-align: right;\">0.031447 </td><td style=\"text-align: right;\">               622</td><td style=\"text-align: right;\">                 0.006907</td><td>DeepLearning   </td></tr>\n",
              "<tr><td>XGBoost_grid__1_AutoML_20210505_024310_model_5     </td><td style=\"text-align: right;\">0.826578</td><td style=\"text-align: right;\"> 0.133698</td><td style=\"text-align: right;\">0.188191</td><td style=\"text-align: right;\">              0.343449</td><td style=\"text-align: right;\">0.178883</td><td style=\"text-align: right;\">0.0319992</td><td style=\"text-align: right;\">              5978</td><td style=\"text-align: right;\">                 0.00783 </td><td>XGBoost        </td></tr>\n",
              "<tr><td>DeepLearning_grid__1_AutoML_20210505_024310_model_1</td><td style=\"text-align: right;\">0.821204</td><td style=\"text-align: right;\"> 0.145476</td><td style=\"text-align: right;\">0.179399</td><td style=\"text-align: right;\">              0.343953</td><td style=\"text-align: right;\">0.179658</td><td style=\"text-align: right;\">0.032277 </td><td style=\"text-align: right;\">              9396</td><td style=\"text-align: right;\">                 0.020232</td><td>DeepLearning   </td></tr>\n",
              "<tr><td>DeepLearning_grid__2_AutoML_20210505_024310_model_1</td><td style=\"text-align: right;\">0.820842</td><td style=\"text-align: right;\"> 0.198242</td><td style=\"text-align: right;\">0.153095</td><td style=\"text-align: right;\">              0.357956</td><td style=\"text-align: right;\">0.185665</td><td style=\"text-align: right;\">0.0344714</td><td style=\"text-align: right;\">             10421</td><td style=\"text-align: right;\">                 0.031118</td><td>DeepLearning   </td></tr>\n",
              "<tr><td>GBM_4_AutoML_20210505_024310                       </td><td style=\"text-align: right;\">0.81831 </td><td style=\"text-align: right;\"> 0.13298 </td><td style=\"text-align: right;\">0.180429</td><td style=\"text-align: right;\">              0.33849 </td><td style=\"text-align: right;\">0.179448</td><td style=\"text-align: right;\">0.0322014</td><td style=\"text-align: right;\">              3261</td><td style=\"text-align: right;\">                 0.012106</td><td>GBM            </td></tr>\n",
              "<tr><td>XGBoost_1_AutoML_20210505_024310                   </td><td style=\"text-align: right;\">0.812443</td><td style=\"text-align: right;\"> 0.128375</td><td style=\"text-align: right;\">0.185174</td><td style=\"text-align: right;\">              0.324962</td><td style=\"text-align: right;\">0.177682</td><td style=\"text-align: right;\">0.0315709</td><td style=\"text-align: right;\">              3343</td><td style=\"text-align: right;\">                 0.003028</td><td>XGBoost        </td></tr>\n",
              "<tr><td>XGBoost_grid__1_AutoML_20210505_024310_model_2     </td><td style=\"text-align: right;\">0.811914</td><td style=\"text-align: right;\"> 0.138586</td><td style=\"text-align: right;\">0.174311</td><td style=\"text-align: right;\">              0.357617</td><td style=\"text-align: right;\">0.181362</td><td style=\"text-align: right;\">0.0328923</td><td style=\"text-align: right;\">              6184</td><td style=\"text-align: right;\">                 0.005862</td><td>XGBoost        </td></tr>\n",
              "<tr><td>GBM_grid__1_AutoML_20210505_024310_model_4         </td><td style=\"text-align: right;\">0.808161</td><td style=\"text-align: right;\"> 0.144255</td><td style=\"text-align: right;\">0.167369</td><td style=\"text-align: right;\">              0.369393</td><td style=\"text-align: right;\">0.182611</td><td style=\"text-align: right;\">0.0333467</td><td style=\"text-align: right;\">              5212</td><td style=\"text-align: right;\">                 0.016823</td><td>GBM            </td></tr>\n",
              "<tr><td>XRT_1_AutoML_20210505_024310                       </td><td style=\"text-align: right;\">0.773542</td><td style=\"text-align: right;\"> 0.167756</td><td style=\"text-align: right;\">0.145557</td><td style=\"text-align: right;\">              0.384153</td><td style=\"text-align: right;\">0.180065</td><td style=\"text-align: right;\">0.0324235</td><td style=\"text-align: right;\">              3606</td><td style=\"text-align: right;\">                 0.011978</td><td>DRF            </td></tr>\n",
              "<tr><td>DeepLearning_grid__3_AutoML_20210505_024310_model_1</td><td style=\"text-align: right;\">0.770884</td><td style=\"text-align: right;\"> 0.194909</td><td style=\"text-align: right;\">0.102966</td><td style=\"text-align: right;\">              0.384019</td><td style=\"text-align: right;\">0.186094</td><td style=\"text-align: right;\">0.0346311</td><td style=\"text-align: right;\">             10862</td><td style=\"text-align: right;\">                 0.048113</td><td>DeepLearning   </td></tr>\n",
              "<tr><td>DRF_1_AutoML_20210505_024310                       </td><td style=\"text-align: right;\">0.76743 </td><td style=\"text-align: right;\"> 0.320875</td><td style=\"text-align: right;\">0.173377</td><td style=\"text-align: right;\">              0.367192</td><td style=\"text-align: right;\">0.179159</td><td style=\"text-align: right;\">0.0320979</td><td style=\"text-align: right;\">              3783</td><td style=\"text-align: right;\">                 0.010508</td><td>DRF            </td></tr>\n",
              "</tbody>\n",
              "</table>"
            ]
          },
          "metadata": {
            "tags": []
          }
        },
        {
          "output_type": "execute_result",
          "data": {
            "text/plain": [
              ""
            ]
          },
          "metadata": {
            "tags": []
          },
          "execution_count": 16
        }
      ]
    },
    {
      "cell_type": "code",
      "metadata": {
        "colab": {
          "base_uri": "https://localhost:8080/",
          "height": 1000
        },
        "id": "ib2SCZPYh7H_",
        "outputId": "821be28c-ca48-4894-83c4-d834aebacfa0"
      },
      "source": [
        "# Checking the best model performance\n",
        "aml.leader.model_performance(test_data=test)"
      ],
      "execution_count": 17,
      "outputs": [
        {
          "output_type": "stream",
          "text": [
            "\n",
            "ModelMetricsBinomialGLM: stackedensemble\n",
            "** Reported on test data. **\n",
            "\n",
            "MSE: 0.034225247167364276\n",
            "RMSE: 0.18500066801869736\n",
            "LogLoss: 0.13592307893685643\n",
            "Null degrees of freedom: 9945\n",
            "Residual degrees of freedom: 9927\n",
            "Null deviance: 3327.7962854656025\n",
            "Residual deviance: 2703.7818862119484\n",
            "AIC: 2741.7818862119484\n",
            "AUC: 0.8277612921438406\n",
            "AUCPR: 0.2206564110895138\n",
            "Gini: 0.6555225842876813\n",
            "\n",
            "Confusion Matrix (Act/Pred) for max f1 @ threshold = 0.19781012755456528: \n"
          ],
          "name": "stdout"
        },
        {
          "output_type": "display_data",
          "data": {
            "text/html": [
              "<div>\n",
              "<style scoped>\n",
              "    .dataframe tbody tr th:only-of-type {\n",
              "        vertical-align: middle;\n",
              "    }\n",
              "\n",
              "    .dataframe tbody tr th {\n",
              "        vertical-align: top;\n",
              "    }\n",
              "\n",
              "    .dataframe thead th {\n",
              "        text-align: right;\n",
              "    }\n",
              "</style>\n",
              "<table border=\"1\" class=\"dataframe\">\n",
              "  <thead>\n",
              "    <tr style=\"text-align: right;\">\n",
              "      <th></th>\n",
              "      <th></th>\n",
              "      <th>FALSE</th>\n",
              "      <th>TRUE</th>\n",
              "      <th>Error</th>\n",
              "      <th>Rate</th>\n",
              "    </tr>\n",
              "  </thead>\n",
              "  <tbody>\n",
              "    <tr>\n",
              "      <th>0</th>\n",
              "      <td>FALSE</td>\n",
              "      <td>9286.0</td>\n",
              "      <td>265.0</td>\n",
              "      <td>0.0277</td>\n",
              "      <td>(265.0/9551.0)</td>\n",
              "    </tr>\n",
              "    <tr>\n",
              "      <th>1</th>\n",
              "      <td>TRUE</td>\n",
              "      <td>279.0</td>\n",
              "      <td>116.0</td>\n",
              "      <td>0.7063</td>\n",
              "      <td>(279.0/395.0)</td>\n",
              "    </tr>\n",
              "    <tr>\n",
              "      <th>2</th>\n",
              "      <td>Total</td>\n",
              "      <td>9565.0</td>\n",
              "      <td>381.0</td>\n",
              "      <td>0.0547</td>\n",
              "      <td>(544.0/9946.0)</td>\n",
              "    </tr>\n",
              "  </tbody>\n",
              "</table>\n",
              "</div>"
            ],
            "text/plain": [
              "           FALSE   TRUE   Error             Rate\n",
              "0  FALSE  9286.0  265.0  0.0277   (265.0/9551.0)\n",
              "1   TRUE   279.0  116.0  0.7063    (279.0/395.0)\n",
              "2  Total  9565.0  381.0  0.0547   (544.0/9946.0)"
            ]
          },
          "metadata": {
            "tags": []
          }
        },
        {
          "output_type": "stream",
          "text": [
            "\n",
            "Maximum Metrics: Maximum metrics at their respective thresholds\n"
          ],
          "name": "stdout"
        },
        {
          "output_type": "display_data",
          "data": {
            "text/html": [
              "<div>\n",
              "<style scoped>\n",
              "    .dataframe tbody tr th:only-of-type {\n",
              "        vertical-align: middle;\n",
              "    }\n",
              "\n",
              "    .dataframe tbody tr th {\n",
              "        vertical-align: top;\n",
              "    }\n",
              "\n",
              "    .dataframe thead th {\n",
              "        text-align: right;\n",
              "    }\n",
              "</style>\n",
              "<table border=\"1\" class=\"dataframe\">\n",
              "  <thead>\n",
              "    <tr style=\"text-align: right;\">\n",
              "      <th></th>\n",
              "      <th>metric</th>\n",
              "      <th>threshold</th>\n",
              "      <th>value</th>\n",
              "      <th>idx</th>\n",
              "    </tr>\n",
              "  </thead>\n",
              "  <tbody>\n",
              "    <tr>\n",
              "      <th>0</th>\n",
              "      <td>max f1</td>\n",
              "      <td>0.197810</td>\n",
              "      <td>0.298969</td>\n",
              "      <td>143.0</td>\n",
              "    </tr>\n",
              "    <tr>\n",
              "      <th>1</th>\n",
              "      <td>max f2</td>\n",
              "      <td>0.057982</td>\n",
              "      <td>0.382820</td>\n",
              "      <td>264.0</td>\n",
              "    </tr>\n",
              "    <tr>\n",
              "      <th>2</th>\n",
              "      <td>max f0point5</td>\n",
              "      <td>0.271705</td>\n",
              "      <td>0.322976</td>\n",
              "      <td>101.0</td>\n",
              "    </tr>\n",
              "    <tr>\n",
              "      <th>3</th>\n",
              "      <td>max accuracy</td>\n",
              "      <td>0.493444</td>\n",
              "      <td>0.960688</td>\n",
              "      <td>31.0</td>\n",
              "    </tr>\n",
              "    <tr>\n",
              "      <th>4</th>\n",
              "      <td>max precision</td>\n",
              "      <td>0.782841</td>\n",
              "      <td>0.666667</td>\n",
              "      <td>2.0</td>\n",
              "    </tr>\n",
              "    <tr>\n",
              "      <th>5</th>\n",
              "      <td>max recall</td>\n",
              "      <td>0.001650</td>\n",
              "      <td>1.000000</td>\n",
              "      <td>395.0</td>\n",
              "    </tr>\n",
              "    <tr>\n",
              "      <th>6</th>\n",
              "      <td>max specificity</td>\n",
              "      <td>0.815242</td>\n",
              "      <td>0.999895</td>\n",
              "      <td>0.0</td>\n",
              "    </tr>\n",
              "    <tr>\n",
              "      <th>7</th>\n",
              "      <td>max absolute_mcc</td>\n",
              "      <td>0.206106</td>\n",
              "      <td>0.270733</td>\n",
              "      <td>138.0</td>\n",
              "    </tr>\n",
              "    <tr>\n",
              "      <th>8</th>\n",
              "      <td>max min_per_class_accuracy</td>\n",
              "      <td>0.034024</td>\n",
              "      <td>0.760235</td>\n",
              "      <td>304.0</td>\n",
              "    </tr>\n",
              "    <tr>\n",
              "      <th>9</th>\n",
              "      <td>max mean_per_class_accuracy</td>\n",
              "      <td>0.034024</td>\n",
              "      <td>0.761130</td>\n",
              "      <td>304.0</td>\n",
              "    </tr>\n",
              "    <tr>\n",
              "      <th>10</th>\n",
              "      <td>max tns</td>\n",
              "      <td>0.815242</td>\n",
              "      <td>9550.000000</td>\n",
              "      <td>0.0</td>\n",
              "    </tr>\n",
              "    <tr>\n",
              "      <th>11</th>\n",
              "      <td>max fns</td>\n",
              "      <td>0.815242</td>\n",
              "      <td>395.000000</td>\n",
              "      <td>0.0</td>\n",
              "    </tr>\n",
              "    <tr>\n",
              "      <th>12</th>\n",
              "      <td>max fps</td>\n",
              "      <td>0.000675</td>\n",
              "      <td>9551.000000</td>\n",
              "      <td>399.0</td>\n",
              "    </tr>\n",
              "    <tr>\n",
              "      <th>13</th>\n",
              "      <td>max tps</td>\n",
              "      <td>0.001650</td>\n",
              "      <td>395.000000</td>\n",
              "      <td>395.0</td>\n",
              "    </tr>\n",
              "    <tr>\n",
              "      <th>14</th>\n",
              "      <td>max tnr</td>\n",
              "      <td>0.815242</td>\n",
              "      <td>0.999895</td>\n",
              "      <td>0.0</td>\n",
              "    </tr>\n",
              "    <tr>\n",
              "      <th>15</th>\n",
              "      <td>max fnr</td>\n",
              "      <td>0.815242</td>\n",
              "      <td>1.000000</td>\n",
              "      <td>0.0</td>\n",
              "    </tr>\n",
              "    <tr>\n",
              "      <th>16</th>\n",
              "      <td>max fpr</td>\n",
              "      <td>0.000675</td>\n",
              "      <td>1.000000</td>\n",
              "      <td>399.0</td>\n",
              "    </tr>\n",
              "    <tr>\n",
              "      <th>17</th>\n",
              "      <td>max tpr</td>\n",
              "      <td>0.001650</td>\n",
              "      <td>1.000000</td>\n",
              "      <td>395.0</td>\n",
              "    </tr>\n",
              "  </tbody>\n",
              "</table>\n",
              "</div>"
            ],
            "text/plain": [
              "                         metric  threshold        value    idx\n",
              "0                        max f1   0.197810     0.298969  143.0\n",
              "1                        max f2   0.057982     0.382820  264.0\n",
              "2                  max f0point5   0.271705     0.322976  101.0\n",
              "3                  max accuracy   0.493444     0.960688   31.0\n",
              "4                 max precision   0.782841     0.666667    2.0\n",
              "5                    max recall   0.001650     1.000000  395.0\n",
              "6               max specificity   0.815242     0.999895    0.0\n",
              "7              max absolute_mcc   0.206106     0.270733  138.0\n",
              "8    max min_per_class_accuracy   0.034024     0.760235  304.0\n",
              "9   max mean_per_class_accuracy   0.034024     0.761130  304.0\n",
              "10                      max tns   0.815242  9550.000000    0.0\n",
              "11                      max fns   0.815242   395.000000    0.0\n",
              "12                      max fps   0.000675  9551.000000  399.0\n",
              "13                      max tps   0.001650   395.000000  395.0\n",
              "14                      max tnr   0.815242     0.999895    0.0\n",
              "15                      max fnr   0.815242     1.000000    0.0\n",
              "16                      max fpr   0.000675     1.000000  399.0\n",
              "17                      max tpr   0.001650     1.000000  395.0"
            ]
          },
          "metadata": {
            "tags": []
          }
        },
        {
          "output_type": "stream",
          "text": [
            "\n",
            "Gains/Lift Table: Avg response rate:  3.97 %, avg score:  3.70 %\n"
          ],
          "name": "stdout"
        },
        {
          "output_type": "display_data",
          "data": {
            "text/html": [
              "<div>\n",
              "<style scoped>\n",
              "    .dataframe tbody tr th:only-of-type {\n",
              "        vertical-align: middle;\n",
              "    }\n",
              "\n",
              "    .dataframe tbody tr th {\n",
              "        vertical-align: top;\n",
              "    }\n",
              "\n",
              "    .dataframe thead th {\n",
              "        text-align: right;\n",
              "    }\n",
              "</style>\n",
              "<table border=\"1\" class=\"dataframe\">\n",
              "  <thead>\n",
              "    <tr style=\"text-align: right;\">\n",
              "      <th></th>\n",
              "      <th>group</th>\n",
              "      <th>cumulative_data_fraction</th>\n",
              "      <th>lower_threshold</th>\n",
              "      <th>lift</th>\n",
              "      <th>cumulative_lift</th>\n",
              "      <th>response_rate</th>\n",
              "      <th>score</th>\n",
              "      <th>cumulative_response_rate</th>\n",
              "      <th>cumulative_score</th>\n",
              "      <th>capture_rate</th>\n",
              "      <th>cumulative_capture_rate</th>\n",
              "      <th>gain</th>\n",
              "      <th>cumulative_gain</th>\n",
              "      <th>kolmogorov_smirnov</th>\n",
              "    </tr>\n",
              "  </thead>\n",
              "  <tbody>\n",
              "    <tr>\n",
              "      <th>0</th>\n",
              "      <td>1</td>\n",
              "      <td>0.010054</td>\n",
              "      <td>0.375601</td>\n",
              "      <td>10.575494</td>\n",
              "      <td>10.575494</td>\n",
              "      <td>0.420000</td>\n",
              "      <td>0.495784</td>\n",
              "      <td>0.420000</td>\n",
              "      <td>0.495784</td>\n",
              "      <td>0.106329</td>\n",
              "      <td>0.106329</td>\n",
              "      <td>957.549367</td>\n",
              "      <td>957.549367</td>\n",
              "      <td>0.100256</td>\n",
              "    </tr>\n",
              "    <tr>\n",
              "      <th>1</th>\n",
              "      <td>2</td>\n",
              "      <td>0.020008</td>\n",
              "      <td>0.275395</td>\n",
              "      <td>8.393249</td>\n",
              "      <td>9.489854</td>\n",
              "      <td>0.333333</td>\n",
              "      <td>0.322138</td>\n",
              "      <td>0.376884</td>\n",
              "      <td>0.409397</td>\n",
              "      <td>0.083544</td>\n",
              "      <td>0.189873</td>\n",
              "      <td>739.324895</td>\n",
              "      <td>848.985433</td>\n",
              "      <td>0.176890</td>\n",
              "    </tr>\n",
              "    <tr>\n",
              "      <th>2</th>\n",
              "      <td>3</td>\n",
              "      <td>0.030062</td>\n",
              "      <td>0.223112</td>\n",
              "      <td>5.791342</td>\n",
              "      <td>8.252894</td>\n",
              "      <td>0.230000</td>\n",
              "      <td>0.245588</td>\n",
              "      <td>0.327759</td>\n",
              "      <td>0.354612</td>\n",
              "      <td>0.058228</td>\n",
              "      <td>0.248101</td>\n",
              "      <td>479.134177</td>\n",
              "      <td>725.289361</td>\n",
              "      <td>0.227056</td>\n",
              "    </tr>\n",
              "    <tr>\n",
              "      <th>3</th>\n",
              "      <td>4</td>\n",
              "      <td>0.040016</td>\n",
              "      <td>0.187385</td>\n",
              "      <td>4.832477</td>\n",
              "      <td>7.402086</td>\n",
              "      <td>0.191919</td>\n",
              "      <td>0.207209</td>\n",
              "      <td>0.293970</td>\n",
              "      <td>0.317946</td>\n",
              "      <td>0.048101</td>\n",
              "      <td>0.296203</td>\n",
              "      <td>383.247667</td>\n",
              "      <td>640.208638</td>\n",
              "      <td>0.266782</td>\n",
              "    </tr>\n",
              "    <tr>\n",
              "      <th>4</th>\n",
              "      <td>5</td>\n",
              "      <td>0.050070</td>\n",
              "      <td>0.160266</td>\n",
              "      <td>2.769772</td>\n",
              "      <td>6.471903</td>\n",
              "      <td>0.110000</td>\n",
              "      <td>0.171283</td>\n",
              "      <td>0.257028</td>\n",
              "      <td>0.288496</td>\n",
              "      <td>0.027848</td>\n",
              "      <td>0.324051</td>\n",
              "      <td>176.977215</td>\n",
              "      <td>547.190280</td>\n",
              "      <td>0.285311</td>\n",
              "    </tr>\n",
              "    <tr>\n",
              "      <th>5</th>\n",
              "      <td>6</td>\n",
              "      <td>0.100040</td>\n",
              "      <td>0.091158</td>\n",
              "      <td>2.735828</td>\n",
              "      <td>4.605743</td>\n",
              "      <td>0.108652</td>\n",
              "      <td>0.120335</td>\n",
              "      <td>0.182915</td>\n",
              "      <td>0.204500</td>\n",
              "      <td>0.136709</td>\n",
              "      <td>0.460759</td>\n",
              "      <td>173.582762</td>\n",
              "      <td>360.574264</td>\n",
              "      <td>0.375638</td>\n",
              "    </tr>\n",
              "    <tr>\n",
              "      <th>6</th>\n",
              "      <td>7</td>\n",
              "      <td>0.150010</td>\n",
              "      <td>0.062868</td>\n",
              "      <td>2.583837</td>\n",
              "      <td>3.932226</td>\n",
              "      <td>0.102616</td>\n",
              "      <td>0.075450</td>\n",
              "      <td>0.156166</td>\n",
              "      <td>0.161512</td>\n",
              "      <td>0.129114</td>\n",
              "      <td>0.589873</td>\n",
              "      <td>158.383720</td>\n",
              "      <td>293.222588</td>\n",
              "      <td>0.458055</td>\n",
              "    </tr>\n",
              "    <tr>\n",
              "      <th>7</th>\n",
              "      <td>8</td>\n",
              "      <td>0.200080</td>\n",
              "      <td>0.046619</td>\n",
              "      <td>1.921346</td>\n",
              "      <td>3.429001</td>\n",
              "      <td>0.076305</td>\n",
              "      <td>0.053937</td>\n",
              "      <td>0.136181</td>\n",
              "      <td>0.134591</td>\n",
              "      <td>0.096203</td>\n",
              "      <td>0.686076</td>\n",
              "      <td>92.134614</td>\n",
              "      <td>242.900070</td>\n",
              "      <td>0.506095</td>\n",
              "    </tr>\n",
              "    <tr>\n",
              "      <th>8</th>\n",
              "      <td>9</td>\n",
              "      <td>0.300020</td>\n",
              "      <td>0.027829</td>\n",
              "      <td>0.987938</td>\n",
              "      <td>2.615858</td>\n",
              "      <td>0.039235</td>\n",
              "      <td>0.036063</td>\n",
              "      <td>0.103887</td>\n",
              "      <td>0.101771</td>\n",
              "      <td>0.098734</td>\n",
              "      <td>0.784810</td>\n",
              "      <td>-1.206225</td>\n",
              "      <td>161.585842</td>\n",
              "      <td>0.504839</td>\n",
              "    </tr>\n",
              "    <tr>\n",
              "      <th>9</th>\n",
              "      <td>10</td>\n",
              "      <td>0.400060</td>\n",
              "      <td>0.018043</td>\n",
              "      <td>0.607351</td>\n",
              "      <td>2.113605</td>\n",
              "      <td>0.024121</td>\n",
              "      <td>0.022489</td>\n",
              "      <td>0.083941</td>\n",
              "      <td>0.081945</td>\n",
              "      <td>0.060759</td>\n",
              "      <td>0.845570</td>\n",
              "      <td>-39.264932</td>\n",
              "      <td>111.360529</td>\n",
              "      <td>0.463934</td>\n",
              "    </tr>\n",
              "    <tr>\n",
              "      <th>10</th>\n",
              "      <td>11</td>\n",
              "      <td>0.500000</td>\n",
              "      <td>0.012370</td>\n",
              "      <td>0.683957</td>\n",
              "      <td>1.827848</td>\n",
              "      <td>0.027163</td>\n",
              "      <td>0.014933</td>\n",
              "      <td>0.072592</td>\n",
              "      <td>0.068551</td>\n",
              "      <td>0.068354</td>\n",
              "      <td>0.913924</td>\n",
              "      <td>-31.604309</td>\n",
              "      <td>82.784810</td>\n",
              "      <td>0.431043</td>\n",
              "    </tr>\n",
              "    <tr>\n",
              "      <th>11</th>\n",
              "      <td>12</td>\n",
              "      <td>0.600040</td>\n",
              "      <td>0.008540</td>\n",
              "      <td>0.177144</td>\n",
              "      <td>1.552639</td>\n",
              "      <td>0.007035</td>\n",
              "      <td>0.010368</td>\n",
              "      <td>0.061662</td>\n",
              "      <td>0.058850</td>\n",
              "      <td>0.017722</td>\n",
              "      <td>0.931646</td>\n",
              "      <td>-82.285605</td>\n",
              "      <td>55.263854</td>\n",
              "      <td>0.345320</td>\n",
              "    </tr>\n",
              "    <tr>\n",
              "      <th>12</th>\n",
              "      <td>13</td>\n",
              "      <td>0.699980</td>\n",
              "      <td>0.005977</td>\n",
              "      <td>0.253317</td>\n",
              "      <td>1.367128</td>\n",
              "      <td>0.010060</td>\n",
              "      <td>0.007185</td>\n",
              "      <td>0.054295</td>\n",
              "      <td>0.051474</td>\n",
              "      <td>0.025316</td>\n",
              "      <td>0.956962</td>\n",
              "      <td>-74.668263</td>\n",
              "      <td>36.712788</td>\n",
              "      <td>0.267610</td>\n",
              "    </tr>\n",
              "    <tr>\n",
              "      <th>13</th>\n",
              "      <td>14</td>\n",
              "      <td>0.800020</td>\n",
              "      <td>0.004046</td>\n",
              "      <td>0.227757</td>\n",
              "      <td>1.224653</td>\n",
              "      <td>0.009045</td>\n",
              "      <td>0.004931</td>\n",
              "      <td>0.048636</td>\n",
              "      <td>0.045654</td>\n",
              "      <td>0.022785</td>\n",
              "      <td>0.979747</td>\n",
              "      <td>-77.224350</td>\n",
              "      <td>22.465276</td>\n",
              "      <td>0.187160</td>\n",
              "    </tr>\n",
              "    <tr>\n",
              "      <th>14</th>\n",
              "      <td>15</td>\n",
              "      <td>0.899960</td>\n",
              "      <td>0.002503</td>\n",
              "      <td>0.177322</td>\n",
              "      <td>1.108348</td>\n",
              "      <td>0.007042</td>\n",
              "      <td>0.003248</td>\n",
              "      <td>0.044017</td>\n",
              "      <td>0.040945</td>\n",
              "      <td>0.017722</td>\n",
              "      <td>0.997468</td>\n",
              "      <td>-82.267784</td>\n",
              "      <td>10.834770</td>\n",
              "      <td>0.101541</td>\n",
              "    </tr>\n",
              "    <tr>\n",
              "      <th>15</th>\n",
              "      <td>16</td>\n",
              "      <td>1.000000</td>\n",
              "      <td>0.000457</td>\n",
              "      <td>0.025306</td>\n",
              "      <td>1.000000</td>\n",
              "      <td>0.001005</td>\n",
              "      <td>0.001738</td>\n",
              "      <td>0.039714</td>\n",
              "      <td>0.037022</td>\n",
              "      <td>0.002532</td>\n",
              "      <td>1.000000</td>\n",
              "      <td>-97.469372</td>\n",
              "      <td>0.000000</td>\n",
              "      <td>0.000000</td>\n",
              "    </tr>\n",
              "  </tbody>\n",
              "</table>\n",
              "</div>"
            ],
            "text/plain": [
              "    group  cumulative_data_fraction  ...  cumulative_gain  kolmogorov_smirnov\n",
              "0       1                  0.010054  ...       957.549367            0.100256\n",
              "1       2                  0.020008  ...       848.985433            0.176890\n",
              "2       3                  0.030062  ...       725.289361            0.227056\n",
              "3       4                  0.040016  ...       640.208638            0.266782\n",
              "4       5                  0.050070  ...       547.190280            0.285311\n",
              "5       6                  0.100040  ...       360.574264            0.375638\n",
              "6       7                  0.150010  ...       293.222588            0.458055\n",
              "7       8                  0.200080  ...       242.900070            0.506095\n",
              "8       9                  0.300020  ...       161.585842            0.504839\n",
              "9      10                  0.400060  ...       111.360529            0.463934\n",
              "10     11                  0.500000  ...        82.784810            0.431043\n",
              "11     12                  0.600040  ...        55.263854            0.345320\n",
              "12     13                  0.699980  ...        36.712788            0.267610\n",
              "13     14                  0.800020  ...        22.465276            0.187160\n",
              "14     15                  0.899960  ...        10.834770            0.101541\n",
              "15     16                  1.000000  ...         0.000000            0.000000\n",
              "\n",
              "[16 rows x 14 columns]"
            ]
          },
          "metadata": {
            "tags": []
          }
        },
        {
          "output_type": "stream",
          "text": [
            "\n"
          ],
          "name": "stdout"
        },
        {
          "output_type": "execute_result",
          "data": {
            "text/plain": [
              ""
            ]
          },
          "metadata": {
            "tags": []
          },
          "execution_count": 17
        }
      ]
    },
    {
      "cell_type": "code",
      "metadata": {
        "colab": {
          "base_uri": "https://localhost:8080/",
          "height": 297
        },
        "id": "iaZubMuSiHpT",
        "outputId": "b3b889c1-1e88-4944-ae0b-5a7677655925"
      },
      "source": [
        "# ROC curve\n",
        "%matplotlib inline\n",
        "aml.leader.model_performance(test_data=test).plot()"
      ],
      "execution_count": 18,
      "outputs": [
        {
          "output_type": "display_data",
          "data": {
            "image/png": "[encoded data removed]",
            "text/plain": [
              "<Figure size 432x288 with 1 Axes>"
            ]
          },
          "metadata": {
            "tags": [],
            "needs_background": "light"
          }
        }
      ]
    },
    {
      "cell_type": "code",
      "metadata": {
        "colab": {
          "base_uri": "https://localhost:8080/",
          "height": 255
        },
        "id": "8Oq_Yg5ZiMHP",
        "outputId": "a2b88b68-919a-4540-b980-ff2b3b2989d5"
      },
      "source": [
        "# Making some predictions\n",
        "aml.predict(test)"
      ],
      "execution_count": 19,
      "outputs": [
        {
          "output_type": "stream",
          "text": [
            "stackedensemble prediction progress: |████████████████████████████████████| 100%\n"
          ],
          "name": "stdout"
        },
        {
          "output_type": "display_data",
          "data": {
            "text/html": [
              "<table>\n",
              "<thead>\n",
              "<tr><th>predict  </th><th style=\"text-align: right;\">   FALSE</th><th style=\"text-align: right;\">      TRUE</th></tr>\n",
              "</thead>\n",
              "<tbody>\n",
              "<tr><td>FALSE    </td><td style=\"text-align: right;\">0.966834</td><td style=\"text-align: right;\">0.0331656 </td></tr>\n",
              "<tr><td>FALSE    </td><td style=\"text-align: right;\">0.987151</td><td style=\"text-align: right;\">0.0128494 </td></tr>\n",
              "<tr><td>FALSE    </td><td style=\"text-align: right;\">0.994973</td><td style=\"text-align: right;\">0.0050271 </td></tr>\n",
              "<tr><td>FALSE    </td><td style=\"text-align: right;\">0.934458</td><td style=\"text-align: right;\">0.065542  </td></tr>\n",
              "<tr><td>FALSE    </td><td style=\"text-align: right;\">0.98394 </td><td style=\"text-align: right;\">0.01606   </td></tr>\n",
              "<tr><td>FALSE    </td><td style=\"text-align: right;\">0.99417 </td><td style=\"text-align: right;\">0.00583011</td></tr>\n",
              "<tr><td>FALSE    </td><td style=\"text-align: right;\">0.996065</td><td style=\"text-align: right;\">0.00393505</td></tr>\n",
              "<tr><td>FALSE    </td><td style=\"text-align: right;\">0.998342</td><td style=\"text-align: right;\">0.00165819</td></tr>\n",
              "<tr><td>FALSE    </td><td style=\"text-align: right;\">0.995566</td><td style=\"text-align: right;\">0.00443386</td></tr>\n",
              "<tr><td>FALSE    </td><td style=\"text-align: right;\">0.993093</td><td style=\"text-align: right;\">0.00690672</td></tr>\n",
              "</tbody>\n",
              "</table>"
            ]
          },
          "metadata": {
            "tags": []
          }
        },
        {
          "output_type": "execute_result",
          "data": {
            "text/plain": [
              ""
            ]
          },
          "metadata": {
            "tags": []
          },
          "execution_count": 19
        }
      ]
    },
    {
      "cell_type": "markdown",
      "metadata": {
        "id": "-ozaT9hmn5fx"
      },
      "source": [
        "As we mentioned in the first tutorial, the predictions we get are based on a probability. In the frame above, we have a probability for FALSE, and another one for TRUE. The prediction, predict, is based on the threshold that maximizes the F1 score. For example, the threshold that maximizes the F1 is about 0.1061, meaning that if the probability of TRUE is greater than the threshold, the predicted label would be TRUE."
      ]
    },
    {
      "cell_type": "markdown",
      "metadata": {
        "id": "fh6iSSavn6nk"
      },
      "source": [
        "### Task 5: H2O AutoML Regression"
      ]
    },
    {
      "cell_type": "markdown",
      "metadata": {
        "id": "-CqBVxa0pRZM"
      },
      "source": [
        "For our regression use-case, we are using the same dataset and the same training and test sets. But we do need to choose our predictors and response columns, and we will do it as follow:"
      ]
    },
    {
      "cell_type": "code",
      "metadata": {
        "id": "0cS4PSyUm_eg"
      },
      "source": [
        "y_reg = \"ORIGINAL_INTEREST_RATE\"\n",
        "\n",
        "ignore_reg = [\"ORIGINAL_INTEREST_RATE\", \n",
        "              \"FIRST_PAYMENT_DATE\", \n",
        "              \"MATURITY_DATE\", \n",
        "              \"MORTGAGE_INSURANCE_PERCENTAGE\", \n",
        "              \"PREPAYMENT_PENALTY_MORTGAGE_FLAG\", \n",
        "              \"LOAN_SEQUENCE_NUMBER\", \n",
        "              \"PREPAID\", \n",
        "              \"DELINQUENT\", \n",
        "              \"PRODUCT_TYPE\"]\n",
        "\n",
        "x_reg = list(set(train.names) - set(ignore_reg))"
      ],
      "execution_count": 20,
      "outputs": []
    },
    {
      "cell_type": "code",
      "metadata": {
        "colab": {
          "base_uri": "https://localhost:8080/"
        },
        "id": "OvmPTGwjpU5S",
        "outputId": "ae216601-feaf-438e-cff6-285549ad991e"
      },
      "source": [
        "# Let's see the variables\n",
        "print(\"y:\", y_reg, \"\\nx:\", x_reg)"
      ],
      "execution_count": 21,
      "outputs": [
        {
          "output_type": "stream",
          "text": [
            "y: ORIGINAL_INTEREST_RATE \n",
            "x: ['CREDIT_SCORE', 'ORIGINAL_DEBT_TO_INCOME_RATIO', 'CHANNEL', 'ORIGINAL_UPB', 'PROPERTY_TYPE', 'ORIGINAL_COMBINED_LOAN_TO_VALUE', 'LOAN_PURPOSE', 'METROPOLITAN_STATISTICAL_AREA', 'POSTAL_CODE', 'ORIGINAL_LOAN_TERM', 'OCCUPANCY_STATUS', 'ORIGINAL_LOAN_TO_VALUE', 'SELLER_NAME', 'NUMBER_OF_BORROWERS', 'SERVICER_NAME', 'FIRST_TIME_HOMEBUYER_FLAG', 'PROPERTY_STATE', 'NUMBER_OF_UNITS']\n"
          ],
          "name": "stdout"
        }
      ]
    },
    {
      "cell_type": "code",
      "metadata": {
        "colab": {
          "base_uri": "https://localhost:8080/"
        },
        "id": "699C6s-ophBw",
        "outputId": "7489c837-5a0d-40db-f241-18f35f1171f0"
      },
      "source": [
        "# Setting max_run_time to 900 seconds or something like 15 minutes\n",
        "aml = H2OAutoML(max_runtime_secs = 900,\n",
        "                seed = 42,\n",
        "                project_name = 'regression',\n",
        "                stopping_metric = \"RMSE\",\n",
        "                sort_metric = \"RMSE\")\n",
        "\n",
        "%time aml.train(x = x_reg, y = y_reg, training_frame = train)"
      ],
      "execution_count": 22,
      "outputs": [
        {
          "output_type": "stream",
          "text": [
            "AutoML progress: |████████████████████████████████████████████████████████| 100%\n",
            "CPU times: user 50.9 s, sys: 1.86 s, total: 52.7 s\n",
            "Wall time: 13min 51s\n"
          ],
          "name": "stdout"
        }
      ]
    },
    {
      "cell_type": "code",
      "metadata": {
        "colab": {
          "base_uri": "https://localhost:8080/",
          "height": 658
        },
        "id": "s0RMx0clprAQ",
        "outputId": "5af00721-966e-42c4-b8d1-3f30e13f1c1f"
      },
      "source": [
        "# Leaderboard\n",
        "lb = aml.leaderboard\n",
        "lb.head(rows = lb.nrows)"
      ],
      "execution_count": 23,
      "outputs": [
        {
          "output_type": "display_data",
          "data": {
            "text/html": [
              "<table>\n",
              "<thead>\n",
              "<tr><th>model_id                                           </th><th style=\"text-align: right;\">    rmse</th><th style=\"text-align: right;\">  mean_residual_deviance</th><th style=\"text-align: right;\">     mse</th><th style=\"text-align: right;\">     mae</th><th style=\"text-align: right;\">    rmsle</th></tr>\n",
              "</thead>\n",
              "<tbody>\n",
              "<tr><td>GBM_2_AutoML_20210505_025747                       </td><td style=\"text-align: right;\">0.431104</td><td style=\"text-align: right;\">                0.185851</td><td style=\"text-align: right;\">0.185851</td><td style=\"text-align: right;\">0.313055</td><td style=\"text-align: right;\">0.0509991</td></tr>\n",
              "<tr><td>GBM_3_AutoML_20210505_025747                       </td><td style=\"text-align: right;\">0.431259</td><td style=\"text-align: right;\">                0.185984</td><td style=\"text-align: right;\">0.185984</td><td style=\"text-align: right;\">0.313147</td><td style=\"text-align: right;\">0.0510037</td></tr>\n",
              "<tr><td>GBM_4_AutoML_20210505_025747                       </td><td style=\"text-align: right;\">0.432376</td><td style=\"text-align: right;\">                0.186949</td><td style=\"text-align: right;\">0.186949</td><td style=\"text-align: right;\">0.313967</td><td style=\"text-align: right;\">0.051136 </td></tr>\n",
              "<tr><td>GBM_1_AutoML_20210505_025747                       </td><td style=\"text-align: right;\">0.432502</td><td style=\"text-align: right;\">                0.187058</td><td style=\"text-align: right;\">0.187058</td><td style=\"text-align: right;\">0.314691</td><td style=\"text-align: right;\">0.0511546</td></tr>\n",
              "<tr><td>GBM_5_AutoML_20210505_025747                       </td><td style=\"text-align: right;\">0.434864</td><td style=\"text-align: right;\">                0.189107</td><td style=\"text-align: right;\">0.189107</td><td style=\"text-align: right;\">0.316412</td><td style=\"text-align: right;\">0.0514232</td></tr>\n",
              "<tr><td>XGBoost_grid__1_AutoML_20210505_025747_model_2     </td><td style=\"text-align: right;\">0.435758</td><td style=\"text-align: right;\">                0.189885</td><td style=\"text-align: right;\">0.189885</td><td style=\"text-align: right;\">0.317878</td><td style=\"text-align: right;\">0.0515452</td></tr>\n",
              "<tr><td>GBM_grid__1_AutoML_20210505_025747_model_2         </td><td style=\"text-align: right;\">0.436157</td><td style=\"text-align: right;\">                0.190233</td><td style=\"text-align: right;\">0.190233</td><td style=\"text-align: right;\">0.319127</td><td style=\"text-align: right;\">0.0515591</td></tr>\n",
              "<tr><td>XGBoost_3_AutoML_20210505_025747                   </td><td style=\"text-align: right;\">0.437999</td><td style=\"text-align: right;\">                0.191843</td><td style=\"text-align: right;\">0.191843</td><td style=\"text-align: right;\">0.319627</td><td style=\"text-align: right;\">0.0518013</td></tr>\n",
              "<tr><td>XGBoost_grid__1_AutoML_20210505_025747_model_3     </td><td style=\"text-align: right;\">0.438339</td><td style=\"text-align: right;\">                0.192141</td><td style=\"text-align: right;\">0.192141</td><td style=\"text-align: right;\">0.319768</td><td style=\"text-align: right;\">0.0518535</td></tr>\n",
              "<tr><td>StackedEnsemble_AllModels_AutoML_20210505_025747   </td><td style=\"text-align: right;\">0.438569</td><td style=\"text-align: right;\">                0.192343</td><td style=\"text-align: right;\">0.192343</td><td style=\"text-align: right;\">0.321571</td><td style=\"text-align: right;\">0.0517757</td></tr>\n",
              "<tr><td>XGBoost_grid__1_AutoML_20210505_025747_model_1     </td><td style=\"text-align: right;\">0.440327</td><td style=\"text-align: right;\">                0.193888</td><td style=\"text-align: right;\">0.193888</td><td style=\"text-align: right;\">0.323511</td><td style=\"text-align: right;\">0.0520962</td></tr>\n",
              "<tr><td>StackedEnsemble_BestOfFamily_AutoML_20210505_025747</td><td style=\"text-align: right;\">0.44122 </td><td style=\"text-align: right;\">                0.194675</td><td style=\"text-align: right;\">0.194675</td><td style=\"text-align: right;\">0.324085</td><td style=\"text-align: right;\">0.0520742</td></tr>\n",
              "<tr><td>GBM_grid__1_AutoML_20210505_025747_model_3         </td><td style=\"text-align: right;\">0.441259</td><td style=\"text-align: right;\">                0.194709</td><td style=\"text-align: right;\">0.194709</td><td style=\"text-align: right;\">0.321334</td><td style=\"text-align: right;\">0.0521215</td></tr>\n",
              "<tr><td>XGBoost_grid__1_AutoML_20210505_025747_model_4     </td><td style=\"text-align: right;\">0.441259</td><td style=\"text-align: right;\">                0.194709</td><td style=\"text-align: right;\">0.194709</td><td style=\"text-align: right;\">0.324015</td><td style=\"text-align: right;\">0.0521998</td></tr>\n",
              "<tr><td>XGBoost_1_AutoML_20210505_025747                   </td><td style=\"text-align: right;\">0.444332</td><td style=\"text-align: right;\">                0.197431</td><td style=\"text-align: right;\">0.197431</td><td style=\"text-align: right;\">0.3245  </td><td style=\"text-align: right;\">0.0525914</td></tr>\n",
              "<tr><td>XGBoost_grid__1_AutoML_20210505_025747_model_6     </td><td style=\"text-align: right;\">0.450327</td><td style=\"text-align: right;\">                0.202794</td><td style=\"text-align: right;\">0.202794</td><td style=\"text-align: right;\">0.330215</td><td style=\"text-align: right;\">0.0533583</td></tr>\n",
              "<tr><td>XGBoost_grid__1_AutoML_20210505_025747_model_7     </td><td style=\"text-align: right;\">0.452879</td><td style=\"text-align: right;\">                0.205099</td><td style=\"text-align: right;\">0.205099</td><td style=\"text-align: right;\">0.331278</td><td style=\"text-align: right;\">0.0536509</td></tr>\n",
              "<tr><td>GLM_1_AutoML_20210505_025747                       </td><td style=\"text-align: right;\">0.457377</td><td style=\"text-align: right;\">                0.209194</td><td style=\"text-align: right;\">0.209194</td><td style=\"text-align: right;\">0.339901</td><td style=\"text-align: right;\">0.0541043</td></tr>\n",
              "<tr><td>XGBoost_grid__1_AutoML_20210505_025747_model_5     </td><td style=\"text-align: right;\">0.457505</td><td style=\"text-align: right;\">                0.209311</td><td style=\"text-align: right;\">0.209311</td><td style=\"text-align: right;\">0.334253</td><td style=\"text-align: right;\">0.0542179</td></tr>\n",
              "<tr><td>XGBoost_2_AutoML_20210505_025747                   </td><td style=\"text-align: right;\">0.458276</td><td style=\"text-align: right;\">                0.210017</td><td style=\"text-align: right;\">0.210017</td><td style=\"text-align: right;\">0.33552 </td><td style=\"text-align: right;\">0.0543168</td></tr>\n",
              "<tr><td>DRF_1_AutoML_20210505_025747                       </td><td style=\"text-align: right;\">0.45829 </td><td style=\"text-align: right;\">                0.210029</td><td style=\"text-align: right;\">0.210029</td><td style=\"text-align: right;\">0.331447</td><td style=\"text-align: right;\">0.0542061</td></tr>\n",
              "<tr><td>GBM_grid__1_AutoML_20210505_025747_model_1         </td><td style=\"text-align: right;\">0.458831</td><td style=\"text-align: right;\">                0.210526</td><td style=\"text-align: right;\">0.210526</td><td style=\"text-align: right;\">0.339305</td><td style=\"text-align: right;\">0.0542719</td></tr>\n",
              "<tr><td>XRT_1_AutoML_20210505_025747                       </td><td style=\"text-align: right;\">0.476707</td><td style=\"text-align: right;\">                0.227249</td><td style=\"text-align: right;\">0.227249</td><td style=\"text-align: right;\">0.35003 </td><td style=\"text-align: right;\">0.0561801</td></tr>\n",
              "<tr><td>DeepLearning_1_AutoML_20210505_025747              </td><td style=\"text-align: right;\">0.509043</td><td style=\"text-align: right;\">                0.259125</td><td style=\"text-align: right;\">0.259125</td><td style=\"text-align: right;\">0.361102</td><td style=\"text-align: right;\">0.0600097</td></tr>\n",
              "<tr><td>DeepLearning_grid__1_AutoML_20210505_025747_model_1</td><td style=\"text-align: right;\">0.509985</td><td style=\"text-align: right;\">                0.260085</td><td style=\"text-align: right;\">0.260085</td><td style=\"text-align: right;\">0.354146</td><td style=\"text-align: right;\">0.0595999</td></tr>\n",
              "<tr><td>DeepLearning_grid__3_AutoML_20210505_025747_model_1</td><td style=\"text-align: right;\">0.538341</td><td style=\"text-align: right;\">                0.289811</td><td style=\"text-align: right;\">0.289811</td><td style=\"text-align: right;\">0.399631</td><td style=\"text-align: right;\">0.0634034</td></tr>\n",
              "<tr><td>DeepLearning_grid__1_AutoML_20210505_025747_model_2</td><td style=\"text-align: right;\">0.55141 </td><td style=\"text-align: right;\">                0.304053</td><td style=\"text-align: right;\">0.304053</td><td style=\"text-align: right;\">0.377237</td><td style=\"text-align: right;\">0.0644253</td></tr>\n",
              "<tr><td>DeepLearning_grid__3_AutoML_20210505_025747_model_2</td><td style=\"text-align: right;\">0.554391</td><td style=\"text-align: right;\">                0.307349</td><td style=\"text-align: right;\">0.307349</td><td style=\"text-align: right;\">0.386749</td><td style=\"text-align: right;\">0.0648565</td></tr>\n",
              "<tr><td>DeepLearning_grid__2_AutoML_20210505_025747_model_2</td><td style=\"text-align: right;\">0.565895</td><td style=\"text-align: right;\">                0.320237</td><td style=\"text-align: right;\">0.320237</td><td style=\"text-align: right;\">0.395934</td><td style=\"text-align: right;\">0.0663743</td></tr>\n",
              "<tr><td>GBM_grid__1_AutoML_20210505_025747_model_4         </td><td style=\"text-align: right;\">0.566769</td><td style=\"text-align: right;\">                0.321227</td><td style=\"text-align: right;\">0.321227</td><td style=\"text-align: right;\">0.428236</td><td style=\"text-align: right;\">0.0667448</td></tr>\n",
              "<tr><td>DeepLearning_grid__2_AutoML_20210505_025747_model_1</td><td style=\"text-align: right;\">0.668387</td><td style=\"text-align: right;\">                0.446741</td><td style=\"text-align: right;\">0.446741</td><td style=\"text-align: right;\">0.552316</td><td style=\"text-align: right;\">0.0797323</td></tr>\n",
              "</tbody>\n",
              "</table>"
            ]
          },
          "metadata": {
            "tags": []
          }
        },
        {
          "output_type": "execute_result",
          "data": {
            "text/plain": [
              ""
            ]
          },
          "metadata": {
            "tags": []
          },
          "execution_count": 23
        }
      ]
    },
    {
      "cell_type": "code",
      "metadata": {
        "id": "RA5STFipptQk"
      },
      "source": [
        "# Get model ids for all models in the AutoML Leaderboard\n",
        "model_ids = list(aml.leaderboard['model_id'].as_data_frame().iloc[:,0])\n",
        "\n",
        "# Get the top GBM model\n",
        "gbm = h2o.get_model([mid for mid in model_ids if \"GBM\" in mid][0])"
      ],
      "execution_count": 24,
      "outputs": []
    },
    {
      "cell_type": "markdown",
      "metadata": {
        "id": "Qmdee1Jqp4rE"
      },
      "source": [
        "To retrieve different models, you just need to change the name of the model, GBM, to the model that you want. For example, if you wanted to get the best XGBoost in the leaderboard, you would need to make the following change (you do not need to run the following line of code, this is just an example)"
      ]
    },
    {
      "cell_type": "code",
      "metadata": {
        "id": "rtmVRos5p3QU"
      },
      "source": [
        "xgb = h2o.get_model([mid for mid in model_ids if \"XGBoost\" in mid][0])"
      ],
      "execution_count": 25,
      "outputs": []
    },
    {
      "cell_type": "code",
      "metadata": {
        "colab": {
          "base_uri": "https://localhost:8080/"
        },
        "id": "LLGM9hDip6oX",
        "outputId": "091f8ae2-79d0-4d9f-d39e-d34ed1ca274a"
      },
      "source": [
        "# Let's look at the parameters\n",
        "print(\"ntrees = \", gbm.params['ntrees'])\n",
        "print(\"max depth = \", gbm.params['max_depth'])\n",
        "print(\"learn rate = \", gbm.params['learn_rate'])\n",
        "print(\"sample rate = \", gbm.params['sample_rate'])"
      ],
      "execution_count": 26,
      "outputs": [
        {
          "output_type": "stream",
          "text": [
            "ntrees =  {'default': 50, 'actual': 61, 'input': 10000}\n",
            "max depth =  {'default': 5, 'actual': 7, 'input': 7}\n",
            "learn rate =  {'default': 0.1, 'actual': 0.1, 'input': 0.1}\n",
            "sample rate =  {'default': 1.0, 'actual': 0.8, 'input': 0.8}\n"
          ],
          "name": "stdout"
        }
      ]
    },
    {
      "cell_type": "code",
      "metadata": {
        "colab": {
          "base_uri": "https://localhost:8080/"
        },
        "id": "NZ4k6GHvp_NI",
        "outputId": "2a445ab1-7967-40ec-9976-41a12fab6740"
      },
      "source": [
        "gbm.params"
      ],
      "execution_count": 27,
      "outputs": [
        {
          "output_type": "execute_result",
          "data": {
            "text/plain": [
              "{'auc_type': {'actual': 'AUTO', 'default': 'AUTO', 'input': 'AUTO'},\n",
              " 'balance_classes': {'actual': False, 'default': False, 'input': False},\n",
              " 'build_tree_one_node': {'actual': False, 'default': False, 'input': False},\n",
              " 'calibrate_model': {'actual': False, 'default': False, 'input': False},\n",
              " 'calibration_frame': {'actual': None, 'default': None, 'input': None},\n",
              " 'categorical_encoding': {'actual': 'Enum',\n",
              "  'default': 'AUTO',\n",
              "  'input': 'AUTO'},\n",
              " 'check_constant_response': {'actual': True, 'default': True, 'input': True},\n",
              " 'checkpoint': {'actual': None, 'default': None, 'input': None},\n",
              " 'class_sampling_factors': {'actual': None, 'default': None, 'input': None},\n",
              " 'col_sample_rate': {'actual': 0.8, 'default': 1.0, 'input': 0.8},\n",
              " 'col_sample_rate_change_per_level': {'actual': 1.0,\n",
              "  'default': 1.0,\n",
              "  'input': 1.0},\n",
              " 'col_sample_rate_per_tree': {'actual': 0.8, 'default': 1.0, 'input': 0.8},\n",
              " 'custom_distribution_func': {'actual': None, 'default': None, 'input': None},\n",
              " 'custom_metric_func': {'actual': None, 'default': None, 'input': None},\n",
              " 'distribution': {'actual': 'gaussian', 'default': 'AUTO', 'input': 'AUTO'},\n",
              " 'export_checkpoints_dir': {'actual': None, 'default': None, 'input': None},\n",
              " 'fold_assignment': {'actual': 'Modulo', 'default': 'AUTO', 'input': 'Modulo'},\n",
              " 'fold_column': {'actual': None, 'default': None, 'input': None},\n",
              " 'gainslift_bins': {'actual': -1, 'default': -1, 'input': -1},\n",
              " 'histogram_type': {'actual': 'UniformAdaptive',\n",
              "  'default': 'AUTO',\n",
              "  'input': 'AUTO'},\n",
              " 'huber_alpha': {'actual': 0.9, 'default': 0.9, 'input': 0.9},\n",
              " 'ignore_const_cols': {'actual': True, 'default': True, 'input': True},\n",
              " 'ignored_columns': {'actual': ['PREPAYMENT_PENALTY_MORTGAGE_FLAG',\n",
              "   'FIRST_PAYMENT_DATE',\n",
              "   'PREPAID',\n",
              "   'MATURITY_DATE',\n",
              "   'PRODUCT_TYPE',\n",
              "   'MORTGAGE_INSURANCE_PERCENTAGE',\n",
              "   'DELINQUENT',\n",
              "   'LOAN_SEQUENCE_NUMBER'],\n",
              "  'default': None,\n",
              "  'input': ['PREPAYMENT_PENALTY_MORTGAGE_FLAG',\n",
              "   'FIRST_PAYMENT_DATE',\n",
              "   'PREPAID',\n",
              "   'MATURITY_DATE',\n",
              "   'PRODUCT_TYPE',\n",
              "   'MORTGAGE_INSURANCE_PERCENTAGE',\n",
              "   'DELINQUENT',\n",
              "   'LOAN_SEQUENCE_NUMBER']},\n",
              " 'keep_cross_validation_fold_assignment': {'actual': False,\n",
              "  'default': False,\n",
              "  'input': False},\n",
              " 'keep_cross_validation_models': {'actual': False,\n",
              "  'default': True,\n",
              "  'input': False},\n",
              " 'keep_cross_validation_predictions': {'actual': True,\n",
              "  'default': False,\n",
              "  'input': True},\n",
              " 'learn_rate': {'actual': 0.1, 'default': 0.1, 'input': 0.1},\n",
              " 'learn_rate_annealing': {'actual': 1.0, 'default': 1.0, 'input': 1.0},\n",
              " 'max_abs_leafnode_pred': {'actual': 1.7976931348623157e+308,\n",
              "  'default': 1.7976931348623157e+308,\n",
              "  'input': 1.7976931348623157e+308},\n",
              " 'max_after_balance_size': {'actual': 5.0, 'default': 5.0, 'input': 5.0},\n",
              " 'max_confusion_matrix_size': {'actual': 20, 'default': 20, 'input': 20},\n",
              " 'max_depth': {'actual': 7, 'default': 5, 'input': 7},\n",
              " 'max_runtime_secs': {'actual': 0.0, 'default': 0.0, 'input': 25.030837890625},\n",
              " 'min_rows': {'actual': 10.0, 'default': 10.0, 'input': 10.0},\n",
              " 'min_split_improvement': {'actual': 1e-05, 'default': 1e-05, 'input': 1e-05},\n",
              " 'model_id': {'actual': {'URL': '/3/Models/GBM_2_AutoML_20210505_025747',\n",
              "   '__meta': {'schema_name': 'ModelKeyV3',\n",
              "    'schema_type': 'Key<Model>',\n",
              "    'schema_version': 3},\n",
              "   'name': 'GBM_2_AutoML_20210505_025747',\n",
              "   'type': 'Key<Model>'},\n",
              "  'default': None,\n",
              "  'input': None},\n",
              " 'monotone_constraints': {'actual': None, 'default': None, 'input': None},\n",
              " 'nbins': {'actual': 20, 'default': 20, 'input': 20},\n",
              " 'nbins_cats': {'actual': 1024, 'default': 1024, 'input': 1024},\n",
              " 'nbins_top_level': {'actual': 1024, 'default': 1024, 'input': 1024},\n",
              " 'nfolds': {'actual': 5, 'default': 0, 'input': 5},\n",
              " 'ntrees': {'actual': 61, 'default': 50, 'input': 10000},\n",
              " 'offset_column': {'actual': None, 'default': None, 'input': None},\n",
              " 'pred_noise_bandwidth': {'actual': 0.0, 'default': 0.0, 'input': 0.0},\n",
              " 'quantile_alpha': {'actual': 0.5, 'default': 0.5, 'input': 0.5},\n",
              " 'r2_stopping': {'actual': 1.7976931348623157e+308,\n",
              "  'default': 1.7976931348623157e+308,\n",
              "  'input': 1.7976931348623157e+308},\n",
              " 'response_column': {'actual': {'__meta': {'schema_name': 'ColSpecifierV3',\n",
              "    'schema_type': 'VecSpecifier',\n",
              "    'schema_version': 3},\n",
              "   'column_name': 'ORIGINAL_INTEREST_RATE',\n",
              "   'is_member_of_frames': None},\n",
              "  'default': None,\n",
              "  'input': {'__meta': {'schema_name': 'ColSpecifierV3',\n",
              "    'schema_type': 'VecSpecifier',\n",
              "    'schema_version': 3},\n",
              "   'column_name': 'ORIGINAL_INTEREST_RATE',\n",
              "   'is_member_of_frames': None}},\n",
              " 'sample_rate': {'actual': 0.8, 'default': 1.0, 'input': 0.8},\n",
              " 'sample_rate_per_class': {'actual': None, 'default': None, 'input': None},\n",
              " 'score_each_iteration': {'actual': False, 'default': False, 'input': False},\n",
              " 'score_tree_interval': {'actual': 5, 'default': 0, 'input': 5},\n",
              " 'seed': {'actual': 48, 'default': -1, 'input': 48},\n",
              " 'stopping_metric': {'actual': 'RMSE', 'default': 'AUTO', 'input': 'RMSE'},\n",
              " 'stopping_rounds': {'actual': 0, 'default': 0, 'input': 3},\n",
              " 'stopping_tolerance': {'actual': 0.0050010003001000345,\n",
              "  'default': 0.001,\n",
              "  'input': 0.0050010003001000345},\n",
              " 'training_frame': {'actual': {'URL': '/3/Frames/automl_training_py_10_sid_9b3e',\n",
              "   '__meta': {'schema_name': 'FrameKeyV3',\n",
              "    'schema_type': 'Key<Frame>',\n",
              "    'schema_version': 3},\n",
              "   'name': 'automl_training_py_10_sid_9b3e',\n",
              "   'type': 'Key<Frame>'},\n",
              "  'default': None,\n",
              "  'input': {'URL': '/3/Frames/automl_training_py_10_sid_9b3e',\n",
              "   '__meta': {'schema_name': 'FrameKeyV3',\n",
              "    'schema_type': 'Key<Frame>',\n",
              "    'schema_version': 3},\n",
              "   'name': 'automl_training_py_10_sid_9b3e',\n",
              "   'type': 'Key<Frame>'}},\n",
              " 'tweedie_power': {'actual': 1.5, 'default': 1.5, 'input': 1.5},\n",
              " 'validation_frame': {'actual': None, 'default': None, 'input': None},\n",
              " 'weights_column': {'actual': None, 'default': None, 'input': None}}"
            ]
          },
          "metadata": {
            "tags": []
          },
          "execution_count": 27
        }
      ]
    },
    {
      "cell_type": "code",
      "metadata": {
        "colab": {
          "base_uri": "https://localhost:8080/",
          "height": 1000
        },
        "id": "uYJiOkcmqBgw",
        "outputId": "c21eba1c-9535-46a4-a226-44c1ebc1c58b"
      },
      "source": [
        "# model summary\n",
        "gbm"
      ],
      "execution_count": 28,
      "outputs": [
        {
          "output_type": "stream",
          "text": [
            "Model Details\n",
            "=============\n",
            "H2OGradientBoostingEstimator :  Gradient Boosting Machine\n",
            "Model Key:  GBM_2_AutoML_20210505_025747\n",
            "\n",
            "\n",
            "Model Summary: \n"
          ],
          "name": "stdout"
        },
        {
          "output_type": "display_data",
          "data": {
            "text/html": [
              "<div>\n",
              "<style scoped>\n",
              "    .dataframe tbody tr th:only-of-type {\n",
              "        vertical-align: middle;\n",
              "    }\n",
              "\n",
              "    .dataframe tbody tr th {\n",
              "        vertical-align: top;\n",
              "    }\n",
              "\n",
              "    .dataframe thead th {\n",
              "        text-align: right;\n",
              "    }\n",
              "</style>\n",
              "<table border=\"1\" class=\"dataframe\">\n",
              "  <thead>\n",
              "    <tr style=\"text-align: right;\">\n",
              "      <th></th>\n",
              "      <th></th>\n",
              "      <th>number_of_trees</th>\n",
              "      <th>number_of_internal_trees</th>\n",
              "      <th>model_size_in_bytes</th>\n",
              "      <th>min_depth</th>\n",
              "      <th>max_depth</th>\n",
              "      <th>mean_depth</th>\n",
              "      <th>min_leaves</th>\n",
              "      <th>max_leaves</th>\n",
              "      <th>mean_leaves</th>\n",
              "    </tr>\n",
              "  </thead>\n",
              "  <tbody>\n",
              "    <tr>\n",
              "      <th>0</th>\n",
              "      <td></td>\n",
              "      <td>61.0</td>\n",
              "      <td>61.0</td>\n",
              "      <td>90183.0</td>\n",
              "      <td>7.0</td>\n",
              "      <td>7.0</td>\n",
              "      <td>7.0</td>\n",
              "      <td>40.0</td>\n",
              "      <td>114.0</td>\n",
              "      <td>90.34426</td>\n",
              "    </tr>\n",
              "  </tbody>\n",
              "</table>\n",
              "</div>"
            ],
            "text/plain": [
              "     number_of_trees  ...  max_leaves  mean_leaves\n",
              "0               61.0  ...       114.0     90.34426\n",
              "\n",
              "[1 rows x 10 columns]"
            ]
          },
          "metadata": {
            "tags": []
          }
        },
        {
          "output_type": "stream",
          "text": [
            "\n",
            "\n",
            "ModelMetricsRegression: gbm\n",
            "** Reported on train data. **\n",
            "\n",
            "MSE: 0.15269688726200395\n",
            "RMSE: 0.3907644907895342\n",
            "MAE: 0.2833111805050504\n",
            "RMSLE: 0.04631940499237696\n",
            "Mean Residual Deviance: 0.15269688726200395\n",
            "\n",
            "ModelMetricsRegression: gbm\n",
            "** Reported on cross-validation data. **\n",
            "\n",
            "MSE: 0.185850763132656\n",
            "RMSE: 0.43110412098779105\n",
            "MAE: 0.3130554316606902\n",
            "RMSLE: 0.05099909719685156\n",
            "Mean Residual Deviance: 0.185850763132656\n",
            "\n",
            "Cross-Validation Metrics Summary: \n"
          ],
          "name": "stdout"
        },
        {
          "output_type": "display_data",
          "data": {
            "text/html": [
              "<div>\n",
              "<style scoped>\n",
              "    .dataframe tbody tr th:only-of-type {\n",
              "        vertical-align: middle;\n",
              "    }\n",
              "\n",
              "    .dataframe tbody tr th {\n",
              "        vertical-align: top;\n",
              "    }\n",
              "\n",
              "    .dataframe thead th {\n",
              "        text-align: right;\n",
              "    }\n",
              "</style>\n",
              "<table border=\"1\" class=\"dataframe\">\n",
              "  <thead>\n",
              "    <tr style=\"text-align: right;\">\n",
              "      <th></th>\n",
              "      <th></th>\n",
              "      <th>mean</th>\n",
              "      <th>sd</th>\n",
              "      <th>cv_1_valid</th>\n",
              "      <th>cv_2_valid</th>\n",
              "      <th>cv_3_valid</th>\n",
              "      <th>cv_4_valid</th>\n",
              "      <th>cv_5_valid</th>\n",
              "    </tr>\n",
              "  </thead>\n",
              "  <tbody>\n",
              "    <tr>\n",
              "      <th>0</th>\n",
              "      <td>mae</td>\n",
              "      <td>0.31305543</td>\n",
              "      <td>0.0012365212</td>\n",
              "      <td>0.3131201</td>\n",
              "      <td>0.3150083</td>\n",
              "      <td>0.3116841</td>\n",
              "      <td>0.31240928</td>\n",
              "      <td>0.31305534</td>\n",
              "    </tr>\n",
              "    <tr>\n",
              "      <th>1</th>\n",
              "      <td>mean_residual_deviance</td>\n",
              "      <td>0.18585072</td>\n",
              "      <td>0.0027274468</td>\n",
              "      <td>0.18724704</td>\n",
              "      <td>0.18997894</td>\n",
              "      <td>0.1834289</td>\n",
              "      <td>0.18450591</td>\n",
              "      <td>0.18409282</td>\n",
              "    </tr>\n",
              "    <tr>\n",
              "      <th>2</th>\n",
              "      <td>mse</td>\n",
              "      <td>0.18585072</td>\n",
              "      <td>0.0027274468</td>\n",
              "      <td>0.18724704</td>\n",
              "      <td>0.18997894</td>\n",
              "      <td>0.1834289</td>\n",
              "      <td>0.18450591</td>\n",
              "      <td>0.18409282</td>\n",
              "    </tr>\n",
              "    <tr>\n",
              "      <th>3</th>\n",
              "      <td>r2</td>\n",
              "      <td>0.4552014</td>\n",
              "      <td>0.006295811</td>\n",
              "      <td>0.45276675</td>\n",
              "      <td>0.44714057</td>\n",
              "      <td>0.45646077</td>\n",
              "      <td>0.4644781</td>\n",
              "      <td>0.4551608</td>\n",
              "    </tr>\n",
              "    <tr>\n",
              "      <th>4</th>\n",
              "      <td>residual_deviance</td>\n",
              "      <td>0.18585072</td>\n",
              "      <td>0.0027274468</td>\n",
              "      <td>0.18724704</td>\n",
              "      <td>0.18997894</td>\n",
              "      <td>0.1834289</td>\n",
              "      <td>0.18450591</td>\n",
              "      <td>0.18409282</td>\n",
              "    </tr>\n",
              "    <tr>\n",
              "      <th>5</th>\n",
              "      <td>rmse</td>\n",
              "      <td>0.43109483</td>\n",
              "      <td>0.0031561707</td>\n",
              "      <td>0.4327205</td>\n",
              "      <td>0.43586573</td>\n",
              "      <td>0.428286</td>\n",
              "      <td>0.4295415</td>\n",
              "      <td>0.4290604</td>\n",
              "    </tr>\n",
              "    <tr>\n",
              "      <th>6</th>\n",
              "      <td>rmsle</td>\n",
              "      <td>0.0509982</td>\n",
              "      <td>3.378077E-4</td>\n",
              "      <td>0.05107473</td>\n",
              "      <td>0.051535763</td>\n",
              "      <td>0.050640408</td>\n",
              "      <td>0.050850473</td>\n",
              "      <td>0.050889626</td>\n",
              "    </tr>\n",
              "  </tbody>\n",
              "</table>\n",
              "</div>"
            ],
            "text/plain": [
              "                                 mean  ...   cv_4_valid   cv_5_valid\n",
              "0                     mae  0.31305543  ...   0.31240928   0.31305534\n",
              "1  mean_residual_deviance  0.18585072  ...   0.18450591   0.18409282\n",
              "2                     mse  0.18585072  ...   0.18450591   0.18409282\n",
              "3                      r2   0.4552014  ...    0.4644781    0.4551608\n",
              "4       residual_deviance  0.18585072  ...   0.18450591   0.18409282\n",
              "5                    rmse  0.43109483  ...    0.4295415    0.4290604\n",
              "6                   rmsle   0.0509982  ...  0.050850473  0.050889626\n",
              "\n",
              "[7 rows x 8 columns]"
            ]
          },
          "metadata": {
            "tags": []
          }
        },
        {
          "output_type": "stream",
          "text": [
            "\n",
            "Scoring History: \n"
          ],
          "name": "stdout"
        },
        {
          "output_type": "display_data",
          "data": {
            "text/html": [
              "<div>\n",
              "<style scoped>\n",
              "    .dataframe tbody tr th:only-of-type {\n",
              "        vertical-align: middle;\n",
              "    }\n",
              "\n",
              "    .dataframe tbody tr th {\n",
              "        vertical-align: top;\n",
              "    }\n",
              "\n",
              "    .dataframe thead th {\n",
              "        text-align: right;\n",
              "    }\n",
              "</style>\n",
              "<table border=\"1\" class=\"dataframe\">\n",
              "  <thead>\n",
              "    <tr style=\"text-align: right;\">\n",
              "      <th></th>\n",
              "      <th></th>\n",
              "      <th>timestamp</th>\n",
              "      <th>duration</th>\n",
              "      <th>number_of_trees</th>\n",
              "      <th>training_rmse</th>\n",
              "      <th>training_mae</th>\n",
              "      <th>training_deviance</th>\n",
              "    </tr>\n",
              "  </thead>\n",
              "  <tbody>\n",
              "    <tr>\n",
              "      <th>0</th>\n",
              "      <td></td>\n",
              "      <td>2021-05-05 03:00:07</td>\n",
              "      <td>16.646 sec</td>\n",
              "      <td>0.0</td>\n",
              "      <td>0.584073</td>\n",
              "      <td>0.441749</td>\n",
              "      <td>0.341141</td>\n",
              "    </tr>\n",
              "    <tr>\n",
              "      <th>1</th>\n",
              "      <td></td>\n",
              "      <td>2021-05-05 03:00:07</td>\n",
              "      <td>16.907 sec</td>\n",
              "      <td>5.0</td>\n",
              "      <td>0.502196</td>\n",
              "      <td>0.378127</td>\n",
              "      <td>0.252201</td>\n",
              "    </tr>\n",
              "    <tr>\n",
              "      <th>2</th>\n",
              "      <td></td>\n",
              "      <td>2021-05-05 03:00:08</td>\n",
              "      <td>17.171 sec</td>\n",
              "      <td>10.0</td>\n",
              "      <td>0.462878</td>\n",
              "      <td>0.344986</td>\n",
              "      <td>0.214256</td>\n",
              "    </tr>\n",
              "    <tr>\n",
              "      <th>3</th>\n",
              "      <td></td>\n",
              "      <td>2021-05-05 03:00:08</td>\n",
              "      <td>17.444 sec</td>\n",
              "      <td>15.0</td>\n",
              "      <td>0.442329</td>\n",
              "      <td>0.327254</td>\n",
              "      <td>0.195655</td>\n",
              "    </tr>\n",
              "    <tr>\n",
              "      <th>4</th>\n",
              "      <td></td>\n",
              "      <td>2021-05-05 03:00:08</td>\n",
              "      <td>17.854 sec</td>\n",
              "      <td>20.0</td>\n",
              "      <td>0.428096</td>\n",
              "      <td>0.314578</td>\n",
              "      <td>0.183266</td>\n",
              "    </tr>\n",
              "    <tr>\n",
              "      <th>5</th>\n",
              "      <td></td>\n",
              "      <td>2021-05-05 03:00:09</td>\n",
              "      <td>18.261 sec</td>\n",
              "      <td>25.0</td>\n",
              "      <td>0.419515</td>\n",
              "      <td>0.307061</td>\n",
              "      <td>0.175992</td>\n",
              "    </tr>\n",
              "    <tr>\n",
              "      <th>6</th>\n",
              "      <td></td>\n",
              "      <td>2021-05-05 03:00:09</td>\n",
              "      <td>18.550 sec</td>\n",
              "      <td>30.0</td>\n",
              "      <td>0.412482</td>\n",
              "      <td>0.300850</td>\n",
              "      <td>0.170142</td>\n",
              "    </tr>\n",
              "    <tr>\n",
              "      <th>7</th>\n",
              "      <td></td>\n",
              "      <td>2021-05-05 03:00:09</td>\n",
              "      <td>18.809 sec</td>\n",
              "      <td>35.0</td>\n",
              "      <td>0.407119</td>\n",
              "      <td>0.296378</td>\n",
              "      <td>0.165746</td>\n",
              "    </tr>\n",
              "    <tr>\n",
              "      <th>8</th>\n",
              "      <td></td>\n",
              "      <td>2021-05-05 03:00:10</td>\n",
              "      <td>19.074 sec</td>\n",
              "      <td>40.0</td>\n",
              "      <td>0.402170</td>\n",
              "      <td>0.292261</td>\n",
              "      <td>0.161741</td>\n",
              "    </tr>\n",
              "    <tr>\n",
              "      <th>9</th>\n",
              "      <td></td>\n",
              "      <td>2021-05-05 03:00:10</td>\n",
              "      <td>19.359 sec</td>\n",
              "      <td>45.0</td>\n",
              "      <td>0.398234</td>\n",
              "      <td>0.289090</td>\n",
              "      <td>0.158590</td>\n",
              "    </tr>\n",
              "    <tr>\n",
              "      <th>10</th>\n",
              "      <td></td>\n",
              "      <td>2021-05-05 03:00:10</td>\n",
              "      <td>19.602 sec</td>\n",
              "      <td>50.0</td>\n",
              "      <td>0.396224</td>\n",
              "      <td>0.287489</td>\n",
              "      <td>0.156993</td>\n",
              "    </tr>\n",
              "    <tr>\n",
              "      <th>11</th>\n",
              "      <td></td>\n",
              "      <td>2021-05-05 03:00:10</td>\n",
              "      <td>19.851 sec</td>\n",
              "      <td>55.0</td>\n",
              "      <td>0.393828</td>\n",
              "      <td>0.285538</td>\n",
              "      <td>0.155100</td>\n",
              "    </tr>\n",
              "    <tr>\n",
              "      <th>12</th>\n",
              "      <td></td>\n",
              "      <td>2021-05-05 03:00:11</td>\n",
              "      <td>20.137 sec</td>\n",
              "      <td>60.0</td>\n",
              "      <td>0.391318</td>\n",
              "      <td>0.283699</td>\n",
              "      <td>0.153129</td>\n",
              "    </tr>\n",
              "    <tr>\n",
              "      <th>13</th>\n",
              "      <td></td>\n",
              "      <td>2021-05-05 03:00:11</td>\n",
              "      <td>20.199 sec</td>\n",
              "      <td>61.0</td>\n",
              "      <td>0.390764</td>\n",
              "      <td>0.283311</td>\n",
              "      <td>0.152697</td>\n",
              "    </tr>\n",
              "  </tbody>\n",
              "</table>\n",
              "</div>"
            ],
            "text/plain": [
              "                timestamp  ... training_mae  training_deviance\n",
              "0     2021-05-05 03:00:07  ...     0.441749           0.341141\n",
              "1     2021-05-05 03:00:07  ...     0.378127           0.252201\n",
              "2     2021-05-05 03:00:08  ...     0.344986           0.214256\n",
              "3     2021-05-05 03:00:08  ...     0.327254           0.195655\n",
              "4     2021-05-05 03:00:08  ...     0.314578           0.183266\n",
              "5     2021-05-05 03:00:09  ...     0.307061           0.175992\n",
              "6     2021-05-05 03:00:09  ...     0.300850           0.170142\n",
              "7     2021-05-05 03:00:09  ...     0.296378           0.165746\n",
              "8     2021-05-05 03:00:10  ...     0.292261           0.161741\n",
              "9     2021-05-05 03:00:10  ...     0.289090           0.158590\n",
              "10    2021-05-05 03:00:10  ...     0.287489           0.156993\n",
              "11    2021-05-05 03:00:10  ...     0.285538           0.155100\n",
              "12    2021-05-05 03:00:11  ...     0.283699           0.153129\n",
              "13    2021-05-05 03:00:11  ...     0.283311           0.152697\n",
              "\n",
              "[14 rows x 7 columns]"
            ]
          },
          "metadata": {
            "tags": []
          }
        },
        {
          "output_type": "stream",
          "text": [
            "\n",
            "Variable Importances: \n"
          ],
          "name": "stdout"
        },
        {
          "output_type": "display_data",
          "data": {
            "text/html": [
              "<div>\n",
              "<style scoped>\n",
              "    .dataframe tbody tr th:only-of-type {\n",
              "        vertical-align: middle;\n",
              "    }\n",
              "\n",
              "    .dataframe tbody tr th {\n",
              "        vertical-align: top;\n",
              "    }\n",
              "\n",
              "    .dataframe thead th {\n",
              "        text-align: right;\n",
              "    }\n",
              "</style>\n",
              "<table border=\"1\" class=\"dataframe\">\n",
              "  <thead>\n",
              "    <tr style=\"text-align: right;\">\n",
              "      <th></th>\n",
              "      <th>variable</th>\n",
              "      <th>relative_importance</th>\n",
              "      <th>scaled_importance</th>\n",
              "      <th>percentage</th>\n",
              "    </tr>\n",
              "  </thead>\n",
              "  <tbody>\n",
              "    <tr>\n",
              "      <th>0</th>\n",
              "      <td>SELLER_NAME</td>\n",
              "      <td>16180.680664</td>\n",
              "      <td>1.000000</td>\n",
              "      <td>0.463428</td>\n",
              "    </tr>\n",
              "    <tr>\n",
              "      <th>1</th>\n",
              "      <td>SERVICER_NAME</td>\n",
              "      <td>5225.981445</td>\n",
              "      <td>0.322977</td>\n",
              "      <td>0.149676</td>\n",
              "    </tr>\n",
              "    <tr>\n",
              "      <th>2</th>\n",
              "      <td>PROPERTY_STATE</td>\n",
              "      <td>3795.213379</td>\n",
              "      <td>0.234552</td>\n",
              "      <td>0.108698</td>\n",
              "    </tr>\n",
              "    <tr>\n",
              "      <th>3</th>\n",
              "      <td>ORIGINAL_UPB</td>\n",
              "      <td>1759.453247</td>\n",
              "      <td>0.108738</td>\n",
              "      <td>0.050392</td>\n",
              "    </tr>\n",
              "    <tr>\n",
              "      <th>4</th>\n",
              "      <td>OCCUPANCY_STATUS</td>\n",
              "      <td>1692.369629</td>\n",
              "      <td>0.104592</td>\n",
              "      <td>0.048471</td>\n",
              "    </tr>\n",
              "    <tr>\n",
              "      <th>5</th>\n",
              "      <td>LOAN_PURPOSE</td>\n",
              "      <td>1575.811401</td>\n",
              "      <td>0.097388</td>\n",
              "      <td>0.045133</td>\n",
              "    </tr>\n",
              "    <tr>\n",
              "      <th>6</th>\n",
              "      <td>CREDIT_SCORE</td>\n",
              "      <td>1303.763184</td>\n",
              "      <td>0.080575</td>\n",
              "      <td>0.037341</td>\n",
              "    </tr>\n",
              "    <tr>\n",
              "      <th>7</th>\n",
              "      <td>ORIGINAL_LOAN_TO_VALUE</td>\n",
              "      <td>997.313965</td>\n",
              "      <td>0.061636</td>\n",
              "      <td>0.028564</td>\n",
              "    </tr>\n",
              "    <tr>\n",
              "      <th>8</th>\n",
              "      <td>ORIGINAL_COMBINED_LOAN_TO_VALUE</td>\n",
              "      <td>559.708801</td>\n",
              "      <td>0.034591</td>\n",
              "      <td>0.016031</td>\n",
              "    </tr>\n",
              "    <tr>\n",
              "      <th>9</th>\n",
              "      <td>ORIGINAL_DEBT_TO_INCOME_RATIO</td>\n",
              "      <td>492.697510</td>\n",
              "      <td>0.030450</td>\n",
              "      <td>0.014111</td>\n",
              "    </tr>\n",
              "    <tr>\n",
              "      <th>10</th>\n",
              "      <td>ORIGINAL_LOAN_TERM</td>\n",
              "      <td>296.573669</td>\n",
              "      <td>0.018329</td>\n",
              "      <td>0.008494</td>\n",
              "    </tr>\n",
              "    <tr>\n",
              "      <th>11</th>\n",
              "      <td>CHANNEL</td>\n",
              "      <td>282.137512</td>\n",
              "      <td>0.017437</td>\n",
              "      <td>0.008081</td>\n",
              "    </tr>\n",
              "    <tr>\n",
              "      <th>12</th>\n",
              "      <td>METROPOLITAN_STATISTICAL_AREA</td>\n",
              "      <td>278.268341</td>\n",
              "      <td>0.017198</td>\n",
              "      <td>0.007970</td>\n",
              "    </tr>\n",
              "    <tr>\n",
              "      <th>13</th>\n",
              "      <td>POSTAL_CODE</td>\n",
              "      <td>129.980515</td>\n",
              "      <td>0.008033</td>\n",
              "      <td>0.003723</td>\n",
              "    </tr>\n",
              "    <tr>\n",
              "      <th>14</th>\n",
              "      <td>FIRST_TIME_HOMEBUYER_FLAG</td>\n",
              "      <td>105.947350</td>\n",
              "      <td>0.006548</td>\n",
              "      <td>0.003034</td>\n",
              "    </tr>\n",
              "    <tr>\n",
              "      <th>15</th>\n",
              "      <td>NUMBER_OF_UNITS</td>\n",
              "      <td>97.290375</td>\n",
              "      <td>0.006013</td>\n",
              "      <td>0.002786</td>\n",
              "    </tr>\n",
              "    <tr>\n",
              "      <th>16</th>\n",
              "      <td>PROPERTY_TYPE</td>\n",
              "      <td>92.112320</td>\n",
              "      <td>0.005693</td>\n",
              "      <td>0.002638</td>\n",
              "    </tr>\n",
              "    <tr>\n",
              "      <th>17</th>\n",
              "      <td>NUMBER_OF_BORROWERS</td>\n",
              "      <td>49.894833</td>\n",
              "      <td>0.003084</td>\n",
              "      <td>0.001429</td>\n",
              "    </tr>\n",
              "  </tbody>\n",
              "</table>\n",
              "</div>"
            ],
            "text/plain": [
              "                           variable  ...  percentage\n",
              "0                       SELLER_NAME  ...    0.463428\n",
              "1                     SERVICER_NAME  ...    0.149676\n",
              "2                    PROPERTY_STATE  ...    0.108698\n",
              "3                      ORIGINAL_UPB  ...    0.050392\n",
              "4                  OCCUPANCY_STATUS  ...    0.048471\n",
              "5                      LOAN_PURPOSE  ...    0.045133\n",
              "6                      CREDIT_SCORE  ...    0.037341\n",
              "7            ORIGINAL_LOAN_TO_VALUE  ...    0.028564\n",
              "8   ORIGINAL_COMBINED_LOAN_TO_VALUE  ...    0.016031\n",
              "9     ORIGINAL_DEBT_TO_INCOME_RATIO  ...    0.014111\n",
              "10               ORIGINAL_LOAN_TERM  ...    0.008494\n",
              "11                          CHANNEL  ...    0.008081\n",
              "12    METROPOLITAN_STATISTICAL_AREA  ...    0.007970\n",
              "13                      POSTAL_CODE  ...    0.003723\n",
              "14        FIRST_TIME_HOMEBUYER_FLAG  ...    0.003034\n",
              "15                  NUMBER_OF_UNITS  ...    0.002786\n",
              "16                    PROPERTY_TYPE  ...    0.002638\n",
              "17              NUMBER_OF_BORROWERS  ...    0.001429\n",
              "\n",
              "[18 rows x 4 columns]"
            ]
          },
          "metadata": {
            "tags": []
          }
        },
        {
          "output_type": "execute_result",
          "data": {
            "text/plain": [
              ""
            ]
          },
          "metadata": {
            "tags": []
          },
          "execution_count": 28
        }
      ]
    },
    {
      "cell_type": "code",
      "metadata": {
        "colab": {
          "base_uri": "https://localhost:8080/"
        },
        "id": "j5gGVQdcqE07",
        "outputId": "b894da77-c0be-4876-ff36-643f45e990f0"
      },
      "source": [
        "# Leader performance\n",
        "gbm.model_performance(test_data=test)"
      ],
      "execution_count": 29,
      "outputs": [
        {
          "output_type": "stream",
          "text": [
            "\n",
            "ModelMetricsRegression: gbm\n",
            "** Reported on test data. **\n",
            "\n",
            "MSE: 0.18479878271260888\n",
            "RMSE: 0.4298822893683908\n",
            "MAE: 0.3130563833418824\n",
            "RMSLE: 0.05088511834510968\n",
            "Mean Residual Deviance: 0.18479878271260888\n"
          ],
          "name": "stdout"
        },
        {
          "output_type": "execute_result",
          "data": {
            "text/plain": [
              ""
            ]
          },
          "metadata": {
            "tags": []
          },
          "execution_count": 29
        }
      ]
    },
    {
      "cell_type": "code",
      "metadata": {
        "colab": {
          "base_uri": "https://localhost:8080/"
        },
        "id": "VQdqSbtrqKEr",
        "outputId": "bfc19ccf-84d3-4839-db87-9bc8f865e59f"
      },
      "source": [
        "# Best model performance in case is different to gbm\n",
        "aml.leader.model_performance(test_data=test)"
      ],
      "execution_count": 30,
      "outputs": [
        {
          "output_type": "stream",
          "text": [
            "\n",
            "ModelMetricsRegression: gbm\n",
            "** Reported on test data. **\n",
            "\n",
            "MSE: 0.18479878271260888\n",
            "RMSE: 0.4298822893683908\n",
            "MAE: 0.3130563833418824\n",
            "RMSLE: 0.05088511834510968\n",
            "Mean Residual Deviance: 0.18479878271260888\n"
          ],
          "name": "stdout"
        },
        {
          "output_type": "execute_result",
          "data": {
            "text/plain": [
              ""
            ]
          },
          "metadata": {
            "tags": []
          },
          "execution_count": 30
        }
      ]
    },
    {
      "cell_type": "code",
      "metadata": {
        "colab": {
          "base_uri": "https://localhost:8080/",
          "height": 255
        },
        "id": "D4aTkmqCqTJU",
        "outputId": "1813c6de-8191-45ad-a93e-9acfadcae7a4"
      },
      "source": [
        "# Making some predicitons\n",
        "pred = gbm.predict(test)\n",
        "pred = pred.cbind(test['ORIGINAL_INTEREST_RATE'])\n",
        "pred.head()"
      ],
      "execution_count": 31,
      "outputs": [
        {
          "output_type": "stream",
          "text": [
            "gbm prediction progress: |████████████████████████████████████████████████| 100%\n"
          ],
          "name": "stdout"
        },
        {
          "output_type": "display_data",
          "data": {
            "text/html": [
              "<table>\n",
              "<thead>\n",
              "<tr><th style=\"text-align: right;\">  predict</th><th style=\"text-align: right;\">  ORIGINAL_INTEREST_RATE</th></tr>\n",
              "</thead>\n",
              "<tbody>\n",
              "<tr><td style=\"text-align: right;\">  6.92051</td><td style=\"text-align: right;\">                   7.5  </td></tr>\n",
              "<tr><td style=\"text-align: right;\">  7.08853</td><td style=\"text-align: right;\">                   6.625</td></tr>\n",
              "<tr><td style=\"text-align: right;\">  7.18485</td><td style=\"text-align: right;\">                   7    </td></tr>\n",
              "<tr><td style=\"text-align: right;\">  7.20468</td><td style=\"text-align: right;\">                   7.15 </td></tr>\n",
              "<tr><td style=\"text-align: right;\">  7.17336</td><td style=\"text-align: right;\">                   7    </td></tr>\n",
              "<tr><td style=\"text-align: right;\">  7.32891</td><td style=\"text-align: right;\">                   7.125</td></tr>\n",
              "<tr><td style=\"text-align: right;\">  6.99801</td><td style=\"text-align: right;\">                   8.75 </td></tr>\n",
              "<tr><td style=\"text-align: right;\">  6.93223</td><td style=\"text-align: right;\">                   6.5  </td></tr>\n",
              "<tr><td style=\"text-align: right;\">  7.05544</td><td style=\"text-align: right;\">                   7    </td></tr>\n",
              "<tr><td style=\"text-align: right;\">  7.19802</td><td style=\"text-align: right;\">                   7.25 </td></tr>\n",
              "</tbody>\n",
              "</table>"
            ]
          },
          "metadata": {
            "tags": []
          }
        },
        {
          "output_type": "execute_result",
          "data": {
            "text/plain": [
              ""
            ]
          },
          "metadata": {
            "tags": []
          },
          "execution_count": 31
        }
      ]
    },
    {
      "cell_type": "markdown",
      "metadata": {
        "id": "uoUss3HoqZcN"
      },
      "source": [
        "Out of the first ten predictions, most of them are very close to the actual values, with the exception of some predictions, such as the seventh prediction, which is 6.89, compared to the actual value which is 8.75. Because the RMSE is higher than the MAE, we can deduce that we have a couple of instances similar to the one mentioned above, because the larger errors are penalized more."
      ]
    },
    {
      "cell_type": "markdown",
      "metadata": {
        "id": "8ncHwCJqt_v_"
      },
      "source": [
        "### Task 6: H2O AutoML Classification in Flow"
      ]
    },
    {
      "cell_type": "markdown",
      "metadata": {
        "id": "lyQAEOu-wL-s"
      },
      "source": [
        "For colab notebook Flow is not available"
      ]
    },
    {
      "cell_type": "code",
      "metadata": {
        "id": "iTAGOx5-v5ng"
      },
      "source": [
        "# Import a file into flow\n",
        "# importFiles [\"https://s3.amazonaws.com/data.h2o.ai/DAI-Tutorials/loan_level_50k.csv\"]"
      ],
      "execution_count": 32,
      "outputs": []
    },
    {
      "cell_type": "markdown",
      "metadata": {
        "id": "0etj54GPY_Hb"
      },
      "source": [
        "### Task 7: H2O AutoML Regression in Flow"
      ]
    },
    {
      "cell_type": "markdown",
      "metadata": {
        "id": "-YwplfrIZEe-"
      },
      "source": [
        "Scroll up to the Assistance panel once again, and click on runAutoML. We will do something similar to what we just did in the previous task. In the AutoML settings, change Project Name to flow-automl-regression, for Training Frame choose train, for Response Column choose ORIGINAL_INTEREST_RATE, and choose test for the Leaderboard Frame."
      ]
    },
    {
      "cell_type": "markdown",
      "metadata": {
        "id": "VZNQRGxIzCLu"
      },
      "source": [
        "## Finally my badge\n",
        "https://bcert.me/bc/html/show-badge.html?b=upwnohpb\n",
        "![img](https://bcert.me/bc/html/img/badges/generated/badge-9209.png)\n"
      ]
    }
  ]
}