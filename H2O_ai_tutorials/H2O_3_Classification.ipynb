{
  "nbformat": 4,
  "nbformat_minor": 0,
  "metadata": {
    "colab": {
      "name": "H2O-3-Classification.ipynb",
      "provenance": []
    },
    "kernelspec": {
      "name": "python3",
      "display_name": "Python 3"
    },
    "language_info": {
      "name": "python"
    }
  },
  "cells": [
    {
      "cell_type": "markdown",
      "metadata": {
        "id": "WsSDNcS3J_Nj"
      },
      "source": [
        "![img](https://miro.medium.com/max/802/1*u7swL7CrX0UW_lIScu1eDQ.png)\n",
        "# 1A. Introduction to Machine Learning with H2O-3-Classification"
      ]
    },
    {
      "cell_type": "markdown",
      "metadata": {
        "id": "HqnpTgHgKFaU"
      },
      "source": [
        "## Installations"
      ]
    },
    {
      "cell_type": "code",
      "metadata": {
        "colab": {
          "base_uri": "https://localhost:8080/"
        },
        "id": "hlvdtBbTPtBZ",
        "outputId": "fa23261a-2d00-4119-e3ce-53217403ac1c"
      },
      "source": [
        "# installing java\n",
        "! apt-get install default-jre\n",
        "! java -version"
      ],
      "execution_count": 1,
      "outputs": [
        {
          "output_type": "stream",
          "text": [
            "Reading package lists... Done\n",
            "Building dependency tree       \n",
            "Reading state information... Done\n",
            "default-jre is already the newest version (2:1.11-68ubuntu1~18.04.1).\n",
            "default-jre set to manually installed.\n",
            "The following package was automatically installed and is no longer required:\n",
            "  libnvidia-common-460\n",
            "Use 'apt autoremove' to remove it.\n",
            "0 upgraded, 0 newly installed, 0 to remove and 34 not upgraded.\n",
            "openjdk version \"11.0.10\" 2021-01-19\n",
            "OpenJDK Runtime Environment (build 11.0.10+9-Ubuntu-0ubuntu1.18.04)\n",
            "OpenJDK 64-Bit Server VM (build 11.0.10+9-Ubuntu-0ubuntu1.18.04, mixed mode, sharing)\n"
          ],
          "name": "stdout"
        }
      ]
    },
    {
      "cell_type": "code",
      "metadata": {
        "colab": {
          "base_uri": "https://localhost:8080/"
        },
        "id": "s5zhKRVdPtJu",
        "outputId": "eccba533-fe36-499b-fa08-8e1242798d62"
      },
      "source": [
        "# install h2o\n",
        "! pip install h2o"
      ],
      "execution_count": 2,
      "outputs": [
        {
          "output_type": "stream",
          "text": [
            "Collecting h2o\n",
            "\u001b[?25l  Downloading https://files.pythonhosted.org/packages/56/ee/9a2c124bedad710b5e721641391b6a76783899e276dbee4ad2f2a7f71325/h2o-3.32.1.1.tar.gz (164.8MB)\n",
            "\u001b[K     |████████████████████████████████| 164.8MB 78kB/s \n",
            "\u001b[?25hRequirement already satisfied: requests in /usr/local/lib/python3.7/dist-packages (from h2o) (2.23.0)\n",
            "Requirement already satisfied: tabulate in /usr/local/lib/python3.7/dist-packages (from h2o) (0.8.9)\n",
            "Requirement already satisfied: future in /usr/local/lib/python3.7/dist-packages (from h2o) (0.16.0)\n",
            "Collecting colorama>=0.3.8\n",
            "  Downloading https://files.pythonhosted.org/packages/44/98/5b86278fbbf250d239ae0ecb724f8572af1c91f4a11edf4d36a206189440/colorama-0.4.4-py2.py3-none-any.whl\n",
            "Requirement already satisfied: idna<3,>=2.5 in /usr/local/lib/python3.7/dist-packages (from requests->h2o) (2.10)\n",
            "Requirement already satisfied: chardet<4,>=3.0.2 in /usr/local/lib/python3.7/dist-packages (from requests->h2o) (3.0.4)\n",
            "Requirement already satisfied: certifi>=2017.4.17 in /usr/local/lib/python3.7/dist-packages (from requests->h2o) (2020.12.5)\n",
            "Requirement already satisfied: urllib3!=1.25.0,!=1.25.1,<1.26,>=1.21.1 in /usr/local/lib/python3.7/dist-packages (from requests->h2o) (1.24.3)\n",
            "Building wheels for collected packages: h2o\n",
            "  Building wheel for h2o (setup.py) ... \u001b[?25l\u001b[?25hdone\n",
            "  Created wheel for h2o: filename=h2o-3.32.1.1-py2.py3-none-any.whl size=164840229 sha256=f9ad96d7d4a1bd819bf233d7d65094d43ee9c868751dd0efd48c7bc1e7ce6dd5\n",
            "  Stored in directory: /root/.cache/pip/wheels/4d/94/84/02ea21db1eebcef2da872861ce0db478788e27d24bcd5394fb\n",
            "Successfully built h2o\n",
            "Installing collected packages: colorama, h2o\n",
            "Successfully installed colorama-0.4.4 h2o-3.32.1.1\n"
          ],
          "name": "stdout"
        }
      ]
    },
    {
      "cell_type": "markdown",
      "metadata": {
        "id": "Pum8KTTUKKwb"
      },
      "source": [
        "## Init"
      ]
    },
    {
      "cell_type": "code",
      "metadata": {
        "id": "DDyMjqq1PKaK"
      },
      "source": [
        "import h2o\n",
        "from h2o.estimators import *\n",
        "from h2o.grid import *"
      ],
      "execution_count": 3,
      "outputs": []
    },
    {
      "cell_type": "code",
      "metadata": {
        "id": "GzK0WbQIPtNw"
      },
      "source": [
        "import os\n",
        "startup  = '/home/h2o/bin/aquarium_startup'\n",
        "shutdown = '/home/h2o/bin/aquarium_stop'\n",
        "\n",
        "if os.path.exists(startup):\n",
        "    os.system(startup)\n",
        "    local_url = 'http://localhost:54321/h2o'\n",
        "    aquarium = True\n",
        "else:\n",
        "    local_url = 'http://localhost:54321'\n",
        "    aquarium = False"
      ],
      "execution_count": 4,
      "outputs": []
    },
    {
      "cell_type": "code",
      "metadata": {
        "colab": {
          "base_uri": "https://localhost:8080/",
          "height": 510
        },
        "id": "w58uP7w2R3sm",
        "outputId": "e017f974-ea0c-4b1d-bd6a-6a97fa2ff953"
      },
      "source": [
        "h2o.init(url=local_url)"
      ],
      "execution_count": 5,
      "outputs": [
        {
          "output_type": "stream",
          "text": [
            "Checking whether there is an H2O instance running at http://localhost:54321 ..... not found.\n",
            "Attempting to start a local H2O server...\n",
            "  Java Version: openjdk version \"11.0.10\" 2021-01-19; OpenJDK Runtime Environment (build 11.0.10+9-Ubuntu-0ubuntu1.18.04); OpenJDK 64-Bit Server VM (build 11.0.10+9-Ubuntu-0ubuntu1.18.04, mixed mode, sharing)\n",
            "  Starting server from /usr/local/lib/python3.7/dist-packages/h2o/backend/bin/h2o.jar\n",
            "  Ice root: /tmp/tmpcp3gu0u6\n",
            "  JVM stdout: /tmp/tmpcp3gu0u6/h2o_unknownUser_started_from_python.out\n",
            "  JVM stderr: /tmp/tmpcp3gu0u6/h2o_unknownUser_started_from_python.err\n",
            "  Server is running at http://127.0.0.1:54321\n",
            "Connecting to H2O server at http://127.0.0.1:54321 ... successful.\n"
          ],
          "name": "stdout"
        },
        {
          "output_type": "display_data",
          "data": {
            "text/html": [
              "<div style=\"overflow:auto\"><table style=\"width:50%\"><tr><td>H2O_cluster_uptime:</td>\n",
              "<td>03 secs</td></tr>\n",
              "<tr><td>H2O_cluster_timezone:</td>\n",
              "<td>Etc/UTC</td></tr>\n",
              "<tr><td>H2O_data_parsing_timezone:</td>\n",
              "<td>UTC</td></tr>\n",
              "<tr><td>H2O_cluster_version:</td>\n",
              "<td>3.32.1.1</td></tr>\n",
              "<tr><td>H2O_cluster_version_age:</td>\n",
              "<td>1 month and 3 days </td></tr>\n",
              "<tr><td>H2O_cluster_name:</td>\n",
              "<td>H2O_from_python_unknownUser_39nrkx</td></tr>\n",
              "<tr><td>H2O_cluster_total_nodes:</td>\n",
              "<td>1</td></tr>\n",
              "<tr><td>H2O_cluster_free_memory:</td>\n",
              "<td>3.180 Gb</td></tr>\n",
              "<tr><td>H2O_cluster_total_cores:</td>\n",
              "<td>2</td></tr>\n",
              "<tr><td>H2O_cluster_allowed_cores:</td>\n",
              "<td>2</td></tr>\n",
              "<tr><td>H2O_cluster_status:</td>\n",
              "<td>accepting new members, healthy</td></tr>\n",
              "<tr><td>H2O_connection_url:</td>\n",
              "<td>http://127.0.0.1:54321</td></tr>\n",
              "<tr><td>H2O_connection_proxy:</td>\n",
              "<td>{\"http\": null, \"https\": null}</td></tr>\n",
              "<tr><td>H2O_internal_security:</td>\n",
              "<td>False</td></tr>\n",
              "<tr><td>H2O_API_Extensions:</td>\n",
              "<td>Amazon S3, XGBoost, Algos, AutoML, Core V3, TargetEncoder, Core V4</td></tr>\n",
              "<tr><td>Python_version:</td>\n",
              "<td>3.7.10 final</td></tr></table></div>"
            ],
            "text/plain": [
              "--------------------------  ------------------------------------------------------------------\n",
              "H2O_cluster_uptime:         03 secs\n",
              "H2O_cluster_timezone:       Etc/UTC\n",
              "H2O_data_parsing_timezone:  UTC\n",
              "H2O_cluster_version:        3.32.1.1\n",
              "H2O_cluster_version_age:    1 month and 3 days\n",
              "H2O_cluster_name:           H2O_from_python_unknownUser_39nrkx\n",
              "H2O_cluster_total_nodes:    1\n",
              "H2O_cluster_free_memory:    3.180 Gb\n",
              "H2O_cluster_total_cores:    2\n",
              "H2O_cluster_allowed_cores:  2\n",
              "H2O_cluster_status:         accepting new members, healthy\n",
              "H2O_connection_url:         http://127.0.0.1:54321\n",
              "H2O_connection_proxy:       {\"http\": null, \"https\": null}\n",
              "H2O_internal_security:      False\n",
              "H2O_API_Extensions:         Amazon S3, XGBoost, Algos, AutoML, Core V3, TargetEncoder, Core V4\n",
              "Python_version:             3.7.10 final\n",
              "--------------------------  ------------------------------------------------------------------"
            ]
          },
          "metadata": {
            "tags": []
          }
        }
      ]
    },
    {
      "cell_type": "code",
      "metadata": {
        "colab": {
          "base_uri": "https://localhost:8080/"
        },
        "id": "0OhULuD3R3_G",
        "outputId": "a41c6f38-42f0-4cbb-a71a-12b0fb93aca8"
      },
      "source": [
        "# Downloading the dataset from an AWS S3 instance\n",
        "loan_level = h2o.import_file(\"https://s3.amazonaws.com/data.h2o.ai/DAI-Tutorials/loan_level_500k.csv\")"
      ],
      "execution_count": 6,
      "outputs": [
        {
          "output_type": "stream",
          "text": [
            "Parse progress: |█████████████████████████████████████████████████████████| 100%\n"
          ],
          "name": "stdout"
        }
      ]
    },
    {
      "cell_type": "markdown",
      "metadata": {
        "id": "X3f4fCHhW3ld"
      },
      "source": [
        "# Some concepts"
      ]
    },
    {
      "cell_type": "markdown",
      "metadata": {
        "id": "rkz_U3THXB_0"
      },
      "source": [
        "### Supervised Learnign ► You use an algorithm to try to predict a function between your input and output.\n",
        "\n",
        "### Binary Classifier ► Model predicts in what two categories(classes) the elements of a given set belong to. (Confusion matrix: TN, FN, FP, TP).\n",
        "\n",
        "### Precision ► The ratio of correct positive predictions divided by the total number of positive predictions.\n",
        "\n",
        "### Recall ► Is a metric of the actual positive predictions. It tells us how many correct positive results occurred from all the positive samples available during the test of the model.\n",
        "\n",
        "### F1 Score ► Measurement of classification accuracy. It represents the harmonic average of precision and recall.\n",
        "\n",
        "### Accuracy ► Ratio of the number of correct predictions divided by the total number of predictions. In other words, it describes how well the model can correctly identify both the true positives and true negatives.\n",
        "\n",
        "### Log Loss ► used to evaluate the performance of a binomial or multinomial classifier. Unlike AUC, which looks at how well a model can classify a binary target, logloss evaluates how close a model's predicted values (uncalibrated probability estimates) are to the actual target value.\n",
        "\n",
        "### Cross-Validation ► Is a model validation technique in which you can check how well a statistical analysis or model, will perform on an independent dataset."
      ]
    },
    {
      "cell_type": "code",
      "metadata": {
        "id": "2El8eM3DR4Oe",
        "colab": {
          "base_uri": "https://localhost:8080/",
          "height": 0
        },
        "outputId": "e28eda0c-1205-494d-d334-303e3b22a95e"
      },
      "source": [
        "loan_level.head()"
      ],
      "execution_count": 7,
      "outputs": [
        {
          "output_type": "display_data",
          "data": {
            "text/html": [
              "<table>\n",
              "<thead>\n",
              "<tr><th style=\"text-align: right;\">  CREDIT_SCORE</th><th style=\"text-align: right;\">  FIRST_PAYMENT_DATE</th><th>FIRST_TIME_HOMEBUYER_FLAG  </th><th style=\"text-align: right;\">  MATURITY_DATE</th><th style=\"text-align: right;\">  METROPOLITAN_STATISTICAL_AREA</th><th style=\"text-align: right;\">  MORTGAGE_INSURANCE_PERCENTAGE</th><th style=\"text-align: right;\">  NUMBER_OF_UNITS</th><th>OCCUPANCY_STATUS  </th><th style=\"text-align: right;\">  ORIGINAL_COMBINED_LOAN_TO_VALUE</th><th style=\"text-align: right;\">  ORIGINAL_DEBT_TO_INCOME_RATIO</th><th style=\"text-align: right;\">  ORIGINAL_UPB</th><th style=\"text-align: right;\">  ORIGINAL_LOAN_TO_VALUE</th><th style=\"text-align: right;\">  ORIGINAL_INTEREST_RATE</th><th>CHANNEL  </th><th>PREPAYMENT_PENALTY_MORTGAGE_FLAG  </th><th>PRODUCT_TYPE  </th><th>PROPERTY_STATE  </th><th>PROPERTY_TYPE  </th><th style=\"text-align: right;\">  POSTAL_CODE</th><th>LOAN_SEQUENCE_NUMBER  </th><th>LOAN_PURPOSE  </th><th style=\"text-align: right;\">  ORIGINAL_LOAN_TERM</th><th style=\"text-align: right;\">  NUMBER_OF_BORROWERS</th><th>SELLER_NAME  </th><th>SERVICER_NAME  </th><th>PREPAID  </th><th>DELINQUENT  </th></tr>\n",
              "</thead>\n",
              "<tbody>\n",
              "<tr><td style=\"text-align: right;\">           669</td><td style=\"text-align: right;\">              200206</td><td>N                          </td><td style=\"text-align: right;\">         202901</td><td style=\"text-align: right;\">                            nan</td><td style=\"text-align: right;\">                              0</td><td style=\"text-align: right;\">                1</td><td>O                 </td><td style=\"text-align: right;\">                               80</td><td style=\"text-align: right;\">                             33</td><td style=\"text-align: right;\">        162000</td><td style=\"text-align: right;\">                      80</td><td style=\"text-align: right;\">                   7.12 </td><td>R        </td><td>N                                 </td><td>FRM           </td><td>WV              </td><td>SF             </td><td style=\"text-align: right;\">        26100</td><td>F199Q1000004          </td><td>P             </td><td style=\"text-align: right;\">                 320</td><td style=\"text-align: right;\">                    2</td><td>Other sellers</td><td>Other servicers</td><td>TRUE     </td><td>FALSE       </td></tr>\n",
              "<tr><td style=\"text-align: right;\">           732</td><td style=\"text-align: right;\">              199904</td><td>N                          </td><td style=\"text-align: right;\">         202903</td><td style=\"text-align: right;\">                          17140</td><td style=\"text-align: right;\">                              0</td><td style=\"text-align: right;\">                1</td><td>O                 </td><td style=\"text-align: right;\">                               25</td><td style=\"text-align: right;\">                             10</td><td style=\"text-align: right;\">         53000</td><td style=\"text-align: right;\">                      25</td><td style=\"text-align: right;\">                   6.5  </td><td>R        </td><td>N                                 </td><td>FRM           </td><td>OH              </td><td>SF             </td><td style=\"text-align: right;\">        45200</td><td>F199Q1000005          </td><td>N             </td><td style=\"text-align: right;\">                 360</td><td style=\"text-align: right;\">                    1</td><td>Other sellers</td><td>Other servicers</td><td>TRUE     </td><td>FALSE       </td></tr>\n",
              "<tr><td style=\"text-align: right;\">           679</td><td style=\"text-align: right;\">              200208</td><td>N                          </td><td style=\"text-align: right;\">         202902</td><td style=\"text-align: right;\">                          15940</td><td style=\"text-align: right;\">                             30</td><td style=\"text-align: right;\">                1</td><td>O                 </td><td style=\"text-align: right;\">                               91</td><td style=\"text-align: right;\">                             48</td><td style=\"text-align: right;\">        133000</td><td style=\"text-align: right;\">                      91</td><td style=\"text-align: right;\">                   6.75 </td><td>R        </td><td>N                                 </td><td>FRM           </td><td>OH              </td><td>SF             </td><td style=\"text-align: right;\">        44700</td><td>F199Q1000007          </td><td>P             </td><td style=\"text-align: right;\">                 319</td><td style=\"text-align: right;\">                    1</td><td>Other sellers</td><td>Other servicers</td><td>TRUE     </td><td>FALSE       </td></tr>\n",
              "<tr><td style=\"text-align: right;\">           721</td><td style=\"text-align: right;\">              200209</td><td>N                          </td><td style=\"text-align: right;\">         202902</td><td style=\"text-align: right;\">                          38060</td><td style=\"text-align: right;\">                              0</td><td style=\"text-align: right;\">                1</td><td>O                 </td><td style=\"text-align: right;\">                               39</td><td style=\"text-align: right;\">                             13</td><td style=\"text-align: right;\">        174000</td><td style=\"text-align: right;\">                      39</td><td style=\"text-align: right;\">                   6.625</td><td>T        </td><td>N                                 </td><td>FRM           </td><td>AZ              </td><td>SF             </td><td style=\"text-align: right;\">        85200</td><td>F199Q1000013          </td><td>N             </td><td style=\"text-align: right;\">                 318</td><td style=\"text-align: right;\">                    2</td><td>Other sellers</td><td>Other servicers</td><td>TRUE     </td><td>FALSE       </td></tr>\n",
              "<tr><td style=\"text-align: right;\">           618</td><td style=\"text-align: right;\">              200210</td><td>N                          </td><td style=\"text-align: right;\">         202902</td><td style=\"text-align: right;\">                          10420</td><td style=\"text-align: right;\">                             25</td><td style=\"text-align: right;\">                1</td><td>O                 </td><td style=\"text-align: right;\">                               85</td><td style=\"text-align: right;\">                             24</td><td style=\"text-align: right;\">        122000</td><td style=\"text-align: right;\">                      85</td><td style=\"text-align: right;\">                   6.375</td><td>R        </td><td>N                                 </td><td>FRM           </td><td>OH              </td><td>SF             </td><td style=\"text-align: right;\">        44200</td><td>F199Q1000015          </td><td>N             </td><td style=\"text-align: right;\">                 317</td><td style=\"text-align: right;\">                    2</td><td>Other sellers</td><td>Other servicers</td><td>TRUE     </td><td>FALSE       </td></tr>\n",
              "<tr><td style=\"text-align: right;\">           738</td><td style=\"text-align: right;\">              200211</td><td>N                          </td><td style=\"text-align: right;\">         202903</td><td style=\"text-align: right;\">                          10420</td><td style=\"text-align: right;\">                              0</td><td style=\"text-align: right;\">                1</td><td>O                 </td><td style=\"text-align: right;\">                               73</td><td style=\"text-align: right;\">                             44</td><td style=\"text-align: right;\">        218000</td><td style=\"text-align: right;\">                      73</td><td style=\"text-align: right;\">                   6    </td><td>R        </td><td>N                                 </td><td>FRM           </td><td>OH              </td><td>SF             </td><td style=\"text-align: right;\">        44300</td><td>F199Q1000016          </td><td>P             </td><td style=\"text-align: right;\">                 317</td><td style=\"text-align: right;\">                    2</td><td>Other sellers</td><td>Other servicers</td><td>TRUE     </td><td>FALSE       </td></tr>\n",
              "<tr><td style=\"text-align: right;\">           761</td><td style=\"text-align: right;\">              200211</td><td>N                          </td><td style=\"text-align: right;\">         202904</td><td style=\"text-align: right;\">                            nan</td><td style=\"text-align: right;\">                              0</td><td style=\"text-align: right;\">                1</td><td>O                 </td><td style=\"text-align: right;\">                               73</td><td style=\"text-align: right;\">                             31</td><td style=\"text-align: right;\">        138000</td><td style=\"text-align: right;\">                      73</td><td style=\"text-align: right;\">                   6.375</td><td>R        </td><td>N                                 </td><td>FRM           </td><td>SC              </td><td>PU             </td><td style=\"text-align: right;\">        29500</td><td>F199Q1000017          </td><td>P             </td><td style=\"text-align: right;\">                 318</td><td style=\"text-align: right;\">                    2</td><td>Other sellers</td><td>Other servicers</td><td>TRUE     </td><td>FALSE       </td></tr>\n",
              "<tr><td style=\"text-align: right;\">           707</td><td style=\"text-align: right;\">              200211</td><td>N                          </td><td style=\"text-align: right;\">         202903</td><td style=\"text-align: right;\">                          33340</td><td style=\"text-align: right;\">                              0</td><td style=\"text-align: right;\">                1</td><td>O                 </td><td style=\"text-align: right;\">                               60</td><td style=\"text-align: right;\">                             57</td><td style=\"text-align: right;\">        136000</td><td style=\"text-align: right;\">                      60</td><td style=\"text-align: right;\">                   6.25 </td><td>R        </td><td>N                                 </td><td>FRM           </td><td>WI              </td><td>SF             </td><td style=\"text-align: right;\">        53000</td><td>F199Q1000018          </td><td>C             </td><td style=\"text-align: right;\">                 317</td><td style=\"text-align: right;\">                    2</td><td>Other sellers</td><td>Other servicers</td><td>TRUE     </td><td>FALSE       </td></tr>\n",
              "<tr><td style=\"text-align: right;\">           760</td><td style=\"text-align: right;\">              200211</td><td>N                          </td><td style=\"text-align: right;\">         202903</td><td style=\"text-align: right;\">                          33340</td><td style=\"text-align: right;\">                              0</td><td style=\"text-align: right;\">                1</td><td>O                 </td><td style=\"text-align: right;\">                               63</td><td style=\"text-align: right;\">                             30</td><td style=\"text-align: right;\">         79000</td><td style=\"text-align: right;\">                      63</td><td style=\"text-align: right;\">                   6.125</td><td>R        </td><td>N                                 </td><td>FRM           </td><td>WI              </td><td>SF             </td><td style=\"text-align: right;\">        53000</td><td>F199Q1000019          </td><td>N             </td><td style=\"text-align: right;\">                 317</td><td style=\"text-align: right;\">                    2</td><td>Other sellers</td><td>Other servicers</td><td>TRUE     </td><td>FALSE       </td></tr>\n",
              "<tr><td style=\"text-align: right;\">           691</td><td style=\"text-align: right;\">              200302</td><td>N                          </td><td style=\"text-align: right;\">         202901</td><td style=\"text-align: right;\">                          15940</td><td style=\"text-align: right;\">                              0</td><td style=\"text-align: right;\">                1</td><td>O                 </td><td style=\"text-align: right;\">                               65</td><td style=\"text-align: right;\">                             25</td><td style=\"text-align: right;\">        130000</td><td style=\"text-align: right;\">                      65</td><td style=\"text-align: right;\">                   5.875</td><td>R        </td><td>N                                 </td><td>FRM           </td><td>OH              </td><td>SF             </td><td style=\"text-align: right;\">        44700</td><td>F199Q1000023          </td><td>P             </td><td style=\"text-align: right;\">                 312</td><td style=\"text-align: right;\">                    2</td><td>Other sellers</td><td>Other servicers</td><td>TRUE     </td><td>FALSE       </td></tr>\n",
              "</tbody>\n",
              "</table>"
            ]
          },
          "metadata": {
            "tags": []
          }
        },
        {
          "output_type": "execute_result",
          "data": {
            "text/plain": [
              ""
            ]
          },
          "metadata": {
            "tags": []
          },
          "execution_count": 7
        }
      ]
    },
    {
      "cell_type": "code",
      "metadata": {
        "colab": {
          "base_uri": "https://localhost:8080/",
          "height": 0
        },
        "id": "Gm20KnpuLl-M",
        "outputId": "ee40e197-7a10-424c-bd73-5cb4c69986c1"
      },
      "source": [
        "loan_level.describe()"
      ],
      "execution_count": 8,
      "outputs": [
        {
          "output_type": "stream",
          "text": [
            "Rows:500137\n",
            "Cols:27\n",
            "\n",
            "\n"
          ],
          "name": "stdout"
        },
        {
          "output_type": "display_data",
          "data": {
            "text/html": [
              "<table>\n",
              "<thead>\n",
              "<tr><th>       </th><th>CREDIT_SCORE     </th><th>FIRST_PAYMENT_DATE  </th><th>FIRST_TIME_HOMEBUYER_FLAG  </th><th>MATURITY_DATE     </th><th>METROPOLITAN_STATISTICAL_AREA  </th><th>MORTGAGE_INSURANCE_PERCENTAGE  </th><th>NUMBER_OF_UNITS    </th><th>OCCUPANCY_STATUS  </th><th>ORIGINAL_COMBINED_LOAN_TO_VALUE  </th><th>ORIGINAL_DEBT_TO_INCOME_RATIO  </th><th>ORIGINAL_UPB      </th><th>ORIGINAL_LOAN_TO_VALUE  </th><th>ORIGINAL_INTEREST_RATE  </th><th>CHANNEL  </th><th>PREPAYMENT_PENALTY_MORTGAGE_FLAG  </th><th>PRODUCT_TYPE  </th><th>PROPERTY_STATE  </th><th>PROPERTY_TYPE  </th><th>POSTAL_CODE      </th><th>LOAN_SEQUENCE_NUMBER  </th><th>LOAN_PURPOSE  </th><th>ORIGINAL_LOAN_TERM  </th><th>NUMBER_OF_BORROWERS  </th><th>SELLER_NAME  </th><th>SERVICER_NAME  </th><th>PREPAID  </th><th>DELINQUENT  </th></tr>\n",
              "</thead>\n",
              "<tbody>\n",
              "<tr><td>type   </td><td>int              </td><td>int                 </td><td>enum                       </td><td>int               </td><td>int                            </td><td>int                            </td><td>int                </td><td>enum              </td><td>int                              </td><td>int                            </td><td>int               </td><td>int                     </td><td>real                    </td><td>enum     </td><td>enum                              </td><td>enum          </td><td>enum            </td><td>enum           </td><td>int              </td><td>string                </td><td>enum          </td><td>int                 </td><td>int                  </td><td>enum         </td><td>enum           </td><td>enum     </td><td>enum        </td></tr>\n",
              "<tr><td>mins   </td><td>300.0            </td><td>199901.0            </td><td>                           </td><td>202402.0          </td><td>10180.0                        </td><td>0.0                            </td><td>1.0                </td><td>                  </td><td>6.0                              </td><td>1.0                            </td><td>8000.0            </td><td>6.0                     </td><td>4.625                   </td><td>         </td><td>                                  </td><td>              </td><td>                </td><td>               </td><td>600.0            </td><td>NaN                   </td><td>              </td><td>301.0               </td><td>1.0                  </td><td>             </td><td>               </td><td>         </td><td>            </td></tr>\n",
              "<tr><td>mean   </td><td>712.5362124215468</td><td>200025.43095191979  </td><td>                           </td><td>203023.1958723312 </td><td>30777.82473929504              </td><td>7.744531707523469              </td><td>1.0288902574110184 </td><td>                  </td><td>76.0535707144633                 </td><td>32.91754051870545              </td><td>136493.48478516805</td><td>75.71071405720141       </td><td>7.182686863799322       </td><td>         </td><td>                                  </td><td>              </td><td>                </td><td>               </td><td>55490.8571382869 </td><td>NaN                   </td><td>              </td><td>359.8554696013299   </td><td>1.6302946648262713   </td><td>             </td><td>               </td><td>         </td><td>            </td></tr>\n",
              "<tr><td>maxs   </td><td>839.0            </td><td>201103.0            </td><td>                           </td><td>204101.0          </td><td>49740.0                        </td><td>55.0                           </td><td>4.0                </td><td>                  </td><td>180.0                            </td><td>65.0                           </td><td>578000.0          </td><td>100.0                   </td><td>11.5                    </td><td>         </td><td>                                  </td><td>              </td><td>                </td><td>               </td><td>99900.0          </td><td>NaN                   </td><td>              </td><td>362.0               </td><td>2.0                  </td><td>             </td><td>               </td><td>         </td><td>            </td></tr>\n",
              "<tr><td>sigma  </td><td>54.79126197408813</td><td>109.81554141403225  </td><td>                           </td><td>110.38418855867243</td><td>11333.401144164478             </td><td>12.04654596949256              </td><td>0.21839057355939082</td><td>                  </td><td>15.139986048512673               </td><td>11.111799994455248             </td><td>60968.74306564561 </td><td>14.937717088968643      </td><td>0.5799408623980744      </td><td>         </td><td>                                  </td><td>              </td><td>                </td><td>               </td><td>29505.38225880303</td><td>NaN                   </td><td>              </td><td>1.9082507104186504  </td><td>0.48272535304031594  </td><td>             </td><td>               </td><td>         </td><td>            </td></tr>\n",
              "<tr><td>zeros  </td><td>0                </td><td>0                   </td><td>                           </td><td>0                 </td><td>0                              </td><td>309979                         </td><td>0                  </td><td>                  </td><td>0                                </td><td>0                              </td><td>0                 </td><td>0                       </td><td>0                       </td><td>         </td><td>                                  </td><td>              </td><td>                </td><td>               </td><td>0                </td><td>0                     </td><td>              </td><td>0                   </td><td>0                    </td><td>             </td><td>               </td><td>         </td><td>            </td></tr>\n",
              "<tr><td>missing</td><td>2711             </td><td>0                   </td><td>0                          </td><td>0                 </td><td>70149                          </td><td>51048                          </td><td>3                  </td><td>0                 </td><td>13                               </td><td>14929                          </td><td>0                 </td><td>9                       </td><td>0                       </td><td>0        </td><td>0                                 </td><td>0             </td><td>0               </td><td>0              </td><td>31               </td><td>0                     </td><td>0             </td><td>0                   </td><td>247                  </td><td>0            </td><td>0              </td><td>0        </td><td>0           </td></tr>\n",
              "<tr><td>0      </td><td>669.0            </td><td>200206.0            </td><td>N                          </td><td>202901.0          </td><td>nan                            </td><td>0.0                            </td><td>1.0                </td><td>O                 </td><td>80.0                             </td><td>33.0                           </td><td>162000.0          </td><td>80.0                    </td><td>7.12                    </td><td>R        </td><td>N                                 </td><td>FRM           </td><td>WV              </td><td>SF             </td><td>26100.0          </td><td>F199Q1000004          </td><td>P             </td><td>320.0               </td><td>2.0                  </td><td>Other sellers</td><td>Other servicers</td><td>TRUE     </td><td>FALSE       </td></tr>\n",
              "<tr><td>1      </td><td>732.0            </td><td>199904.0            </td><td>N                          </td><td>202903.0          </td><td>17140.0                        </td><td>0.0                            </td><td>1.0                </td><td>O                 </td><td>25.0                             </td><td>10.0                           </td><td>53000.0           </td><td>25.0                    </td><td>6.5                     </td><td>R        </td><td>N                                 </td><td>FRM           </td><td>OH              </td><td>SF             </td><td>45200.0          </td><td>F199Q1000005          </td><td>N             </td><td>360.0               </td><td>1.0                  </td><td>Other sellers</td><td>Other servicers</td><td>TRUE     </td><td>FALSE       </td></tr>\n",
              "<tr><td>2      </td><td>679.0            </td><td>200208.0            </td><td>N                          </td><td>202902.0          </td><td>15940.0                        </td><td>30.0                           </td><td>1.0                </td><td>O                 </td><td>91.0                             </td><td>48.0                           </td><td>133000.0          </td><td>91.0                    </td><td>6.75                    </td><td>R        </td><td>N                                 </td><td>FRM           </td><td>OH              </td><td>SF             </td><td>44700.0          </td><td>F199Q1000007          </td><td>P             </td><td>319.0               </td><td>1.0                  </td><td>Other sellers</td><td>Other servicers</td><td>TRUE     </td><td>FALSE       </td></tr>\n",
              "<tr><td>3      </td><td>721.0            </td><td>200209.0            </td><td>N                          </td><td>202902.0          </td><td>38060.0                        </td><td>0.0                            </td><td>1.0                </td><td>O                 </td><td>39.0                             </td><td>13.0                           </td><td>174000.0          </td><td>39.0                    </td><td>6.625                   </td><td>T        </td><td>N                                 </td><td>FRM           </td><td>AZ              </td><td>SF             </td><td>85200.0          </td><td>F199Q1000013          </td><td>N             </td><td>318.0               </td><td>2.0                  </td><td>Other sellers</td><td>Other servicers</td><td>TRUE     </td><td>FALSE       </td></tr>\n",
              "<tr><td>4      </td><td>618.0            </td><td>200210.0            </td><td>N                          </td><td>202902.0          </td><td>10420.0                        </td><td>25.0                           </td><td>1.0                </td><td>O                 </td><td>85.0                             </td><td>24.0                           </td><td>122000.0          </td><td>85.0                    </td><td>6.375                   </td><td>R        </td><td>N                                 </td><td>FRM           </td><td>OH              </td><td>SF             </td><td>44200.0          </td><td>F199Q1000015          </td><td>N             </td><td>317.0               </td><td>2.0                  </td><td>Other sellers</td><td>Other servicers</td><td>TRUE     </td><td>FALSE       </td></tr>\n",
              "<tr><td>5      </td><td>738.0            </td><td>200211.0            </td><td>N                          </td><td>202903.0          </td><td>10420.0                        </td><td>0.0                            </td><td>1.0                </td><td>O                 </td><td>73.0                             </td><td>44.0                           </td><td>218000.0          </td><td>73.0                    </td><td>6.0                     </td><td>R        </td><td>N                                 </td><td>FRM           </td><td>OH              </td><td>SF             </td><td>44300.0          </td><td>F199Q1000016          </td><td>P             </td><td>317.0               </td><td>2.0                  </td><td>Other sellers</td><td>Other servicers</td><td>TRUE     </td><td>FALSE       </td></tr>\n",
              "<tr><td>6      </td><td>761.0            </td><td>200211.0            </td><td>N                          </td><td>202904.0          </td><td>nan                            </td><td>0.0                            </td><td>1.0                </td><td>O                 </td><td>73.0                             </td><td>31.0                           </td><td>138000.0          </td><td>73.0                    </td><td>6.375                   </td><td>R        </td><td>N                                 </td><td>FRM           </td><td>SC              </td><td>PU             </td><td>29500.0          </td><td>F199Q1000017          </td><td>P             </td><td>318.0               </td><td>2.0                  </td><td>Other sellers</td><td>Other servicers</td><td>TRUE     </td><td>FALSE       </td></tr>\n",
              "<tr><td>7      </td><td>707.0            </td><td>200211.0            </td><td>N                          </td><td>202903.0          </td><td>33340.0                        </td><td>0.0                            </td><td>1.0                </td><td>O                 </td><td>60.0                             </td><td>57.0                           </td><td>136000.0          </td><td>60.0                    </td><td>6.25                    </td><td>R        </td><td>N                                 </td><td>FRM           </td><td>WI              </td><td>SF             </td><td>53000.0          </td><td>F199Q1000018          </td><td>C             </td><td>317.0               </td><td>2.0                  </td><td>Other sellers</td><td>Other servicers</td><td>TRUE     </td><td>FALSE       </td></tr>\n",
              "<tr><td>8      </td><td>760.0            </td><td>200211.0            </td><td>N                          </td><td>202903.0          </td><td>33340.0                        </td><td>0.0                            </td><td>1.0                </td><td>O                 </td><td>63.0                             </td><td>30.0                           </td><td>79000.0           </td><td>63.0                    </td><td>6.125                   </td><td>R        </td><td>N                                 </td><td>FRM           </td><td>WI              </td><td>SF             </td><td>53000.0          </td><td>F199Q1000019          </td><td>N             </td><td>317.0               </td><td>2.0                  </td><td>Other sellers</td><td>Other servicers</td><td>TRUE     </td><td>FALSE       </td></tr>\n",
              "<tr><td>9      </td><td>691.0            </td><td>200302.0            </td><td>N                          </td><td>202901.0          </td><td>15940.0                        </td><td>0.0                            </td><td>1.0                </td><td>O                 </td><td>65.0                             </td><td>25.0                           </td><td>130000.0          </td><td>65.0                    </td><td>5.875                   </td><td>R        </td><td>N                                 </td><td>FRM           </td><td>OH              </td><td>SF             </td><td>44700.0          </td><td>F199Q1000023          </td><td>P             </td><td>312.0               </td><td>2.0                  </td><td>Other sellers</td><td>Other servicers</td><td>TRUE     </td><td>FALSE       </td></tr>\n",
              "</tbody>\n",
              "</table>"
            ]
          },
          "metadata": {
            "tags": []
          }
        }
      ]
    },
    {
      "cell_type": "code",
      "metadata": {
        "colab": {
          "base_uri": "https://localhost:8080/"
        },
        "id": "qtuAsl4YMGTv",
        "outputId": "e6cc4745-1847-4366-d31a-42848bab1b5c"
      },
      "source": [
        "loan_level.columns"
      ],
      "execution_count": 9,
      "outputs": [
        {
          "output_type": "execute_result",
          "data": {
            "text/plain": [
              "['CREDIT_SCORE',\n",
              " 'FIRST_PAYMENT_DATE',\n",
              " 'FIRST_TIME_HOMEBUYER_FLAG',\n",
              " 'MATURITY_DATE',\n",
              " 'METROPOLITAN_STATISTICAL_AREA',\n",
              " 'MORTGAGE_INSURANCE_PERCENTAGE',\n",
              " 'NUMBER_OF_UNITS',\n",
              " 'OCCUPANCY_STATUS',\n",
              " 'ORIGINAL_COMBINED_LOAN_TO_VALUE',\n",
              " 'ORIGINAL_DEBT_TO_INCOME_RATIO',\n",
              " 'ORIGINAL_UPB',\n",
              " 'ORIGINAL_LOAN_TO_VALUE',\n",
              " 'ORIGINAL_INTEREST_RATE',\n",
              " 'CHANNEL',\n",
              " 'PREPAYMENT_PENALTY_MORTGAGE_FLAG',\n",
              " 'PRODUCT_TYPE',\n",
              " 'PROPERTY_STATE',\n",
              " 'PROPERTY_TYPE',\n",
              " 'POSTAL_CODE',\n",
              " 'LOAN_SEQUENCE_NUMBER',\n",
              " 'LOAN_PURPOSE',\n",
              " 'ORIGINAL_LOAN_TERM',\n",
              " 'NUMBER_OF_BORROWERS',\n",
              " 'SELLER_NAME',\n",
              " 'SERVICER_NAME',\n",
              " 'PREPAID',\n",
              " 'DELINQUENT']"
            ]
          },
          "metadata": {
            "tags": []
          },
          "execution_count": 9
        }
      ]
    },
    {
      "cell_type": "markdown",
      "metadata": {
        "id": "P9MIqhHJGEpk"
      },
      "source": [
        "### Start Experiment"
      ]
    },
    {
      "cell_type": "code",
      "metadata": {
        "colab": {
          "base_uri": "https://localhost:8080/",
          "height": 0
        },
        "id": "uj7MUsERLmSZ",
        "outputId": "0ef0a4f8-7272-45fe-a850-4c843923912c"
      },
      "source": [
        "# 3.6% of the samples in the dataset have been labeled as DELINQUENT.\n",
        "loan_level[\"DELINQUENT\"].table()"
      ],
      "execution_count": 10,
      "outputs": [
        {
          "output_type": "display_data",
          "data": {
            "text/html": [
              "<table>\n",
              "<thead>\n",
              "<tr><th>DELINQUENT  </th><th style=\"text-align: right;\">  Count</th></tr>\n",
              "</thead>\n",
              "<tbody>\n",
              "<tr><td>FALSE       </td><td style=\"text-align: right;\"> 482146</td></tr>\n",
              "<tr><td>TRUE        </td><td style=\"text-align: right;\">  17991</td></tr>\n",
              "</tbody>\n",
              "</table>"
            ]
          },
          "metadata": {
            "tags": []
          }
        },
        {
          "output_type": "execute_result",
          "data": {
            "text/plain": [
              ""
            ]
          },
          "metadata": {
            "tags": []
          },
          "execution_count": 10
        }
      ]
    },
    {
      "cell_type": "code",
      "metadata": {
        "id": "WU_0fvThLmbH"
      },
      "source": [
        "# Splitting data in 3 sets\n",
        "train, valid, test = loan_level.split_frame([0.7, 0.15], seed=42)"
      ],
      "execution_count": 11,
      "outputs": []
    },
    {
      "cell_type": "code",
      "metadata": {
        "colab": {
          "base_uri": "https://localhost:8080/"
        },
        "id": "2tRGVW0qMxL1",
        "outputId": "52d3f2da-df98-4e3d-f603-cfc0c501da66"
      },
      "source": [
        "print(\"train:%d valid:%d test:%d\" % (train.nrows, valid.nrows, test.nrows))"
      ],
      "execution_count": 12,
      "outputs": [
        {
          "output_type": "stream",
          "text": [
            "train:350268 valid:74971 test:74898\n"
          ],
          "name": "stdout"
        }
      ]
    },
    {
      "cell_type": "code",
      "metadata": {
        "colab": {
          "base_uri": "https://localhost:8080/"
        },
        "id": "VIKk0iizM-7A",
        "outputId": "c5cee992-883b-4361-e71d-74defce54178"
      },
      "source": [
        "# Defining the columns wich will be used\n",
        "y = \"DELINQUENT\"\n",
        "\n",
        "ignore = [\"DELINQUENT\", \"PREPAID\", \"PREPAYMENT_PENALTY_MORTGAGE_FLAG\", \"PRODUCT_TYPE\"] \n",
        "\n",
        "x = list(set(train.names) - set(ignore))\n",
        "\n",
        "print(x)"
      ],
      "execution_count": 13,
      "outputs": [
        {
          "output_type": "stream",
          "text": [
            "['NUMBER_OF_BORROWERS', 'ORIGINAL_INTEREST_RATE', 'PROPERTY_STATE', 'LOAN_SEQUENCE_NUMBER', 'ORIGINAL_COMBINED_LOAN_TO_VALUE', 'PROPERTY_TYPE', 'MATURITY_DATE', 'LOAN_PURPOSE', 'CHANNEL', 'ORIGINAL_LOAN_TERM', 'SERVICER_NAME', 'NUMBER_OF_UNITS', 'FIRST_PAYMENT_DATE', 'SELLER_NAME', 'CREDIT_SCORE', 'ORIGINAL_LOAN_TO_VALUE', 'ORIGINAL_UPB', 'MORTGAGE_INSURANCE_PERCENTAGE', 'OCCUPANCY_STATUS', 'POSTAL_CODE', 'METROPOLITAN_STATISTICAL_AREA', 'FIRST_TIME_HOMEBUYER_FLAG', 'ORIGINAL_DEBT_TO_INCOME_RATIO']\n"
          ],
          "name": "stdout"
        }
      ]
    },
    {
      "cell_type": "markdown",
      "metadata": {
        "id": "49X6CbYUGQzd"
      },
      "source": [
        "### Build a GLM\n",
        "\n",
        "H2O Generalized Linear Model (GLM). A GLM fits a generalized linear model, specified by a response variable, a set of predictors, and a description of the error distribution. Since we have a binomial classification problem, we have to specify the family, in this case, it will be binomial."
      ]
    },
    {
      "cell_type": "code",
      "metadata": {
        "id": "kW-x_q_UNZj3"
      },
      "source": [
        "# Initializing GLM estimator model\n",
        "glm = H2OGeneralizedLinearEstimator(family = \"binomial\", seed = 42, model_id = 'default_glm')"
      ],
      "execution_count": 14,
      "outputs": []
    },
    {
      "cell_type": "code",
      "metadata": {
        "colab": {
          "base_uri": "https://localhost:8080/"
        },
        "id": "f74bjcyPN4IP",
        "outputId": "e83de07a-9d1f-4fd2-af8b-cecd27e68f0e"
      },
      "source": [
        "# .train() function to train the model\n",
        "%time glm.train(x = x, y = y, training_frame = train, validation_frame = valid)"
      ],
      "execution_count": 15,
      "outputs": [
        {
          "output_type": "stream",
          "text": [
            "/usr/local/lib/python3.7/dist-packages/h2o/estimators/estimator_base.py:200: RuntimeWarning: Dropping bad and constant columns: [LOAN_SEQUENCE_NUMBER]\n",
            "  warnings.warn(mesg[\"message\"], RuntimeWarning)\n"
          ],
          "name": "stderr"
        },
        {
          "output_type": "stream",
          "text": [
            "glm Model Build progress: |███████████████████████████████████████████████| 100%\n",
            "CPU times: user 216 ms, sys: 13.7 ms, total: 230 ms\n",
            "Wall time: 7.42 s\n"
          ],
          "name": "stdout"
        }
      ]
    },
    {
      "cell_type": "code",
      "metadata": {
        "colab": {
          "base_uri": "https://localhost:8080/",
          "height": 1000
        },
        "id": "FePMCEjrOR-b",
        "outputId": "55ecd5e1-b841-41c4-beee-63a28b386cd6"
      },
      "source": [
        "# Complete model summary\n",
        "glm"
      ],
      "execution_count": 16,
      "outputs": [
        {
          "output_type": "stream",
          "text": [
            "Model Details\n",
            "=============\n",
            "H2OGeneralizedLinearEstimator :  Generalized Linear Modeling\n",
            "Model Key:  default_glm\n",
            "\n",
            "\n",
            "GLM Model: summary\n"
          ],
          "name": "stdout"
        },
        {
          "output_type": "display_data",
          "data": {
            "text/html": [
              "<div>\n",
              "<style scoped>\n",
              "    .dataframe tbody tr th:only-of-type {\n",
              "        vertical-align: middle;\n",
              "    }\n",
              "\n",
              "    .dataframe tbody tr th {\n",
              "        vertical-align: top;\n",
              "    }\n",
              "\n",
              "    .dataframe thead th {\n",
              "        text-align: right;\n",
              "    }\n",
              "</style>\n",
              "<table border=\"1\" class=\"dataframe\">\n",
              "  <thead>\n",
              "    <tr style=\"text-align: right;\">\n",
              "      <th></th>\n",
              "      <th></th>\n",
              "      <th>family</th>\n",
              "      <th>link</th>\n",
              "      <th>regularization</th>\n",
              "      <th>number_of_predictors_total</th>\n",
              "      <th>number_of_active_predictors</th>\n",
              "      <th>number_of_iterations</th>\n",
              "      <th>training_frame</th>\n",
              "    </tr>\n",
              "  </thead>\n",
              "  <tbody>\n",
              "    <tr>\n",
              "      <th>0</th>\n",
              "      <td></td>\n",
              "      <td>binomial</td>\n",
              "      <td>logit</td>\n",
              "      <td>Elastic Net (alpha = 0.5, lambda = 6.626E-5 )</td>\n",
              "      <td>161</td>\n",
              "      <td>88</td>\n",
              "      <td>7</td>\n",
              "      <td>py_4_sid_958d</td>\n",
              "    </tr>\n",
              "  </tbody>\n",
              "</table>\n",
              "</div>"
            ],
            "text/plain": [
              "       family  ... number_of_iterations training_frame\n",
              "0    binomial  ...                    7  py_4_sid_958d\n",
              "\n",
              "[1 rows x 8 columns]"
            ]
          },
          "metadata": {
            "tags": []
          }
        },
        {
          "output_type": "stream",
          "text": [
            "\n",
            "\n",
            "ModelMetricsBinomialGLM: glm\n",
            "** Reported on train data. **\n",
            "\n",
            "MSE: 0.031421719571328846\n",
            "RMSE: 0.1772617261885059\n",
            "LogLoss: 0.12328049878526559\n",
            "Null degrees of freedom: 350267\n",
            "Residual degrees of freedom: 350179\n",
            "Null deviance: 108932.13150369536\n",
            "Residual deviance: 86362.4274970348\n",
            "AIC: 86540.4274970348\n",
            "AUC: 0.8503523971011903\n",
            "AUCPR: 0.206633488178161\n",
            "Gini: 0.7007047942023805\n",
            "\n",
            "Confusion Matrix (Act/Pred) for max f1 @ threshold = 0.1282670025027246: \n"
          ],
          "name": "stdout"
        },
        {
          "output_type": "display_data",
          "data": {
            "text/html": [
              "<div>\n",
              "<style scoped>\n",
              "    .dataframe tbody tr th:only-of-type {\n",
              "        vertical-align: middle;\n",
              "    }\n",
              "\n",
              "    .dataframe tbody tr th {\n",
              "        vertical-align: top;\n",
              "    }\n",
              "\n",
              "    .dataframe thead th {\n",
              "        text-align: right;\n",
              "    }\n",
              "</style>\n",
              "<table border=\"1\" class=\"dataframe\">\n",
              "  <thead>\n",
              "    <tr style=\"text-align: right;\">\n",
              "      <th></th>\n",
              "      <th></th>\n",
              "      <th>FALSE</th>\n",
              "      <th>TRUE</th>\n",
              "      <th>Error</th>\n",
              "      <th>Rate</th>\n",
              "    </tr>\n",
              "  </thead>\n",
              "  <tbody>\n",
              "    <tr>\n",
              "      <th>0</th>\n",
              "      <td>FALSE</td>\n",
              "      <td>321986.0</td>\n",
              "      <td>15621.0</td>\n",
              "      <td>0.0463</td>\n",
              "      <td>(15621.0/337607.0)</td>\n",
              "    </tr>\n",
              "    <tr>\n",
              "      <th>1</th>\n",
              "      <td>TRUE</td>\n",
              "      <td>7882.0</td>\n",
              "      <td>4779.0</td>\n",
              "      <td>0.6225</td>\n",
              "      <td>(7882.0/12661.0)</td>\n",
              "    </tr>\n",
              "    <tr>\n",
              "      <th>2</th>\n",
              "      <td>Total</td>\n",
              "      <td>329868.0</td>\n",
              "      <td>20400.0</td>\n",
              "      <td>0.0671</td>\n",
              "      <td>(23503.0/350268.0)</td>\n",
              "    </tr>\n",
              "  </tbody>\n",
              "</table>\n",
              "</div>"
            ],
            "text/plain": [
              "             FALSE     TRUE   Error                 Rate\n",
              "0  FALSE  321986.0  15621.0  0.0463   (15621.0/337607.0)\n",
              "1   TRUE    7882.0   4779.0  0.6225     (7882.0/12661.0)\n",
              "2  Total  329868.0  20400.0  0.0671   (23503.0/350268.0)"
            ]
          },
          "metadata": {
            "tags": []
          }
        },
        {
          "output_type": "stream",
          "text": [
            "\n",
            "Maximum Metrics: Maximum metrics at their respective thresholds\n"
          ],
          "name": "stdout"
        },
        {
          "output_type": "display_data",
          "data": {
            "text/html": [
              "<div>\n",
              "<style scoped>\n",
              "    .dataframe tbody tr th:only-of-type {\n",
              "        vertical-align: middle;\n",
              "    }\n",
              "\n",
              "    .dataframe tbody tr th {\n",
              "        vertical-align: top;\n",
              "    }\n",
              "\n",
              "    .dataframe thead th {\n",
              "        text-align: right;\n",
              "    }\n",
              "</style>\n",
              "<table border=\"1\" class=\"dataframe\">\n",
              "  <thead>\n",
              "    <tr style=\"text-align: right;\">\n",
              "      <th></th>\n",
              "      <th>metric</th>\n",
              "      <th>threshold</th>\n",
              "      <th>value</th>\n",
              "      <th>idx</th>\n",
              "    </tr>\n",
              "  </thead>\n",
              "  <tbody>\n",
              "    <tr>\n",
              "      <th>0</th>\n",
              "      <td>max f1</td>\n",
              "      <td>0.128267</td>\n",
              "      <td>0.289102</td>\n",
              "      <td>207.0</td>\n",
              "    </tr>\n",
              "    <tr>\n",
              "      <th>1</th>\n",
              "      <td>max f2</td>\n",
              "      <td>0.066290</td>\n",
              "      <td>0.386470</td>\n",
              "      <td>266.0</td>\n",
              "    </tr>\n",
              "    <tr>\n",
              "      <th>2</th>\n",
              "      <td>max f0point5</td>\n",
              "      <td>0.216327</td>\n",
              "      <td>0.287980</td>\n",
              "      <td>151.0</td>\n",
              "    </tr>\n",
              "    <tr>\n",
              "      <th>3</th>\n",
              "      <td>max accuracy</td>\n",
              "      <td>0.975876</td>\n",
              "      <td>0.963851</td>\n",
              "      <td>0.0</td>\n",
              "    </tr>\n",
              "    <tr>\n",
              "      <th>4</th>\n",
              "      <td>max precision</td>\n",
              "      <td>0.554784</td>\n",
              "      <td>0.402597</td>\n",
              "      <td>44.0</td>\n",
              "    </tr>\n",
              "    <tr>\n",
              "      <th>5</th>\n",
              "      <td>max recall</td>\n",
              "      <td>0.000572</td>\n",
              "      <td>1.000000</td>\n",
              "      <td>399.0</td>\n",
              "    </tr>\n",
              "    <tr>\n",
              "      <th>6</th>\n",
              "      <td>max specificity</td>\n",
              "      <td>0.975876</td>\n",
              "      <td>0.999997</td>\n",
              "      <td>0.0</td>\n",
              "    </tr>\n",
              "    <tr>\n",
              "      <th>7</th>\n",
              "      <td>max absolute_mcc</td>\n",
              "      <td>0.108905</td>\n",
              "      <td>0.267492</td>\n",
              "      <td>222.0</td>\n",
              "    </tr>\n",
              "    <tr>\n",
              "      <th>8</th>\n",
              "      <td>max min_per_class_accuracy</td>\n",
              "      <td>0.039056</td>\n",
              "      <td>0.771557</td>\n",
              "      <td>307.0</td>\n",
              "    </tr>\n",
              "    <tr>\n",
              "      <th>9</th>\n",
              "      <td>max mean_per_class_accuracy</td>\n",
              "      <td>0.034489</td>\n",
              "      <td>0.774192</td>\n",
              "      <td>315.0</td>\n",
              "    </tr>\n",
              "    <tr>\n",
              "      <th>10</th>\n",
              "      <td>max tns</td>\n",
              "      <td>0.975876</td>\n",
              "      <td>337606.000000</td>\n",
              "      <td>0.0</td>\n",
              "    </tr>\n",
              "    <tr>\n",
              "      <th>11</th>\n",
              "      <td>max fns</td>\n",
              "      <td>0.975876</td>\n",
              "      <td>12661.000000</td>\n",
              "      <td>0.0</td>\n",
              "    </tr>\n",
              "    <tr>\n",
              "      <th>12</th>\n",
              "      <td>max fps</td>\n",
              "      <td>0.000572</td>\n",
              "      <td>337607.000000</td>\n",
              "      <td>399.0</td>\n",
              "    </tr>\n",
              "    <tr>\n",
              "      <th>13</th>\n",
              "      <td>max tps</td>\n",
              "      <td>0.000572</td>\n",
              "      <td>12661.000000</td>\n",
              "      <td>399.0</td>\n",
              "    </tr>\n",
              "    <tr>\n",
              "      <th>14</th>\n",
              "      <td>max tnr</td>\n",
              "      <td>0.975876</td>\n",
              "      <td>0.999997</td>\n",
              "      <td>0.0</td>\n",
              "    </tr>\n",
              "    <tr>\n",
              "      <th>15</th>\n",
              "      <td>max fnr</td>\n",
              "      <td>0.975876</td>\n",
              "      <td>1.000000</td>\n",
              "      <td>0.0</td>\n",
              "    </tr>\n",
              "    <tr>\n",
              "      <th>16</th>\n",
              "      <td>max fpr</td>\n",
              "      <td>0.000572</td>\n",
              "      <td>1.000000</td>\n",
              "      <td>399.0</td>\n",
              "    </tr>\n",
              "    <tr>\n",
              "      <th>17</th>\n",
              "      <td>max tpr</td>\n",
              "      <td>0.000572</td>\n",
              "      <td>1.000000</td>\n",
              "      <td>399.0</td>\n",
              "    </tr>\n",
              "  </tbody>\n",
              "</table>\n",
              "</div>"
            ],
            "text/plain": [
              "                         metric  threshold          value    idx\n",
              "0                        max f1   0.128267       0.289102  207.0\n",
              "1                        max f2   0.066290       0.386470  266.0\n",
              "2                  max f0point5   0.216327       0.287980  151.0\n",
              "3                  max accuracy   0.975876       0.963851    0.0\n",
              "4                 max precision   0.554784       0.402597   44.0\n",
              "5                    max recall   0.000572       1.000000  399.0\n",
              "6               max specificity   0.975876       0.999997    0.0\n",
              "7              max absolute_mcc   0.108905       0.267492  222.0\n",
              "8    max min_per_class_accuracy   0.039056       0.771557  307.0\n",
              "9   max mean_per_class_accuracy   0.034489       0.774192  315.0\n",
              "10                      max tns   0.975876  337606.000000    0.0\n",
              "11                      max fns   0.975876   12661.000000    0.0\n",
              "12                      max fps   0.000572  337607.000000  399.0\n",
              "13                      max tps   0.000572   12661.000000  399.0\n",
              "14                      max tnr   0.975876       0.999997    0.0\n",
              "15                      max fnr   0.975876       1.000000    0.0\n",
              "16                      max fpr   0.000572       1.000000  399.0\n",
              "17                      max tpr   0.000572       1.000000  399.0"
            ]
          },
          "metadata": {
            "tags": []
          }
        },
        {
          "output_type": "stream",
          "text": [
            "\n",
            "Gains/Lift Table: Avg response rate:  3.61 %, avg score:  3.61 %\n"
          ],
          "name": "stdout"
        },
        {
          "output_type": "display_data",
          "data": {
            "text/html": [
              "<div>\n",
              "<style scoped>\n",
              "    .dataframe tbody tr th:only-of-type {\n",
              "        vertical-align: middle;\n",
              "    }\n",
              "\n",
              "    .dataframe tbody tr th {\n",
              "        vertical-align: top;\n",
              "    }\n",
              "\n",
              "    .dataframe thead th {\n",
              "        text-align: right;\n",
              "    }\n",
              "</style>\n",
              "<table border=\"1\" class=\"dataframe\">\n",
              "  <thead>\n",
              "    <tr style=\"text-align: right;\">\n",
              "      <th></th>\n",
              "      <th>group</th>\n",
              "      <th>cumulative_data_fraction</th>\n",
              "      <th>lower_threshold</th>\n",
              "      <th>lift</th>\n",
              "      <th>cumulative_lift</th>\n",
              "      <th>response_rate</th>\n",
              "      <th>score</th>\n",
              "      <th>cumulative_response_rate</th>\n",
              "      <th>cumulative_score</th>\n",
              "      <th>capture_rate</th>\n",
              "      <th>cumulative_capture_rate</th>\n",
              "      <th>gain</th>\n",
              "      <th>cumulative_gain</th>\n",
              "      <th>kolmogorov_smirnov</th>\n",
              "    </tr>\n",
              "  </thead>\n",
              "  <tbody>\n",
              "    <tr>\n",
              "      <th>0</th>\n",
              "      <td>1</td>\n",
              "      <td>0.010001</td>\n",
              "      <td>0.315606</td>\n",
              "      <td>10.503740</td>\n",
              "      <td>10.503740</td>\n",
              "      <td>0.379675</td>\n",
              "      <td>0.447135</td>\n",
              "      <td>0.379675</td>\n",
              "      <td>0.447135</td>\n",
              "      <td>0.105047</td>\n",
              "      <td>0.105047</td>\n",
              "      <td>950.373986</td>\n",
              "      <td>950.373986</td>\n",
              "      <td>0.098611</td>\n",
              "    </tr>\n",
              "    <tr>\n",
              "      <th>1</th>\n",
              "      <td>2</td>\n",
              "      <td>0.020002</td>\n",
              "      <td>0.231615</td>\n",
              "      <td>7.763290</td>\n",
              "      <td>9.133515</td>\n",
              "      <td>0.280617</td>\n",
              "      <td>0.268426</td>\n",
              "      <td>0.330146</td>\n",
              "      <td>0.357781</td>\n",
              "      <td>0.077640</td>\n",
              "      <td>0.182687</td>\n",
              "      <td>676.329044</td>\n",
              "      <td>813.351515</td>\n",
              "      <td>0.168786</td>\n",
              "    </tr>\n",
              "    <tr>\n",
              "      <th>2</th>\n",
              "      <td>3</td>\n",
              "      <td>0.030003</td>\n",
              "      <td>0.189186</td>\n",
              "      <td>6.175883</td>\n",
              "      <td>8.147638</td>\n",
              "      <td>0.223237</td>\n",
              "      <td>0.209056</td>\n",
              "      <td>0.294509</td>\n",
              "      <td>0.308206</td>\n",
              "      <td>0.061764</td>\n",
              "      <td>0.244451</td>\n",
              "      <td>517.588314</td>\n",
              "      <td>714.763781</td>\n",
              "      <td>0.222491</td>\n",
              "    </tr>\n",
              "    <tr>\n",
              "      <th>3</th>\n",
              "      <td>4</td>\n",
              "      <td>0.040001</td>\n",
              "      <td>0.160763</td>\n",
              "      <td>5.340267</td>\n",
              "      <td>7.445946</td>\n",
              "      <td>0.193033</td>\n",
              "      <td>0.174289</td>\n",
              "      <td>0.269146</td>\n",
              "      <td>0.274734</td>\n",
              "      <td>0.053392</td>\n",
              "      <td>0.297844</td>\n",
              "      <td>434.026745</td>\n",
              "      <td>644.594550</td>\n",
              "      <td>0.267513</td>\n",
              "    </tr>\n",
              "    <tr>\n",
              "      <th>4</th>\n",
              "      <td>5</td>\n",
              "      <td>0.050002</td>\n",
              "      <td>0.140680</td>\n",
              "      <td>4.470013</td>\n",
              "      <td>6.850725</td>\n",
              "      <td>0.161576</td>\n",
              "      <td>0.150204</td>\n",
              "      <td>0.247630</td>\n",
              "      <td>0.249826</td>\n",
              "      <td>0.044704</td>\n",
              "      <td>0.342548</td>\n",
              "      <td>347.001260</td>\n",
              "      <td>585.072494</td>\n",
              "      <td>0.303517</td>\n",
              "    </tr>\n",
              "    <tr>\n",
              "      <th>5</th>\n",
              "      <td>6</td>\n",
              "      <td>0.100001</td>\n",
              "      <td>0.087297</td>\n",
              "      <td>3.363160</td>\n",
              "      <td>5.106992</td>\n",
              "      <td>0.121567</td>\n",
              "      <td>0.109556</td>\n",
              "      <td>0.184600</td>\n",
              "      <td>0.179693</td>\n",
              "      <td>0.168154</td>\n",
              "      <td>0.510702</td>\n",
              "      <td>236.316030</td>\n",
              "      <td>410.699240</td>\n",
              "      <td>0.426104</td>\n",
              "    </tr>\n",
              "    <tr>\n",
              "      <th>6</th>\n",
              "      <td>7</td>\n",
              "      <td>0.150002</td>\n",
              "      <td>0.062777</td>\n",
              "      <td>2.337808</td>\n",
              "      <td>4.183913</td>\n",
              "      <td>0.084504</td>\n",
              "      <td>0.073795</td>\n",
              "      <td>0.151234</td>\n",
              "      <td>0.144393</td>\n",
              "      <td>0.116894</td>\n",
              "      <td>0.627597</td>\n",
              "      <td>133.780791</td>\n",
              "      <td>318.391334</td>\n",
              "      <td>0.495505</td>\n",
              "    </tr>\n",
              "    <tr>\n",
              "      <th>7</th>\n",
              "      <td>8</td>\n",
              "      <td>0.200001</td>\n",
              "      <td>0.048144</td>\n",
              "      <td>1.679211</td>\n",
              "      <td>3.557756</td>\n",
              "      <td>0.060698</td>\n",
              "      <td>0.054923</td>\n",
              "      <td>0.128601</td>\n",
              "      <td>0.122026</td>\n",
              "      <td>0.083959</td>\n",
              "      <td>0.711555</td>\n",
              "      <td>67.921061</td>\n",
              "      <td>255.775553</td>\n",
              "      <td>0.530738</td>\n",
              "    </tr>\n",
              "    <tr>\n",
              "      <th>8</th>\n",
              "      <td>9</td>\n",
              "      <td>0.300002</td>\n",
              "      <td>0.031478</td>\n",
              "      <td>1.149192</td>\n",
              "      <td>2.754901</td>\n",
              "      <td>0.041539</td>\n",
              "      <td>0.038923</td>\n",
              "      <td>0.099580</td>\n",
              "      <td>0.094325</td>\n",
              "      <td>0.114920</td>\n",
              "      <td>0.826475</td>\n",
              "      <td>14.919176</td>\n",
              "      <td>175.490094</td>\n",
              "      <td>0.546217</td>\n",
              "    </tr>\n",
              "    <tr>\n",
              "      <th>9</th>\n",
              "      <td>10</td>\n",
              "      <td>0.399999</td>\n",
              "      <td>0.021718</td>\n",
              "      <td>0.625557</td>\n",
              "      <td>2.222576</td>\n",
              "      <td>0.022612</td>\n",
              "      <td>0.026218</td>\n",
              "      <td>0.080339</td>\n",
              "      <td>0.077298</td>\n",
              "      <td>0.062554</td>\n",
              "      <td>0.889029</td>\n",
              "      <td>-37.444271</td>\n",
              "      <td>122.257643</td>\n",
              "      <td>0.507370</td>\n",
              "    </tr>\n",
              "    <tr>\n",
              "      <th>10</th>\n",
              "      <td>11</td>\n",
              "      <td>0.500000</td>\n",
              "      <td>0.015305</td>\n",
              "      <td>0.417026</td>\n",
              "      <td>1.861464</td>\n",
              "      <td>0.015074</td>\n",
              "      <td>0.018302</td>\n",
              "      <td>0.067286</td>\n",
              "      <td>0.065499</td>\n",
              "      <td>0.041703</td>\n",
              "      <td>0.930732</td>\n",
              "      <td>-58.297371</td>\n",
              "      <td>86.146434</td>\n",
              "      <td>0.446886</td>\n",
              "    </tr>\n",
              "    <tr>\n",
              "      <th>11</th>\n",
              "      <td>12</td>\n",
              "      <td>0.600001</td>\n",
              "      <td>0.010849</td>\n",
              "      <td>0.290655</td>\n",
              "      <td>1.599661</td>\n",
              "      <td>0.010506</td>\n",
              "      <td>0.012959</td>\n",
              "      <td>0.057822</td>\n",
              "      <td>0.056742</td>\n",
              "      <td>0.029066</td>\n",
              "      <td>0.959798</td>\n",
              "      <td>-70.934531</td>\n",
              "      <td>59.966148</td>\n",
              "      <td>0.373290</td>\n",
              "    </tr>\n",
              "    <tr>\n",
              "      <th>12</th>\n",
              "      <td>13</td>\n",
              "      <td>0.699998</td>\n",
              "      <td>0.007534</td>\n",
              "      <td>0.193512</td>\n",
              "      <td>1.398787</td>\n",
              "      <td>0.006995</td>\n",
              "      <td>0.009110</td>\n",
              "      <td>0.050561</td>\n",
              "      <td>0.049938</td>\n",
              "      <td>0.019351</td>\n",
              "      <td>0.979149</td>\n",
              "      <td>-80.648796</td>\n",
              "      <td>39.878709</td>\n",
              "      <td>0.289619</td>\n",
              "    </tr>\n",
              "    <tr>\n",
              "      <th>13</th>\n",
              "      <td>14</td>\n",
              "      <td>0.799999</td>\n",
              "      <td>0.004970</td>\n",
              "      <td>0.109785</td>\n",
              "      <td>1.237661</td>\n",
              "      <td>0.003968</td>\n",
              "      <td>0.006210</td>\n",
              "      <td>0.044737</td>\n",
              "      <td>0.044472</td>\n",
              "      <td>0.010979</td>\n",
              "      <td>0.990127</td>\n",
              "      <td>-89.021467</td>\n",
              "      <td>23.766072</td>\n",
              "      <td>0.197259</td>\n",
              "    </tr>\n",
              "    <tr>\n",
              "      <th>14</th>\n",
              "      <td>15</td>\n",
              "      <td>0.899999</td>\n",
              "      <td>0.002843</td>\n",
              "      <td>0.063186</td>\n",
              "      <td>1.107163</td>\n",
              "      <td>0.002284</td>\n",
              "      <td>0.003883</td>\n",
              "      <td>0.040020</td>\n",
              "      <td>0.039962</td>\n",
              "      <td>0.006319</td>\n",
              "      <td>0.996446</td>\n",
              "      <td>-93.681420</td>\n",
              "      <td>10.716268</td>\n",
              "      <td>0.100063</td>\n",
              "    </tr>\n",
              "    <tr>\n",
              "      <th>15</th>\n",
              "      <td>16</td>\n",
              "      <td>1.000000</td>\n",
              "      <td>0.000103</td>\n",
              "      <td>0.035542</td>\n",
              "      <td>1.000000</td>\n",
              "      <td>0.001285</td>\n",
              "      <td>0.001771</td>\n",
              "      <td>0.036147</td>\n",
              "      <td>0.036143</td>\n",
              "      <td>0.003554</td>\n",
              "      <td>1.000000</td>\n",
              "      <td>-96.445799</td>\n",
              "      <td>0.000000</td>\n",
              "      <td>0.000000</td>\n",
              "    </tr>\n",
              "  </tbody>\n",
              "</table>\n",
              "</div>"
            ],
            "text/plain": [
              "    group  cumulative_data_fraction  ...  cumulative_gain  kolmogorov_smirnov\n",
              "0       1                  0.010001  ...       950.373986            0.098611\n",
              "1       2                  0.020002  ...       813.351515            0.168786\n",
              "2       3                  0.030003  ...       714.763781            0.222491\n",
              "3       4                  0.040001  ...       644.594550            0.267513\n",
              "4       5                  0.050002  ...       585.072494            0.303517\n",
              "5       6                  0.100001  ...       410.699240            0.426104\n",
              "6       7                  0.150002  ...       318.391334            0.495505\n",
              "7       8                  0.200001  ...       255.775553            0.530738\n",
              "8       9                  0.300002  ...       175.490094            0.546217\n",
              "9      10                  0.399999  ...       122.257643            0.507370\n",
              "10     11                  0.500000  ...        86.146434            0.446886\n",
              "11     12                  0.600001  ...        59.966148            0.373290\n",
              "12     13                  0.699998  ...        39.878709            0.289619\n",
              "13     14                  0.799999  ...        23.766072            0.197259\n",
              "14     15                  0.899999  ...        10.716268            0.100063\n",
              "15     16                  1.000000  ...         0.000000            0.000000\n",
              "\n",
              "[16 rows x 14 columns]"
            ]
          },
          "metadata": {
            "tags": []
          }
        },
        {
          "output_type": "stream",
          "text": [
            "\n",
            "\n",
            "ModelMetricsBinomialGLM: glm\n",
            "** Reported on validation data. **\n",
            "\n",
            "MSE: 0.03107511759141766\n",
            "RMSE: 0.17628135917168797\n",
            "LogLoss: 0.12274529844188314\n",
            "Null degrees of freedom: 74970\n",
            "Residual degrees of freedom: 74882\n",
            "Null deviance: 22974.597464485523\n",
            "Residual deviance: 18404.67553897284\n",
            "AIC: 18582.67553897284\n",
            "AUC: 0.8450464412102321\n",
            "AUCPR: 0.19801886666651378\n",
            "Gini: 0.6900928824204642\n",
            "\n",
            "Confusion Matrix (Act/Pred) for max f1 @ threshold = 0.12627867037192236: \n"
          ],
          "name": "stdout"
        },
        {
          "output_type": "display_data",
          "data": {
            "text/html": [
              "<div>\n",
              "<style scoped>\n",
              "    .dataframe tbody tr th:only-of-type {\n",
              "        vertical-align: middle;\n",
              "    }\n",
              "\n",
              "    .dataframe tbody tr th {\n",
              "        vertical-align: top;\n",
              "    }\n",
              "\n",
              "    .dataframe thead th {\n",
              "        text-align: right;\n",
              "    }\n",
              "</style>\n",
              "<table border=\"1\" class=\"dataframe\">\n",
              "  <thead>\n",
              "    <tr style=\"text-align: right;\">\n",
              "      <th></th>\n",
              "      <th></th>\n",
              "      <th>FALSE</th>\n",
              "      <th>TRUE</th>\n",
              "      <th>Error</th>\n",
              "      <th>Rate</th>\n",
              "    </tr>\n",
              "  </thead>\n",
              "  <tbody>\n",
              "    <tr>\n",
              "      <th>0</th>\n",
              "      <td>FALSE</td>\n",
              "      <td>68868.0</td>\n",
              "      <td>3445.0</td>\n",
              "      <td>0.0476</td>\n",
              "      <td>(3445.0/72313.0)</td>\n",
              "    </tr>\n",
              "    <tr>\n",
              "      <th>1</th>\n",
              "      <td>TRUE</td>\n",
              "      <td>1649.0</td>\n",
              "      <td>1009.0</td>\n",
              "      <td>0.6204</td>\n",
              "      <td>(1649.0/2658.0)</td>\n",
              "    </tr>\n",
              "    <tr>\n",
              "      <th>2</th>\n",
              "      <td>Total</td>\n",
              "      <td>70517.0</td>\n",
              "      <td>4454.0</td>\n",
              "      <td>0.0679</td>\n",
              "      <td>(5094.0/74971.0)</td>\n",
              "    </tr>\n",
              "  </tbody>\n",
              "</table>\n",
              "</div>"
            ],
            "text/plain": [
              "            FALSE    TRUE   Error               Rate\n",
              "0  FALSE  68868.0  3445.0  0.0476   (3445.0/72313.0)\n",
              "1   TRUE   1649.0  1009.0  0.6204    (1649.0/2658.0)\n",
              "2  Total  70517.0  4454.0  0.0679   (5094.0/74971.0)"
            ]
          },
          "metadata": {
            "tags": []
          }
        },
        {
          "output_type": "stream",
          "text": [
            "\n",
            "Maximum Metrics: Maximum metrics at their respective thresholds\n"
          ],
          "name": "stdout"
        },
        {
          "output_type": "display_data",
          "data": {
            "text/html": [
              "<div>\n",
              "<style scoped>\n",
              "    .dataframe tbody tr th:only-of-type {\n",
              "        vertical-align: middle;\n",
              "    }\n",
              "\n",
              "    .dataframe tbody tr th {\n",
              "        vertical-align: top;\n",
              "    }\n",
              "\n",
              "    .dataframe thead th {\n",
              "        text-align: right;\n",
              "    }\n",
              "</style>\n",
              "<table border=\"1\" class=\"dataframe\">\n",
              "  <thead>\n",
              "    <tr style=\"text-align: right;\">\n",
              "      <th></th>\n",
              "      <th>metric</th>\n",
              "      <th>threshold</th>\n",
              "      <th>value</th>\n",
              "      <th>idx</th>\n",
              "    </tr>\n",
              "  </thead>\n",
              "  <tbody>\n",
              "    <tr>\n",
              "      <th>0</th>\n",
              "      <td>max f1</td>\n",
              "      <td>0.126279</td>\n",
              "      <td>0.283746</td>\n",
              "      <td>201.0</td>\n",
              "    </tr>\n",
              "    <tr>\n",
              "      <th>1</th>\n",
              "      <td>max f2</td>\n",
              "      <td>0.062995</td>\n",
              "      <td>0.373455</td>\n",
              "      <td>264.0</td>\n",
              "    </tr>\n",
              "    <tr>\n",
              "      <th>2</th>\n",
              "      <td>max f0point5</td>\n",
              "      <td>0.229837</td>\n",
              "      <td>0.290515</td>\n",
              "      <td>135.0</td>\n",
              "    </tr>\n",
              "    <tr>\n",
              "      <th>3</th>\n",
              "      <td>max accuracy</td>\n",
              "      <td>0.964445</td>\n",
              "      <td>0.964533</td>\n",
              "      <td>0.0</td>\n",
              "    </tr>\n",
              "    <tr>\n",
              "      <th>4</th>\n",
              "      <td>max precision</td>\n",
              "      <td>0.395160</td>\n",
              "      <td>0.398104</td>\n",
              "      <td>76.0</td>\n",
              "    </tr>\n",
              "    <tr>\n",
              "      <th>5</th>\n",
              "      <td>max recall</td>\n",
              "      <td>0.000762</td>\n",
              "      <td>1.000000</td>\n",
              "      <td>398.0</td>\n",
              "    </tr>\n",
              "    <tr>\n",
              "      <th>6</th>\n",
              "      <td>max specificity</td>\n",
              "      <td>0.964445</td>\n",
              "      <td>0.999986</td>\n",
              "      <td>0.0</td>\n",
              "    </tr>\n",
              "    <tr>\n",
              "      <th>7</th>\n",
              "      <td>max absolute_mcc</td>\n",
              "      <td>0.123640</td>\n",
              "      <td>0.260018</td>\n",
              "      <td>204.0</td>\n",
              "    </tr>\n",
              "    <tr>\n",
              "      <th>8</th>\n",
              "      <td>max min_per_class_accuracy</td>\n",
              "      <td>0.038583</td>\n",
              "      <td>0.766742</td>\n",
              "      <td>300.0</td>\n",
              "    </tr>\n",
              "    <tr>\n",
              "      <th>9</th>\n",
              "      <td>max mean_per_class_accuracy</td>\n",
              "      <td>0.032769</td>\n",
              "      <td>0.767428</td>\n",
              "      <td>311.0</td>\n",
              "    </tr>\n",
              "    <tr>\n",
              "      <th>10</th>\n",
              "      <td>max tns</td>\n",
              "      <td>0.964445</td>\n",
              "      <td>72312.000000</td>\n",
              "      <td>0.0</td>\n",
              "    </tr>\n",
              "    <tr>\n",
              "      <th>11</th>\n",
              "      <td>max fns</td>\n",
              "      <td>0.964445</td>\n",
              "      <td>2658.000000</td>\n",
              "      <td>0.0</td>\n",
              "    </tr>\n",
              "    <tr>\n",
              "      <th>12</th>\n",
              "      <td>max fps</td>\n",
              "      <td>0.000495</td>\n",
              "      <td>72313.000000</td>\n",
              "      <td>399.0</td>\n",
              "    </tr>\n",
              "    <tr>\n",
              "      <th>13</th>\n",
              "      <td>max tps</td>\n",
              "      <td>0.000762</td>\n",
              "      <td>2658.000000</td>\n",
              "      <td>398.0</td>\n",
              "    </tr>\n",
              "    <tr>\n",
              "      <th>14</th>\n",
              "      <td>max tnr</td>\n",
              "      <td>0.964445</td>\n",
              "      <td>0.999986</td>\n",
              "      <td>0.0</td>\n",
              "    </tr>\n",
              "    <tr>\n",
              "      <th>15</th>\n",
              "      <td>max fnr</td>\n",
              "      <td>0.964445</td>\n",
              "      <td>1.000000</td>\n",
              "      <td>0.0</td>\n",
              "    </tr>\n",
              "    <tr>\n",
              "      <th>16</th>\n",
              "      <td>max fpr</td>\n",
              "      <td>0.000495</td>\n",
              "      <td>1.000000</td>\n",
              "      <td>399.0</td>\n",
              "    </tr>\n",
              "    <tr>\n",
              "      <th>17</th>\n",
              "      <td>max tpr</td>\n",
              "      <td>0.000762</td>\n",
              "      <td>1.000000</td>\n",
              "      <td>398.0</td>\n",
              "    </tr>\n",
              "  </tbody>\n",
              "</table>\n",
              "</div>"
            ],
            "text/plain": [
              "                         metric  threshold         value    idx\n",
              "0                        max f1   0.126279      0.283746  201.0\n",
              "1                        max f2   0.062995      0.373455  264.0\n",
              "2                  max f0point5   0.229837      0.290515  135.0\n",
              "3                  max accuracy   0.964445      0.964533    0.0\n",
              "4                 max precision   0.395160      0.398104   76.0\n",
              "5                    max recall   0.000762      1.000000  398.0\n",
              "6               max specificity   0.964445      0.999986    0.0\n",
              "7              max absolute_mcc   0.123640      0.260018  204.0\n",
              "8    max min_per_class_accuracy   0.038583      0.766742  300.0\n",
              "9   max mean_per_class_accuracy   0.032769      0.767428  311.0\n",
              "10                      max tns   0.964445  72312.000000    0.0\n",
              "11                      max fns   0.964445   2658.000000    0.0\n",
              "12                      max fps   0.000495  72313.000000  399.0\n",
              "13                      max tps   0.000762   2658.000000  398.0\n",
              "14                      max tnr   0.964445      0.999986    0.0\n",
              "15                      max fnr   0.964445      1.000000    0.0\n",
              "16                      max fpr   0.000495      1.000000  399.0\n",
              "17                      max tpr   0.000762      1.000000  398.0"
            ]
          },
          "metadata": {
            "tags": []
          }
        },
        {
          "output_type": "stream",
          "text": [
            "\n",
            "Gains/Lift Table: Avg response rate:  3.55 %, avg score:  3.62 %\n"
          ],
          "name": "stdout"
        },
        {
          "output_type": "display_data",
          "data": {
            "text/html": [
              "<div>\n",
              "<style scoped>\n",
              "    .dataframe tbody tr th:only-of-type {\n",
              "        vertical-align: middle;\n",
              "    }\n",
              "\n",
              "    .dataframe tbody tr th {\n",
              "        vertical-align: top;\n",
              "    }\n",
              "\n",
              "    .dataframe thead th {\n",
              "        text-align: right;\n",
              "    }\n",
              "</style>\n",
              "<table border=\"1\" class=\"dataframe\">\n",
              "  <thead>\n",
              "    <tr style=\"text-align: right;\">\n",
              "      <th></th>\n",
              "      <th>group</th>\n",
              "      <th>cumulative_data_fraction</th>\n",
              "      <th>lower_threshold</th>\n",
              "      <th>lift</th>\n",
              "      <th>cumulative_lift</th>\n",
              "      <th>response_rate</th>\n",
              "      <th>score</th>\n",
              "      <th>cumulative_response_rate</th>\n",
              "      <th>cumulative_score</th>\n",
              "      <th>capture_rate</th>\n",
              "      <th>cumulative_capture_rate</th>\n",
              "      <th>gain</th>\n",
              "      <th>cumulative_gain</th>\n",
              "      <th>kolmogorov_smirnov</th>\n",
              "    </tr>\n",
              "  </thead>\n",
              "  <tbody>\n",
              "    <tr>\n",
              "      <th>0</th>\n",
              "      <td>1</td>\n",
              "      <td>0.010004</td>\n",
              "      <td>0.317794</td>\n",
              "      <td>10.417340</td>\n",
              "      <td>10.417340</td>\n",
              "      <td>0.369333</td>\n",
              "      <td>0.455618</td>\n",
              "      <td>0.369333</td>\n",
              "      <td>0.455618</td>\n",
              "      <td>0.104214</td>\n",
              "      <td>0.104214</td>\n",
              "      <td>941.733985</td>\n",
              "      <td>941.733985</td>\n",
              "      <td>0.097673</td>\n",
              "    </tr>\n",
              "    <tr>\n",
              "      <th>1</th>\n",
              "      <td>2</td>\n",
              "      <td>0.020008</td>\n",
              "      <td>0.234316</td>\n",
              "      <td>8.273700</td>\n",
              "      <td>9.345520</td>\n",
              "      <td>0.293333</td>\n",
              "      <td>0.270835</td>\n",
              "      <td>0.331333</td>\n",
              "      <td>0.363227</td>\n",
              "      <td>0.082769</td>\n",
              "      <td>0.186983</td>\n",
              "      <td>727.369952</td>\n",
              "      <td>834.551969</td>\n",
              "      <td>0.173112</td>\n",
              "    </tr>\n",
              "    <tr>\n",
              "      <th>2</th>\n",
              "      <td>3</td>\n",
              "      <td>0.030012</td>\n",
              "      <td>0.187723</td>\n",
              "      <td>6.430921</td>\n",
              "      <td>8.373987</td>\n",
              "      <td>0.228000</td>\n",
              "      <td>0.208398</td>\n",
              "      <td>0.296889</td>\n",
              "      <td>0.311617</td>\n",
              "      <td>0.064334</td>\n",
              "      <td>0.251317</td>\n",
              "      <td>543.092099</td>\n",
              "      <td>737.398679</td>\n",
              "      <td>0.229440</td>\n",
              "    </tr>\n",
              "    <tr>\n",
              "      <th>3</th>\n",
              "      <td>4</td>\n",
              "      <td>0.040002</td>\n",
              "      <td>0.159223</td>\n",
              "      <td>4.481294</td>\n",
              "      <td>7.401787</td>\n",
              "      <td>0.158879</td>\n",
              "      <td>0.172164</td>\n",
              "      <td>0.262421</td>\n",
              "      <td>0.276789</td>\n",
              "      <td>0.044771</td>\n",
              "      <td>0.296087</td>\n",
              "      <td>348.129435</td>\n",
              "      <td>640.178718</td>\n",
              "      <td>0.265498</td>\n",
              "    </tr>\n",
              "    <tr>\n",
              "      <th>4</th>\n",
              "      <td>5</td>\n",
              "      <td>0.050006</td>\n",
              "      <td>0.139193</td>\n",
              "      <td>4.287281</td>\n",
              "      <td>6.778720</td>\n",
              "      <td>0.152000</td>\n",
              "      <td>0.149074</td>\n",
              "      <td>0.240331</td>\n",
              "      <td>0.251239</td>\n",
              "      <td>0.042889</td>\n",
              "      <td>0.338977</td>\n",
              "      <td>328.728066</td>\n",
              "      <td>577.871972</td>\n",
              "      <td>0.299592</td>\n",
              "    </tr>\n",
              "    <tr>\n",
              "      <th>5</th>\n",
              "      <td>6</td>\n",
              "      <td>0.100012</td>\n",
              "      <td>0.087251</td>\n",
              "      <td>3.197509</td>\n",
              "      <td>4.988115</td>\n",
              "      <td>0.113364</td>\n",
              "      <td>0.109587</td>\n",
              "      <td>0.176847</td>\n",
              "      <td>0.180413</td>\n",
              "      <td>0.159895</td>\n",
              "      <td>0.498871</td>\n",
              "      <td>219.750930</td>\n",
              "      <td>398.811451</td>\n",
              "      <td>0.413520</td>\n",
              "    </tr>\n",
              "    <tr>\n",
              "      <th>6</th>\n",
              "      <td>7</td>\n",
              "      <td>0.150005</td>\n",
              "      <td>0.062508</td>\n",
              "      <td>2.325398</td>\n",
              "      <td>4.100700</td>\n",
              "      <td>0.082444</td>\n",
              "      <td>0.073822</td>\n",
              "      <td>0.145385</td>\n",
              "      <td>0.144889</td>\n",
              "      <td>0.116253</td>\n",
              "      <td>0.615124</td>\n",
              "      <td>132.539762</td>\n",
              "      <td>310.070006</td>\n",
              "      <td>0.482216</td>\n",
              "    </tr>\n",
              "    <tr>\n",
              "      <th>7</th>\n",
              "      <td>8</td>\n",
              "      <td>0.200011</td>\n",
              "      <td>0.048269</td>\n",
              "      <td>1.722893</td>\n",
              "      <td>3.506209</td>\n",
              "      <td>0.061083</td>\n",
              "      <td>0.054932</td>\n",
              "      <td>0.124308</td>\n",
              "      <td>0.122398</td>\n",
              "      <td>0.086155</td>\n",
              "      <td>0.701279</td>\n",
              "      <td>72.289325</td>\n",
              "      <td>250.620872</td>\n",
              "      <td>0.519694</td>\n",
              "    </tr>\n",
              "    <tr>\n",
              "      <th>8</th>\n",
              "      <td>9</td>\n",
              "      <td>0.300009</td>\n",
              "      <td>0.031184</td>\n",
              "      <td>1.124921</td>\n",
              "      <td>2.712481</td>\n",
              "      <td>0.039883</td>\n",
              "      <td>0.038895</td>\n",
              "      <td>0.096168</td>\n",
              "      <td>0.094565</td>\n",
              "      <td>0.112491</td>\n",
              "      <td>0.813770</td>\n",
              "      <td>12.492095</td>\n",
              "      <td>171.248142</td>\n",
              "      <td>0.532645</td>\n",
              "    </tr>\n",
              "    <tr>\n",
              "      <th>9</th>\n",
              "      <td>10</td>\n",
              "      <td>0.400008</td>\n",
              "      <td>0.021592</td>\n",
              "      <td>0.665923</td>\n",
              "      <td>2.200859</td>\n",
              "      <td>0.023609</td>\n",
              "      <td>0.026053</td>\n",
              "      <td>0.078029</td>\n",
              "      <td>0.077438</td>\n",
              "      <td>0.066591</td>\n",
              "      <td>0.880361</td>\n",
              "      <td>-33.407690</td>\n",
              "      <td>120.085890</td>\n",
              "      <td>0.498009</td>\n",
              "    </tr>\n",
              "    <tr>\n",
              "      <th>10</th>\n",
              "      <td>11</td>\n",
              "      <td>0.500007</td>\n",
              "      <td>0.015227</td>\n",
              "      <td>0.470285</td>\n",
              "      <td>1.854753</td>\n",
              "      <td>0.016673</td>\n",
              "      <td>0.018210</td>\n",
              "      <td>0.065758</td>\n",
              "      <td>0.065592</td>\n",
              "      <td>0.047028</td>\n",
              "      <td>0.927389</td>\n",
              "      <td>-52.971532</td>\n",
              "      <td>85.475329</td>\n",
              "      <td>0.443092</td>\n",
              "    </tr>\n",
              "    <tr>\n",
              "      <th>11</th>\n",
              "      <td>12</td>\n",
              "      <td>0.600005</td>\n",
              "      <td>0.010764</td>\n",
              "      <td>0.331080</td>\n",
              "      <td>1.600813</td>\n",
              "      <td>0.011738</td>\n",
              "      <td>0.012873</td>\n",
              "      <td>0.056755</td>\n",
              "      <td>0.056806</td>\n",
              "      <td>0.033108</td>\n",
              "      <td>0.960497</td>\n",
              "      <td>-66.891959</td>\n",
              "      <td>60.081346</td>\n",
              "      <td>0.373742</td>\n",
              "    </tr>\n",
              "    <tr>\n",
              "      <th>12</th>\n",
              "      <td>13</td>\n",
              "      <td>0.700004</td>\n",
              "      <td>0.007518</td>\n",
              "      <td>0.158016</td>\n",
              "      <td>1.394703</td>\n",
              "      <td>0.005602</td>\n",
              "      <td>0.009061</td>\n",
              "      <td>0.049447</td>\n",
              "      <td>0.049985</td>\n",
              "      <td>0.015801</td>\n",
              "      <td>0.976298</td>\n",
              "      <td>-84.198435</td>\n",
              "      <td>39.470341</td>\n",
              "      <td>0.286450</td>\n",
              "    </tr>\n",
              "    <tr>\n",
              "      <th>13</th>\n",
              "      <td>14</td>\n",
              "      <td>0.800003</td>\n",
              "      <td>0.004933</td>\n",
              "      <td>0.142967</td>\n",
              "      <td>1.238239</td>\n",
              "      <td>0.005069</td>\n",
              "      <td>0.006183</td>\n",
              "      <td>0.043900</td>\n",
              "      <td>0.044510</td>\n",
              "      <td>0.014296</td>\n",
              "      <td>0.990594</td>\n",
              "      <td>-85.703346</td>\n",
              "      <td>23.823891</td>\n",
              "      <td>0.197597</td>\n",
              "    </tr>\n",
              "    <tr>\n",
              "      <th>14</th>\n",
              "      <td>15</td>\n",
              "      <td>0.900001</td>\n",
              "      <td>0.002824</td>\n",
              "      <td>0.045147</td>\n",
              "      <td>1.105675</td>\n",
              "      <td>0.001601</td>\n",
              "      <td>0.003837</td>\n",
              "      <td>0.039200</td>\n",
              "      <td>0.039991</td>\n",
              "      <td>0.004515</td>\n",
              "      <td>0.995109</td>\n",
              "      <td>-95.485267</td>\n",
              "      <td>10.567514</td>\n",
              "      <td>0.098604</td>\n",
              "    </tr>\n",
              "    <tr>\n",
              "      <th>15</th>\n",
              "      <td>16</td>\n",
              "      <td>1.000000</td>\n",
              "      <td>0.000123</td>\n",
              "      <td>0.048910</td>\n",
              "      <td>1.000000</td>\n",
              "      <td>0.001734</td>\n",
              "      <td>0.001748</td>\n",
              "      <td>0.035454</td>\n",
              "      <td>0.036167</td>\n",
              "      <td>0.004891</td>\n",
              "      <td>1.000000</td>\n",
              "      <td>-95.109039</td>\n",
              "      <td>0.000000</td>\n",
              "      <td>0.000000</td>\n",
              "    </tr>\n",
              "  </tbody>\n",
              "</table>\n",
              "</div>"
            ],
            "text/plain": [
              "    group  cumulative_data_fraction  ...  cumulative_gain  kolmogorov_smirnov\n",
              "0       1                  0.010004  ...       941.733985            0.097673\n",
              "1       2                  0.020008  ...       834.551969            0.173112\n",
              "2       3                  0.030012  ...       737.398679            0.229440\n",
              "3       4                  0.040002  ...       640.178718            0.265498\n",
              "4       5                  0.050006  ...       577.871972            0.299592\n",
              "5       6                  0.100012  ...       398.811451            0.413520\n",
              "6       7                  0.150005  ...       310.070006            0.482216\n",
              "7       8                  0.200011  ...       250.620872            0.519694\n",
              "8       9                  0.300009  ...       171.248142            0.532645\n",
              "9      10                  0.400008  ...       120.085890            0.498009\n",
              "10     11                  0.500007  ...        85.475329            0.443092\n",
              "11     12                  0.600005  ...        60.081346            0.373742\n",
              "12     13                  0.700004  ...        39.470341            0.286450\n",
              "13     14                  0.800003  ...        23.823891            0.197597\n",
              "14     15                  0.900001  ...        10.567514            0.098604\n",
              "15     16                  1.000000  ...         0.000000            0.000000\n",
              "\n",
              "[16 rows x 14 columns]"
            ]
          },
          "metadata": {
            "tags": []
          }
        },
        {
          "output_type": "stream",
          "text": [
            "\n",
            "\n",
            "Scoring History: \n"
          ],
          "name": "stdout"
        },
        {
          "output_type": "display_data",
          "data": {
            "text/html": [
              "<div>\n",
              "<style scoped>\n",
              "    .dataframe tbody tr th:only-of-type {\n",
              "        vertical-align: middle;\n",
              "    }\n",
              "\n",
              "    .dataframe tbody tr th {\n",
              "        vertical-align: top;\n",
              "    }\n",
              "\n",
              "    .dataframe thead th {\n",
              "        text-align: right;\n",
              "    }\n",
              "</style>\n",
              "<table border=\"1\" class=\"dataframe\">\n",
              "  <thead>\n",
              "    <tr style=\"text-align: right;\">\n",
              "      <th></th>\n",
              "      <th></th>\n",
              "      <th>timestamp</th>\n",
              "      <th>duration</th>\n",
              "      <th>iterations</th>\n",
              "      <th>negative_log_likelihood</th>\n",
              "      <th>objective</th>\n",
              "      <th>training_rmse</th>\n",
              "      <th>training_logloss</th>\n",
              "      <th>training_r2</th>\n",
              "      <th>training_auc</th>\n",
              "      <th>training_pr_auc</th>\n",
              "      <th>training_lift</th>\n",
              "      <th>training_classification_error</th>\n",
              "      <th>validation_rmse</th>\n",
              "      <th>validation_logloss</th>\n",
              "      <th>validation_r2</th>\n",
              "      <th>validation_auc</th>\n",
              "      <th>validation_pr_auc</th>\n",
              "      <th>validation_lift</th>\n",
              "      <th>validation_classification_error</th>\n",
              "    </tr>\n",
              "  </thead>\n",
              "  <tbody>\n",
              "    <tr>\n",
              "      <th>0</th>\n",
              "      <td></td>\n",
              "      <td>2021-04-29 01:41:06</td>\n",
              "      <td>0.000 sec</td>\n",
              "      <td>0</td>\n",
              "      <td>54466.065752</td>\n",
              "      <td>0.155498</td>\n",
              "      <td></td>\n",
              "      <td></td>\n",
              "      <td></td>\n",
              "      <td></td>\n",
              "      <td></td>\n",
              "      <td></td>\n",
              "      <td></td>\n",
              "      <td></td>\n",
              "      <td></td>\n",
              "      <td></td>\n",
              "      <td></td>\n",
              "      <td></td>\n",
              "      <td></td>\n",
              "      <td></td>\n",
              "    </tr>\n",
              "    <tr>\n",
              "      <th>1</th>\n",
              "      <td></td>\n",
              "      <td>2021-04-29 01:41:07</td>\n",
              "      <td>1.370 sec</td>\n",
              "      <td>1</td>\n",
              "      <td>50061.613368</td>\n",
              "      <td>0.144447</td>\n",
              "      <td></td>\n",
              "      <td></td>\n",
              "      <td></td>\n",
              "      <td></td>\n",
              "      <td></td>\n",
              "      <td></td>\n",
              "      <td></td>\n",
              "      <td></td>\n",
              "      <td></td>\n",
              "      <td></td>\n",
              "      <td></td>\n",
              "      <td></td>\n",
              "      <td></td>\n",
              "      <td></td>\n",
              "    </tr>\n",
              "    <tr>\n",
              "      <th>2</th>\n",
              "      <td></td>\n",
              "      <td>2021-04-29 01:41:08</td>\n",
              "      <td>1.768 sec</td>\n",
              "      <td>2</td>\n",
              "      <td>43570.207802</td>\n",
              "      <td>0.125483</td>\n",
              "      <td></td>\n",
              "      <td></td>\n",
              "      <td></td>\n",
              "      <td></td>\n",
              "      <td></td>\n",
              "      <td></td>\n",
              "      <td></td>\n",
              "      <td></td>\n",
              "      <td></td>\n",
              "      <td></td>\n",
              "      <td></td>\n",
              "      <td></td>\n",
              "      <td></td>\n",
              "      <td></td>\n",
              "    </tr>\n",
              "    <tr>\n",
              "      <th>3</th>\n",
              "      <td></td>\n",
              "      <td>2021-04-29 01:41:08</td>\n",
              "      <td>2.130 sec</td>\n",
              "      <td>3</td>\n",
              "      <td>43215.311321</td>\n",
              "      <td>0.124491</td>\n",
              "      <td></td>\n",
              "      <td></td>\n",
              "      <td></td>\n",
              "      <td></td>\n",
              "      <td></td>\n",
              "      <td></td>\n",
              "      <td></td>\n",
              "      <td></td>\n",
              "      <td></td>\n",
              "      <td></td>\n",
              "      <td></td>\n",
              "      <td></td>\n",
              "      <td></td>\n",
              "      <td></td>\n",
              "    </tr>\n",
              "    <tr>\n",
              "      <th>4</th>\n",
              "      <td></td>\n",
              "      <td>2021-04-29 01:41:09</td>\n",
              "      <td>2.497 sec</td>\n",
              "      <td>4</td>\n",
              "      <td>43195.943426</td>\n",
              "      <td>0.124463</td>\n",
              "      <td></td>\n",
              "      <td></td>\n",
              "      <td></td>\n",
              "      <td></td>\n",
              "      <td></td>\n",
              "      <td></td>\n",
              "      <td></td>\n",
              "      <td></td>\n",
              "      <td></td>\n",
              "      <td></td>\n",
              "      <td></td>\n",
              "      <td></td>\n",
              "      <td></td>\n",
              "      <td></td>\n",
              "    </tr>\n",
              "    <tr>\n",
              "      <th>5</th>\n",
              "      <td></td>\n",
              "      <td>2021-04-29 01:41:09</td>\n",
              "      <td>2.865 sec</td>\n",
              "      <td>5</td>\n",
              "      <td>43195.779638</td>\n",
              "      <td>0.124463</td>\n",
              "      <td></td>\n",
              "      <td></td>\n",
              "      <td></td>\n",
              "      <td></td>\n",
              "      <td></td>\n",
              "      <td></td>\n",
              "      <td></td>\n",
              "      <td></td>\n",
              "      <td></td>\n",
              "      <td></td>\n",
              "      <td></td>\n",
              "      <td></td>\n",
              "      <td></td>\n",
              "      <td></td>\n",
              "    </tr>\n",
              "    <tr>\n",
              "      <th>6</th>\n",
              "      <td></td>\n",
              "      <td>2021-04-29 01:41:10</td>\n",
              "      <td>3.729 sec</td>\n",
              "      <td>6</td>\n",
              "      <td>43182.000891</td>\n",
              "      <td>0.124441</td>\n",
              "      <td></td>\n",
              "      <td></td>\n",
              "      <td></td>\n",
              "      <td></td>\n",
              "      <td></td>\n",
              "      <td></td>\n",
              "      <td></td>\n",
              "      <td></td>\n",
              "      <td></td>\n",
              "      <td></td>\n",
              "      <td></td>\n",
              "      <td></td>\n",
              "      <td></td>\n",
              "      <td></td>\n",
              "    </tr>\n",
              "    <tr>\n",
              "      <th>7</th>\n",
              "      <td></td>\n",
              "      <td>2021-04-29 01:41:10</td>\n",
              "      <td>4.077 sec</td>\n",
              "      <td>7</td>\n",
              "      <td>43181.213749</td>\n",
              "      <td>0.124441</td>\n",
              "      <td>0.177262</td>\n",
              "      <td>0.12328</td>\n",
              "      <td>0.0981145</td>\n",
              "      <td>0.850352</td>\n",
              "      <td>0.206633</td>\n",
              "      <td>10.5037</td>\n",
              "      <td>0.0671</td>\n",
              "      <td>0.176281</td>\n",
              "      <td>0.122745</td>\n",
              "      <td>0.0912843</td>\n",
              "      <td>0.845046</td>\n",
              "      <td>0.198019</td>\n",
              "      <td>10.4173</td>\n",
              "      <td>0.0679463</td>\n",
              "    </tr>\n",
              "  </tbody>\n",
              "</table>\n",
              "</div>"
            ],
            "text/plain": [
              "               timestamp  ... validation_lift  validation_classification_error\n",
              "0    2021-04-29 01:41:06  ...                                                 \n",
              "1    2021-04-29 01:41:07  ...                                                 \n",
              "2    2021-04-29 01:41:08  ...                                                 \n",
              "3    2021-04-29 01:41:08  ...                                                 \n",
              "4    2021-04-29 01:41:09  ...                                                 \n",
              "5    2021-04-29 01:41:09  ...                                                 \n",
              "6    2021-04-29 01:41:10  ...                                                 \n",
              "7    2021-04-29 01:41:10  ...         10.4173                        0.0679463\n",
              "\n",
              "[8 rows x 20 columns]"
            ]
          },
          "metadata": {
            "tags": []
          }
        },
        {
          "output_type": "stream",
          "text": [
            "\n",
            "Variable Importances: \n"
          ],
          "name": "stdout"
        },
        {
          "output_type": "display_data",
          "data": {
            "text/html": [
              "<div>\n",
              "<style scoped>\n",
              "    .dataframe tbody tr th:only-of-type {\n",
              "        vertical-align: middle;\n",
              "    }\n",
              "\n",
              "    .dataframe tbody tr th {\n",
              "        vertical-align: top;\n",
              "    }\n",
              "\n",
              "    .dataframe thead th {\n",
              "        text-align: right;\n",
              "    }\n",
              "</style>\n",
              "<table border=\"1\" class=\"dataframe\">\n",
              "  <thead>\n",
              "    <tr style=\"text-align: right;\">\n",
              "      <th></th>\n",
              "      <th>variable</th>\n",
              "      <th>relative_importance</th>\n",
              "      <th>scaled_importance</th>\n",
              "      <th>percentage</th>\n",
              "    </tr>\n",
              "  </thead>\n",
              "  <tbody>\n",
              "    <tr>\n",
              "      <th>0</th>\n",
              "      <td>SERVICER_NAME.WELLSFARGOBANK,NA</td>\n",
              "      <td>1.525186</td>\n",
              "      <td>1.000000</td>\n",
              "      <td>0.055449</td>\n",
              "    </tr>\n",
              "    <tr>\n",
              "      <th>1</th>\n",
              "      <td>SERVICER_NAME.JPMORGANCHASEBANK,NA</td>\n",
              "      <td>1.310670</td>\n",
              "      <td>0.859351</td>\n",
              "      <td>0.047651</td>\n",
              "    </tr>\n",
              "    <tr>\n",
              "      <th>2</th>\n",
              "      <td>SERVICER_NAME.CITIMORTGAGE,INC</td>\n",
              "      <td>1.147234</td>\n",
              "      <td>0.752193</td>\n",
              "      <td>0.041709</td>\n",
              "    </tr>\n",
              "    <tr>\n",
              "      <th>3</th>\n",
              "      <td>SERVICER_NAME.CHASEHOMEFINANCELLC</td>\n",
              "      <td>0.789225</td>\n",
              "      <td>0.517462</td>\n",
              "      <td>0.028693</td>\n",
              "    </tr>\n",
              "    <tr>\n",
              "      <th>4</th>\n",
              "      <td>PROPERTY_STATE.CA</td>\n",
              "      <td>0.722806</td>\n",
              "      <td>0.473913</td>\n",
              "      <td>0.026278</td>\n",
              "    </tr>\n",
              "    <tr>\n",
              "      <th>5</th>\n",
              "      <td>SERVICER_NAME.Other servicers</td>\n",
              "      <td>0.710362</td>\n",
              "      <td>0.465754</td>\n",
              "      <td>0.025826</td>\n",
              "    </tr>\n",
              "    <tr>\n",
              "      <th>6</th>\n",
              "      <td>CREDIT_SCORE</td>\n",
              "      <td>0.673536</td>\n",
              "      <td>0.441609</td>\n",
              "      <td>0.024487</td>\n",
              "    </tr>\n",
              "    <tr>\n",
              "      <th>7</th>\n",
              "      <td>SELLER_NAME.BISHOPSGATERESIDENTI</td>\n",
              "      <td>0.651131</td>\n",
              "      <td>0.426919</td>\n",
              "      <td>0.023672</td>\n",
              "    </tr>\n",
              "    <tr>\n",
              "      <th>8</th>\n",
              "      <td>SERVICER_NAME.NATLCITYMTGECO</td>\n",
              "      <td>0.597233</td>\n",
              "      <td>0.391581</td>\n",
              "      <td>0.021713</td>\n",
              "    </tr>\n",
              "    <tr>\n",
              "      <th>9</th>\n",
              "      <td>SELLER_NAME.FIRSTARBANK,NA</td>\n",
              "      <td>0.581422</td>\n",
              "      <td>0.381214</td>\n",
              "      <td>0.021138</td>\n",
              "    </tr>\n",
              "    <tr>\n",
              "      <th>10</th>\n",
              "      <td>SELLER_NAME.COUNTRYWIDE HOME LOA</td>\n",
              "      <td>0.571360</td>\n",
              "      <td>0.374617</td>\n",
              "      <td>0.020772</td>\n",
              "    </tr>\n",
              "    <tr>\n",
              "      <th>11</th>\n",
              "      <td>SERVICER_NAME.CHASEMTGECO</td>\n",
              "      <td>0.563481</td>\n",
              "      <td>0.369451</td>\n",
              "      <td>0.020486</td>\n",
              "    </tr>\n",
              "    <tr>\n",
              "      <th>12</th>\n",
              "      <td>SERVICER_NAME.COUNTRYWIDE</td>\n",
              "      <td>0.543220</td>\n",
              "      <td>0.356167</td>\n",
              "      <td>0.019749</td>\n",
              "    </tr>\n",
              "    <tr>\n",
              "      <th>13</th>\n",
              "      <td>SERVICER_NAME.PRINCIPALRESIDENTIAL</td>\n",
              "      <td>0.542711</td>\n",
              "      <td>0.355833</td>\n",
              "      <td>0.019731</td>\n",
              "    </tr>\n",
              "    <tr>\n",
              "      <th>14</th>\n",
              "      <td>SELLER_NAME.NATIONAL CITY MORTGA</td>\n",
              "      <td>0.541926</td>\n",
              "      <td>0.355318</td>\n",
              "      <td>0.019702</td>\n",
              "    </tr>\n",
              "    <tr>\n",
              "      <th>15</th>\n",
              "      <td>PROPERTY_TYPE.MH</td>\n",
              "      <td>0.505459</td>\n",
              "      <td>0.331408</td>\n",
              "      <td>0.018376</td>\n",
              "    </tr>\n",
              "    <tr>\n",
              "      <th>16</th>\n",
              "      <td>PROPERTY_STATE.GA</td>\n",
              "      <td>0.469619</td>\n",
              "      <td>0.307909</td>\n",
              "      <td>0.017073</td>\n",
              "    </tr>\n",
              "    <tr>\n",
              "      <th>17</th>\n",
              "      <td>SELLER_NAME.WELLSFARGOHOMEMORTGA</td>\n",
              "      <td>0.450746</td>\n",
              "      <td>0.295535</td>\n",
              "      <td>0.016387</td>\n",
              "    </tr>\n",
              "    <tr>\n",
              "      <th>18</th>\n",
              "      <td>SELLER_NAME.NORWESTMORTGAGE,INC</td>\n",
              "      <td>0.450571</td>\n",
              "      <td>0.295420</td>\n",
              "      <td>0.016381</td>\n",
              "    </tr>\n",
              "    <tr>\n",
              "      <th>19</th>\n",
              "      <td>SERVICER_NAME.WELLSFARGOHOMEMORTGA</td>\n",
              "      <td>0.445311</td>\n",
              "      <td>0.291971</td>\n",
              "      <td>0.016190</td>\n",
              "    </tr>\n",
              "  </tbody>\n",
              "</table>\n",
              "</div>"
            ],
            "text/plain": [
              "                              variable  ...  percentage\n",
              "0      SERVICER_NAME.WELLSFARGOBANK,NA  ...    0.055449\n",
              "1   SERVICER_NAME.JPMORGANCHASEBANK,NA  ...    0.047651\n",
              "2       SERVICER_NAME.CITIMORTGAGE,INC  ...    0.041709\n",
              "3    SERVICER_NAME.CHASEHOMEFINANCELLC  ...    0.028693\n",
              "4                    PROPERTY_STATE.CA  ...    0.026278\n",
              "5        SERVICER_NAME.Other servicers  ...    0.025826\n",
              "6                         CREDIT_SCORE  ...    0.024487\n",
              "7     SELLER_NAME.BISHOPSGATERESIDENTI  ...    0.023672\n",
              "8         SERVICER_NAME.NATLCITYMTGECO  ...    0.021713\n",
              "9           SELLER_NAME.FIRSTARBANK,NA  ...    0.021138\n",
              "10    SELLER_NAME.COUNTRYWIDE HOME LOA  ...    0.020772\n",
              "11           SERVICER_NAME.CHASEMTGECO  ...    0.020486\n",
              "12           SERVICER_NAME.COUNTRYWIDE  ...    0.019749\n",
              "13  SERVICER_NAME.PRINCIPALRESIDENTIAL  ...    0.019731\n",
              "14    SELLER_NAME.NATIONAL CITY MORTGA  ...    0.019702\n",
              "15                    PROPERTY_TYPE.MH  ...    0.018376\n",
              "16                   PROPERTY_STATE.GA  ...    0.017073\n",
              "17    SELLER_NAME.WELLSFARGOHOMEMORTGA  ...    0.016387\n",
              "18     SELLER_NAME.NORWESTMORTGAGE,INC  ...    0.016381\n",
              "19  SERVICER_NAME.WELLSFARGOHOMEMORTGA  ...    0.016190\n",
              "\n",
              "[20 rows x 4 columns]"
            ]
          },
          "metadata": {
            "tags": []
          }
        },
        {
          "output_type": "stream",
          "text": [
            "\n",
            "See the whole table with table.as_data_frame()\n"
          ],
          "name": "stdout"
        },
        {
          "output_type": "execute_result",
          "data": {
            "text/plain": [
              ""
            ]
          },
          "metadata": {
            "tags": []
          },
          "execution_count": 16
        }
      ]
    },
    {
      "cell_type": "code",
      "metadata": {
        "colab": {
          "base_uri": "https://localhost:8080/",
          "height": 295
        },
        "id": "UN-C0HfvO4XL",
        "outputId": "a5bda655-8c67-4578-81f3-a63725be8548"
      },
      "source": [
        "# Scoring history of our model\n",
        "glm.plot(metric='negative_log_likelihood')"
      ],
      "execution_count": 17,
      "outputs": [
        {
          "output_type": "display_data",
          "data": {
            "image/png": "[encoded data removed]",
            "text/plain": [
              "<Figure size 432x288 with 1 Axes>"
            ]
          },
          "metadata": {
            "tags": [],
            "needs_background": "light"
          }
        }
      ]
    },
    {
      "cell_type": "code",
      "metadata": {
        "colab": {
          "base_uri": "https://localhost:8080/",
          "height": 612
        },
        "id": "7_fqJ8CMQ8dd",
        "outputId": "77b976df-f6cd-4ecd-94d6-1c389dc8058b"
      },
      "source": [
        "# Inputs importance\n",
        "glm.varimp_plot()"
      ],
      "execution_count": 18,
      "outputs": [
        {
          "output_type": "display_data",
          "data": {
            "image/png": "[encoded data removed]",
            "text/plain": [
              "<Figure size 1008x720 with 1 Axes>"
            ]
          },
          "metadata": {
            "tags": [],
            "needs_background": "light"
          }
        }
      ]
    },
    {
      "cell_type": "code",
      "metadata": {
        "colab": {
          "base_uri": "https://localhost:8080/"
        },
        "id": "wogPH7x9RDLm",
        "outputId": "a6e2a134-27c7-44f0-e543-ec076cbfb531"
      },
      "source": [
        "# Printing individual metrics AUC\n",
        "glm.accuracy()"
      ],
      "execution_count": 19,
      "outputs": [
        {
          "output_type": "execute_result",
          "data": {
            "text/plain": [
              "[[0.9758761624564709, 0.9638505373028652]]"
            ]
          },
          "metadata": {
            "tags": []
          },
          "execution_count": 19
        }
      ]
    },
    {
      "cell_type": "code",
      "metadata": {
        "colab": {
          "base_uri": "https://localhost:8080/",
          "height": 255
        },
        "id": "BOj5JBl_RSoV",
        "outputId": "f69694e6-9e0d-4a45-de8b-0a358b1909d7"
      },
      "source": [
        "# Take a look at the first ten predictions of our model\n",
        "glm.predict(valid).head(10)"
      ],
      "execution_count": 20,
      "outputs": [
        {
          "output_type": "stream",
          "text": [
            "glm prediction progress: |████████████████████████████████████████████████| 100%\n"
          ],
          "name": "stdout"
        },
        {
          "output_type": "display_data",
          "data": {
            "text/html": [
              "<table>\n",
              "<thead>\n",
              "<tr><th>predict  </th><th style=\"text-align: right;\">   FALSE</th><th style=\"text-align: right;\">      TRUE</th></tr>\n",
              "</thead>\n",
              "<tbody>\n",
              "<tr><td>FALSE    </td><td style=\"text-align: right;\">0.994227</td><td style=\"text-align: right;\">0.00577262</td></tr>\n",
              "<tr><td>FALSE    </td><td style=\"text-align: right;\">0.997196</td><td style=\"text-align: right;\">0.00280374</td></tr>\n",
              "<tr><td>FALSE    </td><td style=\"text-align: right;\">0.964314</td><td style=\"text-align: right;\">0.0356865 </td></tr>\n",
              "<tr><td>FALSE    </td><td style=\"text-align: right;\">0.996098</td><td style=\"text-align: right;\">0.0039019 </td></tr>\n",
              "<tr><td>FALSE    </td><td style=\"text-align: right;\">0.996148</td><td style=\"text-align: right;\">0.00385171</td></tr>\n",
              "<tr><td>TRUE     </td><td style=\"text-align: right;\">0.646653</td><td style=\"text-align: right;\">0.353347  </td></tr>\n",
              "<tr><td>FALSE    </td><td style=\"text-align: right;\">0.994166</td><td style=\"text-align: right;\">0.00583412</td></tr>\n",
              "<tr><td>FALSE    </td><td style=\"text-align: right;\">0.995727</td><td style=\"text-align: right;\">0.00427344</td></tr>\n",
              "<tr><td>FALSE    </td><td style=\"text-align: right;\">0.958063</td><td style=\"text-align: right;\">0.0419368 </td></tr>\n",
              "<tr><td>FALSE    </td><td style=\"text-align: right;\">0.994599</td><td style=\"text-align: right;\">0.005401  </td></tr>\n",
              "</tbody>\n",
              "</table>"
            ]
          },
          "metadata": {
            "tags": []
          }
        },
        {
          "output_type": "execute_result",
          "data": {
            "text/plain": [
              ""
            ]
          },
          "metadata": {
            "tags": []
          },
          "execution_count": 20
        }
      ]
    },
    {
      "cell_type": "code",
      "metadata": {
        "id": "WsfScUmrRlLM"
      },
      "source": [
        "# Saving model performance\n",
        "default_glm_perf=glm.model_performance(valid)"
      ],
      "execution_count": 21,
      "outputs": []
    },
    {
      "cell_type": "code",
      "metadata": {
        "colab": {
          "base_uri": "https://localhost:8080/"
        },
        "id": "8x-9DvVaSG16",
        "outputId": "587b8c9d-e4e0-463f-f763-7b438b661089"
      },
      "source": [
        "print(default_glm_perf.auc())"
      ],
      "execution_count": 22,
      "outputs": [
        {
          "output_type": "stream",
          "text": [
            "0.8450464412102321\n"
          ],
          "name": "stdout"
        }
      ]
    },
    {
      "cell_type": "markdown",
      "metadata": {
        "id": "aaSUdtGMXRkE"
      },
      "source": [
        "### Distributed Random Forest (DRF) \n",
        "\n",
        "DRF generates a forest of classification or regression trees, rather than a single classification or regression tree. Each of these trees is a weak learner built on a subset of rows and columns. More trees will reduce the variance. Both classification and regression take the average prediction over all of their trees to make a final prediction, whether predicting for a class or numeric value."
      ]
    },
    {
      "cell_type": "code",
      "metadata": {
        "colab": {
          "base_uri": "https://localhost:8080/"
        },
        "id": "VMq8EjCIWkTX",
        "outputId": "be367c6a-62fd-4f3f-cc88-f0de95a855c0"
      },
      "source": [
        "rf = H2ORandomForestEstimator (seed = 42, \n",
        "                               model_id = 'default_rf')\n",
        "\n",
        "%time rf.train(x = x, y = y, training_frame = train, validation_frame = valid)"
      ],
      "execution_count": 23,
      "outputs": [
        {
          "output_type": "stream",
          "text": [
            "/usr/local/lib/python3.7/dist-packages/h2o/estimators/estimator_base.py:200: RuntimeWarning: Dropping bad and constant columns: [LOAN_SEQUENCE_NUMBER]\n",
            "  warnings.warn(mesg[\"message\"], RuntimeWarning)\n"
          ],
          "name": "stderr"
        },
        {
          "output_type": "stream",
          "text": [
            "drf Model Build progress: |███████████████████████████████████████████████| 100%\n",
            "CPU times: user 1.05 s, sys: 89.6 ms, total: 1.14 s\n",
            "Wall time: 1min 9s\n"
          ],
          "name": "stdout"
        }
      ]
    },
    {
      "cell_type": "code",
      "metadata": {
        "colab": {
          "base_uri": "https://localhost:8080/",
          "height": 1000
        },
        "id": "vH5z-RE6ZM6m",
        "outputId": "9b37f5f2-2728-4a70-908f-45d86c640636"
      },
      "source": [
        "# Model summary\n",
        "rf"
      ],
      "execution_count": 24,
      "outputs": [
        {
          "output_type": "stream",
          "text": [
            "Model Details\n",
            "=============\n",
            "H2ORandomForestEstimator :  Distributed Random Forest\n",
            "Model Key:  default_rf\n",
            "\n",
            "\n",
            "Model Summary: \n"
          ],
          "name": "stdout"
        },
        {
          "output_type": "display_data",
          "data": {
            "text/html": [
              "<div>\n",
              "<style scoped>\n",
              "    .dataframe tbody tr th:only-of-type {\n",
              "        vertical-align: middle;\n",
              "    }\n",
              "\n",
              "    .dataframe tbody tr th {\n",
              "        vertical-align: top;\n",
              "    }\n",
              "\n",
              "    .dataframe thead th {\n",
              "        text-align: right;\n",
              "    }\n",
              "</style>\n",
              "<table border=\"1\" class=\"dataframe\">\n",
              "  <thead>\n",
              "    <tr style=\"text-align: right;\">\n",
              "      <th></th>\n",
              "      <th></th>\n",
              "      <th>number_of_trees</th>\n",
              "      <th>number_of_internal_trees</th>\n",
              "      <th>model_size_in_bytes</th>\n",
              "      <th>min_depth</th>\n",
              "      <th>max_depth</th>\n",
              "      <th>mean_depth</th>\n",
              "      <th>min_leaves</th>\n",
              "      <th>max_leaves</th>\n",
              "      <th>mean_leaves</th>\n",
              "    </tr>\n",
              "  </thead>\n",
              "  <tbody>\n",
              "    <tr>\n",
              "      <th>0</th>\n",
              "      <td></td>\n",
              "      <td>50.0</td>\n",
              "      <td>50.0</td>\n",
              "      <td>7598182.0</td>\n",
              "      <td>20.0</td>\n",
              "      <td>20.0</td>\n",
              "      <td>20.0</td>\n",
              "      <td>9881.0</td>\n",
              "      <td>11724.0</td>\n",
              "      <td>10834.34</td>\n",
              "    </tr>\n",
              "  </tbody>\n",
              "</table>\n",
              "</div>"
            ],
            "text/plain": [
              "     number_of_trees  ...  max_leaves  mean_leaves\n",
              "0               50.0  ...     11724.0     10834.34\n",
              "\n",
              "[1 rows x 10 columns]"
            ]
          },
          "metadata": {
            "tags": []
          }
        },
        {
          "output_type": "stream",
          "text": [
            "\n",
            "\n",
            "ModelMetricsBinomial: drf\n",
            "** Reported on train data. **\n",
            "\n",
            "MSE: 0.03217049865504154\n",
            "RMSE: 0.1793613633284536\n",
            "LogLoss: 0.18808040483623167\n",
            "Mean Per-Class Error: 0.26910942081145595\n",
            "AUC: 0.8034365546707388\n",
            "AUCPR: 0.19880274803695155\n",
            "Gini: 0.6068731093414776\n",
            "\n",
            "Confusion Matrix (Act/Pred) for max f1 @ threshold = 0.1714152473716729: \n"
          ],
          "name": "stdout"
        },
        {
          "output_type": "display_data",
          "data": {
            "text/html": [
              "<div>\n",
              "<style scoped>\n",
              "    .dataframe tbody tr th:only-of-type {\n",
              "        vertical-align: middle;\n",
              "    }\n",
              "\n",
              "    .dataframe tbody tr th {\n",
              "        vertical-align: top;\n",
              "    }\n",
              "\n",
              "    .dataframe thead th {\n",
              "        text-align: right;\n",
              "    }\n",
              "</style>\n",
              "<table border=\"1\" class=\"dataframe\">\n",
              "  <thead>\n",
              "    <tr style=\"text-align: right;\">\n",
              "      <th></th>\n",
              "      <th></th>\n",
              "      <th>FALSE</th>\n",
              "      <th>TRUE</th>\n",
              "      <th>Error</th>\n",
              "      <th>Rate</th>\n",
              "    </tr>\n",
              "  </thead>\n",
              "  <tbody>\n",
              "    <tr>\n",
              "      <th>0</th>\n",
              "      <td>FALSE</td>\n",
              "      <td>322404.0</td>\n",
              "      <td>15203.0</td>\n",
              "      <td>0.045</td>\n",
              "      <td>(15203.0/337607.0)</td>\n",
              "    </tr>\n",
              "    <tr>\n",
              "      <th>1</th>\n",
              "      <td>TRUE</td>\n",
              "      <td>8458.0</td>\n",
              "      <td>4203.0</td>\n",
              "      <td>0.668</td>\n",
              "      <td>(8458.0/12661.0)</td>\n",
              "    </tr>\n",
              "    <tr>\n",
              "      <th>2</th>\n",
              "      <td>Total</td>\n",
              "      <td>330862.0</td>\n",
              "      <td>19406.0</td>\n",
              "      <td>0.0676</td>\n",
              "      <td>(23661.0/350268.0)</td>\n",
              "    </tr>\n",
              "  </tbody>\n",
              "</table>\n",
              "</div>"
            ],
            "text/plain": [
              "             FALSE     TRUE   Error                 Rate\n",
              "0  FALSE  322404.0  15203.0   0.045   (15203.0/337607.0)\n",
              "1   TRUE    8458.0   4203.0   0.668     (8458.0/12661.0)\n",
              "2  Total  330862.0  19406.0  0.0676   (23661.0/350268.0)"
            ]
          },
          "metadata": {
            "tags": []
          }
        },
        {
          "output_type": "stream",
          "text": [
            "\n",
            "Maximum Metrics: Maximum metrics at their respective thresholds\n"
          ],
          "name": "stdout"
        },
        {
          "output_type": "display_data",
          "data": {
            "text/html": [
              "<div>\n",
              "<style scoped>\n",
              "    .dataframe tbody tr th:only-of-type {\n",
              "        vertical-align: middle;\n",
              "    }\n",
              "\n",
              "    .dataframe tbody tr th {\n",
              "        vertical-align: top;\n",
              "    }\n",
              "\n",
              "    .dataframe thead th {\n",
              "        text-align: right;\n",
              "    }\n",
              "</style>\n",
              "<table border=\"1\" class=\"dataframe\">\n",
              "  <thead>\n",
              "    <tr style=\"text-align: right;\">\n",
              "      <th></th>\n",
              "      <th>metric</th>\n",
              "      <th>threshold</th>\n",
              "      <th>value</th>\n",
              "      <th>idx</th>\n",
              "    </tr>\n",
              "  </thead>\n",
              "  <tbody>\n",
              "    <tr>\n",
              "      <th>0</th>\n",
              "      <td>max f1</td>\n",
              "      <td>0.171415</td>\n",
              "      <td>0.262139</td>\n",
              "      <td>194.0</td>\n",
              "    </tr>\n",
              "    <tr>\n",
              "      <th>1</th>\n",
              "      <td>max f2</td>\n",
              "      <td>0.088095</td>\n",
              "      <td>0.345659</td>\n",
              "      <td>266.0</td>\n",
              "    </tr>\n",
              "    <tr>\n",
              "      <th>2</th>\n",
              "      <td>max f0point5</td>\n",
              "      <td>0.291459</td>\n",
              "      <td>0.272684</td>\n",
              "      <td>125.0</td>\n",
              "    </tr>\n",
              "    <tr>\n",
              "      <th>3</th>\n",
              "      <td>max accuracy</td>\n",
              "      <td>0.570928</td>\n",
              "      <td>0.964273</td>\n",
              "      <td>43.0</td>\n",
              "    </tr>\n",
              "    <tr>\n",
              "      <th>4</th>\n",
              "      <td>max precision</td>\n",
              "      <td>0.998148</td>\n",
              "      <td>1.000000</td>\n",
              "      <td>0.0</td>\n",
              "    </tr>\n",
              "    <tr>\n",
              "      <th>5</th>\n",
              "      <td>max recall</td>\n",
              "      <td>0.000007</td>\n",
              "      <td>1.000000</td>\n",
              "      <td>399.0</td>\n",
              "    </tr>\n",
              "    <tr>\n",
              "      <th>6</th>\n",
              "      <td>max specificity</td>\n",
              "      <td>0.998148</td>\n",
              "      <td>1.000000</td>\n",
              "      <td>0.0</td>\n",
              "    </tr>\n",
              "    <tr>\n",
              "      <th>7</th>\n",
              "      <td>max absolute_mcc</td>\n",
              "      <td>0.151393</td>\n",
              "      <td>0.234703</td>\n",
              "      <td>209.0</td>\n",
              "    </tr>\n",
              "    <tr>\n",
              "      <th>8</th>\n",
              "      <td>max min_per_class_accuracy</td>\n",
              "      <td>0.037451</td>\n",
              "      <td>0.727541</td>\n",
              "      <td>330.0</td>\n",
              "    </tr>\n",
              "    <tr>\n",
              "      <th>9</th>\n",
              "      <td>max mean_per_class_accuracy</td>\n",
              "      <td>0.013768</td>\n",
              "      <td>0.730891</td>\n",
              "      <td>360.0</td>\n",
              "    </tr>\n",
              "    <tr>\n",
              "      <th>10</th>\n",
              "      <td>max tns</td>\n",
              "      <td>0.998148</td>\n",
              "      <td>337607.000000</td>\n",
              "      <td>0.0</td>\n",
              "    </tr>\n",
              "    <tr>\n",
              "      <th>11</th>\n",
              "      <td>max fns</td>\n",
              "      <td>0.998148</td>\n",
              "      <td>12655.000000</td>\n",
              "      <td>0.0</td>\n",
              "    </tr>\n",
              "    <tr>\n",
              "      <th>12</th>\n",
              "      <td>max fps</td>\n",
              "      <td>0.000007</td>\n",
              "      <td>337607.000000</td>\n",
              "      <td>399.0</td>\n",
              "    </tr>\n",
              "    <tr>\n",
              "      <th>13</th>\n",
              "      <td>max tps</td>\n",
              "      <td>0.000007</td>\n",
              "      <td>12661.000000</td>\n",
              "      <td>399.0</td>\n",
              "    </tr>\n",
              "    <tr>\n",
              "      <th>14</th>\n",
              "      <td>max tnr</td>\n",
              "      <td>0.998148</td>\n",
              "      <td>1.000000</td>\n",
              "      <td>0.0</td>\n",
              "    </tr>\n",
              "    <tr>\n",
              "      <th>15</th>\n",
              "      <td>max fnr</td>\n",
              "      <td>0.998148</td>\n",
              "      <td>0.999526</td>\n",
              "      <td>0.0</td>\n",
              "    </tr>\n",
              "    <tr>\n",
              "      <th>16</th>\n",
              "      <td>max fpr</td>\n",
              "      <td>0.000007</td>\n",
              "      <td>1.000000</td>\n",
              "      <td>399.0</td>\n",
              "    </tr>\n",
              "    <tr>\n",
              "      <th>17</th>\n",
              "      <td>max tpr</td>\n",
              "      <td>0.000007</td>\n",
              "      <td>1.000000</td>\n",
              "      <td>399.0</td>\n",
              "    </tr>\n",
              "  </tbody>\n",
              "</table>\n",
              "</div>"
            ],
            "text/plain": [
              "                         metric  threshold          value    idx\n",
              "0                        max f1   0.171415       0.262139  194.0\n",
              "1                        max f2   0.088095       0.345659  266.0\n",
              "2                  max f0point5   0.291459       0.272684  125.0\n",
              "3                  max accuracy   0.570928       0.964273   43.0\n",
              "4                 max precision   0.998148       1.000000    0.0\n",
              "5                    max recall   0.000007       1.000000  399.0\n",
              "6               max specificity   0.998148       1.000000    0.0\n",
              "7              max absolute_mcc   0.151393       0.234703  209.0\n",
              "8    max min_per_class_accuracy   0.037451       0.727541  330.0\n",
              "9   max mean_per_class_accuracy   0.013768       0.730891  360.0\n",
              "10                      max tns   0.998148  337607.000000    0.0\n",
              "11                      max fns   0.998148   12655.000000    0.0\n",
              "12                      max fps   0.000007  337607.000000  399.0\n",
              "13                      max tps   0.000007   12661.000000  399.0\n",
              "14                      max tnr   0.998148       1.000000    0.0\n",
              "15                      max fnr   0.998148       0.999526    0.0\n",
              "16                      max fpr   0.000007       1.000000  399.0\n",
              "17                      max tpr   0.000007       1.000000  399.0"
            ]
          },
          "metadata": {
            "tags": []
          }
        },
        {
          "output_type": "stream",
          "text": [
            "\n",
            "Gains/Lift Table: Avg response rate:  3.61 %, avg score:  3.75 %\n"
          ],
          "name": "stdout"
        },
        {
          "output_type": "display_data",
          "data": {
            "text/html": [
              "<div>\n",
              "<style scoped>\n",
              "    .dataframe tbody tr th:only-of-type {\n",
              "        vertical-align: middle;\n",
              "    }\n",
              "\n",
              "    .dataframe tbody tr th {\n",
              "        vertical-align: top;\n",
              "    }\n",
              "\n",
              "    .dataframe thead th {\n",
              "        text-align: right;\n",
              "    }\n",
              "</style>\n",
              "<table border=\"1\" class=\"dataframe\">\n",
              "  <thead>\n",
              "    <tr style=\"text-align: right;\">\n",
              "      <th></th>\n",
              "      <th>group</th>\n",
              "      <th>cumulative_data_fraction</th>\n",
              "      <th>lower_threshold</th>\n",
              "      <th>lift</th>\n",
              "      <th>cumulative_lift</th>\n",
              "      <th>response_rate</th>\n",
              "      <th>score</th>\n",
              "      <th>cumulative_response_rate</th>\n",
              "      <th>cumulative_score</th>\n",
              "      <th>capture_rate</th>\n",
              "      <th>cumulative_capture_rate</th>\n",
              "      <th>gain</th>\n",
              "      <th>cumulative_gain</th>\n",
              "      <th>kolmogorov_smirnov</th>\n",
              "    </tr>\n",
              "  </thead>\n",
              "  <tbody>\n",
              "    <tr>\n",
              "      <th>0</th>\n",
              "      <td>1</td>\n",
              "      <td>0.010001</td>\n",
              "      <td>0.355807</td>\n",
              "      <td>10.811744</td>\n",
              "      <td>10.811744</td>\n",
              "      <td>0.390808</td>\n",
              "      <td>0.468185</td>\n",
              "      <td>0.390808</td>\n",
              "      <td>0.468185</td>\n",
              "      <td>0.108127</td>\n",
              "      <td>0.108127</td>\n",
              "      <td>981.174427</td>\n",
              "      <td>981.174427</td>\n",
              "      <td>0.101806</td>\n",
              "    </tr>\n",
              "    <tr>\n",
              "      <th>1</th>\n",
              "      <td>2</td>\n",
              "      <td>0.020002</td>\n",
              "      <td>0.276656</td>\n",
              "      <td>6.547068</td>\n",
              "      <td>8.679406</td>\n",
              "      <td>0.236654</td>\n",
              "      <td>0.311273</td>\n",
              "      <td>0.313731</td>\n",
              "      <td>0.389729</td>\n",
              "      <td>0.065477</td>\n",
              "      <td>0.173604</td>\n",
              "      <td>554.706793</td>\n",
              "      <td>767.940610</td>\n",
              "      <td>0.159363</td>\n",
              "    </tr>\n",
              "    <tr>\n",
              "      <th>2</th>\n",
              "      <td>3</td>\n",
              "      <td>0.030003</td>\n",
              "      <td>0.232143</td>\n",
              "      <td>5.172894</td>\n",
              "      <td>7.510569</td>\n",
              "      <td>0.186983</td>\n",
              "      <td>0.252600</td>\n",
              "      <td>0.271482</td>\n",
              "      <td>0.344019</td>\n",
              "      <td>0.051734</td>\n",
              "      <td>0.225338</td>\n",
              "      <td>417.289444</td>\n",
              "      <td>651.056888</td>\n",
              "      <td>0.202660</td>\n",
              "    </tr>\n",
              "    <tr>\n",
              "      <th>3</th>\n",
              "      <td>4</td>\n",
              "      <td>0.040001</td>\n",
              "      <td>0.202677</td>\n",
              "      <td>4.408091</td>\n",
              "      <td>6.735115</td>\n",
              "      <td>0.159338</td>\n",
              "      <td>0.217047</td>\n",
              "      <td>0.243452</td>\n",
              "      <td>0.312283</td>\n",
              "      <td>0.044072</td>\n",
              "      <td>0.269410</td>\n",
              "      <td>340.809059</td>\n",
              "      <td>573.511538</td>\n",
              "      <td>0.238013</td>\n",
              "    </tr>\n",
              "    <tr>\n",
              "      <th>4</th>\n",
              "      <td>5</td>\n",
              "      <td>0.050002</td>\n",
              "      <td>0.180995</td>\n",
              "      <td>4.011955</td>\n",
              "      <td>6.190452</td>\n",
              "      <td>0.145019</td>\n",
              "      <td>0.191749</td>\n",
              "      <td>0.223764</td>\n",
              "      <td>0.288175</td>\n",
              "      <td>0.040123</td>\n",
              "      <td>0.309533</td>\n",
              "      <td>301.195477</td>\n",
              "      <td>519.045216</td>\n",
              "      <td>0.269264</td>\n",
              "    </tr>\n",
              "    <tr>\n",
              "      <th>5</th>\n",
              "      <td>6</td>\n",
              "      <td>0.100218</td>\n",
              "      <td>0.117647</td>\n",
              "      <td>2.944402</td>\n",
              "      <td>4.563960</td>\n",
              "      <td>0.106430</td>\n",
              "      <td>0.144611</td>\n",
              "      <td>0.164972</td>\n",
              "      <td>0.216240</td>\n",
              "      <td>0.147856</td>\n",
              "      <td>0.457389</td>\n",
              "      <td>194.440231</td>\n",
              "      <td>356.395953</td>\n",
              "      <td>0.370566</td>\n",
              "    </tr>\n",
              "    <tr>\n",
              "      <th>6</th>\n",
              "      <td>7</td>\n",
              "      <td>0.150002</td>\n",
              "      <td>0.081530</td>\n",
              "      <td>2.086227</td>\n",
              "      <td>3.741617</td>\n",
              "      <td>0.075410</td>\n",
              "      <td>0.098156</td>\n",
              "      <td>0.135247</td>\n",
              "      <td>0.177049</td>\n",
              "      <td>0.103862</td>\n",
              "      <td>0.561251</td>\n",
              "      <td>108.622686</td>\n",
              "      <td>274.161694</td>\n",
              "      <td>0.426672</td>\n",
              "    </tr>\n",
              "    <tr>\n",
              "      <th>7</th>\n",
              "      <td>8</td>\n",
              "      <td>0.202559</td>\n",
              "      <td>0.062500</td>\n",
              "      <td>1.498295</td>\n",
              "      <td>3.159555</td>\n",
              "      <td>0.054158</td>\n",
              "      <td>0.070321</td>\n",
              "      <td>0.114207</td>\n",
              "      <td>0.149357</td>\n",
              "      <td>0.078746</td>\n",
              "      <td>0.639997</td>\n",
              "      <td>49.829529</td>\n",
              "      <td>215.955480</td>\n",
              "      <td>0.453843</td>\n",
              "    </tr>\n",
              "    <tr>\n",
              "      <th>8</th>\n",
              "      <td>9</td>\n",
              "      <td>0.300002</td>\n",
              "      <td>0.030525</td>\n",
              "      <td>1.059398</td>\n",
              "      <td>2.477410</td>\n",
              "      <td>0.038294</td>\n",
              "      <td>0.049436</td>\n",
              "      <td>0.089550</td>\n",
              "      <td>0.116902</td>\n",
              "      <td>0.103230</td>\n",
              "      <td>0.743227</td>\n",
              "      <td>5.939771</td>\n",
              "      <td>147.740996</td>\n",
              "      <td>0.459847</td>\n",
              "    </tr>\n",
              "    <tr>\n",
              "      <th>9</th>\n",
              "      <td>10</td>\n",
              "      <td>0.399999</td>\n",
              "      <td>0.008321</td>\n",
              "      <td>0.906742</td>\n",
              "      <td>2.084751</td>\n",
              "      <td>0.032776</td>\n",
              "      <td>0.016276</td>\n",
              "      <td>0.075357</td>\n",
              "      <td>0.091746</td>\n",
              "      <td>0.090672</td>\n",
              "      <td>0.833899</td>\n",
              "      <td>-9.325786</td>\n",
              "      <td>108.475142</td>\n",
              "      <td>0.450172</td>\n",
              "    </tr>\n",
              "    <tr>\n",
              "      <th>10</th>\n",
              "      <td>11</td>\n",
              "      <td>0.500011</td>\n",
              "      <td>0.003247</td>\n",
              "      <td>0.509377</td>\n",
              "      <td>1.769646</td>\n",
              "      <td>0.018412</td>\n",
              "      <td>0.005313</td>\n",
              "      <td>0.063967</td>\n",
              "      <td>0.074458</td>\n",
              "      <td>0.050944</td>\n",
              "      <td>0.884843</td>\n",
              "      <td>-49.062265</td>\n",
              "      <td>76.964602</td>\n",
              "      <td>0.399264</td>\n",
              "    </tr>\n",
              "    <tr>\n",
              "      <th>11</th>\n",
              "      <td>12</td>\n",
              "      <td>0.600001</td>\n",
              "      <td>0.001321</td>\n",
              "      <td>0.340452</td>\n",
              "      <td>1.531473</td>\n",
              "      <td>0.012306</td>\n",
              "      <td>0.002151</td>\n",
              "      <td>0.055358</td>\n",
              "      <td>0.062408</td>\n",
              "      <td>0.034042</td>\n",
              "      <td>0.918885</td>\n",
              "      <td>-65.954762</td>\n",
              "      <td>53.147315</td>\n",
              "      <td>0.330843</td>\n",
              "    </tr>\n",
              "    <tr>\n",
              "      <th>12</th>\n",
              "      <td>13</td>\n",
              "      <td>0.700001</td>\n",
              "      <td>0.000419</td>\n",
              "      <td>0.202984</td>\n",
              "      <td>1.341688</td>\n",
              "      <td>0.007337</td>\n",
              "      <td>0.000820</td>\n",
              "      <td>0.048497</td>\n",
              "      <td>0.053610</td>\n",
              "      <td>0.020299</td>\n",
              "      <td>0.939183</td>\n",
              "      <td>-79.701561</td>\n",
              "      <td>34.168827</td>\n",
              "      <td>0.248152</td>\n",
              "    </tr>\n",
              "    <tr>\n",
              "      <th>13</th>\n",
              "      <td>14</td>\n",
              "      <td>1.000000</td>\n",
              "      <td>0.000000</td>\n",
              "      <td>0.202723</td>\n",
              "      <td>1.000000</td>\n",
              "      <td>0.007328</td>\n",
              "      <td>0.000059</td>\n",
              "      <td>0.036147</td>\n",
              "      <td>0.037544</td>\n",
              "      <td>0.060817</td>\n",
              "      <td>1.000000</td>\n",
              "      <td>-79.727696</td>\n",
              "      <td>0.000000</td>\n",
              "      <td>0.000000</td>\n",
              "    </tr>\n",
              "  </tbody>\n",
              "</table>\n",
              "</div>"
            ],
            "text/plain": [
              "    group  cumulative_data_fraction  ...  cumulative_gain  kolmogorov_smirnov\n",
              "0       1                  0.010001  ...       981.174427            0.101806\n",
              "1       2                  0.020002  ...       767.940610            0.159363\n",
              "2       3                  0.030003  ...       651.056888            0.202660\n",
              "3       4                  0.040001  ...       573.511538            0.238013\n",
              "4       5                  0.050002  ...       519.045216            0.269264\n",
              "5       6                  0.100218  ...       356.395953            0.370566\n",
              "6       7                  0.150002  ...       274.161694            0.426672\n",
              "7       8                  0.202559  ...       215.955480            0.453843\n",
              "8       9                  0.300002  ...       147.740996            0.459847\n",
              "9      10                  0.399999  ...       108.475142            0.450172\n",
              "10     11                  0.500011  ...        76.964602            0.399264\n",
              "11     12                  0.600001  ...        53.147315            0.330843\n",
              "12     13                  0.700001  ...        34.168827            0.248152\n",
              "13     14                  1.000000  ...         0.000000            0.000000\n",
              "\n",
              "[14 rows x 14 columns]"
            ]
          },
          "metadata": {
            "tags": []
          }
        },
        {
          "output_type": "stream",
          "text": [
            "\n",
            "\n",
            "ModelMetricsBinomial: drf\n",
            "** Reported on validation data. **\n",
            "\n",
            "MSE: 0.03071157490750522\n",
            "RMSE: 0.17524718230974562\n",
            "LogLoss: 0.13267563440956423\n",
            "Mean Per-Class Error: 0.24861547353029934\n",
            "AUC: 0.826378639356413\n",
            "AUCPR: 0.2236693606654231\n",
            "Gini: 0.652757278712826\n",
            "\n",
            "Confusion Matrix (Act/Pred) for max f1 @ threshold = 0.1855035085498162: \n"
          ],
          "name": "stdout"
        },
        {
          "output_type": "display_data",
          "data": {
            "text/html": [
              "<div>\n",
              "<style scoped>\n",
              "    .dataframe tbody tr th:only-of-type {\n",
              "        vertical-align: middle;\n",
              "    }\n",
              "\n",
              "    .dataframe tbody tr th {\n",
              "        vertical-align: top;\n",
              "    }\n",
              "\n",
              "    .dataframe thead th {\n",
              "        text-align: right;\n",
              "    }\n",
              "</style>\n",
              "<table border=\"1\" class=\"dataframe\">\n",
              "  <thead>\n",
              "    <tr style=\"text-align: right;\">\n",
              "      <th></th>\n",
              "      <th></th>\n",
              "      <th>FALSE</th>\n",
              "      <th>TRUE</th>\n",
              "      <th>Error</th>\n",
              "      <th>Rate</th>\n",
              "    </tr>\n",
              "  </thead>\n",
              "  <tbody>\n",
              "    <tr>\n",
              "      <th>0</th>\n",
              "      <td>FALSE</td>\n",
              "      <td>70080.0</td>\n",
              "      <td>2233.0</td>\n",
              "      <td>0.0309</td>\n",
              "      <td>(2233.0/72313.0)</td>\n",
              "    </tr>\n",
              "    <tr>\n",
              "      <th>1</th>\n",
              "      <td>TRUE</td>\n",
              "      <td>1851.0</td>\n",
              "      <td>807.0</td>\n",
              "      <td>0.6964</td>\n",
              "      <td>(1851.0/2658.0)</td>\n",
              "    </tr>\n",
              "    <tr>\n",
              "      <th>2</th>\n",
              "      <td>Total</td>\n",
              "      <td>71931.0</td>\n",
              "      <td>3040.0</td>\n",
              "      <td>0.0545</td>\n",
              "      <td>(4084.0/74971.0)</td>\n",
              "    </tr>\n",
              "  </tbody>\n",
              "</table>\n",
              "</div>"
            ],
            "text/plain": [
              "            FALSE    TRUE   Error               Rate\n",
              "0  FALSE  70080.0  2233.0  0.0309   (2233.0/72313.0)\n",
              "1   TRUE   1851.0   807.0  0.6964    (1851.0/2658.0)\n",
              "2  Total  71931.0  3040.0  0.0545   (4084.0/74971.0)"
            ]
          },
          "metadata": {
            "tags": []
          }
        },
        {
          "output_type": "stream",
          "text": [
            "\n",
            "Maximum Metrics: Maximum metrics at their respective thresholds\n"
          ],
          "name": "stdout"
        },
        {
          "output_type": "display_data",
          "data": {
            "text/html": [
              "<div>\n",
              "<style scoped>\n",
              "    .dataframe tbody tr th:only-of-type {\n",
              "        vertical-align: middle;\n",
              "    }\n",
              "\n",
              "    .dataframe tbody tr th {\n",
              "        vertical-align: top;\n",
              "    }\n",
              "\n",
              "    .dataframe thead th {\n",
              "        text-align: right;\n",
              "    }\n",
              "</style>\n",
              "<table border=\"1\" class=\"dataframe\">\n",
              "  <thead>\n",
              "    <tr style=\"text-align: right;\">\n",
              "      <th></th>\n",
              "      <th>metric</th>\n",
              "      <th>threshold</th>\n",
              "      <th>value</th>\n",
              "      <th>idx</th>\n",
              "    </tr>\n",
              "  </thead>\n",
              "  <tbody>\n",
              "    <tr>\n",
              "      <th>0</th>\n",
              "      <td>max f1</td>\n",
              "      <td>0.185504</td>\n",
              "      <td>0.283257</td>\n",
              "      <td>164.0</td>\n",
              "    </tr>\n",
              "    <tr>\n",
              "      <th>1</th>\n",
              "      <td>max f2</td>\n",
              "      <td>0.092517</td>\n",
              "      <td>0.365133</td>\n",
              "      <td>245.0</td>\n",
              "    </tr>\n",
              "    <tr>\n",
              "      <th>2</th>\n",
              "      <td>max f0point5</td>\n",
              "      <td>0.288050</td>\n",
              "      <td>0.307828</td>\n",
              "      <td>107.0</td>\n",
              "    </tr>\n",
              "    <tr>\n",
              "      <th>3</th>\n",
              "      <td>max accuracy</td>\n",
              "      <td>0.507947</td>\n",
              "      <td>0.965133</td>\n",
              "      <td>43.0</td>\n",
              "    </tr>\n",
              "    <tr>\n",
              "      <th>4</th>\n",
              "      <td>max precision</td>\n",
              "      <td>0.996667</td>\n",
              "      <td>1.000000</td>\n",
              "      <td>0.0</td>\n",
              "    </tr>\n",
              "    <tr>\n",
              "      <th>5</th>\n",
              "      <td>max recall</td>\n",
              "      <td>0.000013</td>\n",
              "      <td>1.000000</td>\n",
              "      <td>399.0</td>\n",
              "    </tr>\n",
              "    <tr>\n",
              "      <th>6</th>\n",
              "      <td>max specificity</td>\n",
              "      <td>0.996667</td>\n",
              "      <td>1.000000</td>\n",
              "      <td>0.0</td>\n",
              "    </tr>\n",
              "    <tr>\n",
              "      <th>7</th>\n",
              "      <td>max absolute_mcc</td>\n",
              "      <td>0.185504</td>\n",
              "      <td>0.255698</td>\n",
              "      <td>164.0</td>\n",
              "    </tr>\n",
              "    <tr>\n",
              "      <th>8</th>\n",
              "      <td>max min_per_class_accuracy</td>\n",
              "      <td>0.041619</td>\n",
              "      <td>0.747931</td>\n",
              "      <td>312.0</td>\n",
              "    </tr>\n",
              "    <tr>\n",
              "      <th>9</th>\n",
              "      <td>max mean_per_class_accuracy</td>\n",
              "      <td>0.043816</td>\n",
              "      <td>0.751385</td>\n",
              "      <td>308.0</td>\n",
              "    </tr>\n",
              "    <tr>\n",
              "      <th>10</th>\n",
              "      <td>max tns</td>\n",
              "      <td>0.996667</td>\n",
              "      <td>72313.000000</td>\n",
              "      <td>0.0</td>\n",
              "    </tr>\n",
              "    <tr>\n",
              "      <th>11</th>\n",
              "      <td>max fns</td>\n",
              "      <td>0.996667</td>\n",
              "      <td>2655.000000</td>\n",
              "      <td>0.0</td>\n",
              "    </tr>\n",
              "    <tr>\n",
              "      <th>12</th>\n",
              "      <td>max fps</td>\n",
              "      <td>0.000013</td>\n",
              "      <td>72313.000000</td>\n",
              "      <td>399.0</td>\n",
              "    </tr>\n",
              "    <tr>\n",
              "      <th>13</th>\n",
              "      <td>max tps</td>\n",
              "      <td>0.000013</td>\n",
              "      <td>2658.000000</td>\n",
              "      <td>399.0</td>\n",
              "    </tr>\n",
              "    <tr>\n",
              "      <th>14</th>\n",
              "      <td>max tnr</td>\n",
              "      <td>0.996667</td>\n",
              "      <td>1.000000</td>\n",
              "      <td>0.0</td>\n",
              "    </tr>\n",
              "    <tr>\n",
              "      <th>15</th>\n",
              "      <td>max fnr</td>\n",
              "      <td>0.996667</td>\n",
              "      <td>0.998871</td>\n",
              "      <td>0.0</td>\n",
              "    </tr>\n",
              "    <tr>\n",
              "      <th>16</th>\n",
              "      <td>max fpr</td>\n",
              "      <td>0.000013</td>\n",
              "      <td>1.000000</td>\n",
              "      <td>399.0</td>\n",
              "    </tr>\n",
              "    <tr>\n",
              "      <th>17</th>\n",
              "      <td>max tpr</td>\n",
              "      <td>0.000013</td>\n",
              "      <td>1.000000</td>\n",
              "      <td>399.0</td>\n",
              "    </tr>\n",
              "  </tbody>\n",
              "</table>\n",
              "</div>"
            ],
            "text/plain": [
              "                         metric  threshold         value    idx\n",
              "0                        max f1   0.185504      0.283257  164.0\n",
              "1                        max f2   0.092517      0.365133  245.0\n",
              "2                  max f0point5   0.288050      0.307828  107.0\n",
              "3                  max accuracy   0.507947      0.965133   43.0\n",
              "4                 max precision   0.996667      1.000000    0.0\n",
              "5                    max recall   0.000013      1.000000  399.0\n",
              "6               max specificity   0.996667      1.000000    0.0\n",
              "7              max absolute_mcc   0.185504      0.255698  164.0\n",
              "8    max min_per_class_accuracy   0.041619      0.747931  312.0\n",
              "9   max mean_per_class_accuracy   0.043816      0.751385  308.0\n",
              "10                      max tns   0.996667  72313.000000    0.0\n",
              "11                      max fns   0.996667   2655.000000    0.0\n",
              "12                      max fps   0.000013  72313.000000  399.0\n",
              "13                      max tps   0.000013   2658.000000  399.0\n",
              "14                      max tnr   0.996667      1.000000    0.0\n",
              "15                      max fnr   0.996667      0.998871    0.0\n",
              "16                      max fpr   0.000013      1.000000  399.0\n",
              "17                      max tpr   0.000013      1.000000  399.0"
            ]
          },
          "metadata": {
            "tags": []
          }
        },
        {
          "output_type": "stream",
          "text": [
            "\n",
            "Gains/Lift Table: Avg response rate:  3.55 %, avg score:  3.75 %\n"
          ],
          "name": "stdout"
        },
        {
          "output_type": "display_data",
          "data": {
            "text/html": [
              "<div>\n",
              "<style scoped>\n",
              "    .dataframe tbody tr th:only-of-type {\n",
              "        vertical-align: middle;\n",
              "    }\n",
              "\n",
              "    .dataframe tbody tr th {\n",
              "        vertical-align: top;\n",
              "    }\n",
              "\n",
              "    .dataframe thead th {\n",
              "        text-align: right;\n",
              "    }\n",
              "</style>\n",
              "<table border=\"1\" class=\"dataframe\">\n",
              "  <thead>\n",
              "    <tr style=\"text-align: right;\">\n",
              "      <th></th>\n",
              "      <th>group</th>\n",
              "      <th>cumulative_data_fraction</th>\n",
              "      <th>lower_threshold</th>\n",
              "      <th>lift</th>\n",
              "      <th>cumulative_lift</th>\n",
              "      <th>response_rate</th>\n",
              "      <th>score</th>\n",
              "      <th>cumulative_response_rate</th>\n",
              "      <th>cumulative_score</th>\n",
              "      <th>capture_rate</th>\n",
              "      <th>cumulative_capture_rate</th>\n",
              "      <th>gain</th>\n",
              "      <th>cumulative_gain</th>\n",
              "      <th>kolmogorov_smirnov</th>\n",
              "    </tr>\n",
              "  </thead>\n",
              "  <tbody>\n",
              "    <tr>\n",
              "      <th>0</th>\n",
              "      <td>1</td>\n",
              "      <td>0.010004</td>\n",
              "      <td>0.325072</td>\n",
              "      <td>12.372942</td>\n",
              "      <td>12.372942</td>\n",
              "      <td>0.438667</td>\n",
              "      <td>0.439038</td>\n",
              "      <td>0.438667</td>\n",
              "      <td>0.439038</td>\n",
              "      <td>0.123777</td>\n",
              "      <td>0.123777</td>\n",
              "      <td>1137.294156</td>\n",
              "      <td>1137.294156</td>\n",
              "      <td>0.117955</td>\n",
              "    </tr>\n",
              "    <tr>\n",
              "      <th>1</th>\n",
              "      <td>2</td>\n",
              "      <td>0.020008</td>\n",
              "      <td>0.248567</td>\n",
              "      <td>7.070252</td>\n",
              "      <td>9.721597</td>\n",
              "      <td>0.250667</td>\n",
              "      <td>0.282077</td>\n",
              "      <td>0.344667</td>\n",
              "      <td>0.360557</td>\n",
              "      <td>0.070730</td>\n",
              "      <td>0.194507</td>\n",
              "      <td>607.025232</td>\n",
              "      <td>872.159694</td>\n",
              "      <td>0.180913</td>\n",
              "    </tr>\n",
              "    <tr>\n",
              "      <th>2</th>\n",
              "      <td>3</td>\n",
              "      <td>0.030012</td>\n",
              "      <td>0.210902</td>\n",
              "      <td>5.716374</td>\n",
              "      <td>8.386523</td>\n",
              "      <td>0.202667</td>\n",
              "      <td>0.228056</td>\n",
              "      <td>0.297333</td>\n",
              "      <td>0.316390</td>\n",
              "      <td>0.057186</td>\n",
              "      <td>0.251693</td>\n",
              "      <td>471.637422</td>\n",
              "      <td>738.652270</td>\n",
              "      <td>0.229830</td>\n",
              "    </tr>\n",
              "    <tr>\n",
              "      <th>3</th>\n",
              "      <td>4</td>\n",
              "      <td>0.040002</td>\n",
              "      <td>0.185958</td>\n",
              "      <td>4.933190</td>\n",
              "      <td>7.524053</td>\n",
              "      <td>0.174900</td>\n",
              "      <td>0.197849</td>\n",
              "      <td>0.266756</td>\n",
              "      <td>0.286785</td>\n",
              "      <td>0.049285</td>\n",
              "      <td>0.300978</td>\n",
              "      <td>393.318958</td>\n",
              "      <td>652.405304</td>\n",
              "      <td>0.270569</td>\n",
              "    </tr>\n",
              "    <tr>\n",
              "      <th>4</th>\n",
              "      <td>5</td>\n",
              "      <td>0.050006</td>\n",
              "      <td>0.166226</td>\n",
              "      <td>3.723165</td>\n",
              "      <td>6.763673</td>\n",
              "      <td>0.132000</td>\n",
              "      <td>0.175703</td>\n",
              "      <td>0.239797</td>\n",
              "      <td>0.264562</td>\n",
              "      <td>0.037246</td>\n",
              "      <td>0.338224</td>\n",
              "      <td>272.316479</td>\n",
              "      <td>576.367262</td>\n",
              "      <td>0.298812</td>\n",
              "    </tr>\n",
              "    <tr>\n",
              "      <th>5</th>\n",
              "      <td>6</td>\n",
              "      <td>0.100012</td>\n",
              "      <td>0.107784</td>\n",
              "      <td>3.069609</td>\n",
              "      <td>4.916641</td>\n",
              "      <td>0.108829</td>\n",
              "      <td>0.133063</td>\n",
              "      <td>0.174313</td>\n",
              "      <td>0.198813</td>\n",
              "      <td>0.153499</td>\n",
              "      <td>0.491723</td>\n",
              "      <td>206.960893</td>\n",
              "      <td>391.664078</td>\n",
              "      <td>0.406109</td>\n",
              "    </tr>\n",
              "    <tr>\n",
              "      <th>6</th>\n",
              "      <td>7</td>\n",
              "      <td>0.150005</td>\n",
              "      <td>0.077850</td>\n",
              "      <td>2.016850</td>\n",
              "      <td>3.950216</td>\n",
              "      <td>0.071505</td>\n",
              "      <td>0.091579</td>\n",
              "      <td>0.140050</td>\n",
              "      <td>0.163074</td>\n",
              "      <td>0.100828</td>\n",
              "      <td>0.592551</td>\n",
              "      <td>101.684972</td>\n",
              "      <td>295.021566</td>\n",
              "      <td>0.458813</td>\n",
              "    </tr>\n",
              "    <tr>\n",
              "      <th>7</th>\n",
              "      <td>8</td>\n",
              "      <td>0.200011</td>\n",
              "      <td>0.059189</td>\n",
              "      <td>1.497187</td>\n",
              "      <td>3.336918</td>\n",
              "      <td>0.053081</td>\n",
              "      <td>0.066814</td>\n",
              "      <td>0.118306</td>\n",
              "      <td>0.139008</td>\n",
              "      <td>0.074868</td>\n",
              "      <td>0.667419</td>\n",
              "      <td>49.718671</td>\n",
              "      <td>233.691752</td>\n",
              "      <td>0.484589</td>\n",
              "    </tr>\n",
              "    <tr>\n",
              "      <th>8</th>\n",
              "      <td>9</td>\n",
              "      <td>0.300009</td>\n",
              "      <td>0.033730</td>\n",
              "      <td>1.087298</td>\n",
              "      <td>2.587078</td>\n",
              "      <td>0.038549</td>\n",
              "      <td>0.044971</td>\n",
              "      <td>0.091722</td>\n",
              "      <td>0.107663</td>\n",
              "      <td>0.108728</td>\n",
              "      <td>0.776147</td>\n",
              "      <td>8.729817</td>\n",
              "      <td>158.707775</td>\n",
              "      <td>0.493639</td>\n",
              "    </tr>\n",
              "    <tr>\n",
              "      <th>9</th>\n",
              "      <td>10</td>\n",
              "      <td>0.400008</td>\n",
              "      <td>0.021259</td>\n",
              "      <td>0.714833</td>\n",
              "      <td>2.119032</td>\n",
              "      <td>0.025343</td>\n",
              "      <td>0.025871</td>\n",
              "      <td>0.075128</td>\n",
              "      <td>0.087216</td>\n",
              "      <td>0.071482</td>\n",
              "      <td>0.847630</td>\n",
              "      <td>-28.516729</td>\n",
              "      <td>111.903210</td>\n",
              "      <td>0.464075</td>\n",
              "    </tr>\n",
              "    <tr>\n",
              "      <th>10</th>\n",
              "      <td>11</td>\n",
              "      <td>0.500007</td>\n",
              "      <td>0.009280</td>\n",
              "      <td>0.579391</td>\n",
              "      <td>1.811112</td>\n",
              "      <td>0.020542</td>\n",
              "      <td>0.016667</td>\n",
              "      <td>0.064211</td>\n",
              "      <td>0.073107</td>\n",
              "      <td>0.057938</td>\n",
              "      <td>0.905568</td>\n",
              "      <td>-42.060928</td>\n",
              "      <td>81.111204</td>\n",
              "      <td>0.420469</td>\n",
              "    </tr>\n",
              "    <tr>\n",
              "      <th>11</th>\n",
              "      <td>12</td>\n",
              "      <td>0.600005</td>\n",
              "      <td>0.003341</td>\n",
              "      <td>0.334843</td>\n",
              "      <td>1.565073</td>\n",
              "      <td>0.011871</td>\n",
              "      <td>0.005657</td>\n",
              "      <td>0.055488</td>\n",
              "      <td>0.061865</td>\n",
              "      <td>0.033484</td>\n",
              "      <td>0.939052</td>\n",
              "      <td>-66.515731</td>\n",
              "      <td>56.507261</td>\n",
              "      <td>0.351509</td>\n",
              "    </tr>\n",
              "    <tr>\n",
              "      <th>12</th>\n",
              "      <td>13</td>\n",
              "      <td>0.700044</td>\n",
              "      <td>0.001418</td>\n",
              "      <td>0.221886</td>\n",
              "      <td>1.373127</td>\n",
              "      <td>0.007867</td>\n",
              "      <td>0.002230</td>\n",
              "      <td>0.048682</td>\n",
              "      <td>0.053343</td>\n",
              "      <td>0.022197</td>\n",
              "      <td>0.961249</td>\n",
              "      <td>-77.811442</td>\n",
              "      <td>37.312660</td>\n",
              "      <td>0.270806</td>\n",
              "    </tr>\n",
              "    <tr>\n",
              "      <th>13</th>\n",
              "      <td>14</td>\n",
              "      <td>0.800003</td>\n",
              "      <td>0.000542</td>\n",
              "      <td>0.184425</td>\n",
              "      <td>1.224601</td>\n",
              "      <td>0.006539</td>\n",
              "      <td>0.000926</td>\n",
              "      <td>0.043417</td>\n",
              "      <td>0.046794</td>\n",
              "      <td>0.018435</td>\n",
              "      <td>0.979684</td>\n",
              "      <td>-81.557461</td>\n",
              "      <td>22.460088</td>\n",
              "      <td>0.186286</td>\n",
              "    </tr>\n",
              "    <tr>\n",
              "      <th>14</th>\n",
              "      <td>15</td>\n",
              "      <td>0.900188</td>\n",
              "      <td>0.000097</td>\n",
              "      <td>0.123924</td>\n",
              "      <td>1.102102</td>\n",
              "      <td>0.004394</td>\n",
              "      <td>0.000294</td>\n",
              "      <td>0.039074</td>\n",
              "      <td>0.041619</td>\n",
              "      <td>0.012415</td>\n",
              "      <td>0.992099</td>\n",
              "      <td>-87.607626</td>\n",
              "      <td>10.210227</td>\n",
              "      <td>0.095290</td>\n",
              "    </tr>\n",
              "    <tr>\n",
              "      <th>15</th>\n",
              "      <td>16</td>\n",
              "      <td>1.000000</td>\n",
              "      <td>0.000000</td>\n",
              "      <td>0.079156</td>\n",
              "      <td>1.000000</td>\n",
              "      <td>0.002806</td>\n",
              "      <td>0.000020</td>\n",
              "      <td>0.035454</td>\n",
              "      <td>0.037467</td>\n",
              "      <td>0.007901</td>\n",
              "      <td>1.000000</td>\n",
              "      <td>-92.084436</td>\n",
              "      <td>0.000000</td>\n",
              "      <td>0.000000</td>\n",
              "    </tr>\n",
              "  </tbody>\n",
              "</table>\n",
              "</div>"
            ],
            "text/plain": [
              "    group  cumulative_data_fraction  ...  cumulative_gain  kolmogorov_smirnov\n",
              "0       1                  0.010004  ...      1137.294156            0.117955\n",
              "1       2                  0.020008  ...       872.159694            0.180913\n",
              "2       3                  0.030012  ...       738.652270            0.229830\n",
              "3       4                  0.040002  ...       652.405304            0.270569\n",
              "4       5                  0.050006  ...       576.367262            0.298812\n",
              "5       6                  0.100012  ...       391.664078            0.406109\n",
              "6       7                  0.150005  ...       295.021566            0.458813\n",
              "7       8                  0.200011  ...       233.691752            0.484589\n",
              "8       9                  0.300009  ...       158.707775            0.493639\n",
              "9      10                  0.400008  ...       111.903210            0.464075\n",
              "10     11                  0.500007  ...        81.111204            0.420469\n",
              "11     12                  0.600005  ...        56.507261            0.351509\n",
              "12     13                  0.700044  ...        37.312660            0.270806\n",
              "13     14                  0.800003  ...        22.460088            0.186286\n",
              "14     15                  0.900188  ...        10.210227            0.095290\n",
              "15     16                  1.000000  ...         0.000000            0.000000\n",
              "\n",
              "[16 rows x 14 columns]"
            ]
          },
          "metadata": {
            "tags": []
          }
        },
        {
          "output_type": "stream",
          "text": [
            "\n",
            "\n",
            "Scoring History: \n"
          ],
          "name": "stdout"
        },
        {
          "output_type": "display_data",
          "data": {
            "text/html": [
              "<div>\n",
              "<style scoped>\n",
              "    .dataframe tbody tr th:only-of-type {\n",
              "        vertical-align: middle;\n",
              "    }\n",
              "\n",
              "    .dataframe tbody tr th {\n",
              "        vertical-align: top;\n",
              "    }\n",
              "\n",
              "    .dataframe thead th {\n",
              "        text-align: right;\n",
              "    }\n",
              "</style>\n",
              "<table border=\"1\" class=\"dataframe\">\n",
              "  <thead>\n",
              "    <tr style=\"text-align: right;\">\n",
              "      <th></th>\n",
              "      <th></th>\n",
              "      <th>timestamp</th>\n",
              "      <th>duration</th>\n",
              "      <th>number_of_trees</th>\n",
              "      <th>training_rmse</th>\n",
              "      <th>training_logloss</th>\n",
              "      <th>training_auc</th>\n",
              "      <th>training_pr_auc</th>\n",
              "      <th>training_lift</th>\n",
              "      <th>training_classification_error</th>\n",
              "      <th>validation_rmse</th>\n",
              "      <th>validation_logloss</th>\n",
              "      <th>validation_auc</th>\n",
              "      <th>validation_pr_auc</th>\n",
              "      <th>validation_lift</th>\n",
              "      <th>validation_classification_error</th>\n",
              "    </tr>\n",
              "  </thead>\n",
              "  <tbody>\n",
              "    <tr>\n",
              "      <th>0</th>\n",
              "      <td></td>\n",
              "      <td>2021-04-29 01:41:15</td>\n",
              "      <td>0.081 sec</td>\n",
              "      <td>0.0</td>\n",
              "      <td>NaN</td>\n",
              "      <td>NaN</td>\n",
              "      <td>NaN</td>\n",
              "      <td>NaN</td>\n",
              "      <td>NaN</td>\n",
              "      <td>NaN</td>\n",
              "      <td>NaN</td>\n",
              "      <td>NaN</td>\n",
              "      <td>NaN</td>\n",
              "      <td>NaN</td>\n",
              "      <td>NaN</td>\n",
              "      <td>NaN</td>\n",
              "    </tr>\n",
              "    <tr>\n",
              "      <th>1</th>\n",
              "      <td></td>\n",
              "      <td>2021-04-29 01:41:18</td>\n",
              "      <td>3.481 sec</td>\n",
              "      <td>1.0</td>\n",
              "      <td>0.238486</td>\n",
              "      <td>1.772648</td>\n",
              "      <td>0.579630</td>\n",
              "      <td>0.068566</td>\n",
              "      <td>4.199508</td>\n",
              "      <td>0.074234</td>\n",
              "      <td>0.235348</td>\n",
              "      <td>1.725575</td>\n",
              "      <td>0.585285</td>\n",
              "      <td>0.071755</td>\n",
              "      <td>4.582604</td>\n",
              "      <td>0.070080</td>\n",
              "    </tr>\n",
              "    <tr>\n",
              "      <th>2</th>\n",
              "      <td></td>\n",
              "      <td>2021-04-29 01:41:25</td>\n",
              "      <td>10.160 sec</td>\n",
              "      <td>5.0</td>\n",
              "      <td>0.215222</td>\n",
              "      <td>1.074432</td>\n",
              "      <td>0.622662</td>\n",
              "      <td>0.086922</td>\n",
              "      <td>5.021408</td>\n",
              "      <td>0.087262</td>\n",
              "      <td>0.187744</td>\n",
              "      <td>0.433595</td>\n",
              "      <td>0.718994</td>\n",
              "      <td>0.145652</td>\n",
              "      <td>9.138677</td>\n",
              "      <td>0.060063</td>\n",
              "    </tr>\n",
              "    <tr>\n",
              "      <th>3</th>\n",
              "      <td></td>\n",
              "      <td>2021-04-29 01:41:40</td>\n",
              "      <td>25.301 sec</td>\n",
              "      <td>17.0</td>\n",
              "      <td>0.188311</td>\n",
              "      <td>0.416351</td>\n",
              "      <td>0.729076</td>\n",
              "      <td>0.142141</td>\n",
              "      <td>8.496752</td>\n",
              "      <td>0.072041</td>\n",
              "      <td>0.178403</td>\n",
              "      <td>0.195225</td>\n",
              "      <td>0.794089</td>\n",
              "      <td>0.193561</td>\n",
              "      <td>10.966929</td>\n",
              "      <td>0.062504</td>\n",
              "    </tr>\n",
              "    <tr>\n",
              "      <th>4</th>\n",
              "      <td></td>\n",
              "      <td>2021-04-29 01:42:00</td>\n",
              "      <td>45.449 sec</td>\n",
              "      <td>34.0</td>\n",
              "      <td>0.181418</td>\n",
              "      <td>0.242443</td>\n",
              "      <td>0.781406</td>\n",
              "      <td>0.182832</td>\n",
              "      <td>10.365603</td>\n",
              "      <td>0.070632</td>\n",
              "      <td>0.176017</td>\n",
              "      <td>0.145176</td>\n",
              "      <td>0.816730</td>\n",
              "      <td>0.215828</td>\n",
              "      <td>11.846433</td>\n",
              "      <td>0.059130</td>\n",
              "    </tr>\n",
              "    <tr>\n",
              "      <th>5</th>\n",
              "      <td></td>\n",
              "      <td>2021-04-29 01:42:21</td>\n",
              "      <td>1 min  5.660 sec</td>\n",
              "      <td>50.0</td>\n",
              "      <td>0.179361</td>\n",
              "      <td>0.188080</td>\n",
              "      <td>0.803437</td>\n",
              "      <td>0.198803</td>\n",
              "      <td>10.811744</td>\n",
              "      <td>0.067551</td>\n",
              "      <td>0.175247</td>\n",
              "      <td>0.132676</td>\n",
              "      <td>0.826379</td>\n",
              "      <td>0.223669</td>\n",
              "      <td>12.372942</td>\n",
              "      <td>0.054474</td>\n",
              "    </tr>\n",
              "  </tbody>\n",
              "</table>\n",
              "</div>"
            ],
            "text/plain": [
              "               timestamp  ... validation_lift  validation_classification_error\n",
              "0    2021-04-29 01:41:15  ...             NaN                              NaN\n",
              "1    2021-04-29 01:41:18  ...        4.582604                         0.070080\n",
              "2    2021-04-29 01:41:25  ...        9.138677                         0.060063\n",
              "3    2021-04-29 01:41:40  ...       10.966929                         0.062504\n",
              "4    2021-04-29 01:42:00  ...       11.846433                         0.059130\n",
              "5    2021-04-29 01:42:21  ...       12.372942                         0.054474\n",
              "\n",
              "[6 rows x 16 columns]"
            ]
          },
          "metadata": {
            "tags": []
          }
        },
        {
          "output_type": "stream",
          "text": [
            "\n",
            "Variable Importances: \n"
          ],
          "name": "stdout"
        },
        {
          "output_type": "display_data",
          "data": {
            "text/html": [
              "<div>\n",
              "<style scoped>\n",
              "    .dataframe tbody tr th:only-of-type {\n",
              "        vertical-align: middle;\n",
              "    }\n",
              "\n",
              "    .dataframe tbody tr th {\n",
              "        vertical-align: top;\n",
              "    }\n",
              "\n",
              "    .dataframe thead th {\n",
              "        text-align: right;\n",
              "    }\n",
              "</style>\n",
              "<table border=\"1\" class=\"dataframe\">\n",
              "  <thead>\n",
              "    <tr style=\"text-align: right;\">\n",
              "      <th></th>\n",
              "      <th>variable</th>\n",
              "      <th>relative_importance</th>\n",
              "      <th>scaled_importance</th>\n",
              "      <th>percentage</th>\n",
              "    </tr>\n",
              "  </thead>\n",
              "  <tbody>\n",
              "    <tr>\n",
              "      <th>0</th>\n",
              "      <td>PROPERTY_STATE</td>\n",
              "      <td>42236.546875</td>\n",
              "      <td>1.000000</td>\n",
              "      <td>0.134475</td>\n",
              "    </tr>\n",
              "    <tr>\n",
              "      <th>1</th>\n",
              "      <td>CREDIT_SCORE</td>\n",
              "      <td>38299.613281</td>\n",
              "      <td>0.906788</td>\n",
              "      <td>0.121940</td>\n",
              "    </tr>\n",
              "    <tr>\n",
              "      <th>2</th>\n",
              "      <td>SELLER_NAME</td>\n",
              "      <td>31417.185547</td>\n",
              "      <td>0.743839</td>\n",
              "      <td>0.100028</td>\n",
              "    </tr>\n",
              "    <tr>\n",
              "      <th>3</th>\n",
              "      <td>SERVICER_NAME</td>\n",
              "      <td>25920.623047</td>\n",
              "      <td>0.613701</td>\n",
              "      <td>0.082527</td>\n",
              "    </tr>\n",
              "    <tr>\n",
              "      <th>4</th>\n",
              "      <td>ORIGINAL_DEBT_TO_INCOME_RATIO</td>\n",
              "      <td>23534.988281</td>\n",
              "      <td>0.557219</td>\n",
              "      <td>0.074932</td>\n",
              "    </tr>\n",
              "    <tr>\n",
              "      <th>5</th>\n",
              "      <td>ORIGINAL_UPB</td>\n",
              "      <td>23414.837891</td>\n",
              "      <td>0.554374</td>\n",
              "      <td>0.074549</td>\n",
              "    </tr>\n",
              "    <tr>\n",
              "      <th>6</th>\n",
              "      <td>METROPOLITAN_STATISTICAL_AREA</td>\n",
              "      <td>20642.494141</td>\n",
              "      <td>0.488735</td>\n",
              "      <td>0.065723</td>\n",
              "    </tr>\n",
              "    <tr>\n",
              "      <th>7</th>\n",
              "      <td>ORIGINAL_INTEREST_RATE</td>\n",
              "      <td>20437.968750</td>\n",
              "      <td>0.483893</td>\n",
              "      <td>0.065071</td>\n",
              "    </tr>\n",
              "    <tr>\n",
              "      <th>8</th>\n",
              "      <td>ORIGINAL_LOAN_TO_VALUE</td>\n",
              "      <td>13487.042969</td>\n",
              "      <td>0.319322</td>\n",
              "      <td>0.042941</td>\n",
              "    </tr>\n",
              "    <tr>\n",
              "      <th>9</th>\n",
              "      <td>POSTAL_CODE</td>\n",
              "      <td>12512.929688</td>\n",
              "      <td>0.296258</td>\n",
              "      <td>0.039839</td>\n",
              "    </tr>\n",
              "    <tr>\n",
              "      <th>10</th>\n",
              "      <td>ORIGINAL_COMBINED_LOAN_TO_VALUE</td>\n",
              "      <td>11854.041016</td>\n",
              "      <td>0.280658</td>\n",
              "      <td>0.037742</td>\n",
              "    </tr>\n",
              "    <tr>\n",
              "      <th>11</th>\n",
              "      <td>MORTGAGE_INSURANCE_PERCENTAGE</td>\n",
              "      <td>7334.125000</td>\n",
              "      <td>0.173644</td>\n",
              "      <td>0.023351</td>\n",
              "    </tr>\n",
              "    <tr>\n",
              "      <th>12</th>\n",
              "      <td>LOAN_PURPOSE</td>\n",
              "      <td>7286.483887</td>\n",
              "      <td>0.172516</td>\n",
              "      <td>0.023199</td>\n",
              "    </tr>\n",
              "    <tr>\n",
              "      <th>13</th>\n",
              "      <td>MATURITY_DATE</td>\n",
              "      <td>6375.242676</td>\n",
              "      <td>0.150941</td>\n",
              "      <td>0.020298</td>\n",
              "    </tr>\n",
              "    <tr>\n",
              "      <th>14</th>\n",
              "      <td>FIRST_PAYMENT_DATE</td>\n",
              "      <td>6201.092773</td>\n",
              "      <td>0.146818</td>\n",
              "      <td>0.019743</td>\n",
              "    </tr>\n",
              "    <tr>\n",
              "      <th>15</th>\n",
              "      <td>FIRST_TIME_HOMEBUYER_FLAG</td>\n",
              "      <td>5562.740234</td>\n",
              "      <td>0.131704</td>\n",
              "      <td>0.017711</td>\n",
              "    </tr>\n",
              "    <tr>\n",
              "      <th>16</th>\n",
              "      <td>PROPERTY_TYPE</td>\n",
              "      <td>5073.029297</td>\n",
              "      <td>0.120110</td>\n",
              "      <td>0.016152</td>\n",
              "    </tr>\n",
              "    <tr>\n",
              "      <th>17</th>\n",
              "      <td>CHANNEL</td>\n",
              "      <td>4179.753418</td>\n",
              "      <td>0.098961</td>\n",
              "      <td>0.013308</td>\n",
              "    </tr>\n",
              "    <tr>\n",
              "      <th>18</th>\n",
              "      <td>NUMBER_OF_BORROWERS</td>\n",
              "      <td>4068.819824</td>\n",
              "      <td>0.096334</td>\n",
              "      <td>0.012955</td>\n",
              "    </tr>\n",
              "    <tr>\n",
              "      <th>19</th>\n",
              "      <td>OCCUPANCY_STATUS</td>\n",
              "      <td>2614.186768</td>\n",
              "      <td>0.061894</td>\n",
              "      <td>0.008323</td>\n",
              "    </tr>\n",
              "  </tbody>\n",
              "</table>\n",
              "</div>"
            ],
            "text/plain": [
              "                           variable  ...  percentage\n",
              "0                    PROPERTY_STATE  ...    0.134475\n",
              "1                      CREDIT_SCORE  ...    0.121940\n",
              "2                       SELLER_NAME  ...    0.100028\n",
              "3                     SERVICER_NAME  ...    0.082527\n",
              "4     ORIGINAL_DEBT_TO_INCOME_RATIO  ...    0.074932\n",
              "5                      ORIGINAL_UPB  ...    0.074549\n",
              "6     METROPOLITAN_STATISTICAL_AREA  ...    0.065723\n",
              "7            ORIGINAL_INTEREST_RATE  ...    0.065071\n",
              "8            ORIGINAL_LOAN_TO_VALUE  ...    0.042941\n",
              "9                       POSTAL_CODE  ...    0.039839\n",
              "10  ORIGINAL_COMBINED_LOAN_TO_VALUE  ...    0.037742\n",
              "11    MORTGAGE_INSURANCE_PERCENTAGE  ...    0.023351\n",
              "12                     LOAN_PURPOSE  ...    0.023199\n",
              "13                    MATURITY_DATE  ...    0.020298\n",
              "14               FIRST_PAYMENT_DATE  ...    0.019743\n",
              "15        FIRST_TIME_HOMEBUYER_FLAG  ...    0.017711\n",
              "16                    PROPERTY_TYPE  ...    0.016152\n",
              "17                          CHANNEL  ...    0.013308\n",
              "18              NUMBER_OF_BORROWERS  ...    0.012955\n",
              "19                 OCCUPANCY_STATUS  ...    0.008323\n",
              "\n",
              "[20 rows x 4 columns]"
            ]
          },
          "metadata": {
            "tags": []
          }
        },
        {
          "output_type": "stream",
          "text": [
            "\n",
            "See the whole table with table.as_data_frame()\n"
          ],
          "name": "stdout"
        },
        {
          "output_type": "execute_result",
          "data": {
            "text/plain": [
              ""
            ]
          },
          "metadata": {
            "tags": []
          },
          "execution_count": 24
        }
      ]
    },
    {
      "cell_type": "code",
      "metadata": {
        "colab": {
          "base_uri": "https://localhost:8080/",
          "height": 296
        },
        "id": "aEgc8ikyZaZw",
        "outputId": "8ffd6395-a3a5-436a-dd06-7107b3d64a11"
      },
      "source": [
        "# Scoring plot\n",
        "rf.plot(metric = 'auc')"
      ],
      "execution_count": 25,
      "outputs": [
        {
          "output_type": "display_data",
          "data": {
            "image/png": "[encoded data removed]",
            "text/plain": [
              "<Figure size 432x288 with 1 Axes>"
            ]
          },
          "metadata": {
            "tags": [],
            "needs_background": "light"
          }
        }
      ]
    },
    {
      "cell_type": "code",
      "metadata": {
        "colab": {
          "base_uri": "https://localhost:8080/",
          "height": 612
        },
        "id": "EQ7GoxwibFcW",
        "outputId": "79d284d6-3ca7-4e9b-f026-3293b943965e"
      },
      "source": [
        "# Variable importance\n",
        "rf.varimp_plot(20)"
      ],
      "execution_count": 26,
      "outputs": [
        {
          "output_type": "display_data",
          "data": {
            "image/png": "[encoded data removed]",
            "text/plain": [
              "<Figure size 1008x720 with 1 Axes>"
            ]
          },
          "metadata": {
            "tags": [],
            "needs_background": "light"
          }
        }
      ]
    },
    {
      "cell_type": "code",
      "metadata": {
        "colab": {
          "base_uri": "https://localhost:8080/"
        },
        "id": "XaGkQV_EbK6q",
        "outputId": "08290338-30c2-422e-9d79-ae70e11565c0"
      },
      "source": [
        "# Calling the F1 score indicator\n",
        "rf.F1()"
      ],
      "execution_count": 27,
      "outputs": [
        {
          "output_type": "execute_result",
          "data": {
            "text/plain": [
              "[[0.1714152473716729, 0.2621386472074095]]"
            ]
          },
          "metadata": {
            "tags": []
          },
          "execution_count": 27
        }
      ]
    },
    {
      "cell_type": "code",
      "metadata": {
        "colab": {
          "base_uri": "https://localhost:8080/",
          "height": 255
        },
        "id": "SRLj4UZ9cOJ8",
        "outputId": "44411be8-6c1d-4034-fc18-57ae645c677f"
      },
      "source": [
        "# Comparing predictions with the first model\n",
        "rf.predict(valid)"
      ],
      "execution_count": 28,
      "outputs": [
        {
          "output_type": "stream",
          "text": [
            "drf prediction progress: |████████████████████████████████████████████████| 100%\n"
          ],
          "name": "stdout"
        },
        {
          "output_type": "display_data",
          "data": {
            "text/html": [
              "<table>\n",
              "<thead>\n",
              "<tr><th>predict  </th><th style=\"text-align: right;\">   FALSE</th><th style=\"text-align: right;\">       TRUE</th></tr>\n",
              "</thead>\n",
              "<tbody>\n",
              "<tr><td>FALSE    </td><td style=\"text-align: right;\">0.89606 </td><td style=\"text-align: right;\">0.10394    </td></tr>\n",
              "<tr><td>FALSE    </td><td style=\"text-align: right;\">0.989924</td><td style=\"text-align: right;\">0.0100759  </td></tr>\n",
              "<tr><td>FALSE    </td><td style=\"text-align: right;\">0.99179 </td><td style=\"text-align: right;\">0.00820961 </td></tr>\n",
              "<tr><td>FALSE    </td><td style=\"text-align: right;\">0.994186</td><td style=\"text-align: right;\">0.005814   </td></tr>\n",
              "<tr><td>FALSE    </td><td style=\"text-align: right;\">0.999108</td><td style=\"text-align: right;\">0.00089201 </td></tr>\n",
              "<tr><td>TRUE     </td><td style=\"text-align: right;\">0.726028</td><td style=\"text-align: right;\">0.273972   </td></tr>\n",
              "<tr><td>FALSE    </td><td style=\"text-align: right;\">0.999971</td><td style=\"text-align: right;\">2.88916e-05</td></tr>\n",
              "<tr><td>FALSE    </td><td style=\"text-align: right;\">0.999835</td><td style=\"text-align: right;\">0.000164608</td></tr>\n",
              "<tr><td>FALSE    </td><td style=\"text-align: right;\">0.847452</td><td style=\"text-align: right;\">0.152548   </td></tr>\n",
              "<tr><td>FALSE    </td><td style=\"text-align: right;\">1       </td><td style=\"text-align: right;\">0          </td></tr>\n",
              "</tbody>\n",
              "</table>"
            ]
          },
          "metadata": {
            "tags": []
          }
        },
        {
          "output_type": "execute_result",
          "data": {
            "text/plain": [
              ""
            ]
          },
          "metadata": {
            "tags": []
          },
          "execution_count": 28
        }
      ]
    },
    {
      "cell_type": "code",
      "metadata": {
        "id": "aCZ0oVP3ccuh"
      },
      "source": [
        "# Saving model performance\n",
        "default_rf_per = rf.model_performance(valid)"
      ],
      "execution_count": 29,
      "outputs": []
    },
    {
      "cell_type": "markdown",
      "metadata": {
        "id": "WIEpZXBBG7VD"
      },
      "source": [
        "### Build a GBM\n",
        "\n",
        "Gradient Boosting Machine (for Regression and Classification) is a forward learning ensemble method. H2O's GBM sequentially builds classification trees on all the features of the dataset in a fully distributed way - each tree is built in parallel."
      ]
    },
    {
      "cell_type": "code",
      "metadata": {
        "colab": {
          "base_uri": "https://localhost:8080/"
        },
        "id": "Gl3MJkc6G6Cr",
        "outputId": "fc1a8983-c99d-4561-f90b-8ab1d7b715dd"
      },
      "source": [
        "# Defining and summarizing the model\n",
        "gbm = H2OGradientBoostingEstimator(seed = 42, \n",
        "                                   model_id = 'default_gbm')\n",
        "\n",
        "%time gbm.train(x = x, y = y, training_frame = train, validation_frame = valid)"
      ],
      "execution_count": 30,
      "outputs": [
        {
          "output_type": "stream",
          "text": [
            "/usr/local/lib/python3.7/dist-packages/h2o/estimators/estimator_base.py:200: RuntimeWarning: Dropping bad and constant columns: [LOAN_SEQUENCE_NUMBER]\n",
            "  warnings.warn(mesg[\"message\"], RuntimeWarning)\n"
          ],
          "name": "stderr"
        },
        {
          "output_type": "stream",
          "text": [
            "gbm Model Build progress: |███████████████████████████████████████████████| 100%\n",
            "CPU times: user 801 ms, sys: 69.9 ms, total: 871 ms\n",
            "Wall time: 36.8 s\n"
          ],
          "name": "stdout"
        }
      ]
    },
    {
      "cell_type": "code",
      "metadata": {
        "colab": {
          "base_uri": "https://localhost:8080/",
          "height": 255
        },
        "id": "znxDbaM7HgU1",
        "outputId": "0a82c607-db7a-48ec-cbe5-87684316b4f0"
      },
      "source": [
        "# Predictions\n",
        "gbm.predict(valid)"
      ],
      "execution_count": 31,
      "outputs": [
        {
          "output_type": "stream",
          "text": [
            "gbm prediction progress: |████████████████████████████████████████████████| 100%\n"
          ],
          "name": "stdout"
        },
        {
          "output_type": "display_data",
          "data": {
            "text/html": [
              "<table>\n",
              "<thead>\n",
              "<tr><th>predict  </th><th style=\"text-align: right;\">   FALSE</th><th style=\"text-align: right;\">      TRUE</th></tr>\n",
              "</thead>\n",
              "<tbody>\n",
              "<tr><td>FALSE    </td><td style=\"text-align: right;\">0.978372</td><td style=\"text-align: right;\">0.0216281 </td></tr>\n",
              "<tr><td>FALSE    </td><td style=\"text-align: right;\">0.995024</td><td style=\"text-align: right;\">0.00497636</td></tr>\n",
              "<tr><td>FALSE    </td><td style=\"text-align: right;\">0.964645</td><td style=\"text-align: right;\">0.0353549 </td></tr>\n",
              "<tr><td>FALSE    </td><td style=\"text-align: right;\">0.99305 </td><td style=\"text-align: right;\">0.00694996</td></tr>\n",
              "<tr><td>FALSE    </td><td style=\"text-align: right;\">0.99217 </td><td style=\"text-align: right;\">0.0078297 </td></tr>\n",
              "<tr><td>TRUE     </td><td style=\"text-align: right;\">0.591272</td><td style=\"text-align: right;\">0.408728  </td></tr>\n",
              "<tr><td>FALSE    </td><td style=\"text-align: right;\">0.993899</td><td style=\"text-align: right;\">0.00610064</td></tr>\n",
              "<tr><td>FALSE    </td><td style=\"text-align: right;\">0.995599</td><td style=\"text-align: right;\">0.00440117</td></tr>\n",
              "<tr><td>FALSE    </td><td style=\"text-align: right;\">0.950489</td><td style=\"text-align: right;\">0.0495107 </td></tr>\n",
              "<tr><td>FALSE    </td><td style=\"text-align: right;\">0.992925</td><td style=\"text-align: right;\">0.00707464</td></tr>\n",
              "</tbody>\n",
              "</table>"
            ]
          },
          "metadata": {
            "tags": []
          }
        },
        {
          "output_type": "execute_result",
          "data": {
            "text/plain": [
              ""
            ]
          },
          "metadata": {
            "tags": []
          },
          "execution_count": 31
        }
      ]
    },
    {
      "cell_type": "code",
      "metadata": {
        "id": "B3viLxyXHgec"
      },
      "source": [
        "# Save the model performance.\n",
        "default_gbm_per = gbm.model_performance(valid)"
      ],
      "execution_count": 32,
      "outputs": []
    },
    {
      "cell_type": "markdown",
      "metadata": {
        "id": "KTjnOL57H7zW"
      },
      "source": [
        "### Tune the GLM with H2O GridSearch\n",
        "\n",
        "H2O supports two types of grid search – traditional (or \"cartesian\") grid search and random grid search.\n",
        "\n",
        "Cartesian ► you specify a set of values for each hyperparameter that you want to search over, and H2O will train a model for every combination of the hyperparameter values. This means that if you have three hyperparameters and you specify 5, 10, and 2 values for each, your grid will contain a total of 5*10*2 = 100 models.\n",
        "\n",
        "Random ► you specify the hyperparameter space in the exact same way, except H2O will sample uniformly from the set of all possible hyperparameter value combinations."
      ]
    },
    {
      "cell_type": "code",
      "metadata": {
        "colab": {
          "base_uri": "https://localhost:8080/"
        },
        "id": "sfvTE4ERHgmJ",
        "outputId": "4b240ca1-8a1a-4cb7-a6c1-b66a03689434"
      },
      "source": [
        "glm_grid = h2o.grid.H2OGridSearch (\n",
        "    \n",
        "    H2OGeneralizedLinearEstimator(family = \"binomial\",\n",
        "                                  lambda_search = True),\n",
        "    \n",
        "    hyper_params = {\"alpha\": [x*0.01 for x in range(0, 100)],\n",
        "                    \"missing_values_handling\" : [\"Skip\", \"MeanImputation\"]},\n",
        "    \n",
        "    grid_id = \"glm_random_grid\",\n",
        "    \n",
        "    search_criteria = {\n",
        "        \"strategy\":\"RandomDiscrete\",\n",
        "        \"max_models\":300,\n",
        "        \"max_runtime_secs\":300,\n",
        "        \"seed\":42})\n",
        "\n",
        "%time glm_grid.train(x = x, y = y, training_frame = train, validation_frame = valid)"
      ],
      "execution_count": 33,
      "outputs": [
        {
          "output_type": "stream",
          "text": [
            "glm Grid Build progress: |████████████████████████████████████████████████| 100%\n",
            "CPU times: user 3.43 s, sys: 237 ms, total: 3.66 s\n",
            "Wall time: 5min 2s\n"
          ],
          "name": "stdout"
        }
      ]
    },
    {
      "cell_type": "code",
      "metadata": {
        "colab": {
          "base_uri": "https://localhost:8080/",
          "height": 225
        },
        "id": "Zhy7-vz4KSxw",
        "outputId": "b7fe1150-84d4-434a-b5fd-17d8812e38cc"
      },
      "source": [
        "# Print the models in descending order, sorted by the AUC.\n",
        "sorted_glm_grid = glm_grid.get_grid(sort_by = 'auc', decreasing = True)\n",
        "sorted_glm_grid.sorted_metric_table()"
      ],
      "execution_count": 34,
      "outputs": [
        {
          "output_type": "execute_result",
          "data": {
            "text/html": [
              "<div>\n",
              "<style scoped>\n",
              "    .dataframe tbody tr th:only-of-type {\n",
              "        vertical-align: middle;\n",
              "    }\n",
              "\n",
              "    .dataframe tbody tr th {\n",
              "        vertical-align: top;\n",
              "    }\n",
              "\n",
              "    .dataframe thead th {\n",
              "        text-align: right;\n",
              "    }\n",
              "</style>\n",
              "<table border=\"1\" class=\"dataframe\">\n",
              "  <thead>\n",
              "    <tr style=\"text-align: right;\">\n",
              "      <th></th>\n",
              "      <th></th>\n",
              "      <th>alpha</th>\n",
              "      <th>missing_values_handling</th>\n",
              "      <th>model_ids</th>\n",
              "      <th>auc</th>\n",
              "    </tr>\n",
              "  </thead>\n",
              "  <tbody>\n",
              "    <tr>\n",
              "      <th>0</th>\n",
              "      <td></td>\n",
              "      <td>[0.44]</td>\n",
              "      <td>Skip</td>\n",
              "      <td>glm_random_grid_model_3</td>\n",
              "      <td>0.8533995870569479</td>\n",
              "    </tr>\n",
              "    <tr>\n",
              "      <th>1</th>\n",
              "      <td></td>\n",
              "      <td>[0.33]</td>\n",
              "      <td>Skip</td>\n",
              "      <td>glm_random_grid_model_2</td>\n",
              "      <td>0.8533701061733173</td>\n",
              "    </tr>\n",
              "    <tr>\n",
              "      <th>2</th>\n",
              "      <td></td>\n",
              "      <td>[0.12]</td>\n",
              "      <td>Skip</td>\n",
              "      <td>glm_random_grid_model_1</td>\n",
              "      <td>0.8533524253745624</td>\n",
              "    </tr>\n",
              "    <tr>\n",
              "      <th>3</th>\n",
              "      <td></td>\n",
              "      <td>[0.93]</td>\n",
              "      <td>MeanImputation</td>\n",
              "      <td>glm_random_grid_model_4</td>\n",
              "      <td>0.8460909739458545</td>\n",
              "    </tr>\n",
              "    <tr>\n",
              "      <th>4</th>\n",
              "      <td></td>\n",
              "      <td>[0.92]</td>\n",
              "      <td>MeanImputation</td>\n",
              "      <td>glm_random_grid_model_5</td>\n",
              "      <td>0.8460514282358992</td>\n",
              "    </tr>\n",
              "    <tr>\n",
              "      <th>5</th>\n",
              "      <td></td>\n",
              "      <td>[0.32]</td>\n",
              "      <td>Skip</td>\n",
              "      <td>glm_random_grid_model_6</td>\n",
              "      <td>0.8438793201551889</td>\n",
              "    </tr>\n",
              "  </tbody>\n",
              "</table>\n",
              "</div>"
            ],
            "text/plain": [
              "      alpha  ...                model_ids                 auc\n",
              "0    [0.44]  ...  glm_random_grid_model_3  0.8533995870569479\n",
              "1    [0.33]  ...  glm_random_grid_model_2  0.8533701061733173\n",
              "2    [0.12]  ...  glm_random_grid_model_1  0.8533524253745624\n",
              "3    [0.93]  ...  glm_random_grid_model_4  0.8460909739458545\n",
              "4    [0.92]  ...  glm_random_grid_model_5  0.8460514282358992\n",
              "5    [0.32]  ...  glm_random_grid_model_6  0.8438793201551889\n",
              "\n",
              "[6 rows x 5 columns]"
            ]
          },
          "metadata": {
            "tags": []
          },
          "execution_count": 34
        }
      ]
    },
    {
      "cell_type": "code",
      "metadata": {
        "colab": {
          "base_uri": "https://localhost:8080/",
          "height": 127
        },
        "id": "hZgs83nYKlgm",
        "outputId": "94030306-d65e-4114-bdd0-cd35ef8fc7f1"
      },
      "source": [
        "# Retrieve the best model and print the model summary with the following code\n",
        "tuned_glm = sorted_glm_grid.models[0]\n",
        "tuned_glm.summary()"
      ],
      "execution_count": 35,
      "outputs": [
        {
          "output_type": "stream",
          "text": [
            "\n",
            "GLM Model: summary\n"
          ],
          "name": "stdout"
        },
        {
          "output_type": "display_data",
          "data": {
            "text/html": [
              "<div>\n",
              "<style scoped>\n",
              "    .dataframe tbody tr th:only-of-type {\n",
              "        vertical-align: middle;\n",
              "    }\n",
              "\n",
              "    .dataframe tbody tr th {\n",
              "        vertical-align: top;\n",
              "    }\n",
              "\n",
              "    .dataframe thead th {\n",
              "        text-align: right;\n",
              "    }\n",
              "</style>\n",
              "<table border=\"1\" class=\"dataframe\">\n",
              "  <thead>\n",
              "    <tr style=\"text-align: right;\">\n",
              "      <th></th>\n",
              "      <th></th>\n",
              "      <th>family</th>\n",
              "      <th>link</th>\n",
              "      <th>regularization</th>\n",
              "      <th>lambda_search</th>\n",
              "      <th>number_of_predictors_total</th>\n",
              "      <th>number_of_active_predictors</th>\n",
              "      <th>number_of_iterations</th>\n",
              "      <th>training_frame</th>\n",
              "    </tr>\n",
              "  </thead>\n",
              "  <tbody>\n",
              "    <tr>\n",
              "      <th>0</th>\n",
              "      <td></td>\n",
              "      <td>binomial</td>\n",
              "      <td>logit</td>\n",
              "      <td>Elastic Net (alpha = 0.44, lambda = 1.095E-5 )</td>\n",
              "      <td>nlambda = 100, lambda.max = 0.07549, lambda.min = 1.095E-5, lambda...</td>\n",
              "      <td>161</td>\n",
              "      <td>145</td>\n",
              "      <td>143</td>\n",
              "      <td>py_4_sid_958d</td>\n",
              "    </tr>\n",
              "  </tbody>\n",
              "</table>\n",
              "</div>"
            ],
            "text/plain": [
              "       family  ... number_of_iterations training_frame\n",
              "0    binomial  ...                  143  py_4_sid_958d\n",
              "\n",
              "[1 rows x 9 columns]"
            ]
          },
          "metadata": {
            "tags": []
          }
        },
        {
          "output_type": "execute_result",
          "data": {
            "text/plain": [
              ""
            ]
          },
          "metadata": {
            "tags": []
          },
          "execution_count": 35
        }
      ]
    },
    {
      "cell_type": "code",
      "metadata": {
        "id": "tGuXZGWkK6wp"
      },
      "source": [
        "# Evaluate the model performance on the validation set.\n",
        "tuned_glm_perf = tuned_glm.model_performance(valid)"
      ],
      "execution_count": 36,
      "outputs": []
    },
    {
      "cell_type": "code",
      "metadata": {
        "colab": {
          "base_uri": "https://localhost:8080/"
        },
        "id": "SVh0LylSLEE2",
        "outputId": "95bd7db3-3018-451f-fe0f-6433c1d73dfe"
      },
      "source": [
        "# Print the AUC for the deffault\n",
        "print(\"Default GLM AUC: %.4f \\nTuned GLM AUC:%.4f\" % (default_glm_perf.auc(), tuned_glm_perf.auc()))"
      ],
      "execution_count": 37,
      "outputs": [
        {
          "output_type": "stream",
          "text": [
            "Default GLM AUC: 0.8450 \n",
            "Tuned GLM AUC:0.8534\n"
          ],
          "name": "stdout"
        }
      ]
    },
    {
      "cell_type": "code",
      "metadata": {
        "colab": {
          "base_uri": "https://localhost:8080/"
        },
        "id": "4w8Vj-liLEZi",
        "outputId": "50b32458-110a-4f04-de69-c52c6cd351d9"
      },
      "source": [
        "# Fi score\n",
        "print (\"Default GLM F1 Score:\", default_glm_perf.F1())\n",
        "print (\"Tuned GLM F1 Score\", tuned_glm_perf.F1())"
      ],
      "execution_count": 38,
      "outputs": [
        {
          "output_type": "stream",
          "text": [
            "Default GLM F1 Score: [[0.12627867037192236, 0.28374578177727783]]\n",
            "Tuned GLM F1 Score [[0.1256805797039998, 0.2827599172776838]]\n"
          ],
          "name": "stdout"
        }
      ]
    },
    {
      "cell_type": "code",
      "metadata": {
        "colab": {
          "base_uri": "https://localhost:8080/",
          "height": 356
        },
        "id": "9TZmJixeLVWp",
        "outputId": "2ffe1a86-6e3b-4186-a773-70655dde35e3"
      },
      "source": [
        "# Take a look at the confusion matrix to see if the values changed.\n",
        "print (\"Default GLM: \", default_glm_perf.confusion_matrix())\n",
        "print (\"Tuned GLM: \",  tuned_glm_perf.confusion_matrix())"
      ],
      "execution_count": 39,
      "outputs": [
        {
          "output_type": "stream",
          "text": [
            "Default GLM:  \n",
            "Confusion Matrix (Act/Pred) for max f1 @ threshold = 0.12627867037192236: \n"
          ],
          "name": "stdout"
        },
        {
          "output_type": "display_data",
          "data": {
            "text/html": [
              "<div>\n",
              "<style scoped>\n",
              "    .dataframe tbody tr th:only-of-type {\n",
              "        vertical-align: middle;\n",
              "    }\n",
              "\n",
              "    .dataframe tbody tr th {\n",
              "        vertical-align: top;\n",
              "    }\n",
              "\n",
              "    .dataframe thead th {\n",
              "        text-align: right;\n",
              "    }\n",
              "</style>\n",
              "<table border=\"1\" class=\"dataframe\">\n",
              "  <thead>\n",
              "    <tr style=\"text-align: right;\">\n",
              "      <th></th>\n",
              "      <th></th>\n",
              "      <th>FALSE</th>\n",
              "      <th>TRUE</th>\n",
              "      <th>Error</th>\n",
              "      <th>Rate</th>\n",
              "    </tr>\n",
              "  </thead>\n",
              "  <tbody>\n",
              "    <tr>\n",
              "      <th>0</th>\n",
              "      <td>FALSE</td>\n",
              "      <td>68868.0</td>\n",
              "      <td>3445.0</td>\n",
              "      <td>0.0476</td>\n",
              "      <td>(3445.0/72313.0)</td>\n",
              "    </tr>\n",
              "    <tr>\n",
              "      <th>1</th>\n",
              "      <td>TRUE</td>\n",
              "      <td>1649.0</td>\n",
              "      <td>1009.0</td>\n",
              "      <td>0.6204</td>\n",
              "      <td>(1649.0/2658.0)</td>\n",
              "    </tr>\n",
              "    <tr>\n",
              "      <th>2</th>\n",
              "      <td>Total</td>\n",
              "      <td>70517.0</td>\n",
              "      <td>4454.0</td>\n",
              "      <td>0.0679</td>\n",
              "      <td>(5094.0/74971.0)</td>\n",
              "    </tr>\n",
              "  </tbody>\n",
              "</table>\n",
              "</div>"
            ],
            "text/plain": [
              "            FALSE    TRUE   Error               Rate\n",
              "0  FALSE  68868.0  3445.0  0.0476   (3445.0/72313.0)\n",
              "1   TRUE   1649.0  1009.0  0.6204    (1649.0/2658.0)\n",
              "2  Total  70517.0  4454.0  0.0679   (5094.0/74971.0)"
            ]
          },
          "metadata": {
            "tags": []
          }
        },
        {
          "output_type": "stream",
          "text": [
            "\n",
            "Tuned GLM:  \n",
            "Confusion Matrix (Act/Pred) for max f1 @ threshold = 0.1256805797039998: \n"
          ],
          "name": "stdout"
        },
        {
          "output_type": "display_data",
          "data": {
            "text/html": [
              "<div>\n",
              "<style scoped>\n",
              "    .dataframe tbody tr th:only-of-type {\n",
              "        vertical-align: middle;\n",
              "    }\n",
              "\n",
              "    .dataframe tbody tr th {\n",
              "        vertical-align: top;\n",
              "    }\n",
              "\n",
              "    .dataframe thead th {\n",
              "        text-align: right;\n",
              "    }\n",
              "</style>\n",
              "<table border=\"1\" class=\"dataframe\">\n",
              "  <thead>\n",
              "    <tr style=\"text-align: right;\">\n",
              "      <th></th>\n",
              "      <th></th>\n",
              "      <th>FALSE</th>\n",
              "      <th>TRUE</th>\n",
              "      <th>Error</th>\n",
              "      <th>Rate</th>\n",
              "    </tr>\n",
              "  </thead>\n",
              "  <tbody>\n",
              "    <tr>\n",
              "      <th>0</th>\n",
              "      <td>FALSE</td>\n",
              "      <td>51030.0</td>\n",
              "      <td>2639.0</td>\n",
              "      <td>0.0492</td>\n",
              "      <td>(2639.0/53669.0)</td>\n",
              "    </tr>\n",
              "    <tr>\n",
              "      <th>1</th>\n",
              "      <td>TRUE</td>\n",
              "      <td>1176.0</td>\n",
              "      <td>752.0</td>\n",
              "      <td>0.61</td>\n",
              "      <td>(1176.0/1928.0)</td>\n",
              "    </tr>\n",
              "    <tr>\n",
              "      <th>2</th>\n",
              "      <td>Total</td>\n",
              "      <td>52206.0</td>\n",
              "      <td>3391.0</td>\n",
              "      <td>0.0686</td>\n",
              "      <td>(3815.0/55597.0)</td>\n",
              "    </tr>\n",
              "  </tbody>\n",
              "</table>\n",
              "</div>"
            ],
            "text/plain": [
              "            FALSE    TRUE   Error               Rate\n",
              "0  FALSE  51030.0  2639.0  0.0492   (2639.0/53669.0)\n",
              "1   TRUE   1176.0   752.0    0.61    (1176.0/1928.0)\n",
              "2  Total  52206.0  3391.0  0.0686   (3815.0/55597.0)"
            ]
          },
          "metadata": {
            "tags": []
          }
        },
        {
          "output_type": "stream",
          "text": [
            "\n"
          ],
          "name": "stdout"
        }
      ]
    },
    {
      "cell_type": "markdown",
      "metadata": {
        "id": "_jyUiim9LuL5"
      },
      "source": [
        "Notice how the overall error slightly improved, as well as the error for the FALSE class. While the error for the TRUE class had minimal increase, meaning the model is classifying a few more samples that are actually TRUE incorrectly. We see that our model has a hard time classifying the TRUE labels, and this is due to the highly imbalanced dataset that we are working with."
      ]
    },
    {
      "cell_type": "markdown",
      "metadata": {
        "id": "C1CD2DtiL5OB"
      },
      "source": [
        "### Tune the RF model with H2O GridSearch\n",
        "\n",
        "We are going to define each parameter of the grid search separately, and then pass the variables to the grid search function."
      ]
    },
    {
      "cell_type": "code",
      "metadata": {
        "colab": {
          "base_uri": "https://localhost:8080/"
        },
        "id": "cuVYFX4YLsKt",
        "outputId": "a4514038-73d8-47dd-c7e7-2deea63498a9"
      },
      "source": [
        "#Grid Search Parameters\n",
        "hyper_parameters = {'max_depth':[1, 3, 5, 6, 7, 8, 9, 10, 12, 13, 15, 20, 25, 35]}\n",
        "\n",
        "rf = H2ORandomForestEstimator(seed = 42,\n",
        "                              stopping_rounds = 5, \n",
        "                              stopping_tolerance = 1e-4, \n",
        "                              stopping_metric = \"auc\",\n",
        "                              model_id = 'rf')\n",
        "\n",
        "grid_id = 'depth_grid'\n",
        "\n",
        "search_criteria = {'strategy': \"Cartesian\"}\n",
        "\n",
        "#Grid Search\n",
        "rf_grid = H2OGridSearch(model = rf, \n",
        "                        hyper_params = hyper_parameters, \n",
        "                        grid_id = grid_id, \n",
        "                        search_criteria = search_criteria)\n",
        "\n",
        "%time rf_grid.train(x = x, y = y, training_frame = train, validation_frame = valid)"
      ],
      "execution_count": 40,
      "outputs": [
        {
          "output_type": "stream",
          "text": [
            "drf Grid Build progress: |████████████████████████████████████████████████| 100%\n",
            "CPU times: user 4.84 s, sys: 391 ms, total: 5.23 s\n",
            "Wall time: 8min 27s\n"
          ],
          "name": "stdout"
        }
      ]
    },
    {
      "cell_type": "code",
      "metadata": {
        "colab": {
          "base_uri": "https://localhost:8080/",
          "height": 462
        },
        "id": "yAsLA3X4MI4K",
        "outputId": "102423ca-6b1d-48c7-8331-9be2838ef627"
      },
      "source": [
        "# Models sorted by AUC.\n",
        "sorted_rf_depth = rf_grid.get_grid(sort_by = 'auc',decreasing = True)\n",
        "sorted_rf_depth.sorted_metric_table()"
      ],
      "execution_count": 41,
      "outputs": [
        {
          "output_type": "execute_result",
          "data": {
            "text/html": [
              "<div>\n",
              "<style scoped>\n",
              "    .dataframe tbody tr th:only-of-type {\n",
              "        vertical-align: middle;\n",
              "    }\n",
              "\n",
              "    .dataframe tbody tr th {\n",
              "        vertical-align: top;\n",
              "    }\n",
              "\n",
              "    .dataframe thead th {\n",
              "        text-align: right;\n",
              "    }\n",
              "</style>\n",
              "<table border=\"1\" class=\"dataframe\">\n",
              "  <thead>\n",
              "    <tr style=\"text-align: right;\">\n",
              "      <th></th>\n",
              "      <th></th>\n",
              "      <th>max_depth</th>\n",
              "      <th>model_ids</th>\n",
              "      <th>auc</th>\n",
              "    </tr>\n",
              "  </thead>\n",
              "  <tbody>\n",
              "    <tr>\n",
              "      <th>0</th>\n",
              "      <td></td>\n",
              "      <td>10</td>\n",
              "      <td>depth_grid_model_8</td>\n",
              "      <td>0.8483202339274679</td>\n",
              "    </tr>\n",
              "    <tr>\n",
              "      <th>1</th>\n",
              "      <td></td>\n",
              "      <td>12</td>\n",
              "      <td>depth_grid_model_9</td>\n",
              "      <td>0.8475205427762891</td>\n",
              "    </tr>\n",
              "    <tr>\n",
              "      <th>2</th>\n",
              "      <td></td>\n",
              "      <td>9</td>\n",
              "      <td>depth_grid_model_7</td>\n",
              "      <td>0.8472289965689974</td>\n",
              "    </tr>\n",
              "    <tr>\n",
              "      <th>3</th>\n",
              "      <td></td>\n",
              "      <td>13</td>\n",
              "      <td>depth_grid_model_10</td>\n",
              "      <td>0.8469513389648796</td>\n",
              "    </tr>\n",
              "    <tr>\n",
              "      <th>4</th>\n",
              "      <td></td>\n",
              "      <td>8</td>\n",
              "      <td>depth_grid_model_6</td>\n",
              "      <td>0.8452958845813425</td>\n",
              "    </tr>\n",
              "    <tr>\n",
              "      <th>5</th>\n",
              "      <td></td>\n",
              "      <td>15</td>\n",
              "      <td>depth_grid_model_11</td>\n",
              "      <td>0.8430497704585108</td>\n",
              "    </tr>\n",
              "    <tr>\n",
              "      <th>6</th>\n",
              "      <td></td>\n",
              "      <td>7</td>\n",
              "      <td>depth_grid_model_5</td>\n",
              "      <td>0.842491713428259</td>\n",
              "    </tr>\n",
              "    <tr>\n",
              "      <th>7</th>\n",
              "      <td></td>\n",
              "      <td>6</td>\n",
              "      <td>depth_grid_model_4</td>\n",
              "      <td>0.8368467831461335</td>\n",
              "    </tr>\n",
              "    <tr>\n",
              "      <th>8</th>\n",
              "      <td></td>\n",
              "      <td>5</td>\n",
              "      <td>depth_grid_model_3</td>\n",
              "      <td>0.8311638705648987</td>\n",
              "    </tr>\n",
              "    <tr>\n",
              "      <th>9</th>\n",
              "      <td></td>\n",
              "      <td>20</td>\n",
              "      <td>depth_grid_model_12</td>\n",
              "      <td>0.826378639356413</td>\n",
              "    </tr>\n",
              "    <tr>\n",
              "      <th>10</th>\n",
              "      <td></td>\n",
              "      <td>25</td>\n",
              "      <td>depth_grid_model_13</td>\n",
              "      <td>0.818381904736367</td>\n",
              "    </tr>\n",
              "    <tr>\n",
              "      <th>11</th>\n",
              "      <td></td>\n",
              "      <td>3</td>\n",
              "      <td>depth_grid_model_2</td>\n",
              "      <td>0.8154863611939805</td>\n",
              "    </tr>\n",
              "    <tr>\n",
              "      <th>12</th>\n",
              "      <td></td>\n",
              "      <td>35</td>\n",
              "      <td>depth_grid_model_14</td>\n",
              "      <td>0.8135941320097503</td>\n",
              "    </tr>\n",
              "    <tr>\n",
              "      <th>13</th>\n",
              "      <td></td>\n",
              "      <td>1</td>\n",
              "      <td>depth_grid_model_1</td>\n",
              "      <td>0.7686296114467771</td>\n",
              "    </tr>\n",
              "  </tbody>\n",
              "</table>\n",
              "</div>"
            ],
            "text/plain": [
              "     max_depth            model_ids                 auc\n",
              "0           10   depth_grid_model_8  0.8483202339274679\n",
              "1           12   depth_grid_model_9  0.8475205427762891\n",
              "2            9   depth_grid_model_7  0.8472289965689974\n",
              "3           13  depth_grid_model_10  0.8469513389648796\n",
              "4            8   depth_grid_model_6  0.8452958845813425\n",
              "5           15  depth_grid_model_11  0.8430497704585108\n",
              "6            7   depth_grid_model_5   0.842491713428259\n",
              "7            6   depth_grid_model_4  0.8368467831461335\n",
              "8            5   depth_grid_model_3  0.8311638705648987\n",
              "9           20  depth_grid_model_12   0.826378639356413\n",
              "10          25  depth_grid_model_13   0.818381904736367\n",
              "11           3   depth_grid_model_2  0.8154863611939805\n",
              "12          35  depth_grid_model_14  0.8135941320097503\n",
              "13           1   depth_grid_model_1  0.7686296114467771"
            ]
          },
          "metadata": {
            "tags": []
          },
          "execution_count": 41
        }
      ]
    },
    {
      "cell_type": "code",
      "metadata": {
        "colab": {
          "base_uri": "https://localhost:8080/"
        },
        "id": "3H6IXh1xMXT-",
        "outputId": "f4e22123-bbba-4590-e245-736294d90803"
      },
      "source": [
        "# Random grid search using the top five values for max_depth and we will also try to tune our sample_rate.\n",
        "hyper_parameters = {\"max_depth\":[8, 9, 10, 11, 12],\n",
        "                    'sample_rate': [x/100. for x in range(20,101)]}\n",
        "\n",
        "rf = H2ORandomForestEstimator(ntrees = 500,\n",
        "                              seed = 42,\n",
        "                              stopping_rounds = 5, \n",
        "                              stopping_tolerance = 1e-3, \n",
        "                              stopping_metric = \"auc\",\n",
        "                              model_id = 'rf_grid')\n",
        "\n",
        "grid_id = 'rf_random_grid'\n",
        "\n",
        "search_criteria = {\"strategy\":\"RandomDiscrete\",\n",
        "                   \"max_models\":100,\n",
        "                   \"max_runtime_secs\":900,\n",
        "                   \"seed\":42}\n",
        "\n",
        "rf_grid = H2OGridSearch(model = rf, \n",
        "                        hyper_params = hyper_parameters, \n",
        "                        grid_id = grid_id, \n",
        "                        search_criteria = search_criteria)\n",
        "\n",
        "%time rf_grid.train(x = x, y = y, training_frame = train, validation_frame = valid)\n"
      ],
      "execution_count": 42,
      "outputs": [
        {
          "output_type": "stream",
          "text": [
            "drf Grid Build progress: |████████████████████████████████████████████████| 100%\n",
            "CPU times: user 8.81 s, sys: 672 ms, total: 9.48 s\n",
            "Wall time: 15min 5s\n"
          ],
          "name": "stdout"
        }
      ]
    },
    {
      "cell_type": "code",
      "metadata": {
        "colab": {
          "base_uri": "https://localhost:8080/",
          "height": 166
        },
        "id": "gz4MjZlRNO7v",
        "outputId": "629252d0-5496-41bb-cefc-2366676ce573"
      },
      "source": [
        "# Print grid results\n",
        "sorted_rf = rf_grid.get_grid(sort_by = 'auc', decreasing = True)\n",
        "sorted_rf.sorted_metric_table()"
      ],
      "execution_count": 43,
      "outputs": [
        {
          "output_type": "execute_result",
          "data": {
            "text/html": [
              "<div>\n",
              "<style scoped>\n",
              "    .dataframe tbody tr th:only-of-type {\n",
              "        vertical-align: middle;\n",
              "    }\n",
              "\n",
              "    .dataframe tbody tr th {\n",
              "        vertical-align: top;\n",
              "    }\n",
              "\n",
              "    .dataframe thead th {\n",
              "        text-align: right;\n",
              "    }\n",
              "</style>\n",
              "<table border=\"1\" class=\"dataframe\">\n",
              "  <thead>\n",
              "    <tr style=\"text-align: right;\">\n",
              "      <th></th>\n",
              "      <th></th>\n",
              "      <th>max_depth</th>\n",
              "      <th>sample_rate</th>\n",
              "      <th>model_ids</th>\n",
              "      <th>auc</th>\n",
              "    </tr>\n",
              "  </thead>\n",
              "  <tbody>\n",
              "    <tr>\n",
              "      <th>0</th>\n",
              "      <td></td>\n",
              "      <td>12</td>\n",
              "      <td>0.51</td>\n",
              "      <td>rf_random_grid_model_1</td>\n",
              "      <td>0.8534059938019006</td>\n",
              "    </tr>\n",
              "    <tr>\n",
              "      <th>1</th>\n",
              "      <td></td>\n",
              "      <td>11</td>\n",
              "      <td>0.35</td>\n",
              "      <td>rf_random_grid_model_3</td>\n",
              "      <td>0.8513094988774502</td>\n",
              "    </tr>\n",
              "    <tr>\n",
              "      <th>2</th>\n",
              "      <td></td>\n",
              "      <td>9</td>\n",
              "      <td>0.38</td>\n",
              "      <td>rf_random_grid_model_4</td>\n",
              "      <td>0.8483642929782187</td>\n",
              "    </tr>\n",
              "    <tr>\n",
              "      <th>3</th>\n",
              "      <td></td>\n",
              "      <td>8</td>\n",
              "      <td>0.42</td>\n",
              "      <td>rf_random_grid_model_2</td>\n",
              "      <td>0.847036200177231</td>\n",
              "    </tr>\n",
              "  </tbody>\n",
              "</table>\n",
              "</div>"
            ],
            "text/plain": [
              "    max_depth sample_rate               model_ids                 auc\n",
              "0          12        0.51  rf_random_grid_model_1  0.8534059938019006\n",
              "1          11        0.35  rf_random_grid_model_3  0.8513094988774502\n",
              "2           9        0.38  rf_random_grid_model_4  0.8483642929782187\n",
              "3           8        0.42  rf_random_grid_model_2   0.847036200177231"
            ]
          },
          "metadata": {
            "tags": []
          },
          "execution_count": 43
        }
      ]
    },
    {
      "cell_type": "code",
      "metadata": {
        "id": "6Z6FgcDSNWNv"
      },
      "source": [
        "# Check some of the outputs that we obtained from our tuned model.\n",
        "tuned_rf = sorted_rf.models[0]"
      ],
      "execution_count": 44,
      "outputs": []
    },
    {
      "cell_type": "code",
      "metadata": {
        "colab": {
          "base_uri": "https://localhost:8080/"
        },
        "id": "NX-j1HRxNcAh",
        "outputId": "7508b247-8166-463e-fab4-fcad21f56c86"
      },
      "source": [
        "# validation AUC:\n",
        "tuned_rf_per = tuned_rf.model_performance(valid)\n",
        "tuned_rf_per.auc()"
      ],
      "execution_count": 45,
      "outputs": [
        {
          "output_type": "execute_result",
          "data": {
            "text/plain": [
              "0.8534059938019006"
            ]
          },
          "metadata": {
            "tags": []
          },
          "execution_count": 45
        }
      ]
    },
    {
      "cell_type": "code",
      "metadata": {
        "colab": {
          "base_uri": "https://localhost:8080/"
        },
        "id": "fZEapHZcNgua",
        "outputId": "710eb4f2-08ff-43f3-e8b1-dfec2f9f0a42"
      },
      "source": [
        "# F1 Score\n",
        "tuned_rf_per.F1()"
      ],
      "execution_count": 46,
      "outputs": [
        {
          "output_type": "execute_result",
          "data": {
            "text/plain": [
              "[[0.13867185846269128, 0.3052023121387283]]"
            ]
          },
          "metadata": {
            "tags": []
          },
          "execution_count": 46
        }
      ]
    },
    {
      "cell_type": "code",
      "metadata": {
        "colab": {
          "base_uri": "https://localhost:8080/"
        },
        "id": "w_S8GR5FNivW",
        "outputId": "7bc7b526-b74b-4968-be30-8801034dcf08"
      },
      "source": [
        "# Tuned model VS deffault model\n",
        "print(\"Default RF AUC: %.4f \\nTuned RF AUC:%.4f\" % (default_rf_per.auc(), tuned_rf_per.auc()))"
      ],
      "execution_count": 47,
      "outputs": [
        {
          "output_type": "stream",
          "text": [
            "Default RF AUC: 0.8264 \n",
            "Tuned RF AUC:0.8534\n"
          ],
          "name": "stdout"
        }
      ]
    },
    {
      "cell_type": "code",
      "metadata": {
        "colab": {
          "base_uri": "https://localhost:8080/"
        },
        "id": "IPaxh9guNi14",
        "outputId": "4b32f442-86a3-4db7-a8dd-328391772314"
      },
      "source": [
        "# F1 score comparison\n",
        "print(\"Default RF F1 Score:\", default_rf_per.F1())\n",
        "print(\"Tuned RF F1 Score:\", tuned_rf_per.F1())"
      ],
      "execution_count": 48,
      "outputs": [
        {
          "output_type": "stream",
          "text": [
            "Default RF F1 Score: [[0.1855035085498162, 0.2832572832572833]]\n",
            "Tuned RF F1 Score: [[0.13867185846269128, 0.3052023121387283]]\n"
          ],
          "name": "stdout"
        }
      ]
    },
    {
      "cell_type": "code",
      "metadata": {
        "colab": {
          "base_uri": "https://localhost:8080/",
          "height": 356
        },
        "id": "Nwk0Uzb6Ni8Q",
        "outputId": "ef78ad8e-c799-410c-b8f5-5968d8fbe074"
      },
      "source": [
        "# Improvement on the confusion matrix\n",
        "print (\"Default RF: \", default_rf_per.confusion_matrix())\n",
        "print (\"Tuned RF: \",  tuned_rf_per.confusion_matrix())"
      ],
      "execution_count": 49,
      "outputs": [
        {
          "output_type": "stream",
          "text": [
            "Default RF:  \n",
            "Confusion Matrix (Act/Pred) for max f1 @ threshold = 0.1855035085498162: \n"
          ],
          "name": "stdout"
        },
        {
          "output_type": "display_data",
          "data": {
            "text/html": [
              "<div>\n",
              "<style scoped>\n",
              "    .dataframe tbody tr th:only-of-type {\n",
              "        vertical-align: middle;\n",
              "    }\n",
              "\n",
              "    .dataframe tbody tr th {\n",
              "        vertical-align: top;\n",
              "    }\n",
              "\n",
              "    .dataframe thead th {\n",
              "        text-align: right;\n",
              "    }\n",
              "</style>\n",
              "<table border=\"1\" class=\"dataframe\">\n",
              "  <thead>\n",
              "    <tr style=\"text-align: right;\">\n",
              "      <th></th>\n",
              "      <th></th>\n",
              "      <th>FALSE</th>\n",
              "      <th>TRUE</th>\n",
              "      <th>Error</th>\n",
              "      <th>Rate</th>\n",
              "    </tr>\n",
              "  </thead>\n",
              "  <tbody>\n",
              "    <tr>\n",
              "      <th>0</th>\n",
              "      <td>FALSE</td>\n",
              "      <td>70080.0</td>\n",
              "      <td>2233.0</td>\n",
              "      <td>0.0309</td>\n",
              "      <td>(2233.0/72313.0)</td>\n",
              "    </tr>\n",
              "    <tr>\n",
              "      <th>1</th>\n",
              "      <td>TRUE</td>\n",
              "      <td>1851.0</td>\n",
              "      <td>807.0</td>\n",
              "      <td>0.6964</td>\n",
              "      <td>(1851.0/2658.0)</td>\n",
              "    </tr>\n",
              "    <tr>\n",
              "      <th>2</th>\n",
              "      <td>Total</td>\n",
              "      <td>71931.0</td>\n",
              "      <td>3040.0</td>\n",
              "      <td>0.0545</td>\n",
              "      <td>(4084.0/74971.0)</td>\n",
              "    </tr>\n",
              "  </tbody>\n",
              "</table>\n",
              "</div>"
            ],
            "text/plain": [
              "            FALSE    TRUE   Error               Rate\n",
              "0  FALSE  70080.0  2233.0  0.0309   (2233.0/72313.0)\n",
              "1   TRUE   1851.0   807.0  0.6964    (1851.0/2658.0)\n",
              "2  Total  71931.0  3040.0  0.0545   (4084.0/74971.0)"
            ]
          },
          "metadata": {
            "tags": []
          }
        },
        {
          "output_type": "stream",
          "text": [
            "\n",
            "Tuned RF:  \n",
            "Confusion Matrix (Act/Pred) for max f1 @ threshold = 0.13867185846269128: \n"
          ],
          "name": "stdout"
        },
        {
          "output_type": "display_data",
          "data": {
            "text/html": [
              "<div>\n",
              "<style scoped>\n",
              "    .dataframe tbody tr th:only-of-type {\n",
              "        vertical-align: middle;\n",
              "    }\n",
              "\n",
              "    .dataframe tbody tr th {\n",
              "        vertical-align: top;\n",
              "    }\n",
              "\n",
              "    .dataframe thead th {\n",
              "        text-align: right;\n",
              "    }\n",
              "</style>\n",
              "<table border=\"1\" class=\"dataframe\">\n",
              "  <thead>\n",
              "    <tr style=\"text-align: right;\">\n",
              "      <th></th>\n",
              "      <th></th>\n",
              "      <th>FALSE</th>\n",
              "      <th>TRUE</th>\n",
              "      <th>Error</th>\n",
              "      <th>Rate</th>\n",
              "    </tr>\n",
              "  </thead>\n",
              "  <tbody>\n",
              "    <tr>\n",
              "      <th>0</th>\n",
              "      <td>FALSE</td>\n",
              "      <td>69840.0</td>\n",
              "      <td>2473.0</td>\n",
              "      <td>0.0342</td>\n",
              "      <td>(2473.0/72313.0)</td>\n",
              "    </tr>\n",
              "    <tr>\n",
              "      <th>1</th>\n",
              "      <td>TRUE</td>\n",
              "      <td>1734.0</td>\n",
              "      <td>924.0</td>\n",
              "      <td>0.6524</td>\n",
              "      <td>(1734.0/2658.0)</td>\n",
              "    </tr>\n",
              "    <tr>\n",
              "      <th>2</th>\n",
              "      <td>Total</td>\n",
              "      <td>71574.0</td>\n",
              "      <td>3397.0</td>\n",
              "      <td>0.0561</td>\n",
              "      <td>(4207.0/74971.0)</td>\n",
              "    </tr>\n",
              "  </tbody>\n",
              "</table>\n",
              "</div>"
            ],
            "text/plain": [
              "            FALSE    TRUE   Error               Rate\n",
              "0  FALSE  69840.0  2473.0  0.0342   (2473.0/72313.0)\n",
              "1   TRUE   1734.0   924.0  0.6524    (1734.0/2658.0)\n",
              "2  Total  71574.0  3397.0  0.0561   (4207.0/74971.0)"
            ]
          },
          "metadata": {
            "tags": []
          }
        },
        {
          "output_type": "stream",
          "text": [
            "\n"
          ],
          "name": "stdout"
        }
      ]
    },
    {
      "cell_type": "markdown",
      "metadata": {
        "id": "yv5hwuPFOIhi"
      },
      "source": [
        "The AUC for our tuned model actually improved, as well as the F1 Score. From the confusion matrix, we can see that the new model is predicting fewer FALSE labels that are actually FALSE; this means the model is classifying more FALSE labels incorrectly. However, the error is very small and this can still be accepted. On the other side, we can see that our model started to correclty classify more TRUE labels. Remember that we have a highly imbalanced dataset, and with the quick grid search we were able to improve the missclassification error for the minority class."
      ]
    },
    {
      "cell_type": "markdown",
      "metadata": {
        "id": "usomdSl8SmJ_"
      },
      "source": [
        "### Tune the GBM model with H2O GridSearch.\n",
        "\n"
      ]
    },
    {
      "cell_type": "code",
      "metadata": {
        "colab": {
          "base_uri": "https://localhost:8080/"
        },
        "id": "i6_AROw6NjBp",
        "outputId": "980f5d4c-22c3-4ba7-f47a-5944cd5c6359"
      },
      "source": [
        "hyper_params = {'max_depth' : [3, 4, 5, 6, 7, 8, 9, 10, 12, 13, 15]}\n",
        "\n",
        "gbm = H2OGradientBoostingEstimator(model_id = 'grid_gbm', \n",
        "                                   ntrees = 50,\n",
        "                                   seed = 42)\n",
        "\n",
        "gbm_grid = H2OGridSearch(gbm, hyper_params,\n",
        "                         grid_id = 'depth_gbm_grid',\n",
        "                         search_criteria = {\"strategy\":\"Cartesian\"})\n",
        "\n",
        "%time gbm_grid.train(x = x, y = y, training_frame = train, validation_frame = valid)"
      ],
      "execution_count": 50,
      "outputs": [
        {
          "output_type": "stream",
          "text": [
            "gbm Grid Build progress: |████████████████████████████████████████████████| 100%\n",
            "CPU times: user 9min 42s, sys: 53 s, total: 10min 35s\n",
            "Wall time: 15min 23s\n"
          ],
          "name": "stdout"
        }
      ]
    },
    {
      "cell_type": "code",
      "metadata": {
        "colab": {
          "base_uri": "https://localhost:8080/",
          "height": 373
        },
        "id": "JkcVo9lzSxBt",
        "outputId": "c76260ae-e87e-4d57-9705-8345b427eff0"
      },
      "source": [
        "sorted_gbm_depth = gbm_grid.get_grid(sort_by = 'auc', decreasing = True)\n",
        "sorted_gbm_depth.sorted_metric_table()\n"
      ],
      "execution_count": 51,
      "outputs": [
        {
          "output_type": "execute_result",
          "data": {
            "text/html": [
              "<div>\n",
              "<style scoped>\n",
              "    .dataframe tbody tr th:only-of-type {\n",
              "        vertical-align: middle;\n",
              "    }\n",
              "\n",
              "    .dataframe tbody tr th {\n",
              "        vertical-align: top;\n",
              "    }\n",
              "\n",
              "    .dataframe thead th {\n",
              "        text-align: right;\n",
              "    }\n",
              "</style>\n",
              "<table border=\"1\" class=\"dataframe\">\n",
              "  <thead>\n",
              "    <tr style=\"text-align: right;\">\n",
              "      <th></th>\n",
              "      <th></th>\n",
              "      <th>max_depth</th>\n",
              "      <th>model_ids</th>\n",
              "      <th>auc</th>\n",
              "    </tr>\n",
              "  </thead>\n",
              "  <tbody>\n",
              "    <tr>\n",
              "      <th>0</th>\n",
              "      <td></td>\n",
              "      <td>6</td>\n",
              "      <td>depth_gbm_grid_model_4</td>\n",
              "      <td>0.8545357753508993</td>\n",
              "    </tr>\n",
              "    <tr>\n",
              "      <th>1</th>\n",
              "      <td></td>\n",
              "      <td>5</td>\n",
              "      <td>depth_gbm_grid_model_3</td>\n",
              "      <td>0.8541002080486222</td>\n",
              "    </tr>\n",
              "    <tr>\n",
              "      <th>2</th>\n",
              "      <td></td>\n",
              "      <td>7</td>\n",
              "      <td>depth_gbm_grid_model_5</td>\n",
              "      <td>0.8529009496662141</td>\n",
              "    </tr>\n",
              "    <tr>\n",
              "      <th>3</th>\n",
              "      <td></td>\n",
              "      <td>8</td>\n",
              "      <td>depth_gbm_grid_model_6</td>\n",
              "      <td>0.8512531640600055</td>\n",
              "    </tr>\n",
              "    <tr>\n",
              "      <th>4</th>\n",
              "      <td></td>\n",
              "      <td>4</td>\n",
              "      <td>depth_gbm_grid_model_2</td>\n",
              "      <td>0.8512081321046683</td>\n",
              "    </tr>\n",
              "    <tr>\n",
              "      <th>5</th>\n",
              "      <td></td>\n",
              "      <td>9</td>\n",
              "      <td>depth_gbm_grid_model_7</td>\n",
              "      <td>0.8497842446208027</td>\n",
              "    </tr>\n",
              "    <tr>\n",
              "      <th>6</th>\n",
              "      <td></td>\n",
              "      <td>3</td>\n",
              "      <td>depth_gbm_grid_model_1</td>\n",
              "      <td>0.8476725422091533</td>\n",
              "    </tr>\n",
              "    <tr>\n",
              "      <th>7</th>\n",
              "      <td></td>\n",
              "      <td>10</td>\n",
              "      <td>depth_gbm_grid_model_8</td>\n",
              "      <td>0.8449705260376477</td>\n",
              "    </tr>\n",
              "    <tr>\n",
              "      <th>8</th>\n",
              "      <td></td>\n",
              "      <td>12</td>\n",
              "      <td>depth_gbm_grid_model_9</td>\n",
              "      <td>0.8346376914245702</td>\n",
              "    </tr>\n",
              "    <tr>\n",
              "      <th>9</th>\n",
              "      <td></td>\n",
              "      <td>13</td>\n",
              "      <td>depth_gbm_grid_model_10</td>\n",
              "      <td>0.8323679024230184</td>\n",
              "    </tr>\n",
              "    <tr>\n",
              "      <th>10</th>\n",
              "      <td></td>\n",
              "      <td>15</td>\n",
              "      <td>depth_gbm_grid_model_11</td>\n",
              "      <td>0.8258963049989075</td>\n",
              "    </tr>\n",
              "  </tbody>\n",
              "</table>\n",
              "</div>"
            ],
            "text/plain": [
              "     max_depth                model_ids                 auc\n",
              "0            6   depth_gbm_grid_model_4  0.8545357753508993\n",
              "1            5   depth_gbm_grid_model_3  0.8541002080486222\n",
              "2            7   depth_gbm_grid_model_5  0.8529009496662141\n",
              "3            8   depth_gbm_grid_model_6  0.8512531640600055\n",
              "4            4   depth_gbm_grid_model_2  0.8512081321046683\n",
              "5            9   depth_gbm_grid_model_7  0.8497842446208027\n",
              "6            3   depth_gbm_grid_model_1  0.8476725422091533\n",
              "7           10   depth_gbm_grid_model_8  0.8449705260376477\n",
              "8           12   depth_gbm_grid_model_9  0.8346376914245702\n",
              "9           13  depth_gbm_grid_model_10  0.8323679024230184\n",
              "10          15  depth_gbm_grid_model_11  0.8258963049989075"
            ]
          },
          "metadata": {
            "tags": []
          },
          "execution_count": 51
        }
      ]
    },
    {
      "cell_type": "code",
      "metadata": {
        "colab": {
          "base_uri": "https://localhost:8080/"
        },
        "id": "fSie1VN7S7Tm",
        "outputId": "e368284d-9168-43bc-c08c-71bfecfa831e"
      },
      "source": [
        "# random grid search with a few parameters to see if we can get a better score.\n",
        "gbm = H2OGradientBoostingEstimator(ntrees = 500,\n",
        "                                   learn_rate = 0.05,\n",
        "                                   seed = 42,\n",
        "                                   model_id = 'grid_gbm')\n",
        "\n",
        "hyper_params_tune = {'max_depth' : [4, 5, 6, 7, 8],\n",
        "                     'sample_rate': [x/100. for x in range(20,101)],\n",
        "                     'col_sample_rate' : [x/100. for x in range(20,101)],\n",
        "                     'col_sample_rate_per_tree': [x/100. for x in range(20,101)],\n",
        "                     'col_sample_rate_change_per_level': [x/100. for x in range(90,111)]}\n",
        "\n",
        "search_criteria_tune = {'strategy': \"RandomDiscrete\",\n",
        "                        'max_runtime_secs': 900,  \n",
        "                        'max_models': 100,  ## build no more than 100 models\n",
        "                        'seed' : 42}\n",
        "\n",
        "random_grid = H2OGridSearch(model = gbm, hyper_params = hyper_params_tune,\n",
        "                            grid_id = 'random_grid',\n",
        "                            search_criteria = search_criteria_tune)\n",
        "\n",
        "%time random_grid.train(x = x, y = y, training_frame = train, validation_frame = valid)"
      ],
      "execution_count": 52,
      "outputs": [
        {
          "output_type": "stream",
          "text": [
            "gbm Grid Build progress: |████████████████████████████████████████████████| 100%\n",
            "CPU times: user 8.94 s, sys: 691 ms, total: 9.63 s\n",
            "Wall time: 15min 1s\n"
          ],
          "name": "stdout"
        }
      ]
    },
    {
      "cell_type": "code",
      "metadata": {
        "colab": {
          "base_uri": "https://localhost:8080/",
          "height": 314
        },
        "id": "7_3V-CBkTCsH",
        "outputId": "42706870-4aec-483d-993b-5dcaed249177"
      },
      "source": [
        "sorted_random_search = random_grid.get_grid(sort_by = 'auc',decreasing = True)\n",
        "sorted_random_search.sorted_metric_table()"
      ],
      "execution_count": 53,
      "outputs": [
        {
          "output_type": "execute_result",
          "data": {
            "text/html": [
              "<div>\n",
              "<style scoped>\n",
              "    .dataframe tbody tr th:only-of-type {\n",
              "        vertical-align: middle;\n",
              "    }\n",
              "\n",
              "    .dataframe tbody tr th {\n",
              "        vertical-align: top;\n",
              "    }\n",
              "\n",
              "    .dataframe thead th {\n",
              "        text-align: right;\n",
              "    }\n",
              "</style>\n",
              "<table border=\"1\" class=\"dataframe\">\n",
              "  <thead>\n",
              "    <tr style=\"text-align: right;\">\n",
              "      <th></th>\n",
              "      <th></th>\n",
              "      <th>col_sample_rate</th>\n",
              "      <th>col_sample_rate_change_per_level</th>\n",
              "      <th>col_sample_rate_per_tree</th>\n",
              "      <th>max_depth</th>\n",
              "      <th>sample_rate</th>\n",
              "      <th>model_ids</th>\n",
              "      <th>auc</th>\n",
              "    </tr>\n",
              "  </thead>\n",
              "  <tbody>\n",
              "    <tr>\n",
              "      <th>0</th>\n",
              "      <td></td>\n",
              "      <td>0.74</td>\n",
              "      <td>1.0</td>\n",
              "      <td>0.31</td>\n",
              "      <td>5</td>\n",
              "      <td>0.59</td>\n",
              "      <td>random_grid_model_5</td>\n",
              "      <td>0.8609029182007734</td>\n",
              "    </tr>\n",
              "    <tr>\n",
              "      <th>1</th>\n",
              "      <td></td>\n",
              "      <td>0.28</td>\n",
              "      <td>1.09</td>\n",
              "      <td>0.9</td>\n",
              "      <td>7</td>\n",
              "      <td>0.82</td>\n",
              "      <td>random_grid_model_1</td>\n",
              "      <td>0.8592531685759477</td>\n",
              "    </tr>\n",
              "    <tr>\n",
              "      <th>2</th>\n",
              "      <td></td>\n",
              "      <td>0.22</td>\n",
              "      <td>1.02</td>\n",
              "      <td>0.29</td>\n",
              "      <td>7</td>\n",
              "      <td>0.68</td>\n",
              "      <td>random_grid_model_8</td>\n",
              "      <td>0.8591408423191478</td>\n",
              "    </tr>\n",
              "    <tr>\n",
              "      <th>3</th>\n",
              "      <td></td>\n",
              "      <td>0.88</td>\n",
              "      <td>0.95</td>\n",
              "      <td>0.2</td>\n",
              "      <td>7</td>\n",
              "      <td>0.38</td>\n",
              "      <td>random_grid_model_6</td>\n",
              "      <td>0.8588541242159</td>\n",
              "    </tr>\n",
              "    <tr>\n",
              "      <th>4</th>\n",
              "      <td></td>\n",
              "      <td>0.94</td>\n",
              "      <td>0.97</td>\n",
              "      <td>0.51</td>\n",
              "      <td>8</td>\n",
              "      <td>0.54</td>\n",
              "      <td>random_grid_model_3</td>\n",
              "      <td>0.8587939133882045</td>\n",
              "    </tr>\n",
              "    <tr>\n",
              "      <th>5</th>\n",
              "      <td></td>\n",
              "      <td>0.5</td>\n",
              "      <td>0.9</td>\n",
              "      <td>0.21</td>\n",
              "      <td>4</td>\n",
              "      <td>0.51</td>\n",
              "      <td>random_grid_model_7</td>\n",
              "      <td>0.8574221985631251</td>\n",
              "    </tr>\n",
              "    <tr>\n",
              "      <th>6</th>\n",
              "      <td></td>\n",
              "      <td>1.0</td>\n",
              "      <td>0.94</td>\n",
              "      <td>0.87</td>\n",
              "      <td>7</td>\n",
              "      <td>0.51</td>\n",
              "      <td>random_grid_model_4</td>\n",
              "      <td>0.8571062595047445</td>\n",
              "    </tr>\n",
              "    <tr>\n",
              "      <th>7</th>\n",
              "      <td></td>\n",
              "      <td>0.62</td>\n",
              "      <td>1.02</td>\n",
              "      <td>0.95</td>\n",
              "      <td>8</td>\n",
              "      <td>0.96</td>\n",
              "      <td>random_grid_model_2</td>\n",
              "      <td>0.8558140184979025</td>\n",
              "    </tr>\n",
              "    <tr>\n",
              "      <th>8</th>\n",
              "      <td></td>\n",
              "      <td>0.6</td>\n",
              "      <td>1.06</td>\n",
              "      <td>0.9</td>\n",
              "      <td>8</td>\n",
              "      <td>0.79</td>\n",
              "      <td>random_grid_model_9</td>\n",
              "      <td>0.8529978681319296</td>\n",
              "    </tr>\n",
              "  </tbody>\n",
              "</table>\n",
              "</div>"
            ],
            "text/plain": [
              "    col_sample_rate  ...            model_ids                 auc\n",
              "0              0.74  ...  random_grid_model_5  0.8609029182007734\n",
              "1              0.28  ...  random_grid_model_1  0.8592531685759477\n",
              "2              0.22  ...  random_grid_model_8  0.8591408423191478\n",
              "3              0.88  ...  random_grid_model_6     0.8588541242159\n",
              "4              0.94  ...  random_grid_model_3  0.8587939133882045\n",
              "5               0.5  ...  random_grid_model_7  0.8574221985631251\n",
              "6               1.0  ...  random_grid_model_4  0.8571062595047445\n",
              "7              0.62  ...  random_grid_model_2  0.8558140184979025\n",
              "8               0.6  ...  random_grid_model_9  0.8529978681319296\n",
              "\n",
              "[9 rows x 8 columns]"
            ]
          },
          "metadata": {
            "tags": []
          },
          "execution_count": 53
        }
      ]
    },
    {
      "cell_type": "code",
      "metadata": {
        "id": "yAStv10HTGY-"
      },
      "source": [
        "tuned_gbm = sorted_random_search.models[0]"
      ],
      "execution_count": 54,
      "outputs": []
    },
    {
      "cell_type": "code",
      "metadata": {
        "colab": {
          "base_uri": "https://localhost:8080/"
        },
        "id": "pXfh44GoTH5a",
        "outputId": "6ccdb430-6510-44ba-cf3c-b194c6b9b2b6"
      },
      "source": [
        "tuned_gbm_per = tuned_gbm.model_performance(valid)\n",
        "print(tuned_gbm_per.auc())\n",
        "print(tuned_gbm_per.F1())"
      ],
      "execution_count": 55,
      "outputs": [
        {
          "output_type": "stream",
          "text": [
            "0.8609029182007734\n",
            "[[0.16324755573013605, 0.3127946127946128]]\n"
          ],
          "name": "stdout"
        }
      ]
    },
    {
      "cell_type": "code",
      "metadata": {
        "colab": {
          "base_uri": "https://localhost:8080/",
          "height": 170
        },
        "id": "XP0T9wOnTKC2",
        "outputId": "37cf30d8-e410-40a0-e9e4-f5efced06717"
      },
      "source": [
        "tuned_gbm_per.confusion_matrix()"
      ],
      "execution_count": 56,
      "outputs": [
        {
          "output_type": "stream",
          "text": [
            "\n",
            "Confusion Matrix (Act/Pred) for max f1 @ threshold = 0.16324755573013605: \n"
          ],
          "name": "stdout"
        },
        {
          "output_type": "display_data",
          "data": {
            "text/html": [
              "<div>\n",
              "<style scoped>\n",
              "    .dataframe tbody tr th:only-of-type {\n",
              "        vertical-align: middle;\n",
              "    }\n",
              "\n",
              "    .dataframe tbody tr th {\n",
              "        vertical-align: top;\n",
              "    }\n",
              "\n",
              "    .dataframe thead th {\n",
              "        text-align: right;\n",
              "    }\n",
              "</style>\n",
              "<table border=\"1\" class=\"dataframe\">\n",
              "  <thead>\n",
              "    <tr style=\"text-align: right;\">\n",
              "      <th></th>\n",
              "      <th></th>\n",
              "      <th>FALSE</th>\n",
              "      <th>TRUE</th>\n",
              "      <th>Error</th>\n",
              "      <th>Rate</th>\n",
              "    </tr>\n",
              "  </thead>\n",
              "  <tbody>\n",
              "    <tr>\n",
              "      <th>0</th>\n",
              "      <td>FALSE</td>\n",
              "      <td>69960.0</td>\n",
              "      <td>2353.0</td>\n",
              "      <td>0.0325</td>\n",
              "      <td>(2353.0/72313.0)</td>\n",
              "    </tr>\n",
              "    <tr>\n",
              "      <th>1</th>\n",
              "      <td>TRUE</td>\n",
              "      <td>1729.0</td>\n",
              "      <td>929.0</td>\n",
              "      <td>0.6505</td>\n",
              "      <td>(1729.0/2658.0)</td>\n",
              "    </tr>\n",
              "    <tr>\n",
              "      <th>2</th>\n",
              "      <td>Total</td>\n",
              "      <td>71689.0</td>\n",
              "      <td>3282.0</td>\n",
              "      <td>0.0544</td>\n",
              "      <td>(4082.0/74971.0)</td>\n",
              "    </tr>\n",
              "  </tbody>\n",
              "</table>\n",
              "</div>"
            ],
            "text/plain": [
              "            FALSE    TRUE   Error               Rate\n",
              "0  FALSE  69960.0  2353.0  0.0325   (2353.0/72313.0)\n",
              "1   TRUE   1729.0   929.0  0.6505    (1729.0/2658.0)\n",
              "2  Total  71689.0  3282.0  0.0544   (4082.0/74971.0)"
            ]
          },
          "metadata": {
            "tags": []
          }
        },
        {
          "output_type": "execute_result",
          "data": {
            "text/plain": [
              ""
            ]
          },
          "metadata": {
            "tags": []
          },
          "execution_count": 56
        }
      ]
    },
    {
      "cell_type": "code",
      "metadata": {
        "colab": {
          "base_uri": "https://localhost:8080/"
        },
        "id": "SnnUhOwOTNL5",
        "outputId": "3cfb9fb6-8573-46b9-b4b1-ace329511df5"
      },
      "source": [
        "print(\"Default GBM AUC: %.4f \\nTuned GBM AUC:%.4f\" % (default_gbm_per.auc(), tuned_gbm_per.auc()))"
      ],
      "execution_count": 57,
      "outputs": [
        {
          "output_type": "stream",
          "text": [
            "Default GBM AUC: 0.8541 \n",
            "Tuned GBM AUC:0.8609\n"
          ],
          "name": "stdout"
        }
      ]
    },
    {
      "cell_type": "markdown",
      "metadata": {
        "id": "HqkHzzeJTP1X"
      },
      "source": [
        "Even though the misclassification error for the TRUE class improved, the error for the FALSE class and the overall error did not improve. However, with the tuning that we did, our GBM model was able to make more correct predictions for the TRUE class, which is good since we are dealing with a highly imbalanced dataset."
      ]
    },
    {
      "cell_type": "markdown",
      "metadata": {
        "id": "OA9Oz7s3cSIo"
      },
      "source": [
        "### Test Set Performance\n",
        "\n",
        "We are going to obtain the test performance of each of the best models."
      ]
    },
    {
      "cell_type": "code",
      "metadata": {
        "id": "vR_PKrMTTN2W"
      },
      "source": [
        "glm_test_per = tuned_glm.model_performance(test)\n",
        "rf_test_per = tuned_rf.model_performance(test)\n",
        "gbm_test_per = tuned_gbm.model_performance(test)"
      ],
      "execution_count": 58,
      "outputs": []
    },
    {
      "cell_type": "code",
      "metadata": {
        "colab": {
          "base_uri": "https://localhost:8080/"
        },
        "id": "nU_Kr4FjczCN",
        "outputId": "cd455e37-27cb-4e99-a501-6ff5a56d74f1"
      },
      "source": [
        "# Print the test AUC of each model.\n",
        "print(\"GLM Test AUC: %.4f \\nRF Test AUC: %.4f \\nGBM Test AUC: %.4f \" % \n",
        "      (glm_test_per.auc(), rf_test_per.auc(), gbm_test_per.auc()))"
      ],
      "execution_count": 59,
      "outputs": [
        {
          "output_type": "stream",
          "text": [
            "GLM Test AUC: 0.8549 \n",
            "RF Test AUC: 0.8574 \n",
            "GBM Test AUC: 0.8648 \n"
          ],
          "name": "stdout"
        }
      ]
    },
    {
      "cell_type": "code",
      "metadata": {
        "colab": {
          "base_uri": "https://localhost:8080/"
        },
        "id": "akkmOnbAc5Di",
        "outputId": "b48fa67a-9bc2-4658-9483-01a552085502"
      },
      "source": [
        "# F1 Score for each model.\n",
        "print (\"GLM Test F1 Score: \", glm_test_per.F1())\n",
        "print (\"RF Test F1 Score: \",  rf_test_per.F1())\n",
        "print (\"GBM Test F1 Score: \",  gbm_test_per.F1())"
      ],
      "execution_count": 60,
      "outputs": [
        {
          "output_type": "stream",
          "text": [
            "GLM Test F1 Score:  [[0.14354746471876623, 0.28654848800834204]]\n",
            "RF Test F1 Score:  [[0.12837261568123026, 0.2966507177033493]]\n",
            "GBM Test F1 Score:  [[0.15492987464852406, 0.30719690871035266]]\n"
          ],
          "name": "stdout"
        }
      ]
    },
    {
      "cell_type": "code",
      "metadata": {
        "colab": {
          "base_uri": "https://localhost:8080/",
          "height": 526
        },
        "id": "Tjd_vbsRd9H6",
        "outputId": "421ce36d-e19a-4bcf-8e5b-ce3eafd2b902"
      },
      "source": [
        "# Confusion matrix for each model\n",
        "print (\"GLM Confusion Matrix: \", glm_test_per.confusion_matrix())\n",
        "print (\"RF Confusion Matrix: \",  rf_test_per.confusion_matrix())\n",
        "print (\"GBM Confusion Matrix \",  gbm_test_per.confusion_matrix())"
      ],
      "execution_count": 61,
      "outputs": [
        {
          "output_type": "stream",
          "text": [
            "GLM Confusion Matrix:  \n",
            "Confusion Matrix (Act/Pred) for max f1 @ threshold = 0.14354746471876623: \n"
          ],
          "name": "stdout"
        },
        {
          "output_type": "display_data",
          "data": {
            "text/html": [
              "<div>\n",
              "<style scoped>\n",
              "    .dataframe tbody tr th:only-of-type {\n",
              "        vertical-align: middle;\n",
              "    }\n",
              "\n",
              "    .dataframe tbody tr th {\n",
              "        vertical-align: top;\n",
              "    }\n",
              "\n",
              "    .dataframe thead th {\n",
              "        text-align: right;\n",
              "    }\n",
              "</style>\n",
              "<table border=\"1\" class=\"dataframe\">\n",
              "  <thead>\n",
              "    <tr style=\"text-align: right;\">\n",
              "      <th></th>\n",
              "      <th></th>\n",
              "      <th>FALSE</th>\n",
              "      <th>TRUE</th>\n",
              "      <th>Error</th>\n",
              "      <th>Rate</th>\n",
              "    </tr>\n",
              "  </thead>\n",
              "  <tbody>\n",
              "    <tr>\n",
              "      <th>0</th>\n",
              "      <td>FALSE</td>\n",
              "      <td>51468.0</td>\n",
              "      <td>2122.0</td>\n",
              "      <td>0.0396</td>\n",
              "      <td>(2122.0/53590.0)</td>\n",
              "    </tr>\n",
              "    <tr>\n",
              "      <th>1</th>\n",
              "      <td>TRUE</td>\n",
              "      <td>1299.0</td>\n",
              "      <td>687.0</td>\n",
              "      <td>0.6541</td>\n",
              "      <td>(1299.0/1986.0)</td>\n",
              "    </tr>\n",
              "    <tr>\n",
              "      <th>2</th>\n",
              "      <td>Total</td>\n",
              "      <td>52767.0</td>\n",
              "      <td>2809.0</td>\n",
              "      <td>0.0616</td>\n",
              "      <td>(3421.0/55576.0)</td>\n",
              "    </tr>\n",
              "  </tbody>\n",
              "</table>\n",
              "</div>"
            ],
            "text/plain": [
              "            FALSE    TRUE   Error               Rate\n",
              "0  FALSE  51468.0  2122.0  0.0396   (2122.0/53590.0)\n",
              "1   TRUE   1299.0   687.0  0.6541    (1299.0/1986.0)\n",
              "2  Total  52767.0  2809.0  0.0616   (3421.0/55576.0)"
            ]
          },
          "metadata": {
            "tags": []
          }
        },
        {
          "output_type": "stream",
          "text": [
            "\n",
            "RF Confusion Matrix:  \n",
            "Confusion Matrix (Act/Pred) for max f1 @ threshold = 0.12837261568123026: \n"
          ],
          "name": "stdout"
        },
        {
          "output_type": "display_data",
          "data": {
            "text/html": [
              "<div>\n",
              "<style scoped>\n",
              "    .dataframe tbody tr th:only-of-type {\n",
              "        vertical-align: middle;\n",
              "    }\n",
              "\n",
              "    .dataframe tbody tr th {\n",
              "        vertical-align: top;\n",
              "    }\n",
              "\n",
              "    .dataframe thead th {\n",
              "        text-align: right;\n",
              "    }\n",
              "</style>\n",
              "<table border=\"1\" class=\"dataframe\">\n",
              "  <thead>\n",
              "    <tr style=\"text-align: right;\">\n",
              "      <th></th>\n",
              "      <th></th>\n",
              "      <th>FALSE</th>\n",
              "      <th>TRUE</th>\n",
              "      <th>Error</th>\n",
              "      <th>Rate</th>\n",
              "    </tr>\n",
              "  </thead>\n",
              "  <tbody>\n",
              "    <tr>\n",
              "      <th>0</th>\n",
              "      <td>FALSE</td>\n",
              "      <td>69202.0</td>\n",
              "      <td>3024.0</td>\n",
              "      <td>0.0419</td>\n",
              "      <td>(3024.0/72226.0)</td>\n",
              "    </tr>\n",
              "    <tr>\n",
              "      <th>1</th>\n",
              "      <td>TRUE</td>\n",
              "      <td>1680.0</td>\n",
              "      <td>992.0</td>\n",
              "      <td>0.6287</td>\n",
              "      <td>(1680.0/2672.0)</td>\n",
              "    </tr>\n",
              "    <tr>\n",
              "      <th>2</th>\n",
              "      <td>Total</td>\n",
              "      <td>70882.0</td>\n",
              "      <td>4016.0</td>\n",
              "      <td>0.0628</td>\n",
              "      <td>(4704.0/74898.0)</td>\n",
              "    </tr>\n",
              "  </tbody>\n",
              "</table>\n",
              "</div>"
            ],
            "text/plain": [
              "            FALSE    TRUE   Error               Rate\n",
              "0  FALSE  69202.0  3024.0  0.0419   (3024.0/72226.0)\n",
              "1   TRUE   1680.0   992.0  0.6287    (1680.0/2672.0)\n",
              "2  Total  70882.0  4016.0  0.0628   (4704.0/74898.0)"
            ]
          },
          "metadata": {
            "tags": []
          }
        },
        {
          "output_type": "stream",
          "text": [
            "\n",
            "GBM Confusion Matrix  \n",
            "Confusion Matrix (Act/Pred) for max f1 @ threshold = 0.15492987464852406: \n"
          ],
          "name": "stdout"
        },
        {
          "output_type": "display_data",
          "data": {
            "text/html": [
              "<div>\n",
              "<style scoped>\n",
              "    .dataframe tbody tr th:only-of-type {\n",
              "        vertical-align: middle;\n",
              "    }\n",
              "\n",
              "    .dataframe tbody tr th {\n",
              "        vertical-align: top;\n",
              "    }\n",
              "\n",
              "    .dataframe thead th {\n",
              "        text-align: right;\n",
              "    }\n",
              "</style>\n",
              "<table border=\"1\" class=\"dataframe\">\n",
              "  <thead>\n",
              "    <tr style=\"text-align: right;\">\n",
              "      <th></th>\n",
              "      <th></th>\n",
              "      <th>FALSE</th>\n",
              "      <th>TRUE</th>\n",
              "      <th>Error</th>\n",
              "      <th>Rate</th>\n",
              "    </tr>\n",
              "  </thead>\n",
              "  <tbody>\n",
              "    <tr>\n",
              "      <th>0</th>\n",
              "      <td>FALSE</td>\n",
              "      <td>69641.0</td>\n",
              "      <td>2585.0</td>\n",
              "      <td>0.0358</td>\n",
              "      <td>(2585.0/72226.0)</td>\n",
              "    </tr>\n",
              "    <tr>\n",
              "      <th>1</th>\n",
              "      <td>TRUE</td>\n",
              "      <td>1718.0</td>\n",
              "      <td>954.0</td>\n",
              "      <td>0.643</td>\n",
              "      <td>(1718.0/2672.0)</td>\n",
              "    </tr>\n",
              "    <tr>\n",
              "      <th>2</th>\n",
              "      <td>Total</td>\n",
              "      <td>71359.0</td>\n",
              "      <td>3539.0</td>\n",
              "      <td>0.0575</td>\n",
              "      <td>(4303.0/74898.0)</td>\n",
              "    </tr>\n",
              "  </tbody>\n",
              "</table>\n",
              "</div>"
            ],
            "text/plain": [
              "            FALSE    TRUE   Error               Rate\n",
              "0  FALSE  69641.0  2585.0  0.0358   (2585.0/72226.0)\n",
              "1   TRUE   1718.0   954.0   0.643    (1718.0/2672.0)\n",
              "2  Total  71359.0  3539.0  0.0575   (4303.0/74898.0)"
            ]
          },
          "metadata": {
            "tags": []
          }
        },
        {
          "output_type": "stream",
          "text": [
            "\n"
          ],
          "name": "stdout"
        }
      ]
    },
    {
      "cell_type": "markdown",
      "metadata": {
        "id": "k67pbTDWe3qH"
      },
      "source": [
        "Again, all three scores are very close to each other, but the best one is the GBM, second the GLM, and lastly, our RF. Although we see the largest error for the RF tuned model, we see that this model is the one that was able to better score the TRUE class, getting an even better score than the GBM, which is based on the other scores, our best model. The GBM had the best overall misclassification error as well as the best misclassification error for the FALSE class.\n",
        "\n",
        "Note: We can't really compared the confusion matrix of our GLM as it has less total samples. This is a known issue to H2O and the team is already working on this issue.\n",
        "\n",
        "For this dataset, we obtained a good AUC for all three models. We obtained an okay F1 Score, given that our dataset is highly imbalanced, and we also obtained a good overall misclassification error, although due to the given imbalanced data, the error for the TRUE label was not so low. Overall, The best model trained on our dataset was the GBM, followed by the RF, and lastly, the GLM."
      ]
    },
    {
      "cell_type": "markdown",
      "metadata": {
        "id": "bq_X018BfdlO"
      },
      "source": [
        "### Challenge"
      ]
    },
    {
      "cell_type": "markdown",
      "metadata": {
        "id": "fAPDX9KtfiDq"
      },
      "source": [
        "After building three models, you are now familiar with the syntax of H2O-3 models. Now, try to build a Naive Bayes Classifier! You can do a 5 minutes grid search for laplace, min_prob, and eps_prob. Try it and see what's the best training, validation, and test AUC that you can get with the Naive Bayes Classifier and compare it to the models that we built in this tutorial. Please keep in mind that the results might not improve by much, so do not spend too much time with this model. We just want you to feel more comfortable initializing models and doing grid searches. If you need more time with your lab, download your results, and restart the lab."
      ]
    },
    {
      "cell_type": "code",
      "metadata": {
        "colab": {
          "base_uri": "https://localhost:8080/"
        },
        "id": "gwvahkxzePyF",
        "outputId": "741b1996-b915-4c33-f587-2b3b3f356e52"
      },
      "source": [
        "# Build and train the model:\n",
        "\n",
        "pros_nb = H2ONaiveBayesEstimator(laplace=0,\n",
        "                                 nfolds=5,\n",
        "                                 seed=1234)\n",
        "%time pros_nb.train(x=x, y=y, training_frame = train, validation_frame = valid)"
      ],
      "execution_count": null,
      "outputs": [
        {
          "output_type": "stream",
          "text": [
            "/usr/local/lib/python3.7/dist-packages/h2o/estimators/estimator_base.py:200: RuntimeWarning: Dropping bad and constant columns: [LOAN_SEQUENCE_NUMBER]\n",
            "  warnings.warn(mesg[\"message\"], RuntimeWarning)\n"
          ],
          "name": "stderr"
        },
        {
          "output_type": "stream",
          "text": [
            "naivebayes Model Build progress: |████████████"
          ],
          "name": "stdout"
        }
      ]
    },
    {
      "cell_type": "code",
      "metadata": {
        "id": "u2Fh8pRFiAxv"
      },
      "source": [
        "pros_nb"
      ],
      "execution_count": null,
      "outputs": []
    },
    {
      "cell_type": "code",
      "metadata": {
        "id": "p1QW_-Cnb69c"
      },
      "source": [
        "# Saving performance\n",
        "default_nb_per = pros_nb.model_performance(valid)"
      ],
      "execution_count": null,
      "outputs": []
    },
    {
      "cell_type": "code",
      "metadata": {
        "colab": {
          "base_uri": "https://localhost:8080/"
        },
        "id": "pyvZrQY7iJCr",
        "outputId": "4248d1bd-beab-4a59-f6b3-5887ce73386c"
      },
      "source": [
        "# grid searching. laplace, min_prob, and eps_prob\n",
        "\n",
        "\"\"\"pros_nb = H2ONaiveBayesEstimator(laplace=0,\n",
        "                                 nfolds=5,\n",
        "                                 seed=1234)\"\"\"\n",
        "#%time pros_nb.train(x=x, y=y, training_frame = train, validation_frame = valid)\n",
        "\n",
        "hyper_params_nb = {'laplace':[1,2], 'min_prob':[0.1,0.2], 'eps_prob':[0.5,0.6]}\n",
        "\n",
        "nb_grid = H2OGridSearch(model = pros_nb, hyper_params = hyper_params_nb)\n",
        "\n",
        "%time nb_grid.train(x = x, y = y, training_frame = train, validation_frame = valid)"
      ],
      "execution_count": 66,
      "outputs": [
        {
          "output_type": "stream",
          "text": [
            "naivebayes Grid Build progress: |█████████████████████████████████████████| 100%\n",
            "CPU times: user 1.32 s, sys: 121 ms, total: 1.44 s\n",
            "Wall time: 1min 18s\n"
          ],
          "name": "stdout"
        }
      ]
    },
    {
      "cell_type": "code",
      "metadata": {
        "colab": {
          "base_uri": "https://localhost:8080/",
          "height": 284
        },
        "id": "owSHPOJspS41",
        "outputId": "4296ce68-c3a2-4903-85d1-9c8d4515980d"
      },
      "source": [
        "sorted_nb_search = nb_grid.get_grid(sort_by = 'auc',decreasing = True)\n",
        "sorted_nb_search.sorted_metric_table()"
      ],
      "execution_count": 67,
      "outputs": [
        {
          "output_type": "execute_result",
          "data": {
            "text/html": [
              "<div>\n",
              "<style scoped>\n",
              "    .dataframe tbody tr th:only-of-type {\n",
              "        vertical-align: middle;\n",
              "    }\n",
              "\n",
              "    .dataframe tbody tr th {\n",
              "        vertical-align: top;\n",
              "    }\n",
              "\n",
              "    .dataframe thead th {\n",
              "        text-align: right;\n",
              "    }\n",
              "</style>\n",
              "<table border=\"1\" class=\"dataframe\">\n",
              "  <thead>\n",
              "    <tr style=\"text-align: right;\">\n",
              "      <th></th>\n",
              "      <th></th>\n",
              "      <th>eps_prob</th>\n",
              "      <th>laplace</th>\n",
              "      <th>min_prob</th>\n",
              "      <th>model_ids</th>\n",
              "      <th>auc</th>\n",
              "    </tr>\n",
              "  </thead>\n",
              "  <tbody>\n",
              "    <tr>\n",
              "      <th>0</th>\n",
              "      <td></td>\n",
              "      <td>0.5</td>\n",
              "      <td>1.0</td>\n",
              "      <td>0.1</td>\n",
              "      <td>Grid_NaiveBayes_py_4_sid_958d_model_python_1619660438188_1037_model_1</td>\n",
              "      <td>0.6267811230613691</td>\n",
              "    </tr>\n",
              "    <tr>\n",
              "      <th>1</th>\n",
              "      <td></td>\n",
              "      <td>0.5</td>\n",
              "      <td>2.0</td>\n",
              "      <td>0.1</td>\n",
              "      <td>Grid_NaiveBayes_py_4_sid_958d_model_python_1619660438188_1037_model_3</td>\n",
              "      <td>0.6267217224456828</td>\n",
              "    </tr>\n",
              "    <tr>\n",
              "      <th>2</th>\n",
              "      <td></td>\n",
              "      <td>0.5</td>\n",
              "      <td>1.0</td>\n",
              "      <td>0.2</td>\n",
              "      <td>Grid_NaiveBayes_py_4_sid_958d_model_python_1619660438188_1037_model_5</td>\n",
              "      <td>0.6267090410250151</td>\n",
              "    </tr>\n",
              "    <tr>\n",
              "      <th>3</th>\n",
              "      <td></td>\n",
              "      <td>0.5</td>\n",
              "      <td>2.0</td>\n",
              "      <td>0.2</td>\n",
              "      <td>Grid_NaiveBayes_py_4_sid_958d_model_python_1619660438188_1037_model_7</td>\n",
              "      <td>0.626693522041139</td>\n",
              "    </tr>\n",
              "    <tr>\n",
              "      <th>4</th>\n",
              "      <td></td>\n",
              "      <td>0.6</td>\n",
              "      <td>1.0</td>\n",
              "      <td>0.2</td>\n",
              "      <td>Grid_NaiveBayes_py_4_sid_958d_model_python_1619660438188_1037_model_6</td>\n",
              "      <td>0.5870001295493004</td>\n",
              "    </tr>\n",
              "    <tr>\n",
              "      <th>5</th>\n",
              "      <td></td>\n",
              "      <td>0.6</td>\n",
              "      <td>1.0</td>\n",
              "      <td>0.1</td>\n",
              "      <td>Grid_NaiveBayes_py_4_sid_958d_model_python_1619660438188_1037_model_2</td>\n",
              "      <td>0.5869873076424669</td>\n",
              "    </tr>\n",
              "    <tr>\n",
              "      <th>6</th>\n",
              "      <td></td>\n",
              "      <td>0.6</td>\n",
              "      <td>2.0</td>\n",
              "      <td>0.2</td>\n",
              "      <td>Grid_NaiveBayes_py_4_sid_958d_model_python_1619660438188_1037_model_8</td>\n",
              "      <td>0.5869821371432937</td>\n",
              "    </tr>\n",
              "    <tr>\n",
              "      <th>7</th>\n",
              "      <td></td>\n",
              "      <td>0.6</td>\n",
              "      <td>2.0</td>\n",
              "      <td>0.1</td>\n",
              "      <td>Grid_NaiveBayes_py_4_sid_958d_model_python_1619660438188_1037_model_4</td>\n",
              "      <td>0.5869615228747365</td>\n",
              "    </tr>\n",
              "  </tbody>\n",
              "</table>\n",
              "</div>"
            ],
            "text/plain": [
              "     ...                 auc\n",
              "0    ...  0.6267811230613691\n",
              "1    ...  0.6267217224456828\n",
              "2    ...  0.6267090410250151\n",
              "3    ...   0.626693522041139\n",
              "4    ...  0.5870001295493004\n",
              "5    ...  0.5869873076424669\n",
              "6    ...  0.5869821371432937\n",
              "7    ...  0.5869615228747365\n",
              "\n",
              "[8 rows x 6 columns]"
            ]
          },
          "metadata": {
            "tags": []
          },
          "execution_count": 67
        }
      ]
    },
    {
      "cell_type": "code",
      "metadata": {
        "id": "6932hvpCt2IH"
      },
      "source": [
        "tuned_nb = sorted_random_search.models[0]\n",
        "tuned_nb_per = tuned_nb.model_performance(valid)"
      ],
      "execution_count": 68,
      "outputs": []
    },
    {
      "cell_type": "code",
      "metadata": {
        "colab": {
          "base_uri": "https://localhost:8080/"
        },
        "id": "7aHYHyLBuHX7",
        "outputId": "750c47cf-b1e1-4f2e-988b-cd36e7da95d3"
      },
      "source": [
        "print(\"Default NB AUC: %.4f \\nTuned NB AUC:%.4f\" % (default_nb_per.auc(), tuned_nb_per.auc()))"
      ],
      "execution_count": 71,
      "outputs": [
        {
          "output_type": "stream",
          "text": [
            "Default NB AUC: 0.8070 \n",
            "Tuned NB AUC:0.8609\n"
          ],
          "name": "stdout"
        }
      ]
    },
    {
      "cell_type": "code",
      "metadata": {
        "id": "Q17sYI3Y4bJW",
        "outputId": "c51b197b-b212-4238-b950-60986f3b4eff",
        "colab": {
          "base_uri": "https://localhost:8080/",
          "height": 186
        }
      },
      "source": [
        "print (\"Default NB Confusion Matrix: \",  default_nb_per.confusion_matrix())"
      ],
      "execution_count": 72,
      "outputs": [
        {
          "output_type": "stream",
          "text": [
            "Default NB Confusion Matrix:  \n",
            "Confusion Matrix (Act/Pred) for max f1 @ threshold = 0.397898170566428: \n"
          ],
          "name": "stdout"
        },
        {
          "output_type": "display_data",
          "data": {
            "text/html": [
              "<div>\n",
              "<style scoped>\n",
              "    .dataframe tbody tr th:only-of-type {\n",
              "        vertical-align: middle;\n",
              "    }\n",
              "\n",
              "    .dataframe tbody tr th {\n",
              "        vertical-align: top;\n",
              "    }\n",
              "\n",
              "    .dataframe thead th {\n",
              "        text-align: right;\n",
              "    }\n",
              "</style>\n",
              "<table border=\"1\" class=\"dataframe\">\n",
              "  <thead>\n",
              "    <tr style=\"text-align: right;\">\n",
              "      <th></th>\n",
              "      <th></th>\n",
              "      <th>FALSE</th>\n",
              "      <th>TRUE</th>\n",
              "      <th>Error</th>\n",
              "      <th>Rate</th>\n",
              "    </tr>\n",
              "  </thead>\n",
              "  <tbody>\n",
              "    <tr>\n",
              "      <th>0</th>\n",
              "      <td>FALSE</td>\n",
              "      <td>67338.0</td>\n",
              "      <td>4975.0</td>\n",
              "      <td>0.0688</td>\n",
              "      <td>(4975.0/72313.0)</td>\n",
              "    </tr>\n",
              "    <tr>\n",
              "      <th>1</th>\n",
              "      <td>TRUE</td>\n",
              "      <td>1609.0</td>\n",
              "      <td>1049.0</td>\n",
              "      <td>0.6053</td>\n",
              "      <td>(1609.0/2658.0)</td>\n",
              "    </tr>\n",
              "    <tr>\n",
              "      <th>2</th>\n",
              "      <td>Total</td>\n",
              "      <td>68947.0</td>\n",
              "      <td>6024.0</td>\n",
              "      <td>0.0878</td>\n",
              "      <td>(6584.0/74971.0)</td>\n",
              "    </tr>\n",
              "  </tbody>\n",
              "</table>\n",
              "</div>"
            ],
            "text/plain": [
              "            FALSE    TRUE   Error               Rate\n",
              "0  FALSE  67338.0  4975.0  0.0688   (4975.0/72313.0)\n",
              "1   TRUE   1609.0  1049.0  0.6053    (1609.0/2658.0)\n",
              "2  Total  68947.0  6024.0  0.0878   (6584.0/74971.0)"
            ]
          },
          "metadata": {
            "tags": []
          }
        },
        {
          "output_type": "stream",
          "text": [
            "\n"
          ],
          "name": "stdout"
        }
      ]
    },
    {
      "cell_type": "code",
      "metadata": {
        "id": "1r8FMr5O4bSc",
        "outputId": "423341a6-3f1b-414c-80ca-41494d9571b7",
        "colab": {
          "base_uri": "https://localhost:8080/",
          "height": 186
        }
      },
      "source": [
        "print (\"Tuned NB Confusion Matrix: \",  tuned_nb_per.confusion_matrix())"
      ],
      "execution_count": 73,
      "outputs": [
        {
          "output_type": "stream",
          "text": [
            "Tuned NB Confusion Matrix:  \n",
            "Confusion Matrix (Act/Pred) for max f1 @ threshold = 0.16324755573013605: \n"
          ],
          "name": "stdout"
        },
        {
          "output_type": "display_data",
          "data": {
            "text/html": [
              "<div>\n",
              "<style scoped>\n",
              "    .dataframe tbody tr th:only-of-type {\n",
              "        vertical-align: middle;\n",
              "    }\n",
              "\n",
              "    .dataframe tbody tr th {\n",
              "        vertical-align: top;\n",
              "    }\n",
              "\n",
              "    .dataframe thead th {\n",
              "        text-align: right;\n",
              "    }\n",
              "</style>\n",
              "<table border=\"1\" class=\"dataframe\">\n",
              "  <thead>\n",
              "    <tr style=\"text-align: right;\">\n",
              "      <th></th>\n",
              "      <th></th>\n",
              "      <th>FALSE</th>\n",
              "      <th>TRUE</th>\n",
              "      <th>Error</th>\n",
              "      <th>Rate</th>\n",
              "    </tr>\n",
              "  </thead>\n",
              "  <tbody>\n",
              "    <tr>\n",
              "      <th>0</th>\n",
              "      <td>FALSE</td>\n",
              "      <td>69960.0</td>\n",
              "      <td>2353.0</td>\n",
              "      <td>0.0325</td>\n",
              "      <td>(2353.0/72313.0)</td>\n",
              "    </tr>\n",
              "    <tr>\n",
              "      <th>1</th>\n",
              "      <td>TRUE</td>\n",
              "      <td>1729.0</td>\n",
              "      <td>929.0</td>\n",
              "      <td>0.6505</td>\n",
              "      <td>(1729.0/2658.0)</td>\n",
              "    </tr>\n",
              "    <tr>\n",
              "      <th>2</th>\n",
              "      <td>Total</td>\n",
              "      <td>71689.0</td>\n",
              "      <td>3282.0</td>\n",
              "      <td>0.0544</td>\n",
              "      <td>(4082.0/74971.0)</td>\n",
              "    </tr>\n",
              "  </tbody>\n",
              "</table>\n",
              "</div>"
            ],
            "text/plain": [
              "            FALSE    TRUE   Error               Rate\n",
              "0  FALSE  69960.0  2353.0  0.0325   (2353.0/72313.0)\n",
              "1   TRUE   1729.0   929.0  0.6505    (1729.0/2658.0)\n",
              "2  Total  71689.0  3282.0  0.0544   (4082.0/74971.0)"
            ]
          },
          "metadata": {
            "tags": []
          }
        },
        {
          "output_type": "stream",
          "text": [
            "\n"
          ],
          "name": "stdout"
        }
      ]
    },
    {
      "cell_type": "markdown",
      "metadata": {
        "id": "RuMmf4Dmiozr"
      },
      "source": [
        "# Finally my badge:\n",
        "\n",
        "https://bcert.me/bc/html/show-badge.html?b=yrpzwdup"
      ]
    }
  ]
}