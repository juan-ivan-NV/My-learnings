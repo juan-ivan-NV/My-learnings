{
  "nbformat": 4,
  "nbformat_minor": 0,
  "metadata": {
    "colab": {
      "name": "1B. Introduction to Machine Learning with H2O-3-regression.ipynb",
      "provenance": []
    },
    "kernelspec": {
      "name": "python3",
      "display_name": "Python 3"
    },
    "language_info": {
      "name": "python"
    }
  },
  "cells": [
    {
      "cell_type": "markdown",
      "metadata": {
        "id": "kvqzjYMKyeKS"
      },
      "source": [
        "![img](https://miro.medium.com/max/802/1*u7swL7CrX0UW_lIScu1eDQ.png)\n",
        "# 1B. Introduction to Machine Learning with H2O-3-regression"
      ]
    },
    {
      "cell_type": "markdown",
      "metadata": {
        "id": "4a67_2Cm0Aon"
      },
      "source": [
        "In this tutorial we will use the subset of the Freddie Mac Single-Family dataset to try to predict the interest rate for a loan using H2O's XGBoost and Deep Learning models. We will explore how to use these models for a regression problem, and we will also demonstrate how to use H2O's grid search to tune the hyper-parameters of both models."
      ]
    },
    {
      "cell_type": "markdown",
      "metadata": {
        "id": "CEVfR49P0rew"
      },
      "source": [
        "### Installations"
      ]
    },
    {
      "cell_type": "code",
      "metadata": {
        "colab": {
          "base_uri": "https://localhost:8080/"
        },
        "id": "jT_5S7BfydNZ",
        "outputId": "e71b5288-aa0b-4877-9169-dee870ef6691"
      },
      "source": [
        "# installing java\n",
        "! apt-get install default-jre\n",
        "! java -version\n",
        "# install h2o\n",
        "! pip install h2o"
      ],
      "execution_count": 1,
      "outputs": [
        {
          "output_type": "stream",
          "text": [
            "Reading package lists... Done\n",
            "Building dependency tree       \n",
            "Reading state information... Done\n",
            "default-jre is already the newest version (2:1.11-68ubuntu1~18.04.1).\n",
            "default-jre set to manually installed.\n",
            "The following package was automatically installed and is no longer required:\n",
            "  libnvidia-common-460\n",
            "Use 'apt autoremove' to remove it.\n",
            "0 upgraded, 0 newly installed, 0 to remove and 34 not upgraded.\n",
            "openjdk version \"11.0.10\" 2021-01-19\n",
            "OpenJDK Runtime Environment (build 11.0.10+9-Ubuntu-0ubuntu1.18.04)\n",
            "OpenJDK 64-Bit Server VM (build 11.0.10+9-Ubuntu-0ubuntu1.18.04, mixed mode, sharing)\n",
            "Collecting h2o\n",
            "\u001b[?25l  Downloading https://files.pythonhosted.org/packages/95/b8/f8839b152e5b783b453a957432402e13350ca93b54741f0f848eee22bb08/h2o-3.32.1.2.tar.gz (164.8MB)\n",
            "\u001b[K     |████████████████████████████████| 164.8MB 40kB/s \n",
            "\u001b[?25hRequirement already satisfied: requests in /usr/local/lib/python3.7/dist-packages (from h2o) (2.23.0)\n",
            "Requirement already satisfied: tabulate in /usr/local/lib/python3.7/dist-packages (from h2o) (0.8.9)\n",
            "Requirement already satisfied: future in /usr/local/lib/python3.7/dist-packages (from h2o) (0.16.0)\n",
            "Collecting colorama>=0.3.8\n",
            "  Downloading https://files.pythonhosted.org/packages/44/98/5b86278fbbf250d239ae0ecb724f8572af1c91f4a11edf4d36a206189440/colorama-0.4.4-py2.py3-none-any.whl\n",
            "Requirement already satisfied: urllib3!=1.25.0,!=1.25.1,<1.26,>=1.21.1 in /usr/local/lib/python3.7/dist-packages (from requests->h2o) (1.24.3)\n",
            "Requirement already satisfied: chardet<4,>=3.0.2 in /usr/local/lib/python3.7/dist-packages (from requests->h2o) (3.0.4)\n",
            "Requirement already satisfied: certifi>=2017.4.17 in /usr/local/lib/python3.7/dist-packages (from requests->h2o) (2020.12.5)\n",
            "Requirement already satisfied: idna<3,>=2.5 in /usr/local/lib/python3.7/dist-packages (from requests->h2o) (2.10)\n",
            "Building wheels for collected packages: h2o\n",
            "  Building wheel for h2o (setup.py) ... \u001b[?25l\u001b[?25hdone\n",
            "  Created wheel for h2o: filename=h2o-3.32.1.2-py2.py3-none-any.whl size=164848811 sha256=36ea815176c7d1bd3df7a25006d3668fbaecfd9fea3f0c570d09e9a3bc82b5d0\n",
            "  Stored in directory: /root/.cache/pip/wheels/37/b6/c7/c1cfdcd471d476b2b5129f4d27a0fd89043858ee74eda7ee7a\n",
            "Successfully built h2o\n",
            "Installing collected packages: colorama, h2o\n",
            "Successfully installed colorama-0.4.4 h2o-3.32.1.2\n"
          ],
          "name": "stdout"
        }
      ]
    },
    {
      "cell_type": "markdown",
      "metadata": {
        "id": "D4qGXIcY0wHg"
      },
      "source": [
        "### Task 1: Init"
      ]
    },
    {
      "cell_type": "code",
      "metadata": {
        "id": "wqjlGGlJ0pRu"
      },
      "source": [
        "#Import H2O and other libaries that will be used in this tutorial \n",
        "import h2o\n",
        "from h2o.estimators import *\n",
        "from h2o.grid import *"
      ],
      "execution_count": 2,
      "outputs": []
    },
    {
      "cell_type": "markdown",
      "metadata": {
        "id": "Iv8jeqj21ILe"
      },
      "source": [
        "We now have to initialize our instance. If you are on Aquarium, it will connect to a local instance; if you are on your own machine, it will launch an instance connected to your machine."
      ]
    },
    {
      "cell_type": "code",
      "metadata": {
        "id": "DAs7i58X08yL"
      },
      "source": [
        "import os\n",
        "\n",
        "startup  = '/home/h2o/bin/aquarium_startup'\n",
        "shutdown = '/home/h2o/bin/aquarium_stop'\n",
        "\n",
        "if os.path.exists(startup):\n",
        "    os.system(startup)\n",
        "    local_url = 'http://localhost:54321/h2o'\n",
        "    aquarium = True\n",
        "else:\n",
        "    local_url = 'http://localhost:54321'\n",
        "    aquarium = False"
      ],
      "execution_count": 3,
      "outputs": []
    },
    {
      "cell_type": "code",
      "metadata": {
        "colab": {
          "base_uri": "https://localhost:8080/",
          "height": 510
        },
        "id": "x_w_aW-x1Nsq",
        "outputId": "c5a67fd0-9b51-4256-9443-d3174b791d65"
      },
      "source": [
        "h2o.init(url = local_url)"
      ],
      "execution_count": 4,
      "outputs": [
        {
          "output_type": "stream",
          "text": [
            "Checking whether there is an H2O instance running at http://localhost:54321 ..... not found.\n",
            "Attempting to start a local H2O server...\n",
            "  Java Version: openjdk version \"11.0.10\" 2021-01-19; OpenJDK Runtime Environment (build 11.0.10+9-Ubuntu-0ubuntu1.18.04); OpenJDK 64-Bit Server VM (build 11.0.10+9-Ubuntu-0ubuntu1.18.04, mixed mode, sharing)\n",
            "  Starting server from /usr/local/lib/python3.7/dist-packages/h2o/backend/bin/h2o.jar\n",
            "  Ice root: /tmp/tmpeclqarp1\n",
            "  JVM stdout: /tmp/tmpeclqarp1/h2o_unknownUser_started_from_python.out\n",
            "  JVM stderr: /tmp/tmpeclqarp1/h2o_unknownUser_started_from_python.err\n",
            "  Server is running at http://127.0.0.1:54321\n",
            "Connecting to H2O server at http://127.0.0.1:54321 ... successful.\n"
          ],
          "name": "stdout"
        },
        {
          "output_type": "display_data",
          "data": {
            "text/html": [
              "<div style=\"overflow:auto\"><table style=\"width:50%\"><tr><td>H2O_cluster_uptime:</td>\n",
              "<td>03 secs</td></tr>\n",
              "<tr><td>H2O_cluster_timezone:</td>\n",
              "<td>Etc/UTC</td></tr>\n",
              "<tr><td>H2O_data_parsing_timezone:</td>\n",
              "<td>UTC</td></tr>\n",
              "<tr><td>H2O_cluster_version:</td>\n",
              "<td>3.32.1.2</td></tr>\n",
              "<tr><td>H2O_cluster_version_age:</td>\n",
              "<td>10 hours and 17 minutes </td></tr>\n",
              "<tr><td>H2O_cluster_name:</td>\n",
              "<td>H2O_from_python_unknownUser_tuhx8l</td></tr>\n",
              "<tr><td>H2O_cluster_total_nodes:</td>\n",
              "<td>1</td></tr>\n",
              "<tr><td>H2O_cluster_free_memory:</td>\n",
              "<td>3.180 Gb</td></tr>\n",
              "<tr><td>H2O_cluster_total_cores:</td>\n",
              "<td>2</td></tr>\n",
              "<tr><td>H2O_cluster_allowed_cores:</td>\n",
              "<td>2</td></tr>\n",
              "<tr><td>H2O_cluster_status:</td>\n",
              "<td>accepting new members, healthy</td></tr>\n",
              "<tr><td>H2O_connection_url:</td>\n",
              "<td>http://127.0.0.1:54321</td></tr>\n",
              "<tr><td>H2O_connection_proxy:</td>\n",
              "<td>{\"http\": null, \"https\": null}</td></tr>\n",
              "<tr><td>H2O_internal_security:</td>\n",
              "<td>False</td></tr>\n",
              "<tr><td>H2O_API_Extensions:</td>\n",
              "<td>Amazon S3, XGBoost, Algos, AutoML, Core V3, TargetEncoder, Core V4</td></tr>\n",
              "<tr><td>Python_version:</td>\n",
              "<td>3.7.10 final</td></tr></table></div>"
            ],
            "text/plain": [
              "--------------------------  ------------------------------------------------------------------\n",
              "H2O_cluster_uptime:         03 secs\n",
              "H2O_cluster_timezone:       Etc/UTC\n",
              "H2O_data_parsing_timezone:  UTC\n",
              "H2O_cluster_version:        3.32.1.2\n",
              "H2O_cluster_version_age:    10 hours and 17 minutes\n",
              "H2O_cluster_name:           H2O_from_python_unknownUser_tuhx8l\n",
              "H2O_cluster_total_nodes:    1\n",
              "H2O_cluster_free_memory:    3.180 Gb\n",
              "H2O_cluster_total_cores:    2\n",
              "H2O_cluster_allowed_cores:  2\n",
              "H2O_cluster_status:         accepting new members, healthy\n",
              "H2O_connection_url:         http://127.0.0.1:54321\n",
              "H2O_connection_proxy:       {\"http\": null, \"https\": null}\n",
              "H2O_internal_security:      False\n",
              "H2O_API_Extensions:         Amazon S3, XGBoost, Algos, AutoML, Core V3, TargetEncoder, Core V4\n",
              "Python_version:             3.7.10 final\n",
              "--------------------------  ------------------------------------------------------------------"
            ]
          },
          "metadata": {
            "tags": []
          }
        }
      ]
    },
    {
      "cell_type": "code",
      "metadata": {
        "colab": {
          "base_uri": "https://localhost:8080/"
        },
        "id": "vTjt3IF31feN",
        "outputId": "d544f02a-01a9-4136-bdb1-3ef6b4870e69"
      },
      "source": [
        "#Import the dataset from an AWS instance \n",
        "loan_level = h2o.import_file(\"https://s3.amazonaws.com/data.h2o.ai/DAI-Tutorials/loan_level_500k.csv\")"
      ],
      "execution_count": 5,
      "outputs": [
        {
          "output_type": "stream",
          "text": [
            "Parse progress: |█████████████████████████████████████████████████████████| 100%\n"
          ],
          "name": "stdout"
        }
      ]
    },
    {
      "cell_type": "markdown",
      "metadata": {
        "id": "E9E2yHDv2JVV"
      },
      "source": [
        "### Task 2: Regression Concepts"
      ]
    },
    {
      "cell_type": "markdown",
      "metadata": {
        "id": "lqaU0JnM29ZS"
      },
      "source": [
        "Regression ► Regression tries to predict a continuous number (as opposed to classification, which only categorizes). With a regressor model, you try to predict the exact number from your response column. In our case, we will try to predict the interest rate (a continuous value). You will see later on that some samples might have a 7.5% interest rate, and our regression model will try to predict that number.\n",
        "\n",
        "Some metrics:\n",
        "\n",
        "*   MSE ► measures the average of the squares of the errors or deviations. MSE takes the distances from the points to the regression line (these distances are the \"errors\") and squaring them to remove any negative signs. MSE incorporates both the variance and the bias of the predictor. MSE also gives more weight to larger differences.\n",
        "\n",
        "*   RMSE ► evaluates how well a model can predict a continuous value. The RMSE units are the same as the predicted target, which is useful for understanding if the size of the error is of concern or not, but is sensitive to outliers.\n",
        "\n",
        "*   MAE ► is an average of the absolute errors. The MAE units are the same as the predicted target as well as the RMSW, which is also useful for understanding whether the size of the error is of concern or not.\n",
        "\n",
        "For a detailed description of the other metrics, please check: http://docs.h2o.ai/h2o/latest-stable/h2o-docs/performance-and-prediction.html#evaluation-model-metrics\n",
        "\n",
        "Based-Tree Algorithms:\n",
        "\n",
        "*   Decision Trees ► uses a tree-like model of decisions to make a prediction. Decision trees subdivide the dataset and move event outcomes left and right to build the tree model and fit all the data. The series of questions are generated automatically to optimize the separation of the data points depending on what you are trying to find whether you are doing a regression or classification tree. (non-linear / correlated features doe not eaffect their performance / robust to missing values)\n",
        "\n",
        "*   Tree Ensembles ► combine several decision trees in order to solve the same problem and make better predictions. One example of tree ensembles is Random Forest, which uses bagging or bootstrap aggregation, meaning we fit many different trees on different samples of the data.\n",
        "\n",
        "*   XGBoost ► another decision-tree-based ensemble that uses boosting to yield accurate models, XGBoost provides parallel tree boosting (also known as GBDT, GBM) that solves many data science problems in a fast and accurate manner. For many problems, XGBoost is one of the best GBM frameworks today.\n",
        "\n",
        "*   Deep Learning ► is a subset of machine learning that uses neural networks to solve complex problems that other machine learning algorithms have difficulties with, such as image classification, speech recognition, etc. Deep Learning models have an advantage over standard machine learning because they are very effective at learning non-linear derived features from the input features. Neural networks are algorithms based on how the human brain works because they are composed of nodes or commonly known as \"neurons,\" and thus the name of neural networks.\n",
        "http://docs.h2o.ai/h2o/latest-stable/h2o-docs/data-science/deep-learning.html#deep-learning-neural-networks\n"
      ]
    },
    {
      "cell_type": "markdown",
      "metadata": {
        "id": "B6bzmGBUAVLl"
      },
      "source": [
        "### Task 3: Start Experiment"
      ]
    },
    {
      "cell_type": "code",
      "metadata": {
        "colab": {
          "base_uri": "https://localhost:8080/",
          "height": 258
        },
        "id": "NkC4g6ar1soN",
        "outputId": "48ca05e8-43bb-4fc3-d27c-79fe96dde3ce"
      },
      "source": [
        "# First 10 dtaset rows\n",
        "loan_level.head()"
      ],
      "execution_count": 6,
      "outputs": [
        {
          "output_type": "display_data",
          "data": {
            "text/html": [
              "<table>\n",
              "<thead>\n",
              "<tr><th style=\"text-align: right;\">  CREDIT_SCORE</th><th style=\"text-align: right;\">  FIRST_PAYMENT_DATE</th><th>FIRST_TIME_HOMEBUYER_FLAG  </th><th style=\"text-align: right;\">  MATURITY_DATE</th><th style=\"text-align: right;\">  METROPOLITAN_STATISTICAL_AREA</th><th style=\"text-align: right;\">  MORTGAGE_INSURANCE_PERCENTAGE</th><th style=\"text-align: right;\">  NUMBER_OF_UNITS</th><th>OCCUPANCY_STATUS  </th><th style=\"text-align: right;\">  ORIGINAL_COMBINED_LOAN_TO_VALUE</th><th style=\"text-align: right;\">  ORIGINAL_DEBT_TO_INCOME_RATIO</th><th style=\"text-align: right;\">  ORIGINAL_UPB</th><th style=\"text-align: right;\">  ORIGINAL_LOAN_TO_VALUE</th><th style=\"text-align: right;\">  ORIGINAL_INTEREST_RATE</th><th>CHANNEL  </th><th>PREPAYMENT_PENALTY_MORTGAGE_FLAG  </th><th>PRODUCT_TYPE  </th><th>PROPERTY_STATE  </th><th>PROPERTY_TYPE  </th><th style=\"text-align: right;\">  POSTAL_CODE</th><th>LOAN_SEQUENCE_NUMBER  </th><th>LOAN_PURPOSE  </th><th style=\"text-align: right;\">  ORIGINAL_LOAN_TERM</th><th style=\"text-align: right;\">  NUMBER_OF_BORROWERS</th><th>SELLER_NAME  </th><th>SERVICER_NAME  </th><th>PREPAID  </th><th>DELINQUENT  </th></tr>\n",
              "</thead>\n",
              "<tbody>\n",
              "<tr><td style=\"text-align: right;\">           669</td><td style=\"text-align: right;\">              200206</td><td>N                          </td><td style=\"text-align: right;\">         202901</td><td style=\"text-align: right;\">                            nan</td><td style=\"text-align: right;\">                              0</td><td style=\"text-align: right;\">                1</td><td>O                 </td><td style=\"text-align: right;\">                               80</td><td style=\"text-align: right;\">                             33</td><td style=\"text-align: right;\">        162000</td><td style=\"text-align: right;\">                      80</td><td style=\"text-align: right;\">                   7.12 </td><td>R        </td><td>N                                 </td><td>FRM           </td><td>WV              </td><td>SF             </td><td style=\"text-align: right;\">        26100</td><td>F199Q1000004          </td><td>P             </td><td style=\"text-align: right;\">                 320</td><td style=\"text-align: right;\">                    2</td><td>Other sellers</td><td>Other servicers</td><td>TRUE     </td><td>FALSE       </td></tr>\n",
              "<tr><td style=\"text-align: right;\">           732</td><td style=\"text-align: right;\">              199904</td><td>N                          </td><td style=\"text-align: right;\">         202903</td><td style=\"text-align: right;\">                          17140</td><td style=\"text-align: right;\">                              0</td><td style=\"text-align: right;\">                1</td><td>O                 </td><td style=\"text-align: right;\">                               25</td><td style=\"text-align: right;\">                             10</td><td style=\"text-align: right;\">         53000</td><td style=\"text-align: right;\">                      25</td><td style=\"text-align: right;\">                   6.5  </td><td>R        </td><td>N                                 </td><td>FRM           </td><td>OH              </td><td>SF             </td><td style=\"text-align: right;\">        45200</td><td>F199Q1000005          </td><td>N             </td><td style=\"text-align: right;\">                 360</td><td style=\"text-align: right;\">                    1</td><td>Other sellers</td><td>Other servicers</td><td>TRUE     </td><td>FALSE       </td></tr>\n",
              "<tr><td style=\"text-align: right;\">           679</td><td style=\"text-align: right;\">              200208</td><td>N                          </td><td style=\"text-align: right;\">         202902</td><td style=\"text-align: right;\">                          15940</td><td style=\"text-align: right;\">                             30</td><td style=\"text-align: right;\">                1</td><td>O                 </td><td style=\"text-align: right;\">                               91</td><td style=\"text-align: right;\">                             48</td><td style=\"text-align: right;\">        133000</td><td style=\"text-align: right;\">                      91</td><td style=\"text-align: right;\">                   6.75 </td><td>R        </td><td>N                                 </td><td>FRM           </td><td>OH              </td><td>SF             </td><td style=\"text-align: right;\">        44700</td><td>F199Q1000007          </td><td>P             </td><td style=\"text-align: right;\">                 319</td><td style=\"text-align: right;\">                    1</td><td>Other sellers</td><td>Other servicers</td><td>TRUE     </td><td>FALSE       </td></tr>\n",
              "<tr><td style=\"text-align: right;\">           721</td><td style=\"text-align: right;\">              200209</td><td>N                          </td><td style=\"text-align: right;\">         202902</td><td style=\"text-align: right;\">                          38060</td><td style=\"text-align: right;\">                              0</td><td style=\"text-align: right;\">                1</td><td>O                 </td><td style=\"text-align: right;\">                               39</td><td style=\"text-align: right;\">                             13</td><td style=\"text-align: right;\">        174000</td><td style=\"text-align: right;\">                      39</td><td style=\"text-align: right;\">                   6.625</td><td>T        </td><td>N                                 </td><td>FRM           </td><td>AZ              </td><td>SF             </td><td style=\"text-align: right;\">        85200</td><td>F199Q1000013          </td><td>N             </td><td style=\"text-align: right;\">                 318</td><td style=\"text-align: right;\">                    2</td><td>Other sellers</td><td>Other servicers</td><td>TRUE     </td><td>FALSE       </td></tr>\n",
              "<tr><td style=\"text-align: right;\">           618</td><td style=\"text-align: right;\">              200210</td><td>N                          </td><td style=\"text-align: right;\">         202902</td><td style=\"text-align: right;\">                          10420</td><td style=\"text-align: right;\">                             25</td><td style=\"text-align: right;\">                1</td><td>O                 </td><td style=\"text-align: right;\">                               85</td><td style=\"text-align: right;\">                             24</td><td style=\"text-align: right;\">        122000</td><td style=\"text-align: right;\">                      85</td><td style=\"text-align: right;\">                   6.375</td><td>R        </td><td>N                                 </td><td>FRM           </td><td>OH              </td><td>SF             </td><td style=\"text-align: right;\">        44200</td><td>F199Q1000015          </td><td>N             </td><td style=\"text-align: right;\">                 317</td><td style=\"text-align: right;\">                    2</td><td>Other sellers</td><td>Other servicers</td><td>TRUE     </td><td>FALSE       </td></tr>\n",
              "<tr><td style=\"text-align: right;\">           738</td><td style=\"text-align: right;\">              200211</td><td>N                          </td><td style=\"text-align: right;\">         202903</td><td style=\"text-align: right;\">                          10420</td><td style=\"text-align: right;\">                              0</td><td style=\"text-align: right;\">                1</td><td>O                 </td><td style=\"text-align: right;\">                               73</td><td style=\"text-align: right;\">                             44</td><td style=\"text-align: right;\">        218000</td><td style=\"text-align: right;\">                      73</td><td style=\"text-align: right;\">                   6    </td><td>R        </td><td>N                                 </td><td>FRM           </td><td>OH              </td><td>SF             </td><td style=\"text-align: right;\">        44300</td><td>F199Q1000016          </td><td>P             </td><td style=\"text-align: right;\">                 317</td><td style=\"text-align: right;\">                    2</td><td>Other sellers</td><td>Other servicers</td><td>TRUE     </td><td>FALSE       </td></tr>\n",
              "<tr><td style=\"text-align: right;\">           761</td><td style=\"text-align: right;\">              200211</td><td>N                          </td><td style=\"text-align: right;\">         202904</td><td style=\"text-align: right;\">                            nan</td><td style=\"text-align: right;\">                              0</td><td style=\"text-align: right;\">                1</td><td>O                 </td><td style=\"text-align: right;\">                               73</td><td style=\"text-align: right;\">                             31</td><td style=\"text-align: right;\">        138000</td><td style=\"text-align: right;\">                      73</td><td style=\"text-align: right;\">                   6.375</td><td>R        </td><td>N                                 </td><td>FRM           </td><td>SC              </td><td>PU             </td><td style=\"text-align: right;\">        29500</td><td>F199Q1000017          </td><td>P             </td><td style=\"text-align: right;\">                 318</td><td style=\"text-align: right;\">                    2</td><td>Other sellers</td><td>Other servicers</td><td>TRUE     </td><td>FALSE       </td></tr>\n",
              "<tr><td style=\"text-align: right;\">           707</td><td style=\"text-align: right;\">              200211</td><td>N                          </td><td style=\"text-align: right;\">         202903</td><td style=\"text-align: right;\">                          33340</td><td style=\"text-align: right;\">                              0</td><td style=\"text-align: right;\">                1</td><td>O                 </td><td style=\"text-align: right;\">                               60</td><td style=\"text-align: right;\">                             57</td><td style=\"text-align: right;\">        136000</td><td style=\"text-align: right;\">                      60</td><td style=\"text-align: right;\">                   6.25 </td><td>R        </td><td>N                                 </td><td>FRM           </td><td>WI              </td><td>SF             </td><td style=\"text-align: right;\">        53000</td><td>F199Q1000018          </td><td>C             </td><td style=\"text-align: right;\">                 317</td><td style=\"text-align: right;\">                    2</td><td>Other sellers</td><td>Other servicers</td><td>TRUE     </td><td>FALSE       </td></tr>\n",
              "<tr><td style=\"text-align: right;\">           760</td><td style=\"text-align: right;\">              200211</td><td>N                          </td><td style=\"text-align: right;\">         202903</td><td style=\"text-align: right;\">                          33340</td><td style=\"text-align: right;\">                              0</td><td style=\"text-align: right;\">                1</td><td>O                 </td><td style=\"text-align: right;\">                               63</td><td style=\"text-align: right;\">                             30</td><td style=\"text-align: right;\">         79000</td><td style=\"text-align: right;\">                      63</td><td style=\"text-align: right;\">                   6.125</td><td>R        </td><td>N                                 </td><td>FRM           </td><td>WI              </td><td>SF             </td><td style=\"text-align: right;\">        53000</td><td>F199Q1000019          </td><td>N             </td><td style=\"text-align: right;\">                 317</td><td style=\"text-align: right;\">                    2</td><td>Other sellers</td><td>Other servicers</td><td>TRUE     </td><td>FALSE       </td></tr>\n",
              "<tr><td style=\"text-align: right;\">           691</td><td style=\"text-align: right;\">              200302</td><td>N                          </td><td style=\"text-align: right;\">         202901</td><td style=\"text-align: right;\">                          15940</td><td style=\"text-align: right;\">                              0</td><td style=\"text-align: right;\">                1</td><td>O                 </td><td style=\"text-align: right;\">                               65</td><td style=\"text-align: right;\">                             25</td><td style=\"text-align: right;\">        130000</td><td style=\"text-align: right;\">                      65</td><td style=\"text-align: right;\">                   5.875</td><td>R        </td><td>N                                 </td><td>FRM           </td><td>OH              </td><td>SF             </td><td style=\"text-align: right;\">        44700</td><td>F199Q1000023          </td><td>P             </td><td style=\"text-align: right;\">                 312</td><td style=\"text-align: right;\">                    2</td><td>Other sellers</td><td>Other servicers</td><td>TRUE     </td><td>FALSE       </td></tr>\n",
              "</tbody>\n",
              "</table>"
            ]
          },
          "metadata": {
            "tags": []
          }
        },
        {
          "output_type": "execute_result",
          "data": {
            "text/plain": [
              ""
            ]
          },
          "metadata": {
            "tags": []
          },
          "execution_count": 6
        }
      ]
    },
    {
      "cell_type": "code",
      "metadata": {
        "colab": {
          "base_uri": "https://localhost:8080/",
          "height": 446
        },
        "id": "o8jOQxvPAepT",
        "outputId": "2f083516-3644-4fee-84d0-2a205143005a"
      },
      "source": [
        "# Some descriptive analytics values\n",
        "loan_level[\"ORIGINAL_INTEREST_RATE\"].describe()"
      ],
      "execution_count": 7,
      "outputs": [
        {
          "output_type": "stream",
          "text": [
            "Rows:500137\n",
            "Cols:1\n",
            "\n",
            "\n"
          ],
          "name": "stdout"
        },
        {
          "output_type": "display_data",
          "data": {
            "text/html": [
              "<table>\n",
              "<thead>\n",
              "<tr><th>       </th><th>ORIGINAL_INTEREST_RATE  </th></tr>\n",
              "</thead>\n",
              "<tbody>\n",
              "<tr><td>type   </td><td>real                    </td></tr>\n",
              "<tr><td>mins   </td><td>4.625                   </td></tr>\n",
              "<tr><td>mean   </td><td>7.182686863799322       </td></tr>\n",
              "<tr><td>maxs   </td><td>11.5                    </td></tr>\n",
              "<tr><td>sigma  </td><td>0.5799408623980744      </td></tr>\n",
              "<tr><td>zeros  </td><td>0                       </td></tr>\n",
              "<tr><td>missing</td><td>0                       </td></tr>\n",
              "<tr><td>0      </td><td>7.12                    </td></tr>\n",
              "<tr><td>1      </td><td>6.5                     </td></tr>\n",
              "<tr><td>2      </td><td>6.75                    </td></tr>\n",
              "<tr><td>3      </td><td>6.625                   </td></tr>\n",
              "<tr><td>4      </td><td>6.375                   </td></tr>\n",
              "<tr><td>5      </td><td>6.0                     </td></tr>\n",
              "<tr><td>6      </td><td>6.375                   </td></tr>\n",
              "<tr><td>7      </td><td>6.25                    </td></tr>\n",
              "<tr><td>8      </td><td>6.125                   </td></tr>\n",
              "<tr><td>9      </td><td>5.875                   </td></tr>\n",
              "</tbody>\n",
              "</table>"
            ]
          },
          "metadata": {
            "tags": []
          }
        }
      ]
    },
    {
      "cell_type": "code",
      "metadata": {
        "colab": {
          "base_uri": "https://localhost:8080/",
          "height": 296
        },
        "id": "_07UWO4NAewd",
        "outputId": "353ffab4-c6a5-4b25-9b4d-d8256cd5d9b1"
      },
      "source": [
        "loan_level[\"ORIGINAL_INTEREST_RATE\"].hist()"
      ],
      "execution_count": 8,
      "outputs": [
        {
          "output_type": "display_data",
          "data": {
            "image/png": "[encoded data removed]",
            "text/plain": [
              "<Figure size 432x288 with 1 Axes>"
            ]
          },
          "metadata": {
            "tags": [],
            "needs_background": "light"
          }
        }
      ]
    },
    {
      "cell_type": "code",
      "metadata": {
        "colab": {
          "base_uri": "https://localhost:8080/"
        },
        "id": "xM1Q8BKHAe2a",
        "outputId": "999374f3-2219-48f7-f9d7-c56e997e3a43"
      },
      "source": [
        "# Spliting data into Training, validation and test.\n",
        "train, valid, test = loan_level.split_frame([0.70, 0.15], seed = 42)\n",
        "print(\"train:%d valid:%d test:%d\" % (train.nrows, valid.nrows, test.nrows))"
      ],
      "execution_count": 9,
      "outputs": [
        {
          "output_type": "stream",
          "text": [
            "train:350268 valid:74971 test:74898\n"
          ],
          "name": "stdout"
        }
      ]
    },
    {
      "cell_type": "code",
      "metadata": {
        "id": "coo7LOiJAe_h"
      },
      "source": [
        "# Choose your y variable response, and the x variable or predictor\n",
        "y = \"ORIGINAL_INTEREST_RATE\"\n",
        "\n",
        "ignore = [\"ORIGINAL_INTEREST_RATE\", \n",
        "          \"FIRST_PAYMENT_DATE\", \n",
        "          \"MATURITY_DATE\", \n",
        "          \"MORTGAGE_INSURANCE_PERCENTAGE\", \n",
        "          \"PREPAYMENT_PENALTY_MORTGAGE_FLAG\", \n",
        "          \"LOAN_SEQUENCE_NUMBER\", \n",
        "          \"PREPAID\", \n",
        "          \"DELINQUENT\", \n",
        "          \"PRODUCT_TYPE\"] \n",
        "\n",
        "x = list(set(train.names) - set(ignore))"
      ],
      "execution_count": 10,
      "outputs": []
    },
    {
      "cell_type": "markdown",
      "metadata": {
        "id": "PV7f2HNfCFNF"
      },
      "source": [
        "### Task 4: Build an XGBoost Model"
      ]
    },
    {
      "cell_type": "code",
      "metadata": {
        "colab": {
          "base_uri": "https://localhost:8080/"
        },
        "id": "buMcOGL-CB_8",
        "outputId": "c8ee3290-11a3-4770-9165-1a1ac6646857"
      },
      "source": [
        "# Build and train the model\n",
        "xgb = H2OXGBoostEstimator(seed = 42, \n",
        "                          model_id = 'XGBoost', \n",
        "                          nfolds = 0, \n",
        "                          keep_cross_validation_predictions = False)\n",
        "\n",
        "%time xgb.train(x = x, y = y, training_frame = train, validation_frame = valid)"
      ],
      "execution_count": 11,
      "outputs": [
        {
          "output_type": "stream",
          "text": [
            "xgboost Model Build progress: |██████████████████████████████████████████| 100%\n",
            "CPU times: user 759 ms, sys: 67.5 ms, total: 827 ms\n",
            "Wall time: 34 s\n"
          ],
          "name": "stdout"
        }
      ]
    },
    {
      "cell_type": "code",
      "metadata": {
        "colab": {
          "base_uri": "https://localhost:8080/",
          "height": 1000
        },
        "id": "07rWQhi8DDLY",
        "outputId": "0011b2fa-1c8c-48fb-f807-07f481796859"
      },
      "source": [
        "xgb"
      ],
      "execution_count": 12,
      "outputs": [
        {
          "output_type": "stream",
          "text": [
            "Model Details\n",
            "=============\n",
            "H2OXGBoostEstimator :  XGBoost\n",
            "Model Key:  XGBoost\n",
            "\n",
            "\n",
            "Model Summary: \n"
          ],
          "name": "stdout"
        },
        {
          "output_type": "display_data",
          "data": {
            "text/html": [
              "<div>\n",
              "<style scoped>\n",
              "    .dataframe tbody tr th:only-of-type {\n",
              "        vertical-align: middle;\n",
              "    }\n",
              "\n",
              "    .dataframe tbody tr th {\n",
              "        vertical-align: top;\n",
              "    }\n",
              "\n",
              "    .dataframe thead th {\n",
              "        text-align: right;\n",
              "    }\n",
              "</style>\n",
              "<table border=\"1\" class=\"dataframe\">\n",
              "  <thead>\n",
              "    <tr style=\"text-align: right;\">\n",
              "      <th></th>\n",
              "      <th></th>\n",
              "      <th>number_of_trees</th>\n",
              "    </tr>\n",
              "  </thead>\n",
              "  <tbody>\n",
              "    <tr>\n",
              "      <th>0</th>\n",
              "      <td></td>\n",
              "      <td>50.0</td>\n",
              "    </tr>\n",
              "  </tbody>\n",
              "</table>\n",
              "</div>"
            ],
            "text/plain": [
              "     number_of_trees\n",
              "0               50.0"
            ]
          },
          "metadata": {
            "tags": []
          }
        },
        {
          "output_type": "stream",
          "text": [
            "\n",
            "\n",
            "ModelMetricsRegression: xgboost\n",
            "** Reported on train data. **\n",
            "\n",
            "MSE: 0.17744636323081306\n",
            "RMSE: 0.4212438287154045\n",
            "MAE: 0.30712844420662655\n",
            "RMSLE: 0.04987056256391179\n",
            "Mean Residual Deviance: 0.17744636323081306\n",
            "\n",
            "ModelMetricsRegression: xgboost\n",
            "** Reported on validation data. **\n",
            "\n",
            "MSE: 0.18013989282125126\n",
            "RMSE: 0.4244289019626859\n",
            "MAE: 0.3108204587914598\n",
            "RMSLE: 0.0503052982338251\n",
            "Mean Residual Deviance: 0.18013989282125126\n",
            "\n",
            "Scoring History: \n"
          ],
          "name": "stdout"
        },
        {
          "output_type": "display_data",
          "data": {
            "text/html": [
              "<div>\n",
              "<style scoped>\n",
              "    .dataframe tbody tr th:only-of-type {\n",
              "        vertical-align: middle;\n",
              "    }\n",
              "\n",
              "    .dataframe tbody tr th {\n",
              "        vertical-align: top;\n",
              "    }\n",
              "\n",
              "    .dataframe thead th {\n",
              "        text-align: right;\n",
              "    }\n",
              "</style>\n",
              "<table border=\"1\" class=\"dataframe\">\n",
              "  <thead>\n",
              "    <tr style=\"text-align: right;\">\n",
              "      <th></th>\n",
              "      <th></th>\n",
              "      <th>timestamp</th>\n",
              "      <th>duration</th>\n",
              "      <th>number_of_trees</th>\n",
              "      <th>training_rmse</th>\n",
              "      <th>training_mae</th>\n",
              "      <th>training_deviance</th>\n",
              "      <th>validation_rmse</th>\n",
              "      <th>validation_mae</th>\n",
              "      <th>validation_deviance</th>\n",
              "    </tr>\n",
              "  </thead>\n",
              "  <tbody>\n",
              "    <tr>\n",
              "      <th>0</th>\n",
              "      <td></td>\n",
              "      <td>2021-04-30 04:31:56</td>\n",
              "      <td>0.342 sec</td>\n",
              "      <td>0.0</td>\n",
              "      <td>6.708863</td>\n",
              "      <td>6.683679</td>\n",
              "      <td>45.008844</td>\n",
              "      <td>6.704750</td>\n",
              "      <td>6.679805</td>\n",
              "      <td>44.953673</td>\n",
              "    </tr>\n",
              "    <tr>\n",
              "      <th>1</th>\n",
              "      <td></td>\n",
              "      <td>2021-04-30 04:31:59</td>\n",
              "      <td>3.158 sec</td>\n",
              "      <td>1.0</td>\n",
              "      <td>4.710473</td>\n",
              "      <td>4.678698</td>\n",
              "      <td>22.188559</td>\n",
              "      <td>4.707354</td>\n",
              "      <td>4.675791</td>\n",
              "      <td>22.159185</td>\n",
              "    </tr>\n",
              "    <tr>\n",
              "      <th>2</th>\n",
              "      <td></td>\n",
              "      <td>2021-04-30 04:31:59</td>\n",
              "      <td>4.098 sec</td>\n",
              "      <td>2.0</td>\n",
              "      <td>3.316827</td>\n",
              "      <td>3.275220</td>\n",
              "      <td>11.001343</td>\n",
              "      <td>3.313931</td>\n",
              "      <td>3.272599</td>\n",
              "      <td>10.982141</td>\n",
              "    </tr>\n",
              "    <tr>\n",
              "      <th>3</th>\n",
              "      <td></td>\n",
              "      <td>2021-04-30 04:32:00</td>\n",
              "      <td>4.827 sec</td>\n",
              "      <td>3.0</td>\n",
              "      <td>2.348813</td>\n",
              "      <td>2.292739</td>\n",
              "      <td>5.516923</td>\n",
              "      <td>2.346267</td>\n",
              "      <td>2.290480</td>\n",
              "      <td>5.504970</td>\n",
              "    </tr>\n",
              "    <tr>\n",
              "      <th>4</th>\n",
              "      <td></td>\n",
              "      <td>2021-04-30 04:32:01</td>\n",
              "      <td>5.596 sec</td>\n",
              "      <td>4.0</td>\n",
              "      <td>1.681035</td>\n",
              "      <td>1.605171</td>\n",
              "      <td>2.825880</td>\n",
              "      <td>1.678602</td>\n",
              "      <td>1.603109</td>\n",
              "      <td>2.817706</td>\n",
              "    </tr>\n",
              "    <tr>\n",
              "      <th>5</th>\n",
              "      <td></td>\n",
              "      <td>2021-04-30 04:32:05</td>\n",
              "      <td>10.097 sec</td>\n",
              "      <td>12.0</td>\n",
              "      <td>0.467832</td>\n",
              "      <td>0.329612</td>\n",
              "      <td>0.218867</td>\n",
              "      <td>0.467097</td>\n",
              "      <td>0.330447</td>\n",
              "      <td>0.218179</td>\n",
              "    </tr>\n",
              "    <tr>\n",
              "      <th>6</th>\n",
              "      <td></td>\n",
              "      <td>2021-04-30 04:32:10</td>\n",
              "      <td>14.224 sec</td>\n",
              "      <td>19.0</td>\n",
              "      <td>0.444173</td>\n",
              "      <td>0.325207</td>\n",
              "      <td>0.197290</td>\n",
              "      <td>0.444243</td>\n",
              "      <td>0.326696</td>\n",
              "      <td>0.197352</td>\n",
              "    </tr>\n",
              "    <tr>\n",
              "      <th>7</th>\n",
              "      <td></td>\n",
              "      <td>2021-04-30 04:32:14</td>\n",
              "      <td>18.698 sec</td>\n",
              "      <td>27.0</td>\n",
              "      <td>0.435665</td>\n",
              "      <td>0.318813</td>\n",
              "      <td>0.189804</td>\n",
              "      <td>0.436478</td>\n",
              "      <td>0.320970</td>\n",
              "      <td>0.190513</td>\n",
              "    </tr>\n",
              "    <tr>\n",
              "      <th>8</th>\n",
              "      <td></td>\n",
              "      <td>2021-04-30 04:32:19</td>\n",
              "      <td>23.878 sec</td>\n",
              "      <td>36.0</td>\n",
              "      <td>0.428852</td>\n",
              "      <td>0.313160</td>\n",
              "      <td>0.183914</td>\n",
              "      <td>0.430202</td>\n",
              "      <td>0.315791</td>\n",
              "      <td>0.185074</td>\n",
              "    </tr>\n",
              "    <tr>\n",
              "      <th>9</th>\n",
              "      <td></td>\n",
              "      <td>2021-04-30 04:32:26</td>\n",
              "      <td>30.258 sec</td>\n",
              "      <td>47.0</td>\n",
              "      <td>0.422619</td>\n",
              "      <td>0.308246</td>\n",
              "      <td>0.178607</td>\n",
              "      <td>0.425466</td>\n",
              "      <td>0.311725</td>\n",
              "      <td>0.181021</td>\n",
              "    </tr>\n",
              "    <tr>\n",
              "      <th>10</th>\n",
              "      <td></td>\n",
              "      <td>2021-04-30 04:32:28</td>\n",
              "      <td>32.677 sec</td>\n",
              "      <td>50.0</td>\n",
              "      <td>0.421244</td>\n",
              "      <td>0.307128</td>\n",
              "      <td>0.177446</td>\n",
              "      <td>0.424429</td>\n",
              "      <td>0.310820</td>\n",
              "      <td>0.180140</td>\n",
              "    </tr>\n",
              "  </tbody>\n",
              "</table>\n",
              "</div>"
            ],
            "text/plain": [
              "                timestamp  ... validation_mae  validation_deviance\n",
              "0     2021-04-30 04:31:56  ...       6.679805            44.953673\n",
              "1     2021-04-30 04:31:59  ...       4.675791            22.159185\n",
              "2     2021-04-30 04:31:59  ...       3.272599            10.982141\n",
              "3     2021-04-30 04:32:00  ...       2.290480             5.504970\n",
              "4     2021-04-30 04:32:01  ...       1.603109             2.817706\n",
              "5     2021-04-30 04:32:05  ...       0.330447             0.218179\n",
              "6     2021-04-30 04:32:10  ...       0.326696             0.197352\n",
              "7     2021-04-30 04:32:14  ...       0.320970             0.190513\n",
              "8     2021-04-30 04:32:19  ...       0.315791             0.185074\n",
              "9     2021-04-30 04:32:26  ...       0.311725             0.181021\n",
              "10    2021-04-30 04:32:28  ...       0.310820             0.180140\n",
              "\n",
              "[11 rows x 10 columns]"
            ]
          },
          "metadata": {
            "tags": []
          }
        },
        {
          "output_type": "stream",
          "text": [
            "\n",
            "Variable Importances: \n"
          ],
          "name": "stdout"
        },
        {
          "output_type": "display_data",
          "data": {
            "text/html": [
              "<div>\n",
              "<style scoped>\n",
              "    .dataframe tbody tr th:only-of-type {\n",
              "        vertical-align: middle;\n",
              "    }\n",
              "\n",
              "    .dataframe tbody tr th {\n",
              "        vertical-align: top;\n",
              "    }\n",
              "\n",
              "    .dataframe thead th {\n",
              "        text-align: right;\n",
              "    }\n",
              "</style>\n",
              "<table border=\"1\" class=\"dataframe\">\n",
              "  <thead>\n",
              "    <tr style=\"text-align: right;\">\n",
              "      <th></th>\n",
              "      <th>variable</th>\n",
              "      <th>relative_importance</th>\n",
              "      <th>scaled_importance</th>\n",
              "      <th>percentage</th>\n",
              "    </tr>\n",
              "  </thead>\n",
              "  <tbody>\n",
              "    <tr>\n",
              "      <th>0</th>\n",
              "      <td>SELLER_NAME.NORWESTMORTGAGE,INC</td>\n",
              "      <td>25657.996094</td>\n",
              "      <td>1.000000</td>\n",
              "      <td>0.239125</td>\n",
              "    </tr>\n",
              "    <tr>\n",
              "      <th>1</th>\n",
              "      <td>OCCUPANCY_STATUS.I</td>\n",
              "      <td>7086.139160</td>\n",
              "      <td>0.276177</td>\n",
              "      <td>0.066041</td>\n",
              "    </tr>\n",
              "    <tr>\n",
              "      <th>2</th>\n",
              "      <td>ORIGINAL_UPB</td>\n",
              "      <td>6440.511230</td>\n",
              "      <td>0.251014</td>\n",
              "      <td>0.060024</td>\n",
              "    </tr>\n",
              "    <tr>\n",
              "      <th>3</th>\n",
              "      <td>ORIGINAL_LOAN_TO_VALUE</td>\n",
              "      <td>5813.790527</td>\n",
              "      <td>0.226588</td>\n",
              "      <td>0.054183</td>\n",
              "    </tr>\n",
              "    <tr>\n",
              "      <th>4</th>\n",
              "      <td>LOAN_PURPOSE.P</td>\n",
              "      <td>4025.863281</td>\n",
              "      <td>0.156905</td>\n",
              "      <td>0.037520</td>\n",
              "    </tr>\n",
              "    <tr>\n",
              "      <th>5</th>\n",
              "      <td>CREDIT_SCORE</td>\n",
              "      <td>3827.817139</td>\n",
              "      <td>0.149186</td>\n",
              "      <td>0.035674</td>\n",
              "    </tr>\n",
              "    <tr>\n",
              "      <th>6</th>\n",
              "      <td>SERVICER_NAME.ABNAMROMTGEGROUP,INC</td>\n",
              "      <td>3514.124512</td>\n",
              "      <td>0.136960</td>\n",
              "      <td>0.032751</td>\n",
              "    </tr>\n",
              "    <tr>\n",
              "      <th>7</th>\n",
              "      <td>SELLER_NAME.COUNTRYWIDE</td>\n",
              "      <td>3313.306641</td>\n",
              "      <td>0.129133</td>\n",
              "      <td>0.030879</td>\n",
              "    </tr>\n",
              "    <tr>\n",
              "      <th>8</th>\n",
              "      <td>SELLER_NAME.NATLCITYMTGECO</td>\n",
              "      <td>3025.856445</td>\n",
              "      <td>0.117930</td>\n",
              "      <td>0.028200</td>\n",
              "    </tr>\n",
              "    <tr>\n",
              "      <th>9</th>\n",
              "      <td>SELLER_NAME.CROSSLANDMTGECORP</td>\n",
              "      <td>2976.497314</td>\n",
              "      <td>0.116007</td>\n",
              "      <td>0.027740</td>\n",
              "    </tr>\n",
              "    <tr>\n",
              "      <th>10</th>\n",
              "      <td>SELLER_NAME.BANKOFAMERICA,NA</td>\n",
              "      <td>2608.802002</td>\n",
              "      <td>0.101676</td>\n",
              "      <td>0.024313</td>\n",
              "    </tr>\n",
              "    <tr>\n",
              "      <th>11</th>\n",
              "      <td>SELLER_NAME.PNCMTGECORPOFAMERICA</td>\n",
              "      <td>2406.065674</td>\n",
              "      <td>0.093774</td>\n",
              "      <td>0.022424</td>\n",
              "    </tr>\n",
              "    <tr>\n",
              "      <th>12</th>\n",
              "      <td>SELLER_NAME.STANDARD FEDERAL BAN</td>\n",
              "      <td>2217.734375</td>\n",
              "      <td>0.086434</td>\n",
              "      <td>0.020669</td>\n",
              "    </tr>\n",
              "    <tr>\n",
              "      <th>13</th>\n",
              "      <td>SELLER_NAME.FIRSTHORIZONHOMELOAN</td>\n",
              "      <td>1916.515381</td>\n",
              "      <td>0.074695</td>\n",
              "      <td>0.017861</td>\n",
              "    </tr>\n",
              "    <tr>\n",
              "      <th>14</th>\n",
              "      <td>POSTAL_CODE</td>\n",
              "      <td>1817.836792</td>\n",
              "      <td>0.070849</td>\n",
              "      <td>0.016942</td>\n",
              "    </tr>\n",
              "    <tr>\n",
              "      <th>15</th>\n",
              "      <td>ORIGINAL_DEBT_TO_INCOME_RATIO</td>\n",
              "      <td>1558.810547</td>\n",
              "      <td>0.060753</td>\n",
              "      <td>0.014528</td>\n",
              "    </tr>\n",
              "    <tr>\n",
              "      <th>16</th>\n",
              "      <td>SELLER_NAME.ABNAMROMTGEGROUP,INC</td>\n",
              "      <td>1336.864746</td>\n",
              "      <td>0.052103</td>\n",
              "      <td>0.012459</td>\n",
              "    </tr>\n",
              "    <tr>\n",
              "      <th>17</th>\n",
              "      <td>SERVICER_NAME.Other servicers</td>\n",
              "      <td>1252.610229</td>\n",
              "      <td>0.048819</td>\n",
              "      <td>0.011674</td>\n",
              "    </tr>\n",
              "    <tr>\n",
              "      <th>18</th>\n",
              "      <td>SERVICER_NAME.FIRSTNATIONWIDEMTGEC</td>\n",
              "      <td>1207.970825</td>\n",
              "      <td>0.047080</td>\n",
              "      <td>0.011258</td>\n",
              "    </tr>\n",
              "    <tr>\n",
              "      <th>19</th>\n",
              "      <td>SELLER_NAME.Other sellers</td>\n",
              "      <td>1175.286499</td>\n",
              "      <td>0.045806</td>\n",
              "      <td>0.010953</td>\n",
              "    </tr>\n",
              "  </tbody>\n",
              "</table>\n",
              "</div>"
            ],
            "text/plain": [
              "                              variable  ...  percentage\n",
              "0      SELLER_NAME.NORWESTMORTGAGE,INC  ...    0.239125\n",
              "1                   OCCUPANCY_STATUS.I  ...    0.066041\n",
              "2                         ORIGINAL_UPB  ...    0.060024\n",
              "3               ORIGINAL_LOAN_TO_VALUE  ...    0.054183\n",
              "4                       LOAN_PURPOSE.P  ...    0.037520\n",
              "5                         CREDIT_SCORE  ...    0.035674\n",
              "6   SERVICER_NAME.ABNAMROMTGEGROUP,INC  ...    0.032751\n",
              "7              SELLER_NAME.COUNTRYWIDE  ...    0.030879\n",
              "8           SELLER_NAME.NATLCITYMTGECO  ...    0.028200\n",
              "9        SELLER_NAME.CROSSLANDMTGECORP  ...    0.027740\n",
              "10        SELLER_NAME.BANKOFAMERICA,NA  ...    0.024313\n",
              "11    SELLER_NAME.PNCMTGECORPOFAMERICA  ...    0.022424\n",
              "12    SELLER_NAME.STANDARD FEDERAL BAN  ...    0.020669\n",
              "13    SELLER_NAME.FIRSTHORIZONHOMELOAN  ...    0.017861\n",
              "14                         POSTAL_CODE  ...    0.016942\n",
              "15       ORIGINAL_DEBT_TO_INCOME_RATIO  ...    0.014528\n",
              "16    SELLER_NAME.ABNAMROMTGEGROUP,INC  ...    0.012459\n",
              "17       SERVICER_NAME.Other servicers  ...    0.011674\n",
              "18  SERVICER_NAME.FIRSTNATIONWIDEMTGEC  ...    0.011258\n",
              "19           SELLER_NAME.Other sellers  ...    0.010953\n",
              "\n",
              "[20 rows x 4 columns]"
            ]
          },
          "metadata": {
            "tags": []
          }
        },
        {
          "output_type": "stream",
          "text": [
            "\n",
            "See the whole table with table.as_data_frame()\n"
          ],
          "name": "stdout"
        },
        {
          "output_type": "execute_result",
          "data": {
            "text/plain": [
              ""
            ]
          },
          "metadata": {
            "tags": []
          },
          "execution_count": 12
        }
      ]
    },
    {
      "cell_type": "code",
      "metadata": {
        "colab": {
          "base_uri": "https://localhost:8080/",
          "height": 296
        },
        "id": "h4aAleS-DOLb",
        "outputId": "0052e9b3-c39c-4f98-bd62-8c9c64de86e6"
      },
      "source": [
        "# plot the scoring history.\n",
        "xgb.plot()"
      ],
      "execution_count": 13,
      "outputs": [
        {
          "output_type": "display_data",
          "data": {
            "image/png": "[encoded data removed]",
            "text/plain": [
              "<Figure size 432x288 with 1 Axes>"
            ]
          },
          "metadata": {
            "tags": [],
            "needs_background": "light"
          }
        }
      ]
    },
    {
      "cell_type": "code",
      "metadata": {
        "colab": {
          "base_uri": "https://localhost:8080/",
          "height": 612
        },
        "id": "BrIsfZpeDuvP",
        "outputId": "e9a0a035-c808-4310-c4eb-b5dbdc74d672"
      },
      "source": [
        "# variable importance plot.\n",
        "xgb.varimp_plot()"
      ],
      "execution_count": 14,
      "outputs": [
        {
          "output_type": "display_data",
          "data": {
            "image/png": "[encoded data removed]",
            "text/plain": [
              "<Figure size 1008x720 with 1 Axes>"
            ]
          },
          "metadata": {
            "tags": [],
            "needs_background": "light"
          }
        }
      ]
    },
    {
      "cell_type": "code",
      "metadata": {
        "colab": {
          "base_uri": "https://localhost:8080/",
          "height": 255
        },
        "id": "tur-VQM6D7NV",
        "outputId": "86ea9b17-290f-4387-8ec1-6f422a53dd08"
      },
      "source": [
        "# Some predictions on the validation set.\n",
        "xgb_def_pred = xgb.predict(valid)\n",
        "xgb_def_pred.cbind(valid['ORIGINAL_INTEREST_RATE'])"
      ],
      "execution_count": 16,
      "outputs": [
        {
          "output_type": "stream",
          "text": [
            "xgboost prediction progress: |████████████████████████████████████████████| 100%\n"
          ],
          "name": "stdout"
        },
        {
          "output_type": "display_data",
          "data": {
            "text/html": [
              "<table>\n",
              "<thead>\n",
              "<tr><th style=\"text-align: right;\">  predict</th><th style=\"text-align: right;\">  ORIGINAL_INTEREST_RATE</th></tr>\n",
              "</thead>\n",
              "<tbody>\n",
              "<tr><td style=\"text-align: right;\">  7.20097</td><td style=\"text-align: right;\">                   5.875</td></tr>\n",
              "<tr><td style=\"text-align: right;\">  6.87724</td><td style=\"text-align: right;\">                   6.75 </td></tr>\n",
              "<tr><td style=\"text-align: right;\">  7.0235 </td><td style=\"text-align: right;\">                   7.75 </td></tr>\n",
              "<tr><td style=\"text-align: right;\">  7.25526</td><td style=\"text-align: right;\">                   6.625</td></tr>\n",
              "<tr><td style=\"text-align: right;\">  7.02648</td><td style=\"text-align: right;\">                   6.75 </td></tr>\n",
              "<tr><td style=\"text-align: right;\">  7.38137</td><td style=\"text-align: right;\">                   7    </td></tr>\n",
              "<tr><td style=\"text-align: right;\">  6.8168 </td><td style=\"text-align: right;\">                   7    </td></tr>\n",
              "<tr><td style=\"text-align: right;\">  7.40214</td><td style=\"text-align: right;\">                   7    </td></tr>\n",
              "<tr><td style=\"text-align: right;\">  7.06643</td><td style=\"text-align: right;\">                   7.25 </td></tr>\n",
              "<tr><td style=\"text-align: right;\">  7.00728</td><td style=\"text-align: right;\">                   7    </td></tr>\n",
              "</tbody>\n",
              "</table>"
            ]
          },
          "metadata": {
            "tags": []
          }
        },
        {
          "output_type": "execute_result",
          "data": {
            "text/plain": [
              ""
            ]
          },
          "metadata": {
            "tags": []
          },
          "execution_count": 16
        }
      ]
    },
    {
      "cell_type": "code",
      "metadata": {
        "id": "JtDPU1OAEDQ_"
      },
      "source": [
        "# Save model performance.\n",
        "default_xgb_per = xgb.model_performance(valid)"
      ],
      "execution_count": 17,
      "outputs": []
    }
  ]
}