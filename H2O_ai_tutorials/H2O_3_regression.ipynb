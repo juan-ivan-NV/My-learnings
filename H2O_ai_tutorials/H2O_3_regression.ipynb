{
  "nbformat": 4,
  "nbformat_minor": 0,
  "metadata": {
    "colab": {
      "name": "1B. Introduction to Machine Learning with H2O-3-regression.ipynb",
      "provenance": []
    },
    "kernelspec": {
      "name": "python3",
      "display_name": "Python 3"
    },
    "language_info": {
      "name": "python"
    }
  },
  "cells": [
    {
      "cell_type": "markdown",
      "metadata": {
        "id": "kvqzjYMKyeKS"
      },
      "source": [
        "![img](https://miro.medium.com/max/802/1*u7swL7CrX0UW_lIScu1eDQ.png)\n",
        "# 1B. Introduction to Machine Learning with H2O-3-regression"
      ]
    },
    {
      "cell_type": "markdown",
      "metadata": {
        "id": "4a67_2Cm0Aon"
      },
      "source": [
        "In this tutorial we will use the subset of the Freddie Mac Single-Family dataset to try to predict the interest rate for a loan using H2O's XGBoost and Deep Learning models. We will explore how to use these models for a regression problem, and we will also demonstrate how to use H2O's grid search to tune the hyper-parameters of both models."
      ]
    },
    {
      "cell_type": "markdown",
      "metadata": {
        "id": "CEVfR49P0rew"
      },
      "source": [
        "### Installations"
      ]
    },
    {
      "cell_type": "code",
      "metadata": {
        "colab": {
          "base_uri": "https://localhost:8080/"
        },
        "id": "jT_5S7BfydNZ",
        "outputId": "c593ec21-df95-4c44-dbe8-631cad3b6ff7"
      },
      "source": [
        "# installing java\n",
        "! apt-get install default-jre\n",
        "! java -version\n",
        "# install h2o\n",
        "! pip install h2o"
      ],
      "execution_count": 1,
      "outputs": [
        {
          "output_type": "stream",
          "text": [
            "Reading package lists... Done\n",
            "Building dependency tree       \n",
            "Reading state information... Done\n",
            "default-jre is already the newest version (2:1.11-68ubuntu1~18.04.1).\n",
            "default-jre set to manually installed.\n",
            "The following package was automatically installed and is no longer required:\n",
            "  libnvidia-common-460\n",
            "Use 'apt autoremove' to remove it.\n",
            "0 upgraded, 0 newly installed, 0 to remove and 34 not upgraded.\n",
            "openjdk version \"11.0.10\" 2021-01-19\n",
            "OpenJDK Runtime Environment (build 11.0.10+9-Ubuntu-0ubuntu1.18.04)\n",
            "OpenJDK 64-Bit Server VM (build 11.0.10+9-Ubuntu-0ubuntu1.18.04, mixed mode, sharing)\n",
            "Collecting h2o\n",
            "\u001b[?25l  Downloading https://files.pythonhosted.org/packages/95/b8/f8839b152e5b783b453a957432402e13350ca93b54741f0f848eee22bb08/h2o-3.32.1.2.tar.gz (164.8MB)\n",
            "\u001b[K     |████████████████████████████████| 164.8MB 74kB/s \n",
            "\u001b[?25hRequirement already satisfied: requests in /usr/local/lib/python3.7/dist-packages (from h2o) (2.23.0)\n",
            "Requirement already satisfied: tabulate in /usr/local/lib/python3.7/dist-packages (from h2o) (0.8.9)\n",
            "Requirement already satisfied: future in /usr/local/lib/python3.7/dist-packages (from h2o) (0.16.0)\n",
            "Collecting colorama>=0.3.8\n",
            "  Downloading https://files.pythonhosted.org/packages/44/98/5b86278fbbf250d239ae0ecb724f8572af1c91f4a11edf4d36a206189440/colorama-0.4.4-py2.py3-none-any.whl\n",
            "Requirement already satisfied: certifi>=2017.4.17 in /usr/local/lib/python3.7/dist-packages (from requests->h2o) (2020.12.5)\n",
            "Requirement already satisfied: idna<3,>=2.5 in /usr/local/lib/python3.7/dist-packages (from requests->h2o) (2.10)\n",
            "Requirement already satisfied: urllib3!=1.25.0,!=1.25.1,<1.26,>=1.21.1 in /usr/local/lib/python3.7/dist-packages (from requests->h2o) (1.24.3)\n",
            "Requirement already satisfied: chardet<4,>=3.0.2 in /usr/local/lib/python3.7/dist-packages (from requests->h2o) (3.0.4)\n",
            "Building wheels for collected packages: h2o\n",
            "  Building wheel for h2o (setup.py) ... \u001b[?25l\u001b[?25hdone\n",
            "  Created wheel for h2o: filename=h2o-3.32.1.2-py2.py3-none-any.whl size=164848811 sha256=7342314c3d6b6a6ca1d276daa56a46a457888b658040497b22d21abbf96b2720\n",
            "  Stored in directory: /root/.cache/pip/wheels/37/b6/c7/c1cfdcd471d476b2b5129f4d27a0fd89043858ee74eda7ee7a\n",
            "Successfully built h2o\n",
            "Installing collected packages: colorama, h2o\n",
            "Successfully installed colorama-0.4.4 h2o-3.32.1.2\n"
          ],
          "name": "stdout"
        }
      ]
    },
    {
      "cell_type": "markdown",
      "metadata": {
        "id": "D4qGXIcY0wHg"
      },
      "source": [
        "### Task 1: Init"
      ]
    },
    {
      "cell_type": "code",
      "metadata": {
        "id": "wqjlGGlJ0pRu"
      },
      "source": [
        "#Import H2O and other libaries that will be used in this tutorial \n",
        "import h2o\n",
        "from h2o.estimators import *\n",
        "from h2o.grid import *"
      ],
      "execution_count": 2,
      "outputs": []
    },
    {
      "cell_type": "markdown",
      "metadata": {
        "id": "Iv8jeqj21ILe"
      },
      "source": [
        "We now have to initialize our instance. If you are on Aquarium, it will connect to a local instance; if you are on your own machine, it will launch an instance connected to your machine."
      ]
    },
    {
      "cell_type": "code",
      "metadata": {
        "id": "DAs7i58X08yL"
      },
      "source": [
        "import os\n",
        "\n",
        "startup  = '/home/h2o/bin/aquarium_startup'\n",
        "shutdown = '/home/h2o/bin/aquarium_stop'\n",
        "\n",
        "if os.path.exists(startup):\n",
        "    os.system(startup)\n",
        "    local_url = 'http://localhost:54321/h2o'\n",
        "    aquarium = True\n",
        "else:\n",
        "    local_url = 'http://localhost:54321'\n",
        "    aquarium = False"
      ],
      "execution_count": 3,
      "outputs": []
    },
    {
      "cell_type": "code",
      "metadata": {
        "colab": {
          "base_uri": "https://localhost:8080/",
          "height": 0
        },
        "id": "x_w_aW-x1Nsq",
        "outputId": "df8b843f-ac98-40c8-e306-987d9e96e03a"
      },
      "source": [
        "h2o.init(url = local_url)"
      ],
      "execution_count": 4,
      "outputs": [
        {
          "output_type": "stream",
          "text": [
            "Checking whether there is an H2O instance running at http://localhost:54321 ..... not found.\n",
            "Attempting to start a local H2O server...\n",
            "  Java Version: openjdk version \"11.0.10\" 2021-01-19; OpenJDK Runtime Environment (build 11.0.10+9-Ubuntu-0ubuntu1.18.04); OpenJDK 64-Bit Server VM (build 11.0.10+9-Ubuntu-0ubuntu1.18.04, mixed mode, sharing)\n",
            "  Starting server from /usr/local/lib/python3.7/dist-packages/h2o/backend/bin/h2o.jar\n",
            "  Ice root: /tmp/tmpkwg2kpy_\n",
            "  JVM stdout: /tmp/tmpkwg2kpy_/h2o_unknownUser_started_from_python.out\n",
            "  JVM stderr: /tmp/tmpkwg2kpy_/h2o_unknownUser_started_from_python.err\n",
            "  Server is running at http://127.0.0.1:54321\n",
            "Connecting to H2O server at http://127.0.0.1:54321 ... successful.\n"
          ],
          "name": "stdout"
        },
        {
          "output_type": "display_data",
          "data": {
            "text/html": [
              "<div style=\"overflow:auto\"><table style=\"width:50%\"><tr><td>H2O_cluster_uptime:</td>\n",
              "<td>03 secs</td></tr>\n",
              "<tr><td>H2O_cluster_timezone:</td>\n",
              "<td>Etc/UTC</td></tr>\n",
              "<tr><td>H2O_data_parsing_timezone:</td>\n",
              "<td>UTC</td></tr>\n",
              "<tr><td>H2O_cluster_version:</td>\n",
              "<td>3.32.1.2</td></tr>\n",
              "<tr><td>H2O_cluster_version_age:</td>\n",
              "<td>23 hours and 41 minutes </td></tr>\n",
              "<tr><td>H2O_cluster_name:</td>\n",
              "<td>H2O_from_python_unknownUser_mp3kzw</td></tr>\n",
              "<tr><td>H2O_cluster_total_nodes:</td>\n",
              "<td>1</td></tr>\n",
              "<tr><td>H2O_cluster_free_memory:</td>\n",
              "<td>3.180 Gb</td></tr>\n",
              "<tr><td>H2O_cluster_total_cores:</td>\n",
              "<td>2</td></tr>\n",
              "<tr><td>H2O_cluster_allowed_cores:</td>\n",
              "<td>2</td></tr>\n",
              "<tr><td>H2O_cluster_status:</td>\n",
              "<td>accepting new members, healthy</td></tr>\n",
              "<tr><td>H2O_connection_url:</td>\n",
              "<td>http://127.0.0.1:54321</td></tr>\n",
              "<tr><td>H2O_connection_proxy:</td>\n",
              "<td>{\"http\": null, \"https\": null}</td></tr>\n",
              "<tr><td>H2O_internal_security:</td>\n",
              "<td>False</td></tr>\n",
              "<tr><td>H2O_API_Extensions:</td>\n",
              "<td>Amazon S3, XGBoost, Algos, AutoML, Core V3, TargetEncoder, Core V4</td></tr>\n",
              "<tr><td>Python_version:</td>\n",
              "<td>3.7.10 final</td></tr></table></div>"
            ],
            "text/plain": [
              "--------------------------  ------------------------------------------------------------------\n",
              "H2O_cluster_uptime:         03 secs\n",
              "H2O_cluster_timezone:       Etc/UTC\n",
              "H2O_data_parsing_timezone:  UTC\n",
              "H2O_cluster_version:        3.32.1.2\n",
              "H2O_cluster_version_age:    23 hours and 41 minutes\n",
              "H2O_cluster_name:           H2O_from_python_unknownUser_mp3kzw\n",
              "H2O_cluster_total_nodes:    1\n",
              "H2O_cluster_free_memory:    3.180 Gb\n",
              "H2O_cluster_total_cores:    2\n",
              "H2O_cluster_allowed_cores:  2\n",
              "H2O_cluster_status:         accepting new members, healthy\n",
              "H2O_connection_url:         http://127.0.0.1:54321\n",
              "H2O_connection_proxy:       {\"http\": null, \"https\": null}\n",
              "H2O_internal_security:      False\n",
              "H2O_API_Extensions:         Amazon S3, XGBoost, Algos, AutoML, Core V3, TargetEncoder, Core V4\n",
              "Python_version:             3.7.10 final\n",
              "--------------------------  ------------------------------------------------------------------"
            ]
          },
          "metadata": {
            "tags": []
          }
        }
      ]
    },
    {
      "cell_type": "code",
      "metadata": {
        "colab": {
          "base_uri": "https://localhost:8080/"
        },
        "id": "vTjt3IF31feN",
        "outputId": "ed59dde8-e07c-4118-8897-b02d9e62eb2b"
      },
      "source": [
        "#Import the dataset from an AWS instance \n",
        "loan_level = h2o.import_file(\"https://s3.amazonaws.com/data.h2o.ai/DAI-Tutorials/loan_level_500k.csv\")"
      ],
      "execution_count": 5,
      "outputs": [
        {
          "output_type": "stream",
          "text": [
            "Parse progress: |█████████████████████████████████████████████████████████| 100%\n"
          ],
          "name": "stdout"
        }
      ]
    },
    {
      "cell_type": "markdown",
      "metadata": {
        "id": "E9E2yHDv2JVV"
      },
      "source": [
        "### Task 2: Regression Concepts"
      ]
    },
    {
      "cell_type": "markdown",
      "metadata": {
        "id": "lqaU0JnM29ZS"
      },
      "source": [
        "Regression ► Regression tries to predict a continuous number (as opposed to classification, which only categorizes). With a regressor model, you try to predict the exact number from your response column. In our case, we will try to predict the interest rate (a continuous value). You will see later on that some samples might have a 7.5% interest rate, and our regression model will try to predict that number.\n",
        "\n",
        "Some metrics:\n",
        "\n",
        "*   MSE ► measures the average of the squares of the errors or deviations. MSE takes the distances from the points to the regression line (these distances are the \"errors\") and squaring them to remove any negative signs. MSE incorporates both the variance and the bias of the predictor. MSE also gives more weight to larger differences.\n",
        "\n",
        "*   RMSE ► evaluates how well a model can predict a continuous value. The RMSE units are the same as the predicted target, which is useful for understanding if the size of the error is of concern or not, but is sensitive to outliers.\n",
        "\n",
        "*   MAE ► is an average of the absolute errors. The MAE units are the same as the predicted target as well as the RMSW, which is also useful for understanding whether the size of the error is of concern or not.\n",
        "\n",
        "For a detailed description of the other metrics, please check: http://docs.h2o.ai/h2o/latest-stable/h2o-docs/performance-and-prediction.html#evaluation-model-metrics\n",
        "\n",
        "Based-Tree Algorithms:\n",
        "\n",
        "*   Decision Trees ► uses a tree-like model of decisions to make a prediction. Decision trees subdivide the dataset and move event outcomes left and right to build the tree model and fit all the data. The series of questions are generated automatically to optimize the separation of the data points depending on what you are trying to find whether you are doing a regression or classification tree. (non-linear / correlated features doe not eaffect their performance / robust to missing values)\n",
        "\n",
        "*   Tree Ensembles ► combine several decision trees in order to solve the same problem and make better predictions. One example of tree ensembles is Random Forest, which uses bagging or bootstrap aggregation, meaning we fit many different trees on different samples of the data.\n",
        "\n",
        "*   XGBoost ► another decision-tree-based ensemble that uses boosting to yield accurate models, XGBoost provides parallel tree boosting (also known as GBDT, GBM) that solves many data science problems in a fast and accurate manner. For many problems, XGBoost is one of the best GBM frameworks today.\n",
        "\n",
        "*   Deep Learning ► is a subset of machine learning that uses neural networks to solve complex problems that other machine learning algorithms have difficulties with, such as image classification, speech recognition, etc. Deep Learning models have an advantage over standard machine learning because they are very effective at learning non-linear derived features from the input features. Neural networks are algorithms based on how the human brain works because they are composed of nodes or commonly known as \"neurons,\" and thus the name of neural networks.\n",
        "http://docs.h2o.ai/h2o/latest-stable/h2o-docs/data-science/deep-learning.html#deep-learning-neural-networks\n"
      ]
    },
    {
      "cell_type": "markdown",
      "metadata": {
        "id": "B6bzmGBUAVLl"
      },
      "source": [
        "### Task 3: Start Experiment"
      ]
    },
    {
      "cell_type": "code",
      "metadata": {
        "colab": {
          "base_uri": "https://localhost:8080/",
          "height": 258
        },
        "id": "NkC4g6ar1soN",
        "outputId": "ae4421a2-c081-4543-d5a9-deaede82cd4f"
      },
      "source": [
        "# First 10 dtaset rows\n",
        "loan_level.head()"
      ],
      "execution_count": 6,
      "outputs": [
        {
          "output_type": "display_data",
          "data": {
            "text/html": [
              "<table>\n",
              "<thead>\n",
              "<tr><th style=\"text-align: right;\">  CREDIT_SCORE</th><th style=\"text-align: right;\">  FIRST_PAYMENT_DATE</th><th>FIRST_TIME_HOMEBUYER_FLAG  </th><th style=\"text-align: right;\">  MATURITY_DATE</th><th style=\"text-align: right;\">  METROPOLITAN_STATISTICAL_AREA</th><th style=\"text-align: right;\">  MORTGAGE_INSURANCE_PERCENTAGE</th><th style=\"text-align: right;\">  NUMBER_OF_UNITS</th><th>OCCUPANCY_STATUS  </th><th style=\"text-align: right;\">  ORIGINAL_COMBINED_LOAN_TO_VALUE</th><th style=\"text-align: right;\">  ORIGINAL_DEBT_TO_INCOME_RATIO</th><th style=\"text-align: right;\">  ORIGINAL_UPB</th><th style=\"text-align: right;\">  ORIGINAL_LOAN_TO_VALUE</th><th style=\"text-align: right;\">  ORIGINAL_INTEREST_RATE</th><th>CHANNEL  </th><th>PREPAYMENT_PENALTY_MORTGAGE_FLAG  </th><th>PRODUCT_TYPE  </th><th>PROPERTY_STATE  </th><th>PROPERTY_TYPE  </th><th style=\"text-align: right;\">  POSTAL_CODE</th><th>LOAN_SEQUENCE_NUMBER  </th><th>LOAN_PURPOSE  </th><th style=\"text-align: right;\">  ORIGINAL_LOAN_TERM</th><th style=\"text-align: right;\">  NUMBER_OF_BORROWERS</th><th>SELLER_NAME  </th><th>SERVICER_NAME  </th><th>PREPAID  </th><th>DELINQUENT  </th></tr>\n",
              "</thead>\n",
              "<tbody>\n",
              "<tr><td style=\"text-align: right;\">           669</td><td style=\"text-align: right;\">              200206</td><td>N                          </td><td style=\"text-align: right;\">         202901</td><td style=\"text-align: right;\">                            nan</td><td style=\"text-align: right;\">                              0</td><td style=\"text-align: right;\">                1</td><td>O                 </td><td style=\"text-align: right;\">                               80</td><td style=\"text-align: right;\">                             33</td><td style=\"text-align: right;\">        162000</td><td style=\"text-align: right;\">                      80</td><td style=\"text-align: right;\">                   7.12 </td><td>R        </td><td>N                                 </td><td>FRM           </td><td>WV              </td><td>SF             </td><td style=\"text-align: right;\">        26100</td><td>F199Q1000004          </td><td>P             </td><td style=\"text-align: right;\">                 320</td><td style=\"text-align: right;\">                    2</td><td>Other sellers</td><td>Other servicers</td><td>TRUE     </td><td>FALSE       </td></tr>\n",
              "<tr><td style=\"text-align: right;\">           732</td><td style=\"text-align: right;\">              199904</td><td>N                          </td><td style=\"text-align: right;\">         202903</td><td style=\"text-align: right;\">                          17140</td><td style=\"text-align: right;\">                              0</td><td style=\"text-align: right;\">                1</td><td>O                 </td><td style=\"text-align: right;\">                               25</td><td style=\"text-align: right;\">                             10</td><td style=\"text-align: right;\">         53000</td><td style=\"text-align: right;\">                      25</td><td style=\"text-align: right;\">                   6.5  </td><td>R        </td><td>N                                 </td><td>FRM           </td><td>OH              </td><td>SF             </td><td style=\"text-align: right;\">        45200</td><td>F199Q1000005          </td><td>N             </td><td style=\"text-align: right;\">                 360</td><td style=\"text-align: right;\">                    1</td><td>Other sellers</td><td>Other servicers</td><td>TRUE     </td><td>FALSE       </td></tr>\n",
              "<tr><td style=\"text-align: right;\">           679</td><td style=\"text-align: right;\">              200208</td><td>N                          </td><td style=\"text-align: right;\">         202902</td><td style=\"text-align: right;\">                          15940</td><td style=\"text-align: right;\">                             30</td><td style=\"text-align: right;\">                1</td><td>O                 </td><td style=\"text-align: right;\">                               91</td><td style=\"text-align: right;\">                             48</td><td style=\"text-align: right;\">        133000</td><td style=\"text-align: right;\">                      91</td><td style=\"text-align: right;\">                   6.75 </td><td>R        </td><td>N                                 </td><td>FRM           </td><td>OH              </td><td>SF             </td><td style=\"text-align: right;\">        44700</td><td>F199Q1000007          </td><td>P             </td><td style=\"text-align: right;\">                 319</td><td style=\"text-align: right;\">                    1</td><td>Other sellers</td><td>Other servicers</td><td>TRUE     </td><td>FALSE       </td></tr>\n",
              "<tr><td style=\"text-align: right;\">           721</td><td style=\"text-align: right;\">              200209</td><td>N                          </td><td style=\"text-align: right;\">         202902</td><td style=\"text-align: right;\">                          38060</td><td style=\"text-align: right;\">                              0</td><td style=\"text-align: right;\">                1</td><td>O                 </td><td style=\"text-align: right;\">                               39</td><td style=\"text-align: right;\">                             13</td><td style=\"text-align: right;\">        174000</td><td style=\"text-align: right;\">                      39</td><td style=\"text-align: right;\">                   6.625</td><td>T        </td><td>N                                 </td><td>FRM           </td><td>AZ              </td><td>SF             </td><td style=\"text-align: right;\">        85200</td><td>F199Q1000013          </td><td>N             </td><td style=\"text-align: right;\">                 318</td><td style=\"text-align: right;\">                    2</td><td>Other sellers</td><td>Other servicers</td><td>TRUE     </td><td>FALSE       </td></tr>\n",
              "<tr><td style=\"text-align: right;\">           618</td><td style=\"text-align: right;\">              200210</td><td>N                          </td><td style=\"text-align: right;\">         202902</td><td style=\"text-align: right;\">                          10420</td><td style=\"text-align: right;\">                             25</td><td style=\"text-align: right;\">                1</td><td>O                 </td><td style=\"text-align: right;\">                               85</td><td style=\"text-align: right;\">                             24</td><td style=\"text-align: right;\">        122000</td><td style=\"text-align: right;\">                      85</td><td style=\"text-align: right;\">                   6.375</td><td>R        </td><td>N                                 </td><td>FRM           </td><td>OH              </td><td>SF             </td><td style=\"text-align: right;\">        44200</td><td>F199Q1000015          </td><td>N             </td><td style=\"text-align: right;\">                 317</td><td style=\"text-align: right;\">                    2</td><td>Other sellers</td><td>Other servicers</td><td>TRUE     </td><td>FALSE       </td></tr>\n",
              "<tr><td style=\"text-align: right;\">           738</td><td style=\"text-align: right;\">              200211</td><td>N                          </td><td style=\"text-align: right;\">         202903</td><td style=\"text-align: right;\">                          10420</td><td style=\"text-align: right;\">                              0</td><td style=\"text-align: right;\">                1</td><td>O                 </td><td style=\"text-align: right;\">                               73</td><td style=\"text-align: right;\">                             44</td><td style=\"text-align: right;\">        218000</td><td style=\"text-align: right;\">                      73</td><td style=\"text-align: right;\">                   6    </td><td>R        </td><td>N                                 </td><td>FRM           </td><td>OH              </td><td>SF             </td><td style=\"text-align: right;\">        44300</td><td>F199Q1000016          </td><td>P             </td><td style=\"text-align: right;\">                 317</td><td style=\"text-align: right;\">                    2</td><td>Other sellers</td><td>Other servicers</td><td>TRUE     </td><td>FALSE       </td></tr>\n",
              "<tr><td style=\"text-align: right;\">           761</td><td style=\"text-align: right;\">              200211</td><td>N                          </td><td style=\"text-align: right;\">         202904</td><td style=\"text-align: right;\">                            nan</td><td style=\"text-align: right;\">                              0</td><td style=\"text-align: right;\">                1</td><td>O                 </td><td style=\"text-align: right;\">                               73</td><td style=\"text-align: right;\">                             31</td><td style=\"text-align: right;\">        138000</td><td style=\"text-align: right;\">                      73</td><td style=\"text-align: right;\">                   6.375</td><td>R        </td><td>N                                 </td><td>FRM           </td><td>SC              </td><td>PU             </td><td style=\"text-align: right;\">        29500</td><td>F199Q1000017          </td><td>P             </td><td style=\"text-align: right;\">                 318</td><td style=\"text-align: right;\">                    2</td><td>Other sellers</td><td>Other servicers</td><td>TRUE     </td><td>FALSE       </td></tr>\n",
              "<tr><td style=\"text-align: right;\">           707</td><td style=\"text-align: right;\">              200211</td><td>N                          </td><td style=\"text-align: right;\">         202903</td><td style=\"text-align: right;\">                          33340</td><td style=\"text-align: right;\">                              0</td><td style=\"text-align: right;\">                1</td><td>O                 </td><td style=\"text-align: right;\">                               60</td><td style=\"text-align: right;\">                             57</td><td style=\"text-align: right;\">        136000</td><td style=\"text-align: right;\">                      60</td><td style=\"text-align: right;\">                   6.25 </td><td>R        </td><td>N                                 </td><td>FRM           </td><td>WI              </td><td>SF             </td><td style=\"text-align: right;\">        53000</td><td>F199Q1000018          </td><td>C             </td><td style=\"text-align: right;\">                 317</td><td style=\"text-align: right;\">                    2</td><td>Other sellers</td><td>Other servicers</td><td>TRUE     </td><td>FALSE       </td></tr>\n",
              "<tr><td style=\"text-align: right;\">           760</td><td style=\"text-align: right;\">              200211</td><td>N                          </td><td style=\"text-align: right;\">         202903</td><td style=\"text-align: right;\">                          33340</td><td style=\"text-align: right;\">                              0</td><td style=\"text-align: right;\">                1</td><td>O                 </td><td style=\"text-align: right;\">                               63</td><td style=\"text-align: right;\">                             30</td><td style=\"text-align: right;\">         79000</td><td style=\"text-align: right;\">                      63</td><td style=\"text-align: right;\">                   6.125</td><td>R        </td><td>N                                 </td><td>FRM           </td><td>WI              </td><td>SF             </td><td style=\"text-align: right;\">        53000</td><td>F199Q1000019          </td><td>N             </td><td style=\"text-align: right;\">                 317</td><td style=\"text-align: right;\">                    2</td><td>Other sellers</td><td>Other servicers</td><td>TRUE     </td><td>FALSE       </td></tr>\n",
              "<tr><td style=\"text-align: right;\">           691</td><td style=\"text-align: right;\">              200302</td><td>N                          </td><td style=\"text-align: right;\">         202901</td><td style=\"text-align: right;\">                          15940</td><td style=\"text-align: right;\">                              0</td><td style=\"text-align: right;\">                1</td><td>O                 </td><td style=\"text-align: right;\">                               65</td><td style=\"text-align: right;\">                             25</td><td style=\"text-align: right;\">        130000</td><td style=\"text-align: right;\">                      65</td><td style=\"text-align: right;\">                   5.875</td><td>R        </td><td>N                                 </td><td>FRM           </td><td>OH              </td><td>SF             </td><td style=\"text-align: right;\">        44700</td><td>F199Q1000023          </td><td>P             </td><td style=\"text-align: right;\">                 312</td><td style=\"text-align: right;\">                    2</td><td>Other sellers</td><td>Other servicers</td><td>TRUE     </td><td>FALSE       </td></tr>\n",
              "</tbody>\n",
              "</table>"
            ]
          },
          "metadata": {
            "tags": []
          }
        },
        {
          "output_type": "execute_result",
          "data": {
            "text/plain": [
              ""
            ]
          },
          "metadata": {
            "tags": []
          },
          "execution_count": 6
        }
      ]
    },
    {
      "cell_type": "code",
      "metadata": {
        "colab": {
          "base_uri": "https://localhost:8080/",
          "height": 446
        },
        "id": "o8jOQxvPAepT",
        "outputId": "94906033-09ec-48a5-f1d6-4ab00f3a9592"
      },
      "source": [
        "# Some descriptive analytics values\n",
        "loan_level[\"ORIGINAL_INTEREST_RATE\"].describe()"
      ],
      "execution_count": 7,
      "outputs": [
        {
          "output_type": "stream",
          "text": [
            "Rows:500137\n",
            "Cols:1\n",
            "\n",
            "\n"
          ],
          "name": "stdout"
        },
        {
          "output_type": "display_data",
          "data": {
            "text/html": [
              "<table>\n",
              "<thead>\n",
              "<tr><th>       </th><th>ORIGINAL_INTEREST_RATE  </th></tr>\n",
              "</thead>\n",
              "<tbody>\n",
              "<tr><td>type   </td><td>real                    </td></tr>\n",
              "<tr><td>mins   </td><td>4.625                   </td></tr>\n",
              "<tr><td>mean   </td><td>7.182686863799322       </td></tr>\n",
              "<tr><td>maxs   </td><td>11.5                    </td></tr>\n",
              "<tr><td>sigma  </td><td>0.5799408623980744      </td></tr>\n",
              "<tr><td>zeros  </td><td>0                       </td></tr>\n",
              "<tr><td>missing</td><td>0                       </td></tr>\n",
              "<tr><td>0      </td><td>7.12                    </td></tr>\n",
              "<tr><td>1      </td><td>6.5                     </td></tr>\n",
              "<tr><td>2      </td><td>6.75                    </td></tr>\n",
              "<tr><td>3      </td><td>6.625                   </td></tr>\n",
              "<tr><td>4      </td><td>6.375                   </td></tr>\n",
              "<tr><td>5      </td><td>6.0                     </td></tr>\n",
              "<tr><td>6      </td><td>6.375                   </td></tr>\n",
              "<tr><td>7      </td><td>6.25                    </td></tr>\n",
              "<tr><td>8      </td><td>6.125                   </td></tr>\n",
              "<tr><td>9      </td><td>5.875                   </td></tr>\n",
              "</tbody>\n",
              "</table>"
            ]
          },
          "metadata": {
            "tags": []
          }
        }
      ]
    },
    {
      "cell_type": "code",
      "metadata": {
        "colab": {
          "base_uri": "https://localhost:8080/",
          "height": 296
        },
        "id": "_07UWO4NAewd",
        "outputId": "b53d5a1f-2d8f-4b00-ebb6-01f4575849c0"
      },
      "source": [
        "loan_level[\"ORIGINAL_INTEREST_RATE\"].hist()"
      ],
      "execution_count": 8,
      "outputs": [
        {
          "output_type": "display_data",
          "data": {
            "image/png": "[encoded data removed]",
            "text/plain": [
              "<Figure size 432x288 with 1 Axes>"
            ]
          },
          "metadata": {
            "tags": [],
            "needs_background": "light"
          }
        }
      ]
    },
    {
      "cell_type": "code",
      "metadata": {
        "colab": {
          "base_uri": "https://localhost:8080/"
        },
        "id": "xM1Q8BKHAe2a",
        "outputId": "45a5e4d5-9f90-4ce0-8556-3b1b6f53ee16"
      },
      "source": [
        "# Spliting data into Training, validation and test.\n",
        "train, valid, test = loan_level.split_frame([0.70, 0.15], seed = 42)\n",
        "print(\"train:%d valid:%d test:%d\" % (train.nrows, valid.nrows, test.nrows))"
      ],
      "execution_count": 9,
      "outputs": [
        {
          "output_type": "stream",
          "text": [
            "train:350268 valid:74971 test:74898\n"
          ],
          "name": "stdout"
        }
      ]
    },
    {
      "cell_type": "code",
      "metadata": {
        "id": "coo7LOiJAe_h"
      },
      "source": [
        "# Choose your y variable response, and the x variable or predictor\n",
        "y = \"ORIGINAL_INTEREST_RATE\"\n",
        "\n",
        "ignore = [\"ORIGINAL_INTEREST_RATE\", \n",
        "          \"FIRST_PAYMENT_DATE\", \n",
        "          \"MATURITY_DATE\", \n",
        "          \"MORTGAGE_INSURANCE_PERCENTAGE\", \n",
        "          \"PREPAYMENT_PENALTY_MORTGAGE_FLAG\", \n",
        "          \"LOAN_SEQUENCE_NUMBER\", \n",
        "          \"PREPAID\", \n",
        "          \"DELINQUENT\", \n",
        "          \"PRODUCT_TYPE\"] \n",
        "\n",
        "x = list(set(train.names) - set(ignore))"
      ],
      "execution_count": 10,
      "outputs": []
    },
    {
      "cell_type": "markdown",
      "metadata": {
        "id": "PV7f2HNfCFNF"
      },
      "source": [
        "### Task 4: Build an XGBoost Model"
      ]
    },
    {
      "cell_type": "code",
      "metadata": {
        "colab": {
          "base_uri": "https://localhost:8080/"
        },
        "id": "buMcOGL-CB_8",
        "outputId": "a52c1e7f-e43d-462e-d8df-12ca63f55c03"
      },
      "source": [
        "# Build and train the model\n",
        "xgb = H2OXGBoostEstimator(seed = 42, \n",
        "                          model_id = 'XGBoost', \n",
        "                          nfolds = 0, \n",
        "                          keep_cross_validation_predictions = False)\n",
        "\n",
        "%time xgb.train(x = x, y = y, training_frame = train, validation_frame = valid)"
      ],
      "execution_count": 11,
      "outputs": [
        {
          "output_type": "stream",
          "text": [
            "xgboost Model Build progress: |███████████████████████████████████████████| 100%\n",
            "CPU times: user 660 ms, sys: 59.9 ms, total: 720 ms\n",
            "Wall time: 31.4 s\n"
          ],
          "name": "stdout"
        }
      ]
    },
    {
      "cell_type": "code",
      "metadata": {
        "colab": {
          "base_uri": "https://localhost:8080/",
          "height": 1000
        },
        "id": "07rWQhi8DDLY",
        "outputId": "a4bb7b2b-5524-4174-99bb-0c6463100e38"
      },
      "source": [
        "xgb"
      ],
      "execution_count": 12,
      "outputs": [
        {
          "output_type": "stream",
          "text": [
            "Model Details\n",
            "=============\n",
            "H2OXGBoostEstimator :  XGBoost\n",
            "Model Key:  XGBoost\n",
            "\n",
            "\n",
            "Model Summary: \n"
          ],
          "name": "stdout"
        },
        {
          "output_type": "display_data",
          "data": {
            "text/html": [
              "<div>\n",
              "<style scoped>\n",
              "    .dataframe tbody tr th:only-of-type {\n",
              "        vertical-align: middle;\n",
              "    }\n",
              "\n",
              "    .dataframe tbody tr th {\n",
              "        vertical-align: top;\n",
              "    }\n",
              "\n",
              "    .dataframe thead th {\n",
              "        text-align: right;\n",
              "    }\n",
              "</style>\n",
              "<table border=\"1\" class=\"dataframe\">\n",
              "  <thead>\n",
              "    <tr style=\"text-align: right;\">\n",
              "      <th></th>\n",
              "      <th></th>\n",
              "      <th>number_of_trees</th>\n",
              "    </tr>\n",
              "  </thead>\n",
              "  <tbody>\n",
              "    <tr>\n",
              "      <th>0</th>\n",
              "      <td></td>\n",
              "      <td>50.0</td>\n",
              "    </tr>\n",
              "  </tbody>\n",
              "</table>\n",
              "</div>"
            ],
            "text/plain": [
              "     number_of_trees\n",
              "0               50.0"
            ]
          },
          "metadata": {
            "tags": []
          }
        },
        {
          "output_type": "stream",
          "text": [
            "\n",
            "\n",
            "ModelMetricsRegression: xgboost\n",
            "** Reported on train data. **\n",
            "\n",
            "MSE: 0.17744636323081306\n",
            "RMSE: 0.4212438287154045\n",
            "MAE: 0.30712844420662655\n",
            "RMSLE: 0.04987056256391179\n",
            "Mean Residual Deviance: 0.17744636323081306\n",
            "\n",
            "ModelMetricsRegression: xgboost\n",
            "** Reported on validation data. **\n",
            "\n",
            "MSE: 0.18013989282125126\n",
            "RMSE: 0.4244289019626859\n",
            "MAE: 0.3108204587914598\n",
            "RMSLE: 0.0503052982338251\n",
            "Mean Residual Deviance: 0.18013989282125126\n",
            "\n",
            "Scoring History: \n"
          ],
          "name": "stdout"
        },
        {
          "output_type": "display_data",
          "data": {
            "text/html": [
              "<div>\n",
              "<style scoped>\n",
              "    .dataframe tbody tr th:only-of-type {\n",
              "        vertical-align: middle;\n",
              "    }\n",
              "\n",
              "    .dataframe tbody tr th {\n",
              "        vertical-align: top;\n",
              "    }\n",
              "\n",
              "    .dataframe thead th {\n",
              "        text-align: right;\n",
              "    }\n",
              "</style>\n",
              "<table border=\"1\" class=\"dataframe\">\n",
              "  <thead>\n",
              "    <tr style=\"text-align: right;\">\n",
              "      <th></th>\n",
              "      <th></th>\n",
              "      <th>timestamp</th>\n",
              "      <th>duration</th>\n",
              "      <th>number_of_trees</th>\n",
              "      <th>training_rmse</th>\n",
              "      <th>training_mae</th>\n",
              "      <th>training_deviance</th>\n",
              "      <th>validation_rmse</th>\n",
              "      <th>validation_mae</th>\n",
              "      <th>validation_deviance</th>\n",
              "    </tr>\n",
              "  </thead>\n",
              "  <tbody>\n",
              "    <tr>\n",
              "      <th>0</th>\n",
              "      <td></td>\n",
              "      <td>2021-04-30 16:57:36</td>\n",
              "      <td>0.206 sec</td>\n",
              "      <td>0.0</td>\n",
              "      <td>6.708863</td>\n",
              "      <td>6.683679</td>\n",
              "      <td>45.008844</td>\n",
              "      <td>6.704750</td>\n",
              "      <td>6.679805</td>\n",
              "      <td>44.953673</td>\n",
              "    </tr>\n",
              "    <tr>\n",
              "      <th>1</th>\n",
              "      <td></td>\n",
              "      <td>2021-04-30 16:57:38</td>\n",
              "      <td>2.569 sec</td>\n",
              "      <td>1.0</td>\n",
              "      <td>4.710473</td>\n",
              "      <td>4.678698</td>\n",
              "      <td>22.188559</td>\n",
              "      <td>4.707354</td>\n",
              "      <td>4.675791</td>\n",
              "      <td>22.159185</td>\n",
              "    </tr>\n",
              "    <tr>\n",
              "      <th>2</th>\n",
              "      <td></td>\n",
              "      <td>2021-04-30 16:57:39</td>\n",
              "      <td>3.289 sec</td>\n",
              "      <td>2.0</td>\n",
              "      <td>3.316827</td>\n",
              "      <td>3.275220</td>\n",
              "      <td>11.001343</td>\n",
              "      <td>3.313931</td>\n",
              "      <td>3.272599</td>\n",
              "      <td>10.982141</td>\n",
              "    </tr>\n",
              "    <tr>\n",
              "      <th>3</th>\n",
              "      <td></td>\n",
              "      <td>2021-04-30 16:57:39</td>\n",
              "      <td>3.986 sec</td>\n",
              "      <td>3.0</td>\n",
              "      <td>2.348813</td>\n",
              "      <td>2.292739</td>\n",
              "      <td>5.516923</td>\n",
              "      <td>2.346267</td>\n",
              "      <td>2.290480</td>\n",
              "      <td>5.504970</td>\n",
              "    </tr>\n",
              "    <tr>\n",
              "      <th>4</th>\n",
              "      <td></td>\n",
              "      <td>2021-04-30 16:57:40</td>\n",
              "      <td>4.681 sec</td>\n",
              "      <td>4.0</td>\n",
              "      <td>1.681035</td>\n",
              "      <td>1.605171</td>\n",
              "      <td>2.825880</td>\n",
              "      <td>1.678602</td>\n",
              "      <td>1.603109</td>\n",
              "      <td>2.817706</td>\n",
              "    </tr>\n",
              "    <tr>\n",
              "      <th>5</th>\n",
              "      <td></td>\n",
              "      <td>2021-04-30 16:57:44</td>\n",
              "      <td>8.788 sec</td>\n",
              "      <td>12.0</td>\n",
              "      <td>0.467832</td>\n",
              "      <td>0.329612</td>\n",
              "      <td>0.218867</td>\n",
              "      <td>0.467097</td>\n",
              "      <td>0.330447</td>\n",
              "      <td>0.218179</td>\n",
              "    </tr>\n",
              "    <tr>\n",
              "      <th>6</th>\n",
              "      <td></td>\n",
              "      <td>2021-04-30 16:57:48</td>\n",
              "      <td>12.988 sec</td>\n",
              "      <td>20.0</td>\n",
              "      <td>0.442830</td>\n",
              "      <td>0.324432</td>\n",
              "      <td>0.196099</td>\n",
              "      <td>0.442941</td>\n",
              "      <td>0.325974</td>\n",
              "      <td>0.196197</td>\n",
              "    </tr>\n",
              "    <tr>\n",
              "      <th>7</th>\n",
              "      <td></td>\n",
              "      <td>2021-04-30 16:57:54</td>\n",
              "      <td>18.374 sec</td>\n",
              "      <td>30.0</td>\n",
              "      <td>0.433406</td>\n",
              "      <td>0.316909</td>\n",
              "      <td>0.187840</td>\n",
              "      <td>0.434432</td>\n",
              "      <td>0.319212</td>\n",
              "      <td>0.188731</td>\n",
              "    </tr>\n",
              "    <tr>\n",
              "      <th>8</th>\n",
              "      <td></td>\n",
              "      <td>2021-04-30 16:58:01</td>\n",
              "      <td>25.367 sec</td>\n",
              "      <td>43.0</td>\n",
              "      <td>0.425616</td>\n",
              "      <td>0.310474</td>\n",
              "      <td>0.181149</td>\n",
              "      <td>0.427974</td>\n",
              "      <td>0.313689</td>\n",
              "      <td>0.183162</td>\n",
              "    </tr>\n",
              "    <tr>\n",
              "      <th>9</th>\n",
              "      <td></td>\n",
              "      <td>2021-04-30 16:58:05</td>\n",
              "      <td>29.796 sec</td>\n",
              "      <td>50.0</td>\n",
              "      <td>0.421244</td>\n",
              "      <td>0.307128</td>\n",
              "      <td>0.177446</td>\n",
              "      <td>0.424429</td>\n",
              "      <td>0.310820</td>\n",
              "      <td>0.180140</td>\n",
              "    </tr>\n",
              "  </tbody>\n",
              "</table>\n",
              "</div>"
            ],
            "text/plain": [
              "               timestamp  ... validation_mae  validation_deviance\n",
              "0    2021-04-30 16:57:36  ...       6.679805            44.953673\n",
              "1    2021-04-30 16:57:38  ...       4.675791            22.159185\n",
              "2    2021-04-30 16:57:39  ...       3.272599            10.982141\n",
              "3    2021-04-30 16:57:39  ...       2.290480             5.504970\n",
              "4    2021-04-30 16:57:40  ...       1.603109             2.817706\n",
              "5    2021-04-30 16:57:44  ...       0.330447             0.218179\n",
              "6    2021-04-30 16:57:48  ...       0.325974             0.196197\n",
              "7    2021-04-30 16:57:54  ...       0.319212             0.188731\n",
              "8    2021-04-30 16:58:01  ...       0.313689             0.183162\n",
              "9    2021-04-30 16:58:05  ...       0.310820             0.180140\n",
              "\n",
              "[10 rows x 10 columns]"
            ]
          },
          "metadata": {
            "tags": []
          }
        },
        {
          "output_type": "stream",
          "text": [
            "\n",
            "Variable Importances: \n"
          ],
          "name": "stdout"
        },
        {
          "output_type": "display_data",
          "data": {
            "text/html": [
              "<div>\n",
              "<style scoped>\n",
              "    .dataframe tbody tr th:only-of-type {\n",
              "        vertical-align: middle;\n",
              "    }\n",
              "\n",
              "    .dataframe tbody tr th {\n",
              "        vertical-align: top;\n",
              "    }\n",
              "\n",
              "    .dataframe thead th {\n",
              "        text-align: right;\n",
              "    }\n",
              "</style>\n",
              "<table border=\"1\" class=\"dataframe\">\n",
              "  <thead>\n",
              "    <tr style=\"text-align: right;\">\n",
              "      <th></th>\n",
              "      <th>variable</th>\n",
              "      <th>relative_importance</th>\n",
              "      <th>scaled_importance</th>\n",
              "      <th>percentage</th>\n",
              "    </tr>\n",
              "  </thead>\n",
              "  <tbody>\n",
              "    <tr>\n",
              "      <th>0</th>\n",
              "      <td>SELLER_NAME.NORWESTMORTGAGE,INC</td>\n",
              "      <td>25657.996094</td>\n",
              "      <td>1.000000</td>\n",
              "      <td>0.239125</td>\n",
              "    </tr>\n",
              "    <tr>\n",
              "      <th>1</th>\n",
              "      <td>OCCUPANCY_STATUS.I</td>\n",
              "      <td>7086.139160</td>\n",
              "      <td>0.276177</td>\n",
              "      <td>0.066041</td>\n",
              "    </tr>\n",
              "    <tr>\n",
              "      <th>2</th>\n",
              "      <td>ORIGINAL_UPB</td>\n",
              "      <td>6440.511230</td>\n",
              "      <td>0.251014</td>\n",
              "      <td>0.060024</td>\n",
              "    </tr>\n",
              "    <tr>\n",
              "      <th>3</th>\n",
              "      <td>ORIGINAL_LOAN_TO_VALUE</td>\n",
              "      <td>5813.790527</td>\n",
              "      <td>0.226588</td>\n",
              "      <td>0.054183</td>\n",
              "    </tr>\n",
              "    <tr>\n",
              "      <th>4</th>\n",
              "      <td>LOAN_PURPOSE.P</td>\n",
              "      <td>4025.863281</td>\n",
              "      <td>0.156905</td>\n",
              "      <td>0.037520</td>\n",
              "    </tr>\n",
              "    <tr>\n",
              "      <th>5</th>\n",
              "      <td>CREDIT_SCORE</td>\n",
              "      <td>3827.817139</td>\n",
              "      <td>0.149186</td>\n",
              "      <td>0.035674</td>\n",
              "    </tr>\n",
              "    <tr>\n",
              "      <th>6</th>\n",
              "      <td>SERVICER_NAME.ABNAMROMTGEGROUP,INC</td>\n",
              "      <td>3514.124512</td>\n",
              "      <td>0.136960</td>\n",
              "      <td>0.032751</td>\n",
              "    </tr>\n",
              "    <tr>\n",
              "      <th>7</th>\n",
              "      <td>SELLER_NAME.COUNTRYWIDE</td>\n",
              "      <td>3313.306641</td>\n",
              "      <td>0.129133</td>\n",
              "      <td>0.030879</td>\n",
              "    </tr>\n",
              "    <tr>\n",
              "      <th>8</th>\n",
              "      <td>SELLER_NAME.NATLCITYMTGECO</td>\n",
              "      <td>3025.856445</td>\n",
              "      <td>0.117930</td>\n",
              "      <td>0.028200</td>\n",
              "    </tr>\n",
              "    <tr>\n",
              "      <th>9</th>\n",
              "      <td>SELLER_NAME.CROSSLANDMTGECORP</td>\n",
              "      <td>2976.497314</td>\n",
              "      <td>0.116007</td>\n",
              "      <td>0.027740</td>\n",
              "    </tr>\n",
              "    <tr>\n",
              "      <th>10</th>\n",
              "      <td>SELLER_NAME.BANKOFAMERICA,NA</td>\n",
              "      <td>2608.802002</td>\n",
              "      <td>0.101676</td>\n",
              "      <td>0.024313</td>\n",
              "    </tr>\n",
              "    <tr>\n",
              "      <th>11</th>\n",
              "      <td>SELLER_NAME.PNCMTGECORPOFAMERICA</td>\n",
              "      <td>2406.065674</td>\n",
              "      <td>0.093774</td>\n",
              "      <td>0.022424</td>\n",
              "    </tr>\n",
              "    <tr>\n",
              "      <th>12</th>\n",
              "      <td>SELLER_NAME.STANDARD FEDERAL BAN</td>\n",
              "      <td>2217.734375</td>\n",
              "      <td>0.086434</td>\n",
              "      <td>0.020669</td>\n",
              "    </tr>\n",
              "    <tr>\n",
              "      <th>13</th>\n",
              "      <td>SELLER_NAME.FIRSTHORIZONHOMELOAN</td>\n",
              "      <td>1916.515381</td>\n",
              "      <td>0.074695</td>\n",
              "      <td>0.017861</td>\n",
              "    </tr>\n",
              "    <tr>\n",
              "      <th>14</th>\n",
              "      <td>POSTAL_CODE</td>\n",
              "      <td>1817.836792</td>\n",
              "      <td>0.070849</td>\n",
              "      <td>0.016942</td>\n",
              "    </tr>\n",
              "    <tr>\n",
              "      <th>15</th>\n",
              "      <td>ORIGINAL_DEBT_TO_INCOME_RATIO</td>\n",
              "      <td>1558.810547</td>\n",
              "      <td>0.060753</td>\n",
              "      <td>0.014528</td>\n",
              "    </tr>\n",
              "    <tr>\n",
              "      <th>16</th>\n",
              "      <td>SELLER_NAME.ABNAMROMTGEGROUP,INC</td>\n",
              "      <td>1336.864746</td>\n",
              "      <td>0.052103</td>\n",
              "      <td>0.012459</td>\n",
              "    </tr>\n",
              "    <tr>\n",
              "      <th>17</th>\n",
              "      <td>SERVICER_NAME.Other servicers</td>\n",
              "      <td>1252.610229</td>\n",
              "      <td>0.048819</td>\n",
              "      <td>0.011674</td>\n",
              "    </tr>\n",
              "    <tr>\n",
              "      <th>18</th>\n",
              "      <td>SERVICER_NAME.FIRSTNATIONWIDEMTGEC</td>\n",
              "      <td>1207.970825</td>\n",
              "      <td>0.047080</td>\n",
              "      <td>0.011258</td>\n",
              "    </tr>\n",
              "    <tr>\n",
              "      <th>19</th>\n",
              "      <td>SELLER_NAME.Other sellers</td>\n",
              "      <td>1175.286499</td>\n",
              "      <td>0.045806</td>\n",
              "      <td>0.010953</td>\n",
              "    </tr>\n",
              "  </tbody>\n",
              "</table>\n",
              "</div>"
            ],
            "text/plain": [
              "                              variable  ...  percentage\n",
              "0      SELLER_NAME.NORWESTMORTGAGE,INC  ...    0.239125\n",
              "1                   OCCUPANCY_STATUS.I  ...    0.066041\n",
              "2                         ORIGINAL_UPB  ...    0.060024\n",
              "3               ORIGINAL_LOAN_TO_VALUE  ...    0.054183\n",
              "4                       LOAN_PURPOSE.P  ...    0.037520\n",
              "5                         CREDIT_SCORE  ...    0.035674\n",
              "6   SERVICER_NAME.ABNAMROMTGEGROUP,INC  ...    0.032751\n",
              "7              SELLER_NAME.COUNTRYWIDE  ...    0.030879\n",
              "8           SELLER_NAME.NATLCITYMTGECO  ...    0.028200\n",
              "9        SELLER_NAME.CROSSLANDMTGECORP  ...    0.027740\n",
              "10        SELLER_NAME.BANKOFAMERICA,NA  ...    0.024313\n",
              "11    SELLER_NAME.PNCMTGECORPOFAMERICA  ...    0.022424\n",
              "12    SELLER_NAME.STANDARD FEDERAL BAN  ...    0.020669\n",
              "13    SELLER_NAME.FIRSTHORIZONHOMELOAN  ...    0.017861\n",
              "14                         POSTAL_CODE  ...    0.016942\n",
              "15       ORIGINAL_DEBT_TO_INCOME_RATIO  ...    0.014528\n",
              "16    SELLER_NAME.ABNAMROMTGEGROUP,INC  ...    0.012459\n",
              "17       SERVICER_NAME.Other servicers  ...    0.011674\n",
              "18  SERVICER_NAME.FIRSTNATIONWIDEMTGEC  ...    0.011258\n",
              "19           SELLER_NAME.Other sellers  ...    0.010953\n",
              "\n",
              "[20 rows x 4 columns]"
            ]
          },
          "metadata": {
            "tags": []
          }
        },
        {
          "output_type": "stream",
          "text": [
            "\n",
            "See the whole table with table.as_data_frame()\n"
          ],
          "name": "stdout"
        },
        {
          "output_type": "execute_result",
          "data": {
            "text/plain": [
              ""
            ]
          },
          "metadata": {
            "tags": []
          },
          "execution_count": 12
        }
      ]
    },
    {
      "cell_type": "code",
      "metadata": {
        "colab": {
          "base_uri": "https://localhost:8080/",
          "height": 296
        },
        "id": "h4aAleS-DOLb",
        "outputId": "60de1933-f513-429c-a129-1f6876337f15"
      },
      "source": [
        "# plot the scoring history.\n",
        "xgb.plot()"
      ],
      "execution_count": 13,
      "outputs": [
        {
          "output_type": "display_data",
          "data": {
            "image/png": "[encoded data removed]",
            "text/plain": [
              "<Figure size 432x288 with 1 Axes>"
            ]
          },
          "metadata": {
            "tags": [],
            "needs_background": "light"
          }
        }
      ]
    },
    {
      "cell_type": "code",
      "metadata": {
        "colab": {
          "base_uri": "https://localhost:8080/",
          "height": 612
        },
        "id": "BrIsfZpeDuvP",
        "outputId": "6c4bb183-09c2-4222-e860-40d201b24c3d"
      },
      "source": [
        "# variable importance plot.\n",
        "xgb.varimp_plot()"
      ],
      "execution_count": 14,
      "outputs": [
        {
          "output_type": "display_data",
          "data": {
            "image/png": "[encoded data removed]",
            "text/plain": [
              "<Figure size 1008x720 with 1 Axes>"
            ]
          },
          "metadata": {
            "tags": [],
            "needs_background": "light"
          }
        }
      ]
    },
    {
      "cell_type": "code",
      "metadata": {
        "colab": {
          "base_uri": "https://localhost:8080/",
          "height": 255
        },
        "id": "tur-VQM6D7NV",
        "outputId": "3d9bf77a-9289-46ef-e662-89f32dffeb30"
      },
      "source": [
        "# Some predictions on the validation set.\n",
        "xgb_def_pred = xgb.predict(valid)\n",
        "xgb_def_pred.cbind(valid['ORIGINAL_INTEREST_RATE'])"
      ],
      "execution_count": 15,
      "outputs": [
        {
          "output_type": "stream",
          "text": [
            "xgboost prediction progress: |████████████████████████████████████████████| 100%\n"
          ],
          "name": "stdout"
        },
        {
          "output_type": "display_data",
          "data": {
            "text/html": [
              "<table>\n",
              "<thead>\n",
              "<tr><th style=\"text-align: right;\">  predict</th><th style=\"text-align: right;\">  ORIGINAL_INTEREST_RATE</th></tr>\n",
              "</thead>\n",
              "<tbody>\n",
              "<tr><td style=\"text-align: right;\">  7.20097</td><td style=\"text-align: right;\">                   5.875</td></tr>\n",
              "<tr><td style=\"text-align: right;\">  6.87724</td><td style=\"text-align: right;\">                   6.75 </td></tr>\n",
              "<tr><td style=\"text-align: right;\">  7.0235 </td><td style=\"text-align: right;\">                   7.75 </td></tr>\n",
              "<tr><td style=\"text-align: right;\">  7.25526</td><td style=\"text-align: right;\">                   6.625</td></tr>\n",
              "<tr><td style=\"text-align: right;\">  7.02648</td><td style=\"text-align: right;\">                   6.75 </td></tr>\n",
              "<tr><td style=\"text-align: right;\">  7.38137</td><td style=\"text-align: right;\">                   7    </td></tr>\n",
              "<tr><td style=\"text-align: right;\">  6.8168 </td><td style=\"text-align: right;\">                   7    </td></tr>\n",
              "<tr><td style=\"text-align: right;\">  7.40214</td><td style=\"text-align: right;\">                   7    </td></tr>\n",
              "<tr><td style=\"text-align: right;\">  7.06643</td><td style=\"text-align: right;\">                   7.25 </td></tr>\n",
              "<tr><td style=\"text-align: right;\">  7.00728</td><td style=\"text-align: right;\">                   7    </td></tr>\n",
              "</tbody>\n",
              "</table>"
            ]
          },
          "metadata": {
            "tags": []
          }
        },
        {
          "output_type": "execute_result",
          "data": {
            "text/plain": [
              ""
            ]
          },
          "metadata": {
            "tags": []
          },
          "execution_count": 15
        }
      ]
    },
    {
      "cell_type": "code",
      "metadata": {
        "id": "JtDPU1OAEDQ_"
      },
      "source": [
        "# Save model performance.\n",
        "default_xgb_per = xgb.model_performance(valid)"
      ],
      "execution_count": 16,
      "outputs": []
    },
    {
      "cell_type": "markdown",
      "metadata": {
        "id": "QlHM1EOWue5h"
      },
      "source": [
        "### Task 5: Build a Deep Learning Model"
      ]
    },
    {
      "cell_type": "markdown",
      "metadata": {
        "id": "m-GS40w4uw5Z"
      },
      "source": [
        "Deep learning models are not reproducible, meaning they won't yield the same result every time you run the same experiment."
      ]
    },
    {
      "cell_type": "code",
      "metadata": {
        "colab": {
          "base_uri": "https://localhost:8080/"
        },
        "id": "4v73FreGukBf",
        "outputId": "934b85b8-541f-4359-82f1-60102d9b301e"
      },
      "source": [
        "#  Model deffinition and training\n",
        "dl = H2ODeepLearningEstimator(seed = 42,\n",
        "                              model_id = 'DL',\n",
        "                              nfolds = 0,\n",
        "                              keep_cross_validation_predictions = False)\n",
        "\n",
        "% time dl.train(x = x, y = y, training_frame = train, validation_frame = valid)"
      ],
      "execution_count": 17,
      "outputs": [
        {
          "output_type": "stream",
          "text": [
            "deeplearning Model Build progress: |██████████████████████████████████████| 100%\n",
            "CPU times: user 3.94 s, sys: 376 ms, total: 4.31 s\n",
            "Wall time: 7min\n"
          ],
          "name": "stdout"
        }
      ]
    },
    {
      "cell_type": "code",
      "metadata": {
        "colab": {
          "base_uri": "https://localhost:8080/",
          "height": 1000
        },
        "id": "id5hnF7Zvpmw",
        "outputId": "0bfa5624-a175-4f93-b566-acf41c9674dd"
      },
      "source": [
        "# Summary\n",
        "dl"
      ],
      "execution_count": 18,
      "outputs": [
        {
          "output_type": "stream",
          "text": [
            "Model Details\n",
            "=============\n",
            "H2ODeepLearningEstimator :  Deep Learning\n",
            "Model Key:  DL\n",
            "\n",
            "\n",
            "Status of Neuron Layers: predicting ORIGINAL_INTEREST_RATE, regression, gaussian distribution, Quadratic loss, 73,601 weights/biases, 880.4 KB, 3,503,762 training samples, mini-batch size 1\n"
          ],
          "name": "stdout"
        },
        {
          "output_type": "display_data",
          "data": {
            "text/html": [
              "<div>\n",
              "<style scoped>\n",
              "    .dataframe tbody tr th:only-of-type {\n",
              "        vertical-align: middle;\n",
              "    }\n",
              "\n",
              "    .dataframe tbody tr th {\n",
              "        vertical-align: top;\n",
              "    }\n",
              "\n",
              "    .dataframe thead th {\n",
              "        text-align: right;\n",
              "    }\n",
              "</style>\n",
              "<table border=\"1\" class=\"dataframe\">\n",
              "  <thead>\n",
              "    <tr style=\"text-align: right;\">\n",
              "      <th></th>\n",
              "      <th></th>\n",
              "      <th>layer</th>\n",
              "      <th>units</th>\n",
              "      <th>type</th>\n",
              "      <th>dropout</th>\n",
              "      <th>l1</th>\n",
              "      <th>l2</th>\n",
              "      <th>mean_rate</th>\n",
              "      <th>rate_rms</th>\n",
              "      <th>momentum</th>\n",
              "      <th>mean_weight</th>\n",
              "      <th>weight_rms</th>\n",
              "      <th>mean_bias</th>\n",
              "      <th>bias_rms</th>\n",
              "    </tr>\n",
              "  </thead>\n",
              "  <tbody>\n",
              "    <tr>\n",
              "      <th>0</th>\n",
              "      <td></td>\n",
              "      <td>1</td>\n",
              "      <td>165</td>\n",
              "      <td>Input</td>\n",
              "      <td>0</td>\n",
              "      <td></td>\n",
              "      <td></td>\n",
              "      <td></td>\n",
              "      <td></td>\n",
              "      <td></td>\n",
              "      <td></td>\n",
              "      <td></td>\n",
              "      <td></td>\n",
              "      <td></td>\n",
              "    </tr>\n",
              "    <tr>\n",
              "      <th>1</th>\n",
              "      <td></td>\n",
              "      <td>2</td>\n",
              "      <td>200</td>\n",
              "      <td>Rectifier</td>\n",
              "      <td>0</td>\n",
              "      <td>0</td>\n",
              "      <td>0</td>\n",
              "      <td>0.0551267</td>\n",
              "      <td>0.213429</td>\n",
              "      <td>0</td>\n",
              "      <td>-0.019914</td>\n",
              "      <td>0.193277</td>\n",
              "      <td>-0.117529</td>\n",
              "      <td>0.278272</td>\n",
              "    </tr>\n",
              "    <tr>\n",
              "      <th>2</th>\n",
              "      <td></td>\n",
              "      <td>3</td>\n",
              "      <td>200</td>\n",
              "      <td>Rectifier</td>\n",
              "      <td>0</td>\n",
              "      <td>0</td>\n",
              "      <td>0</td>\n",
              "      <td>0.0422807</td>\n",
              "      <td>0.0435792</td>\n",
              "      <td>0</td>\n",
              "      <td>-0.0501644</td>\n",
              "      <td>0.141325</td>\n",
              "      <td>-0.254044</td>\n",
              "      <td>0.499207</td>\n",
              "    </tr>\n",
              "    <tr>\n",
              "      <th>3</th>\n",
              "      <td></td>\n",
              "      <td>4</td>\n",
              "      <td>1</td>\n",
              "      <td>Linear</td>\n",
              "      <td></td>\n",
              "      <td>0</td>\n",
              "      <td>0</td>\n",
              "      <td>0.00110027</td>\n",
              "      <td>0.000851988</td>\n",
              "      <td>0</td>\n",
              "      <td>0.00918025</td>\n",
              "      <td>0.0943801</td>\n",
              "      <td>1.40214</td>\n",
              "      <td>1.09713e-154</td>\n",
              "    </tr>\n",
              "  </tbody>\n",
              "</table>\n",
              "</div>"
            ],
            "text/plain": [
              "     layer  units       type  ... mean_weight weight_rms mean_bias      bias_rms\n",
              "0        1    165      Input  ...                                               \n",
              "1        2    200  Rectifier  ...   -0.019914   0.193277 -0.117529      0.278272\n",
              "2        3    200  Rectifier  ...  -0.0501644   0.141325 -0.254044      0.499207\n",
              "3        4      1     Linear  ...  0.00918025  0.0943801   1.40214  1.09713e-154\n",
              "\n",
              "[4 rows x 14 columns]"
            ]
          },
          "metadata": {
            "tags": []
          }
        },
        {
          "output_type": "stream",
          "text": [
            "\n",
            "\n",
            "ModelMetricsRegression: deeplearning\n",
            "** Reported on train data. **\n",
            "\n",
            "MSE: 0.1994304063383255\n",
            "RMSE: 0.44657631636521605\n",
            "MAE: 0.34133846963631276\n",
            "RMSLE: 0.05347288548361901\n",
            "Mean Residual Deviance: 0.1994304063383255\n",
            "\n",
            "ModelMetricsRegression: deeplearning\n",
            "** Reported on validation data. **\n",
            "\n",
            "MSE: 0.20441911789766326\n",
            "RMSE: 0.45212732487393775\n",
            "MAE: 0.34571533691103307\n",
            "RMSLE: 0.054063769387322255\n",
            "Mean Residual Deviance: 0.20441911789766326\n",
            "\n",
            "Scoring History: \n"
          ],
          "name": "stdout"
        },
        {
          "output_type": "display_data",
          "data": {
            "text/html": [
              "<div>\n",
              "<style scoped>\n",
              "    .dataframe tbody tr th:only-of-type {\n",
              "        vertical-align: middle;\n",
              "    }\n",
              "\n",
              "    .dataframe tbody tr th {\n",
              "        vertical-align: top;\n",
              "    }\n",
              "\n",
              "    .dataframe thead th {\n",
              "        text-align: right;\n",
              "    }\n",
              "</style>\n",
              "<table border=\"1\" class=\"dataframe\">\n",
              "  <thead>\n",
              "    <tr style=\"text-align: right;\">\n",
              "      <th></th>\n",
              "      <th></th>\n",
              "      <th>timestamp</th>\n",
              "      <th>duration</th>\n",
              "      <th>training_speed</th>\n",
              "      <th>epochs</th>\n",
              "      <th>iterations</th>\n",
              "      <th>samples</th>\n",
              "      <th>training_rmse</th>\n",
              "      <th>training_deviance</th>\n",
              "      <th>training_mae</th>\n",
              "      <th>training_r2</th>\n",
              "      <th>validation_rmse</th>\n",
              "      <th>validation_deviance</th>\n",
              "      <th>validation_mae</th>\n",
              "      <th>validation_r2</th>\n",
              "    </tr>\n",
              "  </thead>\n",
              "  <tbody>\n",
              "    <tr>\n",
              "      <th>0</th>\n",
              "      <td></td>\n",
              "      <td>2021-04-30 17:06:13</td>\n",
              "      <td>0.000 sec</td>\n",
              "      <td>None</td>\n",
              "      <td>0.000000</td>\n",
              "      <td>0</td>\n",
              "      <td>0.0</td>\n",
              "      <td>NaN</td>\n",
              "      <td>NaN</td>\n",
              "      <td>NaN</td>\n",
              "      <td>NaN</td>\n",
              "      <td>NaN</td>\n",
              "      <td>NaN</td>\n",
              "      <td>NaN</td>\n",
              "      <td>NaN</td>\n",
              "    </tr>\n",
              "    <tr>\n",
              "      <th>1</th>\n",
              "      <td></td>\n",
              "      <td>2021-04-30 17:06:19</td>\n",
              "      <td>14.537 sec</td>\n",
              "      <td>1535 obs/sec</td>\n",
              "      <td>0.026563</td>\n",
              "      <td>1</td>\n",
              "      <td>9304.0</td>\n",
              "      <td>0.542555</td>\n",
              "      <td>0.294366</td>\n",
              "      <td>0.408649</td>\n",
              "      <td>0.104016</td>\n",
              "      <td>0.543801</td>\n",
              "      <td>0.295719</td>\n",
              "      <td>0.409676</td>\n",
              "      <td>0.114307</td>\n",
              "    </tr>\n",
              "    <tr>\n",
              "      <th>2</th>\n",
              "      <td></td>\n",
              "      <td>2021-04-30 17:07:40</td>\n",
              "      <td>1 min 32.262 sec</td>\n",
              "      <td>5990 obs/sec</td>\n",
              "      <td>1.349484</td>\n",
              "      <td>50</td>\n",
              "      <td>472681.0</td>\n",
              "      <td>0.475668</td>\n",
              "      <td>0.226260</td>\n",
              "      <td>0.341072</td>\n",
              "      <td>0.311315</td>\n",
              "      <td>0.474466</td>\n",
              "      <td>0.225118</td>\n",
              "      <td>0.341022</td>\n",
              "      <td>0.325762</td>\n",
              "    </tr>\n",
              "    <tr>\n",
              "      <th>3</th>\n",
              "      <td></td>\n",
              "      <td>2021-04-30 17:08:29</td>\n",
              "      <td>2 min 21.359 sec</td>\n",
              "      <td>7307 obs/sec</td>\n",
              "      <td>2.568505</td>\n",
              "      <td>95</td>\n",
              "      <td>899665.0</td>\n",
              "      <td>0.484704</td>\n",
              "      <td>0.234938</td>\n",
              "      <td>0.346096</td>\n",
              "      <td>0.284902</td>\n",
              "      <td>0.486144</td>\n",
              "      <td>0.236336</td>\n",
              "      <td>0.347446</td>\n",
              "      <td>0.292162</td>\n",
              "    </tr>\n",
              "    <tr>\n",
              "      <th>4</th>\n",
              "      <td></td>\n",
              "      <td>2021-04-30 17:09:18</td>\n",
              "      <td>3 min 10.565 sec</td>\n",
              "      <td>7930 obs/sec</td>\n",
              "      <td>3.784131</td>\n",
              "      <td>140</td>\n",
              "      <td>1325460.0</td>\n",
              "      <td>0.470214</td>\n",
              "      <td>0.221102</td>\n",
              "      <td>0.340018</td>\n",
              "      <td>0.327017</td>\n",
              "      <td>0.471495</td>\n",
              "      <td>0.222307</td>\n",
              "      <td>0.341060</td>\n",
              "      <td>0.334178</td>\n",
              "    </tr>\n",
              "    <tr>\n",
              "      <th>5</th>\n",
              "      <td></td>\n",
              "      <td>2021-04-30 17:10:10</td>\n",
              "      <td>4 min  2.560 sec</td>\n",
              "      <td>8585 obs/sec</td>\n",
              "      <td>5.246003</td>\n",
              "      <td>194</td>\n",
              "      <td>1837507.0</td>\n",
              "      <td>0.475484</td>\n",
              "      <td>0.226085</td>\n",
              "      <td>0.334421</td>\n",
              "      <td>0.311848</td>\n",
              "      <td>0.476897</td>\n",
              "      <td>0.227431</td>\n",
              "      <td>0.336599</td>\n",
              "      <td>0.318834</td>\n",
              "    </tr>\n",
              "    <tr>\n",
              "      <th>6</th>\n",
              "      <td></td>\n",
              "      <td>2021-04-30 17:11:02</td>\n",
              "      <td>4 min 54.521 sec</td>\n",
              "      <td>8895 obs/sec</td>\n",
              "      <td>6.625178</td>\n",
              "      <td>245</td>\n",
              "      <td>2320588.0</td>\n",
              "      <td>0.458787</td>\n",
              "      <td>0.210485</td>\n",
              "      <td>0.332989</td>\n",
              "      <td>0.359330</td>\n",
              "      <td>0.462518</td>\n",
              "      <td>0.213923</td>\n",
              "      <td>0.336567</td>\n",
              "      <td>0.359290</td>\n",
              "    </tr>\n",
              "    <tr>\n",
              "      <th>7</th>\n",
              "      <td></td>\n",
              "      <td>2021-04-30 17:11:54</td>\n",
              "      <td>5 min 46.306 sec</td>\n",
              "      <td>9203 obs/sec</td>\n",
              "      <td>8.082740</td>\n",
              "      <td>299</td>\n",
              "      <td>2831125.0</td>\n",
              "      <td>0.450636</td>\n",
              "      <td>0.203072</td>\n",
              "      <td>0.326830</td>\n",
              "      <td>0.381894</td>\n",
              "      <td>0.453323</td>\n",
              "      <td>0.205501</td>\n",
              "      <td>0.330724</td>\n",
              "      <td>0.384513</td>\n",
              "    </tr>\n",
              "    <tr>\n",
              "      <th>8</th>\n",
              "      <td></td>\n",
              "      <td>2021-04-30 17:12:45</td>\n",
              "      <td>6 min 37.434 sec</td>\n",
              "      <td>9503 obs/sec</td>\n",
              "      <td>9.596563</td>\n",
              "      <td>355</td>\n",
              "      <td>3361369.0</td>\n",
              "      <td>0.446576</td>\n",
              "      <td>0.199430</td>\n",
              "      <td>0.341338</td>\n",
              "      <td>0.392979</td>\n",
              "      <td>0.452127</td>\n",
              "      <td>0.204419</td>\n",
              "      <td>0.345715</td>\n",
              "      <td>0.387755</td>\n",
              "    </tr>\n",
              "    <tr>\n",
              "      <th>9</th>\n",
              "      <td></td>\n",
              "      <td>2021-04-30 17:13:03</td>\n",
              "      <td>6 min 55.174 sec</td>\n",
              "      <td>9560 obs/sec</td>\n",
              "      <td>10.003089</td>\n",
              "      <td>370</td>\n",
              "      <td>3503762.0</td>\n",
              "      <td>0.447066</td>\n",
              "      <td>0.199868</td>\n",
              "      <td>0.318880</td>\n",
              "      <td>0.391646</td>\n",
              "      <td>0.453354</td>\n",
              "      <td>0.205530</td>\n",
              "      <td>0.324114</td>\n",
              "      <td>0.384428</td>\n",
              "    </tr>\n",
              "    <tr>\n",
              "      <th>10</th>\n",
              "      <td></td>\n",
              "      <td>2021-04-30 17:13:08</td>\n",
              "      <td>7 min  0.227 sec</td>\n",
              "      <td>9559 obs/sec</td>\n",
              "      <td>10.003089</td>\n",
              "      <td>370</td>\n",
              "      <td>3503762.0</td>\n",
              "      <td>0.446576</td>\n",
              "      <td>0.199430</td>\n",
              "      <td>0.341338</td>\n",
              "      <td>0.392979</td>\n",
              "      <td>0.452127</td>\n",
              "      <td>0.204419</td>\n",
              "      <td>0.345715</td>\n",
              "      <td>0.387755</td>\n",
              "    </tr>\n",
              "  </tbody>\n",
              "</table>\n",
              "</div>"
            ],
            "text/plain": [
              "                timestamp  ... validation_mae validation_r2\n",
              "0     2021-04-30 17:06:13  ...            NaN           NaN\n",
              "1     2021-04-30 17:06:19  ...       0.409676      0.114307\n",
              "2     2021-04-30 17:07:40  ...       0.341022      0.325762\n",
              "3     2021-04-30 17:08:29  ...       0.347446      0.292162\n",
              "4     2021-04-30 17:09:18  ...       0.341060      0.334178\n",
              "5     2021-04-30 17:10:10  ...       0.336599      0.318834\n",
              "6     2021-04-30 17:11:02  ...       0.336567      0.359290\n",
              "7     2021-04-30 17:11:54  ...       0.330724      0.384513\n",
              "8     2021-04-30 17:12:45  ...       0.345715      0.387755\n",
              "9     2021-04-30 17:13:03  ...       0.324114      0.384428\n",
              "10    2021-04-30 17:13:08  ...       0.345715      0.387755\n",
              "\n",
              "[11 rows x 15 columns]"
            ]
          },
          "metadata": {
            "tags": []
          }
        },
        {
          "output_type": "stream",
          "text": [
            "\n",
            "Variable Importances: \n"
          ],
          "name": "stdout"
        },
        {
          "output_type": "display_data",
          "data": {
            "text/html": [
              "<div>\n",
              "<style scoped>\n",
              "    .dataframe tbody tr th:only-of-type {\n",
              "        vertical-align: middle;\n",
              "    }\n",
              "\n",
              "    .dataframe tbody tr th {\n",
              "        vertical-align: top;\n",
              "    }\n",
              "\n",
              "    .dataframe thead th {\n",
              "        text-align: right;\n",
              "    }\n",
              "</style>\n",
              "<table border=\"1\" class=\"dataframe\">\n",
              "  <thead>\n",
              "    <tr style=\"text-align: right;\">\n",
              "      <th></th>\n",
              "      <th>variable</th>\n",
              "      <th>relative_importance</th>\n",
              "      <th>scaled_importance</th>\n",
              "      <th>percentage</th>\n",
              "    </tr>\n",
              "  </thead>\n",
              "  <tbody>\n",
              "    <tr>\n",
              "      <th>0</th>\n",
              "      <td>SELLER_NAME.WELLSFARGOHOMEMORTGA</td>\n",
              "      <td>1.000000</td>\n",
              "      <td>1.000000</td>\n",
              "      <td>0.013692</td>\n",
              "    </tr>\n",
              "    <tr>\n",
              "      <th>1</th>\n",
              "      <td>SELLER_NAME.NORWESTMORTGAGE,INC</td>\n",
              "      <td>0.867893</td>\n",
              "      <td>0.867893</td>\n",
              "      <td>0.011883</td>\n",
              "    </tr>\n",
              "    <tr>\n",
              "      <th>2</th>\n",
              "      <td>SELLER_NAME.ABNAMROMTGEGROUP,INC</td>\n",
              "      <td>0.857013</td>\n",
              "      <td>0.857013</td>\n",
              "      <td>0.011734</td>\n",
              "    </tr>\n",
              "    <tr>\n",
              "      <th>3</th>\n",
              "      <td>SELLER_NAME.Other sellers</td>\n",
              "      <td>0.813842</td>\n",
              "      <td>0.813842</td>\n",
              "      <td>0.011143</td>\n",
              "    </tr>\n",
              "    <tr>\n",
              "      <th>4</th>\n",
              "      <td>SELLER_NAME.CROSSLANDMTGECORP</td>\n",
              "      <td>0.813752</td>\n",
              "      <td>0.813752</td>\n",
              "      <td>0.011142</td>\n",
              "    </tr>\n",
              "    <tr>\n",
              "      <th>5</th>\n",
              "      <td>SELLER_NAME.NATLCITYMTGECO</td>\n",
              "      <td>0.798067</td>\n",
              "      <td>0.798067</td>\n",
              "      <td>0.010927</td>\n",
              "    </tr>\n",
              "    <tr>\n",
              "      <th>6</th>\n",
              "      <td>CHANNEL.T</td>\n",
              "      <td>0.761879</td>\n",
              "      <td>0.761879</td>\n",
              "      <td>0.010432</td>\n",
              "    </tr>\n",
              "    <tr>\n",
              "      <th>7</th>\n",
              "      <td>SELLER_NAME.NORWEST MORTGAGE, IN</td>\n",
              "      <td>0.761702</td>\n",
              "      <td>0.761702</td>\n",
              "      <td>0.010429</td>\n",
              "    </tr>\n",
              "    <tr>\n",
              "      <th>8</th>\n",
              "      <td>SELLER_NAME.COUNTRYWIDE</td>\n",
              "      <td>0.753406</td>\n",
              "      <td>0.753406</td>\n",
              "      <td>0.010316</td>\n",
              "    </tr>\n",
              "    <tr>\n",
              "      <th>9</th>\n",
              "      <td>SERVICER_NAME.WELLSFARGOHOMEMORTGA</td>\n",
              "      <td>0.740923</td>\n",
              "      <td>0.740923</td>\n",
              "      <td>0.010145</td>\n",
              "    </tr>\n",
              "    <tr>\n",
              "      <th>10</th>\n",
              "      <td>LOAN_PURPOSE.N</td>\n",
              "      <td>0.740164</td>\n",
              "      <td>0.740164</td>\n",
              "      <td>0.010134</td>\n",
              "    </tr>\n",
              "    <tr>\n",
              "      <th>11</th>\n",
              "      <td>SELLER_NAME.BANKOFAMERICA,NA</td>\n",
              "      <td>0.739256</td>\n",
              "      <td>0.739256</td>\n",
              "      <td>0.010122</td>\n",
              "    </tr>\n",
              "    <tr>\n",
              "      <th>12</th>\n",
              "      <td>FIRST_TIME_HOMEBUYER_FLAG.N</td>\n",
              "      <td>0.721331</td>\n",
              "      <td>0.721331</td>\n",
              "      <td>0.009876</td>\n",
              "    </tr>\n",
              "    <tr>\n",
              "      <th>13</th>\n",
              "      <td>OCCUPANCY_STATUS.O</td>\n",
              "      <td>0.714274</td>\n",
              "      <td>0.714274</td>\n",
              "      <td>0.009780</td>\n",
              "    </tr>\n",
              "    <tr>\n",
              "      <th>14</th>\n",
              "      <td>SERVICER_NAME.BANKOFAMERICA,NA</td>\n",
              "      <td>0.713548</td>\n",
              "      <td>0.713548</td>\n",
              "      <td>0.009770</td>\n",
              "    </tr>\n",
              "    <tr>\n",
              "      <th>15</th>\n",
              "      <td>CHANNEL.R</td>\n",
              "      <td>0.694154</td>\n",
              "      <td>0.694154</td>\n",
              "      <td>0.009504</td>\n",
              "    </tr>\n",
              "    <tr>\n",
              "      <th>16</th>\n",
              "      <td>LOAN_PURPOSE.P</td>\n",
              "      <td>0.693823</td>\n",
              "      <td>0.693823</td>\n",
              "      <td>0.009500</td>\n",
              "    </tr>\n",
              "    <tr>\n",
              "      <th>17</th>\n",
              "      <td>SELLER_NAME.COUNTRYWIDE HOME LOA</td>\n",
              "      <td>0.691518</td>\n",
              "      <td>0.691518</td>\n",
              "      <td>0.009468</td>\n",
              "    </tr>\n",
              "    <tr>\n",
              "      <th>18</th>\n",
              "      <td>SELLER_NAME.CHASEMANHATTANMTGECO</td>\n",
              "      <td>0.683337</td>\n",
              "      <td>0.683337</td>\n",
              "      <td>0.009356</td>\n",
              "    </tr>\n",
              "    <tr>\n",
              "      <th>19</th>\n",
              "      <td>SERVICER_NAME.ABNAMROMTGEGROUP,INC</td>\n",
              "      <td>0.671917</td>\n",
              "      <td>0.671917</td>\n",
              "      <td>0.009200</td>\n",
              "    </tr>\n",
              "  </tbody>\n",
              "</table>\n",
              "</div>"
            ],
            "text/plain": [
              "                              variable  ...  percentage\n",
              "0     SELLER_NAME.WELLSFARGOHOMEMORTGA  ...    0.013692\n",
              "1      SELLER_NAME.NORWESTMORTGAGE,INC  ...    0.011883\n",
              "2     SELLER_NAME.ABNAMROMTGEGROUP,INC  ...    0.011734\n",
              "3            SELLER_NAME.Other sellers  ...    0.011143\n",
              "4        SELLER_NAME.CROSSLANDMTGECORP  ...    0.011142\n",
              "5           SELLER_NAME.NATLCITYMTGECO  ...    0.010927\n",
              "6                            CHANNEL.T  ...    0.010432\n",
              "7     SELLER_NAME.NORWEST MORTGAGE, IN  ...    0.010429\n",
              "8              SELLER_NAME.COUNTRYWIDE  ...    0.010316\n",
              "9   SERVICER_NAME.WELLSFARGOHOMEMORTGA  ...    0.010145\n",
              "10                      LOAN_PURPOSE.N  ...    0.010134\n",
              "11        SELLER_NAME.BANKOFAMERICA,NA  ...    0.010122\n",
              "12         FIRST_TIME_HOMEBUYER_FLAG.N  ...    0.009876\n",
              "13                  OCCUPANCY_STATUS.O  ...    0.009780\n",
              "14      SERVICER_NAME.BANKOFAMERICA,NA  ...    0.009770\n",
              "15                           CHANNEL.R  ...    0.009504\n",
              "16                      LOAN_PURPOSE.P  ...    0.009500\n",
              "17    SELLER_NAME.COUNTRYWIDE HOME LOA  ...    0.009468\n",
              "18    SELLER_NAME.CHASEMANHATTANMTGECO  ...    0.009356\n",
              "19  SERVICER_NAME.ABNAMROMTGEGROUP,INC  ...    0.009200\n",
              "\n",
              "[20 rows x 4 columns]"
            ]
          },
          "metadata": {
            "tags": []
          }
        },
        {
          "output_type": "stream",
          "text": [
            "\n",
            "See the whole table with table.as_data_frame()\n"
          ],
          "name": "stdout"
        },
        {
          "output_type": "execute_result",
          "data": {
            "text/plain": [
              ""
            ]
          },
          "metadata": {
            "tags": []
          },
          "execution_count": 18
        }
      ]
    },
    {
      "cell_type": "code",
      "metadata": {
        "colab": {
          "base_uri": "https://localhost:8080/",
          "height": 295
        },
        "id": "rU_R9kNIvtRL",
        "outputId": "f94a2430-1634-4b85-ca1d-bc92276779b1"
      },
      "source": [
        "# Plot the scoring history\n",
        "dl.plot()"
      ],
      "execution_count": 19,
      "outputs": [
        {
          "output_type": "display_data",
          "data": {
            "image/png": "[encoded data removed]",
            "text/plain": [
              "<Figure size 432x288 with 1 Axes>"
            ]
          },
          "metadata": {
            "tags": [],
            "needs_background": "light"
          }
        }
      ]
    },
    {
      "cell_type": "code",
      "metadata": {
        "colab": {
          "base_uri": "https://localhost:8080/"
        },
        "id": "HsWBZE1Rv7vR",
        "outputId": "0ff74847-ec8f-483c-94a1-9dd6b6c4cc38"
      },
      "source": [
        "# Number of epuchs\n",
        "print(\"epochs = \", dl.params['epochs'])"
      ],
      "execution_count": 20,
      "outputs": [
        {
          "output_type": "stream",
          "text": [
            "epochs =  {'default': 10.0, 'actual': 10.0, 'input': 10.0}\n"
          ],
          "name": "stdout"
        }
      ]
    },
    {
      "cell_type": "code",
      "metadata": {
        "colab": {
          "base_uri": "https://localhost:8080/",
          "height": 612
        },
        "id": "ZgWP1FIMwD9R",
        "outputId": "cd019ffc-615c-432e-e9b5-8ee2ffc41b8e"
      },
      "source": [
        "# Plot variable importance\n",
        "dl.varimp_plot()"
      ],
      "execution_count": 21,
      "outputs": [
        {
          "output_type": "display_data",
          "data": {
            "image/png": "[encoded data removed]",
            "text/plain": [
              "<Figure size 1008x720 with 1 Axes>"
            ]
          },
          "metadata": {
            "tags": [],
            "needs_background": "light"
          }
        }
      ]
    },
    {
      "cell_type": "code",
      "metadata": {
        "id": "pDb0fl0QwMVk"
      },
      "source": [
        "# Saving the model performance on the validation set\n",
        "default_dl_per = dl.model_performance(valid)"
      ],
      "execution_count": 22,
      "outputs": []
    },
    {
      "cell_type": "markdown",
      "metadata": {
        "id": "FSfMf2vVydUk"
      },
      "source": [
        "### Task 6: Tune the XGBoost Model with H2O GridSearch"
      ]
    },
    {
      "cell_type": "markdown",
      "metadata": {
        "id": "kvgtOJSj0WGv"
      },
      "source": [
        "For more info about grid searching ► http://docs.h2o.ai/h2o/latest-stable/h2o-docs/grid-search.html#grid-hyperparameter-search\n",
        "\n",
        "We will first try to find the max_depth for our XGBoost, as this is one of the most important parameters for an XGBoost model.\n",
        "\n",
        "max_depth defines the number of nodms along the longest path from the start of the tree to the farthest leaf node."
      ]
    },
    {
      "cell_type": "code",
      "metadata": {
        "colab": {
          "base_uri": "https://localhost:8080/"
        },
        "id": "ajhqHG7gx8bO",
        "outputId": "517b59ff-2824-4d40-9f80-a7368913fd47"
      },
      "source": [
        "# Hyperparameters and trainning\n",
        "xgb = H2OXGBoostEstimator(model_id = 'xgb', \n",
        "                          ntrees = 300,\n",
        "                          stopping_rounds = 3, #default\n",
        "                          stopping_tolerance = 1e-3, #default\n",
        "                          stopping_metric = \"rmse\", #default\n",
        "                          seed = 42)\n",
        "\n",
        "hyper_params = {'max_depth' : [5,7,9,10,12,13,15,20]}\n",
        "\n",
        "grid_id = 'max_depth_grid'\n",
        "\n",
        "search_criteria = { \"strategy\":\"Cartesian\"}\n",
        "\n",
        "xgb_grid = H2OGridSearch(model = xgb, \n",
        "                         hyper_params = hyper_params,\n",
        "                         grid_id = grid_id,\n",
        "                         search_criteria = search_criteria)\n",
        "\n",
        "%time xgb_grid.train(x = x, y = y, training_frame = train, validation_frame = valid)"
      ],
      "execution_count": 23,
      "outputs": [
        {
          "output_type": "stream",
          "text": [
            "xgboost Grid Build progress: |████████████████████████████████████████████| 100%\n",
            "CPU times: user 36min 58s, sys: 3min 23s, total: 40min 22s\n",
            "Wall time: 1h 1min 46s\n"
          ],
          "name": "stdout"
        }
      ]
    },
    {
      "cell_type": "code",
      "metadata": {
        "colab": {
          "base_uri": "https://localhost:8080/",
          "height": 284
        },
        "id": "2t0LbVHM16rF",
        "outputId": "0b42a856-ab9b-407b-eddf-8a71577d795f"
      },
      "source": [
        "# get the models trained by the GridSearch\n",
        "sorted_xgb = xgb_grid.get_grid(sort_by = 'rmse', decreasing = False)\n",
        "sorted_xgb.sorted_metric_table()"
      ],
      "execution_count": 24,
      "outputs": [
        {
          "output_type": "execute_result",
          "data": {
            "text/html": [
              "<div>\n",
              "<style scoped>\n",
              "    .dataframe tbody tr th:only-of-type {\n",
              "        vertical-align: middle;\n",
              "    }\n",
              "\n",
              "    .dataframe tbody tr th {\n",
              "        vertical-align: top;\n",
              "    }\n",
              "\n",
              "    .dataframe thead th {\n",
              "        text-align: right;\n",
              "    }\n",
              "</style>\n",
              "<table border=\"1\" class=\"dataframe\">\n",
              "  <thead>\n",
              "    <tr style=\"text-align: right;\">\n",
              "      <th></th>\n",
              "      <th></th>\n",
              "      <th>max_depth</th>\n",
              "      <th>model_ids</th>\n",
              "      <th>rmse</th>\n",
              "    </tr>\n",
              "  </thead>\n",
              "  <tbody>\n",
              "    <tr>\n",
              "      <th>0</th>\n",
              "      <td></td>\n",
              "      <td>7</td>\n",
              "      <td>max_depth_grid_model_2</td>\n",
              "      <td>0.4114569756454141</td>\n",
              "    </tr>\n",
              "    <tr>\n",
              "      <th>1</th>\n",
              "      <td></td>\n",
              "      <td>5</td>\n",
              "      <td>max_depth_grid_model_1</td>\n",
              "      <td>0.4129006435219891</td>\n",
              "    </tr>\n",
              "    <tr>\n",
              "      <th>2</th>\n",
              "      <td></td>\n",
              "      <td>9</td>\n",
              "      <td>max_depth_grid_model_3</td>\n",
              "      <td>0.41646343831685856</td>\n",
              "    </tr>\n",
              "    <tr>\n",
              "      <th>3</th>\n",
              "      <td></td>\n",
              "      <td>10</td>\n",
              "      <td>max_depth_grid_model_4</td>\n",
              "      <td>0.4192768226314015</td>\n",
              "    </tr>\n",
              "    <tr>\n",
              "      <th>4</th>\n",
              "      <td></td>\n",
              "      <td>12</td>\n",
              "      <td>max_depth_grid_model_5</td>\n",
              "      <td>0.423145826818501</td>\n",
              "    </tr>\n",
              "    <tr>\n",
              "      <th>5</th>\n",
              "      <td></td>\n",
              "      <td>13</td>\n",
              "      <td>max_depth_grid_model_6</td>\n",
              "      <td>0.42570707596178287</td>\n",
              "    </tr>\n",
              "    <tr>\n",
              "      <th>6</th>\n",
              "      <td></td>\n",
              "      <td>15</td>\n",
              "      <td>max_depth_grid_model_7</td>\n",
              "      <td>0.4302617202213125</td>\n",
              "    </tr>\n",
              "    <tr>\n",
              "      <th>7</th>\n",
              "      <td></td>\n",
              "      <td>20</td>\n",
              "      <td>max_depth_grid_model_8</td>\n",
              "      <td>0.4389842538370232</td>\n",
              "    </tr>\n",
              "  </tbody>\n",
              "</table>\n",
              "</div>"
            ],
            "text/plain": [
              "    max_depth               model_ids                 rmse\n",
              "0           7  max_depth_grid_model_2   0.4114569756454141\n",
              "1           5  max_depth_grid_model_1   0.4129006435219891\n",
              "2           9  max_depth_grid_model_3  0.41646343831685856\n",
              "3          10  max_depth_grid_model_4   0.4192768226314015\n",
              "4          12  max_depth_grid_model_5    0.423145826818501\n",
              "5          13  max_depth_grid_model_6  0.42570707596178287\n",
              "6          15  max_depth_grid_model_7   0.4302617202213125\n",
              "7          20  max_depth_grid_model_8   0.4389842538370232"
            ]
          },
          "metadata": {
            "tags": []
          },
          "execution_count": 24
        }
      ]
    },
    {
      "cell_type": "markdown",
      "metadata": {
        "id": "Uz7Xcvb43L3w"
      },
      "source": [
        "1. sample_rate: Specifies the row sampling ratio of the training instance (x-axis). (Note that this method is sample without replacement.) For example, setting this value to 0.5 tells XGBoost to randomly collecte half of the data instances to grow trees. This value defaults to 1, and the range is 0.0 to 1.0. Higher values may improve training accuracy. Test accuracy improves when either columns or rows are sampled.\n",
        "\n",
        "2. col_sample_rate: Specifies the column sampling rate (y-axis) for each split in each level. (Note that this method is sample without replacement.) This value defaults to 1.0, and the range is 0.0 to 1.0\n",
        "\n",
        "3. col_sample_rate_per_tree: Specifies the column subsampling rate per tree. (Note that this method is sample without replacement.) This value defaults to 1.0 and can be a value from 0.0 to 1.0\n",
        "\n",
        "Since we have 4 parameters in this grid search, we will be doing a random search; we will be using early stopping, and for our stopping criteria, we will set a limit of 100 models or 15 minutes. You can change these settings in the search_criteria_tune parameter for the grid search."
      ]
    },
    {
      "cell_type": "code",
      "metadata": {
        "colab": {
          "base_uri": "https://localhost:8080/"
        },
        "id": "yCwcnGnC2ywL",
        "outputId": "65c7ce92-8997-461d-9e9e-88e328d88219"
      },
      "source": [
        "xgb = H2OXGBoostEstimator(model_id = 'xgb_grid', \n",
        "                          ntrees = 500, \n",
        "                          learn_rate = 0.25,\n",
        "                          stopping_rounds = 3, #default\n",
        "                          stopping_tolerance = 1e-3, #default\n",
        "                          stopping_metric = \"rmse\", #default\n",
        "                          seed = 42)\n",
        "\n",
        "hyper_params = {'max_depth' : [5,6,7,9],\n",
        "                'sample_rate': [x/100. for x in range(20,101)],\n",
        "                'col_sample_rate' : [x/100. for x in range(20,101)],\n",
        "                'col_sample_rate_per_tree': [x/100. for x in range(20,101)]}\n",
        "\n",
        "search_criteria_tune = {'strategy': \"RandomDiscrete\",\n",
        "                        'max_runtime_secs': 900, #15 min  \n",
        "                        'max_models': 100,  ## build no more than 100 models\n",
        "                        'seed' : 42}\n",
        "\n",
        "xgb_grid = H2OGridSearch(xgb, hyper_params,\n",
        "                         grid_id = 'random_grid',\n",
        "                         search_criteria = search_criteria_tune)\n",
        "\n",
        "%time xgb_grid.train(x = x, y = y, training_frame = train, validation_frame = valid)"
      ],
      "execution_count": 25,
      "outputs": [
        {
          "output_type": "stream",
          "text": [
            "xgboost Grid Build progress: |████████████████████████████████████████████| 100%\n",
            "CPU times: user 8.2 s, sys: 800 ms, total: 9 s\n",
            "Wall time: 15min 9s\n"
          ],
          "name": "stdout"
        }
      ]
    },
    {
      "cell_type": "code",
      "metadata": {
        "colab": {
          "base_uri": "https://localhost:8080/",
          "height": 195
        },
        "id": "SnkVXnx64O5B",
        "outputId": "f67bb8a8-7f75-491b-dbfb-bdce82c6c7ae"
      },
      "source": [
        "# Results of the random search\n",
        "sorted_xgb = xgb_grid.get_grid(sort_by = 'rmse', decreasing = False)\n",
        "sorted_xgb.sorted_metric_table()"
      ],
      "execution_count": 26,
      "outputs": [
        {
          "output_type": "execute_result",
          "data": {
            "text/html": [
              "<div>\n",
              "<style scoped>\n",
              "    .dataframe tbody tr th:only-of-type {\n",
              "        vertical-align: middle;\n",
              "    }\n",
              "\n",
              "    .dataframe tbody tr th {\n",
              "        vertical-align: top;\n",
              "    }\n",
              "\n",
              "    .dataframe thead th {\n",
              "        text-align: right;\n",
              "    }\n",
              "</style>\n",
              "<table border=\"1\" class=\"dataframe\">\n",
              "  <thead>\n",
              "    <tr style=\"text-align: right;\">\n",
              "      <th></th>\n",
              "      <th></th>\n",
              "      <th>col_sample_rate</th>\n",
              "      <th>col_sample_rate_per_tree</th>\n",
              "      <th>max_depth</th>\n",
              "      <th>sample_rate</th>\n",
              "      <th>model_ids</th>\n",
              "      <th>rmse</th>\n",
              "    </tr>\n",
              "  </thead>\n",
              "  <tbody>\n",
              "    <tr>\n",
              "      <th>0</th>\n",
              "      <td></td>\n",
              "      <td>0.84</td>\n",
              "      <td>0.72</td>\n",
              "      <td>5</td>\n",
              "      <td>0.85</td>\n",
              "      <td>random_grid_model_1</td>\n",
              "      <td>0.41220602245190047</td>\n",
              "    </tr>\n",
              "    <tr>\n",
              "      <th>1</th>\n",
              "      <td></td>\n",
              "      <td>0.71</td>\n",
              "      <td>0.7</td>\n",
              "      <td>5</td>\n",
              "      <td>0.94</td>\n",
              "      <td>random_grid_model_5</td>\n",
              "      <td>0.4128382164949427</td>\n",
              "    </tr>\n",
              "    <tr>\n",
              "      <th>2</th>\n",
              "      <td></td>\n",
              "      <td>0.24</td>\n",
              "      <td>0.83</td>\n",
              "      <td>9</td>\n",
              "      <td>0.74</td>\n",
              "      <td>random_grid_model_4</td>\n",
              "      <td>0.41670168107322186</td>\n",
              "    </tr>\n",
              "    <tr>\n",
              "      <th>3</th>\n",
              "      <td></td>\n",
              "      <td>0.29</td>\n",
              "      <td>0.72</td>\n",
              "      <td>6</td>\n",
              "      <td>0.35</td>\n",
              "      <td>random_grid_model_3</td>\n",
              "      <td>0.417072681050811</td>\n",
              "    </tr>\n",
              "    <tr>\n",
              "      <th>4</th>\n",
              "      <td></td>\n",
              "      <td>0.81</td>\n",
              "      <td>0.73</td>\n",
              "      <td>7</td>\n",
              "      <td>0.4</td>\n",
              "      <td>random_grid_model_2</td>\n",
              "      <td>0.42037968701646145</td>\n",
              "    </tr>\n",
              "  </tbody>\n",
              "</table>\n",
              "</div>"
            ],
            "text/plain": [
              "    col_sample_rate  ...            model_ids                 rmse\n",
              "0              0.84  ...  random_grid_model_1  0.41220602245190047\n",
              "1              0.71  ...  random_grid_model_5   0.4128382164949427\n",
              "2              0.24  ...  random_grid_model_4  0.41670168107322186\n",
              "3              0.29  ...  random_grid_model_3    0.417072681050811\n",
              "4              0.81  ...  random_grid_model_2  0.42037968701646145\n",
              "\n",
              "[5 rows x 7 columns]"
            ]
          },
          "metadata": {
            "tags": []
          },
          "execution_count": 26
        }
      ]
    },
    {
      "cell_type": "code",
      "metadata": {
        "colab": {
          "base_uri": "https://localhost:8080/",
          "height": 1000
        },
        "id": "OcntxHD04UbV",
        "outputId": "04902d1f-a705-426d-ba52-776595847a59"
      },
      "source": [
        "# Retrieve the best model from the grid search\n",
        "best_xgb_model = xgb_grid.models[0] \n",
        "best_xgb_model"
      ],
      "execution_count": 27,
      "outputs": [
        {
          "output_type": "stream",
          "text": [
            "Model Details\n",
            "=============\n",
            "H2OXGBoostEstimator :  XGBoost\n",
            "Model Key:  random_grid_model_1\n",
            "\n",
            "\n",
            "Model Summary: \n"
          ],
          "name": "stdout"
        },
        {
          "output_type": "display_data",
          "data": {
            "text/html": [
              "<div>\n",
              "<style scoped>\n",
              "    .dataframe tbody tr th:only-of-type {\n",
              "        vertical-align: middle;\n",
              "    }\n",
              "\n",
              "    .dataframe tbody tr th {\n",
              "        vertical-align: top;\n",
              "    }\n",
              "\n",
              "    .dataframe thead th {\n",
              "        text-align: right;\n",
              "    }\n",
              "</style>\n",
              "<table border=\"1\" class=\"dataframe\">\n",
              "  <thead>\n",
              "    <tr style=\"text-align: right;\">\n",
              "      <th></th>\n",
              "      <th></th>\n",
              "      <th>number_of_trees</th>\n",
              "    </tr>\n",
              "  </thead>\n",
              "  <tbody>\n",
              "    <tr>\n",
              "      <th>0</th>\n",
              "      <td></td>\n",
              "      <td>500.0</td>\n",
              "    </tr>\n",
              "  </tbody>\n",
              "</table>\n",
              "</div>"
            ],
            "text/plain": [
              "     number_of_trees\n",
              "0              500.0"
            ]
          },
          "metadata": {
            "tags": []
          }
        },
        {
          "output_type": "stream",
          "text": [
            "\n",
            "\n",
            "ModelMetricsRegression: xgboost\n",
            "** Reported on train data. **\n",
            "\n",
            "MSE: 0.15646881108216415\n",
            "RMSE: 0.39556138724876083\n",
            "MAE: 0.2878390193327233\n",
            "RMSLE: 0.046886189948925405\n",
            "Mean Residual Deviance: 0.15646881108216415\n",
            "\n",
            "ModelMetricsRegression: xgboost\n",
            "** Reported on validation data. **\n",
            "\n",
            "MSE: 0.16991380494561667\n",
            "RMSE: 0.41220602245190047\n",
            "MAE: 0.30041432663391077\n",
            "RMSLE: 0.04889002337337007\n",
            "Mean Residual Deviance: 0.16991380494561667\n",
            "\n",
            "Scoring History: \n"
          ],
          "name": "stdout"
        },
        {
          "output_type": "display_data",
          "data": {
            "text/html": [
              "<div>\n",
              "<style scoped>\n",
              "    .dataframe tbody tr th:only-of-type {\n",
              "        vertical-align: middle;\n",
              "    }\n",
              "\n",
              "    .dataframe tbody tr th {\n",
              "        vertical-align: top;\n",
              "    }\n",
              "\n",
              "    .dataframe thead th {\n",
              "        text-align: right;\n",
              "    }\n",
              "</style>\n",
              "<table border=\"1\" class=\"dataframe\">\n",
              "  <thead>\n",
              "    <tr style=\"text-align: right;\">\n",
              "      <th></th>\n",
              "      <th></th>\n",
              "      <th>timestamp</th>\n",
              "      <th>duration</th>\n",
              "      <th>number_of_trees</th>\n",
              "      <th>training_rmse</th>\n",
              "      <th>training_mae</th>\n",
              "      <th>training_deviance</th>\n",
              "      <th>validation_rmse</th>\n",
              "      <th>validation_mae</th>\n",
              "      <th>validation_deviance</th>\n",
              "    </tr>\n",
              "  </thead>\n",
              "  <tbody>\n",
              "    <tr>\n",
              "      <th>0</th>\n",
              "      <td></td>\n",
              "      <td>2021-04-30 18:34:03</td>\n",
              "      <td>0.026 sec</td>\n",
              "      <td>0.0</td>\n",
              "      <td>6.708863</td>\n",
              "      <td>6.683679</td>\n",
              "      <td>45.008844</td>\n",
              "      <td>6.704750</td>\n",
              "      <td>6.679805</td>\n",
              "      <td>44.953673</td>\n",
              "    </tr>\n",
              "    <tr>\n",
              "      <th>1</th>\n",
              "      <td></td>\n",
              "      <td>2021-04-30 18:34:05</td>\n",
              "      <td>1.864 sec</td>\n",
              "      <td>1.0</td>\n",
              "      <td>5.044730</td>\n",
              "      <td>5.012934</td>\n",
              "      <td>25.449306</td>\n",
              "      <td>5.040699</td>\n",
              "      <td>5.009208</td>\n",
              "      <td>25.408651</td>\n",
              "    </tr>\n",
              "    <tr>\n",
              "      <th>2</th>\n",
              "      <td></td>\n",
              "      <td>2021-04-30 18:34:05</td>\n",
              "      <td>2.495 sec</td>\n",
              "      <td>2.0</td>\n",
              "      <td>3.799014</td>\n",
              "      <td>3.760007</td>\n",
              "      <td>14.432507</td>\n",
              "      <td>3.795582</td>\n",
              "      <td>3.756883</td>\n",
              "      <td>14.406440</td>\n",
              "    </tr>\n",
              "    <tr>\n",
              "      <th>3</th>\n",
              "      <td></td>\n",
              "      <td>2021-04-30 18:34:06</td>\n",
              "      <td>3.146 sec</td>\n",
              "      <td>3.0</td>\n",
              "      <td>2.868788</td>\n",
              "      <td>2.819894</td>\n",
              "      <td>8.229947</td>\n",
              "      <td>2.865659</td>\n",
              "      <td>2.817115</td>\n",
              "      <td>8.212000</td>\n",
              "    </tr>\n",
              "    <tr>\n",
              "      <th>4</th>\n",
              "      <td></td>\n",
              "      <td>2021-04-30 18:34:07</td>\n",
              "      <td>3.834 sec</td>\n",
              "      <td>4.0</td>\n",
              "      <td>2.177102</td>\n",
              "      <td>2.115053</td>\n",
              "      <td>4.739772</td>\n",
              "      <td>2.174498</td>\n",
              "      <td>2.112789</td>\n",
              "      <td>4.728444</td>\n",
              "    </tr>\n",
              "    <tr>\n",
              "      <th>5</th>\n",
              "      <td></td>\n",
              "      <td>2021-04-30 18:34:07</td>\n",
              "      <td>4.495 sec</td>\n",
              "      <td>5.0</td>\n",
              "      <td>1.665550</td>\n",
              "      <td>1.586722</td>\n",
              "      <td>2.774058</td>\n",
              "      <td>1.662967</td>\n",
              "      <td>1.584533</td>\n",
              "      <td>2.765460</td>\n",
              "    </tr>\n",
              "    <tr>\n",
              "      <th>6</th>\n",
              "      <td></td>\n",
              "      <td>2021-04-30 18:34:12</td>\n",
              "      <td>8.637 sec</td>\n",
              "      <td>17.0</td>\n",
              "      <td>0.465889</td>\n",
              "      <td>0.334825</td>\n",
              "      <td>0.217053</td>\n",
              "      <td>0.464964</td>\n",
              "      <td>0.335329</td>\n",
              "      <td>0.216192</td>\n",
              "    </tr>\n",
              "    <tr>\n",
              "      <th>7</th>\n",
              "      <td></td>\n",
              "      <td>2021-04-30 18:34:17</td>\n",
              "      <td>14.309 sec</td>\n",
              "      <td>34.0</td>\n",
              "      <td>0.443063</td>\n",
              "      <td>0.325478</td>\n",
              "      <td>0.196305</td>\n",
              "      <td>0.443193</td>\n",
              "      <td>0.327033</td>\n",
              "      <td>0.196420</td>\n",
              "    </tr>\n",
              "    <tr>\n",
              "      <th>8</th>\n",
              "      <td></td>\n",
              "      <td>2021-04-30 18:34:26</td>\n",
              "      <td>23.079 sec</td>\n",
              "      <td>60.0</td>\n",
              "      <td>0.430382</td>\n",
              "      <td>0.314778</td>\n",
              "      <td>0.185229</td>\n",
              "      <td>0.431248</td>\n",
              "      <td>0.316825</td>\n",
              "      <td>0.185975</td>\n",
              "    </tr>\n",
              "    <tr>\n",
              "      <th>9</th>\n",
              "      <td></td>\n",
              "      <td>2021-04-30 18:34:40</td>\n",
              "      <td>37.059 sec</td>\n",
              "      <td>103.0</td>\n",
              "      <td>0.421453</td>\n",
              "      <td>0.307384</td>\n",
              "      <td>0.177622</td>\n",
              "      <td>0.423787</td>\n",
              "      <td>0.310541</td>\n",
              "      <td>0.179595</td>\n",
              "    </tr>\n",
              "    <tr>\n",
              "      <th>10</th>\n",
              "      <td></td>\n",
              "      <td>2021-04-30 18:35:01</td>\n",
              "      <td>58.330 sec</td>\n",
              "      <td>166.0</td>\n",
              "      <td>0.413889</td>\n",
              "      <td>0.301403</td>\n",
              "      <td>0.171304</td>\n",
              "      <td>0.418471</td>\n",
              "      <td>0.306063</td>\n",
              "      <td>0.175118</td>\n",
              "    </tr>\n",
              "    <tr>\n",
              "      <th>11</th>\n",
              "      <td></td>\n",
              "      <td>2021-04-30 18:35:36</td>\n",
              "      <td>1 min 33.057 sec</td>\n",
              "      <td>269.0</td>\n",
              "      <td>0.406661</td>\n",
              "      <td>0.295863</td>\n",
              "      <td>0.165373</td>\n",
              "      <td>0.415001</td>\n",
              "      <td>0.302967</td>\n",
              "      <td>0.172226</td>\n",
              "    </tr>\n",
              "    <tr>\n",
              "      <th>12</th>\n",
              "      <td></td>\n",
              "      <td>2021-04-30 18:36:36</td>\n",
              "      <td>2 min 33.097 sec</td>\n",
              "      <td>450.0</td>\n",
              "      <td>0.397605</td>\n",
              "      <td>0.289309</td>\n",
              "      <td>0.158090</td>\n",
              "      <td>0.412615</td>\n",
              "      <td>0.300788</td>\n",
              "      <td>0.170251</td>\n",
              "    </tr>\n",
              "    <tr>\n",
              "      <th>13</th>\n",
              "      <td></td>\n",
              "      <td>2021-04-30 18:37:02</td>\n",
              "      <td>2 min 58.979 sec</td>\n",
              "      <td>500.0</td>\n",
              "      <td>0.395561</td>\n",
              "      <td>0.287839</td>\n",
              "      <td>0.156469</td>\n",
              "      <td>0.412206</td>\n",
              "      <td>0.300414</td>\n",
              "      <td>0.169914</td>\n",
              "    </tr>\n",
              "  </tbody>\n",
              "</table>\n",
              "</div>"
            ],
            "text/plain": [
              "                timestamp  ... validation_mae  validation_deviance\n",
              "0     2021-04-30 18:34:03  ...       6.679805            44.953673\n",
              "1     2021-04-30 18:34:05  ...       5.009208            25.408651\n",
              "2     2021-04-30 18:34:05  ...       3.756883            14.406440\n",
              "3     2021-04-30 18:34:06  ...       2.817115             8.212000\n",
              "4     2021-04-30 18:34:07  ...       2.112789             4.728444\n",
              "5     2021-04-30 18:34:07  ...       1.584533             2.765460\n",
              "6     2021-04-30 18:34:12  ...       0.335329             0.216192\n",
              "7     2021-04-30 18:34:17  ...       0.327033             0.196420\n",
              "8     2021-04-30 18:34:26  ...       0.316825             0.185975\n",
              "9     2021-04-30 18:34:40  ...       0.310541             0.179595\n",
              "10    2021-04-30 18:35:01  ...       0.306063             0.175118\n",
              "11    2021-04-30 18:35:36  ...       0.302967             0.172226\n",
              "12    2021-04-30 18:36:36  ...       0.300788             0.170251\n",
              "13    2021-04-30 18:37:02  ...       0.300414             0.169914\n",
              "\n",
              "[14 rows x 10 columns]"
            ]
          },
          "metadata": {
            "tags": []
          }
        },
        {
          "output_type": "stream",
          "text": [
            "\n",
            "Variable Importances: \n"
          ],
          "name": "stdout"
        },
        {
          "output_type": "display_data",
          "data": {
            "text/html": [
              "<div>\n",
              "<style scoped>\n",
              "    .dataframe tbody tr th:only-of-type {\n",
              "        vertical-align: middle;\n",
              "    }\n",
              "\n",
              "    .dataframe tbody tr th {\n",
              "        vertical-align: top;\n",
              "    }\n",
              "\n",
              "    .dataframe thead th {\n",
              "        text-align: right;\n",
              "    }\n",
              "</style>\n",
              "<table border=\"1\" class=\"dataframe\">\n",
              "  <thead>\n",
              "    <tr style=\"text-align: right;\">\n",
              "      <th></th>\n",
              "      <th>variable</th>\n",
              "      <th>relative_importance</th>\n",
              "      <th>scaled_importance</th>\n",
              "      <th>percentage</th>\n",
              "    </tr>\n",
              "  </thead>\n",
              "  <tbody>\n",
              "    <tr>\n",
              "      <th>0</th>\n",
              "      <td>SELLER_NAME.NORWESTMORTGAGE,INC</td>\n",
              "      <td>24009.591797</td>\n",
              "      <td>1.000000</td>\n",
              "      <td>0.193548</td>\n",
              "    </tr>\n",
              "    <tr>\n",
              "      <th>1</th>\n",
              "      <td>ORIGINAL_UPB</td>\n",
              "      <td>7951.083984</td>\n",
              "      <td>0.331163</td>\n",
              "      <td>0.064096</td>\n",
              "    </tr>\n",
              "    <tr>\n",
              "      <th>2</th>\n",
              "      <td>OCCUPANCY_STATUS.I</td>\n",
              "      <td>7126.965820</td>\n",
              "      <td>0.296838</td>\n",
              "      <td>0.057452</td>\n",
              "    </tr>\n",
              "    <tr>\n",
              "      <th>3</th>\n",
              "      <td>LOAN_PURPOSE.P</td>\n",
              "      <td>6445.682617</td>\n",
              "      <td>0.268463</td>\n",
              "      <td>0.051960</td>\n",
              "    </tr>\n",
              "    <tr>\n",
              "      <th>4</th>\n",
              "      <td>CREDIT_SCORE</td>\n",
              "      <td>5373.764160</td>\n",
              "      <td>0.223817</td>\n",
              "      <td>0.043319</td>\n",
              "    </tr>\n",
              "    <tr>\n",
              "      <th>5</th>\n",
              "      <td>ORIGINAL_LOAN_TO_VALUE</td>\n",
              "      <td>4029.250000</td>\n",
              "      <td>0.167818</td>\n",
              "      <td>0.032481</td>\n",
              "    </tr>\n",
              "    <tr>\n",
              "      <th>6</th>\n",
              "      <td>SERVICER_NAME.ABNAMROMTGEGROUP,INC</td>\n",
              "      <td>3591.496826</td>\n",
              "      <td>0.149586</td>\n",
              "      <td>0.028952</td>\n",
              "    </tr>\n",
              "    <tr>\n",
              "      <th>7</th>\n",
              "      <td>SELLER_NAME.COUNTRYWIDE</td>\n",
              "      <td>3270.049561</td>\n",
              "      <td>0.136198</td>\n",
              "      <td>0.026361</td>\n",
              "    </tr>\n",
              "    <tr>\n",
              "      <th>8</th>\n",
              "      <td>POSTAL_CODE</td>\n",
              "      <td>3126.813965</td>\n",
              "      <td>0.130232</td>\n",
              "      <td>0.025206</td>\n",
              "    </tr>\n",
              "    <tr>\n",
              "      <th>9</th>\n",
              "      <td>SELLER_NAME.NATLCITYMTGECO</td>\n",
              "      <td>2963.057129</td>\n",
              "      <td>0.123411</td>\n",
              "      <td>0.023886</td>\n",
              "    </tr>\n",
              "    <tr>\n",
              "      <th>10</th>\n",
              "      <td>SELLER_NAME.CROSSLANDMTGECORP</td>\n",
              "      <td>2780.377686</td>\n",
              "      <td>0.115803</td>\n",
              "      <td>0.022413</td>\n",
              "    </tr>\n",
              "    <tr>\n",
              "      <th>11</th>\n",
              "      <td>ORIGINAL_COMBINED_LOAN_TO_VALUE</td>\n",
              "      <td>2777.423584</td>\n",
              "      <td>0.115680</td>\n",
              "      <td>0.022390</td>\n",
              "    </tr>\n",
              "    <tr>\n",
              "      <th>12</th>\n",
              "      <td>ORIGINAL_DEBT_TO_INCOME_RATIO</td>\n",
              "      <td>2737.249756</td>\n",
              "      <td>0.114007</td>\n",
              "      <td>0.022066</td>\n",
              "    </tr>\n",
              "    <tr>\n",
              "      <th>13</th>\n",
              "      <td>SELLER_NAME.ABNAMROMTGEGROUP,INC</td>\n",
              "      <td>2372.140381</td>\n",
              "      <td>0.098800</td>\n",
              "      <td>0.019122</td>\n",
              "    </tr>\n",
              "    <tr>\n",
              "      <th>14</th>\n",
              "      <td>SELLER_NAME.PNCMTGECORPOFAMERICA</td>\n",
              "      <td>2348.820557</td>\n",
              "      <td>0.097828</td>\n",
              "      <td>0.018934</td>\n",
              "    </tr>\n",
              "    <tr>\n",
              "      <th>15</th>\n",
              "      <td>SELLER_NAME.BANKOFAMERICA,NA</td>\n",
              "      <td>2278.011963</td>\n",
              "      <td>0.094879</td>\n",
              "      <td>0.018364</td>\n",
              "    </tr>\n",
              "    <tr>\n",
              "      <th>16</th>\n",
              "      <td>SELLER_NAME.FIRSTHORIZONHOMELOAN</td>\n",
              "      <td>2050.810791</td>\n",
              "      <td>0.085416</td>\n",
              "      <td>0.016532</td>\n",
              "    </tr>\n",
              "    <tr>\n",
              "      <th>17</th>\n",
              "      <td>SERVICER_NAME.Other servicers</td>\n",
              "      <td>1736.862793</td>\n",
              "      <td>0.072340</td>\n",
              "      <td>0.014001</td>\n",
              "    </tr>\n",
              "    <tr>\n",
              "      <th>18</th>\n",
              "      <td>SELLER_NAME.STANDARD FEDERAL BAN</td>\n",
              "      <td>1625.707886</td>\n",
              "      <td>0.067711</td>\n",
              "      <td>0.013105</td>\n",
              "    </tr>\n",
              "    <tr>\n",
              "      <th>19</th>\n",
              "      <td>SELLER_NAME.NORWEST MORTGAGE, IN</td>\n",
              "      <td>1569.726929</td>\n",
              "      <td>0.065379</td>\n",
              "      <td>0.012654</td>\n",
              "    </tr>\n",
              "  </tbody>\n",
              "</table>\n",
              "</div>"
            ],
            "text/plain": [
              "                              variable  ...  percentage\n",
              "0      SELLER_NAME.NORWESTMORTGAGE,INC  ...    0.193548\n",
              "1                         ORIGINAL_UPB  ...    0.064096\n",
              "2                   OCCUPANCY_STATUS.I  ...    0.057452\n",
              "3                       LOAN_PURPOSE.P  ...    0.051960\n",
              "4                         CREDIT_SCORE  ...    0.043319\n",
              "5               ORIGINAL_LOAN_TO_VALUE  ...    0.032481\n",
              "6   SERVICER_NAME.ABNAMROMTGEGROUP,INC  ...    0.028952\n",
              "7              SELLER_NAME.COUNTRYWIDE  ...    0.026361\n",
              "8                          POSTAL_CODE  ...    0.025206\n",
              "9           SELLER_NAME.NATLCITYMTGECO  ...    0.023886\n",
              "10       SELLER_NAME.CROSSLANDMTGECORP  ...    0.022413\n",
              "11     ORIGINAL_COMBINED_LOAN_TO_VALUE  ...    0.022390\n",
              "12       ORIGINAL_DEBT_TO_INCOME_RATIO  ...    0.022066\n",
              "13    SELLER_NAME.ABNAMROMTGEGROUP,INC  ...    0.019122\n",
              "14    SELLER_NAME.PNCMTGECORPOFAMERICA  ...    0.018934\n",
              "15        SELLER_NAME.BANKOFAMERICA,NA  ...    0.018364\n",
              "16    SELLER_NAME.FIRSTHORIZONHOMELOAN  ...    0.016532\n",
              "17       SERVICER_NAME.Other servicers  ...    0.014001\n",
              "18    SELLER_NAME.STANDARD FEDERAL BAN  ...    0.013105\n",
              "19    SELLER_NAME.NORWEST MORTGAGE, IN  ...    0.012654\n",
              "\n",
              "[20 rows x 4 columns]"
            ]
          },
          "metadata": {
            "tags": []
          }
        },
        {
          "output_type": "stream",
          "text": [
            "\n",
            "See the whole table with table.as_data_frame()\n"
          ],
          "name": "stdout"
        },
        {
          "output_type": "execute_result",
          "data": {
            "text/plain": [
              ""
            ]
          },
          "metadata": {
            "tags": []
          },
          "execution_count": 27
        }
      ]
    },
    {
      "cell_type": "code",
      "metadata": {
        "id": "FRI6i8an4qxM"
      },
      "source": [
        "# Saving the model performance on the validation set\n",
        "tuned_xgb_per = best_xgb_model.model_performance(valid)"
      ],
      "execution_count": 28,
      "outputs": []
    },
    {
      "cell_type": "code",
      "metadata": {
        "colab": {
          "base_uri": "https://localhost:8080/"
        },
        "id": "kz116ND77rpq",
        "outputId": "115c5a10-35e5-43c7-955d-a6b1100f12c4"
      },
      "source": [
        "# RMSE \n",
        "print(\"Default XGB RMSE: %.4f \\nTuned XGB RMSE:%.4f\" % (default_xgb_per.rmse(), tuned_xgb_per.rmse()))"
      ],
      "execution_count": 29,
      "outputs": [
        {
          "output_type": "stream",
          "text": [
            "Default XGB RMSE: 0.4244 \n",
            "Tuned XGB RMSE:0.4122\n"
          ],
          "name": "stdout"
        }
      ]
    },
    {
      "cell_type": "code",
      "metadata": {
        "colab": {
          "base_uri": "https://localhost:8080/"
        },
        "id": "K3GqJq-O5U69",
        "outputId": "c5fc29b1-ccfb-4909-cfbd-3a43c33fbd9e"
      },
      "source": [
        "# MAE\n",
        "print(\"Default XGB MAE: %.4f \\nTuned XGB MAE:%.4f\" % (default_xgb_per.mae(), tuned_xgb_per.mae()))"
      ],
      "execution_count": 30,
      "outputs": [
        {
          "output_type": "stream",
          "text": [
            "Default XGB MAE: 0.3108 \n",
            "Tuned XGB MAE:0.3004\n"
          ],
          "name": "stdout"
        }
      ]
    },
    {
      "cell_type": "markdown",
      "metadata": {
        "id": "g_ekwEMn7wfR"
      },
      "source": [
        "### Task 7: Tune the Deep Learning model with H2O GridSearch"
      ]
    },
    {
      "cell_type": "markdown",
      "metadata": {
        "id": "GVSuyzRV91LK"
      },
      "source": [
        "Two of the most important parameters of a Deep Learning model are the number of neurons in the hidden layers and the number of epochs. The parameter for both hidden neurons and layers is \"hidden\", and we can specify the hidden layer sizes."
      ]
    },
    {
      "cell_type": "code",
      "metadata": {
        "colab": {
          "base_uri": "https://localhost:8080/"
        },
        "id": "dvNb0h9a8tUy",
        "outputId": "ea93f996-1303-44d6-bc7d-c6c4cd137462"
      },
      "source": [
        "# Tunning and training\n",
        "dl = H2ODeepLearningEstimator(seed = 42, \n",
        "                              model_id = 'DL',\n",
        "                              nfolds = 0,\n",
        "                              keep_cross_validation_predictions = False,\n",
        "                              epochs = 10,\n",
        "                              activation = 'rectifier_with_dropout',\n",
        "                              stopping_rounds = 5, #default\n",
        "                              stopping_tolerance = 1e-3, #default\n",
        "                              stopping_metric = \"rmse\") #default\n",
        "\n",
        "hyper_params = {'hidden' : [[100, 100], [165, 165], [200,200], [330,330], \n",
        "                            [165, 200]],\n",
        "                'hidden_dropout_ratios' : [[0,0], [0.01,0.01], [0.15,0.15], \n",
        "                                           [0.30, 0.30],[0.5,0.5]]}\n",
        "\n",
        "search_criteria_tune = {'strategy': \"RandomDiscrete\",\n",
        "                        'max_runtime_secs': 900, #15 min  \n",
        "                        'max_models': 100,  ## build no more than 100 models\n",
        "                        'seed' : 42}\n",
        "\n",
        "dl_grid = H2OGridSearch(model = dl, \n",
        "                        hyper_params = hyper_params,\n",
        "                        grid_id = 'random_dl_grid',\n",
        "                        search_criteria = search_criteria_tune)\n",
        "\n",
        "%time dl_grid.train(x = x, y = y, training_frame = train, validation_frame = valid)"
      ],
      "execution_count": 31,
      "outputs": [
        {
          "output_type": "stream",
          "text": [
            "deeplearning Grid Build progress: |███████████████████████████████████████| 100%\n",
            "CPU times: user 8 s, sys: 615 ms, total: 8.61 s\n",
            "Wall time: 15min\n"
          ],
          "name": "stdout"
        }
      ]
    },
    {
      "cell_type": "code",
      "metadata": {
        "colab": {
          "base_uri": "https://localhost:8080/",
          "height": 136
        },
        "id": "Y2nJdqFP93CD",
        "outputId": "a5499028-6919-46ab-cd21-3b40bb75168e"
      },
      "source": [
        "# Results from the grid search.\n",
        "hidden_per = dl_grid.get_grid(sort_by = 'rmse', decreasing = False)\n",
        "hidden_per.sorted_metric_table()"
      ],
      "execution_count": 32,
      "outputs": [
        {
          "output_type": "execute_result",
          "data": {
            "text/html": [
              "<div>\n",
              "<style scoped>\n",
              "    .dataframe tbody tr th:only-of-type {\n",
              "        vertical-align: middle;\n",
              "    }\n",
              "\n",
              "    .dataframe tbody tr th {\n",
              "        vertical-align: top;\n",
              "    }\n",
              "\n",
              "    .dataframe thead th {\n",
              "        text-align: right;\n",
              "    }\n",
              "</style>\n",
              "<table border=\"1\" class=\"dataframe\">\n",
              "  <thead>\n",
              "    <tr style=\"text-align: right;\">\n",
              "      <th></th>\n",
              "      <th></th>\n",
              "      <th>hidden</th>\n",
              "      <th>hidden_dropout_ratios</th>\n",
              "      <th>model_ids</th>\n",
              "      <th>rmse</th>\n",
              "    </tr>\n",
              "  </thead>\n",
              "  <tbody>\n",
              "    <tr>\n",
              "      <th>0</th>\n",
              "      <td></td>\n",
              "      <td>[165, 200]</td>\n",
              "      <td>[0.0, 0.0]</td>\n",
              "      <td>random_dl_grid_model_3</td>\n",
              "      <td>0.44716841633261006</td>\n",
              "    </tr>\n",
              "    <tr>\n",
              "      <th>1</th>\n",
              "      <td></td>\n",
              "      <td>[100, 100]</td>\n",
              "      <td>[0.5, 0.5]</td>\n",
              "      <td>random_dl_grid_model_2</td>\n",
              "      <td>0.4515212188796586</td>\n",
              "    </tr>\n",
              "    <tr>\n",
              "      <th>2</th>\n",
              "      <td></td>\n",
              "      <td>[165, 165]</td>\n",
              "      <td>[0.5, 0.5]</td>\n",
              "      <td>random_dl_grid_model_1</td>\n",
              "      <td>0.45706747864534597</td>\n",
              "    </tr>\n",
              "  </tbody>\n",
              "</table>\n",
              "</div>"
            ],
            "text/plain": [
              "         hidden  ...               model_ids                 rmse\n",
              "0    [165, 200]  ...  random_dl_grid_model_3  0.44716841633261006\n",
              "1    [100, 100]  ...  random_dl_grid_model_2   0.4515212188796586\n",
              "2    [165, 165]  ...  random_dl_grid_model_1  0.45706747864534597\n",
              "\n",
              "[3 rows x 5 columns]"
            ]
          },
          "metadata": {
            "tags": []
          },
          "execution_count": 32
        }
      ]
    },
    {
      "cell_type": "markdown",
      "metadata": {
        "id": "3HXa3rVpKbjq"
      },
      "source": [
        "model with the best score has a hidden_dropout_ratios of 0.01. so for the next grid search, we will use that value.\n",
        "\n",
        "We will update the parameters with the values we just found and we will do a quick exploration for l2 and max_w2\n",
        "\n",
        "1. l2: Specifies the L2 regularization to add stability and improve generalization; sets the value of many weights to smaller values. This value defaults to 0.\n",
        "\n",
        "2. max_w2: Specifies the constraint for the squared sum of the incoming weights per unit. This value defaults to 3.4028235e38"
      ]
    },
    {
      "cell_type": "code",
      "metadata": {
        "colab": {
          "base_uri": "https://localhost:8080/"
        },
        "id": "wDSDnoAOAgJa",
        "outputId": "0316b00f-3002-4f8e-d3aa-80bacd65ed65"
      },
      "source": [
        "# Getting the best model\n",
        "dl = H2ODeepLearningEstimator(epochs = 10,\n",
        "                              hidden = [165,200],\n",
        "                              hidden_dropout_ratios = [0.0,0.0],\n",
        "                              seed = 42,\n",
        "                              model_id = 'DL',\n",
        "                              activation = 'rectifier_with_dropout',\n",
        "                              stopping_rounds = 3, \n",
        "                              stopping_tolerance = 1e-3, #default\n",
        "                              stopping_metric = \"rmse\", #default\n",
        "                              adaptive_rate = True)\n",
        "\n",
        "hyper_params = {'max_w2'  : [1e38, 1e35, 1e36, 1e37, 1e34, 5e35],\n",
        "                'l2'      : [1e-7, 1e-6, 1e-5, 1e-4, 5e-4, 1e-3, 0],\n",
        "               }\n",
        "\n",
        "search_criteria_tune = {'strategy': \"RandomDiscrete\",\n",
        "                        'max_runtime_secs': 900, #15 min  \n",
        "                        'max_models': 100,  ## build no more than 100 models\n",
        "                        'seed' : 42 \n",
        "                       }\n",
        "\n",
        "dl_grid = H2OGridSearch(model = dl, \n",
        "                         hyper_params = hyper_params,\n",
        "                         grid_id = 'random_dl_search',\n",
        "                         search_criteria = search_criteria_tune)\n",
        "\n",
        "%time dl_grid.train(x = x, y = y, training_frame = train, validation_frame = valid)"
      ],
      "execution_count": 33,
      "outputs": [
        {
          "output_type": "stream",
          "text": [
            "deeplearning Grid Build progress: |███████████████████████████████████████| 100%\n",
            "CPU times: user 7.97 s, sys: 613 ms, total: 8.59 s\n",
            "Wall time: 15min\n"
          ],
          "name": "stdout"
        }
      ]
    },
    {
      "cell_type": "code",
      "metadata": {
        "colab": {
          "base_uri": "https://localhost:8080/",
          "height": 136
        },
        "id": "keclDIX3QKUq",
        "outputId": "88f391f1-5835-42be-9210-58a36770fb30"
      },
      "source": [
        "# Retrieving the results\n",
        "dl_perf = dl_grid.get_grid(sort_by = 'rmse', decreasing = False)\n",
        "dl_perf.sorted_metric_table()"
      ],
      "execution_count": 34,
      "outputs": [
        {
          "output_type": "execute_result",
          "data": {
            "text/html": [
              "<div>\n",
              "<style scoped>\n",
              "    .dataframe tbody tr th:only-of-type {\n",
              "        vertical-align: middle;\n",
              "    }\n",
              "\n",
              "    .dataframe tbody tr th {\n",
              "        vertical-align: top;\n",
              "    }\n",
              "\n",
              "    .dataframe thead th {\n",
              "        text-align: right;\n",
              "    }\n",
              "</style>\n",
              "<table border=\"1\" class=\"dataframe\">\n",
              "  <thead>\n",
              "    <tr style=\"text-align: right;\">\n",
              "      <th></th>\n",
              "      <th></th>\n",
              "      <th>l2</th>\n",
              "      <th>max_w2</th>\n",
              "      <th>model_ids</th>\n",
              "      <th>rmse</th>\n",
              "    </tr>\n",
              "  </thead>\n",
              "  <tbody>\n",
              "    <tr>\n",
              "      <th>0</th>\n",
              "      <td></td>\n",
              "      <td>1.0E-7</td>\n",
              "      <td>5.0E35</td>\n",
              "      <td>random_dl_search_model_2</td>\n",
              "      <td>0.4382983063040598</td>\n",
              "    </tr>\n",
              "    <tr>\n",
              "      <th>1</th>\n",
              "      <td></td>\n",
              "      <td>0.001</td>\n",
              "      <td>1.0E34</td>\n",
              "      <td>random_dl_search_model_1</td>\n",
              "      <td>0.4649411436661688</td>\n",
              "    </tr>\n",
              "    <tr>\n",
              "      <th>2</th>\n",
              "      <td></td>\n",
              "      <td>5.0E-4</td>\n",
              "      <td>1.0E38</td>\n",
              "      <td>random_dl_search_model_3</td>\n",
              "      <td>0.5503765892162031</td>\n",
              "    </tr>\n",
              "  </tbody>\n",
              "</table>\n",
              "</div>"
            ],
            "text/plain": [
              "         l2  max_w2                 model_ids                rmse\n",
              "0    1.0E-7  5.0E35  random_dl_search_model_2  0.4382983063040598\n",
              "1     0.001  1.0E34  random_dl_search_model_1  0.4649411436661688\n",
              "2    5.0E-4  1.0E38  random_dl_search_model_3  0.5503765892162031"
            ]
          },
          "metadata": {
            "tags": []
          },
          "execution_count": 34
        }
      ]
    },
    {
      "cell_type": "code",
      "metadata": {
        "colab": {
          "base_uri": "https://localhost:8080/"
        },
        "id": "5oxvoa52QYQ1",
        "outputId": "56372450-f675-4817-ce16-acede8833c99"
      },
      "source": [
        "# Getting the best model adjusting params from previous table\n",
        "best_dl_model = dl_grid.models[0]\n",
        "\n",
        "dl_checkpoint = H2ODeepLearningEstimator(checkpoint = best_dl_model.model_id,\n",
        "                                         epochs = 200,\n",
        "                                         hidden = [165,200],\n",
        "                                         hidden_dropout_ratios = [0.0,0.0],\n",
        "                                         adaptive_rate = True,\n",
        "                                         l2 = 1.0e-7,\n",
        "                                         max_w2 = 5e35,\n",
        "                                         reproducible = True,                                     \n",
        "                                         model_id = 'DL_checkpoint',\n",
        "                                         activation = 'rectifier_with_dropout',\n",
        "                                         distribution = 'auto',\n",
        "                                         seed = 42,\n",
        "                                         stopping_metric = 'RMSE',\n",
        "                                         stopping_tolerance = 1e-3,\n",
        "                                         stopping_rounds = 5)\n",
        "\n",
        "%time dl_checkpoint.train(x = x, y = y, training_frame = train, validation_frame = valid)"
      ],
      "execution_count": 35,
      "outputs": [
        {
          "output_type": "stream",
          "text": [
            "deeplearning Model Build progress: |██████████████████████████████████████| 100%\n",
            "CPU times: user 3.9 s, sys: 384 ms, total: 4.28 s\n",
            "Wall time: 7min 34s\n"
          ],
          "name": "stdout"
        }
      ]
    },
    {
      "cell_type": "code",
      "metadata": {
        "colab": {
          "base_uri": "https://localhost:8080/",
          "height": 1000
        },
        "id": "--INYZnAVlcV",
        "outputId": "ca855c17-7173-4080-cb83-a0551728828c"
      },
      "source": [
        "# Summary\n",
        "dl_checkpoint"
      ],
      "execution_count": 36,
      "outputs": [
        {
          "output_type": "stream",
          "text": [
            "Model Details\n",
            "=============\n",
            "H2ODeepLearningEstimator :  Deep Learning\n",
            "Model Key:  DL_checkpoint\n",
            "\n",
            "\n",
            "Status of Neuron Layers: predicting ORIGINAL_INTEREST_RATE, regression, gaussian distribution, Quadratic loss, 60,791 weights/biases, 729.0 KB, 7,006,083 training samples, mini-batch size 1\n"
          ],
          "name": "stdout"
        },
        {
          "output_type": "display_data",
          "data": {
            "text/html": [
              "<div>\n",
              "<style scoped>\n",
              "    .dataframe tbody tr th:only-of-type {\n",
              "        vertical-align: middle;\n",
              "    }\n",
              "\n",
              "    .dataframe tbody tr th {\n",
              "        vertical-align: top;\n",
              "    }\n",
              "\n",
              "    .dataframe thead th {\n",
              "        text-align: right;\n",
              "    }\n",
              "</style>\n",
              "<table border=\"1\" class=\"dataframe\">\n",
              "  <thead>\n",
              "    <tr style=\"text-align: right;\">\n",
              "      <th></th>\n",
              "      <th></th>\n",
              "      <th>layer</th>\n",
              "      <th>units</th>\n",
              "      <th>type</th>\n",
              "      <th>dropout</th>\n",
              "      <th>l1</th>\n",
              "      <th>l2</th>\n",
              "      <th>mean_rate</th>\n",
              "      <th>rate_rms</th>\n",
              "      <th>momentum</th>\n",
              "      <th>mean_weight</th>\n",
              "      <th>weight_rms</th>\n",
              "      <th>mean_bias</th>\n",
              "      <th>bias_rms</th>\n",
              "    </tr>\n",
              "  </thead>\n",
              "  <tbody>\n",
              "    <tr>\n",
              "      <th>0</th>\n",
              "      <td></td>\n",
              "      <td>1</td>\n",
              "      <td>165</td>\n",
              "      <td>Input</td>\n",
              "      <td>0</td>\n",
              "      <td></td>\n",
              "      <td></td>\n",
              "      <td></td>\n",
              "      <td></td>\n",
              "      <td></td>\n",
              "      <td></td>\n",
              "      <td></td>\n",
              "      <td></td>\n",
              "      <td></td>\n",
              "    </tr>\n",
              "    <tr>\n",
              "      <th>1</th>\n",
              "      <td></td>\n",
              "      <td>2</td>\n",
              "      <td>165</td>\n",
              "      <td>RectifierDropout</td>\n",
              "      <td>0</td>\n",
              "      <td>0</td>\n",
              "      <td>1e-07</td>\n",
              "      <td>0.0545315</td>\n",
              "      <td>0.213513</td>\n",
              "      <td>0</td>\n",
              "      <td>-0.0225169</td>\n",
              "      <td>0.217645</td>\n",
              "      <td>-0.215387</td>\n",
              "      <td>0.303663</td>\n",
              "    </tr>\n",
              "    <tr>\n",
              "      <th>2</th>\n",
              "      <td></td>\n",
              "      <td>3</td>\n",
              "      <td>200</td>\n",
              "      <td>RectifierDropout</td>\n",
              "      <td>0</td>\n",
              "      <td>0</td>\n",
              "      <td>1e-07</td>\n",
              "      <td>0.044882</td>\n",
              "      <td>0.042889</td>\n",
              "      <td>0</td>\n",
              "      <td>-0.0553149</td>\n",
              "      <td>0.143619</td>\n",
              "      <td>-0.162047</td>\n",
              "      <td>0.469052</td>\n",
              "    </tr>\n",
              "    <tr>\n",
              "      <th>3</th>\n",
              "      <td></td>\n",
              "      <td>4</td>\n",
              "      <td>1</td>\n",
              "      <td>Linear</td>\n",
              "      <td></td>\n",
              "      <td>0</td>\n",
              "      <td>1e-07</td>\n",
              "      <td>0.00126875</td>\n",
              "      <td>0.000891436</td>\n",
              "      <td>0</td>\n",
              "      <td>0.00720718</td>\n",
              "      <td>0.0965265</td>\n",
              "      <td>0.964912</td>\n",
              "      <td>1.09713e-154</td>\n",
              "    </tr>\n",
              "  </tbody>\n",
              "</table>\n",
              "</div>"
            ],
            "text/plain": [
              "     layer  units  ... weight_rms mean_bias      bias_rms\n",
              "0        1    165  ...                                   \n",
              "1        2    165  ...   0.217645 -0.215387      0.303663\n",
              "2        3    200  ...   0.143619 -0.162047      0.469052\n",
              "3        4      1  ...  0.0965265  0.964912  1.09713e-154\n",
              "\n",
              "[4 rows x 14 columns]"
            ]
          },
          "metadata": {
            "tags": []
          }
        },
        {
          "output_type": "stream",
          "text": [
            "\n",
            "\n",
            "ModelMetricsRegression: deeplearning\n",
            "** Reported on train data. **\n",
            "\n",
            "MSE: 0.16588999526164383\n",
            "RMSE: 0.4072959553710837\n",
            "MAE: 0.29554264145486064\n",
            "RMSLE: 0.04841754979670431\n",
            "Mean Residual Deviance: 0.16588999526164383\n",
            "\n",
            "ModelMetricsRegression: deeplearning\n",
            "** Reported on validation data. **\n",
            "\n",
            "MSE: 0.17321780362259534\n",
            "RMSE: 0.41619443007156565\n",
            "MAE: 0.3022720282708301\n",
            "RMSLE: 0.04940931961450505\n",
            "Mean Residual Deviance: 0.17321780362259534\n",
            "\n",
            "Scoring History: \n"
          ],
          "name": "stdout"
        },
        {
          "output_type": "display_data",
          "data": {
            "text/html": [
              "<div>\n",
              "<style scoped>\n",
              "    .dataframe tbody tr th:only-of-type {\n",
              "        vertical-align: middle;\n",
              "    }\n",
              "\n",
              "    .dataframe tbody tr th {\n",
              "        vertical-align: top;\n",
              "    }\n",
              "\n",
              "    .dataframe thead th {\n",
              "        text-align: right;\n",
              "    }\n",
              "</style>\n",
              "<table border=\"1\" class=\"dataframe\">\n",
              "  <thead>\n",
              "    <tr style=\"text-align: right;\">\n",
              "      <th></th>\n",
              "      <th></th>\n",
              "      <th>timestamp</th>\n",
              "      <th>duration</th>\n",
              "      <th>training_speed</th>\n",
              "      <th>epochs</th>\n",
              "      <th>iterations</th>\n",
              "      <th>samples</th>\n",
              "      <th>training_rmse</th>\n",
              "      <th>training_deviance</th>\n",
              "      <th>training_mae</th>\n",
              "      <th>training_r2</th>\n",
              "      <th>validation_rmse</th>\n",
              "      <th>validation_deviance</th>\n",
              "      <th>validation_mae</th>\n",
              "      <th>validation_r2</th>\n",
              "    </tr>\n",
              "  </thead>\n",
              "  <tbody>\n",
              "    <tr>\n",
              "      <th>0</th>\n",
              "      <td></td>\n",
              "      <td>2021-04-30 19:35:30</td>\n",
              "      <td>0.000 sec</td>\n",
              "      <td>None</td>\n",
              "      <td>0.000000</td>\n",
              "      <td>0</td>\n",
              "      <td>0.0</td>\n",
              "      <td>NaN</td>\n",
              "      <td>NaN</td>\n",
              "      <td>NaN</td>\n",
              "      <td>NaN</td>\n",
              "      <td>NaN</td>\n",
              "      <td>NaN</td>\n",
              "      <td>NaN</td>\n",
              "      <td>NaN</td>\n",
              "    </tr>\n",
              "    <tr>\n",
              "      <th>1</th>\n",
              "      <td></td>\n",
              "      <td>2021-04-30 19:35:32</td>\n",
              "      <td>6 min 55.012 sec</td>\n",
              "      <td>2088 obs/sec</td>\n",
              "      <td>0.015979</td>\n",
              "      <td>1</td>\n",
              "      <td>5597.0</td>\n",
              "      <td>0.540979</td>\n",
              "      <td>0.292658</td>\n",
              "      <td>0.410515</td>\n",
              "      <td>0.109215</td>\n",
              "      <td>0.540927</td>\n",
              "      <td>0.292602</td>\n",
              "      <td>0.410147</td>\n",
              "      <td>0.123641</td>\n",
              "    </tr>\n",
              "    <tr>\n",
              "      <th>2</th>\n",
              "      <td></td>\n",
              "      <td>2021-04-30 19:36:44</td>\n",
              "      <td>8 min  4.901 sec</td>\n",
              "      <td>7172 obs/sec</td>\n",
              "      <td>1.374599</td>\n",
              "      <td>85</td>\n",
              "      <td>481478.0</td>\n",
              "      <td>0.456079</td>\n",
              "      <td>0.208008</td>\n",
              "      <td>0.330599</td>\n",
              "      <td>0.366871</td>\n",
              "      <td>0.457127</td>\n",
              "      <td>0.208965</td>\n",
              "      <td>0.333123</td>\n",
              "      <td>0.374138</td>\n",
              "    </tr>\n",
              "    <tr>\n",
              "      <th>3</th>\n",
              "      <td></td>\n",
              "      <td>2021-04-30 19:37:39</td>\n",
              "      <td>8 min 59.874 sec</td>\n",
              "      <td>8204 obs/sec</td>\n",
              "      <td>2.732656</td>\n",
              "      <td>169</td>\n",
              "      <td>957162.0</td>\n",
              "      <td>0.457669</td>\n",
              "      <td>0.209461</td>\n",
              "      <td>0.333159</td>\n",
              "      <td>0.362449</td>\n",
              "      <td>0.458158</td>\n",
              "      <td>0.209908</td>\n",
              "      <td>0.334117</td>\n",
              "      <td>0.371314</td>\n",
              "    </tr>\n",
              "    <tr>\n",
              "      <th>4</th>\n",
              "      <td></td>\n",
              "      <td>2021-04-30 19:38:33</td>\n",
              "      <td>9 min 54.409 sec</td>\n",
              "      <td>8610 obs/sec</td>\n",
              "      <td>4.072562</td>\n",
              "      <td>252</td>\n",
              "      <td>1426488.0</td>\n",
              "      <td>0.442843</td>\n",
              "      <td>0.196110</td>\n",
              "      <td>0.328466</td>\n",
              "      <td>0.403086</td>\n",
              "      <td>0.445106</td>\n",
              "      <td>0.198120</td>\n",
              "      <td>0.331090</td>\n",
              "      <td>0.406622</td>\n",
              "    </tr>\n",
              "    <tr>\n",
              "      <th>5</th>\n",
              "      <td></td>\n",
              "      <td>2021-04-30 19:39:29</td>\n",
              "      <td>10 min 49.595 sec</td>\n",
              "      <td>8958 obs/sec</td>\n",
              "      <td>5.508819</td>\n",
              "      <td>341</td>\n",
              "      <td>1929563.0</td>\n",
              "      <td>0.440240</td>\n",
              "      <td>0.193811</td>\n",
              "      <td>0.319894</td>\n",
              "      <td>0.410083</td>\n",
              "      <td>0.443120</td>\n",
              "      <td>0.196356</td>\n",
              "      <td>0.322337</td>\n",
              "      <td>0.411905</td>\n",
              "    </tr>\n",
              "    <tr>\n",
              "      <th>6</th>\n",
              "      <td></td>\n",
              "      <td>2021-04-30 19:40:23</td>\n",
              "      <td>11 min 44.383 sec</td>\n",
              "      <td>9170 obs/sec</td>\n",
              "      <td>6.929768</td>\n",
              "      <td>429</td>\n",
              "      <td>2427276.0</td>\n",
              "      <td>0.434372</td>\n",
              "      <td>0.188679</td>\n",
              "      <td>0.324185</td>\n",
              "      <td>0.425705</td>\n",
              "      <td>0.438936</td>\n",
              "      <td>0.192665</td>\n",
              "      <td>0.327849</td>\n",
              "      <td>0.422959</td>\n",
              "    </tr>\n",
              "    <tr>\n",
              "      <th>7</th>\n",
              "      <td></td>\n",
              "      <td>2021-04-30 19:41:19</td>\n",
              "      <td>12 min 40.015 sec</td>\n",
              "      <td>9315 obs/sec</td>\n",
              "      <td>8.370719</td>\n",
              "      <td>518</td>\n",
              "      <td>2931995.0</td>\n",
              "      <td>0.437282</td>\n",
              "      <td>0.191216</td>\n",
              "      <td>0.315966</td>\n",
              "      <td>0.417983</td>\n",
              "      <td>0.443286</td>\n",
              "      <td>0.196502</td>\n",
              "      <td>0.321145</td>\n",
              "      <td>0.411466</td>\n",
              "    </tr>\n",
              "    <tr>\n",
              "      <th>8</th>\n",
              "      <td></td>\n",
              "      <td>2021-04-30 19:42:15</td>\n",
              "      <td>13 min 36.252 sec</td>\n",
              "      <td>9292 obs/sec</td>\n",
              "      <td>9.694797</td>\n",
              "      <td>600</td>\n",
              "      <td>3395777.0</td>\n",
              "      <td>0.434745</td>\n",
              "      <td>0.189003</td>\n",
              "      <td>0.319700</td>\n",
              "      <td>0.424716</td>\n",
              "      <td>0.439368</td>\n",
              "      <td>0.193044</td>\n",
              "      <td>0.323561</td>\n",
              "      <td>0.421823</td>\n",
              "    </tr>\n",
              "    <tr>\n",
              "      <th>9</th>\n",
              "      <td></td>\n",
              "      <td>2021-04-30 19:42:33</td>\n",
              "      <td>13 min 53.580 sec</td>\n",
              "      <td>9288 obs/sec</td>\n",
              "      <td>10.002064</td>\n",
              "      <td>619</td>\n",
              "      <td>3503403.0</td>\n",
              "      <td>0.432355</td>\n",
              "      <td>0.186931</td>\n",
              "      <td>0.316479</td>\n",
              "      <td>0.431024</td>\n",
              "      <td>0.438298</td>\n",
              "      <td>0.192105</td>\n",
              "      <td>0.320446</td>\n",
              "      <td>0.424635</td>\n",
              "    </tr>\n",
              "    <tr>\n",
              "      <th>10</th>\n",
              "      <td></td>\n",
              "      <td>2021-04-30 19:53:54</td>\n",
              "      <td>14 min 41.074 sec</td>\n",
              "      <td>9222 obs/sec</td>\n",
              "      <td>11.002064</td>\n",
              "      <td>620</td>\n",
              "      <td>3853671.0</td>\n",
              "      <td>0.407450</td>\n",
              "      <td>0.166016</td>\n",
              "      <td>0.294584</td>\n",
              "      <td>0.494686</td>\n",
              "      <td>0.416619</td>\n",
              "      <td>0.173571</td>\n",
              "      <td>0.301574</td>\n",
              "      <td>0.480146</td>\n",
              "    </tr>\n",
              "    <tr>\n",
              "      <th>11</th>\n",
              "      <td></td>\n",
              "      <td>2021-04-30 19:54:39</td>\n",
              "      <td>15 min 25.572 sec</td>\n",
              "      <td>9204 obs/sec</td>\n",
              "      <td>12.002064</td>\n",
              "      <td>621</td>\n",
              "      <td>4203939.0</td>\n",
              "      <td>0.409850</td>\n",
              "      <td>0.167977</td>\n",
              "      <td>0.295679</td>\n",
              "      <td>0.488716</td>\n",
              "      <td>0.418546</td>\n",
              "      <td>0.175181</td>\n",
              "      <td>0.302450</td>\n",
              "      <td>0.475325</td>\n",
              "    </tr>\n",
              "    <tr>\n",
              "      <th>12</th>\n",
              "      <td></td>\n",
              "      <td>2021-04-30 19:55:23</td>\n",
              "      <td>16 min 10.019 sec</td>\n",
              "      <td>9191 obs/sec</td>\n",
              "      <td>13.002064</td>\n",
              "      <td>622</td>\n",
              "      <td>4554207.0</td>\n",
              "      <td>0.407296</td>\n",
              "      <td>0.165890</td>\n",
              "      <td>0.295543</td>\n",
              "      <td>0.495069</td>\n",
              "      <td>0.416194</td>\n",
              "      <td>0.173218</td>\n",
              "      <td>0.302272</td>\n",
              "      <td>0.481204</td>\n",
              "    </tr>\n",
              "    <tr>\n",
              "      <th>13</th>\n",
              "      <td></td>\n",
              "      <td>2021-04-30 19:56:08</td>\n",
              "      <td>16 min 54.432 sec</td>\n",
              "      <td>9180 obs/sec</td>\n",
              "      <td>14.002064</td>\n",
              "      <td>623</td>\n",
              "      <td>4904475.0</td>\n",
              "      <td>0.405687</td>\n",
              "      <td>0.164582</td>\n",
              "      <td>0.293259</td>\n",
              "      <td>0.499050</td>\n",
              "      <td>0.416416</td>\n",
              "      <td>0.173402</td>\n",
              "      <td>0.300907</td>\n",
              "      <td>0.480652</td>\n",
              "    </tr>\n",
              "    <tr>\n",
              "      <th>14</th>\n",
              "      <td></td>\n",
              "      <td>2021-04-30 19:56:52</td>\n",
              "      <td>17 min 38.912 sec</td>\n",
              "      <td>9169 obs/sec</td>\n",
              "      <td>15.002064</td>\n",
              "      <td>624</td>\n",
              "      <td>5254743.0</td>\n",
              "      <td>0.408145</td>\n",
              "      <td>0.166582</td>\n",
              "      <td>0.301059</td>\n",
              "      <td>0.492962</td>\n",
              "      <td>0.418554</td>\n",
              "      <td>0.175188</td>\n",
              "      <td>0.308420</td>\n",
              "      <td>0.475304</td>\n",
              "    </tr>\n",
              "    <tr>\n",
              "      <th>15</th>\n",
              "      <td></td>\n",
              "      <td>2021-04-30 19:57:37</td>\n",
              "      <td>18 min 23.298 sec</td>\n",
              "      <td>9160 obs/sec</td>\n",
              "      <td>16.002064</td>\n",
              "      <td>625</td>\n",
              "      <td>5605011.0</td>\n",
              "      <td>0.411188</td>\n",
              "      <td>0.169076</td>\n",
              "      <td>0.307908</td>\n",
              "      <td>0.485371</td>\n",
              "      <td>0.421878</td>\n",
              "      <td>0.177981</td>\n",
              "      <td>0.315899</td>\n",
              "      <td>0.466939</td>\n",
              "    </tr>\n",
              "    <tr>\n",
              "      <th>16</th>\n",
              "      <td></td>\n",
              "      <td>2021-04-30 19:58:23</td>\n",
              "      <td>19 min  9.329 sec</td>\n",
              "      <td>9130 obs/sec</td>\n",
              "      <td>17.002064</td>\n",
              "      <td>626</td>\n",
              "      <td>5955279.0</td>\n",
              "      <td>0.401783</td>\n",
              "      <td>0.161430</td>\n",
              "      <td>0.288548</td>\n",
              "      <td>0.508645</td>\n",
              "      <td>0.417195</td>\n",
              "      <td>0.174052</td>\n",
              "      <td>0.299277</td>\n",
              "      <td>0.478707</td>\n",
              "    </tr>\n",
              "    <tr>\n",
              "      <th>17</th>\n",
              "      <td></td>\n",
              "      <td>2021-04-30 19:59:07</td>\n",
              "      <td>19 min 54.052 sec</td>\n",
              "      <td>9121 obs/sec</td>\n",
              "      <td>18.002064</td>\n",
              "      <td>627</td>\n",
              "      <td>6305547.0</td>\n",
              "      <td>0.401338</td>\n",
              "      <td>0.161072</td>\n",
              "      <td>0.293077</td>\n",
              "      <td>0.509733</td>\n",
              "      <td>0.416964</td>\n",
              "      <td>0.173859</td>\n",
              "      <td>0.304079</td>\n",
              "      <td>0.479285</td>\n",
              "    </tr>\n",
              "    <tr>\n",
              "      <th>18</th>\n",
              "      <td></td>\n",
              "      <td>2021-04-30 19:59:52</td>\n",
              "      <td>20 min 38.448 sec</td>\n",
              "      <td>9116 obs/sec</td>\n",
              "      <td>19.002064</td>\n",
              "      <td>628</td>\n",
              "      <td>6655815.0</td>\n",
              "      <td>0.402905</td>\n",
              "      <td>0.162332</td>\n",
              "      <td>0.291227</td>\n",
              "      <td>0.505897</td>\n",
              "      <td>0.417066</td>\n",
              "      <td>0.173944</td>\n",
              "      <td>0.301926</td>\n",
              "      <td>0.479030</td>\n",
              "    </tr>\n",
              "    <tr>\n",
              "      <th>19</th>\n",
              "      <td></td>\n",
              "      <td>2021-04-30 20:00:36</td>\n",
              "      <td>21 min 22.736 sec</td>\n",
              "      <td>9113 obs/sec</td>\n",
              "      <td>20.002064</td>\n",
              "      <td>629</td>\n",
              "      <td>7006083.0</td>\n",
              "      <td>0.402670</td>\n",
              "      <td>0.162143</td>\n",
              "      <td>0.288300</td>\n",
              "      <td>0.506472</td>\n",
              "      <td>0.417788</td>\n",
              "      <td>0.174547</td>\n",
              "      <td>0.299563</td>\n",
              "      <td>0.477223</td>\n",
              "    </tr>\n",
              "  </tbody>\n",
              "</table>\n",
              "</div>"
            ],
            "text/plain": [
              "                timestamp  ... validation_mae validation_r2\n",
              "0     2021-04-30 19:35:30  ...            NaN           NaN\n",
              "1     2021-04-30 19:35:32  ...       0.410147      0.123641\n",
              "2     2021-04-30 19:36:44  ...       0.333123      0.374138\n",
              "3     2021-04-30 19:37:39  ...       0.334117      0.371314\n",
              "4     2021-04-30 19:38:33  ...       0.331090      0.406622\n",
              "5     2021-04-30 19:39:29  ...       0.322337      0.411905\n",
              "6     2021-04-30 19:40:23  ...       0.327849      0.422959\n",
              "7     2021-04-30 19:41:19  ...       0.321145      0.411466\n",
              "8     2021-04-30 19:42:15  ...       0.323561      0.421823\n",
              "9     2021-04-30 19:42:33  ...       0.320446      0.424635\n",
              "10    2021-04-30 19:53:54  ...       0.301574      0.480146\n",
              "11    2021-04-30 19:54:39  ...       0.302450      0.475325\n",
              "12    2021-04-30 19:55:23  ...       0.302272      0.481204\n",
              "13    2021-04-30 19:56:08  ...       0.300907      0.480652\n",
              "14    2021-04-30 19:56:52  ...       0.308420      0.475304\n",
              "15    2021-04-30 19:57:37  ...       0.315899      0.466939\n",
              "16    2021-04-30 19:58:23  ...       0.299277      0.478707\n",
              "17    2021-04-30 19:59:07  ...       0.304079      0.479285\n",
              "18    2021-04-30 19:59:52  ...       0.301926      0.479030\n",
              "19    2021-04-30 20:00:36  ...       0.299563      0.477223\n",
              "\n",
              "[20 rows x 15 columns]"
            ]
          },
          "metadata": {
            "tags": []
          }
        },
        {
          "output_type": "stream",
          "text": [
            "\n",
            "See the whole table with table.as_data_frame()\n",
            "\n",
            "Variable Importances: \n"
          ],
          "name": "stdout"
        },
        {
          "output_type": "display_data",
          "data": {
            "text/html": [
              "<div>\n",
              "<style scoped>\n",
              "    .dataframe tbody tr th:only-of-type {\n",
              "        vertical-align: middle;\n",
              "    }\n",
              "\n",
              "    .dataframe tbody tr th {\n",
              "        vertical-align: top;\n",
              "    }\n",
              "\n",
              "    .dataframe thead th {\n",
              "        text-align: right;\n",
              "    }\n",
              "</style>\n",
              "<table border=\"1\" class=\"dataframe\">\n",
              "  <thead>\n",
              "    <tr style=\"text-align: right;\">\n",
              "      <th></th>\n",
              "      <th>variable</th>\n",
              "      <th>relative_importance</th>\n",
              "      <th>scaled_importance</th>\n",
              "      <th>percentage</th>\n",
              "    </tr>\n",
              "  </thead>\n",
              "  <tbody>\n",
              "    <tr>\n",
              "      <th>0</th>\n",
              "      <td>SELLER_NAME.WELLSFARGOHOMEMORTGA</td>\n",
              "      <td>1.000000</td>\n",
              "      <td>1.000000</td>\n",
              "      <td>0.012281</td>\n",
              "    </tr>\n",
              "    <tr>\n",
              "      <th>1</th>\n",
              "      <td>SELLER_NAME.NORWESTMORTGAGE,INC</td>\n",
              "      <td>0.998609</td>\n",
              "      <td>0.998609</td>\n",
              "      <td>0.012264</td>\n",
              "    </tr>\n",
              "    <tr>\n",
              "      <th>2</th>\n",
              "      <td>SELLER_NAME.ABNAMROMTGEGROUP,INC</td>\n",
              "      <td>0.945330</td>\n",
              "      <td>0.945330</td>\n",
              "      <td>0.011610</td>\n",
              "    </tr>\n",
              "    <tr>\n",
              "      <th>3</th>\n",
              "      <td>SERVICER_NAME.ABNAMROMTGEGROUP,INC</td>\n",
              "      <td>0.929965</td>\n",
              "      <td>0.929965</td>\n",
              "      <td>0.011421</td>\n",
              "    </tr>\n",
              "    <tr>\n",
              "      <th>4</th>\n",
              "      <td>SELLER_NAME.Other sellers</td>\n",
              "      <td>0.896837</td>\n",
              "      <td>0.896837</td>\n",
              "      <td>0.011014</td>\n",
              "    </tr>\n",
              "    <tr>\n",
              "      <th>5</th>\n",
              "      <td>SELLER_NAME.NORWEST MORTGAGE, IN</td>\n",
              "      <td>0.838642</td>\n",
              "      <td>0.838642</td>\n",
              "      <td>0.010299</td>\n",
              "    </tr>\n",
              "    <tr>\n",
              "      <th>6</th>\n",
              "      <td>OCCUPANCY_STATUS.O</td>\n",
              "      <td>0.831505</td>\n",
              "      <td>0.831505</td>\n",
              "      <td>0.010212</td>\n",
              "    </tr>\n",
              "    <tr>\n",
              "      <th>7</th>\n",
              "      <td>SELLER_NAME.BISHOPSGATERESIDENTI</td>\n",
              "      <td>0.800768</td>\n",
              "      <td>0.800768</td>\n",
              "      <td>0.009834</td>\n",
              "    </tr>\n",
              "    <tr>\n",
              "      <th>8</th>\n",
              "      <td>SELLER_NAME.NATLCITYMTGECO</td>\n",
              "      <td>0.792082</td>\n",
              "      <td>0.792082</td>\n",
              "      <td>0.009728</td>\n",
              "    </tr>\n",
              "    <tr>\n",
              "      <th>9</th>\n",
              "      <td>SELLER_NAME.BANKOFAMERICA,NA</td>\n",
              "      <td>0.785161</td>\n",
              "      <td>0.785161</td>\n",
              "      <td>0.009643</td>\n",
              "    </tr>\n",
              "    <tr>\n",
              "      <th>10</th>\n",
              "      <td>SELLER_NAME.NAMCO ASSET MANAGEME</td>\n",
              "      <td>0.782589</td>\n",
              "      <td>0.782589</td>\n",
              "      <td>0.009611</td>\n",
              "    </tr>\n",
              "    <tr>\n",
              "      <th>11</th>\n",
              "      <td>LOAN_PURPOSE.N</td>\n",
              "      <td>0.781789</td>\n",
              "      <td>0.781789</td>\n",
              "      <td>0.009601</td>\n",
              "    </tr>\n",
              "    <tr>\n",
              "      <th>12</th>\n",
              "      <td>SELLER_NAME.CHASEMANHATTANMTGECO</td>\n",
              "      <td>0.773683</td>\n",
              "      <td>0.773683</td>\n",
              "      <td>0.009502</td>\n",
              "    </tr>\n",
              "    <tr>\n",
              "      <th>13</th>\n",
              "      <td>SELLER_NAME.CROSSLANDMTGECORP</td>\n",
              "      <td>0.766132</td>\n",
              "      <td>0.766132</td>\n",
              "      <td>0.009409</td>\n",
              "    </tr>\n",
              "    <tr>\n",
              "      <th>14</th>\n",
              "      <td>SERVICER_NAME.Other servicers</td>\n",
              "      <td>0.760751</td>\n",
              "      <td>0.760751</td>\n",
              "      <td>0.009343</td>\n",
              "    </tr>\n",
              "    <tr>\n",
              "      <th>15</th>\n",
              "      <td>SERVICER_NAME.WELLSFARGOHOMEMORTGA</td>\n",
              "      <td>0.757548</td>\n",
              "      <td>0.757548</td>\n",
              "      <td>0.009304</td>\n",
              "    </tr>\n",
              "    <tr>\n",
              "      <th>16</th>\n",
              "      <td>SELLER_NAME.STANDARD FEDERAL BAN</td>\n",
              "      <td>0.744343</td>\n",
              "      <td>0.744343</td>\n",
              "      <td>0.009141</td>\n",
              "    </tr>\n",
              "    <tr>\n",
              "      <th>17</th>\n",
              "      <td>SELLER_NAME.FIRST UNION CAPITAL</td>\n",
              "      <td>0.740474</td>\n",
              "      <td>0.740474</td>\n",
              "      <td>0.009094</td>\n",
              "    </tr>\n",
              "    <tr>\n",
              "      <th>18</th>\n",
              "      <td>CHANNEL.T</td>\n",
              "      <td>0.739578</td>\n",
              "      <td>0.739578</td>\n",
              "      <td>0.009083</td>\n",
              "    </tr>\n",
              "    <tr>\n",
              "      <th>19</th>\n",
              "      <td>SELLER_NAME.COUNTRYWIDE HOME LOA</td>\n",
              "      <td>0.738384</td>\n",
              "      <td>0.738384</td>\n",
              "      <td>0.009068</td>\n",
              "    </tr>\n",
              "  </tbody>\n",
              "</table>\n",
              "</div>"
            ],
            "text/plain": [
              "                              variable  ...  percentage\n",
              "0     SELLER_NAME.WELLSFARGOHOMEMORTGA  ...    0.012281\n",
              "1      SELLER_NAME.NORWESTMORTGAGE,INC  ...    0.012264\n",
              "2     SELLER_NAME.ABNAMROMTGEGROUP,INC  ...    0.011610\n",
              "3   SERVICER_NAME.ABNAMROMTGEGROUP,INC  ...    0.011421\n",
              "4            SELLER_NAME.Other sellers  ...    0.011014\n",
              "5     SELLER_NAME.NORWEST MORTGAGE, IN  ...    0.010299\n",
              "6                   OCCUPANCY_STATUS.O  ...    0.010212\n",
              "7     SELLER_NAME.BISHOPSGATERESIDENTI  ...    0.009834\n",
              "8           SELLER_NAME.NATLCITYMTGECO  ...    0.009728\n",
              "9         SELLER_NAME.BANKOFAMERICA,NA  ...    0.009643\n",
              "10    SELLER_NAME.NAMCO ASSET MANAGEME  ...    0.009611\n",
              "11                      LOAN_PURPOSE.N  ...    0.009601\n",
              "12    SELLER_NAME.CHASEMANHATTANMTGECO  ...    0.009502\n",
              "13       SELLER_NAME.CROSSLANDMTGECORP  ...    0.009409\n",
              "14       SERVICER_NAME.Other servicers  ...    0.009343\n",
              "15  SERVICER_NAME.WELLSFARGOHOMEMORTGA  ...    0.009304\n",
              "16    SELLER_NAME.STANDARD FEDERAL BAN  ...    0.009141\n",
              "17     SELLER_NAME.FIRST UNION CAPITAL  ...    0.009094\n",
              "18                           CHANNEL.T  ...    0.009083\n",
              "19    SELLER_NAME.COUNTRYWIDE HOME LOA  ...    0.009068\n",
              "\n",
              "[20 rows x 4 columns]"
            ]
          },
          "metadata": {
            "tags": []
          }
        },
        {
          "output_type": "stream",
          "text": [
            "\n",
            "See the whole table with table.as_data_frame()\n"
          ],
          "name": "stdout"
        },
        {
          "output_type": "execute_result",
          "data": {
            "text/plain": [
              ""
            ]
          },
          "metadata": {
            "tags": []
          },
          "execution_count": 36
        }
      ]
    },
    {
      "cell_type": "code",
      "metadata": {
        "colab": {
          "base_uri": "https://localhost:8080/"
        },
        "id": "b1McnfutVv4h",
        "outputId": "3c85e0dd-6e83-488c-ca65-5aeab377334e"
      },
      "source": [
        "# Let's see how our default model performance compares to the tuned one\n",
        "tuned_dl_per = dl_checkpoint.model_performance(valid)\n",
        "print(\"Default DL Model RMSE: %.4f \\nTuned DL Model RMSE:%.4f\" % (default_dl_per.rmse(), tuned_dl_per.rmse()))"
      ],
      "execution_count": 37,
      "outputs": [
        {
          "output_type": "stream",
          "text": [
            "Default DL Model RMSE: 0.4521 \n",
            "Tuned DL Model RMSE:0.4162\n"
          ],
          "name": "stdout"
        }
      ]
    },
    {
      "cell_type": "code",
      "metadata": {
        "colab": {
          "base_uri": "https://localhost:8080/"
        },
        "id": "68Jq_pLZV2im",
        "outputId": "dbeb77ec-e678-4670-f363-637eaf64c0d2"
      },
      "source": [
        "# Now print the MAE of both models\n",
        "print(\"Default DL Model MAE: %.4f \\nTuned DL Model MAE:%.4f\" % (default_dl_per.mae(), tuned_dl_per.mae()))"
      ],
      "execution_count": 38,
      "outputs": [
        {
          "output_type": "stream",
          "text": [
            "Default DL Model MAE: 0.3457 \n",
            "Tuned DL Model MAE:0.3023\n"
          ],
          "name": "stdout"
        }
      ]
    },
    {
      "cell_type": "markdown",
      "metadata": {
        "id": "ifaS3s14Yk85"
      },
      "source": [
        "### Task 8: Test Set Performance"
      ]
    },
    {
      "cell_type": "markdown",
      "metadata": {
        "id": "KvpzHyOjaZUQ"
      },
      "source": [
        "we will see how the models would perform on unseen data. Let's first print the final RMSE for both models. To do so, we need to evaluate the performance of our models on the test set."
      ]
    },
    {
      "cell_type": "code",
      "metadata": {
        "id": "ptGpIGysYkGf"
      },
      "source": [
        "dl_test_per = dl_checkpoint.model_performance(test)\n",
        "xgb_test_per = best_xgb_model.model_performance(test)"
      ],
      "execution_count": 39,
      "outputs": []
    },
    {
      "cell_type": "code",
      "metadata": {
        "colab": {
          "base_uri": "https://localhost:8080/"
        },
        "id": "dlgYqr6YacPA",
        "outputId": "b1f99146-d160-47e7-9006-de4544053540"
      },
      "source": [
        "# Printing RMSE\n",
        "print(\"XGBoost Test RMSE: %.4f  \\nDeep Learning Model Test RMSE: %.4f \" % \n",
        "      (xgb_test_per.rmse(), dl_test_per.rmse()))"
      ],
      "execution_count": 40,
      "outputs": [
        {
          "output_type": "stream",
          "text": [
            "XGBoost Test RMSE: 0.4145  \n",
            "Deep Learning Model Test RMSE: 0.4188 \n"
          ],
          "name": "stdout"
        }
      ]
    },
    {
      "cell_type": "code",
      "metadata": {
        "colab": {
          "base_uri": "https://localhost:8080/"
        },
        "id": "YNnbIB1aaiQ0",
        "outputId": "f68bdc68-c674-4a05-b486-da2f8d1978b1"
      },
      "source": [
        "# Printing MAE score\n",
        "print(\"XGBoost Test MAE: %.4f  \\nDeep Learning model Test MAE: %.4f \" % \n",
        "      (xgb_test_per.mae(), dl_test_per.mae()))"
      ],
      "execution_count": 41,
      "outputs": [
        {
          "output_type": "stream",
          "text": [
            "XGBoost Test MAE: 0.3004  \n",
            "Deep Learning model Test MAE: 0.3034 \n"
          ],
          "name": "stdout"
        }
      ]
    },
    {
      "cell_type": "code",
      "metadata": {
        "colab": {
          "base_uri": "https://localhost:8080/",
          "height": 272
        },
        "id": "RtTaSFMEavJ3",
        "outputId": "1ca7596e-7678-426a-d49d-0f9b304b7623"
      },
      "source": [
        "# take a look at the first ten predictions of both models, compared to the actual interest value.\n",
        "xgb_tuned_pred = best_xgb_model.predict(test) #get predictions from xgboost\n",
        "test_rate_pred = test['ORIGINAL_INTEREST_RATE'].cbind(xgb_tuned_pred)#combined xgb predictions with actual interest rate\n",
        "dl_tuned_pred = dl_checkpoint.predict(test)#get predictions from Deep Learning Model\n",
        "test_rate_pred.cbind(dl_tuned_pred)"
      ],
      "execution_count": 44,
      "outputs": [
        {
          "output_type": "stream",
          "text": [
            "xgboost prediction progress: |████████████████████████████████████████████| 100%\n",
            "deeplearning prediction progress: |███████████████████████████████████████| 100%\n"
          ],
          "name": "stdout"
        },
        {
          "output_type": "display_data",
          "data": {
            "text/html": [
              "<table>\n",
              "<thead>\n",
              "<tr><th style=\"text-align: right;\">  ORIGINAL_INTEREST_RATE</th><th style=\"text-align: right;\">  predict</th><th style=\"text-align: right;\">  predict0</th></tr>\n",
              "</thead>\n",
              "<tbody>\n",
              "<tr><td style=\"text-align: right;\">                   6    </td><td style=\"text-align: right;\">  6.85946</td><td style=\"text-align: right;\">   7.12726</td></tr>\n",
              "<tr><td style=\"text-align: right;\">                   6    </td><td style=\"text-align: right;\">  5.70323</td><td style=\"text-align: right;\">   6.48198</td></tr>\n",
              "<tr><td style=\"text-align: right;\">                   7.25 </td><td style=\"text-align: right;\">  7.04273</td><td style=\"text-align: right;\">   7.08946</td></tr>\n",
              "<tr><td style=\"text-align: right;\">                   7.125</td><td style=\"text-align: right;\">  7.0556 </td><td style=\"text-align: right;\">   7.10863</td></tr>\n",
              "<tr><td style=\"text-align: right;\">                   7.125</td><td style=\"text-align: right;\">  7.1983 </td><td style=\"text-align: right;\">   7.10485</td></tr>\n",
              "<tr><td style=\"text-align: right;\">                   7.75 </td><td style=\"text-align: right;\">  7.03166</td><td style=\"text-align: right;\">   6.97342</td></tr>\n",
              "<tr><td style=\"text-align: right;\">                   6.99 </td><td style=\"text-align: right;\">  6.9572 </td><td style=\"text-align: right;\">   6.78092</td></tr>\n",
              "<tr><td style=\"text-align: right;\">                   7.125</td><td style=\"text-align: right;\">  7.2008 </td><td style=\"text-align: right;\">   7.14446</td></tr>\n",
              "<tr><td style=\"text-align: right;\">                   7.25 </td><td style=\"text-align: right;\">  6.97059</td><td style=\"text-align: right;\">   7.04672</td></tr>\n",
              "<tr><td style=\"text-align: right;\">                   7.125</td><td style=\"text-align: right;\">  6.85603</td><td style=\"text-align: right;\">   6.88644</td></tr>\n",
              "</tbody>\n",
              "</table>"
            ]
          },
          "metadata": {
            "tags": []
          }
        },
        {
          "output_type": "execute_result",
          "data": {
            "text/plain": [
              ""
            ]
          },
          "metadata": {
            "tags": []
          },
          "execution_count": 44
        }
      ]
    },
    {
      "cell_type": "markdown",
      "metadata": {
        "id": "Ip0m4xuxbfTX"
      },
      "source": [
        "Please note that the predict column has the predictions for the XGBoost model, and the predict0 column has the predictions for the Deep Learning model. As we can see in the image above, both predictions are close to the actual values. Although there might be some predictions that might be very off, the RMSE and MAE proved to us that both models make good predictions."
      ]
    },
    {
      "cell_type": "markdown",
      "metadata": {
        "id": "u-hF29HibteT"
      },
      "source": [
        ""
      ]
    },
    {
      "cell_type": "code",
      "metadata": {
        "id": "jpo5_7u0bGBb"
      },
      "source": [
        ""
      ],
      "execution_count": null,
      "outputs": []
    }
  ]
}